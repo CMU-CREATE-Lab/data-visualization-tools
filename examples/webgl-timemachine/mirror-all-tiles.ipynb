{
 "metadata": {
  "name": "",
  "signature": "sha256:b1eda555dc7ea56e72534edb7909f06e11324b72ab66102f9726bdb6df5d66ff"
 },
 "nbformat": 3,
 "nbformat_minor": 0,
 "worksheets": [
  {
   "cells": [
    {
     "cell_type": "code",
     "collapsed": false,
     "input": [
      "import json, math, os, urllib2, sys"
     ],
     "language": "python",
     "metadata": {},
     "outputs": []
    },
    {
     "cell_type": "code",
     "collapsed": false,
     "input": [
      "upperLeft = [-180, 85]\n",
      "if 'START' in os.environ:\n",
      "    upperLeft = [float(os.environ['START']), 85]\n",
      "lowerRight = [180, -85]\n",
      "if 'END' in os.environ:\n",
      "    lowerRight = [float(os.environ['END']), -85]\n",
      "\n",
      "print 'Mirroring %s to %s' % (upperLeft, lowerRight)"
     ],
     "language": "python",
     "metadata": {},
     "outputs": [
      {
       "output_type": "stream",
       "stream": "stdout",
       "text": [
        "Mirroring [-180, 85] to [180, -85]\n"
       ]
      }
     ],
     "prompt_number": 4
    },
    {
     "cell_type": "code",
     "collapsed": false,
     "input": [
      "# Use google maps Mercator projection to convert from\n",
      "# [lon, lat] in degrees to 0-256\n",
      "\n",
      "def LonLatToPixelXY(lonlat):\n",
      "    (lon, lat) = lonlat\n",
      "    x = (lon + 180.0) * 256.0 / 360.0\n",
      "    y = 128.0 - math.log(math.tan((lat + 90.0) * math.pi / 360.0)) * 128.0 / math.pi\n",
      "    return [x, y]\n",
      "\n",
      "def PixelXYToLonLat(xy):\n",
      "    (x, y) = xy\n",
      "    lat = math.atan(math.exp((128.0 - y) * math.pi / 128.0)) * 360.0 / math.pi - 90.0\n",
      "    lon = x * 360.0 / 256.0 - 180.0\n",
      "    return [lon, lat]"
     ],
     "language": "python",
     "metadata": {},
     "outputs": []
    },
    {
     "cell_type": "code",
     "collapsed": false,
     "input": [
      "root = 'https://earthengine.google.org/timelapse/data/20130507/1068x600'\n",
      "r = json.loads(urllib2.urlopen(root + '/r.json').read())\n",
      "r"
     ],
     "language": "python",
     "metadata": {},
     "outputs": []
    },
    {
     "cell_type": "code",
     "collapsed": false,
     "input": [
      "def fetch_tile(level, x, y):\n",
      "    name = '%d/%d/%d.mp4' % (level, y * 4, x * 4)\n",
      "    src = '%s/%s' % (root, name)\n",
      "    dest = '1068x600/%s' % name\n",
      "    if os.path.exists(dest):\n",
      "        print '  %s already exists, skipping' % dest\n",
      "    elif os.path.exists(dest + '.404'):\n",
      "        print '  %s.404 alreadys exists, skipping' % dest\n",
      "    else:\n",
      "        try:\n",
      "            os.makedirs(os.path.dirname(dest))\n",
      "        except OSError:\n",
      "            pass\n",
      "        try:\n",
      "            data = urllib2.urlopen(src).read()\n",
      "        except:\n",
      "            print '  Error fetching %s: %s' % (src, sys.exc_info()[1])\n",
      "            open(dest + '.404', 'w').write('')\n",
      "            return\n",
      "        open(dest + '.tmp', 'w').write(data)\n",
      "        os.rename(dest + '.tmp', dest)\n",
      "        print '  Mirrored %d bytes to %s from %s' % (len(data), dest, src)\n",
      "    \n",
      "(leftProj, topProj) = LonLatToPixelXY(upperLeft)\n",
      "(rightProj, bottomProj) = LonLatToPixelXY(lowerRight)\n",
      "\n",
      "for level in range(0, r['nlevels']):\n",
      "    subsample = (r['nlevels'] - 1 - level)\n",
      "    left = int(math.floor(leftProj * r['width'] / 256.0 / r['video_width'])) >> subsample\n",
      "    right = int(math.ceil(rightProj * r['width'] / 256.0 / r['video_width'])) >> subsample\n",
      "    top = int(math.floor(topProj * r['height'] / 256.0 / r['video_height'])) >> subsample\n",
      "    bottom = int(math.floor(bottomProj * r['height'] / 256.0 / r['video_height'])) >> subsample\n",
      "    print ('At level %d want to fetch from (%d, %d) to (%d, %d)' %\n",
      "        (level, left, top, right, bottom))\n",
      "\n",
      "    for y in range(top, bottom + 1):\n",
      "        for x in range(left, right + 1):\n",
      "            fetch_tile(level, x, y)"
     ],
     "language": "python",
     "metadata": {},
     "outputs": []
    },
    {
     "cell_type": "markdown",
     "metadata": {},
     "source": [
      "    cd /earthtime/data-visualization-tools/examples/webgl-timemachine/;  START=90 END=180 ./mirror-all-tiles.py\n",
      "\n"
     ]
    },
    {
     "cell_type": "code",
     "collapsed": false,
     "input": [],
     "language": "python",
     "metadata": {},
     "outputs": []
    }
   ],
   "metadata": {}
  }
 ]
}