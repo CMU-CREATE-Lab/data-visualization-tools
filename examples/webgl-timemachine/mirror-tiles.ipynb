{
 "metadata": {
  "name": "",
  "signature": "sha256:b72140de529a8ed8b9b446254dc4d31e11573252b2bd29a9974b43f461c4bd85"
 },
 "nbformat": 3,
 "nbformat_minor": 0,
 "worksheets": [
  {
   "cells": [
    {
     "cell_type": "code",
     "collapsed": false,
     "input": [
      "import json, math, os, urllib2"
     ],
     "language": "python",
     "metadata": {},
     "outputs": [],
     "prompt_number": 4
    },
    {
     "cell_type": "code",
     "collapsed": false,
     "input": [
      "upperLeft = [-100, 36]\n",
      "lowerRight = [-88, 28]"
     ],
     "language": "python",
     "metadata": {},
     "outputs": [],
     "prompt_number": 9
    },
    {
     "cell_type": "code",
     "collapsed": false,
     "input": [
      "# Use google maps Mercator projection to convert from\n",
      "# [lon, lat] in degrees to 0-256\n",
      "\n",
      "def LonLatToPixelXY(lonlat):\n",
      "    (lon, lat) = lonlat\n",
      "    x = (lon + 180.0) * 256.0 / 360.0\n",
      "    y = 128.0 - math.log(math.tan((lat + 90.0) * math.pi / 360.0)) * 128.0 / math.pi\n",
      "    return [x, y]\n",
      "\n",
      "def PixelXYToLonLat(xy):\n",
      "    (x, y) = xy\n",
      "    lat = math.atan(math.exp((128.0 - y) * math.pi / 128.0)) * 360.0 / math.pi - 90.0\n",
      "    lon = x * 360.0 / 256.0 - 180.0\n",
      "    return [lon, lat]"
     ],
     "language": "python",
     "metadata": {},
     "outputs": [],
     "prompt_number": 10
    },
    {
     "cell_type": "code",
     "collapsed": false,
     "input": [
      "root = 'https://earthengine.google.org/timelapse/data/20130507/1068x600'\n",
      "r = json.loads(urllib2.urlopen(root + '/r.json').read())\n",
      "r"
     ],
     "language": "python",
     "metadata": {},
     "outputs": [
      {
       "metadata": {},
       "output_type": "pyout",
       "prompt_number": 11,
       "text": [
        "{u'fps': 10.0,\n",
        " u'frames': 29,\n",
        " u'height': 1335834,\n",
        " u'leader': 0,\n",
        " u'level_info': [{u'cols': 1, u'rows': 1},\n",
        "  {u'cols': 1, u'rows': 4},\n",
        "  {u'cols': 5, u'rows': 11},\n",
        "  {u'cols': 12, u'rows': 24},\n",
        "  {u'cols': 27, u'rows': 50},\n",
        "  {u'cols': 56, u'rows': 102},\n",
        "  {u'cols': 115, u'rows': 206},\n",
        "  {u'cols': 232, u'rows': 415},\n",
        "  {u'cols': 467, u'rows': 832},\n",
        "  {u'cols': 936, u'rows': 1667},\n",
        "  {u'cols': 1874, u'rows': 3337},\n",
        "  {u'cols': 3750, u'rows': 6677}],\n",
        " u'level_scale': 2.0,\n",
        " u'nlevels': 12,\n",
        " u'tile_height': 200,\n",
        " u'tile_width': 356,\n",
        " u'video_height': 800,\n",
        " u'video_width': 1424,\n",
        " u'width': 1335834}"
       ]
      }
     ],
     "prompt_number": 11
    },
    {
     "cell_type": "code",
     "collapsed": false,
     "input": [
      "def fetch_tile(level, x, y):\n",
      "    name = '%d/%d/%d.mp4' % (level, y * 4, x * 4)\n",
      "    src = '%s/%s' % (root, name)\n",
      "    dest = '1068x600/%s' % name\n",
      "    if os.path.exists(dest):\n",
      "        print '  %s already exists, skipping' % dest\n",
      "    else:\n",
      "        try:\n",
      "            os.makedirs(os.path.dirname(dest))\n",
      "        except OSError:\n",
      "            pass\n",
      "        data = urllib2.urlopen(src).read()\n",
      "        open(dest + '.tmp', 'w').write(data)\n",
      "        os.rename(dest + '.tmp', dest)\n",
      "        print '  Mirrored %d bytes to %s from %s' % (len(data), dest, src)\n",
      "    \n",
      "(leftProj, topProj) = LonLatToPixelXY(upperLeft)\n",
      "(rightProj, bottomProj) = LonLatToPixelXY(lowerRight)\n",
      "\n",
      "for level in range(0, r['nlevels']):\n",
      "    subsample = (r['nlevels'] - 1 - level)\n",
      "    left = int(math.floor(leftProj * r['width'] / 256.0 / r['video_width'])) >> subsample\n",
      "    right = int(math.ceil(rightProj * r['width'] / 256.0 / r['video_width'])) >> subsample\n",
      "    top = int(math.floor(topProj * r['height'] / 256.0 / r['video_height'])) >> subsample\n",
      "    bottom = int(math.floor(bottomProj * r['height'] / 256.0 / r['video_height'])) >> subsample\n",
      "    print ('At level %d want to fetch from (%d, %d) to (%d, %d)' %\n",
      "        (level, left, top, right, bottom))\n",
      "\n",
      "    for y in range(top, bottom + 1):\n",
      "        for x in range(left, right + 1):\n",
      "            fetch_tile(level, x, y)"
     ],
     "language": "python",
     "metadata": {},
     "outputs": [
      {
       "output_type": "stream",
       "stream": "stdout",
       "text": [
        "At level 0 want to fetch from (0, 0) to (0, 0)\n",
        "  1068x600/0/0/0.mp4 already exists, skipping\n",
        "At level 1 want to fetch from (0, 0) to (0, 0)\n",
        "  1068x600/1/0/0.mp4 already exists, skipping\n",
        "At level 2 want to fetch from (0, 1) to (0, 1)\n",
        "  1068x600/2/4/0.mp4 already exists, skipping\n",
        "At level 3 want to fetch from (0, 2) to (0, 2)\n",
        "  1068x600/3/8/0.mp4 already exists, skipping\n",
        "At level 4 want to fetch from (1, 5) to (1, 5)\n",
        "  1068x600/4/20/4.mp4 already exists, skipping\n",
        "At level 5 want to fetch from (3, 10) to (3, 10)\n",
        "  1068x600/5/40/12.mp4 already exists, skipping\n",
        "At level 6 want to fetch from (6, 20) to (7, 21)\n",
        "  1068x600/6/80/24.mp4 already exists, skipping\n",
        "  1068x600/6/80/28.mp4 already exists, skipping\n",
        "  1068x600/6/84/24.mp4 already exists, skipping\n",
        "  1068x600/6/84/28.mp4 already exists, skipping\n",
        "At level 7 want to fetch from (13, 40) to (15, 43)\n",
        "  1068x600/7/160/52.mp4 already exists, skipping\n",
        "  1068x600/7/160/56.mp4 already exists, skipping\n",
        "  Mirrored 1597984 bytes to 1068x600/7/160/60.mp4 from https://earthengine.google.org/timelapse/data/20130507/1068x600/7/160/60.mp4"
       ]
      },
      {
       "output_type": "stream",
       "stream": "stdout",
       "text": [
        "\n",
        "  1068x600/7/164/52.mp4 already exists, skipping\n",
        "  1068x600/7/164/56.mp4 already exists, skipping\n",
        "  Mirrored 1857805 bytes to 1068x600/7/164/60.mp4 from https://earthengine.google.org/timelapse/data/20130507/1068x600/7/164/60.mp4"
       ]
      },
      {
       "output_type": "stream",
       "stream": "stdout",
       "text": [
        "\n",
        "  1068x600/7/168/52.mp4 already exists, skipping\n",
        "  1068x600/7/168/56.mp4 already exists, skipping\n",
        "  Mirrored 2375940 bytes to 1068x600/7/168/60.mp4 from https://earthengine.google.org/timelapse/data/20130507/1068x600/7/168/60.mp4"
       ]
      },
      {
       "output_type": "stream",
       "stream": "stdout",
       "text": [
        "\n",
        "  1068x600/7/172/52.mp4 already exists, skipping\n",
        "  1068x600/7/172/56.mp4 already exists, skipping\n",
        "  Mirrored 521995 bytes to 1068x600/7/172/60.mp4 from https://earthengine.google.org/timelapse/data/20130507/1068x600/7/172/60.mp4"
       ]
      },
      {
       "output_type": "stream",
       "stream": "stdout",
       "text": [
        "\n",
        "At level 8 want to fetch from (26, 81) to (30, 87)\n",
        "  1068x600/8/324/104.mp4 already exists, skipping\n",
        "  1068x600/8/324/108.mp4 already exists, skipping\n",
        "  1068x600/8/324/112.mp4 already exists, skipping\n",
        "  Mirrored 2009263 bytes to 1068x600/8/324/116.mp4 from https://earthengine.google.org/timelapse/data/20130507/1068x600/8/324/116.mp4"
       ]
      },
      {
       "output_type": "stream",
       "stream": "stdout",
       "text": [
        "\n",
        "  Mirrored 1843119 bytes to 1068x600/8/324/120.mp4 from https://earthengine.google.org/timelapse/data/20130507/1068x600/8/324/120.mp4"
       ]
      },
      {
       "output_type": "stream",
       "stream": "stdout",
       "text": [
        "\n",
        "  1068x600/8/328/104.mp4 already exists, skipping\n",
        "  1068x600/8/328/108.mp4 already exists, skipping\n",
        "  1068x600/8/328/112.mp4 already exists, skipping\n",
        "  Mirrored 2036419 bytes to 1068x600/8/328/116.mp4 from https://earthengine.google.org/timelapse/data/20130507/1068x600/8/328/116.mp4"
       ]
      },
      {
       "output_type": "stream",
       "stream": "stdout",
       "text": [
        "\n",
        "  Mirrored 1832072 bytes to 1068x600/8/328/120.mp4 from https://earthengine.google.org/timelapse/data/20130507/1068x600/8/328/120.mp4"
       ]
      },
      {
       "output_type": "stream",
       "stream": "stdout",
       "text": [
        "\n",
        "  1068x600/8/332/104.mp4 already exists, skipping\n",
        "  1068x600/8/332/108.mp4 already exists, skipping\n",
        "  1068x600/8/332/112.mp4 already exists, skipping\n",
        "  Mirrored 2036369 bytes to 1068x600/8/332/116.mp4 from https://earthengine.google.org/timelapse/data/20130507/1068x600/8/332/116.mp4"
       ]
      },
      {
       "output_type": "stream",
       "stream": "stdout",
       "text": [
        "\n",
        "  Mirrored 2005885 bytes to 1068x600/8/332/120.mp4 from https://earthengine.google.org/timelapse/data/20130507/1068x600/8/332/120.mp4"
       ]
      },
      {
       "output_type": "stream",
       "stream": "stdout",
       "text": [
        "\n",
        "  1068x600/8/336/104.mp4 already exists, skipping\n",
        "  1068x600/8/336/108.mp4 already exists, skipping\n",
        "  1068x600/8/336/112.mp4 already exists, skipping\n",
        "  Mirrored 1978593 bytes to 1068x600/8/336/116.mp4 from https://earthengine.google.org/timelapse/data/20130507/1068x600/8/336/116.mp4"
       ]
      },
      {
       "output_type": "stream",
       "stream": "stdout",
       "text": [
        "\n",
        "  Mirrored 1973451 bytes to 1068x600/8/336/120.mp4 from https://earthengine.google.org/timelapse/data/20130507/1068x600/8/336/120.mp4"
       ]
      },
      {
       "output_type": "stream",
       "stream": "stdout",
       "text": [
        "\n",
        "  1068x600/8/340/104.mp4 already exists, skipping\n",
        "  1068x600/8/340/108.mp4 already exists, skipping\n",
        "  1068x600/8/340/112.mp4 already exists, skipping\n",
        "  Mirrored 1812399 bytes to 1068x600/8/340/116.mp4 from https://earthengine.google.org/timelapse/data/20130507/1068x600/8/340/116.mp4"
       ]
      },
      {
       "output_type": "stream",
       "stream": "stdout",
       "text": [
        "\n",
        "  Mirrored 2092053 bytes to 1068x600/8/340/120.mp4 from https://earthengine.google.org/timelapse/data/20130507/1068x600/8/340/120.mp4"
       ]
      },
      {
       "output_type": "stream",
       "stream": "stdout",
       "text": [
        "\n",
        "  1068x600/8/344/104.mp4 already exists, skipping\n",
        "  1068x600/8/344/108.mp4 already exists, skipping\n",
        "  1068x600/8/344/112.mp4 already exists, skipping\n",
        "  Mirrored 646665 bytes to 1068x600/8/344/116.mp4 from https://earthengine.google.org/timelapse/data/20130507/1068x600/8/344/116.mp4"
       ]
      },
      {
       "output_type": "stream",
       "stream": "stdout",
       "text": [
        "\n",
        "  Mirrored 259515 bytes to 1068x600/8/344/120.mp4 from https://earthengine.google.org/timelapse/data/20130507/1068x600/8/344/120.mp4"
       ]
      },
      {
       "output_type": "stream",
       "stream": "stdout",
       "text": [
        "\n",
        "  Mirrored 1698955 bytes to 1068x600/8/348/104.mp4 from https://earthengine.google.org/timelapse/data/20130507/1068x600/8/348/104.mp4"
       ]
      },
      {
       "output_type": "stream",
       "stream": "stdout",
       "text": [
        "\n",
        "  Mirrored 357876 bytes to 1068x600/8/348/108.mp4 from https://earthengine.google.org/timelapse/data/20130507/1068x600/8/348/108.mp4"
       ]
      },
      {
       "output_type": "stream",
       "stream": "stdout",
       "text": [
        "\n",
        "  Mirrored 72340 bytes to 1068x600/8/348/112.mp4 from https://earthengine.google.org/timelapse/data/20130507/1068x600/8/348/112.mp4"
       ]
      },
      {
       "output_type": "stream",
       "stream": "stdout",
       "text": [
        "\n",
        "  Mirrored 42013 bytes to 1068x600/8/348/116.mp4 from https://earthengine.google.org/timelapse/data/20130507/1068x600/8/348/116.mp4"
       ]
      },
      {
       "output_type": "stream",
       "stream": "stdout",
       "text": [
        "\n",
        "  Mirrored 3560 bytes to 1068x600/8/348/120.mp4 from https://earthengine.google.org/timelapse/data/20130507/1068x600/8/348/120.mp4"
       ]
      },
      {
       "output_type": "stream",
       "stream": "stdout",
       "text": [
        "\n",
        "At level 9 want to fetch from (52, 163) to (60, 174)\n",
        "  1068x600/9/652/208.mp4 already exists, skipping\n",
        "  1068x600/9/652/212.mp4 already exists, skipping\n",
        "  1068x600/9/652/216.mp4 already exists, skipping\n",
        "  1068x600/9/652/220.mp4 already exists, skipping\n",
        "  1068x600/9/652/224.mp4 already exists, skipping\n",
        "  Mirrored 1595804 bytes to 1068x600/9/652/228.mp4 from https://earthengine.google.org/timelapse/data/20130507/1068x600/9/652/228.mp4"
       ]
      },
      {
       "output_type": "stream",
       "stream": "stdout",
       "text": [
        "\n",
        "  Mirrored 2217405 bytes to 1068x600/9/652/232.mp4 from https://earthengine.google.org/timelapse/data/20130507/1068x600/9/652/232.mp4"
       ]
      },
      {
       "output_type": "stream",
       "stream": "stdout",
       "text": [
        "\n",
        "  Mirrored 1898732 bytes to 1068x600/9/652/236.mp4 from https://earthengine.google.org/timelapse/data/20130507/1068x600/9/652/236.mp4"
       ]
      },
      {
       "output_type": "stream",
       "stream": "stdout",
       "text": [
        "\n",
        "  Mirrored 1798344 bytes to 1068x600/9/652/240.mp4 from https://earthengine.google.org/timelapse/data/20130507/1068x600/9/652/240.mp4"
       ]
      },
      {
       "output_type": "stream",
       "stream": "stdout",
       "text": [
        "\n",
        "  1068x600/9/656/208.mp4 already exists, skipping\n",
        "  1068x600/9/656/212.mp4 already exists, skipping\n",
        "  1068x600/9/656/216.mp4 already exists, skipping\n",
        "  1068x600/9/656/220.mp4 already exists, skipping\n",
        "  1068x600/9/656/224.mp4 already exists, skipping\n",
        "  Mirrored 1874552 bytes to 1068x600/9/656/228.mp4 from https://earthengine.google.org/timelapse/data/20130507/1068x600/9/656/228.mp4"
       ]
      },
      {
       "output_type": "stream",
       "stream": "stdout",
       "text": [
        "\n",
        "  Mirrored 2061433 bytes to 1068x600/9/656/232.mp4 from https://earthengine.google.org/timelapse/data/20130507/1068x600/9/656/232.mp4"
       ]
      },
      {
       "output_type": "stream",
       "stream": "stdout",
       "text": [
        "\n",
        "  Mirrored 1866195 bytes to 1068x600/9/656/236.mp4 from https://earthengine.google.org/timelapse/data/20130507/1068x600/9/656/236.mp4"
       ]
      },
      {
       "output_type": "stream",
       "stream": "stdout",
       "text": [
        "\n",
        "  Mirrored 1680568 bytes to 1068x600/9/656/240.mp4 from https://earthengine.google.org/timelapse/data/20130507/1068x600/9/656/240.mp4"
       ]
      },
      {
       "output_type": "stream",
       "stream": "stdout",
       "text": [
        "\n",
        "  1068x600/9/660/208.mp4 already exists, skipping\n",
        "  1068x600/9/660/212.mp4 already exists, skipping\n",
        "  1068x600/9/660/216.mp4 already exists, skipping\n",
        "  1068x600/9/660/220.mp4 already exists, skipping\n",
        "  1068x600/9/660/224.mp4 already exists, skipping\n",
        "  Mirrored 2041213 bytes to 1068x600/9/660/228.mp4 from https://earthengine.google.org/timelapse/data/20130507/1068x600/9/660/228.mp4"
       ]
      },
      {
       "output_type": "stream",
       "stream": "stdout",
       "text": [
        "\n",
        "  Mirrored 2008975 bytes to 1068x600/9/660/232.mp4 from https://earthengine.google.org/timelapse/data/20130507/1068x600/9/660/232.mp4"
       ]
      },
      {
       "output_type": "stream",
       "stream": "stdout",
       "text": [
        "\n",
        "  Mirrored 1787284 bytes to 1068x600/9/660/236.mp4 from https://earthengine.google.org/timelapse/data/20130507/1068x600/9/660/236.mp4"
       ]
      },
      {
       "output_type": "stream",
       "stream": "stdout",
       "text": [
        "\n",
        "  Mirrored 1934686 bytes to 1068x600/9/660/240.mp4 from https://earthengine.google.org/timelapse/data/20130507/1068x600/9/660/240.mp4"
       ]
      },
      {
       "output_type": "stream",
       "stream": "stdout",
       "text": [
        "\n",
        "  1068x600/9/664/208.mp4 already exists, skipping\n",
        "  1068x600/9/664/212.mp4 already exists, skipping\n",
        "  1068x600/9/664/216.mp4 already exists, skipping\n",
        "  1068x600/9/664/220.mp4 already exists, skipping\n",
        "  1068x600/9/664/224.mp4 already exists, skipping\n",
        "  Mirrored 1804005 bytes to 1068x600/9/664/228.mp4 from https://earthengine.google.org/timelapse/data/20130507/1068x600/9/664/228.mp4"
       ]
      },
      {
       "output_type": "stream",
       "stream": "stdout",
       "text": [
        "\n",
        "  Mirrored 1906456 bytes to 1068x600/9/664/232.mp4 from https://earthengine.google.org/timelapse/data/20130507/1068x600/9/664/232.mp4"
       ]
      },
      {
       "output_type": "stream",
       "stream": "stdout",
       "text": [
        "\n",
        "  Mirrored 1887263 bytes to 1068x600/9/664/236.mp4 from https://earthengine.google.org/timelapse/data/20130507/1068x600/9/664/236.mp4"
       ]
      },
      {
       "output_type": "stream",
       "stream": "stdout",
       "text": [
        "\n",
        "  Mirrored 1988826 bytes to 1068x600/9/664/240.mp4 from https://earthengine.google.org/timelapse/data/20130507/1068x600/9/664/240.mp4"
       ]
      },
      {
       "output_type": "stream",
       "stream": "stdout",
       "text": [
        "\n",
        "  1068x600/9/668/208.mp4 already exists, skipping\n",
        "  1068x600/9/668/212.mp4 already exists, skipping\n",
        "  1068x600/9/668/216.mp4 already exists, skipping\n",
        "  1068x600/9/668/220.mp4 already exists, skipping\n",
        "  1068x600/9/668/224.mp4 already exists, skipping\n",
        "  Mirrored 1682233 bytes to 1068x600/9/668/228.mp4 from https://earthengine.google.org/timelapse/data/20130507/1068x600/9/668/228.mp4"
       ]
      },
      {
       "output_type": "stream",
       "stream": "stdout",
       "text": [
        "\n",
        "  Mirrored 1965796 bytes to 1068x600/9/668/232.mp4 from https://earthengine.google.org/timelapse/data/20130507/1068x600/9/668/232.mp4"
       ]
      },
      {
       "output_type": "stream",
       "stream": "stdout",
       "text": [
        "\n",
        "  Mirrored 1737651 bytes to 1068x600/9/668/236.mp4 from https://earthengine.google.org/timelapse/data/20130507/1068x600/9/668/236.mp4"
       ]
      },
      {
       "output_type": "stream",
       "stream": "stdout",
       "text": [
        "\n",
        "  Mirrored 1850370 bytes to 1068x600/9/668/240.mp4 from https://earthengine.google.org/timelapse/data/20130507/1068x600/9/668/240.mp4"
       ]
      },
      {
       "output_type": "stream",
       "stream": "stdout",
       "text": [
        "\n",
        "  1068x600/9/672/208.mp4 already exists, skipping\n",
        "  1068x600/9/672/212.mp4 already exists, skipping\n",
        "  1068x600/9/672/216.mp4 already exists, skipping\n",
        "  1068x600/9/672/220.mp4 already exists, skipping\n",
        "  1068x600/9/672/224.mp4 already exists, skipping\n",
        "  Mirrored 1887181 bytes to 1068x600/9/672/228.mp4 from https://earthengine.google.org/timelapse/data/20130507/1068x600/9/672/228.mp4"
       ]
      },
      {
       "output_type": "stream",
       "stream": "stdout",
       "text": [
        "\n",
        "  Mirrored 1817320 bytes to 1068x600/9/672/232.mp4 from https://earthengine.google.org/timelapse/data/20130507/1068x600/9/672/232.mp4"
       ]
      },
      {
       "output_type": "stream",
       "stream": "stdout",
       "text": [
        "\n",
        "  Mirrored 1752548 bytes to 1068x600/9/672/236.mp4 from https://earthengine.google.org/timelapse/data/20130507/1068x600/9/672/236.mp4"
       ]
      },
      {
       "output_type": "stream",
       "stream": "stdout",
       "text": [
        "\n",
        "  Mirrored 1738550 bytes to 1068x600/9/672/240.mp4 from https://earthengine.google.org/timelapse/data/20130507/1068x600/9/672/240.mp4"
       ]
      },
      {
       "output_type": "stream",
       "stream": "stdout",
       "text": [
        "\n",
        "  1068x600/9/676/208.mp4 already exists, skipping\n",
        "  1068x600/9/676/212.mp4 already exists, skipping\n",
        "  1068x600/9/676/216.mp4 already exists, skipping\n",
        "  1068x600/9/676/220.mp4 already exists, skipping\n",
        "  1068x600/9/676/224.mp4 already exists, skipping\n",
        "  Mirrored 1707558 bytes to 1068x600/9/676/228.mp4 from https://earthengine.google.org/timelapse/data/20130507/1068x600/9/676/228.mp4"
       ]
      },
      {
       "output_type": "stream",
       "stream": "stdout",
       "text": [
        "\n",
        "  Mirrored 1855931 bytes to 1068x600/9/676/232.mp4 from https://earthengine.google.org/timelapse/data/20130507/1068x600/9/676/232.mp4"
       ]
      },
      {
       "output_type": "stream",
       "stream": "stdout",
       "text": [
        "\n",
        "  Mirrored 1758475 bytes to 1068x600/9/676/236.mp4 from https://earthengine.google.org/timelapse/data/20130507/1068x600/9/676/236.mp4"
       ]
      },
      {
       "output_type": "stream",
       "stream": "stdout",
       "text": [
        "\n",
        "  Mirrored 1712182 bytes to 1068x600/9/676/240.mp4 from https://earthengine.google.org/timelapse/data/20130507/1068x600/9/676/240.mp4"
       ]
      },
      {
       "output_type": "stream",
       "stream": "stdout",
       "text": [
        "\n",
        "  1068x600/9/680/208.mp4 already exists, skipping\n",
        "  1068x600/9/680/212.mp4 already exists, skipping\n",
        "  1068x600/9/680/216.mp4 already exists, skipping\n",
        "  1068x600/9/680/220.mp4 already exists, skipping\n",
        "  1068x600/9/680/224.mp4 already exists, skipping\n",
        "  Mirrored 1644522 bytes to 1068x600/9/680/228.mp4 from https://earthengine.google.org/timelapse/data/20130507/1068x600/9/680/228.mp4"
       ]
      },
      {
       "output_type": "stream",
       "stream": "stdout",
       "text": [
        "\n",
        "  Mirrored 2012750 bytes to 1068x600/9/680/232.mp4 from https://earthengine.google.org/timelapse/data/20130507/1068x600/9/680/232.mp4"
       ]
      },
      {
       "output_type": "stream",
       "stream": "stdout",
       "text": [
        "\n",
        "  Mirrored 1763356 bytes to 1068x600/9/680/236.mp4 from https://earthengine.google.org/timelapse/data/20130507/1068x600/9/680/236.mp4"
       ]
      },
      {
       "output_type": "stream",
       "stream": "stdout",
       "text": [
        "\n",
        "  Mirrored 1843696 bytes to 1068x600/9/680/240.mp4 from https://earthengine.google.org/timelapse/data/20130507/1068x600/9/680/240.mp4"
       ]
      },
      {
       "output_type": "stream",
       "stream": "stdout",
       "text": [
        "\n",
        "  1068x600/9/684/208.mp4 already exists, skipping\n",
        "  1068x600/9/684/212.mp4 already exists, skipping\n",
        "  1068x600/9/684/216.mp4 already exists, skipping\n",
        "  1068x600/9/684/220.mp4 already exists, skipping\n",
        "  1068x600/9/684/224.mp4 already exists, skipping\n",
        "  Mirrored 1607530 bytes to 1068x600/9/684/228.mp4 from https://earthengine.google.org/timelapse/data/20130507/1068x600/9/684/228.mp4"
       ]
      },
      {
       "output_type": "stream",
       "stream": "stdout",
       "text": [
        "\n",
        "  Mirrored 1540172 bytes to 1068x600/9/684/232.mp4 from https://earthengine.google.org/timelapse/data/20130507/1068x600/9/684/232.mp4"
       ]
      },
      {
       "output_type": "stream",
       "stream": "stdout",
       "text": [
        "\n",
        "  Mirrored 1374076 bytes to 1068x600/9/684/236.mp4 from https://earthengine.google.org/timelapse/data/20130507/1068x600/9/684/236.mp4"
       ]
      },
      {
       "output_type": "stream",
       "stream": "stdout",
       "text": [
        "\n",
        "  Mirrored 1415961 bytes to 1068x600/9/684/240.mp4 from https://earthengine.google.org/timelapse/data/20130507/1068x600/9/684/240.mp4"
       ]
      },
      {
       "output_type": "stream",
       "stream": "stdout",
       "text": [
        "\n",
        "  1068x600/9/688/208.mp4 already exists, skipping\n",
        "  1068x600/9/688/212.mp4 already exists, skipping\n",
        "  1068x600/9/688/216.mp4 already exists, skipping\n",
        "  1068x600/9/688/220.mp4 already exists, skipping\n",
        "  1068x600/9/688/224.mp4 already exists, skipping\n",
        "  Mirrored 1351070 bytes to 1068x600/9/688/228.mp4 from https://earthengine.google.org/timelapse/data/20130507/1068x600/9/688/228.mp4"
       ]
      },
      {
       "output_type": "stream",
       "stream": "stdout",
       "text": [
        "\n",
        "  Mirrored 1178602 bytes to 1068x600/9/688/232.mp4 from https://earthengine.google.org/timelapse/data/20130507/1068x600/9/688/232.mp4"
       ]
      },
      {
       "output_type": "stream",
       "stream": "stdout",
       "text": [
        "\n",
        "  Mirrored 437481 bytes to 1068x600/9/688/236.mp4 from https://earthengine.google.org/timelapse/data/20130507/1068x600/9/688/236.mp4"
       ]
      },
      {
       "output_type": "stream",
       "stream": "stdout",
       "text": [
        "\n",
        "  Mirrored 225135 bytes to 1068x600/9/688/240.mp4 from https://earthengine.google.org/timelapse/data/20130507/1068x600/9/688/240.mp4"
       ]
      },
      {
       "output_type": "stream",
       "stream": "stdout",
       "text": [
        "\n",
        "  1068x600/9/692/208.mp4 already exists, skipping\n",
        "  1068x600/9/692/212.mp4 already exists, skipping\n",
        "  1068x600/9/692/216.mp4 already exists, skipping\n",
        "  1068x600/9/692/220.mp4 already exists, skipping\n",
        "  1068x600/9/692/224.mp4 already exists, skipping\n",
        "  Mirrored 410773 bytes to 1068x600/9/692/228.mp4 from https://earthengine.google.org/timelapse/data/20130507/1068x600/9/692/228.mp4"
       ]
      },
      {
       "output_type": "stream",
       "stream": "stdout",
       "text": [
        "\n",
        "  Mirrored 567724 bytes to 1068x600/9/692/232.mp4 from https://earthengine.google.org/timelapse/data/20130507/1068x600/9/692/232.mp4"
       ]
      },
      {
       "output_type": "stream",
       "stream": "stdout",
       "text": [
        "\n",
        "  Mirrored 403103 bytes to 1068x600/9/692/236.mp4 from https://earthengine.google.org/timelapse/data/20130507/1068x600/9/692/236.mp4"
       ]
      },
      {
       "output_type": "stream",
       "stream": "stdout",
       "text": [
        "\n",
        "  Mirrored 23858 bytes to 1068x600/9/692/240.mp4 from https://earthengine.google.org/timelapse/data/20130507/1068x600/9/692/240.mp4"
       ]
      },
      {
       "output_type": "stream",
       "stream": "stdout",
       "text": [
        "\n",
        "  Mirrored 1791656 bytes to 1068x600/9/696/208.mp4 from https://earthengine.google.org/timelapse/data/20130507/1068x600/9/696/208.mp4"
       ]
      },
      {
       "output_type": "stream",
       "stream": "stdout",
       "text": [
        "\n",
        "  Mirrored 1656699 bytes to 1068x600/9/696/212.mp4 from https://earthengine.google.org/timelapse/data/20130507/1068x600/9/696/212.mp4"
       ]
      },
      {
       "output_type": "stream",
       "stream": "stdout",
       "text": [
        "\n",
        "  Mirrored 877206 bytes to 1068x600/9/696/216.mp4 from https://earthengine.google.org/timelapse/data/20130507/1068x600/9/696/216.mp4"
       ]
      },
      {
       "output_type": "stream",
       "stream": "stdout",
       "text": [
        "\n",
        "  Mirrored 226216 bytes to 1068x600/9/696/220.mp4 from https://earthengine.google.org/timelapse/data/20130507/1068x600/9/696/220.mp4"
       ]
      },
      {
       "output_type": "stream",
       "stream": "stdout",
       "text": [
        "\n",
        "  Mirrored 148098 bytes to 1068x600/9/696/224.mp4 from https://earthengine.google.org/timelapse/data/20130507/1068x600/9/696/224.mp4"
       ]
      },
      {
       "output_type": "stream",
       "stream": "stdout",
       "text": [
        "\n",
        "  Mirrored 122725 bytes to 1068x600/9/696/228.mp4 from https://earthengine.google.org/timelapse/data/20130507/1068x600/9/696/228.mp4"
       ]
      },
      {
       "output_type": "stream",
       "stream": "stdout",
       "text": [
        "\n",
        "  Mirrored 139497 bytes to 1068x600/9/696/232.mp4 from https://earthengine.google.org/timelapse/data/20130507/1068x600/9/696/232.mp4"
       ]
      },
      {
       "output_type": "stream",
       "stream": "stdout",
       "text": [
        "\n",
        "  Mirrored 15454 bytes to 1068x600/9/696/236.mp4 from https://earthengine.google.org/timelapse/data/20130507/1068x600/9/696/236.mp4"
       ]
      },
      {
       "output_type": "stream",
       "stream": "stdout",
       "text": [
        "\n",
        "  Mirrored 3560 bytes to 1068x600/9/696/240.mp4 from https://earthengine.google.org/timelapse/data/20130507/1068x600/9/696/240.mp4"
       ]
      },
      {
       "output_type": "stream",
       "stream": "stdout",
       "text": [
        "\n",
        "At level 10 want to fetch from (104, 327) to (120, 349)\n",
        "  1068x600/10/1308/416.mp4 already exists, skipping\n",
        "  1068x600/10/1308/420.mp4 already exists, skipping\n",
        "  1068x600/10/1308/424.mp4 already exists, skipping\n",
        "  1068x600/10/1308/428.mp4 already exists, skipping\n",
        "  1068x600/10/1308/432.mp4 already exists, skipping\n",
        "  1068x600/10/1308/436.mp4 already exists, skipping\n",
        "  1068x600/10/1308/440.mp4 already exists, skipping\n",
        "  1068x600/10/1308/444.mp4 already exists, skipping\n",
        "  1068x600/10/1308/448.mp4 already exists, skipping\n",
        "  1068x600/10/1308/452.mp4 already exists, skipping\n",
        "  Mirrored 1320187 bytes to 1068x600/10/1308/456.mp4 from https://earthengine.google.org/timelapse/data/20130507/1068x600/10/1308/456.mp4"
       ]
      },
      {
       "output_type": "stream",
       "stream": "stdout",
       "text": [
        "\n",
        "  Mirrored 1541300 bytes to 1068x600/10/1308/460.mp4 from https://earthengine.google.org/timelapse/data/20130507/1068x600/10/1308/460.mp4"
       ]
      },
      {
       "output_type": "stream",
       "stream": "stdout",
       "text": [
        "\n",
        "  Mirrored 2269473 bytes to 1068x600/10/1308/464.mp4 from https://earthengine.google.org/timelapse/data/20130507/1068x600/10/1308/464.mp4"
       ]
      },
      {
       "output_type": "stream",
       "stream": "stdout",
       "text": [
        "\n",
        "  Mirrored 1785405 bytes to 1068x600/10/1308/468.mp4 from https://earthengine.google.org/timelapse/data/20130507/1068x600/10/1308/468.mp4"
       ]
      },
      {
       "output_type": "stream",
       "stream": "stdout",
       "text": [
        "\n",
        "  Mirrored 1886531 bytes to 1068x600/10/1308/472.mp4 from https://earthengine.google.org/timelapse/data/20130507/1068x600/10/1308/472.mp4"
       ]
      },
      {
       "output_type": "stream",
       "stream": "stdout",
       "text": [
        "\n",
        "  Mirrored 1698483 bytes to 1068x600/10/1308/476.mp4 from https://earthengine.google.org/timelapse/data/20130507/1068x600/10/1308/476.mp4"
       ]
      },
      {
       "output_type": "stream",
       "stream": "stdout",
       "text": [
        "\n",
        "  Mirrored 1411456 bytes to 1068x600/10/1308/480.mp4 from https://earthengine.google.org/timelapse/data/20130507/1068x600/10/1308/480.mp4"
       ]
      },
      {
       "output_type": "stream",
       "stream": "stdout",
       "text": [
        "\n",
        "  1068x600/10/1312/416.mp4 already exists, skipping\n",
        "  1068x600/10/1312/420.mp4 already exists, skipping\n",
        "  1068x600/10/1312/424.mp4 already exists, skipping\n",
        "  1068x600/10/1312/428.mp4 already exists, skipping\n",
        "  1068x600/10/1312/432.mp4 already exists, skipping\n",
        "  1068x600/10/1312/436.mp4 already exists, skipping\n",
        "  1068x600/10/1312/440.mp4 already exists, skipping\n",
        "  1068x600/10/1312/444.mp4 already exists, skipping\n",
        "  1068x600/10/1312/448.mp4 already exists, skipping\n",
        "  1068x600/10/1312/452.mp4 already exists, skipping\n",
        "  Mirrored 1316153 bytes to 1068x600/10/1312/456.mp4 from https://earthengine.google.org/timelapse/data/20130507/1068x600/10/1312/456.mp4"
       ]
      },
      {
       "output_type": "stream",
       "stream": "stdout",
       "text": [
        "\n",
        "  Mirrored 1902248 bytes to 1068x600/10/1312/460.mp4 from https://earthengine.google.org/timelapse/data/20130507/1068x600/10/1312/460.mp4"
       ]
      },
      {
       "output_type": "stream",
       "stream": "stdout",
       "text": [
        "\n",
        "  Mirrored 2201091 bytes to 1068x600/10/1312/464.mp4 from https://earthengine.google.org/timelapse/data/20130507/1068x600/10/1312/464.mp4"
       ]
      },
      {
       "output_type": "stream",
       "stream": "stdout",
       "text": [
        "\n",
        "  Mirrored 1700297 bytes to 1068x600/10/1312/468.mp4 from https://earthengine.google.org/timelapse/data/20130507/1068x600/10/1312/468.mp4"
       ]
      },
      {
       "output_type": "stream",
       "stream": "stdout",
       "text": [
        "\n",
        "  Mirrored 2005154 bytes to 1068x600/10/1312/472.mp4 from https://earthengine.google.org/timelapse/data/20130507/1068x600/10/1312/472.mp4"
       ]
      },
      {
       "output_type": "stream",
       "stream": "stdout",
       "text": [
        "\n",
        "  Mirrored 1519259 bytes to 1068x600/10/1312/476.mp4 from https://earthengine.google.org/timelapse/data/20130507/1068x600/10/1312/476.mp4"
       ]
      },
      {
       "output_type": "stream",
       "stream": "stdout",
       "text": [
        "\n",
        "  Mirrored 1346505 bytes to 1068x600/10/1312/480.mp4 from https://earthengine.google.org/timelapse/data/20130507/1068x600/10/1312/480.mp4"
       ]
      },
      {
       "output_type": "stream",
       "stream": "stdout",
       "text": [
        "\n",
        "  1068x600/10/1316/416.mp4 already exists, skipping\n",
        "  1068x600/10/1316/420.mp4 already exists, skipping\n",
        "  1068x600/10/1316/424.mp4 already exists, skipping\n",
        "  1068x600/10/1316/428.mp4 already exists, skipping\n",
        "  1068x600/10/1316/432.mp4 already exists, skipping\n",
        "  1068x600/10/1316/436.mp4 already exists, skipping\n",
        "  1068x600/10/1316/440.mp4 already exists, skipping\n",
        "  1068x600/10/1316/444.mp4 already exists, skipping\n",
        "  1068x600/10/1316/448.mp4 already exists, skipping\n",
        "  1068x600/10/1316/452.mp4 already exists, skipping\n",
        "  Mirrored 1486600 bytes to 1068x600/10/1316/456.mp4 from https://earthengine.google.org/timelapse/data/20130507/1068x600/10/1316/456.mp4"
       ]
      },
      {
       "output_type": "stream",
       "stream": "stdout",
       "text": [
        "\n",
        "  Mirrored 1917587 bytes to 1068x600/10/1316/460.mp4 from https://earthengine.google.org/timelapse/data/20130507/1068x600/10/1316/460.mp4"
       ]
      },
      {
       "output_type": "stream",
       "stream": "stdout",
       "text": [
        "\n",
        "  Mirrored 2029864 bytes to 1068x600/10/1316/464.mp4 from https://earthengine.google.org/timelapse/data/20130507/1068x600/10/1316/464.mp4"
       ]
      },
      {
       "output_type": "stream",
       "stream": "stdout",
       "text": [
        "\n",
        "  Mirrored 1927592 bytes to 1068x600/10/1316/468.mp4 from https://earthengine.google.org/timelapse/data/20130507/1068x600/10/1316/468.mp4"
       ]
      },
      {
       "output_type": "stream",
       "stream": "stdout",
       "text": [
        "\n",
        "  Mirrored 1769784 bytes to 1068x600/10/1316/472.mp4 from https://earthengine.google.org/timelapse/data/20130507/1068x600/10/1316/472.mp4"
       ]
      },
      {
       "output_type": "stream",
       "stream": "stdout",
       "text": [
        "\n",
        "  Mirrored 1630779 bytes to 1068x600/10/1316/476.mp4 from https://earthengine.google.org/timelapse/data/20130507/1068x600/10/1316/476.mp4"
       ]
      },
      {
       "output_type": "stream",
       "stream": "stdout",
       "text": [
        "\n",
        "  Mirrored 1596977 bytes to 1068x600/10/1316/480.mp4 from https://earthengine.google.org/timelapse/data/20130507/1068x600/10/1316/480.mp4"
       ]
      },
      {
       "output_type": "stream",
       "stream": "stdout",
       "text": [
        "\n",
        "  1068x600/10/1320/416.mp4 already exists, skipping\n",
        "  1068x600/10/1320/420.mp4 already exists, skipping\n",
        "  1068x600/10/1320/424.mp4 already exists, skipping\n",
        "  1068x600/10/1320/428.mp4 already exists, skipping\n",
        "  1068x600/10/1320/432.mp4 already exists, skipping\n",
        "  1068x600/10/1320/436.mp4 already exists, skipping\n",
        "  1068x600/10/1320/440.mp4 already exists, skipping\n",
        "  1068x600/10/1320/444.mp4 already exists, skipping\n",
        "  1068x600/10/1320/448.mp4 already exists, skipping\n",
        "  1068x600/10/1320/452.mp4 already exists, skipping\n",
        "  Mirrored 1571549 bytes to 1068x600/10/1320/456.mp4 from https://earthengine.google.org/timelapse/data/20130507/1068x600/10/1320/456.mp4"
       ]
      },
      {
       "output_type": "stream",
       "stream": "stdout",
       "text": [
        "\n",
        "  Mirrored 1997340 bytes to 1068x600/10/1320/460.mp4 from https://earthengine.google.org/timelapse/data/20130507/1068x600/10/1320/460.mp4"
       ]
      },
      {
       "output_type": "stream",
       "stream": "stdout",
       "text": [
        "\n",
        "  Mirrored 1906630 bytes to 1068x600/10/1320/464.mp4 from https://earthengine.google.org/timelapse/data/20130507/1068x600/10/1320/464.mp4"
       ]
      },
      {
       "output_type": "stream",
       "stream": "stdout",
       "text": [
        "\n",
        "  Mirrored 2020003 bytes to 1068x600/10/1320/468.mp4 from https://earthengine.google.org/timelapse/data/20130507/1068x600/10/1320/468.mp4"
       ]
      },
      {
       "output_type": "stream",
       "stream": "stdout",
       "text": [
        "\n",
        "  Mirrored 1614474 bytes to 1068x600/10/1320/472.mp4 from https://earthengine.google.org/timelapse/data/20130507/1068x600/10/1320/472.mp4"
       ]
      },
      {
       "output_type": "stream",
       "stream": "stdout",
       "text": [
        "\n",
        "  Mirrored 1606982 bytes to 1068x600/10/1320/476.mp4 from https://earthengine.google.org/timelapse/data/20130507/1068x600/10/1320/476.mp4"
       ]
      },
      {
       "output_type": "stream",
       "stream": "stdout",
       "text": [
        "\n",
        "  Mirrored 1722896 bytes to 1068x600/10/1320/480.mp4 from https://earthengine.google.org/timelapse/data/20130507/1068x600/10/1320/480.mp4"
       ]
      },
      {
       "output_type": "stream",
       "stream": "stdout",
       "text": [
        "\n",
        "  1068x600/10/1324/416.mp4 already exists, skipping\n",
        "  1068x600/10/1324/420.mp4 already exists, skipping\n",
        "  1068x600/10/1324/424.mp4 already exists, skipping\n",
        "  1068x600/10/1324/428.mp4 already exists, skipping\n",
        "  1068x600/10/1324/432.mp4 already exists, skipping\n",
        "  1068x600/10/1324/436.mp4 already exists, skipping\n",
        "  1068x600/10/1324/440.mp4 already exists, skipping\n",
        "  1068x600/10/1324/444.mp4 already exists, skipping\n",
        "  1068x600/10/1324/448.mp4 already exists, skipping\n",
        "  Mirrored 1295526 bytes to 1068x600/10/1324/452.mp4 from https://earthengine.google.org/timelapse/data/20130507/1068x600/10/1324/452.mp4"
       ]
      },
      {
       "output_type": "stream",
       "stream": "stdout",
       "text": [
        "\n",
        "  Mirrored 1938464 bytes to 1068x600/10/1324/456.mp4 from https://earthengine.google.org/timelapse/data/20130507/1068x600/10/1324/456.mp4"
       ]
      },
      {
       "output_type": "stream",
       "stream": "stdout",
       "text": [
        "\n",
        "  Mirrored 1974365 bytes to 1068x600/10/1324/460.mp4 from https://earthengine.google.org/timelapse/data/20130507/1068x600/10/1324/460.mp4"
       ]
      },
      {
       "output_type": "stream",
       "stream": "stdout",
       "text": [
        "\n",
        "  Mirrored 1961043 bytes to 1068x600/10/1324/464.mp4 from https://earthengine.google.org/timelapse/data/20130507/1068x600/10/1324/464.mp4"
       ]
      },
      {
       "output_type": "stream",
       "stream": "stdout",
       "text": [
        "\n",
        "  Mirrored 1723015 bytes to 1068x600/10/1324/468.mp4 from https://earthengine.google.org/timelapse/data/20130507/1068x600/10/1324/468.mp4"
       ]
      },
      {
       "output_type": "stream",
       "stream": "stdout",
       "text": [
        "\n",
        "  Mirrored 1622395 bytes to 1068x600/10/1324/472.mp4 from https://earthengine.google.org/timelapse/data/20130507/1068x600/10/1324/472.mp4"
       ]
      },
      {
       "output_type": "stream",
       "stream": "stdout",
       "text": [
        "\n",
        "  Mirrored 1598627 bytes to 1068x600/10/1324/476.mp4 from https://earthengine.google.org/timelapse/data/20130507/1068x600/10/1324/476.mp4"
       ]
      },
      {
       "output_type": "stream",
       "stream": "stdout",
       "text": [
        "\n",
        "  Mirrored 1812462 bytes to 1068x600/10/1324/480.mp4 from https://earthengine.google.org/timelapse/data/20130507/1068x600/10/1324/480.mp4"
       ]
      },
      {
       "output_type": "stream",
       "stream": "stdout",
       "text": [
        "\n",
        "  1068x600/10/1328/416.mp4 already exists, skipping\n",
        "  1068x600/10/1328/420.mp4 already exists, skipping\n",
        "  1068x600/10/1328/424.mp4 already exists, skipping\n",
        "  1068x600/10/1328/428.mp4 already exists, skipping\n",
        "  1068x600/10/1328/432.mp4 already exists, skipping\n",
        "  1068x600/10/1328/436.mp4 already exists, skipping\n",
        "  1068x600/10/1328/440.mp4 already exists, skipping\n",
        "  1068x600/10/1328/444.mp4 already exists, skipping\n",
        "  1068x600/10/1328/448.mp4 already exists, skipping\n",
        "  Mirrored 1386293 bytes to 1068x600/10/1328/452.mp4 from https://earthengine.google.org/timelapse/data/20130507/1068x600/10/1328/452.mp4"
       ]
      },
      {
       "output_type": "stream",
       "stream": "stdout",
       "text": [
        "\n",
        "  Mirrored 1667563 bytes to 1068x600/10/1328/456.mp4 from https://earthengine.google.org/timelapse/data/20130507/1068x600/10/1328/456.mp4"
       ]
      },
      {
       "output_type": "stream",
       "stream": "stdout",
       "text": [
        "\n",
        "  Mirrored 1779950 bytes to 1068x600/10/1328/460.mp4 from https://earthengine.google.org/timelapse/data/20130507/1068x600/10/1328/460.mp4"
       ]
      },
      {
       "output_type": "stream",
       "stream": "stdout",
       "text": [
        "\n",
        "  Mirrored 1918118 bytes to 1068x600/10/1328/464.mp4 from https://earthengine.google.org/timelapse/data/20130507/1068x600/10/1328/464.mp4"
       ]
      },
      {
       "output_type": "stream",
       "stream": "stdout",
       "text": [
        "\n",
        "  Mirrored 1664479 bytes to 1068x600/10/1328/468.mp4 from https://earthengine.google.org/timelapse/data/20130507/1068x600/10/1328/468.mp4"
       ]
      },
      {
       "output_type": "stream",
       "stream": "stdout",
       "text": [
        "\n",
        "  Mirrored 1745925 bytes to 1068x600/10/1328/472.mp4 from https://earthengine.google.org/timelapse/data/20130507/1068x600/10/1328/472.mp4"
       ]
      },
      {
       "output_type": "stream",
       "stream": "stdout",
       "text": [
        "\n",
        "  Mirrored 1683151 bytes to 1068x600/10/1328/476.mp4 from https://earthengine.google.org/timelapse/data/20130507/1068x600/10/1328/476.mp4"
       ]
      },
      {
       "output_type": "stream",
       "stream": "stdout",
       "text": [
        "\n",
        "  Mirrored 1684445 bytes to 1068x600/10/1328/480.mp4 from https://earthengine.google.org/timelapse/data/20130507/1068x600/10/1328/480.mp4"
       ]
      },
      {
       "output_type": "stream",
       "stream": "stdout",
       "text": [
        "\n",
        "  1068x600/10/1332/416.mp4 already exists, skipping\n",
        "  1068x600/10/1332/420.mp4 already exists, skipping\n",
        "  1068x600/10/1332/424.mp4 already exists, skipping\n",
        "  1068x600/10/1332/428.mp4 already exists, skipping\n",
        "  1068x600/10/1332/432.mp4 already exists, skipping\n",
        "  1068x600/10/1332/436.mp4 already exists, skipping\n",
        "  1068x600/10/1332/440.mp4 already exists, skipping\n",
        "  1068x600/10/1332/444.mp4 already exists, skipping\n",
        "  1068x600/10/1332/448.mp4 already exists, skipping\n",
        "  Mirrored 1240224 bytes to 1068x600/10/1332/452.mp4 from https://earthengine.google.org/timelapse/data/20130507/1068x600/10/1332/452.mp4"
       ]
      },
      {
       "output_type": "stream",
       "stream": "stdout",
       "text": [
        "\n",
        "  Mirrored 1337687 bytes to 1068x600/10/1332/456.mp4 from https://earthengine.google.org/timelapse/data/20130507/1068x600/10/1332/456.mp4"
       ]
      },
      {
       "output_type": "stream",
       "stream": "stdout",
       "text": [
        "\n",
        "  Mirrored 1732989 bytes to 1068x600/10/1332/460.mp4 from https://earthengine.google.org/timelapse/data/20130507/1068x600/10/1332/460.mp4"
       ]
      },
      {
       "output_type": "stream",
       "stream": "stdout",
       "text": [
        "\n",
        "  Mirrored 1997844 bytes to 1068x600/10/1332/464.mp4 from https://earthengine.google.org/timelapse/data/20130507/1068x600/10/1332/464.mp4"
       ]
      },
      {
       "output_type": "stream",
       "stream": "stdout",
       "text": [
        "\n",
        "  Mirrored 1635823 bytes to 1068x600/10/1332/468.mp4 from https://earthengine.google.org/timelapse/data/20130507/1068x600/10/1332/468.mp4"
       ]
      },
      {
       "output_type": "stream",
       "stream": "stdout",
       "text": [
        "\n",
        "  Mirrored 1703587 bytes to 1068x600/10/1332/472.mp4 from https://earthengine.google.org/timelapse/data/20130507/1068x600/10/1332/472.mp4"
       ]
      },
      {
       "output_type": "stream",
       "stream": "stdout",
       "text": [
        "\n",
        "  Mirrored 1599248 bytes to 1068x600/10/1332/476.mp4 from https://earthengine.google.org/timelapse/data/20130507/1068x600/10/1332/476.mp4"
       ]
      },
      {
       "output_type": "stream",
       "stream": "stdout",
       "text": [
        "\n",
        "  Mirrored 1767413 bytes to 1068x600/10/1332/480.mp4 from https://earthengine.google.org/timelapse/data/20130507/1068x600/10/1332/480.mp4"
       ]
      },
      {
       "output_type": "stream",
       "stream": "stdout",
       "text": [
        "\n",
        "  1068x600/10/1336/416.mp4 already exists, skipping\n",
        "  1068x600/10/1336/420.mp4 already exists, skipping\n",
        "  1068x600/10/1336/424.mp4 already exists, skipping\n",
        "  1068x600/10/1336/428.mp4 already exists, skipping\n",
        "  1068x600/10/1336/432.mp4 already exists, skipping\n",
        "  1068x600/10/1336/436.mp4 already exists, skipping\n",
        "  1068x600/10/1336/440.mp4 already exists, skipping\n",
        "  1068x600/10/1336/444.mp4 already exists, skipping\n",
        "  1068x600/10/1336/448.mp4 already exists, skipping\n",
        "  Mirrored 1193278 bytes to 1068x600/10/1336/452.mp4 from https://earthengine.google.org/timelapse/data/20130507/1068x600/10/1336/452.mp4"
       ]
      },
      {
       "output_type": "stream",
       "stream": "stdout",
       "text": [
        "\n",
        "  Mirrored 1271055 bytes to 1068x600/10/1336/456.mp4 from https://earthengine.google.org/timelapse/data/20130507/1068x600/10/1336/456.mp4"
       ]
      },
      {
       "output_type": "stream",
       "stream": "stdout",
       "text": [
        "\n",
        "  Mirrored 1727860 bytes to 1068x600/10/1336/460.mp4 from https://earthengine.google.org/timelapse/data/20130507/1068x600/10/1336/460.mp4"
       ]
      },
      {
       "output_type": "stream",
       "stream": "stdout",
       "text": [
        "\n",
        "  Mirrored 2092873 bytes to 1068x600/10/1336/464.mp4 from https://earthengine.google.org/timelapse/data/20130507/1068x600/10/1336/464.mp4"
       ]
      },
      {
       "output_type": "stream",
       "stream": "stdout",
       "text": [
        "\n",
        "  Mirrored 1592479 bytes to 1068x600/10/1336/468.mp4 from https://earthengine.google.org/timelapse/data/20130507/1068x600/10/1336/468.mp4"
       ]
      },
      {
       "output_type": "stream",
       "stream": "stdout",
       "text": [
        "\n",
        "  Mirrored 1587109 bytes to 1068x600/10/1336/472.mp4 from https://earthengine.google.org/timelapse/data/20130507/1068x600/10/1336/472.mp4"
       ]
      },
      {
       "output_type": "stream",
       "stream": "stdout",
       "text": [
        "\n",
        "  Mirrored 1596033 bytes to 1068x600/10/1336/476.mp4 from https://earthengine.google.org/timelapse/data/20130507/1068x600/10/1336/476.mp4"
       ]
      },
      {
       "output_type": "stream",
       "stream": "stdout",
       "text": [
        "\n",
        "  Mirrored 1583508 bytes to 1068x600/10/1336/480.mp4 from https://earthengine.google.org/timelapse/data/20130507/1068x600/10/1336/480.mp4"
       ]
      },
      {
       "output_type": "stream",
       "stream": "stdout",
       "text": [
        "\n",
        "  1068x600/10/1340/416.mp4 already exists, skipping\n",
        "  1068x600/10/1340/420.mp4 already exists, skipping\n",
        "  1068x600/10/1340/424.mp4 already exists, skipping\n",
        "  1068x600/10/1340/428.mp4 already exists, skipping\n",
        "  1068x600/10/1340/432.mp4 already exists, skipping\n",
        "  1068x600/10/1340/436.mp4 already exists, skipping\n",
        "  1068x600/10/1340/440.mp4 already exists, skipping\n",
        "  1068x600/10/1340/444.mp4 already exists, skipping\n",
        "  1068x600/10/1340/448.mp4 already exists, skipping\n",
        "  Mirrored 1338841 bytes to 1068x600/10/1340/452.mp4 from https://earthengine.google.org/timelapse/data/20130507/1068x600/10/1340/452.mp4"
       ]
      },
      {
       "output_type": "stream",
       "stream": "stdout",
       "text": [
        "\n",
        "  Mirrored 1294428 bytes to 1068x600/10/1340/456.mp4 from https://earthengine.google.org/timelapse/data/20130507/1068x600/10/1340/456.mp4"
       ]
      },
      {
       "output_type": "stream",
       "stream": "stdout",
       "text": [
        "\n",
        "  Mirrored 1799549 bytes to 1068x600/10/1340/460.mp4 from https://earthengine.google.org/timelapse/data/20130507/1068x600/10/1340/460.mp4"
       ]
      },
      {
       "output_type": "stream",
       "stream": "stdout",
       "text": [
        "\n",
        "  Mirrored 2107770 bytes to 1068x600/10/1340/464.mp4 from https://earthengine.google.org/timelapse/data/20130507/1068x600/10/1340/464.mp4"
       ]
      },
      {
       "output_type": "stream",
       "stream": "stdout",
       "text": [
        "\n",
        "  Mirrored 1553435 bytes to 1068x600/10/1340/468.mp4 from https://earthengine.google.org/timelapse/data/20130507/1068x600/10/1340/468.mp4"
       ]
      },
      {
       "output_type": "stream",
       "stream": "stdout",
       "text": [
        "\n",
        "  Mirrored 1454360 bytes to 1068x600/10/1340/472.mp4 from https://earthengine.google.org/timelapse/data/20130507/1068x600/10/1340/472.mp4"
       ]
      },
      {
       "output_type": "stream",
       "stream": "stdout",
       "text": [
        "\n",
        "  Mirrored 1447084 bytes to 1068x600/10/1340/476.mp4 from https://earthengine.google.org/timelapse/data/20130507/1068x600/10/1340/476.mp4"
       ]
      },
      {
       "output_type": "stream",
       "stream": "stdout",
       "text": [
        "\n",
        "  Mirrored 1639228 bytes to 1068x600/10/1340/480.mp4 from https://earthengine.google.org/timelapse/data/20130507/1068x600/10/1340/480.mp4"
       ]
      },
      {
       "output_type": "stream",
       "stream": "stdout",
       "text": [
        "\n",
        "  1068x600/10/1344/416.mp4 already exists, skipping\n",
        "  1068x600/10/1344/420.mp4 already exists, skipping\n",
        "  1068x600/10/1344/424.mp4 already exists, skipping\n",
        "  1068x600/10/1344/428.mp4 already exists, skipping\n",
        "  1068x600/10/1344/432.mp4 already exists, skipping\n",
        "  1068x600/10/1344/436.mp4 already exists, skipping\n",
        "  1068x600/10/1344/440.mp4 already exists, skipping\n",
        "  1068x600/10/1344/444.mp4 already exists, skipping\n",
        "  1068x600/10/1344/448.mp4 already exists, skipping\n",
        "  Mirrored 1348619 bytes to 1068x600/10/1344/452.mp4 from https://earthengine.google.org/timelapse/data/20130507/1068x600/10/1344/452.mp4"
       ]
      },
      {
       "output_type": "stream",
       "stream": "stdout",
       "text": [
        "\n",
        "  Mirrored 1458678 bytes to 1068x600/10/1344/456.mp4 from https://earthengine.google.org/timelapse/data/20130507/1068x600/10/1344/456.mp4"
       ]
      },
      {
       "output_type": "stream",
       "stream": "stdout",
       "text": [
        "\n",
        "  Mirrored 1891463 bytes to 1068x600/10/1344/460.mp4 from https://earthengine.google.org/timelapse/data/20130507/1068x600/10/1344/460.mp4"
       ]
      },
      {
       "output_type": "stream",
       "stream": "stdout",
       "text": [
        "\n",
        "  Mirrored 1835472 bytes to 1068x600/10/1344/464.mp4 from https://earthengine.google.org/timelapse/data/20130507/1068x600/10/1344/464.mp4"
       ]
      },
      {
       "output_type": "stream",
       "stream": "stdout",
       "text": [
        "\n",
        "  Mirrored 1640798 bytes to 1068x600/10/1344/468.mp4 from https://earthengine.google.org/timelapse/data/20130507/1068x600/10/1344/468.mp4"
       ]
      },
      {
       "output_type": "stream",
       "stream": "stdout",
       "text": [
        "\n",
        "  Mirrored 1592479 bytes to 1068x600/10/1344/472.mp4 from https://earthengine.google.org/timelapse/data/20130507/1068x600/10/1344/472.mp4"
       ]
      },
      {
       "output_type": "stream",
       "stream": "stdout",
       "text": [
        "\n",
        "  Mirrored 1403591 bytes to 1068x600/10/1344/476.mp4 from https://earthengine.google.org/timelapse/data/20130507/1068x600/10/1344/476.mp4"
       ]
      },
      {
       "output_type": "stream",
       "stream": "stdout",
       "text": [
        "\n",
        "  Mirrored 1360173 bytes to 1068x600/10/1344/480.mp4 from https://earthengine.google.org/timelapse/data/20130507/1068x600/10/1344/480.mp4"
       ]
      },
      {
       "output_type": "stream",
       "stream": "stdout",
       "text": [
        "\n",
        "  1068x600/10/1348/416.mp4 already exists, skipping\n",
        "  1068x600/10/1348/420.mp4 already exists, skipping\n",
        "  1068x600/10/1348/424.mp4 already exists, skipping\n",
        "  1068x600/10/1348/428.mp4 already exists, skipping\n",
        "  1068x600/10/1348/432.mp4 already exists, skipping\n",
        "  1068x600/10/1348/436.mp4 already exists, skipping\n",
        "  1068x600/10/1348/440.mp4 already exists, skipping\n",
        "  1068x600/10/1348/444.mp4 already exists, skipping\n",
        "  1068x600/10/1348/448.mp4 already exists, skipping\n",
        "  Mirrored 1541585 bytes to 1068x600/10/1348/452.mp4 from https://earthengine.google.org/timelapse/data/20130507/1068x600/10/1348/452.mp4"
       ]
      },
      {
       "output_type": "stream",
       "stream": "stdout",
       "text": [
        "\n",
        "  Mirrored 1723546 bytes to 1068x600/10/1348/456.mp4 from https://earthengine.google.org/timelapse/data/20130507/1068x600/10/1348/456.mp4"
       ]
      },
      {
       "output_type": "stream",
       "stream": "stdout",
       "text": [
        "\n",
        "  Mirrored 1874324 bytes to 1068x600/10/1348/460.mp4 from https://earthengine.google.org/timelapse/data/20130507/1068x600/10/1348/460.mp4"
       ]
      },
      {
       "output_type": "stream",
       "stream": "stdout",
       "text": [
        "\n",
        "  Mirrored 1549125 bytes to 1068x600/10/1348/464.mp4 from https://earthengine.google.org/timelapse/data/20130507/1068x600/10/1348/464.mp4"
       ]
      },
      {
       "output_type": "stream",
       "stream": "stdout",
       "text": [
        "\n",
        "  Mirrored 1660207 bytes to 1068x600/10/1348/468.mp4 from https://earthengine.google.org/timelapse/data/20130507/1068x600/10/1348/468.mp4"
       ]
      },
      {
       "output_type": "stream",
       "stream": "stdout",
       "text": [
        "\n",
        "  Mirrored 1651230 bytes to 1068x600/10/1348/472.mp4 from https://earthengine.google.org/timelapse/data/20130507/1068x600/10/1348/472.mp4"
       ]
      },
      {
       "output_type": "stream",
       "stream": "stdout",
       "text": [
        "\n",
        "  Mirrored 1426920 bytes to 1068x600/10/1348/476.mp4 from https://earthengine.google.org/timelapse/data/20130507/1068x600/10/1348/476.mp4"
       ]
      },
      {
       "output_type": "stream",
       "stream": "stdout",
       "text": [
        "\n",
        "  Mirrored 1468771 bytes to 1068x600/10/1348/480.mp4 from https://earthengine.google.org/timelapse/data/20130507/1068x600/10/1348/480.mp4"
       ]
      },
      {
       "output_type": "stream",
       "stream": "stdout",
       "text": [
        "\n",
        "  1068x600/10/1352/416.mp4 already exists, skipping\n",
        "  1068x600/10/1352/420.mp4 already exists, skipping\n",
        "  1068x600/10/1352/424.mp4 already exists, skipping\n",
        "  1068x600/10/1352/428.mp4 already exists, skipping\n",
        "  1068x600/10/1352/432.mp4 already exists, skipping\n",
        "  1068x600/10/1352/436.mp4 already exists, skipping\n",
        "  1068x600/10/1352/440.mp4 already exists, skipping\n",
        "  1068x600/10/1352/444.mp4 already exists, skipping\n",
        "  1068x600/10/1352/448.mp4 already exists, skipping\n",
        "  Mirrored 1442816 bytes to 1068x600/10/1352/452.mp4 from https://earthengine.google.org/timelapse/data/20130507/1068x600/10/1352/452.mp4"
       ]
      },
      {
       "output_type": "stream",
       "stream": "stdout",
       "text": [
        "\n",
        "  Mirrored 1625746 bytes to 1068x600/10/1352/456.mp4 from https://earthengine.google.org/timelapse/data/20130507/1068x600/10/1352/456.mp4"
       ]
      },
      {
       "output_type": "stream",
       "stream": "stdout",
       "text": [
        "\n",
        "  Mirrored 1495026 bytes to 1068x600/10/1352/460.mp4 from https://earthengine.google.org/timelapse/data/20130507/1068x600/10/1352/460.mp4"
       ]
      },
      {
       "output_type": "stream",
       "stream": "stdout",
       "text": [
        "\n",
        "  Mirrored 1591802 bytes to 1068x600/10/1352/464.mp4 from https://earthengine.google.org/timelapse/data/20130507/1068x600/10/1352/464.mp4"
       ]
      },
      {
       "output_type": "stream",
       "stream": "stdout",
       "text": [
        "\n",
        "  Mirrored 1654478 bytes to 1068x600/10/1352/468.mp4 from https://earthengine.google.org/timelapse/data/20130507/1068x600/10/1352/468.mp4"
       ]
      },
      {
       "output_type": "stream",
       "stream": "stdout",
       "text": [
        "\n",
        "  Mirrored 1523985 bytes to 1068x600/10/1352/472.mp4 from https://earthengine.google.org/timelapse/data/20130507/1068x600/10/1352/472.mp4"
       ]
      },
      {
       "output_type": "stream",
       "stream": "stdout",
       "text": [
        "\n",
        "  Mirrored 1469795 bytes to 1068x600/10/1352/476.mp4 from https://earthengine.google.org/timelapse/data/20130507/1068x600/10/1352/476.mp4"
       ]
      },
      {
       "output_type": "stream",
       "stream": "stdout",
       "text": [
        "\n",
        "  Mirrored 1410324 bytes to 1068x600/10/1352/480.mp4 from https://earthengine.google.org/timelapse/data/20130507/1068x600/10/1352/480.mp4"
       ]
      },
      {
       "output_type": "stream",
       "stream": "stdout",
       "text": [
        "\n",
        "  1068x600/10/1356/416.mp4 already exists, skipping\n",
        "  1068x600/10/1356/420.mp4 already exists, skipping\n",
        "  1068x600/10/1356/424.mp4 already exists, skipping\n",
        "  1068x600/10/1356/428.mp4 already exists, skipping\n",
        "  1068x600/10/1356/432.mp4 already exists, skipping\n",
        "  1068x600/10/1356/436.mp4 already exists, skipping\n",
        "  1068x600/10/1356/440.mp4 already exists, skipping\n",
        "  1068x600/10/1356/444.mp4 already exists, skipping\n",
        "  1068x600/10/1356/448.mp4 already exists, skipping\n",
        "  Mirrored 1441567 bytes to 1068x600/10/1356/452.mp4 from https://earthengine.google.org/timelapse/data/20130507/1068x600/10/1356/452.mp4"
       ]
      },
      {
       "output_type": "stream",
       "stream": "stdout",
       "text": [
        "\n",
        "  Mirrored 1483243 bytes to 1068x600/10/1356/456.mp4 from https://earthengine.google.org/timelapse/data/20130507/1068x600/10/1356/456.mp4"
       ]
      },
      {
       "output_type": "stream",
       "stream": "stdout",
       "text": [
        "\n",
        "  Mirrored 1535431 bytes to 1068x600/10/1356/460.mp4 from https://earthengine.google.org/timelapse/data/20130507/1068x600/10/1356/460.mp4"
       ]
      },
      {
       "output_type": "stream",
       "stream": "stdout",
       "text": [
        "\n",
        "  Mirrored 1483488 bytes to 1068x600/10/1356/464.mp4 from https://earthengine.google.org/timelapse/data/20130507/1068x600/10/1356/464.mp4"
       ]
      },
      {
       "output_type": "stream",
       "stream": "stdout",
       "text": [
        "\n",
        "  Mirrored 1774691 bytes to 1068x600/10/1356/468.mp4 from https://earthengine.google.org/timelapse/data/20130507/1068x600/10/1356/468.mp4"
       ]
      },
      {
       "output_type": "stream",
       "stream": "stdout",
       "text": [
        "\n",
        "  Mirrored 1656105 bytes to 1068x600/10/1356/472.mp4 from https://earthengine.google.org/timelapse/data/20130507/1068x600/10/1356/472.mp4"
       ]
      },
      {
       "output_type": "stream",
       "stream": "stdout",
       "text": [
        "\n",
        "  Mirrored 1446631 bytes to 1068x600/10/1356/476.mp4 from https://earthengine.google.org/timelapse/data/20130507/1068x600/10/1356/476.mp4"
       ]
      },
      {
       "output_type": "stream",
       "stream": "stdout",
       "text": [
        "\n",
        "  Mirrored 1409509 bytes to 1068x600/10/1356/480.mp4 from https://earthengine.google.org/timelapse/data/20130507/1068x600/10/1356/480.mp4"
       ]
      },
      {
       "output_type": "stream",
       "stream": "stdout",
       "text": [
        "\n",
        "  1068x600/10/1360/416.mp4 already exists, skipping\n",
        "  1068x600/10/1360/420.mp4 already exists, skipping\n",
        "  1068x600/10/1360/424.mp4 already exists, skipping\n",
        "  1068x600/10/1360/428.mp4 already exists, skipping\n",
        "  1068x600/10/1360/432.mp4 already exists, skipping\n",
        "  1068x600/10/1360/436.mp4 already exists, skipping\n",
        "  1068x600/10/1360/440.mp4 already exists, skipping\n",
        "  1068x600/10/1360/444.mp4 already exists, skipping\n",
        "  1068x600/10/1360/448.mp4 already exists, skipping\n",
        "  Mirrored 1443924 bytes to 1068x600/10/1360/452.mp4 from https://earthengine.google.org/timelapse/data/20130507/1068x600/10/1360/452.mp4"
       ]
      },
      {
       "output_type": "stream",
       "stream": "stdout",
       "text": [
        "\n",
        "  Mirrored 1536154 bytes to 1068x600/10/1360/456.mp4 from https://earthengine.google.org/timelapse/data/20130507/1068x600/10/1360/456.mp4"
       ]
      },
      {
       "output_type": "stream",
       "stream": "stdout",
       "text": [
        "\n",
        "  Mirrored 1405668 bytes to 1068x600/10/1360/460.mp4 from https://earthengine.google.org/timelapse/data/20130507/1068x600/10/1360/460.mp4"
       ]
      },
      {
       "output_type": "stream",
       "stream": "stdout",
       "text": [
        "\n",
        "  Mirrored 1610112 bytes to 1068x600/10/1360/464.mp4 from https://earthengine.google.org/timelapse/data/20130507/1068x600/10/1360/464.mp4"
       ]
      },
      {
       "output_type": "stream",
       "stream": "stdout",
       "text": [
        "\n",
        "  Mirrored 1828266 bytes to 1068x600/10/1360/468.mp4 from https://earthengine.google.org/timelapse/data/20130507/1068x600/10/1360/468.mp4"
       ]
      },
      {
       "output_type": "stream",
       "stream": "stdout",
       "text": [
        "\n",
        "  Mirrored 1634078 bytes to 1068x600/10/1360/472.mp4 from https://earthengine.google.org/timelapse/data/20130507/1068x600/10/1360/472.mp4"
       ]
      },
      {
       "output_type": "stream",
       "stream": "stdout",
       "text": [
        "\n",
        "  Mirrored 1460008 bytes to 1068x600/10/1360/476.mp4 from https://earthengine.google.org/timelapse/data/20130507/1068x600/10/1360/476.mp4"
       ]
      },
      {
       "output_type": "stream",
       "stream": "stdout",
       "text": [
        "\n",
        "  Mirrored 1495057 bytes to 1068x600/10/1360/480.mp4 from https://earthengine.google.org/timelapse/data/20130507/1068x600/10/1360/480.mp4"
       ]
      },
      {
       "output_type": "stream",
       "stream": "stdout",
       "text": [
        "\n",
        "  1068x600/10/1364/416.mp4 already exists, skipping\n",
        "  1068x600/10/1364/420.mp4 already exists, skipping\n",
        "  1068x600/10/1364/424.mp4 already exists, skipping\n",
        "  1068x600/10/1364/428.mp4 already exists, skipping\n",
        "  1068x600/10/1364/432.mp4 already exists, skipping\n",
        "  1068x600/10/1364/436.mp4 already exists, skipping\n",
        "  1068x600/10/1364/440.mp4 already exists, skipping\n",
        "  1068x600/10/1364/444.mp4 already exists, skipping\n",
        "  1068x600/10/1364/448.mp4 already exists, skipping\n",
        "  Mirrored 1444321 bytes to 1068x600/10/1364/452.mp4 from https://earthengine.google.org/timelapse/data/20130507/1068x600/10/1364/452.mp4"
       ]
      },
      {
       "output_type": "stream",
       "stream": "stdout",
       "text": [
        "\n",
        "  Mirrored 1614762 bytes to 1068x600/10/1364/456.mp4 from https://earthengine.google.org/timelapse/data/20130507/1068x600/10/1364/456.mp4"
       ]
      },
      {
       "output_type": "stream",
       "stream": "stdout",
       "text": [
        "\n",
        "  Mirrored 1398879 bytes to 1068x600/10/1364/460.mp4 from https://earthengine.google.org/timelapse/data/20130507/1068x600/10/1364/460.mp4"
       ]
      },
      {
       "output_type": "stream",
       "stream": "stdout",
       "text": [
        "\n",
        "  Mirrored 1655958 bytes to 1068x600/10/1364/464.mp4 from https://earthengine.google.org/timelapse/data/20130507/1068x600/10/1364/464.mp4"
       ]
      },
      {
       "output_type": "stream",
       "stream": "stdout",
       "text": [
        "\n",
        "  Mirrored 1808894 bytes to 1068x600/10/1364/468.mp4 from https://earthengine.google.org/timelapse/data/20130507/1068x600/10/1364/468.mp4"
       ]
      },
      {
       "output_type": "stream",
       "stream": "stdout",
       "text": [
        "\n",
        "  Mirrored 1486127 bytes to 1068x600/10/1364/472.mp4 from https://earthengine.google.org/timelapse/data/20130507/1068x600/10/1364/472.mp4"
       ]
      },
      {
       "output_type": "stream",
       "stream": "stdout",
       "text": [
        "\n",
        "  Mirrored 1544966 bytes to 1068x600/10/1364/476.mp4 from https://earthengine.google.org/timelapse/data/20130507/1068x600/10/1364/476.mp4"
       ]
      },
      {
       "output_type": "stream",
       "stream": "stdout",
       "text": [
        "\n",
        "  Mirrored 1641665 bytes to 1068x600/10/1364/480.mp4 from https://earthengine.google.org/timelapse/data/20130507/1068x600/10/1364/480.mp4"
       ]
      },
      {
       "output_type": "stream",
       "stream": "stdout",
       "text": [
        "\n",
        "  1068x600/10/1368/416.mp4 already exists, skipping\n",
        "  1068x600/10/1368/420.mp4 already exists, skipping\n",
        "  1068x600/10/1368/424.mp4 already exists, skipping\n",
        "  1068x600/10/1368/428.mp4 already exists, skipping\n",
        "  1068x600/10/1368/432.mp4 already exists, skipping\n",
        "  1068x600/10/1368/436.mp4 already exists, skipping\n",
        "  1068x600/10/1368/440.mp4 already exists, skipping\n",
        "  1068x600/10/1368/444.mp4 already exists, skipping\n",
        "  1068x600/10/1368/448.mp4 already exists, skipping\n",
        "  Mirrored 1505969 bytes to 1068x600/10/1368/452.mp4 from https://earthengine.google.org/timelapse/data/20130507/1068x600/10/1368/452.mp4"
       ]
      },
      {
       "output_type": "stream",
       "stream": "stdout",
       "text": [
        "\n",
        "  Mirrored 1612695 bytes to 1068x600/10/1368/456.mp4 from https://earthengine.google.org/timelapse/data/20130507/1068x600/10/1368/456.mp4"
       ]
      },
      {
       "output_type": "stream",
       "stream": "stdout",
       "text": [
        "\n",
        "  Mirrored 1561151 bytes to 1068x600/10/1368/460.mp4 from https://earthengine.google.org/timelapse/data/20130507/1068x600/10/1368/460.mp4"
       ]
      },
      {
       "output_type": "stream",
       "stream": "stdout",
       "text": [
        "\n",
        "  Mirrored 1624996 bytes to 1068x600/10/1368/464.mp4 from https://earthengine.google.org/timelapse/data/20130507/1068x600/10/1368/464.mp4"
       ]
      },
      {
       "output_type": "stream",
       "stream": "stdout",
       "text": [
        "\n",
        "  Mirrored 1697636 bytes to 1068x600/10/1368/468.mp4 from https://earthengine.google.org/timelapse/data/20130507/1068x600/10/1368/468.mp4"
       ]
      },
      {
       "output_type": "stream",
       "stream": "stdout",
       "text": [
        "\n",
        "  Mirrored 1520217 bytes to 1068x600/10/1368/472.mp4 from https://earthengine.google.org/timelapse/data/20130507/1068x600/10/1368/472.mp4"
       ]
      },
      {
       "output_type": "stream",
       "stream": "stdout",
       "text": [
        "\n",
        "  Mirrored 1629043 bytes to 1068x600/10/1368/476.mp4 from https://earthengine.google.org/timelapse/data/20130507/1068x600/10/1368/476.mp4"
       ]
      },
      {
       "output_type": "stream",
       "stream": "stdout",
       "text": [
        "\n",
        "  Mirrored 1659424 bytes to 1068x600/10/1368/480.mp4 from https://earthengine.google.org/timelapse/data/20130507/1068x600/10/1368/480.mp4"
       ]
      },
      {
       "output_type": "stream",
       "stream": "stdout",
       "text": [
        "\n",
        "  1068x600/10/1372/416.mp4 already exists, skipping\n",
        "  1068x600/10/1372/420.mp4 already exists, skipping\n",
        "  1068x600/10/1372/424.mp4 already exists, skipping\n",
        "  1068x600/10/1372/428.mp4 already exists, skipping\n",
        "  1068x600/10/1372/432.mp4 already exists, skipping\n",
        "  1068x600/10/1372/436.mp4 already exists, skipping\n",
        "  1068x600/10/1372/440.mp4 already exists, skipping\n",
        "  1068x600/10/1372/444.mp4 already exists, skipping\n",
        "  1068x600/10/1372/448.mp4 already exists, skipping\n",
        "  Mirrored 1518845 bytes to 1068x600/10/1372/452.mp4 from https://earthengine.google.org/timelapse/data/20130507/1068x600/10/1372/452.mp4"
       ]
      },
      {
       "output_type": "stream",
       "stream": "stdout",
       "text": [
        "\n",
        "  Mirrored 1594553 bytes to 1068x600/10/1372/456.mp4 from https://earthengine.google.org/timelapse/data/20130507/1068x600/10/1372/456.mp4"
       ]
      },
      {
       "output_type": "stream",
       "stream": "stdout",
       "text": [
        "\n",
        "  Mirrored 1255493 bytes to 1068x600/10/1372/460.mp4 from https://earthengine.google.org/timelapse/data/20130507/1068x600/10/1372/460.mp4"
       ]
      },
      {
       "output_type": "stream",
       "stream": "stdout",
       "text": [
        "\n",
        "  Mirrored 1134568 bytes to 1068x600/10/1372/464.mp4 from https://earthengine.google.org/timelapse/data/20130507/1068x600/10/1372/464.mp4"
       ]
      },
      {
       "output_type": "stream",
       "stream": "stdout",
       "text": [
        "\n",
        "  Mirrored 1201358 bytes to 1068x600/10/1372/468.mp4 from https://earthengine.google.org/timelapse/data/20130507/1068x600/10/1372/468.mp4"
       ]
      },
      {
       "output_type": "stream",
       "stream": "stdout",
       "text": [
        "\n",
        "  Mirrored 1057452 bytes to 1068x600/10/1372/472.mp4 from https://earthengine.google.org/timelapse/data/20130507/1068x600/10/1372/472.mp4"
       ]
      },
      {
       "output_type": "stream",
       "stream": "stdout",
       "text": [
        "\n",
        "  Mirrored 879061 bytes to 1068x600/10/1372/476.mp4 from https://earthengine.google.org/timelapse/data/20130507/1068x600/10/1372/476.mp4"
       ]
      },
      {
       "output_type": "stream",
       "stream": "stdout",
       "text": [
        "\n",
        "  Mirrored 1192040 bytes to 1068x600/10/1372/480.mp4 from https://earthengine.google.org/timelapse/data/20130507/1068x600/10/1372/480.mp4"
       ]
      },
      {
       "output_type": "stream",
       "stream": "stdout",
       "text": [
        "\n",
        "  1068x600/10/1376/416.mp4 already exists, skipping\n",
        "  1068x600/10/1376/420.mp4 already exists, skipping\n",
        "  1068x600/10/1376/424.mp4 already exists, skipping\n",
        "  1068x600/10/1376/428.mp4 already exists, skipping\n",
        "  1068x600/10/1376/432.mp4 already exists, skipping\n",
        "  1068x600/10/1376/436.mp4 already exists, skipping\n",
        "  1068x600/10/1376/440.mp4 already exists, skipping\n",
        "  1068x600/10/1376/444.mp4 already exists, skipping\n",
        "  1068x600/10/1376/448.mp4 already exists, skipping\n",
        "  Mirrored 1443853 bytes to 1068x600/10/1376/452.mp4 from https://earthengine.google.org/timelapse/data/20130507/1068x600/10/1376/452.mp4"
       ]
      },
      {
       "output_type": "stream",
       "stream": "stdout",
       "text": [
        "\n",
        "  Mirrored 1771322 bytes to 1068x600/10/1376/456.mp4 from https://earthengine.google.org/timelapse/data/20130507/1068x600/10/1376/456.mp4"
       ]
      },
      {
       "output_type": "stream",
       "stream": "stdout",
       "text": [
        "\n",
        "  Mirrored 1220491 bytes to 1068x600/10/1376/460.mp4 from https://earthengine.google.org/timelapse/data/20130507/1068x600/10/1376/460.mp4"
       ]
      },
      {
       "output_type": "stream",
       "stream": "stdout",
       "text": [
        "\n",
        "  Mirrored 1159642 bytes to 1068x600/10/1376/464.mp4 from https://earthengine.google.org/timelapse/data/20130507/1068x600/10/1376/464.mp4"
       ]
      },
      {
       "output_type": "stream",
       "stream": "stdout",
       "text": [
        "\n",
        "  Mirrored 1048375 bytes to 1068x600/10/1376/468.mp4 from https://earthengine.google.org/timelapse/data/20130507/1068x600/10/1376/468.mp4"
       ]
      },
      {
       "output_type": "stream",
       "stream": "stdout",
       "text": [
        "\n",
        "  Mirrored 479167 bytes to 1068x600/10/1376/472.mp4 from https://earthengine.google.org/timelapse/data/20130507/1068x600/10/1376/472.mp4"
       ]
      },
      {
       "output_type": "stream",
       "stream": "stdout",
       "text": [
        "\n",
        "  Mirrored 252605 bytes to 1068x600/10/1376/476.mp4 from https://earthengine.google.org/timelapse/data/20130507/1068x600/10/1376/476.mp4"
       ]
      },
      {
       "output_type": "stream",
       "stream": "stdout",
       "text": [
        "\n",
        "  Mirrored 198666 bytes to 1068x600/10/1376/480.mp4 from https://earthengine.google.org/timelapse/data/20130507/1068x600/10/1376/480.mp4"
       ]
      },
      {
       "output_type": "stream",
       "stream": "stdout",
       "text": [
        "\n",
        "  Mirrored 1626222 bytes to 1068x600/10/1380/416.mp4 from https://earthengine.google.org/timelapse/data/20130507/1068x600/10/1380/416.mp4"
       ]
      },
      {
       "output_type": "stream",
       "stream": "stdout",
       "text": [
        "\n",
        "  Mirrored 1712420 bytes to 1068x600/10/1380/420.mp4 from https://earthengine.google.org/timelapse/data/20130507/1068x600/10/1380/420.mp4"
       ]
      },
      {
       "output_type": "stream",
       "stream": "stdout",
       "text": [
        "\n",
        "  Mirrored 1918191 bytes to 1068x600/10/1380/424.mp4 from https://earthengine.google.org/timelapse/data/20130507/1068x600/10/1380/424.mp4"
       ]
      },
      {
       "output_type": "stream",
       "stream": "stdout",
       "text": [
        "\n",
        "  Mirrored 1553800 bytes to 1068x600/10/1380/428.mp4 from https://earthengine.google.org/timelapse/data/20130507/1068x600/10/1380/428.mp4"
       ]
      },
      {
       "output_type": "stream",
       "stream": "stdout",
       "text": [
        "\n",
        "  Mirrored 1531351 bytes to 1068x600/10/1380/432.mp4 from https://earthengine.google.org/timelapse/data/20130507/1068x600/10/1380/432.mp4"
       ]
      },
      {
       "output_type": "stream",
       "stream": "stdout",
       "text": [
        "\n",
        "  Mirrored 1689971 bytes to 1068x600/10/1380/436.mp4 from https://earthengine.google.org/timelapse/data/20130507/1068x600/10/1380/436.mp4"
       ]
      },
      {
       "output_type": "stream",
       "stream": "stdout",
       "text": [
        "\n",
        "  Mirrored 1781429 bytes to 1068x600/10/1380/440.mp4 from https://earthengine.google.org/timelapse/data/20130507/1068x600/10/1380/440.mp4"
       ]
      },
      {
       "output_type": "stream",
       "stream": "stdout",
       "text": [
        "\n",
        "  Mirrored 1005256 bytes to 1068x600/10/1380/444.mp4 from https://earthengine.google.org/timelapse/data/20130507/1068x600/10/1380/444.mp4"
       ]
      },
      {
       "output_type": "stream",
       "stream": "stdout",
       "text": [
        "\n",
        "  Mirrored 696260 bytes to 1068x600/10/1380/448.mp4 from https://earthengine.google.org/timelapse/data/20130507/1068x600/10/1380/448.mp4"
       ]
      },
      {
       "output_type": "stream",
       "stream": "stdout",
       "text": [
        "\n",
        "  Mirrored 757872 bytes to 1068x600/10/1380/452.mp4 from https://earthengine.google.org/timelapse/data/20130507/1068x600/10/1380/452.mp4"
       ]
      },
      {
       "output_type": "stream",
       "stream": "stdout",
       "text": [
        "\n",
        "  Mirrored 962227 bytes to 1068x600/10/1380/456.mp4 from https://earthengine.google.org/timelapse/data/20130507/1068x600/10/1380/456.mp4"
       ]
      },
      {
       "output_type": "stream",
       "stream": "stdout",
       "text": [
        "\n",
        "  Mirrored 968531 bytes to 1068x600/10/1380/460.mp4 from https://earthengine.google.org/timelapse/data/20130507/1068x600/10/1380/460.mp4"
       ]
      },
      {
       "output_type": "stream",
       "stream": "stdout",
       "text": [
        "\n",
        "  Mirrored 1303679 bytes to 1068x600/10/1380/464.mp4 from https://earthengine.google.org/timelapse/data/20130507/1068x600/10/1380/464.mp4"
       ]
      },
      {
       "output_type": "stream",
       "stream": "stdout",
       "text": [
        "\n",
        "  Mirrored 975779 bytes to 1068x600/10/1380/468.mp4 from https://earthengine.google.org/timelapse/data/20130507/1068x600/10/1380/468.mp4"
       ]
      },
      {
       "output_type": "stream",
       "stream": "stdout",
       "text": [
        "\n",
        "  Mirrored 365836 bytes to 1068x600/10/1380/472.mp4 from https://earthengine.google.org/timelapse/data/20130507/1068x600/10/1380/472.mp4"
       ]
      },
      {
       "output_type": "stream",
       "stream": "stdout",
       "text": [
        "\n",
        "  Mirrored 369870 bytes to 1068x600/10/1380/476.mp4 from https://earthengine.google.org/timelapse/data/20130507/1068x600/10/1380/476.mp4"
       ]
      },
      {
       "output_type": "stream",
       "stream": "stdout",
       "text": [
        "\n",
        "  Mirrored 349170 bytes to 1068x600/10/1380/480.mp4 from https://earthengine.google.org/timelapse/data/20130507/1068x600/10/1380/480.mp4"
       ]
      },
      {
       "output_type": "stream",
       "stream": "stdout",
       "text": [
        "\n",
        "  Mirrored 1632803 bytes to 1068x600/10/1384/416.mp4 from https://earthengine.google.org/timelapse/data/20130507/1068x600/10/1384/416.mp4"
       ]
      },
      {
       "output_type": "stream",
       "stream": "stdout",
       "text": [
        "\n",
        "  Mirrored 1750388 bytes to 1068x600/10/1384/420.mp4 from https://earthengine.google.org/timelapse/data/20130507/1068x600/10/1384/420.mp4"
       ]
      },
      {
       "output_type": "stream",
       "stream": "stdout",
       "text": [
        "\n",
        "  Mirrored 1879795 bytes to 1068x600/10/1384/424.mp4 from https://earthengine.google.org/timelapse/data/20130507/1068x600/10/1384/424.mp4"
       ]
      },
      {
       "output_type": "stream",
       "stream": "stdout",
       "text": [
        "\n",
        "  Mirrored 1402406 bytes to 1068x600/10/1384/428.mp4 from https://earthengine.google.org/timelapse/data/20130507/1068x600/10/1384/428.mp4"
       ]
      },
      {
       "output_type": "stream",
       "stream": "stdout",
       "text": [
        "\n",
        "  Mirrored 1515579 bytes to 1068x600/10/1384/432.mp4 from https://earthengine.google.org/timelapse/data/20130507/1068x600/10/1384/432.mp4"
       ]
      },
      {
       "output_type": "stream",
       "stream": "stdout",
       "text": [
        "\n",
        "  Mirrored 1461470 bytes to 1068x600/10/1384/436.mp4 from https://earthengine.google.org/timelapse/data/20130507/1068x600/10/1384/436.mp4"
       ]
      },
      {
       "output_type": "stream",
       "stream": "stdout",
       "text": [
        "\n",
        "  Mirrored 1239367 bytes to 1068x600/10/1384/440.mp4 from https://earthengine.google.org/timelapse/data/20130507/1068x600/10/1384/440.mp4"
       ]
      },
      {
       "output_type": "stream",
       "stream": "stdout",
       "text": [
        "\n",
        "  Mirrored 447624 bytes to 1068x600/10/1384/444.mp4 from https://earthengine.google.org/timelapse/data/20130507/1068x600/10/1384/444.mp4"
       ]
      },
      {
       "output_type": "stream",
       "stream": "stdout",
       "text": [
        "\n",
        "  Mirrored 698720 bytes to 1068x600/10/1384/448.mp4 from https://earthengine.google.org/timelapse/data/20130507/1068x600/10/1384/448.mp4"
       ]
      },
      {
       "output_type": "stream",
       "stream": "stdout",
       "text": [
        "\n",
        "  Mirrored 462827 bytes to 1068x600/10/1384/452.mp4 from https://earthengine.google.org/timelapse/data/20130507/1068x600/10/1384/452.mp4"
       ]
      },
      {
       "output_type": "stream",
       "stream": "stdout",
       "text": [
        "\n",
        "  Mirrored 300076 bytes to 1068x600/10/1384/456.mp4 from https://earthengine.google.org/timelapse/data/20130507/1068x600/10/1384/456.mp4"
       ]
      },
      {
       "output_type": "stream",
       "stream": "stdout",
       "text": [
        "\n",
        "  Mirrored 633721 bytes to 1068x600/10/1384/460.mp4 from https://earthengine.google.org/timelapse/data/20130507/1068x600/10/1384/460.mp4"
       ]
      },
      {
       "output_type": "stream",
       "stream": "stdout",
       "text": [
        "\n",
        "  Mirrored 803550 bytes to 1068x600/10/1384/464.mp4 from https://earthengine.google.org/timelapse/data/20130507/1068x600/10/1384/464.mp4"
       ]
      },
      {
       "output_type": "stream",
       "stream": "stdout",
       "text": [
        "\n",
        "  Mirrored 637355 bytes to 1068x600/10/1384/468.mp4 from https://earthengine.google.org/timelapse/data/20130507/1068x600/10/1384/468.mp4"
       ]
      },
      {
       "output_type": "stream",
       "stream": "stdout",
       "text": [
        "\n",
        "  Mirrored 756884 bytes to 1068x600/10/1384/472.mp4 from https://earthengine.google.org/timelapse/data/20130507/1068x600/10/1384/472.mp4"
       ]
      },
      {
       "output_type": "stream",
       "stream": "stdout",
       "text": [
        "\n",
        "  Mirrored 168235 bytes to 1068x600/10/1384/476.mp4 from https://earthengine.google.org/timelapse/data/20130507/1068x600/10/1384/476.mp4"
       ]
      },
      {
       "output_type": "stream",
       "stream": "stdout",
       "text": [
        "\n",
        "  Mirrored 82738 bytes to 1068x600/10/1384/480.mp4 from https://earthengine.google.org/timelapse/data/20130507/1068x600/10/1384/480.mp4"
       ]
      },
      {
       "output_type": "stream",
       "stream": "stdout",
       "text": [
        "\n",
        "  Mirrored 1745357 bytes to 1068x600/10/1388/416.mp4 from https://earthengine.google.org/timelapse/data/20130507/1068x600/10/1388/416.mp4"
       ]
      },
      {
       "output_type": "stream",
       "stream": "stdout",
       "text": [
        "\n",
        "  Mirrored 1675953 bytes to 1068x600/10/1388/420.mp4 from https://earthengine.google.org/timelapse/data/20130507/1068x600/10/1388/420.mp4"
       ]
      },
      {
       "output_type": "stream",
       "stream": "stdout",
       "text": [
        "\n",
        "  Mirrored 1674818 bytes to 1068x600/10/1388/424.mp4 from https://earthengine.google.org/timelapse/data/20130507/1068x600/10/1388/424.mp4"
       ]
      },
      {
       "output_type": "stream",
       "stream": "stdout",
       "text": [
        "\n",
        "  Mirrored 1454317 bytes to 1068x600/10/1388/428.mp4 from https://earthengine.google.org/timelapse/data/20130507/1068x600/10/1388/428.mp4"
       ]
      },
      {
       "output_type": "stream",
       "stream": "stdout",
       "text": [
        "\n",
        "  Mirrored 1488566 bytes to 1068x600/10/1388/432.mp4 from https://earthengine.google.org/timelapse/data/20130507/1068x600/10/1388/432.mp4"
       ]
      },
      {
       "output_type": "stream",
       "stream": "stdout",
       "text": [
        "\n",
        "  Mirrored 1356756 bytes to 1068x600/10/1388/436.mp4 from https://earthengine.google.org/timelapse/data/20130507/1068x600/10/1388/436.mp4"
       ]
      },
      {
       "output_type": "stream",
       "stream": "stdout",
       "text": [
        "\n",
        "  Mirrored 640054 bytes to 1068x600/10/1388/440.mp4 from https://earthengine.google.org/timelapse/data/20130507/1068x600/10/1388/440.mp4"
       ]
      },
      {
       "output_type": "stream",
       "stream": "stdout",
       "text": [
        "\n",
        "  Mirrored 403485 bytes to 1068x600/10/1388/444.mp4 from https://earthengine.google.org/timelapse/data/20130507/1068x600/10/1388/444.mp4"
       ]
      },
      {
       "output_type": "stream",
       "stream": "stdout",
       "text": [
        "\n",
        "  Mirrored 646147 bytes to 1068x600/10/1388/448.mp4 from https://earthengine.google.org/timelapse/data/20130507/1068x600/10/1388/448.mp4"
       ]
      },
      {
       "output_type": "stream",
       "stream": "stdout",
       "text": [
        "\n",
        "  Mirrored 383193 bytes to 1068x600/10/1388/452.mp4 from https://earthengine.google.org/timelapse/data/20130507/1068x600/10/1388/452.mp4"
       ]
      },
      {
       "output_type": "stream",
       "stream": "stdout",
       "text": [
        "\n",
        "  Mirrored 263529 bytes to 1068x600/10/1388/456.mp4 from https://earthengine.google.org/timelapse/data/20130507/1068x600/10/1388/456.mp4"
       ]
      },
      {
       "output_type": "stream",
       "stream": "stdout",
       "text": [
        "\n",
        "  Mirrored 259152 bytes to 1068x600/10/1388/460.mp4 from https://earthengine.google.org/timelapse/data/20130507/1068x600/10/1388/460.mp4"
       ]
      },
      {
       "output_type": "stream",
       "stream": "stdout",
       "text": [
        "\n",
        "  Mirrored 269247 bytes to 1068x600/10/1388/464.mp4 from https://earthengine.google.org/timelapse/data/20130507/1068x600/10/1388/464.mp4"
       ]
      },
      {
       "output_type": "stream",
       "stream": "stdout",
       "text": [
        "\n",
        "  Mirrored 424873 bytes to 1068x600/10/1388/468.mp4 from https://earthengine.google.org/timelapse/data/20130507/1068x600/10/1388/468.mp4"
       ]
      },
      {
       "output_type": "stream",
       "stream": "stdout",
       "text": [
        "\n",
        "  Mirrored 659765 bytes to 1068x600/10/1388/472.mp4 from https://earthengine.google.org/timelapse/data/20130507/1068x600/10/1388/472.mp4"
       ]
      },
      {
       "output_type": "stream",
       "stream": "stdout",
       "text": [
        "\n",
        "  Mirrored 9671 bytes to 1068x600/10/1388/476.mp4 from https://earthengine.google.org/timelapse/data/20130507/1068x600/10/1388/476.mp4"
       ]
      },
      {
       "output_type": "stream",
       "stream": "stdout",
       "text": [
        "\n",
        "  Mirrored 3560 bytes to 1068x600/10/1388/480.mp4 from https://earthengine.google.org/timelapse/data/20130507/1068x600/10/1388/480.mp4"
       ]
      },
      {
       "output_type": "stream",
       "stream": "stdout",
       "text": [
        "\n",
        "  Mirrored 1887613 bytes to 1068x600/10/1392/416.mp4 from https://earthengine.google.org/timelapse/data/20130507/1068x600/10/1392/416.mp4"
       ]
      },
      {
       "output_type": "stream",
       "stream": "stdout",
       "text": [
        "\n",
        "  Mirrored 1554619 bytes to 1068x600/10/1392/420.mp4 from https://earthengine.google.org/timelapse/data/20130507/1068x600/10/1392/420.mp4"
       ]
      },
      {
       "output_type": "stream",
       "stream": "stdout",
       "text": [
        "\n",
        "  Mirrored 1592737 bytes to 1068x600/10/1392/424.mp4 from https://earthengine.google.org/timelapse/data/20130507/1068x600/10/1392/424.mp4"
       ]
      },
      {
       "output_type": "stream",
       "stream": "stdout",
       "text": [
        "\n",
        "  Mirrored 1361817 bytes to 1068x600/10/1392/428.mp4 from https://earthengine.google.org/timelapse/data/20130507/1068x600/10/1392/428.mp4"
       ]
      },
      {
       "output_type": "stream",
       "stream": "stdout",
       "text": [
        "\n",
        "  Mirrored 1321839 bytes to 1068x600/10/1392/432.mp4 from https://earthengine.google.org/timelapse/data/20130507/1068x600/10/1392/432.mp4"
       ]
      },
      {
       "output_type": "stream",
       "stream": "stdout",
       "text": [
        "\n",
        "  Mirrored 524068 bytes to 1068x600/10/1392/436.mp4 from https://earthengine.google.org/timelapse/data/20130507/1068x600/10/1392/436.mp4"
       ]
      },
      {
       "output_type": "stream",
       "stream": "stdout",
       "text": [
        "\n",
        "  Mirrored 301886 bytes to 1068x600/10/1392/440.mp4 from https://earthengine.google.org/timelapse/data/20130507/1068x600/10/1392/440.mp4"
       ]
      },
      {
       "output_type": "stream",
       "stream": "stdout",
       "text": [
        "\n",
        "  Mirrored 437021 bytes to 1068x600/10/1392/444.mp4 from https://earthengine.google.org/timelapse/data/20130507/1068x600/10/1392/444.mp4"
       ]
      },
      {
       "output_type": "stream",
       "stream": "stdout",
       "text": [
        "\n",
        "  Mirrored 413141 bytes to 1068x600/10/1392/448.mp4 from https://earthengine.google.org/timelapse/data/20130507/1068x600/10/1392/448.mp4"
       ]
      },
      {
       "output_type": "stream",
       "stream": "stdout",
       "text": [
        "\n",
        "  Mirrored 109099 bytes to 1068x600/10/1392/452.mp4 from https://earthengine.google.org/timelapse/data/20130507/1068x600/10/1392/452.mp4"
       ]
      },
      {
       "output_type": "stream",
       "stream": "stdout",
       "text": [
        "\n",
        "  Mirrored 111150 bytes to 1068x600/10/1392/456.mp4 from https://earthengine.google.org/timelapse/data/20130507/1068x600/10/1392/456.mp4"
       ]
      },
      {
       "output_type": "stream",
       "stream": "stdout",
       "text": [
        "\n",
        "  Mirrored 336878 bytes to 1068x600/10/1392/460.mp4 from https://earthengine.google.org/timelapse/data/20130507/1068x600/10/1392/460.mp4"
       ]
      },
      {
       "output_type": "stream",
       "stream": "stdout",
       "text": [
        "\n",
        "  Mirrored 367559 bytes to 1068x600/10/1392/464.mp4 from https://earthengine.google.org/timelapse/data/20130507/1068x600/10/1392/464.mp4"
       ]
      },
      {
       "output_type": "stream",
       "stream": "stdout",
       "text": [
        "\n",
        "  Mirrored 138386 bytes to 1068x600/10/1392/468.mp4 from https://earthengine.google.org/timelapse/data/20130507/1068x600/10/1392/468.mp4"
       ]
      },
      {
       "output_type": "stream",
       "stream": "stdout",
       "text": [
        "\n",
        "  Mirrored 42721 bytes to 1068x600/10/1392/472.mp4 from https://earthengine.google.org/timelapse/data/20130507/1068x600/10/1392/472.mp4"
       ]
      },
      {
       "output_type": "stream",
       "stream": "stdout",
       "text": [
        "\n",
        "  Mirrored 3560 bytes to 1068x600/10/1392/476.mp4 from https://earthengine.google.org/timelapse/data/20130507/1068x600/10/1392/476.mp4"
       ]
      },
      {
       "output_type": "stream",
       "stream": "stdout",
       "text": [
        "\n",
        "  Mirrored 3560 bytes to 1068x600/10/1392/480.mp4 from https://earthengine.google.org/timelapse/data/20130507/1068x600/10/1392/480.mp4"
       ]
      },
      {
       "output_type": "stream",
       "stream": "stdout",
       "text": [
        "\n",
        "  Mirrored 1786851 bytes to 1068x600/10/1396/416.mp4 from https://earthengine.google.org/timelapse/data/20130507/1068x600/10/1396/416.mp4"
       ]
      },
      {
       "output_type": "stream",
       "stream": "stdout",
       "text": [
        "\n",
        "  Mirrored 1679665 bytes to 1068x600/10/1396/420.mp4 from https://earthengine.google.org/timelapse/data/20130507/1068x600/10/1396/420.mp4"
       ]
      },
      {
       "output_type": "stream",
       "stream": "stdout",
       "text": [
        "\n",
        "  Mirrored 1750857 bytes to 1068x600/10/1396/424.mp4 from https://earthengine.google.org/timelapse/data/20130507/1068x600/10/1396/424.mp4"
       ]
      },
      {
       "output_type": "stream",
       "stream": "stdout",
       "text": [
        "\n",
        "  Mirrored 1692144 bytes to 1068x600/10/1396/428.mp4 from https://earthengine.google.org/timelapse/data/20130507/1068x600/10/1396/428.mp4"
       ]
      },
      {
       "output_type": "stream",
       "stream": "stdout",
       "text": [
        "\n",
        "  Mirrored 872796 bytes to 1068x600/10/1396/432.mp4 from https://earthengine.google.org/timelapse/data/20130507/1068x600/10/1396/432.mp4"
       ]
      },
      {
       "output_type": "stream",
       "stream": "stdout",
       "text": [
        "\n",
        "  Mirrored 463794 bytes to 1068x600/10/1396/436.mp4 from https://earthengine.google.org/timelapse/data/20130507/1068x600/10/1396/436.mp4"
       ]
      },
      {
       "output_type": "stream",
       "stream": "stdout",
       "text": [
        "\n",
        "  Mirrored 66894 bytes to 1068x600/10/1396/440.mp4 from https://earthengine.google.org/timelapse/data/20130507/1068x600/10/1396/440.mp4"
       ]
      },
      {
       "output_type": "stream",
       "stream": "stdout",
       "text": [
        "\n",
        "  Mirrored 3560 bytes to 1068x600/10/1396/444.mp4 from https://earthengine.google.org/timelapse/data/20130507/1068x600/10/1396/444.mp4"
       ]
      },
      {
       "output_type": "stream",
       "stream": "stdout",
       "text": [
        "\n",
        "  Mirrored 3560 bytes to 1068x600/10/1396/448.mp4 from https://earthengine.google.org/timelapse/data/20130507/1068x600/10/1396/448.mp4"
       ]
      },
      {
       "output_type": "stream",
       "stream": "stdout",
       "text": [
        "\n",
        "  Mirrored 3560 bytes to 1068x600/10/1396/452.mp4 from https://earthengine.google.org/timelapse/data/20130507/1068x600/10/1396/452.mp4"
       ]
      },
      {
       "output_type": "stream",
       "stream": "stdout",
       "text": [
        "\n",
        "  Mirrored 3560 bytes to 1068x600/10/1396/456.mp4 from https://earthengine.google.org/timelapse/data/20130507/1068x600/10/1396/456.mp4"
       ]
      },
      {
       "output_type": "stream",
       "stream": "stdout",
       "text": [
        "\n",
        "  Mirrored 6182 bytes to 1068x600/10/1396/460.mp4 from https://earthengine.google.org/timelapse/data/20130507/1068x600/10/1396/460.mp4"
       ]
      },
      {
       "output_type": "stream",
       "stream": "stdout",
       "text": [
        "\n",
        "  Mirrored 21527 bytes to 1068x600/10/1396/464.mp4 from https://earthengine.google.org/timelapse/data/20130507/1068x600/10/1396/464.mp4"
       ]
      },
      {
       "output_type": "stream",
       "stream": "stdout",
       "text": [
        "\n",
        "  Mirrored 3560 bytes to 1068x600/10/1396/468.mp4 from https://earthengine.google.org/timelapse/data/20130507/1068x600/10/1396/468.mp4"
       ]
      },
      {
       "output_type": "stream",
       "stream": "stdout",
       "text": [
        "\n",
        "  Mirrored 3560 bytes to 1068x600/10/1396/472.mp4 from https://earthengine.google.org/timelapse/data/20130507/1068x600/10/1396/472.mp4"
       ]
      },
      {
       "output_type": "stream",
       "stream": "stdout",
       "text": [
        "\n",
        "  Mirrored 3560 bytes to 1068x600/10/1396/476.mp4 from https://earthengine.google.org/timelapse/data/20130507/1068x600/10/1396/476.mp4"
       ]
      },
      {
       "output_type": "stream",
       "stream": "stdout",
       "text": [
        "\n",
        "  Mirrored 3560 bytes to 1068x600/10/1396/480.mp4 from https://earthengine.google.org/timelapse/data/20130507/1068x600/10/1396/480.mp4"
       ]
      },
      {
       "output_type": "stream",
       "stream": "stdout",
       "text": [
        "\n",
        "At level 11 want to fetch from (208, 655) to (240, 699)\n",
        "  1068x600/11/2620/832.mp4 already exists, skipping\n",
        "  1068x600/11/2620/836.mp4 already exists, skipping\n",
        "  1068x600/11/2620/840.mp4 already exists, skipping\n",
        "  1068x600/11/2620/844.mp4 already exists, skipping\n",
        "  1068x600/11/2620/848.mp4 already exists, skipping\n",
        "  1068x600/11/2620/852.mp4 already exists, skipping\n",
        "  1068x600/11/2620/856.mp4 already exists, skipping\n",
        "  1068x600/11/2620/860.mp4 already exists, skipping\n",
        "  1068x600/11/2620/864.mp4 already exists, skipping\n",
        "  1068x600/11/2620/868.mp4 already exists, skipping\n",
        "  1068x600/11/2620/872.mp4 already exists, skipping\n",
        "  1068x600/11/2620/876.mp4 already exists, skipping\n",
        "  1068x600/11/2620/880.mp4 already exists, skipping\n",
        "  1068x600/11/2620/884.mp4 already exists, skipping\n",
        "  1068x600/11/2620/888.mp4 already exists, skipping\n",
        "  1068x600/11/2620/892.mp4 already exists, skipping\n",
        "  1068x600/11/2620/896.mp4 already exists, skipping\n",
        "  1068x600/11/2620/900.mp4 already exists, skipping\n",
        "  Mirrored 1080766 bytes to 1068x600/11/2620/904.mp4 from https://earthengine.google.org/timelapse/data/20130507/1068x600/11/2620/904.mp4"
       ]
      },
      {
       "output_type": "stream",
       "stream": "stdout",
       "text": [
        "\n",
        "  Mirrored 1065377 bytes to 1068x600/11/2620/908.mp4 from https://earthengine.google.org/timelapse/data/20130507/1068x600/11/2620/908.mp4"
       ]
      },
      {
       "output_type": "stream",
       "stream": "stdout",
       "text": [
        "\n",
        "  Mirrored 823656 bytes to 1068x600/11/2620/912.mp4 from https://earthengine.google.org/timelapse/data/20130507/1068x600/11/2620/912.mp4"
       ]
      },
      {
       "output_type": "stream",
       "stream": "stdout",
       "text": [
        "\n",
        "  Mirrored 1067168 bytes to 1068x600/11/2620/916.mp4 from https://earthengine.google.org/timelapse/data/20130507/1068x600/11/2620/916.mp4"
       ]
      },
      {
       "output_type": "stream",
       "stream": "stdout",
       "text": [
        "\n",
        "  Mirrored 1145409 bytes to 1068x600/11/2620/920.mp4 from https://earthengine.google.org/timelapse/data/20130507/1068x600/11/2620/920.mp4"
       ]
      },
      {
       "output_type": "stream",
       "stream": "stdout",
       "text": [
        "\n",
        "  Mirrored 1576906 bytes to 1068x600/11/2620/924.mp4 from https://earthengine.google.org/timelapse/data/20130507/1068x600/11/2620/924.mp4"
       ]
      },
      {
       "output_type": "stream",
       "stream": "stdout",
       "text": [
        "\n",
        "  Mirrored 1805202 bytes to 1068x600/11/2620/928.mp4 from https://earthengine.google.org/timelapse/data/20130507/1068x600/11/2620/928.mp4"
       ]
      },
      {
       "output_type": "stream",
       "stream": "stdout",
       "text": [
        "\n",
        "  Mirrored 1645071 bytes to 1068x600/11/2620/932.mp4 from https://earthengine.google.org/timelapse/data/20130507/1068x600/11/2620/932.mp4"
       ]
      },
      {
       "output_type": "stream",
       "stream": "stdout",
       "text": [
        "\n",
        "  Mirrored 1454599 bytes to 1068x600/11/2620/936.mp4 from https://earthengine.google.org/timelapse/data/20130507/1068x600/11/2620/936.mp4"
       ]
      },
      {
       "output_type": "stream",
       "stream": "stdout",
       "text": [
        "\n",
        "  Mirrored 1448289 bytes to 1068x600/11/2620/940.mp4 from https://earthengine.google.org/timelapse/data/20130507/1068x600/11/2620/940.mp4"
       ]
      },
      {
       "output_type": "stream",
       "stream": "stdout",
       "text": [
        "\n",
        "  Mirrored 1491822 bytes to 1068x600/11/2620/944.mp4 from https://earthengine.google.org/timelapse/data/20130507/1068x600/11/2620/944.mp4"
       ]
      },
      {
       "output_type": "stream",
       "stream": "stdout",
       "text": [
        "\n",
        "  Mirrored 1601918 bytes to 1068x600/11/2620/948.mp4 from https://earthengine.google.org/timelapse/data/20130507/1068x600/11/2620/948.mp4"
       ]
      },
      {
       "output_type": "stream",
       "stream": "stdout",
       "text": [
        "\n",
        "  Mirrored 1426686 bytes to 1068x600/11/2620/952.mp4 from https://earthengine.google.org/timelapse/data/20130507/1068x600/11/2620/952.mp4"
       ]
      },
      {
       "output_type": "stream",
       "stream": "stdout",
       "text": [
        "\n",
        "  Mirrored 1196985 bytes to 1068x600/11/2620/956.mp4 from https://earthengine.google.org/timelapse/data/20130507/1068x600/11/2620/956.mp4"
       ]
      },
      {
       "output_type": "stream",
       "stream": "stdout",
       "text": [
        "\n",
        "  Mirrored 1013152 bytes to 1068x600/11/2620/960.mp4 from https://earthengine.google.org/timelapse/data/20130507/1068x600/11/2620/960.mp4"
       ]
      },
      {
       "output_type": "stream",
       "stream": "stdout",
       "text": [
        "\n",
        "  1068x600/11/2624/832.mp4 already exists, skipping\n",
        "  1068x600/11/2624/836.mp4 already exists, skipping\n",
        "  1068x600/11/2624/840.mp4 already exists, skipping\n",
        "  1068x600/11/2624/844.mp4 already exists, skipping\n",
        "  1068x600/11/2624/848.mp4 already exists, skipping\n",
        "  1068x600/11/2624/852.mp4 already exists, skipping\n",
        "  1068x600/11/2624/856.mp4 already exists, skipping\n",
        "  1068x600/11/2624/860.mp4 already exists, skipping\n",
        "  1068x600/11/2624/864.mp4 already exists, skipping\n",
        "  1068x600/11/2624/868.mp4 already exists, skipping\n",
        "  1068x600/11/2624/872.mp4 already exists, skipping\n",
        "  1068x600/11/2624/876.mp4 already exists, skipping\n",
        "  1068x600/11/2624/880.mp4 already exists, skipping\n",
        "  1068x600/11/2624/884.mp4 already exists, skipping\n",
        "  1068x600/11/2624/888.mp4 already exists, skipping\n",
        "  1068x600/11/2624/892.mp4 already exists, skipping\n",
        "  1068x600/11/2624/896.mp4 already exists, skipping\n",
        "  1068x600/11/2624/900.mp4 already exists, skipping\n",
        "  Mirrored 977404 bytes to 1068x600/11/2624/904.mp4 from https://earthengine.google.org/timelapse/data/20130507/1068x600/11/2624/904.mp4"
       ]
      },
      {
       "output_type": "stream",
       "stream": "stdout",
       "text": [
        "\n",
        "  Mirrored 1021716 bytes to 1068x600/11/2624/908.mp4 from https://earthengine.google.org/timelapse/data/20130507/1068x600/11/2624/908.mp4"
       ]
      },
      {
       "output_type": "stream",
       "stream": "stdout",
       "text": [
        "\n",
        "  Mirrored 1030360 bytes to 1068x600/11/2624/912.mp4 from https://earthengine.google.org/timelapse/data/20130507/1068x600/11/2624/912.mp4"
       ]
      },
      {
       "output_type": "stream",
       "stream": "stdout",
       "text": [
        "\n",
        "  Mirrored 1050668 bytes to 1068x600/11/2624/916.mp4 from https://earthengine.google.org/timelapse/data/20130507/1068x600/11/2624/916.mp4"
       ]
      },
      {
       "output_type": "stream",
       "stream": "stdout",
       "text": [
        "\n",
        "  Mirrored 1143539 bytes to 1068x600/11/2624/920.mp4 from https://earthengine.google.org/timelapse/data/20130507/1068x600/11/2624/920.mp4"
       ]
      },
      {
       "output_type": "stream",
       "stream": "stdout",
       "text": [
        "\n",
        "  Mirrored 1742953 bytes to 1068x600/11/2624/924.mp4 from https://earthengine.google.org/timelapse/data/20130507/1068x600/11/2624/924.mp4"
       ]
      },
      {
       "output_type": "stream",
       "stream": "stdout",
       "text": [
        "\n",
        "  Mirrored 1816988 bytes to 1068x600/11/2624/928.mp4 from https://earthengine.google.org/timelapse/data/20130507/1068x600/11/2624/928.mp4"
       ]
      },
      {
       "output_type": "stream",
       "stream": "stdout",
       "text": [
        "\n",
        "  Mirrored 1668148 bytes to 1068x600/11/2624/932.mp4 from https://earthengine.google.org/timelapse/data/20130507/1068x600/11/2624/932.mp4"
       ]
      },
      {
       "output_type": "stream",
       "stream": "stdout",
       "text": [
        "\n",
        "  Mirrored 1446366 bytes to 1068x600/11/2624/936.mp4 from https://earthengine.google.org/timelapse/data/20130507/1068x600/11/2624/936.mp4"
       ]
      },
      {
       "output_type": "stream",
       "stream": "stdout",
       "text": [
        "\n",
        "  Mirrored 1372921 bytes to 1068x600/11/2624/940.mp4 from https://earthengine.google.org/timelapse/data/20130507/1068x600/11/2624/940.mp4"
       ]
      },
      {
       "output_type": "stream",
       "stream": "stdout",
       "text": [
        "\n",
        "  Mirrored 1620008 bytes to 1068x600/11/2624/944.mp4 from https://earthengine.google.org/timelapse/data/20130507/1068x600/11/2624/944.mp4"
       ]
      },
      {
       "output_type": "stream",
       "stream": "stdout",
       "text": [
        "\n",
        "  Mirrored 1611298 bytes to 1068x600/11/2624/948.mp4 from https://earthengine.google.org/timelapse/data/20130507/1068x600/11/2624/948.mp4"
       ]
      },
      {
       "output_type": "stream",
       "stream": "stdout",
       "text": [
        "\n",
        "  Mirrored 1306925 bytes to 1068x600/11/2624/952.mp4 from https://earthengine.google.org/timelapse/data/20130507/1068x600/11/2624/952.mp4"
       ]
      },
      {
       "output_type": "stream",
       "stream": "stdout",
       "text": [
        "\n",
        "  Mirrored 999574 bytes to 1068x600/11/2624/956.mp4 from https://earthengine.google.org/timelapse/data/20130507/1068x600/11/2624/956.mp4"
       ]
      },
      {
       "output_type": "stream",
       "stream": "stdout",
       "text": [
        "\n",
        "  Mirrored 951299 bytes to 1068x600/11/2624/960.mp4 from https://earthengine.google.org/timelapse/data/20130507/1068x600/11/2624/960.mp4"
       ]
      },
      {
       "output_type": "stream",
       "stream": "stdout",
       "text": [
        "\n",
        "  1068x600/11/2628/832.mp4 already exists, skipping\n",
        "  1068x600/11/2628/836.mp4 already exists, skipping\n",
        "  1068x600/11/2628/840.mp4 already exists, skipping\n",
        "  1068x600/11/2628/844.mp4 already exists, skipping\n",
        "  1068x600/11/2628/848.mp4 already exists, skipping\n",
        "  1068x600/11/2628/852.mp4 already exists, skipping\n",
        "  1068x600/11/2628/856.mp4 already exists, skipping\n",
        "  1068x600/11/2628/860.mp4 already exists, skipping\n",
        "  1068x600/11/2628/864.mp4 already exists, skipping\n",
        "  1068x600/11/2628/868.mp4 already exists, skipping\n",
        "  1068x600/11/2628/872.mp4 already exists, skipping\n",
        "  1068x600/11/2628/876.mp4 already exists, skipping\n",
        "  1068x600/11/2628/880.mp4 already exists, skipping\n",
        "  1068x600/11/2628/884.mp4 already exists, skipping\n",
        "  1068x600/11/2628/888.mp4 already exists, skipping\n",
        "  1068x600/11/2628/892.mp4 already exists, skipping\n",
        "  1068x600/11/2628/896.mp4 already exists, skipping\n",
        "  1068x600/11/2628/900.mp4 already exists, skipping\n",
        "  Mirrored 991303 bytes to 1068x600/11/2628/904.mp4 from https://earthengine.google.org/timelapse/data/20130507/1068x600/11/2628/904.mp4"
       ]
      },
      {
       "output_type": "stream",
       "stream": "stdout",
       "text": [
        "\n",
        "  Mirrored 938379 bytes to 1068x600/11/2628/908.mp4 from https://earthengine.google.org/timelapse/data/20130507/1068x600/11/2628/908.mp4"
       ]
      },
      {
       "output_type": "stream",
       "stream": "stdout",
       "text": [
        "\n",
        "  Mirrored 965994 bytes to 1068x600/11/2628/912.mp4 from https://earthengine.google.org/timelapse/data/20130507/1068x600/11/2628/912.mp4"
       ]
      },
      {
       "output_type": "stream",
       "stream": "stdout",
       "text": [
        "\n",
        "  Mirrored 1017896 bytes to 1068x600/11/2628/916.mp4 from https://earthengine.google.org/timelapse/data/20130507/1068x600/11/2628/916.mp4"
       ]
      },
      {
       "output_type": "stream",
       "stream": "stdout",
       "text": [
        "\n",
        "  Mirrored 1335564 bytes to 1068x600/11/2628/920.mp4 from https://earthengine.google.org/timelapse/data/20130507/1068x600/11/2628/920.mp4"
       ]
      },
      {
       "output_type": "stream",
       "stream": "stdout",
       "text": [
        "\n",
        "  Mirrored 1885949 bytes to 1068x600/11/2628/924.mp4 from https://earthengine.google.org/timelapse/data/20130507/1068x600/11/2628/924.mp4"
       ]
      },
      {
       "output_type": "stream",
       "stream": "stdout",
       "text": [
        "\n",
        "  Mirrored 1877625 bytes to 1068x600/11/2628/928.mp4 from https://earthengine.google.org/timelapse/data/20130507/1068x600/11/2628/928.mp4"
       ]
      },
      {
       "output_type": "stream",
       "stream": "stdout",
       "text": [
        "\n",
        "  Mirrored 1495694 bytes to 1068x600/11/2628/932.mp4 from https://earthengine.google.org/timelapse/data/20130507/1068x600/11/2628/932.mp4"
       ]
      },
      {
       "output_type": "stream",
       "stream": "stdout",
       "text": [
        "\n",
        "  Mirrored 1352799 bytes to 1068x600/11/2628/936.mp4 from https://earthengine.google.org/timelapse/data/20130507/1068x600/11/2628/936.mp4"
       ]
      },
      {
       "output_type": "stream",
       "stream": "stdout",
       "text": [
        "\n",
        "  Mirrored 1439486 bytes to 1068x600/11/2628/940.mp4 from https://earthengine.google.org/timelapse/data/20130507/1068x600/11/2628/940.mp4"
       ]
      },
      {
       "output_type": "stream",
       "stream": "stdout",
       "text": [
        "\n",
        "  Mirrored 1574678 bytes to 1068x600/11/2628/944.mp4 from https://earthengine.google.org/timelapse/data/20130507/1068x600/11/2628/944.mp4"
       ]
      },
      {
       "output_type": "stream",
       "stream": "stdout",
       "text": [
        "\n",
        "  Mirrored 1552053 bytes to 1068x600/11/2628/948.mp4 from https://earthengine.google.org/timelapse/data/20130507/1068x600/11/2628/948.mp4"
       ]
      },
      {
       "output_type": "stream",
       "stream": "stdout",
       "text": [
        "\n",
        "  Mirrored 1337605 bytes to 1068x600/11/2628/952.mp4 from https://earthengine.google.org/timelapse/data/20130507/1068x600/11/2628/952.mp4"
       ]
      },
      {
       "output_type": "stream",
       "stream": "stdout",
       "text": [
        "\n",
        "  Mirrored 1067192 bytes to 1068x600/11/2628/956.mp4 from https://earthengine.google.org/timelapse/data/20130507/1068x600/11/2628/956.mp4"
       ]
      },
      {
       "output_type": "stream",
       "stream": "stdout",
       "text": [
        "\n",
        "  Mirrored 960119 bytes to 1068x600/11/2628/960.mp4 from https://earthengine.google.org/timelapse/data/20130507/1068x600/11/2628/960.mp4"
       ]
      },
      {
       "output_type": "stream",
       "stream": "stdout",
       "text": [
        "\n",
        "  1068x600/11/2632/832.mp4 already exists, skipping\n",
        "  1068x600/11/2632/836.mp4 already exists, skipping\n",
        "  1068x600/11/2632/840.mp4 already exists, skipping\n",
        "  1068x600/11/2632/844.mp4 already exists, skipping\n",
        "  1068x600/11/2632/848.mp4 already exists, skipping\n",
        "  1068x600/11/2632/852.mp4 already exists, skipping\n",
        "  1068x600/11/2632/856.mp4 already exists, skipping\n",
        "  1068x600/11/2632/860.mp4 already exists, skipping\n",
        "  1068x600/11/2632/864.mp4 already exists, skipping\n",
        "  1068x600/11/2632/868.mp4 already exists, skipping\n",
        "  1068x600/11/2632/872.mp4 already exists, skipping\n",
        "  1068x600/11/2632/876.mp4 already exists, skipping\n",
        "  1068x600/11/2632/880.mp4 already exists, skipping\n",
        "  1068x600/11/2632/884.mp4 already exists, skipping\n",
        "  1068x600/11/2632/888.mp4 already exists, skipping\n",
        "  1068x600/11/2632/892.mp4 already exists, skipping\n",
        "  1068x600/11/2632/896.mp4 already exists, skipping\n",
        "  1068x600/11/2632/900.mp4 already exists, skipping\n",
        "  Mirrored 997591 bytes to 1068x600/11/2632/904.mp4 from https://earthengine.google.org/timelapse/data/20130507/1068x600/11/2632/904.mp4"
       ]
      },
      {
       "output_type": "stream",
       "stream": "stdout",
       "text": [
        "\n",
        "  Mirrored 913582 bytes to 1068x600/11/2632/908.mp4 from https://earthengine.google.org/timelapse/data/20130507/1068x600/11/2632/908.mp4"
       ]
      },
      {
       "output_type": "stream",
       "stream": "stdout",
       "text": [
        "\n",
        "  Mirrored 1078270 bytes to 1068x600/11/2632/912.mp4 from https://earthengine.google.org/timelapse/data/20130507/1068x600/11/2632/912.mp4"
       ]
      },
      {
       "output_type": "stream",
       "stream": "stdout",
       "text": [
        "\n",
        "  Mirrored 1101855 bytes to 1068x600/11/2632/916.mp4 from https://earthengine.google.org/timelapse/data/20130507/1068x600/11/2632/916.mp4"
       ]
      },
      {
       "output_type": "stream",
       "stream": "stdout",
       "text": [
        "\n",
        "  Mirrored 1175696 bytes to 1068x600/11/2632/920.mp4 from https://earthengine.google.org/timelapse/data/20130507/1068x600/11/2632/920.mp4"
       ]
      },
      {
       "output_type": "stream",
       "stream": "stdout",
       "text": [
        "\n",
        "  Mirrored 1866829 bytes to 1068x600/11/2632/924.mp4 from https://earthengine.google.org/timelapse/data/20130507/1068x600/11/2632/924.mp4"
       ]
      },
      {
       "output_type": "stream",
       "stream": "stdout",
       "text": [
        "\n",
        "  Mirrored 1710501 bytes to 1068x600/11/2632/928.mp4 from https://earthengine.google.org/timelapse/data/20130507/1068x600/11/2632/928.mp4"
       ]
      },
      {
       "output_type": "stream",
       "stream": "stdout",
       "text": [
        "\n",
        "  Mirrored 1568573 bytes to 1068x600/11/2632/932.mp4 from https://earthengine.google.org/timelapse/data/20130507/1068x600/11/2632/932.mp4"
       ]
      },
      {
       "output_type": "stream",
       "stream": "stdout",
       "text": [
        "\n",
        "  Mirrored 1475908 bytes to 1068x600/11/2632/936.mp4 from https://earthengine.google.org/timelapse/data/20130507/1068x600/11/2632/936.mp4"
       ]
      },
      {
       "output_type": "stream",
       "stream": "stdout",
       "text": [
        "\n",
        "  Mirrored 1556610 bytes to 1068x600/11/2632/940.mp4 from https://earthengine.google.org/timelapse/data/20130507/1068x600/11/2632/940.mp4"
       ]
      },
      {
       "output_type": "stream",
       "stream": "stdout",
       "text": [
        "\n",
        "  Mirrored 1397632 bytes to 1068x600/11/2632/944.mp4 from https://earthengine.google.org/timelapse/data/20130507/1068x600/11/2632/944.mp4"
       ]
      },
      {
       "output_type": "stream",
       "stream": "stdout",
       "text": [
        "\n",
        "  Mirrored 1402856 bytes to 1068x600/11/2632/948.mp4 from https://earthengine.google.org/timelapse/data/20130507/1068x600/11/2632/948.mp4"
       ]
      },
      {
       "output_type": "stream",
       "stream": "stdout",
       "text": [
        "\n",
        "  Mirrored 1361216 bytes to 1068x600/11/2632/952.mp4 from https://earthengine.google.org/timelapse/data/20130507/1068x600/11/2632/952.mp4"
       ]
      },
      {
       "output_type": "stream",
       "stream": "stdout",
       "text": [
        "\n",
        "  Mirrored 1141701 bytes to 1068x600/11/2632/956.mp4 from https://earthengine.google.org/timelapse/data/20130507/1068x600/11/2632/956.mp4"
       ]
      },
      {
       "output_type": "stream",
       "stream": "stdout",
       "text": [
        "\n",
        "  Mirrored 1096655 bytes to 1068x600/11/2632/960.mp4 from https://earthengine.google.org/timelapse/data/20130507/1068x600/11/2632/960.mp4"
       ]
      },
      {
       "output_type": "stream",
       "stream": "stdout",
       "text": [
        "\n",
        "  1068x600/11/2636/832.mp4 already exists, skipping\n",
        "  1068x600/11/2636/836.mp4 already exists, skipping\n",
        "  1068x600/11/2636/840.mp4 already exists, skipping\n",
        "  1068x600/11/2636/844.mp4 already exists, skipping\n",
        "  1068x600/11/2636/848.mp4 already exists, skipping\n",
        "  1068x600/11/2636/852.mp4 already exists, skipping\n",
        "  1068x600/11/2636/856.mp4 already exists, skipping\n",
        "  1068x600/11/2636/860.mp4 already exists, skipping\n",
        "  1068x600/11/2636/864.mp4 already exists, skipping\n",
        "  1068x600/11/2636/868.mp4 already exists, skipping\n",
        "  1068x600/11/2636/872.mp4 already exists, skipping\n",
        "  1068x600/11/2636/876.mp4 already exists, skipping\n",
        "  1068x600/11/2636/880.mp4 already exists, skipping\n",
        "  1068x600/11/2636/884.mp4 already exists, skipping\n",
        "  1068x600/11/2636/888.mp4 already exists, skipping\n",
        "  1068x600/11/2636/892.mp4 already exists, skipping\n",
        "  1068x600/11/2636/896.mp4 already exists, skipping\n",
        "  1068x600/11/2636/900.mp4 already exists, skipping\n",
        "  Mirrored 1196729 bytes to 1068x600/11/2636/904.mp4 from https://earthengine.google.org/timelapse/data/20130507/1068x600/11/2636/904.mp4"
       ]
      },
      {
       "output_type": "stream",
       "stream": "stdout",
       "text": [
        "\n",
        "  Mirrored 1113658 bytes to 1068x600/11/2636/908.mp4 from https://earthengine.google.org/timelapse/data/20130507/1068x600/11/2636/908.mp4"
       ]
      },
      {
       "output_type": "stream",
       "stream": "stdout",
       "text": [
        "\n",
        "  Mirrored 1173063 bytes to 1068x600/11/2636/912.mp4 from https://earthengine.google.org/timelapse/data/20130507/1068x600/11/2636/912.mp4"
       ]
      },
      {
       "output_type": "stream",
       "stream": "stdout",
       "text": [
        "\n",
        "  Mirrored 1175550 bytes to 1068x600/11/2636/916.mp4 from https://earthengine.google.org/timelapse/data/20130507/1068x600/11/2636/916.mp4"
       ]
      },
      {
       "output_type": "stream",
       "stream": "stdout",
       "text": [
        "\n",
        "  Mirrored 1395869 bytes to 1068x600/11/2636/920.mp4 from https://earthengine.google.org/timelapse/data/20130507/1068x600/11/2636/920.mp4"
       ]
      },
      {
       "output_type": "stream",
       "stream": "stdout",
       "text": [
        "\n",
        "  Mirrored 1820438 bytes to 1068x600/11/2636/924.mp4 from https://earthengine.google.org/timelapse/data/20130507/1068x600/11/2636/924.mp4"
       ]
      },
      {
       "output_type": "stream",
       "stream": "stdout",
       "text": [
        "\n",
        "  Mirrored 1624599 bytes to 1068x600/11/2636/928.mp4 from https://earthengine.google.org/timelapse/data/20130507/1068x600/11/2636/928.mp4"
       ]
      },
      {
       "output_type": "stream",
       "stream": "stdout",
       "text": [
        "\n",
        "  Mirrored 1621587 bytes to 1068x600/11/2636/932.mp4 from https://earthengine.google.org/timelapse/data/20130507/1068x600/11/2636/932.mp4"
       ]
      },
      {
       "output_type": "stream",
       "stream": "stdout",
       "text": [
        "\n",
        "  Mirrored 1530280 bytes to 1068x600/11/2636/936.mp4 from https://earthengine.google.org/timelapse/data/20130507/1068x600/11/2636/936.mp4"
       ]
      },
      {
       "output_type": "stream",
       "stream": "stdout",
       "text": [
        "\n",
        "  Mirrored 1481245 bytes to 1068x600/11/2636/940.mp4 from https://earthengine.google.org/timelapse/data/20130507/1068x600/11/2636/940.mp4"
       ]
      },
      {
       "output_type": "stream",
       "stream": "stdout",
       "text": [
        "\n",
        "  Mirrored 1430768 bytes to 1068x600/11/2636/944.mp4 from https://earthengine.google.org/timelapse/data/20130507/1068x600/11/2636/944.mp4"
       ]
      },
      {
       "output_type": "stream",
       "stream": "stdout",
       "text": [
        "\n",
        "  Mirrored 1228966 bytes to 1068x600/11/2636/948.mp4 from https://earthengine.google.org/timelapse/data/20130507/1068x600/11/2636/948.mp4"
       ]
      },
      {
       "output_type": "stream",
       "stream": "stdout",
       "text": [
        "\n",
        "  Mirrored 1313338 bytes to 1068x600/11/2636/952.mp4 from https://earthengine.google.org/timelapse/data/20130507/1068x600/11/2636/952.mp4"
       ]
      },
      {
       "output_type": "stream",
       "stream": "stdout",
       "text": [
        "\n",
        "  Mirrored 1182589 bytes to 1068x600/11/2636/956.mp4 from https://earthengine.google.org/timelapse/data/20130507/1068x600/11/2636/956.mp4"
       ]
      },
      {
       "output_type": "stream",
       "stream": "stdout",
       "text": [
        "\n",
        "  Mirrored 1184606 bytes to 1068x600/11/2636/960.mp4 from https://earthengine.google.org/timelapse/data/20130507/1068x600/11/2636/960.mp4"
       ]
      },
      {
       "output_type": "stream",
       "stream": "stdout",
       "text": [
        "\n",
        "  1068x600/11/2640/832.mp4 already exists, skipping\n",
        "  1068x600/11/2640/836.mp4 already exists, skipping\n",
        "  1068x600/11/2640/840.mp4 already exists, skipping\n",
        "  1068x600/11/2640/844.mp4 already exists, skipping\n",
        "  1068x600/11/2640/848.mp4 already exists, skipping\n",
        "  1068x600/11/2640/852.mp4 already exists, skipping\n",
        "  1068x600/11/2640/856.mp4 already exists, skipping\n",
        "  1068x600/11/2640/860.mp4 already exists, skipping\n",
        "  1068x600/11/2640/864.mp4 already exists, skipping\n",
        "  1068x600/11/2640/868.mp4 already exists, skipping\n",
        "  1068x600/11/2640/872.mp4 already exists, skipping\n",
        "  1068x600/11/2640/876.mp4 already exists, skipping\n",
        "  1068x600/11/2640/880.mp4 already exists, skipping\n",
        "  1068x600/11/2640/884.mp4 already exists, skipping\n",
        "  1068x600/11/2640/888.mp4 already exists, skipping\n",
        "  1068x600/11/2640/892.mp4 already exists, skipping\n",
        "  1068x600/11/2640/896.mp4 already exists, skipping\n",
        "  1068x600/11/2640/900.mp4 already exists, skipping\n",
        "  Mirrored 1215463 bytes to 1068x600/11/2640/904.mp4 from https://earthengine.google.org/timelapse/data/20130507/1068x600/11/2640/904.mp4"
       ]
      },
      {
       "output_type": "stream",
       "stream": "stdout",
       "text": [
        "\n",
        "  Mirrored 1252740 bytes to 1068x600/11/2640/908.mp4 from https://earthengine.google.org/timelapse/data/20130507/1068x600/11/2640/908.mp4"
       ]
      },
      {
       "output_type": "stream",
       "stream": "stdout",
       "text": [
        "\n",
        "  Mirrored 1202812 bytes to 1068x600/11/2640/912.mp4 from https://earthengine.google.org/timelapse/data/20130507/1068x600/11/2640/912.mp4"
       ]
      },
      {
       "output_type": "stream",
       "stream": "stdout",
       "text": [
        "\n",
        "  Mirrored 1245960 bytes to 1068x600/11/2640/916.mp4 from https://earthengine.google.org/timelapse/data/20130507/1068x600/11/2640/916.mp4"
       ]
      },
      {
       "output_type": "stream",
       "stream": "stdout",
       "text": [
        "\n",
        "  Mirrored 1558478 bytes to 1068x600/11/2640/920.mp4 from https://earthengine.google.org/timelapse/data/20130507/1068x600/11/2640/920.mp4"
       ]
      },
      {
       "output_type": "stream",
       "stream": "stdout",
       "text": [
        "\n",
        "  Mirrored 1602494 bytes to 1068x600/11/2640/924.mp4 from https://earthengine.google.org/timelapse/data/20130507/1068x600/11/2640/924.mp4"
       ]
      },
      {
       "output_type": "stream",
       "stream": "stdout",
       "text": [
        "\n",
        "  Mirrored 1544918 bytes to 1068x600/11/2640/928.mp4 from https://earthengine.google.org/timelapse/data/20130507/1068x600/11/2640/928.mp4"
       ]
      },
      {
       "output_type": "stream",
       "stream": "stdout",
       "text": [
        "\n",
        "  Mirrored 1551052 bytes to 1068x600/11/2640/932.mp4 from https://earthengine.google.org/timelapse/data/20130507/1068x600/11/2640/932.mp4"
       ]
      },
      {
       "output_type": "stream",
       "stream": "stdout",
       "text": [
        "\n",
        "  Mirrored 1630058 bytes to 1068x600/11/2640/936.mp4 from https://earthengine.google.org/timelapse/data/20130507/1068x600/11/2640/936.mp4"
       ]
      },
      {
       "output_type": "stream",
       "stream": "stdout",
       "text": [
        "\n",
        "  Mirrored 1415337 bytes to 1068x600/11/2640/940.mp4 from https://earthengine.google.org/timelapse/data/20130507/1068x600/11/2640/940.mp4"
       ]
      },
      {
       "output_type": "stream",
       "stream": "stdout",
       "text": [
        "\n",
        "  Mirrored 1293815 bytes to 1068x600/11/2640/944.mp4 from https://earthengine.google.org/timelapse/data/20130507/1068x600/11/2640/944.mp4"
       ]
      },
      {
       "output_type": "stream",
       "stream": "stdout",
       "text": [
        "\n",
        "  Mirrored 1247481 bytes to 1068x600/11/2640/948.mp4 from https://earthengine.google.org/timelapse/data/20130507/1068x600/11/2640/948.mp4"
       ]
      },
      {
       "output_type": "stream",
       "stream": "stdout",
       "text": [
        "\n",
        "  Mirrored 1370420 bytes to 1068x600/11/2640/952.mp4 from https://earthengine.google.org/timelapse/data/20130507/1068x600/11/2640/952.mp4"
       ]
      },
      {
       "output_type": "stream",
       "stream": "stdout",
       "text": [
        "\n",
        "  Mirrored 1186064 bytes to 1068x600/11/2640/956.mp4 from https://earthengine.google.org/timelapse/data/20130507/1068x600/11/2640/956.mp4"
       ]
      },
      {
       "output_type": "stream",
       "stream": "stdout",
       "text": [
        "\n",
        "  Mirrored 1204228 bytes to 1068x600/11/2640/960.mp4 from https://earthengine.google.org/timelapse/data/20130507/1068x600/11/2640/960.mp4"
       ]
      },
      {
       "output_type": "stream",
       "stream": "stdout",
       "text": [
        "\n",
        "  1068x600/11/2644/832.mp4 already exists, skipping\n",
        "  1068x600/11/2644/836.mp4 already exists, skipping\n",
        "  1068x600/11/2644/840.mp4 already exists, skipping\n",
        "  1068x600/11/2644/844.mp4 already exists, skipping\n",
        "  1068x600/11/2644/848.mp4 already exists, skipping\n",
        "  1068x600/11/2644/852.mp4 already exists, skipping\n",
        "  1068x600/11/2644/856.mp4 already exists, skipping\n",
        "  1068x600/11/2644/860.mp4 already exists, skipping\n",
        "  1068x600/11/2644/864.mp4 already exists, skipping\n",
        "  1068x600/11/2644/868.mp4 already exists, skipping\n",
        "  1068x600/11/2644/872.mp4 already exists, skipping\n",
        "  1068x600/11/2644/876.mp4 already exists, skipping\n",
        "  1068x600/11/2644/880.mp4 already exists, skipping\n",
        "  1068x600/11/2644/884.mp4 already exists, skipping\n",
        "  1068x600/11/2644/888.mp4 already exists, skipping\n",
        "  1068x600/11/2644/892.mp4 already exists, skipping\n",
        "  1068x600/11/2644/896.mp4 already exists, skipping\n",
        "  1068x600/11/2644/900.mp4 already exists, skipping\n",
        "  Mirrored 938712 bytes to 1068x600/11/2644/904.mp4 from https://earthengine.google.org/timelapse/data/20130507/1068x600/11/2644/904.mp4"
       ]
      },
      {
       "output_type": "stream",
       "stream": "stdout",
       "text": [
        "\n",
        "  Mirrored 1021632 bytes to 1068x600/11/2644/908.mp4 from https://earthengine.google.org/timelapse/data/20130507/1068x600/11/2644/908.mp4"
       ]
      },
      {
       "output_type": "stream",
       "stream": "stdout",
       "text": [
        "\n",
        "  Mirrored 1081902 bytes to 1068x600/11/2644/912.mp4 from https://earthengine.google.org/timelapse/data/20130507/1068x600/11/2644/912.mp4"
       ]
      },
      {
       "output_type": "stream",
       "stream": "stdout",
       "text": [
        "\n",
        "  Mirrored 1258355 bytes to 1068x600/11/2644/916.mp4 from https://earthengine.google.org/timelapse/data/20130507/1068x600/11/2644/916.mp4"
       ]
      },
      {
       "output_type": "stream",
       "stream": "stdout",
       "text": [
        "\n",
        "  Mirrored 1555905 bytes to 1068x600/11/2644/920.mp4 from https://earthengine.google.org/timelapse/data/20130507/1068x600/11/2644/920.mp4"
       ]
      },
      {
       "output_type": "stream",
       "stream": "stdout",
       "text": [
        "\n",
        "  Mirrored 1551310 bytes to 1068x600/11/2644/924.mp4 from https://earthengine.google.org/timelapse/data/20130507/1068x600/11/2644/924.mp4"
       ]
      },
      {
       "output_type": "stream",
       "stream": "stdout",
       "text": [
        "\n",
        "  Mirrored 1664692 bytes to 1068x600/11/2644/928.mp4 from https://earthengine.google.org/timelapse/data/20130507/1068x600/11/2644/928.mp4"
       ]
      },
      {
       "output_type": "stream",
       "stream": "stdout",
       "text": [
        "\n",
        "  Mirrored 1363975 bytes to 1068x600/11/2644/932.mp4 from https://earthengine.google.org/timelapse/data/20130507/1068x600/11/2644/932.mp4"
       ]
      },
      {
       "output_type": "stream",
       "stream": "stdout",
       "text": [
        "\n",
        "  Mirrored 1607427 bytes to 1068x600/11/2644/936.mp4 from https://earthengine.google.org/timelapse/data/20130507/1068x600/11/2644/936.mp4"
       ]
      },
      {
       "output_type": "stream",
       "stream": "stdout",
       "text": [
        "\n",
        "  Mirrored 1370444 bytes to 1068x600/11/2644/940.mp4 from https://earthengine.google.org/timelapse/data/20130507/1068x600/11/2644/940.mp4"
       ]
      },
      {
       "output_type": "stream",
       "stream": "stdout",
       "text": [
        "\n",
        "  Mirrored 1265281 bytes to 1068x600/11/2644/944.mp4 from https://earthengine.google.org/timelapse/data/20130507/1068x600/11/2644/944.mp4"
       ]
      },
      {
       "output_type": "stream",
       "stream": "stdout",
       "text": [
        "\n",
        "  Mirrored 1245087 bytes to 1068x600/11/2644/948.mp4 from https://earthengine.google.org/timelapse/data/20130507/1068x600/11/2644/948.mp4"
       ]
      },
      {
       "output_type": "stream",
       "stream": "stdout",
       "text": [
        "\n",
        "  Mirrored 1332574 bytes to 1068x600/11/2644/952.mp4 from https://earthengine.google.org/timelapse/data/20130507/1068x600/11/2644/952.mp4"
       ]
      },
      {
       "output_type": "stream",
       "stream": "stdout",
       "text": [
        "\n",
        "  Mirrored 1056260 bytes to 1068x600/11/2644/956.mp4 from https://earthengine.google.org/timelapse/data/20130507/1068x600/11/2644/956.mp4"
       ]
      },
      {
       "output_type": "stream",
       "stream": "stdout",
       "text": [
        "\n",
        "  Mirrored 1305078 bytes to 1068x600/11/2644/960.mp4 from https://earthengine.google.org/timelapse/data/20130507/1068x600/11/2644/960.mp4"
       ]
      },
      {
       "output_type": "stream",
       "stream": "stdout",
       "text": [
        "\n",
        "  1068x600/11/2648/832.mp4 already exists, skipping\n",
        "  1068x600/11/2648/836.mp4 already exists, skipping\n",
        "  1068x600/11/2648/840.mp4 already exists, skipping\n",
        "  1068x600/11/2648/844.mp4 already exists, skipping\n",
        "  1068x600/11/2648/848.mp4 already exists, skipping\n",
        "  1068x600/11/2648/852.mp4 already exists, skipping\n",
        "  1068x600/11/2648/856.mp4 already exists, skipping\n",
        "  1068x600/11/2648/860.mp4 already exists, skipping\n",
        "  1068x600/11/2648/864.mp4 already exists, skipping\n",
        "  1068x600/11/2648/868.mp4 already exists, skipping\n",
        "  1068x600/11/2648/872.mp4 already exists, skipping\n",
        "  1068x600/11/2648/876.mp4 already exists, skipping\n",
        "  1068x600/11/2648/880.mp4 already exists, skipping\n",
        "  1068x600/11/2648/884.mp4 already exists, skipping\n",
        "  1068x600/11/2648/888.mp4 already exists, skipping\n",
        "  1068x600/11/2648/892.mp4 already exists, skipping\n",
        "  1068x600/11/2648/896.mp4 already exists, skipping\n",
        "  1068x600/11/2648/900.mp4 already exists, skipping\n",
        "  Mirrored 874573 bytes to 1068x600/11/2648/904.mp4 from https://earthengine.google.org/timelapse/data/20130507/1068x600/11/2648/904.mp4"
       ]
      },
      {
       "output_type": "stream",
       "stream": "stdout",
       "text": [
        "\n",
        "  Mirrored 898932 bytes to 1068x600/11/2648/908.mp4 from https://earthengine.google.org/timelapse/data/20130507/1068x600/11/2648/908.mp4"
       ]
      },
      {
       "output_type": "stream",
       "stream": "stdout",
       "text": [
        "\n",
        "  Mirrored 1392494 bytes to 1068x600/11/2648/912.mp4 from https://earthengine.google.org/timelapse/data/20130507/1068x600/11/2648/912.mp4"
       ]
      },
      {
       "output_type": "stream",
       "stream": "stdout",
       "text": [
        "\n",
        "  Mirrored 1657899 bytes to 1068x600/11/2648/916.mp4 from https://earthengine.google.org/timelapse/data/20130507/1068x600/11/2648/916.mp4"
       ]
      },
      {
       "output_type": "stream",
       "stream": "stdout",
       "text": [
        "\n",
        "  Mirrored 1468652 bytes to 1068x600/11/2648/920.mp4 from https://earthengine.google.org/timelapse/data/20130507/1068x600/11/2648/920.mp4"
       ]
      },
      {
       "output_type": "stream",
       "stream": "stdout",
       "text": [
        "\n",
        "  Mirrored 1547361 bytes to 1068x600/11/2648/924.mp4 from https://earthengine.google.org/timelapse/data/20130507/1068x600/11/2648/924.mp4"
       ]
      },
      {
       "output_type": "stream",
       "stream": "stdout",
       "text": [
        "\n",
        "  Mirrored 1763984 bytes to 1068x600/11/2648/928.mp4 from https://earthengine.google.org/timelapse/data/20130507/1068x600/11/2648/928.mp4"
       ]
      },
      {
       "output_type": "stream",
       "stream": "stdout",
       "text": [
        "\n",
        "  Mirrored 1352444 bytes to 1068x600/11/2648/932.mp4 from https://earthengine.google.org/timelapse/data/20130507/1068x600/11/2648/932.mp4"
       ]
      },
      {
       "output_type": "stream",
       "stream": "stdout",
       "text": [
        "\n",
        "  Mirrored 1390647 bytes to 1068x600/11/2648/936.mp4 from https://earthengine.google.org/timelapse/data/20130507/1068x600/11/2648/936.mp4"
       ]
      },
      {
       "output_type": "stream",
       "stream": "stdout",
       "text": [
        "\n",
        "  Mirrored 1290966 bytes to 1068x600/11/2648/940.mp4 from https://earthengine.google.org/timelapse/data/20130507/1068x600/11/2648/940.mp4"
       ]
      },
      {
       "output_type": "stream",
       "stream": "stdout",
       "text": [
        "\n",
        "  Mirrored 1211792 bytes to 1068x600/11/2648/944.mp4 from https://earthengine.google.org/timelapse/data/20130507/1068x600/11/2648/944.mp4"
       ]
      },
      {
       "output_type": "stream",
       "stream": "stdout",
       "text": [
        "\n",
        "  Mirrored 1292154 bytes to 1068x600/11/2648/948.mp4 from https://earthengine.google.org/timelapse/data/20130507/1068x600/11/2648/948.mp4"
       ]
      },
      {
       "output_type": "stream",
       "stream": "stdout",
       "text": [
        "\n",
        "  Mirrored 1287691 bytes to 1068x600/11/2648/952.mp4 from https://earthengine.google.org/timelapse/data/20130507/1068x600/11/2648/952.mp4"
       ]
      },
      {
       "output_type": "stream",
       "stream": "stdout",
       "text": [
        "\n",
        "  Mirrored 1160419 bytes to 1068x600/11/2648/956.mp4 from https://earthengine.google.org/timelapse/data/20130507/1068x600/11/2648/956.mp4"
       ]
      },
      {
       "output_type": "stream",
       "stream": "stdout",
       "text": [
        "\n",
        "  Mirrored 1474947 bytes to 1068x600/11/2648/960.mp4 from https://earthengine.google.org/timelapse/data/20130507/1068x600/11/2648/960.mp4"
       ]
      },
      {
       "output_type": "stream",
       "stream": "stdout",
       "text": [
        "\n",
        "  1068x600/11/2652/832.mp4 already exists, skipping\n",
        "  1068x600/11/2652/836.mp4 already exists, skipping\n",
        "  1068x600/11/2652/840.mp4 already exists, skipping\n",
        "  1068x600/11/2652/844.mp4 already exists, skipping\n",
        "  1068x600/11/2652/848.mp4 already exists, skipping\n",
        "  1068x600/11/2652/852.mp4 already exists, skipping\n",
        "  1068x600/11/2652/856.mp4 already exists, skipping\n",
        "  1068x600/11/2652/860.mp4 already exists, skipping\n",
        "  1068x600/11/2652/864.mp4 already exists, skipping\n",
        "  1068x600/11/2652/868.mp4 already exists, skipping\n",
        "  1068x600/11/2652/872.mp4 already exists, skipping\n",
        "  1068x600/11/2652/876.mp4 already exists, skipping\n",
        "  1068x600/11/2652/880.mp4 already exists, skipping\n",
        "  1068x600/11/2652/884.mp4 already exists, skipping\n",
        "  1068x600/11/2652/888.mp4 already exists, skipping\n",
        "  1068x600/11/2652/892.mp4 already exists, skipping\n",
        "  1068x600/11/2652/896.mp4 already exists, skipping\n",
        "  1068x600/11/2652/900.mp4 already exists, skipping\n",
        "  Mirrored 1095678 bytes to 1068x600/11/2652/904.mp4 from https://earthengine.google.org/timelapse/data/20130507/1068x600/11/2652/904.mp4"
       ]
      },
      {
       "output_type": "stream",
       "stream": "stdout",
       "text": [
        "\n",
        "  Mirrored 1162650 bytes to 1068x600/11/2652/908.mp4 from https://earthengine.google.org/timelapse/data/20130507/1068x600/11/2652/908.mp4"
       ]
      },
      {
       "output_type": "stream",
       "stream": "stdout",
       "text": [
        "\n",
        "  Mirrored 1373386 bytes to 1068x600/11/2652/912.mp4 from https://earthengine.google.org/timelapse/data/20130507/1068x600/11/2652/912.mp4"
       ]
      },
      {
       "output_type": "stream",
       "stream": "stdout",
       "text": [
        "\n",
        "  Mirrored 1661936 bytes to 1068x600/11/2652/916.mp4 from https://earthengine.google.org/timelapse/data/20130507/1068x600/11/2652/916.mp4"
       ]
      },
      {
       "output_type": "stream",
       "stream": "stdout",
       "text": [
        "\n",
        "  Mirrored 1650079 bytes to 1068x600/11/2652/920.mp4 from https://earthengine.google.org/timelapse/data/20130507/1068x600/11/2652/920.mp4"
       ]
      },
      {
       "output_type": "stream",
       "stream": "stdout",
       "text": [
        "\n",
        "  Mirrored 1471461 bytes to 1068x600/11/2652/924.mp4 from https://earthengine.google.org/timelapse/data/20130507/1068x600/11/2652/924.mp4"
       ]
      },
      {
       "output_type": "stream",
       "stream": "stdout",
       "text": [
        "\n",
        "  Mirrored 1789062 bytes to 1068x600/11/2652/928.mp4 from https://earthengine.google.org/timelapse/data/20130507/1068x600/11/2652/928.mp4"
       ]
      },
      {
       "output_type": "stream",
       "stream": "stdout",
       "text": [
        "\n",
        "  Mirrored 1322628 bytes to 1068x600/11/2652/932.mp4 from https://earthengine.google.org/timelapse/data/20130507/1068x600/11/2652/932.mp4"
       ]
      },
      {
       "output_type": "stream",
       "stream": "stdout",
       "text": [
        "\n",
        "  Mirrored 1369660 bytes to 1068x600/11/2652/936.mp4 from https://earthengine.google.org/timelapse/data/20130507/1068x600/11/2652/936.mp4"
       ]
      },
      {
       "output_type": "stream",
       "stream": "stdout",
       "text": [
        "\n",
        "  Mirrored 1201488 bytes to 1068x600/11/2652/940.mp4 from https://earthengine.google.org/timelapse/data/20130507/1068x600/11/2652/940.mp4"
       ]
      },
      {
       "output_type": "stream",
       "stream": "stdout",
       "text": [
        "\n",
        "  Mirrored 1222021 bytes to 1068x600/11/2652/944.mp4 from https://earthengine.google.org/timelapse/data/20130507/1068x600/11/2652/944.mp4"
       ]
      },
      {
       "output_type": "stream",
       "stream": "stdout",
       "text": [
        "\n",
        "  Mirrored 1279505 bytes to 1068x600/11/2652/948.mp4 from https://earthengine.google.org/timelapse/data/20130507/1068x600/11/2652/948.mp4"
       ]
      },
      {
       "output_type": "stream",
       "stream": "stdout",
       "text": [
        "\n",
        "  Mirrored 1281184 bytes to 1068x600/11/2652/952.mp4 from https://earthengine.google.org/timelapse/data/20130507/1068x600/11/2652/952.mp4"
       ]
      },
      {
       "output_type": "stream",
       "stream": "stdout",
       "text": [
        "\n",
        "  Mirrored 1155623 bytes to 1068x600/11/2652/956.mp4 from https://earthengine.google.org/timelapse/data/20130507/1068x600/11/2652/956.mp4"
       ]
      },
      {
       "output_type": "stream",
       "stream": "stdout",
       "text": [
        "\n",
        "  Mirrored 1328533 bytes to 1068x600/11/2652/960.mp4 from https://earthengine.google.org/timelapse/data/20130507/1068x600/11/2652/960.mp4"
       ]
      },
      {
       "output_type": "stream",
       "stream": "stdout",
       "text": [
        "\n",
        "  1068x600/11/2656/832.mp4 already exists, skipping\n",
        "  1068x600/11/2656/836.mp4 already exists, skipping\n",
        "  1068x600/11/2656/840.mp4 already exists, skipping\n",
        "  1068x600/11/2656/844.mp4 already exists, skipping\n",
        "  1068x600/11/2656/848.mp4 already exists, skipping\n",
        "  1068x600/11/2656/852.mp4 already exists, skipping\n",
        "  1068x600/11/2656/856.mp4 already exists, skipping\n",
        "  1068x600/11/2656/860.mp4 already exists, skipping\n",
        "  1068x600/11/2656/864.mp4 already exists, skipping\n",
        "  1068x600/11/2656/868.mp4 already exists, skipping\n",
        "  1068x600/11/2656/872.mp4 already exists, skipping\n",
        "  1068x600/11/2656/876.mp4 already exists, skipping\n",
        "  1068x600/11/2656/880.mp4 already exists, skipping\n",
        "  1068x600/11/2656/884.mp4 already exists, skipping\n",
        "  1068x600/11/2656/888.mp4 already exists, skipping\n",
        "  1068x600/11/2656/892.mp4 already exists, skipping\n",
        "  1068x600/11/2656/896.mp4 already exists, skipping\n",
        "  1068x600/11/2656/900.mp4 already exists, skipping\n",
        "  Mirrored 1145606 bytes to 1068x600/11/2656/904.mp4 from https://earthengine.google.org/timelapse/data/20130507/1068x600/11/2656/904.mp4"
       ]
      },
      {
       "output_type": "stream",
       "stream": "stdout",
       "text": [
        "\n",
        "  Mirrored 1062085 bytes to 1068x600/11/2656/908.mp4 from https://earthengine.google.org/timelapse/data/20130507/1068x600/11/2656/908.mp4"
       ]
      },
      {
       "output_type": "stream",
       "stream": "stdout",
       "text": [
        "\n",
        "  Mirrored 1095618 bytes to 1068x600/11/2656/912.mp4 from https://earthengine.google.org/timelapse/data/20130507/1068x600/11/2656/912.mp4"
       ]
      },
      {
       "output_type": "stream",
       "stream": "stdout",
       "text": [
        "\n",
        "  Mirrored 1576371 bytes to 1068x600/11/2656/916.mp4 from https://earthengine.google.org/timelapse/data/20130507/1068x600/11/2656/916.mp4"
       ]
      },
      {
       "output_type": "stream",
       "stream": "stdout",
       "text": [
        "\n",
        "  Mirrored 1675364 bytes to 1068x600/11/2656/920.mp4 from https://earthengine.google.org/timelapse/data/20130507/1068x600/11/2656/920.mp4"
       ]
      },
      {
       "output_type": "stream",
       "stream": "stdout",
       "text": [
        "\n",
        "  Mirrored 1336472 bytes to 1068x600/11/2656/924.mp4 from https://earthengine.google.org/timelapse/data/20130507/1068x600/11/2656/924.mp4"
       ]
      },
      {
       "output_type": "stream",
       "stream": "stdout",
       "text": [
        "\n",
        "  Mirrored 1792513 bytes to 1068x600/11/2656/928.mp4 from https://earthengine.google.org/timelapse/data/20130507/1068x600/11/2656/928.mp4"
       ]
      },
      {
       "output_type": "stream",
       "stream": "stdout",
       "text": [
        "\n",
        "  Mirrored 1372014 bytes to 1068x600/11/2656/932.mp4 from https://earthengine.google.org/timelapse/data/20130507/1068x600/11/2656/932.mp4"
       ]
      },
      {
       "output_type": "stream",
       "stream": "stdout",
       "text": [
        "\n",
        "  Mirrored 1319150 bytes to 1068x600/11/2656/936.mp4 from https://earthengine.google.org/timelapse/data/20130507/1068x600/11/2656/936.mp4"
       ]
      },
      {
       "output_type": "stream",
       "stream": "stdout",
       "text": [
        "\n",
        "  Mirrored 1135682 bytes to 1068x600/11/2656/940.mp4 from https://earthengine.google.org/timelapse/data/20130507/1068x600/11/2656/940.mp4"
       ]
      },
      {
       "output_type": "stream",
       "stream": "stdout",
       "text": [
        "\n",
        "  Mirrored 1222713 bytes to 1068x600/11/2656/944.mp4 from https://earthengine.google.org/timelapse/data/20130507/1068x600/11/2656/944.mp4"
       ]
      },
      {
       "output_type": "stream",
       "stream": "stdout",
       "text": [
        "\n",
        "  Mirrored 1392137 bytes to 1068x600/11/2656/948.mp4 from https://earthengine.google.org/timelapse/data/20130507/1068x600/11/2656/948.mp4"
       ]
      },
      {
       "output_type": "stream",
       "stream": "stdout",
       "text": [
        "\n",
        "  Mirrored 1269440 bytes to 1068x600/11/2656/952.mp4 from https://earthengine.google.org/timelapse/data/20130507/1068x600/11/2656/952.mp4"
       ]
      },
      {
       "output_type": "stream",
       "stream": "stdout",
       "text": [
        "\n",
        "  Mirrored 1264524 bytes to 1068x600/11/2656/956.mp4 from https://earthengine.google.org/timelapse/data/20130507/1068x600/11/2656/956.mp4"
       ]
      },
      {
       "output_type": "stream",
       "stream": "stdout",
       "text": [
        "\n",
        "  Mirrored 1344697 bytes to 1068x600/11/2656/960.mp4 from https://earthengine.google.org/timelapse/data/20130507/1068x600/11/2656/960.mp4"
       ]
      },
      {
       "output_type": "stream",
       "stream": "stdout",
       "text": [
        "\n",
        "  1068x600/11/2660/832.mp4 already exists, skipping\n",
        "  1068x600/11/2660/836.mp4 already exists, skipping\n",
        "  1068x600/11/2660/840.mp4 already exists, skipping\n",
        "  1068x600/11/2660/844.mp4 already exists, skipping\n",
        "  1068x600/11/2660/848.mp4 already exists, skipping\n",
        "  1068x600/11/2660/852.mp4 already exists, skipping\n",
        "  1068x600/11/2660/856.mp4 already exists, skipping\n",
        "  1068x600/11/2660/860.mp4 already exists, skipping\n",
        "  1068x600/11/2660/864.mp4 already exists, skipping\n",
        "  1068x600/11/2660/868.mp4 already exists, skipping\n",
        "  1068x600/11/2660/872.mp4 already exists, skipping\n",
        "  1068x600/11/2660/876.mp4 already exists, skipping\n",
        "  1068x600/11/2660/880.mp4 already exists, skipping\n",
        "  1068x600/11/2660/884.mp4 already exists, skipping\n",
        "  1068x600/11/2660/888.mp4 already exists, skipping\n",
        "  1068x600/11/2660/892.mp4 already exists, skipping\n",
        "  1068x600/11/2660/896.mp4 already exists, skipping\n",
        "  1068x600/11/2660/900.mp4 already exists, skipping\n",
        "  Mirrored 1020912 bytes to 1068x600/11/2660/904.mp4 from https://earthengine.google.org/timelapse/data/20130507/1068x600/11/2660/904.mp4"
       ]
      },
      {
       "output_type": "stream",
       "stream": "stdout",
       "text": [
        "\n",
        "  Mirrored 1013871 bytes to 1068x600/11/2660/908.mp4 from https://earthengine.google.org/timelapse/data/20130507/1068x600/11/2660/908.mp4"
       ]
      },
      {
       "output_type": "stream",
       "stream": "stdout",
       "text": [
        "\n",
        "  Mirrored 1057617 bytes to 1068x600/11/2660/912.mp4 from https://earthengine.google.org/timelapse/data/20130507/1068x600/11/2660/912.mp4"
       ]
      },
      {
       "output_type": "stream",
       "stream": "stdout",
       "text": [
        "\n",
        "  Mirrored 1499631 bytes to 1068x600/11/2660/916.mp4 from https://earthengine.google.org/timelapse/data/20130507/1068x600/11/2660/916.mp4"
       ]
      },
      {
       "output_type": "stream",
       "stream": "stdout",
       "text": [
        "\n",
        "  Mirrored 1315230 bytes to 1068x600/11/2660/920.mp4 from https://earthengine.google.org/timelapse/data/20130507/1068x600/11/2660/920.mp4"
       ]
      },
      {
       "output_type": "stream",
       "stream": "stdout",
       "text": [
        "\n",
        "  Mirrored 1311655 bytes to 1068x600/11/2660/924.mp4 from https://earthengine.google.org/timelapse/data/20130507/1068x600/11/2660/924.mp4"
       ]
      },
      {
       "output_type": "stream",
       "stream": "stdout",
       "text": [
        "\n",
        "  Mirrored 1377366 bytes to 1068x600/11/2660/928.mp4 from https://earthengine.google.org/timelapse/data/20130507/1068x600/11/2660/928.mp4"
       ]
      },
      {
       "output_type": "stream",
       "stream": "stdout",
       "text": [
        "\n",
        "  Mirrored 1550293 bytes to 1068x600/11/2660/932.mp4 from https://earthengine.google.org/timelapse/data/20130507/1068x600/11/2660/932.mp4"
       ]
      },
      {
       "output_type": "stream",
       "stream": "stdout",
       "text": [
        "\n",
        "  Mirrored 1449213 bytes to 1068x600/11/2660/936.mp4 from https://earthengine.google.org/timelapse/data/20130507/1068x600/11/2660/936.mp4"
       ]
      },
      {
       "output_type": "stream",
       "stream": "stdout",
       "text": [
        "\n",
        "  Mirrored 1215084 bytes to 1068x600/11/2660/940.mp4 from https://earthengine.google.org/timelapse/data/20130507/1068x600/11/2660/940.mp4"
       ]
      },
      {
       "output_type": "stream",
       "stream": "stdout",
       "text": [
        "\n",
        "  Mirrored 1270472 bytes to 1068x600/11/2660/944.mp4 from https://earthengine.google.org/timelapse/data/20130507/1068x600/11/2660/944.mp4"
       ]
      },
      {
       "output_type": "stream",
       "stream": "stdout",
       "text": [
        "\n",
        "  Mirrored 1467802 bytes to 1068x600/11/2660/948.mp4 from https://earthengine.google.org/timelapse/data/20130507/1068x600/11/2660/948.mp4"
       ]
      },
      {
       "output_type": "stream",
       "stream": "stdout",
       "text": [
        "\n",
        "  Mirrored 1279459 bytes to 1068x600/11/2660/952.mp4 from https://earthengine.google.org/timelapse/data/20130507/1068x600/11/2660/952.mp4"
       ]
      },
      {
       "output_type": "stream",
       "stream": "stdout",
       "text": [
        "\n",
        "  Mirrored 1267799 bytes to 1068x600/11/2660/956.mp4 from https://earthengine.google.org/timelapse/data/20130507/1068x600/11/2660/956.mp4"
       ]
      },
      {
       "output_type": "stream",
       "stream": "stdout",
       "text": [
        "\n",
        "  Mirrored 1406741 bytes to 1068x600/11/2660/960.mp4 from https://earthengine.google.org/timelapse/data/20130507/1068x600/11/2660/960.mp4"
       ]
      },
      {
       "output_type": "stream",
       "stream": "stdout",
       "text": [
        "\n",
        "  1068x600/11/2664/832.mp4 already exists, skipping\n",
        "  1068x600/11/2664/836.mp4 already exists, skipping\n",
        "  1068x600/11/2664/840.mp4 already exists, skipping\n",
        "  1068x600/11/2664/844.mp4 already exists, skipping\n",
        "  1068x600/11/2664/848.mp4 already exists, skipping\n",
        "  1068x600/11/2664/852.mp4 already exists, skipping\n",
        "  1068x600/11/2664/856.mp4 already exists, skipping\n",
        "  1068x600/11/2664/860.mp4 already exists, skipping\n",
        "  1068x600/11/2664/864.mp4 already exists, skipping\n",
        "  1068x600/11/2664/868.mp4 already exists, skipping\n",
        "  1068x600/11/2664/872.mp4 already exists, skipping\n",
        "  1068x600/11/2664/876.mp4 already exists, skipping\n",
        "  1068x600/11/2664/880.mp4 already exists, skipping\n",
        "  1068x600/11/2664/884.mp4 already exists, skipping\n",
        "  1068x600/11/2664/888.mp4 already exists, skipping\n",
        "  1068x600/11/2664/892.mp4 already exists, skipping\n",
        "  1068x600/11/2664/896.mp4 already exists, skipping\n",
        "  1068x600/11/2664/900.mp4 already exists, skipping\n",
        "  Mirrored 1104857 bytes to 1068x600/11/2664/904.mp4 from https://earthengine.google.org/timelapse/data/20130507/1068x600/11/2664/904.mp4"
       ]
      },
      {
       "output_type": "stream",
       "stream": "stdout",
       "text": [
        "\n",
        "  Mirrored 966386 bytes to 1068x600/11/2664/908.mp4 from https://earthengine.google.org/timelapse/data/20130507/1068x600/11/2664/908.mp4"
       ]
      },
      {
       "output_type": "stream",
       "stream": "stdout",
       "text": [
        "\n",
        "  Mirrored 922658 bytes to 1068x600/11/2664/912.mp4 from https://earthengine.google.org/timelapse/data/20130507/1068x600/11/2664/912.mp4"
       ]
      },
      {
       "output_type": "stream",
       "stream": "stdout",
       "text": [
        "\n",
        "  Mirrored 1301349 bytes to 1068x600/11/2664/916.mp4 from https://earthengine.google.org/timelapse/data/20130507/1068x600/11/2664/916.mp4"
       ]
      },
      {
       "output_type": "stream",
       "stream": "stdout",
       "text": [
        "\n",
        "  Mirrored 1458524 bytes to 1068x600/11/2664/920.mp4 from https://earthengine.google.org/timelapse/data/20130507/1068x600/11/2664/920.mp4"
       ]
      },
      {
       "output_type": "stream",
       "stream": "stdout",
       "text": [
        "\n",
        "  Mirrored 1206458 bytes to 1068x600/11/2664/924.mp4 from https://earthengine.google.org/timelapse/data/20130507/1068x600/11/2664/924.mp4"
       ]
      },
      {
       "output_type": "stream",
       "stream": "stdout",
       "text": [
        "\n",
        "  Mirrored 1373784 bytes to 1068x600/11/2664/928.mp4 from https://earthengine.google.org/timelapse/data/20130507/1068x600/11/2664/928.mp4"
       ]
      },
      {
       "output_type": "stream",
       "stream": "stdout",
       "text": [
        "\n",
        "  Mirrored 1614073 bytes to 1068x600/11/2664/932.mp4 from https://earthengine.google.org/timelapse/data/20130507/1068x600/11/2664/932.mp4"
       ]
      },
      {
       "output_type": "stream",
       "stream": "stdout",
       "text": [
        "\n",
        "  Mirrored 1380998 bytes to 1068x600/11/2664/936.mp4 from https://earthengine.google.org/timelapse/data/20130507/1068x600/11/2664/936.mp4"
       ]
      },
      {
       "output_type": "stream",
       "stream": "stdout",
       "text": [
        "\n",
        "  Mirrored 1219057 bytes to 1068x600/11/2664/940.mp4 from https://earthengine.google.org/timelapse/data/20130507/1068x600/11/2664/940.mp4"
       ]
      },
      {
       "output_type": "stream",
       "stream": "stdout",
       "text": [
        "\n",
        "  Mirrored 1317432 bytes to 1068x600/11/2664/944.mp4 from https://earthengine.google.org/timelapse/data/20130507/1068x600/11/2664/944.mp4"
       ]
      },
      {
       "output_type": "stream",
       "stream": "stdout",
       "text": [
        "\n",
        "  Mirrored 1283054 bytes to 1068x600/11/2664/948.mp4 from https://earthengine.google.org/timelapse/data/20130507/1068x600/11/2664/948.mp4"
       ]
      },
      {
       "output_type": "stream",
       "stream": "stdout",
       "text": [
        "\n",
        "  Mirrored 1240453 bytes to 1068x600/11/2664/952.mp4 from https://earthengine.google.org/timelapse/data/20130507/1068x600/11/2664/952.mp4"
       ]
      },
      {
       "output_type": "stream",
       "stream": "stdout",
       "text": [
        "\n",
        "  Mirrored 1239582 bytes to 1068x600/11/2664/956.mp4 from https://earthengine.google.org/timelapse/data/20130507/1068x600/11/2664/956.mp4"
       ]
      },
      {
       "output_type": "stream",
       "stream": "stdout",
       "text": [
        "\n",
        "  Mirrored 1326212 bytes to 1068x600/11/2664/960.mp4 from https://earthengine.google.org/timelapse/data/20130507/1068x600/11/2664/960.mp4"
       ]
      },
      {
       "output_type": "stream",
       "stream": "stdout",
       "text": [
        "\n",
        "  1068x600/11/2668/832.mp4 already exists, skipping\n",
        "  1068x600/11/2668/836.mp4 already exists, skipping\n",
        "  1068x600/11/2668/840.mp4 already exists, skipping\n",
        "  1068x600/11/2668/844.mp4 already exists, skipping\n",
        "  1068x600/11/2668/848.mp4 already exists, skipping\n",
        "  1068x600/11/2668/852.mp4 already exists, skipping\n",
        "  1068x600/11/2668/856.mp4 already exists, skipping\n",
        "  1068x600/11/2668/860.mp4 already exists, skipping\n",
        "  1068x600/11/2668/864.mp4 already exists, skipping\n",
        "  1068x600/11/2668/868.mp4 already exists, skipping\n",
        "  1068x600/11/2668/872.mp4 already exists, skipping\n",
        "  1068x600/11/2668/876.mp4 already exists, skipping\n",
        "  1068x600/11/2668/880.mp4 already exists, skipping\n",
        "  1068x600/11/2668/884.mp4 already exists, skipping\n",
        "  1068x600/11/2668/888.mp4 already exists, skipping\n",
        "  1068x600/11/2668/892.mp4 already exists, skipping\n",
        "  1068x600/11/2668/896.mp4 already exists, skipping\n",
        "  1068x600/11/2668/900.mp4 already exists, skipping\n",
        "  Mirrored 898199 bytes to 1068x600/11/2668/904.mp4 from https://earthengine.google.org/timelapse/data/20130507/1068x600/11/2668/904.mp4"
       ]
      },
      {
       "output_type": "stream",
       "stream": "stdout",
       "text": [
        "\n",
        "  Mirrored 921462 bytes to 1068x600/11/2668/908.mp4 from https://earthengine.google.org/timelapse/data/20130507/1068x600/11/2668/908.mp4"
       ]
      },
      {
       "output_type": "stream",
       "stream": "stdout",
       "text": [
        "\n",
        "  Mirrored 926306 bytes to 1068x600/11/2668/912.mp4 from https://earthengine.google.org/timelapse/data/20130507/1068x600/11/2668/912.mp4"
       ]
      },
      {
       "output_type": "stream",
       "stream": "stdout",
       "text": [
        "\n",
        "  Mirrored 1046354 bytes to 1068x600/11/2668/916.mp4 from https://earthengine.google.org/timelapse/data/20130507/1068x600/11/2668/916.mp4"
       ]
      },
      {
       "output_type": "stream",
       "stream": "stdout",
       "text": [
        "\n",
        "  Mirrored 1467099 bytes to 1068x600/11/2668/920.mp4 from https://earthengine.google.org/timelapse/data/20130507/1068x600/11/2668/920.mp4"
       ]
      },
      {
       "output_type": "stream",
       "stream": "stdout",
       "text": [
        "\n",
        "  Mirrored 1216336 bytes to 1068x600/11/2668/924.mp4 from https://earthengine.google.org/timelapse/data/20130507/1068x600/11/2668/924.mp4"
       ]
      },
      {
       "output_type": "stream",
       "stream": "stdout",
       "text": [
        "\n",
        "  Mirrored 1561801 bytes to 1068x600/11/2668/928.mp4 from https://earthengine.google.org/timelapse/data/20130507/1068x600/11/2668/928.mp4"
       ]
      },
      {
       "output_type": "stream",
       "stream": "stdout",
       "text": [
        "\n",
        "  Mirrored 1705564 bytes to 1068x600/11/2668/932.mp4 from https://earthengine.google.org/timelapse/data/20130507/1068x600/11/2668/932.mp4"
       ]
      },
      {
       "output_type": "stream",
       "stream": "stdout",
       "text": [
        "\n",
        "  Mirrored 1279329 bytes to 1068x600/11/2668/936.mp4 from https://earthengine.google.org/timelapse/data/20130507/1068x600/11/2668/936.mp4"
       ]
      },
      {
       "output_type": "stream",
       "stream": "stdout",
       "text": [
        "\n",
        "  Mirrored 1284378 bytes to 1068x600/11/2668/940.mp4 from https://earthengine.google.org/timelapse/data/20130507/1068x600/11/2668/940.mp4"
       ]
      },
      {
       "output_type": "stream",
       "stream": "stdout",
       "text": [
        "\n",
        "  Mirrored 1395876 bytes to 1068x600/11/2668/944.mp4 from https://earthengine.google.org/timelapse/data/20130507/1068x600/11/2668/944.mp4"
       ]
      },
      {
       "output_type": "stream",
       "stream": "stdout",
       "text": [
        "\n",
        "  Mirrored 1263248 bytes to 1068x600/11/2668/948.mp4 from https://earthengine.google.org/timelapse/data/20130507/1068x600/11/2668/948.mp4"
       ]
      },
      {
       "output_type": "stream",
       "stream": "stdout",
       "text": [
        "\n",
        "  Mirrored 1220978 bytes to 1068x600/11/2668/952.mp4 from https://earthengine.google.org/timelapse/data/20130507/1068x600/11/2668/952.mp4"
       ]
      },
      {
       "output_type": "stream",
       "stream": "stdout",
       "text": [
        "\n",
        "  Mirrored 1168194 bytes to 1068x600/11/2668/956.mp4 from https://earthengine.google.org/timelapse/data/20130507/1068x600/11/2668/956.mp4"
       ]
      },
      {
       "output_type": "stream",
       "stream": "stdout",
       "text": [
        "\n",
        "  Mirrored 1325040 bytes to 1068x600/11/2668/960.mp4 from https://earthengine.google.org/timelapse/data/20130507/1068x600/11/2668/960.mp4"
       ]
      },
      {
       "output_type": "stream",
       "stream": "stdout",
       "text": [
        "\n",
        "  1068x600/11/2672/832.mp4 already exists, skipping\n",
        "  1068x600/11/2672/836.mp4 already exists, skipping\n",
        "  1068x600/11/2672/840.mp4 already exists, skipping\n",
        "  1068x600/11/2672/844.mp4 already exists, skipping\n",
        "  1068x600/11/2672/848.mp4 already exists, skipping\n",
        "  1068x600/11/2672/852.mp4 already exists, skipping\n",
        "  1068x600/11/2672/856.mp4 already exists, skipping\n",
        "  1068x600/11/2672/860.mp4 already exists, skipping\n",
        "  1068x600/11/2672/864.mp4 already exists, skipping\n",
        "  1068x600/11/2672/868.mp4 already exists, skipping\n",
        "  1068x600/11/2672/872.mp4 already exists, skipping\n",
        "  1068x600/11/2672/876.mp4 already exists, skipping\n",
        "  1068x600/11/2672/880.mp4 already exists, skipping\n",
        "  1068x600/11/2672/884.mp4 already exists, skipping\n",
        "  1068x600/11/2672/888.mp4 already exists, skipping\n",
        "  1068x600/11/2672/892.mp4 already exists, skipping\n",
        "  1068x600/11/2672/896.mp4 already exists, skipping\n",
        "  1068x600/11/2672/900.mp4 already exists, skipping\n",
        "  Mirrored 935242 bytes to 1068x600/11/2672/904.mp4 from https://earthengine.google.org/timelapse/data/20130507/1068x600/11/2672/904.mp4"
       ]
      },
      {
       "output_type": "stream",
       "stream": "stdout",
       "text": [
        "\n",
        "  Mirrored 922178 bytes to 1068x600/11/2672/908.mp4 from https://earthengine.google.org/timelapse/data/20130507/1068x600/11/2672/908.mp4"
       ]
      },
      {
       "output_type": "stream",
       "stream": "stdout",
       "text": [
        "\n",
        "  Mirrored 926164 bytes to 1068x600/11/2672/912.mp4 from https://earthengine.google.org/timelapse/data/20130507/1068x600/11/2672/912.mp4"
       ]
      },
      {
       "output_type": "stream",
       "stream": "stdout",
       "text": [
        "\n",
        "  Mirrored 1005620 bytes to 1068x600/11/2672/916.mp4 from https://earthengine.google.org/timelapse/data/20130507/1068x600/11/2672/916.mp4"
       ]
      },
      {
       "output_type": "stream",
       "stream": "stdout",
       "text": [
        "\n",
        "  Mirrored 1401151 bytes to 1068x600/11/2672/920.mp4 from https://earthengine.google.org/timelapse/data/20130507/1068x600/11/2672/920.mp4"
       ]
      },
      {
       "output_type": "stream",
       "stream": "stdout",
       "text": [
        "\n",
        "  Mirrored 1215129 bytes to 1068x600/11/2672/924.mp4 from https://earthengine.google.org/timelapse/data/20130507/1068x600/11/2672/924.mp4"
       ]
      },
      {
       "output_type": "stream",
       "stream": "stdout",
       "text": [
        "\n",
        "  Mirrored 1602247 bytes to 1068x600/11/2672/928.mp4 from https://earthengine.google.org/timelapse/data/20130507/1068x600/11/2672/928.mp4"
       ]
      },
      {
       "output_type": "stream",
       "stream": "stdout",
       "text": [
        "\n",
        "  Mirrored 1652267 bytes to 1068x600/11/2672/932.mp4 from https://earthengine.google.org/timelapse/data/20130507/1068x600/11/2672/932.mp4"
       ]
      },
      {
       "output_type": "stream",
       "stream": "stdout",
       "text": [
        "\n",
        "  Mirrored 1207717 bytes to 1068x600/11/2672/936.mp4 from https://earthengine.google.org/timelapse/data/20130507/1068x600/11/2672/936.mp4"
       ]
      },
      {
       "output_type": "stream",
       "stream": "stdout",
       "text": [
        "\n",
        "  Mirrored 1259209 bytes to 1068x600/11/2672/940.mp4 from https://earthengine.google.org/timelapse/data/20130507/1068x600/11/2672/940.mp4"
       ]
      },
      {
       "output_type": "stream",
       "stream": "stdout",
       "text": [
        "\n",
        "  Mirrored 1375828 bytes to 1068x600/11/2672/944.mp4 from https://earthengine.google.org/timelapse/data/20130507/1068x600/11/2672/944.mp4"
       ]
      },
      {
       "output_type": "stream",
       "stream": "stdout",
       "text": [
        "\n",
        "  Mirrored 1194898 bytes to 1068x600/11/2672/948.mp4 from https://earthengine.google.org/timelapse/data/20130507/1068x600/11/2672/948.mp4"
       ]
      },
      {
       "output_type": "stream",
       "stream": "stdout",
       "text": [
        "\n",
        "  Mirrored 1273744 bytes to 1068x600/11/2672/952.mp4 from https://earthengine.google.org/timelapse/data/20130507/1068x600/11/2672/952.mp4"
       ]
      },
      {
       "output_type": "stream",
       "stream": "stdout",
       "text": [
        "\n",
        "  Mirrored 1200296 bytes to 1068x600/11/2672/956.mp4 from https://earthengine.google.org/timelapse/data/20130507/1068x600/11/2672/956.mp4"
       ]
      },
      {
       "output_type": "stream",
       "stream": "stdout",
       "text": [
        "\n",
        "  Mirrored 1255537 bytes to 1068x600/11/2672/960.mp4 from https://earthengine.google.org/timelapse/data/20130507/1068x600/11/2672/960.mp4"
       ]
      },
      {
       "output_type": "stream",
       "stream": "stdout",
       "text": [
        "\n",
        "  1068x600/11/2676/832.mp4 already exists, skipping\n",
        "  1068x600/11/2676/836.mp4 already exists, skipping\n",
        "  1068x600/11/2676/840.mp4 already exists, skipping\n",
        "  1068x600/11/2676/844.mp4 already exists, skipping\n",
        "  1068x600/11/2676/848.mp4 already exists, skipping\n",
        "  1068x600/11/2676/852.mp4 already exists, skipping\n",
        "  1068x600/11/2676/856.mp4 already exists, skipping\n",
        "  1068x600/11/2676/860.mp4 already exists, skipping\n",
        "  1068x600/11/2676/864.mp4 already exists, skipping\n",
        "  1068x600/11/2676/868.mp4 already exists, skipping\n",
        "  1068x600/11/2676/872.mp4 already exists, skipping\n",
        "  1068x600/11/2676/876.mp4 already exists, skipping\n",
        "  1068x600/11/2676/880.mp4 already exists, skipping\n",
        "  1068x600/11/2676/884.mp4 already exists, skipping\n",
        "  1068x600/11/2676/888.mp4 already exists, skipping\n",
        "  1068x600/11/2676/892.mp4 already exists, skipping\n",
        "  1068x600/11/2676/896.mp4 already exists, skipping\n",
        "  1068x600/11/2676/900.mp4 already exists, skipping\n",
        "  Mirrored 936668 bytes to 1068x600/11/2676/904.mp4 from https://earthengine.google.org/timelapse/data/20130507/1068x600/11/2676/904.mp4"
       ]
      },
      {
       "output_type": "stream",
       "stream": "stdout",
       "text": [
        "\n",
        "  Mirrored 996297 bytes to 1068x600/11/2676/908.mp4 from https://earthengine.google.org/timelapse/data/20130507/1068x600/11/2676/908.mp4"
       ]
      },
      {
       "output_type": "stream",
       "stream": "stdout",
       "text": [
        "\n",
        "  Mirrored 989561 bytes to 1068x600/11/2676/912.mp4 from https://earthengine.google.org/timelapse/data/20130507/1068x600/11/2676/912.mp4"
       ]
      },
      {
       "output_type": "stream",
       "stream": "stdout",
       "text": [
        "\n",
        "  Mirrored 1045642 bytes to 1068x600/11/2676/916.mp4 from https://earthengine.google.org/timelapse/data/20130507/1068x600/11/2676/916.mp4"
       ]
      },
      {
       "output_type": "stream",
       "stream": "stdout",
       "text": [
        "\n",
        "  Mirrored 1281866 bytes to 1068x600/11/2676/920.mp4 from https://earthengine.google.org/timelapse/data/20130507/1068x600/11/2676/920.mp4"
       ]
      },
      {
       "output_type": "stream",
       "stream": "stdout",
       "text": [
        "\n",
        "  Mirrored 1456136 bytes to 1068x600/11/2676/924.mp4 from https://earthengine.google.org/timelapse/data/20130507/1068x600/11/2676/924.mp4"
       ]
      },
      {
       "output_type": "stream",
       "stream": "stdout",
       "text": [
        "\n",
        "  Mirrored 1657278 bytes to 1068x600/11/2676/928.mp4 from https://earthengine.google.org/timelapse/data/20130507/1068x600/11/2676/928.mp4"
       ]
      },
      {
       "output_type": "stream",
       "stream": "stdout",
       "text": [
        "\n",
        "  Mirrored 1570637 bytes to 1068x600/11/2676/932.mp4 from https://earthengine.google.org/timelapse/data/20130507/1068x600/11/2676/932.mp4"
       ]
      },
      {
       "output_type": "stream",
       "stream": "stdout",
       "text": [
        "\n",
        "  Mirrored 1234313 bytes to 1068x600/11/2676/936.mp4 from https://earthengine.google.org/timelapse/data/20130507/1068x600/11/2676/936.mp4"
       ]
      },
      {
       "output_type": "stream",
       "stream": "stdout",
       "text": [
        "\n",
        "  Mirrored 1219365 bytes to 1068x600/11/2676/940.mp4 from https://earthengine.google.org/timelapse/data/20130507/1068x600/11/2676/940.mp4"
       ]
      },
      {
       "output_type": "stream",
       "stream": "stdout",
       "text": [
        "\n",
        "  Mirrored 1257408 bytes to 1068x600/11/2676/944.mp4 from https://earthengine.google.org/timelapse/data/20130507/1068x600/11/2676/944.mp4"
       ]
      },
      {
       "output_type": "stream",
       "stream": "stdout",
       "text": [
        "\n",
        "  Mirrored 1174261 bytes to 1068x600/11/2676/948.mp4 from https://earthengine.google.org/timelapse/data/20130507/1068x600/11/2676/948.mp4"
       ]
      },
      {
       "output_type": "stream",
       "stream": "stdout",
       "text": [
        "\n",
        "  Mirrored 1246069 bytes to 1068x600/11/2676/952.mp4 from https://earthengine.google.org/timelapse/data/20130507/1068x600/11/2676/952.mp4"
       ]
      },
      {
       "output_type": "stream",
       "stream": "stdout",
       "text": [
        "\n",
        "  Mirrored 1133102 bytes to 1068x600/11/2676/956.mp4 from https://earthengine.google.org/timelapse/data/20130507/1068x600/11/2676/956.mp4"
       ]
      },
      {
       "output_type": "stream",
       "stream": "stdout",
       "text": [
        "\n",
        "  Mirrored 1175261 bytes to 1068x600/11/2676/960.mp4 from https://earthengine.google.org/timelapse/data/20130507/1068x600/11/2676/960.mp4"
       ]
      },
      {
       "output_type": "stream",
       "stream": "stdout",
       "text": [
        "\n",
        "  1068x600/11/2680/832.mp4 already exists, skipping\n",
        "  1068x600/11/2680/836.mp4 already exists, skipping\n",
        "  1068x600/11/2680/840.mp4 already exists, skipping\n",
        "  1068x600/11/2680/844.mp4 already exists, skipping\n",
        "  1068x600/11/2680/848.mp4 already exists, skipping\n",
        "  1068x600/11/2680/852.mp4 already exists, skipping\n",
        "  1068x600/11/2680/856.mp4 already exists, skipping\n",
        "  1068x600/11/2680/860.mp4 already exists, skipping\n",
        "  1068x600/11/2680/864.mp4 already exists, skipping\n",
        "  1068x600/11/2680/868.mp4 already exists, skipping\n",
        "  1068x600/11/2680/872.mp4 already exists, skipping\n",
        "  1068x600/11/2680/876.mp4 already exists, skipping\n",
        "  1068x600/11/2680/880.mp4 already exists, skipping\n",
        "  1068x600/11/2680/884.mp4 already exists, skipping\n",
        "  1068x600/11/2680/888.mp4 already exists, skipping\n",
        "  1068x600/11/2680/892.mp4 already exists, skipping\n",
        "  1068x600/11/2680/896.mp4 already exists, skipping\n",
        "  1068x600/11/2680/900.mp4 already exists, skipping\n",
        "  Mirrored 984392 bytes to 1068x600/11/2680/904.mp4 from https://earthengine.google.org/timelapse/data/20130507/1068x600/11/2680/904.mp4"
       ]
      },
      {
       "output_type": "stream",
       "stream": "stdout",
       "text": [
        "\n",
        "  Mirrored 1016278 bytes to 1068x600/11/2680/908.mp4 from https://earthengine.google.org/timelapse/data/20130507/1068x600/11/2680/908.mp4"
       ]
      },
      {
       "output_type": "stream",
       "stream": "stdout",
       "text": [
        "\n",
        "  Mirrored 982739 bytes to 1068x600/11/2680/912.mp4 from https://earthengine.google.org/timelapse/data/20130507/1068x600/11/2680/912.mp4"
       ]
      },
      {
       "output_type": "stream",
       "stream": "stdout",
       "text": [
        "\n",
        "  Mirrored 1015531 bytes to 1068x600/11/2680/916.mp4 from https://earthengine.google.org/timelapse/data/20130507/1068x600/11/2680/916.mp4"
       ]
      },
      {
       "output_type": "stream",
       "stream": "stdout",
       "text": [
        "\n",
        "  Mirrored 1242067 bytes to 1068x600/11/2680/920.mp4 from https://earthengine.google.org/timelapse/data/20130507/1068x600/11/2680/920.mp4"
       ]
      },
      {
       "output_type": "stream",
       "stream": "stdout",
       "text": [
        "\n",
        "  Mirrored 1361722 bytes to 1068x600/11/2680/924.mp4 from https://earthengine.google.org/timelapse/data/20130507/1068x600/11/2680/924.mp4"
       ]
      },
      {
       "output_type": "stream",
       "stream": "stdout",
       "text": [
        "\n",
        "  Mirrored 1756385 bytes to 1068x600/11/2680/928.mp4 from https://earthengine.google.org/timelapse/data/20130507/1068x600/11/2680/928.mp4"
       ]
      },
      {
       "output_type": "stream",
       "stream": "stdout",
       "text": [
        "\n",
        "  Mirrored 1634327 bytes to 1068x600/11/2680/932.mp4 from https://earthengine.google.org/timelapse/data/20130507/1068x600/11/2680/932.mp4"
       ]
      },
      {
       "output_type": "stream",
       "stream": "stdout",
       "text": [
        "\n",
        "  Mirrored 1189515 bytes to 1068x600/11/2680/936.mp4 from https://earthengine.google.org/timelapse/data/20130507/1068x600/11/2680/936.mp4"
       ]
      },
      {
       "output_type": "stream",
       "stream": "stdout",
       "text": [
        "\n",
        "  Mirrored 1261857 bytes to 1068x600/11/2680/940.mp4 from https://earthengine.google.org/timelapse/data/20130507/1068x600/11/2680/940.mp4"
       ]
      },
      {
       "output_type": "stream",
       "stream": "stdout",
       "text": [
        "\n",
        "  Mirrored 1306693 bytes to 1068x600/11/2680/944.mp4 from https://earthengine.google.org/timelapse/data/20130507/1068x600/11/2680/944.mp4"
       ]
      },
      {
       "output_type": "stream",
       "stream": "stdout",
       "text": [
        "\n",
        "  Mirrored 1143675 bytes to 1068x600/11/2680/948.mp4 from https://earthengine.google.org/timelapse/data/20130507/1068x600/11/2680/948.mp4"
       ]
      },
      {
       "output_type": "stream",
       "stream": "stdout",
       "text": [
        "\n",
        "  Mirrored 1134787 bytes to 1068x600/11/2680/952.mp4 from https://earthengine.google.org/timelapse/data/20130507/1068x600/11/2680/952.mp4"
       ]
      },
      {
       "output_type": "stream",
       "stream": "stdout",
       "text": [
        "\n",
        "  Mirrored 1124388 bytes to 1068x600/11/2680/956.mp4 from https://earthengine.google.org/timelapse/data/20130507/1068x600/11/2680/956.mp4"
       ]
      },
      {
       "output_type": "stream",
       "stream": "stdout",
       "text": [
        "\n",
        "  Mirrored 1156249 bytes to 1068x600/11/2680/960.mp4 from https://earthengine.google.org/timelapse/data/20130507/1068x600/11/2680/960.mp4"
       ]
      },
      {
       "output_type": "stream",
       "stream": "stdout",
       "text": [
        "\n",
        "  1068x600/11/2684/832.mp4 already exists, skipping\n",
        "  1068x600/11/2684/836.mp4 already exists, skipping\n",
        "  1068x600/11/2684/840.mp4 already exists, skipping\n",
        "  1068x600/11/2684/844.mp4 already exists, skipping\n",
        "  1068x600/11/2684/848.mp4 already exists, skipping\n",
        "  1068x600/11/2684/852.mp4 already exists, skipping\n",
        "  1068x600/11/2684/856.mp4 already exists, skipping\n",
        "  1068x600/11/2684/860.mp4 already exists, skipping\n",
        "  1068x600/11/2684/864.mp4 already exists, skipping\n",
        "  1068x600/11/2684/868.mp4 already exists, skipping\n",
        "  1068x600/11/2684/872.mp4 already exists, skipping\n",
        "  1068x600/11/2684/876.mp4 already exists, skipping\n",
        "  1068x600/11/2684/880.mp4 already exists, skipping\n",
        "  1068x600/11/2684/884.mp4 already exists, skipping\n",
        "  1068x600/11/2684/888.mp4 already exists, skipping\n",
        "  1068x600/11/2684/892.mp4 already exists, skipping\n",
        "  1068x600/11/2684/896.mp4 already exists, skipping\n",
        "  1068x600/11/2684/900.mp4 already exists, skipping\n",
        "  Mirrored 1014398 bytes to 1068x600/11/2684/904.mp4 from https://earthengine.google.org/timelapse/data/20130507/1068x600/11/2684/904.mp4"
       ]
      },
      {
       "output_type": "stream",
       "stream": "stdout",
       "text": [
        "\n",
        "  Mirrored 1184940 bytes to 1068x600/11/2684/908.mp4 from https://earthengine.google.org/timelapse/data/20130507/1068x600/11/2684/908.mp4"
       ]
      },
      {
       "output_type": "stream",
       "stream": "stdout",
       "text": [
        "\n",
        "  Mirrored 983233 bytes to 1068x600/11/2684/912.mp4 from https://earthengine.google.org/timelapse/data/20130507/1068x600/11/2684/912.mp4"
       ]
      },
      {
       "output_type": "stream",
       "stream": "stdout",
       "text": [
        "\n",
        "  Mirrored 1077546 bytes to 1068x600/11/2684/916.mp4 from https://earthengine.google.org/timelapse/data/20130507/1068x600/11/2684/916.mp4"
       ]
      },
      {
       "output_type": "stream",
       "stream": "stdout",
       "text": [
        "\n",
        "  Mirrored 1458969 bytes to 1068x600/11/2684/920.mp4 from https://earthengine.google.org/timelapse/data/20130507/1068x600/11/2684/920.mp4"
       ]
      },
      {
       "output_type": "stream",
       "stream": "stdout",
       "text": [
        "\n",
        "  Mirrored 1465104 bytes to 1068x600/11/2684/924.mp4 from https://earthengine.google.org/timelapse/data/20130507/1068x600/11/2684/924.mp4"
       ]
      },
      {
       "output_type": "stream",
       "stream": "stdout",
       "text": [
        "\n",
        "  Mirrored 1525638 bytes to 1068x600/11/2684/928.mp4 from https://earthengine.google.org/timelapse/data/20130507/1068x600/11/2684/928.mp4"
       ]
      },
      {
       "output_type": "stream",
       "stream": "stdout",
       "text": [
        "\n",
        "  Mirrored 1613213 bytes to 1068x600/11/2684/932.mp4 from https://earthengine.google.org/timelapse/data/20130507/1068x600/11/2684/932.mp4"
       ]
      },
      {
       "output_type": "stream",
       "stream": "stdout",
       "text": [
        "\n",
        "  Mirrored 1147978 bytes to 1068x600/11/2684/936.mp4 from https://earthengine.google.org/timelapse/data/20130507/1068x600/11/2684/936.mp4"
       ]
      },
      {
       "output_type": "stream",
       "stream": "stdout",
       "text": [
        "\n",
        "  Mirrored 1193290 bytes to 1068x600/11/2684/940.mp4 from https://earthengine.google.org/timelapse/data/20130507/1068x600/11/2684/940.mp4"
       ]
      },
      {
       "output_type": "stream",
       "stream": "stdout",
       "text": [
        "\n",
        "  Mirrored 1188092 bytes to 1068x600/11/2684/944.mp4 from https://earthengine.google.org/timelapse/data/20130507/1068x600/11/2684/944.mp4"
       ]
      },
      {
       "output_type": "stream",
       "stream": "stdout",
       "text": [
        "\n",
        "  Mirrored 967110 bytes to 1068x600/11/2684/948.mp4 from https://earthengine.google.org/timelapse/data/20130507/1068x600/11/2684/948.mp4"
       ]
      },
      {
       "output_type": "stream",
       "stream": "stdout",
       "text": [
        "\n",
        "  Mirrored 1144486 bytes to 1068x600/11/2684/952.mp4 from https://earthengine.google.org/timelapse/data/20130507/1068x600/11/2684/952.mp4"
       ]
      },
      {
       "output_type": "stream",
       "stream": "stdout",
       "text": [
        "\n",
        "  Mirrored 1090137 bytes to 1068x600/11/2684/956.mp4 from https://earthengine.google.org/timelapse/data/20130507/1068x600/11/2684/956.mp4"
       ]
      },
      {
       "output_type": "stream",
       "stream": "stdout",
       "text": [
        "\n",
        "  Mirrored 1297528 bytes to 1068x600/11/2684/960.mp4 from https://earthengine.google.org/timelapse/data/20130507/1068x600/11/2684/960.mp4"
       ]
      },
      {
       "output_type": "stream",
       "stream": "stdout",
       "text": [
        "\n",
        "  1068x600/11/2688/832.mp4 already exists, skipping\n",
        "  1068x600/11/2688/836.mp4 already exists, skipping\n",
        "  1068x600/11/2688/840.mp4 already exists, skipping\n",
        "  1068x600/11/2688/844.mp4 already exists, skipping\n",
        "  1068x600/11/2688/848.mp4 already exists, skipping\n",
        "  1068x600/11/2688/852.mp4 already exists, skipping\n",
        "  1068x600/11/2688/856.mp4 already exists, skipping\n",
        "  1068x600/11/2688/860.mp4 already exists, skipping\n",
        "  1068x600/11/2688/864.mp4 already exists, skipping\n",
        "  1068x600/11/2688/868.mp4 already exists, skipping\n",
        "  1068x600/11/2688/872.mp4 already exists, skipping\n",
        "  1068x600/11/2688/876.mp4 already exists, skipping\n",
        "  1068x600/11/2688/880.mp4 already exists, skipping\n",
        "  1068x600/11/2688/884.mp4 already exists, skipping\n",
        "  1068x600/11/2688/888.mp4 already exists, skipping\n",
        "  1068x600/11/2688/892.mp4 already exists, skipping\n",
        "  1068x600/11/2688/896.mp4 already exists, skipping\n",
        "  1068x600/11/2688/900.mp4 already exists, skipping\n",
        "  Mirrored 1014698 bytes to 1068x600/11/2688/904.mp4 from https://earthengine.google.org/timelapse/data/20130507/1068x600/11/2688/904.mp4"
       ]
      },
      {
       "output_type": "stream",
       "stream": "stdout",
       "text": [
        "\n",
        "  Mirrored 1049797 bytes to 1068x600/11/2688/908.mp4 from https://earthengine.google.org/timelapse/data/20130507/1068x600/11/2688/908.mp4"
       ]
      },
      {
       "output_type": "stream",
       "stream": "stdout",
       "text": [
        "\n",
        "  Mirrored 1068251 bytes to 1068x600/11/2688/912.mp4 from https://earthengine.google.org/timelapse/data/20130507/1068x600/11/2688/912.mp4"
       ]
      },
      {
       "output_type": "stream",
       "stream": "stdout",
       "text": [
        "\n",
        "  Mirrored 985152 bytes to 1068x600/11/2688/916.mp4 from https://earthengine.google.org/timelapse/data/20130507/1068x600/11/2688/916.mp4"
       ]
      },
      {
       "output_type": "stream",
       "stream": "stdout",
       "text": [
        "\n",
        "  Mirrored 1442332 bytes to 1068x600/11/2688/920.mp4 from https://earthengine.google.org/timelapse/data/20130507/1068x600/11/2688/920.mp4"
       ]
      },
      {
       "output_type": "stream",
       "stream": "stdout",
       "text": [
        "\n",
        "  Mirrored 1505645 bytes to 1068x600/11/2688/924.mp4 from https://earthengine.google.org/timelapse/data/20130507/1068x600/11/2688/924.mp4"
       ]
      },
      {
       "output_type": "stream",
       "stream": "stdout",
       "text": [
        "\n",
        "  Mirrored 1512216 bytes to 1068x600/11/2688/928.mp4 from https://earthengine.google.org/timelapse/data/20130507/1068x600/11/2688/928.mp4"
       ]
      },
      {
       "output_type": "stream",
       "stream": "stdout",
       "text": [
        "\n",
        "  Mirrored 1477943 bytes to 1068x600/11/2688/932.mp4 from https://earthengine.google.org/timelapse/data/20130507/1068x600/11/2688/932.mp4"
       ]
      },
      {
       "output_type": "stream",
       "stream": "stdout",
       "text": [
        "\n",
        "  Mirrored 1231410 bytes to 1068x600/11/2688/936.mp4 from https://earthengine.google.org/timelapse/data/20130507/1068x600/11/2688/936.mp4"
       ]
      },
      {
       "output_type": "stream",
       "stream": "stdout",
       "text": [
        "\n",
        "  Mirrored 1258678 bytes to 1068x600/11/2688/940.mp4 from https://earthengine.google.org/timelapse/data/20130507/1068x600/11/2688/940.mp4"
       ]
      },
      {
       "output_type": "stream",
       "stream": "stdout",
       "text": [
        "\n",
        "  Mirrored 1222225 bytes to 1068x600/11/2688/944.mp4 from https://earthengine.google.org/timelapse/data/20130507/1068x600/11/2688/944.mp4"
       ]
      },
      {
       "output_type": "stream",
       "stream": "stdout",
       "text": [
        "\n",
        "  Mirrored 1154143 bytes to 1068x600/11/2688/948.mp4 from https://earthengine.google.org/timelapse/data/20130507/1068x600/11/2688/948.mp4"
       ]
      },
      {
       "output_type": "stream",
       "stream": "stdout",
       "text": [
        "\n",
        "  Mirrored 1094327 bytes to 1068x600/11/2688/952.mp4 from https://earthengine.google.org/timelapse/data/20130507/1068x600/11/2688/952.mp4"
       ]
      },
      {
       "output_type": "stream",
       "stream": "stdout",
       "text": [
        "\n",
        "  Mirrored 1101783 bytes to 1068x600/11/2688/956.mp4 from https://earthengine.google.org/timelapse/data/20130507/1068x600/11/2688/956.mp4"
       ]
      },
      {
       "output_type": "stream",
       "stream": "stdout",
       "text": [
        "\n",
        "  Mirrored 1148081 bytes to 1068x600/11/2688/960.mp4 from https://earthengine.google.org/timelapse/data/20130507/1068x600/11/2688/960.mp4"
       ]
      },
      {
       "output_type": "stream",
       "stream": "stdout",
       "text": [
        "\n",
        "  1068x600/11/2692/832.mp4 already exists, skipping\n",
        "  1068x600/11/2692/836.mp4 already exists, skipping\n",
        "  1068x600/11/2692/840.mp4 already exists, skipping\n",
        "  1068x600/11/2692/844.mp4 already exists, skipping\n",
        "  1068x600/11/2692/848.mp4 already exists, skipping\n",
        "  1068x600/11/2692/852.mp4 already exists, skipping\n",
        "  1068x600/11/2692/856.mp4 already exists, skipping\n",
        "  1068x600/11/2692/860.mp4 already exists, skipping\n",
        "  1068x600/11/2692/864.mp4 already exists, skipping\n",
        "  1068x600/11/2692/868.mp4 already exists, skipping\n",
        "  1068x600/11/2692/872.mp4 already exists, skipping\n",
        "  1068x600/11/2692/876.mp4 already exists, skipping\n",
        "  1068x600/11/2692/880.mp4 already exists, skipping\n",
        "  1068x600/11/2692/884.mp4 already exists, skipping\n",
        "  1068x600/11/2692/888.mp4 already exists, skipping\n",
        "  1068x600/11/2692/892.mp4 already exists, skipping\n",
        "  1068x600/11/2692/896.mp4 already exists, skipping\n",
        "  1068x600/11/2692/900.mp4 already exists, skipping\n",
        "  Mirrored 1037388 bytes to 1068x600/11/2692/904.mp4 from https://earthengine.google.org/timelapse/data/20130507/1068x600/11/2692/904.mp4"
       ]
      },
      {
       "output_type": "stream",
       "stream": "stdout",
       "text": [
        "\n",
        "  Mirrored 1089785 bytes to 1068x600/11/2692/908.mp4 from https://earthengine.google.org/timelapse/data/20130507/1068x600/11/2692/908.mp4"
       ]
      },
      {
       "output_type": "stream",
       "stream": "stdout",
       "text": [
        "\n",
        "  Mirrored 1176100 bytes to 1068x600/11/2692/912.mp4 from https://earthengine.google.org/timelapse/data/20130507/1068x600/11/2692/912.mp4"
       ]
      },
      {
       "output_type": "stream",
       "stream": "stdout",
       "text": [
        "\n",
        "  Mirrored 1277047 bytes to 1068x600/11/2692/916.mp4 from https://earthengine.google.org/timelapse/data/20130507/1068x600/11/2692/916.mp4"
       ]
      },
      {
       "output_type": "stream",
       "stream": "stdout",
       "text": [
        "\n",
        "  Mirrored 1614951 bytes to 1068x600/11/2692/920.mp4 from https://earthengine.google.org/timelapse/data/20130507/1068x600/11/2692/920.mp4"
       ]
      },
      {
       "output_type": "stream",
       "stream": "stdout",
       "text": [
        "\n",
        "  Mirrored 1360446 bytes to 1068x600/11/2692/924.mp4 from https://earthengine.google.org/timelapse/data/20130507/1068x600/11/2692/924.mp4"
       ]
      },
      {
       "output_type": "stream",
       "stream": "stdout",
       "text": [
        "\n",
        "  Mirrored 1384988 bytes to 1068x600/11/2692/928.mp4 from https://earthengine.google.org/timelapse/data/20130507/1068x600/11/2692/928.mp4"
       ]
      },
      {
       "output_type": "stream",
       "stream": "stdout",
       "text": [
        "\n",
        "  Mirrored 1309126 bytes to 1068x600/11/2692/932.mp4 from https://earthengine.google.org/timelapse/data/20130507/1068x600/11/2692/932.mp4"
       ]
      },
      {
       "output_type": "stream",
       "stream": "stdout",
       "text": [
        "\n",
        "  Mirrored 1287558 bytes to 1068x600/11/2692/936.mp4 from https://earthengine.google.org/timelapse/data/20130507/1068x600/11/2692/936.mp4"
       ]
      },
      {
       "output_type": "stream",
       "stream": "stdout",
       "text": [
        "\n",
        "  Mirrored 1242194 bytes to 1068x600/11/2692/940.mp4 from https://earthengine.google.org/timelapse/data/20130507/1068x600/11/2692/940.mp4"
       ]
      },
      {
       "output_type": "stream",
       "stream": "stdout",
       "text": [
        "\n",
        "  Mirrored 1233859 bytes to 1068x600/11/2692/944.mp4 from https://earthengine.google.org/timelapse/data/20130507/1068x600/11/2692/944.mp4"
       ]
      },
      {
       "output_type": "stream",
       "stream": "stdout",
       "text": [
        "\n",
        "  Mirrored 1195305 bytes to 1068x600/11/2692/948.mp4 from https://earthengine.google.org/timelapse/data/20130507/1068x600/11/2692/948.mp4"
       ]
      },
      {
       "output_type": "stream",
       "stream": "stdout",
       "text": [
        "\n",
        "  Mirrored 1074224 bytes to 1068x600/11/2692/952.mp4 from https://earthengine.google.org/timelapse/data/20130507/1068x600/11/2692/952.mp4"
       ]
      },
      {
       "output_type": "stream",
       "stream": "stdout",
       "text": [
        "\n",
        "  Mirrored 1097051 bytes to 1068x600/11/2692/956.mp4 from https://earthengine.google.org/timelapse/data/20130507/1068x600/11/2692/956.mp4"
       ]
      },
      {
       "output_type": "stream",
       "stream": "stdout",
       "text": [
        "\n",
        "  Mirrored 1086846 bytes to 1068x600/11/2692/960.mp4 from https://earthengine.google.org/timelapse/data/20130507/1068x600/11/2692/960.mp4"
       ]
      },
      {
       "output_type": "stream",
       "stream": "stdout",
       "text": [
        "\n",
        "  1068x600/11/2696/832.mp4 already exists, skipping\n",
        "  1068x600/11/2696/836.mp4 already exists, skipping\n",
        "  1068x600/11/2696/840.mp4 already exists, skipping\n",
        "  1068x600/11/2696/844.mp4 already exists, skipping\n",
        "  1068x600/11/2696/848.mp4 already exists, skipping\n",
        "  1068x600/11/2696/852.mp4 already exists, skipping\n",
        "  1068x600/11/2696/856.mp4 already exists, skipping\n",
        "  1068x600/11/2696/860.mp4 already exists, skipping\n",
        "  1068x600/11/2696/864.mp4 already exists, skipping\n",
        "  1068x600/11/2696/868.mp4 already exists, skipping\n",
        "  1068x600/11/2696/872.mp4 already exists, skipping\n",
        "  1068x600/11/2696/876.mp4 already exists, skipping\n",
        "  1068x600/11/2696/880.mp4 already exists, skipping\n",
        "  1068x600/11/2696/884.mp4 already exists, skipping\n",
        "  1068x600/11/2696/888.mp4 already exists, skipping\n",
        "  1068x600/11/2696/892.mp4 already exists, skipping\n",
        "  1068x600/11/2696/896.mp4 already exists, skipping\n",
        "  1068x600/11/2696/900.mp4 already exists, skipping\n",
        "  Mirrored 1154252 bytes to 1068x600/11/2696/904.mp4 from https://earthengine.google.org/timelapse/data/20130507/1068x600/11/2696/904.mp4"
       ]
      },
      {
       "output_type": "stream",
       "stream": "stdout",
       "text": [
        "\n",
        "  Mirrored 1157223 bytes to 1068x600/11/2696/908.mp4 from https://earthengine.google.org/timelapse/data/20130507/1068x600/11/2696/908.mp4"
       ]
      },
      {
       "output_type": "stream",
       "stream": "stdout",
       "text": [
        "\n",
        "  Mirrored 1151595 bytes to 1068x600/11/2696/912.mp4 from https://earthengine.google.org/timelapse/data/20130507/1068x600/11/2696/912.mp4"
       ]
      },
      {
       "output_type": "stream",
       "stream": "stdout",
       "text": [
        "\n",
        "  Mirrored 1367465 bytes to 1068x600/11/2696/916.mp4 from https://earthengine.google.org/timelapse/data/20130507/1068x600/11/2696/916.mp4"
       ]
      },
      {
       "output_type": "stream",
       "stream": "stdout",
       "text": [
        "\n",
        "  Mirrored 1761234 bytes to 1068x600/11/2696/920.mp4 from https://earthengine.google.org/timelapse/data/20130507/1068x600/11/2696/920.mp4"
       ]
      },
      {
       "output_type": "stream",
       "stream": "stdout",
       "text": [
        "\n",
        "  Mirrored 1253798 bytes to 1068x600/11/2696/924.mp4 from https://earthengine.google.org/timelapse/data/20130507/1068x600/11/2696/924.mp4"
       ]
      },
      {
       "output_type": "stream",
       "stream": "stdout",
       "text": [
        "\n",
        "  Mirrored 1316065 bytes to 1068x600/11/2696/928.mp4 from https://earthengine.google.org/timelapse/data/20130507/1068x600/11/2696/928.mp4"
       ]
      },
      {
       "output_type": "stream",
       "stream": "stdout",
       "text": [
        "\n",
        "  Mirrored 1314611 bytes to 1068x600/11/2696/932.mp4 from https://earthengine.google.org/timelapse/data/20130507/1068x600/11/2696/932.mp4"
       ]
      },
      {
       "output_type": "stream",
       "stream": "stdout",
       "text": [
        "\n",
        "  Mirrored 1336932 bytes to 1068x600/11/2696/936.mp4 from https://earthengine.google.org/timelapse/data/20130507/1068x600/11/2696/936.mp4"
       ]
      },
      {
       "output_type": "stream",
       "stream": "stdout",
       "text": [
        "\n",
        "  Mirrored 1234411 bytes to 1068x600/11/2696/940.mp4 from https://earthengine.google.org/timelapse/data/20130507/1068x600/11/2696/940.mp4"
       ]
      },
      {
       "output_type": "stream",
       "stream": "stdout",
       "text": [
        "\n",
        "  Mirrored 1298176 bytes to 1068x600/11/2696/944.mp4 from https://earthengine.google.org/timelapse/data/20130507/1068x600/11/2696/944.mp4"
       ]
      },
      {
       "output_type": "stream",
       "stream": "stdout",
       "text": [
        "\n",
        "  Mirrored 1191140 bytes to 1068x600/11/2696/948.mp4 from https://earthengine.google.org/timelapse/data/20130507/1068x600/11/2696/948.mp4"
       ]
      },
      {
       "output_type": "stream",
       "stream": "stdout",
       "text": [
        "\n",
        "  Mirrored 1165867 bytes to 1068x600/11/2696/952.mp4 from https://earthengine.google.org/timelapse/data/20130507/1068x600/11/2696/952.mp4"
       ]
      },
      {
       "output_type": "stream",
       "stream": "stdout",
       "text": [
        "\n",
        "  Mirrored 1130410 bytes to 1068x600/11/2696/956.mp4 from https://earthengine.google.org/timelapse/data/20130507/1068x600/11/2696/956.mp4"
       ]
      },
      {
       "output_type": "stream",
       "stream": "stdout",
       "text": [
        "\n",
        "  Mirrored 1154110 bytes to 1068x600/11/2696/960.mp4 from https://earthengine.google.org/timelapse/data/20130507/1068x600/11/2696/960.mp4"
       ]
      },
      {
       "output_type": "stream",
       "stream": "stdout",
       "text": [
        "\n",
        "  1068x600/11/2700/832.mp4 already exists, skipping\n",
        "  1068x600/11/2700/836.mp4 already exists, skipping\n",
        "  1068x600/11/2700/840.mp4 already exists, skipping\n",
        "  1068x600/11/2700/844.mp4 already exists, skipping\n",
        "  1068x600/11/2700/848.mp4 already exists, skipping\n",
        "  1068x600/11/2700/852.mp4 already exists, skipping\n",
        "  1068x600/11/2700/856.mp4 already exists, skipping\n",
        "  1068x600/11/2700/860.mp4 already exists, skipping\n",
        "  1068x600/11/2700/864.mp4 already exists, skipping\n",
        "  1068x600/11/2700/868.mp4 already exists, skipping\n",
        "  1068x600/11/2700/872.mp4 already exists, skipping\n",
        "  1068x600/11/2700/876.mp4 already exists, skipping\n",
        "  1068x600/11/2700/880.mp4 already exists, skipping\n",
        "  1068x600/11/2700/884.mp4 already exists, skipping\n",
        "  1068x600/11/2700/888.mp4 already exists, skipping\n",
        "  1068x600/11/2700/892.mp4 already exists, skipping\n",
        "  1068x600/11/2700/896.mp4 already exists, skipping\n",
        "  1068x600/11/2700/900.mp4 already exists, skipping\n",
        "  Mirrored 1166947 bytes to 1068x600/11/2700/904.mp4 from https://earthengine.google.org/timelapse/data/20130507/1068x600/11/2700/904.mp4"
       ]
      },
      {
       "output_type": "stream",
       "stream": "stdout",
       "text": [
        "\n",
        "  Mirrored 1193376 bytes to 1068x600/11/2700/908.mp4 from https://earthengine.google.org/timelapse/data/20130507/1068x600/11/2700/908.mp4"
       ]
      },
      {
       "output_type": "stream",
       "stream": "stdout",
       "text": [
        "\n",
        "  Mirrored 1312255 bytes to 1068x600/11/2700/912.mp4 from https://earthengine.google.org/timelapse/data/20130507/1068x600/11/2700/912.mp4"
       ]
      },
      {
       "output_type": "stream",
       "stream": "stdout",
       "text": [
        "\n",
        "  Mirrored 1433975 bytes to 1068x600/11/2700/916.mp4 from https://earthengine.google.org/timelapse/data/20130507/1068x600/11/2700/916.mp4"
       ]
      },
      {
       "output_type": "stream",
       "stream": "stdout",
       "text": [
        "\n",
        "  Mirrored 1585037 bytes to 1068x600/11/2700/920.mp4 from https://earthengine.google.org/timelapse/data/20130507/1068x600/11/2700/920.mp4"
       ]
      },
      {
       "output_type": "stream",
       "stream": "stdout",
       "text": [
        "\n",
        "  Mirrored 1291300 bytes to 1068x600/11/2700/924.mp4 from https://earthengine.google.org/timelapse/data/20130507/1068x600/11/2700/924.mp4"
       ]
      },
      {
       "output_type": "stream",
       "stream": "stdout",
       "text": [
        "\n",
        "  Mirrored 1155504 bytes to 1068x600/11/2700/928.mp4 from https://earthengine.google.org/timelapse/data/20130507/1068x600/11/2700/928.mp4"
       ]
      },
      {
       "output_type": "stream",
       "stream": "stdout",
       "text": [
        "\n",
        "  Mirrored 1253201 bytes to 1068x600/11/2700/932.mp4 from https://earthengine.google.org/timelapse/data/20130507/1068x600/11/2700/932.mp4"
       ]
      },
      {
       "output_type": "stream",
       "stream": "stdout",
       "text": [
        "\n",
        "  Mirrored 1341702 bytes to 1068x600/11/2700/936.mp4 from https://earthengine.google.org/timelapse/data/20130507/1068x600/11/2700/936.mp4"
       ]
      },
      {
       "output_type": "stream",
       "stream": "stdout",
       "text": [
        "\n",
        "  Mirrored 1184974 bytes to 1068x600/11/2700/940.mp4 from https://earthengine.google.org/timelapse/data/20130507/1068x600/11/2700/940.mp4"
       ]
      },
      {
       "output_type": "stream",
       "stream": "stdout",
       "text": [
        "\n",
        "  Mirrored 1247291 bytes to 1068x600/11/2700/944.mp4 from https://earthengine.google.org/timelapse/data/20130507/1068x600/11/2700/944.mp4"
       ]
      },
      {
       "output_type": "stream",
       "stream": "stdout",
       "text": [
        "\n",
        "  Mirrored 1212071 bytes to 1068x600/11/2700/948.mp4 from https://earthengine.google.org/timelapse/data/20130507/1068x600/11/2700/948.mp4"
       ]
      },
      {
       "output_type": "stream",
       "stream": "stdout",
       "text": [
        "\n",
        "  Mirrored 1156300 bytes to 1068x600/11/2700/952.mp4 from https://earthengine.google.org/timelapse/data/20130507/1068x600/11/2700/952.mp4"
       ]
      },
      {
       "output_type": "stream",
       "stream": "stdout",
       "text": [
        "\n",
        "  Mirrored 1084829 bytes to 1068x600/11/2700/956.mp4 from https://earthengine.google.org/timelapse/data/20130507/1068x600/11/2700/956.mp4"
       ]
      },
      {
       "output_type": "stream",
       "stream": "stdout",
       "text": [
        "\n",
        "  Mirrored 1166337 bytes to 1068x600/11/2700/960.mp4 from https://earthengine.google.org/timelapse/data/20130507/1068x600/11/2700/960.mp4"
       ]
      },
      {
       "output_type": "stream",
       "stream": "stdout",
       "text": [
        "\n",
        "  1068x600/11/2704/832.mp4 already exists, skipping\n",
        "  1068x600/11/2704/836.mp4 already exists, skipping\n",
        "  1068x600/11/2704/840.mp4 already exists, skipping\n",
        "  1068x600/11/2704/844.mp4 already exists, skipping\n",
        "  1068x600/11/2704/848.mp4 already exists, skipping\n",
        "  1068x600/11/2704/852.mp4 already exists, skipping\n",
        "  1068x600/11/2704/856.mp4 already exists, skipping\n",
        "  1068x600/11/2704/860.mp4 already exists, skipping\n",
        "  1068x600/11/2704/864.mp4 already exists, skipping\n",
        "  1068x600/11/2704/868.mp4 already exists, skipping\n",
        "  1068x600/11/2704/872.mp4 already exists, skipping\n",
        "  1068x600/11/2704/876.mp4 already exists, skipping\n",
        "  1068x600/11/2704/880.mp4 already exists, skipping\n",
        "  1068x600/11/2704/884.mp4 already exists, skipping\n",
        "  1068x600/11/2704/888.mp4 already exists, skipping\n",
        "  1068x600/11/2704/892.mp4 already exists, skipping\n",
        "  1068x600/11/2704/896.mp4 already exists, skipping\n",
        "  1068x600/11/2704/900.mp4 already exists, skipping\n",
        "  Mirrored 1138558 bytes to 1068x600/11/2704/904.mp4 from https://earthengine.google.org/timelapse/data/20130507/1068x600/11/2704/904.mp4"
       ]
      },
      {
       "output_type": "stream",
       "stream": "stdout",
       "text": [
        "\n",
        "  Mirrored 1157994 bytes to 1068x600/11/2704/908.mp4 from https://earthengine.google.org/timelapse/data/20130507/1068x600/11/2704/908.mp4"
       ]
      },
      {
       "output_type": "stream",
       "stream": "stdout",
       "text": [
        "\n",
        "  Mirrored 1178310 bytes to 1068x600/11/2704/912.mp4 from https://earthengine.google.org/timelapse/data/20130507/1068x600/11/2704/912.mp4"
       ]
      },
      {
       "output_type": "stream",
       "stream": "stdout",
       "text": [
        "\n",
        "  Mirrored 1508209 bytes to 1068x600/11/2704/916.mp4 from https://earthengine.google.org/timelapse/data/20130507/1068x600/11/2704/916.mp4"
       ]
      },
      {
       "output_type": "stream",
       "stream": "stdout",
       "text": [
        "\n",
        "  Mirrored 1382231 bytes to 1068x600/11/2704/920.mp4 from https://earthengine.google.org/timelapse/data/20130507/1068x600/11/2704/920.mp4"
       ]
      },
      {
       "output_type": "stream",
       "stream": "stdout",
       "text": [
        "\n",
        "  Mirrored 1203401 bytes to 1068x600/11/2704/924.mp4 from https://earthengine.google.org/timelapse/data/20130507/1068x600/11/2704/924.mp4"
       ]
      },
      {
       "output_type": "stream",
       "stream": "stdout",
       "text": [
        "\n",
        "  Mirrored 1257994 bytes to 1068x600/11/2704/928.mp4 from https://earthengine.google.org/timelapse/data/20130507/1068x600/11/2704/928.mp4"
       ]
      },
      {
       "output_type": "stream",
       "stream": "stdout",
       "text": [
        "\n",
        "  Mirrored 1361062 bytes to 1068x600/11/2704/932.mp4 from https://earthengine.google.org/timelapse/data/20130507/1068x600/11/2704/932.mp4"
       ]
      },
      {
       "output_type": "stream",
       "stream": "stdout",
       "text": [
        "\n",
        "  Mirrored 1430652 bytes to 1068x600/11/2704/936.mp4 from https://earthengine.google.org/timelapse/data/20130507/1068x600/11/2704/936.mp4"
       ]
      },
      {
       "output_type": "stream",
       "stream": "stdout",
       "text": [
        "\n",
        "  Mirrored 1181267 bytes to 1068x600/11/2704/940.mp4 from https://earthengine.google.org/timelapse/data/20130507/1068x600/11/2704/940.mp4"
       ]
      },
      {
       "output_type": "stream",
       "stream": "stdout",
       "text": [
        "\n",
        "  Mirrored 1178861 bytes to 1068x600/11/2704/944.mp4 from https://earthengine.google.org/timelapse/data/20130507/1068x600/11/2704/944.mp4"
       ]
      },
      {
       "output_type": "stream",
       "stream": "stdout",
       "text": [
        "\n",
        "  Mirrored 1198459 bytes to 1068x600/11/2704/948.mp4 from https://earthengine.google.org/timelapse/data/20130507/1068x600/11/2704/948.mp4"
       ]
      },
      {
       "output_type": "stream",
       "stream": "stdout",
       "text": [
        "\n",
        "  Mirrored 1177628 bytes to 1068x600/11/2704/952.mp4 from https://earthengine.google.org/timelapse/data/20130507/1068x600/11/2704/952.mp4"
       ]
      },
      {
       "output_type": "stream",
       "stream": "stdout",
       "text": [
        "\n",
        "  Mirrored 1068059 bytes to 1068x600/11/2704/956.mp4 from https://earthengine.google.org/timelapse/data/20130507/1068x600/11/2704/956.mp4"
       ]
      },
      {
       "output_type": "stream",
       "stream": "stdout",
       "text": [
        "\n",
        "  Mirrored 1065972 bytes to 1068x600/11/2704/960.mp4 from https://earthengine.google.org/timelapse/data/20130507/1068x600/11/2704/960.mp4"
       ]
      },
      {
       "output_type": "stream",
       "stream": "stdout",
       "text": [
        "\n",
        "  1068x600/11/2708/832.mp4 already exists, skipping\n",
        "  1068x600/11/2708/836.mp4 already exists, skipping\n",
        "  1068x600/11/2708/840.mp4 already exists, skipping\n",
        "  1068x600/11/2708/844.mp4 already exists, skipping\n",
        "  1068x600/11/2708/848.mp4 already exists, skipping\n",
        "  1068x600/11/2708/852.mp4 already exists, skipping\n",
        "  1068x600/11/2708/856.mp4 already exists, skipping\n",
        "  1068x600/11/2708/860.mp4 already exists, skipping\n",
        "  1068x600/11/2708/864.mp4 already exists, skipping\n",
        "  1068x600/11/2708/868.mp4 already exists, skipping\n",
        "  1068x600/11/2708/872.mp4 already exists, skipping\n",
        "  1068x600/11/2708/876.mp4 already exists, skipping\n",
        "  1068x600/11/2708/880.mp4 already exists, skipping\n",
        "  1068x600/11/2708/884.mp4 already exists, skipping\n",
        "  1068x600/11/2708/888.mp4 already exists, skipping\n",
        "  1068x600/11/2708/892.mp4 already exists, skipping\n",
        "  1068x600/11/2708/896.mp4 already exists, skipping\n",
        "  1068x600/11/2708/900.mp4 already exists, skipping\n",
        "  Mirrored 1070067 bytes to 1068x600/11/2708/904.mp4 from https://earthengine.google.org/timelapse/data/20130507/1068x600/11/2708/904.mp4"
       ]
      },
      {
       "output_type": "stream",
       "stream": "stdout",
       "text": [
        "\n",
        "  Mirrored 1062915 bytes to 1068x600/11/2708/908.mp4 from https://earthengine.google.org/timelapse/data/20130507/1068x600/11/2708/908.mp4"
       ]
      },
      {
       "output_type": "stream",
       "stream": "stdout",
       "text": [
        "\n",
        "  Mirrored 1125406 bytes to 1068x600/11/2708/912.mp4 from https://earthengine.google.org/timelapse/data/20130507/1068x600/11/2708/912.mp4"
       ]
      },
      {
       "output_type": "stream",
       "stream": "stdout",
       "text": [
        "\n",
        "  Mirrored 1267231 bytes to 1068x600/11/2708/916.mp4 from https://earthengine.google.org/timelapse/data/20130507/1068x600/11/2708/916.mp4"
       ]
      },
      {
       "output_type": "stream",
       "stream": "stdout",
       "text": [
        "\n",
        "  Mirrored 1342284 bytes to 1068x600/11/2708/920.mp4 from https://earthengine.google.org/timelapse/data/20130507/1068x600/11/2708/920.mp4"
       ]
      },
      {
       "output_type": "stream",
       "stream": "stdout",
       "text": [
        "\n",
        "  Mirrored 1201576 bytes to 1068x600/11/2708/924.mp4 from https://earthengine.google.org/timelapse/data/20130507/1068x600/11/2708/924.mp4"
       ]
      },
      {
       "output_type": "stream",
       "stream": "stdout",
       "text": [
        "\n",
        "  Mirrored 1033421 bytes to 1068x600/11/2708/928.mp4 from https://earthengine.google.org/timelapse/data/20130507/1068x600/11/2708/928.mp4"
       ]
      },
      {
       "output_type": "stream",
       "stream": "stdout",
       "text": [
        "\n",
        "  Mirrored 1173260 bytes to 1068x600/11/2708/932.mp4 from https://earthengine.google.org/timelapse/data/20130507/1068x600/11/2708/932.mp4"
       ]
      },
      {
       "output_type": "stream",
       "stream": "stdout",
       "text": [
        "\n",
        "  Mirrored 1253045 bytes to 1068x600/11/2708/936.mp4 from https://earthengine.google.org/timelapse/data/20130507/1068x600/11/2708/936.mp4"
       ]
      },
      {
       "output_type": "stream",
       "stream": "stdout",
       "text": [
        "\n",
        "  Mirrored 1150186 bytes to 1068x600/11/2708/940.mp4 from https://earthengine.google.org/timelapse/data/20130507/1068x600/11/2708/940.mp4"
       ]
      },
      {
       "output_type": "stream",
       "stream": "stdout",
       "text": [
        "\n",
        "  Mirrored 1120753 bytes to 1068x600/11/2708/944.mp4 from https://earthengine.google.org/timelapse/data/20130507/1068x600/11/2708/944.mp4"
       ]
      },
      {
       "output_type": "stream",
       "stream": "stdout",
       "text": [
        "\n",
        "  Mirrored 1145637 bytes to 1068x600/11/2708/948.mp4 from https://earthengine.google.org/timelapse/data/20130507/1068x600/11/2708/948.mp4"
       ]
      },
      {
       "output_type": "stream",
       "stream": "stdout",
       "text": [
        "\n",
        "  Mirrored 1165709 bytes to 1068x600/11/2708/952.mp4 from https://earthengine.google.org/timelapse/data/20130507/1068x600/11/2708/952.mp4"
       ]
      },
      {
       "output_type": "stream",
       "stream": "stdout",
       "text": [
        "\n",
        "  Mirrored 1106966 bytes to 1068x600/11/2708/956.mp4 from https://earthengine.google.org/timelapse/data/20130507/1068x600/11/2708/956.mp4"
       ]
      },
      {
       "output_type": "stream",
       "stream": "stdout",
       "text": [
        "\n",
        "  Mirrored 1096089 bytes to 1068x600/11/2708/960.mp4 from https://earthengine.google.org/timelapse/data/20130507/1068x600/11/2708/960.mp4"
       ]
      },
      {
       "output_type": "stream",
       "stream": "stdout",
       "text": [
        "\n",
        "  1068x600/11/2712/832.mp4 already exists, skipping\n",
        "  1068x600/11/2712/836.mp4 already exists, skipping\n",
        "  1068x600/11/2712/840.mp4 already exists, skipping\n",
        "  1068x600/11/2712/844.mp4 already exists, skipping\n",
        "  1068x600/11/2712/848.mp4 already exists, skipping\n",
        "  1068x600/11/2712/852.mp4 already exists, skipping\n",
        "  1068x600/11/2712/856.mp4 already exists, skipping\n",
        "  1068x600/11/2712/860.mp4 already exists, skipping\n",
        "  1068x600/11/2712/864.mp4 already exists, skipping\n",
        "  1068x600/11/2712/868.mp4 already exists, skipping\n",
        "  1068x600/11/2712/872.mp4 already exists, skipping\n",
        "  1068x600/11/2712/876.mp4 already exists, skipping\n",
        "  1068x600/11/2712/880.mp4 already exists, skipping\n",
        "  1068x600/11/2712/884.mp4 already exists, skipping\n",
        "  1068x600/11/2712/888.mp4 already exists, skipping\n",
        "  1068x600/11/2712/892.mp4 already exists, skipping\n",
        "  1068x600/11/2712/896.mp4 already exists, skipping\n",
        "  1068x600/11/2712/900.mp4 already exists, skipping\n",
        "  Mirrored 1171150 bytes to 1068x600/11/2712/904.mp4 from https://earthengine.google.org/timelapse/data/20130507/1068x600/11/2712/904.mp4"
       ]
      },
      {
       "output_type": "stream",
       "stream": "stdout",
       "text": [
        "\n",
        "  Mirrored 1039922 bytes to 1068x600/11/2712/908.mp4 from https://earthengine.google.org/timelapse/data/20130507/1068x600/11/2712/908.mp4"
       ]
      },
      {
       "output_type": "stream",
       "stream": "stdout",
       "text": [
        "\n",
        "  Mirrored 1073070 bytes to 1068x600/11/2712/912.mp4 from https://earthengine.google.org/timelapse/data/20130507/1068x600/11/2712/912.mp4"
       ]
      },
      {
       "output_type": "stream",
       "stream": "stdout",
       "text": [
        "\n",
        "  Mirrored 1133801 bytes to 1068x600/11/2712/916.mp4 from https://earthengine.google.org/timelapse/data/20130507/1068x600/11/2712/916.mp4"
       ]
      },
      {
       "output_type": "stream",
       "stream": "stdout",
       "text": [
        "\n",
        "  Mirrored 1507580 bytes to 1068x600/11/2712/920.mp4 from https://earthengine.google.org/timelapse/data/20130507/1068x600/11/2712/920.mp4"
       ]
      },
      {
       "output_type": "stream",
       "stream": "stdout",
       "text": [
        "\n",
        "  Mirrored 1108929 bytes to 1068x600/11/2712/924.mp4 from https://earthengine.google.org/timelapse/data/20130507/1068x600/11/2712/924.mp4"
       ]
      },
      {
       "output_type": "stream",
       "stream": "stdout",
       "text": [
        "\n",
        "  Mirrored 1100441 bytes to 1068x600/11/2712/928.mp4 from https://earthengine.google.org/timelapse/data/20130507/1068x600/11/2712/928.mp4"
       ]
      },
      {
       "output_type": "stream",
       "stream": "stdout",
       "text": [
        "\n",
        "  Mirrored 1204746 bytes to 1068x600/11/2712/932.mp4 from https://earthengine.google.org/timelapse/data/20130507/1068x600/11/2712/932.mp4"
       ]
      },
      {
       "output_type": "stream",
       "stream": "stdout",
       "text": [
        "\n",
        "  Mirrored 1242866 bytes to 1068x600/11/2712/936.mp4 from https://earthengine.google.org/timelapse/data/20130507/1068x600/11/2712/936.mp4"
       ]
      },
      {
       "output_type": "stream",
       "stream": "stdout",
       "text": [
        "\n",
        "  Mirrored 1355800 bytes to 1068x600/11/2712/940.mp4 from https://earthengine.google.org/timelapse/data/20130507/1068x600/11/2712/940.mp4"
       ]
      },
      {
       "output_type": "stream",
       "stream": "stdout",
       "text": [
        "\n",
        "  Mirrored 1251954 bytes to 1068x600/11/2712/944.mp4 from https://earthengine.google.org/timelapse/data/20130507/1068x600/11/2712/944.mp4"
       ]
      },
      {
       "output_type": "stream",
       "stream": "stdout",
       "text": [
        "\n",
        "  Mirrored 1127116 bytes to 1068x600/11/2712/948.mp4 from https://earthengine.google.org/timelapse/data/20130507/1068x600/11/2712/948.mp4"
       ]
      },
      {
       "output_type": "stream",
       "stream": "stdout",
       "text": [
        "\n",
        "  Mirrored 1129785 bytes to 1068x600/11/2712/952.mp4 from https://earthengine.google.org/timelapse/data/20130507/1068x600/11/2712/952.mp4"
       ]
      },
      {
       "output_type": "stream",
       "stream": "stdout",
       "text": [
        "\n",
        "  Mirrored 1110209 bytes to 1068x600/11/2712/956.mp4 from https://earthengine.google.org/timelapse/data/20130507/1068x600/11/2712/956.mp4"
       ]
      },
      {
       "output_type": "stream",
       "stream": "stdout",
       "text": [
        "\n",
        "  Mirrored 1119675 bytes to 1068x600/11/2712/960.mp4 from https://earthengine.google.org/timelapse/data/20130507/1068x600/11/2712/960.mp4"
       ]
      },
      {
       "output_type": "stream",
       "stream": "stdout",
       "text": [
        "\n",
        "  1068x600/11/2716/832.mp4 already exists, skipping\n",
        "  1068x600/11/2716/836.mp4 already exists, skipping\n",
        "  1068x600/11/2716/840.mp4 already exists, skipping\n",
        "  1068x600/11/2716/844.mp4 already exists, skipping\n",
        "  1068x600/11/2716/848.mp4 already exists, skipping\n",
        "  1068x600/11/2716/852.mp4 already exists, skipping\n",
        "  1068x600/11/2716/856.mp4 already exists, skipping\n",
        "  1068x600/11/2716/860.mp4 already exists, skipping\n",
        "  1068x600/11/2716/864.mp4 already exists, skipping\n",
        "  1068x600/11/2716/868.mp4 already exists, skipping\n",
        "  1068x600/11/2716/872.mp4 already exists, skipping\n",
        "  1068x600/11/2716/876.mp4 already exists, skipping\n",
        "  1068x600/11/2716/880.mp4 already exists, skipping\n",
        "  1068x600/11/2716/884.mp4 already exists, skipping\n",
        "  1068x600/11/2716/888.mp4 already exists, skipping\n",
        "  1068x600/11/2716/892.mp4 already exists, skipping\n",
        "  1068x600/11/2716/896.mp4 already exists, skipping\n",
        "  1068x600/11/2716/900.mp4 already exists, skipping\n",
        "  Mirrored 1291326 bytes to 1068x600/11/2716/904.mp4 from https://earthengine.google.org/timelapse/data/20130507/1068x600/11/2716/904.mp4"
       ]
      },
      {
       "output_type": "stream",
       "stream": "stdout",
       "text": [
        "\n",
        "  Mirrored 1014621 bytes to 1068x600/11/2716/908.mp4 from https://earthengine.google.org/timelapse/data/20130507/1068x600/11/2716/908.mp4"
       ]
      },
      {
       "output_type": "stream",
       "stream": "stdout",
       "text": [
        "\n",
        "  Mirrored 1113001 bytes to 1068x600/11/2716/912.mp4 from https://earthengine.google.org/timelapse/data/20130507/1068x600/11/2716/912.mp4"
       ]
      },
      {
       "output_type": "stream",
       "stream": "stdout",
       "text": [
        "\n",
        "  Mirrored 1230318 bytes to 1068x600/11/2716/916.mp4 from https://earthengine.google.org/timelapse/data/20130507/1068x600/11/2716/916.mp4"
       ]
      },
      {
       "output_type": "stream",
       "stream": "stdout",
       "text": [
        "\n",
        "  Mirrored 1394870 bytes to 1068x600/11/2716/920.mp4 from https://earthengine.google.org/timelapse/data/20130507/1068x600/11/2716/920.mp4"
       ]
      },
      {
       "output_type": "stream",
       "stream": "stdout",
       "text": [
        "\n",
        "  Mirrored 1082447 bytes to 1068x600/11/2716/924.mp4 from https://earthengine.google.org/timelapse/data/20130507/1068x600/11/2716/924.mp4"
       ]
      },
      {
       "output_type": "stream",
       "stream": "stdout",
       "text": [
        "\n",
        "  Mirrored 1070971 bytes to 1068x600/11/2716/928.mp4 from https://earthengine.google.org/timelapse/data/20130507/1068x600/11/2716/928.mp4"
       ]
      },
      {
       "output_type": "stream",
       "stream": "stdout",
       "text": [
        "\n",
        "  Mirrored 1160181 bytes to 1068x600/11/2716/932.mp4 from https://earthengine.google.org/timelapse/data/20130507/1068x600/11/2716/932.mp4"
       ]
      },
      {
       "output_type": "stream",
       "stream": "stdout",
       "text": [
        "\n",
        "  Mirrored 1306660 bytes to 1068x600/11/2716/936.mp4 from https://earthengine.google.org/timelapse/data/20130507/1068x600/11/2716/936.mp4"
       ]
      },
      {
       "output_type": "stream",
       "stream": "stdout",
       "text": [
        "\n",
        "  Mirrored 1357475 bytes to 1068x600/11/2716/940.mp4 from https://earthengine.google.org/timelapse/data/20130507/1068x600/11/2716/940.mp4"
       ]
      },
      {
       "output_type": "stream",
       "stream": "stdout",
       "text": [
        "\n",
        "  Mirrored 1342459 bytes to 1068x600/11/2716/944.mp4 from https://earthengine.google.org/timelapse/data/20130507/1068x600/11/2716/944.mp4"
       ]
      },
      {
       "output_type": "stream",
       "stream": "stdout",
       "text": [
        "\n",
        "  Mirrored 1231299 bytes to 1068x600/11/2716/948.mp4 from https://earthengine.google.org/timelapse/data/20130507/1068x600/11/2716/948.mp4"
       ]
      },
      {
       "output_type": "stream",
       "stream": "stdout",
       "text": [
        "\n",
        "  Mirrored 1155055 bytes to 1068x600/11/2716/952.mp4 from https://earthengine.google.org/timelapse/data/20130507/1068x600/11/2716/952.mp4"
       ]
      },
      {
       "output_type": "stream",
       "stream": "stdout",
       "text": [
        "\n",
        "  Mirrored 1053863 bytes to 1068x600/11/2716/956.mp4 from https://earthengine.google.org/timelapse/data/20130507/1068x600/11/2716/956.mp4"
       ]
      },
      {
       "output_type": "stream",
       "stream": "stdout",
       "text": [
        "\n",
        "  Mirrored 1084356 bytes to 1068x600/11/2716/960.mp4 from https://earthengine.google.org/timelapse/data/20130507/1068x600/11/2716/960.mp4"
       ]
      },
      {
       "output_type": "stream",
       "stream": "stdout",
       "text": [
        "\n",
        "  1068x600/11/2720/832.mp4 already exists, skipping\n",
        "  1068x600/11/2720/836.mp4 already exists, skipping\n",
        "  1068x600/11/2720/840.mp4 already exists, skipping\n",
        "  1068x600/11/2720/844.mp4 already exists, skipping\n",
        "  1068x600/11/2720/848.mp4 already exists, skipping\n",
        "  1068x600/11/2720/852.mp4 already exists, skipping\n",
        "  1068x600/11/2720/856.mp4 already exists, skipping\n",
        "  1068x600/11/2720/860.mp4 already exists, skipping\n",
        "  1068x600/11/2720/864.mp4 already exists, skipping\n",
        "  1068x600/11/2720/868.mp4 already exists, skipping\n",
        "  1068x600/11/2720/872.mp4 already exists, skipping\n",
        "  1068x600/11/2720/876.mp4 already exists, skipping\n",
        "  1068x600/11/2720/880.mp4 already exists, skipping\n",
        "  1068x600/11/2720/884.mp4 already exists, skipping\n",
        "  1068x600/11/2720/888.mp4 already exists, skipping\n",
        "  1068x600/11/2720/892.mp4 already exists, skipping\n",
        "  1068x600/11/2720/896.mp4 already exists, skipping\n",
        "  1068x600/11/2720/900.mp4 already exists, skipping\n",
        "  Mirrored 1055447 bytes to 1068x600/11/2720/904.mp4 from https://earthengine.google.org/timelapse/data/20130507/1068x600/11/2720/904.mp4"
       ]
      },
      {
       "output_type": "stream",
       "stream": "stdout",
       "text": [
        "\n",
        "  Mirrored 1169238 bytes to 1068x600/11/2720/908.mp4 from https://earthengine.google.org/timelapse/data/20130507/1068x600/11/2720/908.mp4"
       ]
      },
      {
       "output_type": "stream",
       "stream": "stdout",
       "text": [
        "\n",
        "  Mirrored 1114147 bytes to 1068x600/11/2720/912.mp4 from https://earthengine.google.org/timelapse/data/20130507/1068x600/11/2720/912.mp4"
       ]
      },
      {
       "output_type": "stream",
       "stream": "stdout",
       "text": [
        "\n",
        "  Mirrored 1358049 bytes to 1068x600/11/2720/916.mp4 from https://earthengine.google.org/timelapse/data/20130507/1068x600/11/2720/916.mp4"
       ]
      },
      {
       "output_type": "stream",
       "stream": "stdout",
       "text": [
        "\n",
        "  Mirrored 1230859 bytes to 1068x600/11/2720/920.mp4 from https://earthengine.google.org/timelapse/data/20130507/1068x600/11/2720/920.mp4"
       ]
      },
      {
       "output_type": "stream",
       "stream": "stdout",
       "text": [
        "\n",
        "  Mirrored 1103154 bytes to 1068x600/11/2720/924.mp4 from https://earthengine.google.org/timelapse/data/20130507/1068x600/11/2720/924.mp4"
       ]
      },
      {
       "output_type": "stream",
       "stream": "stdout",
       "text": [
        "\n",
        "  Mirrored 1080515 bytes to 1068x600/11/2720/928.mp4 from https://earthengine.google.org/timelapse/data/20130507/1068x600/11/2720/928.mp4"
       ]
      },
      {
       "output_type": "stream",
       "stream": "stdout",
       "text": [
        "\n",
        "  Mirrored 1297548 bytes to 1068x600/11/2720/932.mp4 from https://earthengine.google.org/timelapse/data/20130507/1068x600/11/2720/932.mp4"
       ]
      },
      {
       "output_type": "stream",
       "stream": "stdout",
       "text": [
        "\n",
        "  Mirrored 1353112 bytes to 1068x600/11/2720/936.mp4 from https://earthengine.google.org/timelapse/data/20130507/1068x600/11/2720/936.mp4"
       ]
      },
      {
       "output_type": "stream",
       "stream": "stdout",
       "text": [
        "\n",
        "  Mirrored 1368021 bytes to 1068x600/11/2720/940.mp4 from https://earthengine.google.org/timelapse/data/20130507/1068x600/11/2720/940.mp4"
       ]
      },
      {
       "output_type": "stream",
       "stream": "stdout",
       "text": [
        "\n",
        "  Mirrored 1297516 bytes to 1068x600/11/2720/944.mp4 from https://earthengine.google.org/timelapse/data/20130507/1068x600/11/2720/944.mp4"
       ]
      },
      {
       "output_type": "stream",
       "stream": "stdout",
       "text": [
        "\n",
        "  Mirrored 993486 bytes to 1068x600/11/2720/948.mp4 from https://earthengine.google.org/timelapse/data/20130507/1068x600/11/2720/948.mp4"
       ]
      },
      {
       "output_type": "stream",
       "stream": "stdout",
       "text": [
        "\n",
        "  Mirrored 1197780 bytes to 1068x600/11/2720/952.mp4 from https://earthengine.google.org/timelapse/data/20130507/1068x600/11/2720/952.mp4"
       ]
      },
      {
       "output_type": "stream",
       "stream": "stdout",
       "text": [
        "\n",
        "  Mirrored 1095521 bytes to 1068x600/11/2720/956.mp4 from https://earthengine.google.org/timelapse/data/20130507/1068x600/11/2720/956.mp4"
       ]
      },
      {
       "output_type": "stream",
       "stream": "stdout",
       "text": [
        "\n",
        "  Mirrored 1058664 bytes to 1068x600/11/2720/960.mp4 from https://earthengine.google.org/timelapse/data/20130507/1068x600/11/2720/960.mp4"
       ]
      },
      {
       "output_type": "stream",
       "stream": "stdout",
       "text": [
        "\n",
        "  1068x600/11/2724/832.mp4 already exists, skipping\n",
        "  1068x600/11/2724/836.mp4 already exists, skipping\n",
        "  1068x600/11/2724/840.mp4 already exists, skipping\n",
        "  1068x600/11/2724/844.mp4 already exists, skipping\n",
        "  1068x600/11/2724/848.mp4 already exists, skipping\n",
        "  1068x600/11/2724/852.mp4 already exists, skipping\n",
        "  1068x600/11/2724/856.mp4 already exists, skipping\n",
        "  1068x600/11/2724/860.mp4 already exists, skipping\n",
        "  1068x600/11/2724/864.mp4 already exists, skipping\n",
        "  1068x600/11/2724/868.mp4 already exists, skipping\n",
        "  1068x600/11/2724/872.mp4 already exists, skipping\n",
        "  1068x600/11/2724/876.mp4 already exists, skipping\n",
        "  1068x600/11/2724/880.mp4 already exists, skipping\n",
        "  1068x600/11/2724/884.mp4 already exists, skipping\n",
        "  1068x600/11/2724/888.mp4 already exists, skipping\n",
        "  1068x600/11/2724/892.mp4 already exists, skipping\n",
        "  1068x600/11/2724/896.mp4 already exists, skipping\n",
        "  1068x600/11/2724/900.mp4 already exists, skipping\n",
        "  Mirrored 1012426 bytes to 1068x600/11/2724/904.mp4 from https://earthengine.google.org/timelapse/data/20130507/1068x600/11/2724/904.mp4"
       ]
      },
      {
       "output_type": "stream",
       "stream": "stdout",
       "text": [
        "\n",
        "  Mirrored 1269689 bytes to 1068x600/11/2724/908.mp4 from https://earthengine.google.org/timelapse/data/20130507/1068x600/11/2724/908.mp4"
       ]
      },
      {
       "output_type": "stream",
       "stream": "stdout",
       "text": [
        "\n",
        "  Mirrored 1202548 bytes to 1068x600/11/2724/912.mp4 from https://earthengine.google.org/timelapse/data/20130507/1068x600/11/2724/912.mp4"
       ]
      },
      {
       "output_type": "stream",
       "stream": "stdout",
       "text": [
        "\n",
        "  Mirrored 1232871 bytes to 1068x600/11/2724/916.mp4 from https://earthengine.google.org/timelapse/data/20130507/1068x600/11/2724/916.mp4"
       ]
      },
      {
       "output_type": "stream",
       "stream": "stdout",
       "text": [
        "\n",
        "  Mirrored 1180106 bytes to 1068x600/11/2724/920.mp4 from https://earthengine.google.org/timelapse/data/20130507/1068x600/11/2724/920.mp4"
       ]
      },
      {
       "output_type": "stream",
       "stream": "stdout",
       "text": [
        "\n",
        "  Mirrored 1038857 bytes to 1068x600/11/2724/924.mp4 from https://earthengine.google.org/timelapse/data/20130507/1068x600/11/2724/924.mp4"
       ]
      },
      {
       "output_type": "stream",
       "stream": "stdout",
       "text": [
        "\n",
        "  Mirrored 1108066 bytes to 1068x600/11/2724/928.mp4 from https://earthengine.google.org/timelapse/data/20130507/1068x600/11/2724/928.mp4"
       ]
      },
      {
       "output_type": "stream",
       "stream": "stdout",
       "text": [
        "\n",
        "  Mirrored 1306933 bytes to 1068x600/11/2724/932.mp4 from https://earthengine.google.org/timelapse/data/20130507/1068x600/11/2724/932.mp4"
       ]
      },
      {
       "output_type": "stream",
       "stream": "stdout",
       "text": [
        "\n",
        "  Mirrored 1339594 bytes to 1068x600/11/2724/936.mp4 from https://earthengine.google.org/timelapse/data/20130507/1068x600/11/2724/936.mp4"
       ]
      },
      {
       "output_type": "stream",
       "stream": "stdout",
       "text": [
        "\n",
        "  Mirrored 1352597 bytes to 1068x600/11/2724/940.mp4 from https://earthengine.google.org/timelapse/data/20130507/1068x600/11/2724/940.mp4"
       ]
      },
      {
       "output_type": "stream",
       "stream": "stdout",
       "text": [
        "\n",
        "  Mirrored 1398782 bytes to 1068x600/11/2724/944.mp4 from https://earthengine.google.org/timelapse/data/20130507/1068x600/11/2724/944.mp4"
       ]
      },
      {
       "output_type": "stream",
       "stream": "stdout",
       "text": [
        "\n",
        "  Mirrored 1198154 bytes to 1068x600/11/2724/948.mp4 from https://earthengine.google.org/timelapse/data/20130507/1068x600/11/2724/948.mp4"
       ]
      },
      {
       "output_type": "stream",
       "stream": "stdout",
       "text": [
        "\n",
        "  Mirrored 1165386 bytes to 1068x600/11/2724/952.mp4 from https://earthengine.google.org/timelapse/data/20130507/1068x600/11/2724/952.mp4"
       ]
      },
      {
       "output_type": "stream",
       "stream": "stdout",
       "text": [
        "\n",
        "  Mirrored 1014141 bytes to 1068x600/11/2724/956.mp4 from https://earthengine.google.org/timelapse/data/20130507/1068x600/11/2724/956.mp4"
       ]
      },
      {
       "output_type": "stream",
       "stream": "stdout",
       "text": [
        "\n",
        "  Mirrored 1068148 bytes to 1068x600/11/2724/960.mp4 from https://earthengine.google.org/timelapse/data/20130507/1068x600/11/2724/960.mp4"
       ]
      },
      {
       "output_type": "stream",
       "stream": "stdout",
       "text": [
        "\n",
        "  1068x600/11/2728/832.mp4 already exists, skipping\n",
        "  1068x600/11/2728/836.mp4 already exists, skipping\n",
        "  1068x600/11/2728/840.mp4 already exists, skipping\n",
        "  1068x600/11/2728/844.mp4 already exists, skipping\n",
        "  1068x600/11/2728/848.mp4 already exists, skipping\n",
        "  1068x600/11/2728/852.mp4 already exists, skipping\n",
        "  1068x600/11/2728/856.mp4 already exists, skipping\n",
        "  1068x600/11/2728/860.mp4 already exists, skipping\n",
        "  1068x600/11/2728/864.mp4 already exists, skipping\n",
        "  1068x600/11/2728/868.mp4 already exists, skipping\n",
        "  1068x600/11/2728/872.mp4 already exists, skipping\n",
        "  1068x600/11/2728/876.mp4 already exists, skipping\n",
        "  1068x600/11/2728/880.mp4 already exists, skipping\n",
        "  1068x600/11/2728/884.mp4 already exists, skipping\n",
        "  1068x600/11/2728/888.mp4 already exists, skipping\n",
        "  1068x600/11/2728/892.mp4 already exists, skipping\n",
        "  1068x600/11/2728/896.mp4 already exists, skipping\n",
        "  1068x600/11/2728/900.mp4 already exists, skipping\n",
        "  Mirrored 1206273 bytes to 1068x600/11/2728/904.mp4 from https://earthengine.google.org/timelapse/data/20130507/1068x600/11/2728/904.mp4"
       ]
      },
      {
       "output_type": "stream",
       "stream": "stdout",
       "text": [
        "\n",
        "  Mirrored 1045382 bytes to 1068x600/11/2728/908.mp4 from https://earthengine.google.org/timelapse/data/20130507/1068x600/11/2728/908.mp4"
       ]
      },
      {
       "output_type": "stream",
       "stream": "stdout",
       "text": [
        "\n",
        "  Mirrored 1274606 bytes to 1068x600/11/2728/912.mp4 from https://earthengine.google.org/timelapse/data/20130507/1068x600/11/2728/912.mp4"
       ]
      },
      {
       "output_type": "stream",
       "stream": "stdout",
       "text": [
        "\n",
        "  Mirrored 1198283 bytes to 1068x600/11/2728/916.mp4 from https://earthengine.google.org/timelapse/data/20130507/1068x600/11/2728/916.mp4"
       ]
      },
      {
       "output_type": "stream",
       "stream": "stdout",
       "text": [
        "\n",
        "  Mirrored 1019978 bytes to 1068x600/11/2728/920.mp4 from https://earthengine.google.org/timelapse/data/20130507/1068x600/11/2728/920.mp4"
       ]
      },
      {
       "output_type": "stream",
       "stream": "stdout",
       "text": [
        "\n",
        "  Mirrored 1169543 bytes to 1068x600/11/2728/924.mp4 from https://earthengine.google.org/timelapse/data/20130507/1068x600/11/2728/924.mp4"
       ]
      },
      {
       "output_type": "stream",
       "stream": "stdout",
       "text": [
        "\n",
        "  Mirrored 1146616 bytes to 1068x600/11/2728/928.mp4 from https://earthengine.google.org/timelapse/data/20130507/1068x600/11/2728/928.mp4"
       ]
      },
      {
       "output_type": "stream",
       "stream": "stdout",
       "text": [
        "\n",
        "  Mirrored 1340474 bytes to 1068x600/11/2728/932.mp4 from https://earthengine.google.org/timelapse/data/20130507/1068x600/11/2728/932.mp4"
       ]
      },
      {
       "output_type": "stream",
       "stream": "stdout",
       "text": [
        "\n",
        "  Mirrored 1387499 bytes to 1068x600/11/2728/936.mp4 from https://earthengine.google.org/timelapse/data/20130507/1068x600/11/2728/936.mp4"
       ]
      },
      {
       "output_type": "stream",
       "stream": "stdout",
       "text": [
        "\n",
        "  Mirrored 1306015 bytes to 1068x600/11/2728/940.mp4 from https://earthengine.google.org/timelapse/data/20130507/1068x600/11/2728/940.mp4"
       ]
      },
      {
       "output_type": "stream",
       "stream": "stdout",
       "text": [
        "\n",
        "  Mirrored 1210758 bytes to 1068x600/11/2728/944.mp4 from https://earthengine.google.org/timelapse/data/20130507/1068x600/11/2728/944.mp4"
       ]
      },
      {
       "output_type": "stream",
       "stream": "stdout",
       "text": [
        "\n",
        "  Mirrored 1221178 bytes to 1068x600/11/2728/948.mp4 from https://earthengine.google.org/timelapse/data/20130507/1068x600/11/2728/948.mp4"
       ]
      },
      {
       "output_type": "stream",
       "stream": "stdout",
       "text": [
        "\n",
        "  Mirrored 1168752 bytes to 1068x600/11/2728/952.mp4 from https://earthengine.google.org/timelapse/data/20130507/1068x600/11/2728/952.mp4"
       ]
      },
      {
       "output_type": "stream",
       "stream": "stdout",
       "text": [
        "\n",
        "  Mirrored 1162435 bytes to 1068x600/11/2728/956.mp4 from https://earthengine.google.org/timelapse/data/20130507/1068x600/11/2728/956.mp4"
       ]
      },
      {
       "output_type": "stream",
       "stream": "stdout",
       "text": [
        "\n",
        "  Mirrored 1126379 bytes to 1068x600/11/2728/960.mp4 from https://earthengine.google.org/timelapse/data/20130507/1068x600/11/2728/960.mp4"
       ]
      },
      {
       "output_type": "stream",
       "stream": "stdout",
       "text": [
        "\n",
        "  1068x600/11/2732/832.mp4 already exists, skipping\n",
        "  1068x600/11/2732/836.mp4 already exists, skipping\n",
        "  1068x600/11/2732/840.mp4 already exists, skipping\n",
        "  1068x600/11/2732/844.mp4 already exists, skipping\n",
        "  1068x600/11/2732/848.mp4 already exists, skipping\n",
        "  1068x600/11/2732/852.mp4 already exists, skipping\n",
        "  1068x600/11/2732/856.mp4 already exists, skipping\n",
        "  1068x600/11/2732/860.mp4 already exists, skipping\n",
        "  1068x600/11/2732/864.mp4 already exists, skipping\n",
        "  1068x600/11/2732/868.mp4 already exists, skipping\n",
        "  1068x600/11/2732/872.mp4 already exists, skipping\n",
        "  1068x600/11/2732/876.mp4 already exists, skipping\n",
        "  1068x600/11/2732/880.mp4 already exists, skipping\n",
        "  1068x600/11/2732/884.mp4 already exists, skipping\n",
        "  1068x600/11/2732/888.mp4 already exists, skipping\n",
        "  1068x600/11/2732/892.mp4 already exists, skipping\n",
        "  1068x600/11/2732/896.mp4 already exists, skipping\n",
        "  1068x600/11/2732/900.mp4 already exists, skipping\n",
        "  Mirrored 1062915 bytes to 1068x600/11/2732/904.mp4 from https://earthengine.google.org/timelapse/data/20130507/1068x600/11/2732/904.mp4"
       ]
      },
      {
       "output_type": "stream",
       "stream": "stdout",
       "text": [
        "\n",
        "  Mirrored 1092129 bytes to 1068x600/11/2732/908.mp4 from https://earthengine.google.org/timelapse/data/20130507/1068x600/11/2732/908.mp4"
       ]
      },
      {
       "output_type": "stream",
       "stream": "stdout",
       "text": [
        "\n",
        "  Mirrored 1350329 bytes to 1068x600/11/2732/912.mp4 from https://earthengine.google.org/timelapse/data/20130507/1068x600/11/2732/912.mp4"
       ]
      },
      {
       "output_type": "stream",
       "stream": "stdout",
       "text": [
        "\n",
        "  Mirrored 1388702 bytes to 1068x600/11/2732/916.mp4 from https://earthengine.google.org/timelapse/data/20130507/1068x600/11/2732/916.mp4"
       ]
      },
      {
       "output_type": "stream",
       "stream": "stdout",
       "text": [
        "\n",
        "  Mirrored 1112054 bytes to 1068x600/11/2732/920.mp4 from https://earthengine.google.org/timelapse/data/20130507/1068x600/11/2732/920.mp4"
       ]
      },
      {
       "output_type": "stream",
       "stream": "stdout",
       "text": [
        "\n",
        "  Mirrored 1180479 bytes to 1068x600/11/2732/924.mp4 from https://earthengine.google.org/timelapse/data/20130507/1068x600/11/2732/924.mp4"
       ]
      },
      {
       "output_type": "stream",
       "stream": "stdout",
       "text": [
        "\n",
        "  Mirrored 1131405 bytes to 1068x600/11/2732/928.mp4 from https://earthengine.google.org/timelapse/data/20130507/1068x600/11/2732/928.mp4"
       ]
      },
      {
       "output_type": "stream",
       "stream": "stdout",
       "text": [
        "\n",
        "  Mirrored 1300602 bytes to 1068x600/11/2732/932.mp4 from https://earthengine.google.org/timelapse/data/20130507/1068x600/11/2732/932.mp4"
       ]
      },
      {
       "output_type": "stream",
       "stream": "stdout",
       "text": [
        "\n",
        "  Mirrored 1357415 bytes to 1068x600/11/2732/936.mp4 from https://earthengine.google.org/timelapse/data/20130507/1068x600/11/2732/936.mp4"
       ]
      },
      {
       "output_type": "stream",
       "stream": "stdout",
       "text": [
        "\n",
        "  Mirrored 1288019 bytes to 1068x600/11/2732/940.mp4 from https://earthengine.google.org/timelapse/data/20130507/1068x600/11/2732/940.mp4"
       ]
      },
      {
       "output_type": "stream",
       "stream": "stdout",
       "text": [
        "\n",
        "  Mirrored 1098441 bytes to 1068x600/11/2732/944.mp4 from https://earthengine.google.org/timelapse/data/20130507/1068x600/11/2732/944.mp4"
       ]
      },
      {
       "output_type": "stream",
       "stream": "stdout",
       "text": [
        "\n",
        "  Mirrored 983587 bytes to 1068x600/11/2732/948.mp4 from https://earthengine.google.org/timelapse/data/20130507/1068x600/11/2732/948.mp4"
       ]
      },
      {
       "output_type": "stream",
       "stream": "stdout",
       "text": [
        "\n",
        "  Mirrored 1251429 bytes to 1068x600/11/2732/952.mp4 from https://earthengine.google.org/timelapse/data/20130507/1068x600/11/2732/952.mp4"
       ]
      },
      {
       "output_type": "stream",
       "stream": "stdout",
       "text": [
        "\n",
        "  Mirrored 1098923 bytes to 1068x600/11/2732/956.mp4 from https://earthengine.google.org/timelapse/data/20130507/1068x600/11/2732/956.mp4"
       ]
      },
      {
       "output_type": "stream",
       "stream": "stdout",
       "text": [
        "\n",
        "  Mirrored 1090329 bytes to 1068x600/11/2732/960.mp4 from https://earthengine.google.org/timelapse/data/20130507/1068x600/11/2732/960.mp4"
       ]
      },
      {
       "output_type": "stream",
       "stream": "stdout",
       "text": [
        "\n",
        "  1068x600/11/2736/832.mp4 already exists, skipping\n",
        "  1068x600/11/2736/836.mp4 already exists, skipping\n",
        "  1068x600/11/2736/840.mp4 already exists, skipping\n",
        "  1068x600/11/2736/844.mp4 already exists, skipping\n",
        "  1068x600/11/2736/848.mp4 already exists, skipping\n",
        "  1068x600/11/2736/852.mp4 already exists, skipping\n",
        "  1068x600/11/2736/856.mp4 already exists, skipping\n",
        "  1068x600/11/2736/860.mp4 already exists, skipping\n",
        "  1068x600/11/2736/864.mp4 already exists, skipping\n",
        "  1068x600/11/2736/868.mp4 already exists, skipping\n",
        "  1068x600/11/2736/872.mp4 already exists, skipping\n",
        "  1068x600/11/2736/876.mp4 already exists, skipping\n",
        "  1068x600/11/2736/880.mp4 already exists, skipping\n",
        "  1068x600/11/2736/884.mp4 already exists, skipping\n",
        "  1068x600/11/2736/888.mp4 already exists, skipping\n",
        "  1068x600/11/2736/892.mp4 already exists, skipping\n",
        "  1068x600/11/2736/896.mp4 already exists, skipping\n",
        "  1068x600/11/2736/900.mp4 already exists, skipping\n",
        "  Mirrored 1207123 bytes to 1068x600/11/2736/904.mp4 from https://earthengine.google.org/timelapse/data/20130507/1068x600/11/2736/904.mp4"
       ]
      },
      {
       "output_type": "stream",
       "stream": "stdout",
       "text": [
        "\n",
        "  Mirrored 1076107 bytes to 1068x600/11/2736/908.mp4 from https://earthengine.google.org/timelapse/data/20130507/1068x600/11/2736/908.mp4"
       ]
      },
      {
       "output_type": "stream",
       "stream": "stdout",
       "text": [
        "\n",
        "  Mirrored 1123587 bytes to 1068x600/11/2736/912.mp4 from https://earthengine.google.org/timelapse/data/20130507/1068x600/11/2736/912.mp4"
       ]
      },
      {
       "output_type": "stream",
       "stream": "stdout",
       "text": [
        "\n",
        "  Mirrored 1262555 bytes to 1068x600/11/2736/916.mp4 from https://earthengine.google.org/timelapse/data/20130507/1068x600/11/2736/916.mp4"
       ]
      },
      {
       "output_type": "stream",
       "stream": "stdout",
       "text": [
        "\n",
        "  Mirrored 1091834 bytes to 1068x600/11/2736/920.mp4 from https://earthengine.google.org/timelapse/data/20130507/1068x600/11/2736/920.mp4"
       ]
      },
      {
       "output_type": "stream",
       "stream": "stdout",
       "text": [
        "\n",
        "  Mirrored 1208044 bytes to 1068x600/11/2736/924.mp4 from https://earthengine.google.org/timelapse/data/20130507/1068x600/11/2736/924.mp4"
       ]
      },
      {
       "output_type": "stream",
       "stream": "stdout",
       "text": [
        "\n",
        "  Mirrored 1110091 bytes to 1068x600/11/2736/928.mp4 from https://earthengine.google.org/timelapse/data/20130507/1068x600/11/2736/928.mp4"
       ]
      },
      {
       "output_type": "stream",
       "stream": "stdout",
       "text": [
        "\n",
        "  Mirrored 1318187 bytes to 1068x600/11/2736/932.mp4 from https://earthengine.google.org/timelapse/data/20130507/1068x600/11/2736/932.mp4"
       ]
      },
      {
       "output_type": "stream",
       "stream": "stdout",
       "text": [
        "\n",
        "  Mirrored 1302746 bytes to 1068x600/11/2736/936.mp4 from https://earthengine.google.org/timelapse/data/20130507/1068x600/11/2736/936.mp4"
       ]
      },
      {
       "output_type": "stream",
       "stream": "stdout",
       "text": [
        "\n",
        "  Mirrored 1289914 bytes to 1068x600/11/2736/940.mp4 from https://earthengine.google.org/timelapse/data/20130507/1068x600/11/2736/940.mp4"
       ]
      },
      {
       "output_type": "stream",
       "stream": "stdout",
       "text": [
        "\n",
        "  Mirrored 1219642 bytes to 1068x600/11/2736/944.mp4 from https://earthengine.google.org/timelapse/data/20130507/1068x600/11/2736/944.mp4"
       ]
      },
      {
       "output_type": "stream",
       "stream": "stdout",
       "text": [
        "\n",
        "  Mirrored 1101038 bytes to 1068x600/11/2736/948.mp4 from https://earthengine.google.org/timelapse/data/20130507/1068x600/11/2736/948.mp4"
       ]
      },
      {
       "output_type": "stream",
       "stream": "stdout",
       "text": [
        "\n",
        "  Mirrored 1319184 bytes to 1068x600/11/2736/952.mp4 from https://earthengine.google.org/timelapse/data/20130507/1068x600/11/2736/952.mp4"
       ]
      },
      {
       "output_type": "stream",
       "stream": "stdout",
       "text": [
        "\n",
        "  Mirrored 1170985 bytes to 1068x600/11/2736/956.mp4 from https://earthengine.google.org/timelapse/data/20130507/1068x600/11/2736/956.mp4"
       ]
      },
      {
       "output_type": "stream",
       "stream": "stdout",
       "text": [
        "\n",
        "  Mirrored 1083807 bytes to 1068x600/11/2736/960.mp4 from https://earthengine.google.org/timelapse/data/20130507/1068x600/11/2736/960.mp4"
       ]
      },
      {
       "output_type": "stream",
       "stream": "stdout",
       "text": [
        "\n",
        "  1068x600/11/2740/832.mp4 already exists, skipping\n",
        "  1068x600/11/2740/836.mp4 already exists, skipping\n",
        "  1068x600/11/2740/840.mp4 already exists, skipping\n",
        "  1068x600/11/2740/844.mp4 already exists, skipping\n",
        "  1068x600/11/2740/848.mp4 already exists, skipping\n",
        "  1068x600/11/2740/852.mp4 already exists, skipping\n",
        "  1068x600/11/2740/856.mp4 already exists, skipping\n",
        "  1068x600/11/2740/860.mp4 already exists, skipping\n",
        "  1068x600/11/2740/864.mp4 already exists, skipping\n",
        "  1068x600/11/2740/868.mp4 already exists, skipping\n",
        "  1068x600/11/2740/872.mp4 already exists, skipping\n",
        "  1068x600/11/2740/876.mp4 already exists, skipping\n",
        "  1068x600/11/2740/880.mp4 already exists, skipping\n",
        "  1068x600/11/2740/884.mp4 already exists, skipping\n",
        "  1068x600/11/2740/888.mp4 already exists, skipping\n",
        "  1068x600/11/2740/892.mp4 already exists, skipping\n",
        "  1068x600/11/2740/896.mp4 already exists, skipping\n",
        "  1068x600/11/2740/900.mp4 already exists, skipping\n",
        "  Mirrored 1137150 bytes to 1068x600/11/2740/904.mp4 from https://earthengine.google.org/timelapse/data/20130507/1068x600/11/2740/904.mp4"
       ]
      },
      {
       "output_type": "stream",
       "stream": "stdout",
       "text": [
        "\n",
        "  Mirrored 1201969 bytes to 1068x600/11/2740/908.mp4 from https://earthengine.google.org/timelapse/data/20130507/1068x600/11/2740/908.mp4"
       ]
      },
      {
       "output_type": "stream",
       "stream": "stdout",
       "text": [
        "\n",
        "  Mirrored 1577355 bytes to 1068x600/11/2740/912.mp4 from https://earthengine.google.org/timelapse/data/20130507/1068x600/11/2740/912.mp4"
       ]
      },
      {
       "output_type": "stream",
       "stream": "stdout",
       "text": [
        "\n",
        "  Mirrored 1287874 bytes to 1068x600/11/2740/916.mp4 from https://earthengine.google.org/timelapse/data/20130507/1068x600/11/2740/916.mp4"
       ]
      },
      {
       "output_type": "stream",
       "stream": "stdout",
       "text": [
        "\n",
        "  Mirrored 1338451 bytes to 1068x600/11/2740/920.mp4 from https://earthengine.google.org/timelapse/data/20130507/1068x600/11/2740/920.mp4"
       ]
      },
      {
       "output_type": "stream",
       "stream": "stdout",
       "text": [
        "\n",
        "  Mirrored 1294410 bytes to 1068x600/11/2740/924.mp4 from https://earthengine.google.org/timelapse/data/20130507/1068x600/11/2740/924.mp4"
       ]
      },
      {
       "output_type": "stream",
       "stream": "stdout",
       "text": [
        "\n",
        "  Mirrored 1147900 bytes to 1068x600/11/2740/928.mp4 from https://earthengine.google.org/timelapse/data/20130507/1068x600/11/2740/928.mp4"
       ]
      },
      {
       "output_type": "stream",
       "stream": "stdout",
       "text": [
        "\n",
        "  Mirrored 1288805 bytes to 1068x600/11/2740/932.mp4 from https://earthengine.google.org/timelapse/data/20130507/1068x600/11/2740/932.mp4"
       ]
      },
      {
       "output_type": "stream",
       "stream": "stdout",
       "text": [
        "\n",
        "  Mirrored 1244417 bytes to 1068x600/11/2740/936.mp4 from https://earthengine.google.org/timelapse/data/20130507/1068x600/11/2740/936.mp4"
       ]
      },
      {
       "output_type": "stream",
       "stream": "stdout",
       "text": [
        "\n",
        "  Mirrored 1282223 bytes to 1068x600/11/2740/940.mp4 from https://earthengine.google.org/timelapse/data/20130507/1068x600/11/2740/940.mp4"
       ]
      },
      {
       "output_type": "stream",
       "stream": "stdout",
       "text": [
        "\n",
        "  Mirrored 1212245 bytes to 1068x600/11/2740/944.mp4 from https://earthengine.google.org/timelapse/data/20130507/1068x600/11/2740/944.mp4"
       ]
      },
      {
       "output_type": "stream",
       "stream": "stdout",
       "text": [
        "\n",
        "  Mirrored 1083029 bytes to 1068x600/11/2740/948.mp4 from https://earthengine.google.org/timelapse/data/20130507/1068x600/11/2740/948.mp4"
       ]
      },
      {
       "output_type": "stream",
       "stream": "stdout",
       "text": [
        "\n",
        "  Mirrored 1184912 bytes to 1068x600/11/2740/952.mp4 from https://earthengine.google.org/timelapse/data/20130507/1068x600/11/2740/952.mp4"
       ]
      },
      {
       "output_type": "stream",
       "stream": "stdout",
       "text": [
        "\n",
        "  Mirrored 1293651 bytes to 1068x600/11/2740/956.mp4 from https://earthengine.google.org/timelapse/data/20130507/1068x600/11/2740/956.mp4"
       ]
      },
      {
       "output_type": "stream",
       "stream": "stdout",
       "text": [
        "\n",
        "  Mirrored 1310315 bytes to 1068x600/11/2740/960.mp4 from https://earthengine.google.org/timelapse/data/20130507/1068x600/11/2740/960.mp4"
       ]
      },
      {
       "output_type": "stream",
       "stream": "stdout",
       "text": [
        "\n",
        "  1068x600/11/2744/832.mp4 already exists, skipping\n",
        "  1068x600/11/2744/836.mp4 already exists, skipping\n",
        "  1068x600/11/2744/840.mp4 already exists, skipping\n",
        "  1068x600/11/2744/844.mp4 already exists, skipping\n",
        "  1068x600/11/2744/848.mp4 already exists, skipping\n",
        "  1068x600/11/2744/852.mp4 already exists, skipping\n",
        "  1068x600/11/2744/856.mp4 already exists, skipping\n",
        "  1068x600/11/2744/860.mp4 already exists, skipping\n",
        "  1068x600/11/2744/864.mp4 already exists, skipping\n",
        "  1068x600/11/2744/868.mp4 already exists, skipping\n",
        "  1068x600/11/2744/872.mp4 already exists, skipping\n",
        "  1068x600/11/2744/876.mp4 already exists, skipping\n",
        "  1068x600/11/2744/880.mp4 already exists, skipping\n",
        "  1068x600/11/2744/884.mp4 already exists, skipping\n",
        "  1068x600/11/2744/888.mp4 already exists, skipping\n",
        "  1068x600/11/2744/892.mp4 already exists, skipping\n",
        "  1068x600/11/2744/896.mp4 already exists, skipping\n",
        "  1068x600/11/2744/900.mp4 already exists, skipping\n",
        "  Mirrored 1216481 bytes to 1068x600/11/2744/904.mp4 from https://earthengine.google.org/timelapse/data/20130507/1068x600/11/2744/904.mp4"
       ]
      },
      {
       "output_type": "stream",
       "stream": "stdout",
       "text": [
        "\n",
        "  Mirrored 1423815 bytes to 1068x600/11/2744/908.mp4 from https://earthengine.google.org/timelapse/data/20130507/1068x600/11/2744/908.mp4"
       ]
      },
      {
       "output_type": "stream",
       "stream": "stdout",
       "text": [
        "\n",
        "  Mirrored 1547095 bytes to 1068x600/11/2744/912.mp4 from https://earthengine.google.org/timelapse/data/20130507/1068x600/11/2744/912.mp4"
       ]
      },
      {
       "output_type": "stream",
       "stream": "stdout",
       "text": [
        "\n",
        "  Mirrored 1334107 bytes to 1068x600/11/2744/916.mp4 from https://earthengine.google.org/timelapse/data/20130507/1068x600/11/2744/916.mp4"
       ]
      },
      {
       "output_type": "stream",
       "stream": "stdout",
       "text": [
        "\n",
        "  Mirrored 1025106 bytes to 1068x600/11/2744/920.mp4 from https://earthengine.google.org/timelapse/data/20130507/1068x600/11/2744/920.mp4"
       ]
      },
      {
       "output_type": "stream",
       "stream": "stdout",
       "text": [
        "\n",
        "  Mirrored 1561308 bytes to 1068x600/11/2744/924.mp4 from https://earthengine.google.org/timelapse/data/20130507/1068x600/11/2744/924.mp4"
       ]
      },
      {
       "output_type": "stream",
       "stream": "stdout",
       "text": [
        "\n",
        "  Mirrored 1184717 bytes to 1068x600/11/2744/928.mp4 from https://earthengine.google.org/timelapse/data/20130507/1068x600/11/2744/928.mp4"
       ]
      },
      {
       "output_type": "stream",
       "stream": "stdout",
       "text": [
        "\n",
        "  Mirrored 1185750 bytes to 1068x600/11/2744/932.mp4 from https://earthengine.google.org/timelapse/data/20130507/1068x600/11/2744/932.mp4"
       ]
      },
      {
       "output_type": "stream",
       "stream": "stdout",
       "text": [
        "\n",
        "  Mirrored 1220675 bytes to 1068x600/11/2744/936.mp4 from https://earthengine.google.org/timelapse/data/20130507/1068x600/11/2744/936.mp4"
       ]
      },
      {
       "output_type": "stream",
       "stream": "stdout",
       "text": [
        "\n",
        "  Mirrored 1173352 bytes to 1068x600/11/2744/940.mp4 from https://earthengine.google.org/timelapse/data/20130507/1068x600/11/2744/940.mp4"
       ]
      },
      {
       "output_type": "stream",
       "stream": "stdout",
       "text": [
        "\n",
        "  Mirrored 1341447 bytes to 1068x600/11/2744/944.mp4 from https://earthengine.google.org/timelapse/data/20130507/1068x600/11/2744/944.mp4"
       ]
      },
      {
       "output_type": "stream",
       "stream": "stdout",
       "text": [
        "\n",
        "  Mirrored 1284130 bytes to 1068x600/11/2744/948.mp4 from https://earthengine.google.org/timelapse/data/20130507/1068x600/11/2744/948.mp4"
       ]
      },
      {
       "output_type": "stream",
       "stream": "stdout",
       "text": [
        "\n",
        "  Mirrored 1173641 bytes to 1068x600/11/2744/952.mp4 from https://earthengine.google.org/timelapse/data/20130507/1068x600/11/2744/952.mp4"
       ]
      },
      {
       "output_type": "stream",
       "stream": "stdout",
       "text": [
        "\n",
        "  Mirrored 927747 bytes to 1068x600/11/2744/956.mp4 from https://earthengine.google.org/timelapse/data/20130507/1068x600/11/2744/956.mp4"
       ]
      },
      {
       "output_type": "stream",
       "stream": "stdout",
       "text": [
        "\n",
        "  Mirrored 1507210 bytes to 1068x600/11/2744/960.mp4 from https://earthengine.google.org/timelapse/data/20130507/1068x600/11/2744/960.mp4"
       ]
      },
      {
       "output_type": "stream",
       "stream": "stdout",
       "text": [
        "\n",
        "  1068x600/11/2748/832.mp4 already exists, skipping\n",
        "  1068x600/11/2748/836.mp4 already exists, skipping\n",
        "  1068x600/11/2748/840.mp4 already exists, skipping\n",
        "  1068x600/11/2748/844.mp4 already exists, skipping\n",
        "  1068x600/11/2748/848.mp4 already exists, skipping\n",
        "  1068x600/11/2748/852.mp4 already exists, skipping\n",
        "  1068x600/11/2748/856.mp4 already exists, skipping\n",
        "  1068x600/11/2748/860.mp4 already exists, skipping\n",
        "  1068x600/11/2748/864.mp4 already exists, skipping\n",
        "  1068x600/11/2748/868.mp4 already exists, skipping\n",
        "  1068x600/11/2748/872.mp4 already exists, skipping\n",
        "  1068x600/11/2748/876.mp4 already exists, skipping\n",
        "  1068x600/11/2748/880.mp4 already exists, skipping\n",
        "  1068x600/11/2748/884.mp4 already exists, skipping\n",
        "  1068x600/11/2748/888.mp4 already exists, skipping\n",
        "  1068x600/11/2748/892.mp4 already exists, skipping\n",
        "  1068x600/11/2748/896.mp4 already exists, skipping\n",
        "  1068x600/11/2748/900.mp4 already exists, skipping\n",
        "  Mirrored 1432631 bytes to 1068x600/11/2748/904.mp4 from https://earthengine.google.org/timelapse/data/20130507/1068x600/11/2748/904.mp4"
       ]
      },
      {
       "output_type": "stream",
       "stream": "stdout",
       "text": [
        "\n",
        "  Mirrored 1504209 bytes to 1068x600/11/2748/908.mp4 from https://earthengine.google.org/timelapse/data/20130507/1068x600/11/2748/908.mp4"
       ]
      },
      {
       "output_type": "stream",
       "stream": "stdout",
       "text": [
        "\n",
        "  Mirrored 1631625 bytes to 1068x600/11/2748/912.mp4 from https://earthengine.google.org/timelapse/data/20130507/1068x600/11/2748/912.mp4"
       ]
      },
      {
       "output_type": "stream",
       "stream": "stdout",
       "text": [
        "\n",
        "  Mirrored 1487790 bytes to 1068x600/11/2748/916.mp4 from https://earthengine.google.org/timelapse/data/20130507/1068x600/11/2748/916.mp4"
       ]
      },
      {
       "output_type": "stream",
       "stream": "stdout",
       "text": [
        "\n",
        "  Mirrored 781870 bytes to 1068x600/11/2748/920.mp4 from https://earthengine.google.org/timelapse/data/20130507/1068x600/11/2748/920.mp4"
       ]
      },
      {
       "output_type": "stream",
       "stream": "stdout",
       "text": [
        "\n",
        "  Mirrored 1289896 bytes to 1068x600/11/2748/924.mp4 from https://earthengine.google.org/timelapse/data/20130507/1068x600/11/2748/924.mp4"
       ]
      },
      {
       "output_type": "stream",
       "stream": "stdout",
       "text": [
        "\n",
        "  Mirrored 997499 bytes to 1068x600/11/2748/928.mp4 from https://earthengine.google.org/timelapse/data/20130507/1068x600/11/2748/928.mp4"
       ]
      },
      {
       "output_type": "stream",
       "stream": "stdout",
       "text": [
        "\n",
        "  Mirrored 632664 bytes to 1068x600/11/2748/932.mp4 from https://earthengine.google.org/timelapse/data/20130507/1068x600/11/2748/932.mp4"
       ]
      },
      {
       "output_type": "stream",
       "stream": "stdout",
       "text": [
        "\n",
        "  Mirrored 675876 bytes to 1068x600/11/2748/936.mp4 from https://earthengine.google.org/timelapse/data/20130507/1068x600/11/2748/936.mp4"
       ]
      },
      {
       "output_type": "stream",
       "stream": "stdout",
       "text": [
        "\n",
        "  Mirrored 1162713 bytes to 1068x600/11/2748/940.mp4 from https://earthengine.google.org/timelapse/data/20130507/1068x600/11/2748/940.mp4"
       ]
      },
      {
       "output_type": "stream",
       "stream": "stdout",
       "text": [
        "\n",
        "  Mirrored 633198 bytes to 1068x600/11/2748/944.mp4 from https://earthengine.google.org/timelapse/data/20130507/1068x600/11/2748/944.mp4"
       ]
      },
      {
       "output_type": "stream",
       "stream": "stdout",
       "text": [
        "\n",
        "  Mirrored 428844 bytes to 1068x600/11/2748/948.mp4 from https://earthengine.google.org/timelapse/data/20130507/1068x600/11/2748/948.mp4"
       ]
      },
      {
       "output_type": "stream",
       "stream": "stdout",
       "text": [
        "\n",
        "  Mirrored 572900 bytes to 1068x600/11/2748/952.mp4 from https://earthengine.google.org/timelapse/data/20130507/1068x600/11/2748/952.mp4"
       ]
      },
      {
       "output_type": "stream",
       "stream": "stdout",
       "text": [
        "\n",
        "  Mirrored 572602 bytes to 1068x600/11/2748/956.mp4 from https://earthengine.google.org/timelapse/data/20130507/1068x600/11/2748/956.mp4"
       ]
      },
      {
       "output_type": "stream",
       "stream": "stdout",
       "text": [
        "\n",
        "  Mirrored 824901 bytes to 1068x600/11/2748/960.mp4 from https://earthengine.google.org/timelapse/data/20130507/1068x600/11/2748/960.mp4"
       ]
      },
      {
       "output_type": "stream",
       "stream": "stdout",
       "text": [
        "\n",
        "  1068x600/11/2752/832.mp4 already exists, skipping\n",
        "  1068x600/11/2752/836.mp4 already exists, skipping\n",
        "  1068x600/11/2752/840.mp4 already exists, skipping\n",
        "  1068x600/11/2752/844.mp4 already exists, skipping\n",
        "  1068x600/11/2752/848.mp4 already exists, skipping\n",
        "  1068x600/11/2752/852.mp4 already exists, skipping\n",
        "  1068x600/11/2752/856.mp4 already exists, skipping\n",
        "  1068x600/11/2752/860.mp4 already exists, skipping\n",
        "  1068x600/11/2752/864.mp4 already exists, skipping\n",
        "  1068x600/11/2752/868.mp4 already exists, skipping\n",
        "  1068x600/11/2752/872.mp4 already exists, skipping\n",
        "  1068x600/11/2752/876.mp4 already exists, skipping\n",
        "  1068x600/11/2752/880.mp4 already exists, skipping\n",
        "  1068x600/11/2752/884.mp4 already exists, skipping\n",
        "  1068x600/11/2752/888.mp4 already exists, skipping\n",
        "  1068x600/11/2752/892.mp4 already exists, skipping\n",
        "  1068x600/11/2752/896.mp4 already exists, skipping\n",
        "  1068x600/11/2752/900.mp4 already exists, skipping\n",
        "  Mirrored 1346190 bytes to 1068x600/11/2752/904.mp4 from https://earthengine.google.org/timelapse/data/20130507/1068x600/11/2752/904.mp4"
       ]
      },
      {
       "output_type": "stream",
       "stream": "stdout",
       "text": [
        "\n",
        "  Mirrored 1484178 bytes to 1068x600/11/2752/908.mp4 from https://earthengine.google.org/timelapse/data/20130507/1068x600/11/2752/908.mp4"
       ]
      },
      {
       "output_type": "stream",
       "stream": "stdout",
       "text": [
        "\n",
        "  Mirrored 1656171 bytes to 1068x600/11/2752/912.mp4 from https://earthengine.google.org/timelapse/data/20130507/1068x600/11/2752/912.mp4"
       ]
      },
      {
       "output_type": "stream",
       "stream": "stdout",
       "text": [
        "\n",
        "  Mirrored 1752326 bytes to 1068x600/11/2752/916.mp4 from https://earthengine.google.org/timelapse/data/20130507/1068x600/11/2752/916.mp4"
       ]
      },
      {
       "output_type": "stream",
       "stream": "stdout",
       "text": [
        "\n",
        "  Mirrored 939120 bytes to 1068x600/11/2752/920.mp4 from https://earthengine.google.org/timelapse/data/20130507/1068x600/11/2752/920.mp4"
       ]
      },
      {
       "output_type": "stream",
       "stream": "stdout",
       "text": [
        "\n",
        "  Mirrored 1241559 bytes to 1068x600/11/2752/924.mp4 from https://earthengine.google.org/timelapse/data/20130507/1068x600/11/2752/924.mp4"
       ]
      },
      {
       "output_type": "stream",
       "stream": "stdout",
       "text": [
        "\n",
        "  Mirrored 1200275 bytes to 1068x600/11/2752/928.mp4 from https://earthengine.google.org/timelapse/data/20130507/1068x600/11/2752/928.mp4"
       ]
      },
      {
       "output_type": "stream",
       "stream": "stdout",
       "text": [
        "\n",
        "  Mirrored 994153 bytes to 1068x600/11/2752/932.mp4 from https://earthengine.google.org/timelapse/data/20130507/1068x600/11/2752/932.mp4"
       ]
      },
      {
       "output_type": "stream",
       "stream": "stdout",
       "text": [
        "\n",
        "  Mirrored 957138 bytes to 1068x600/11/2752/936.mp4 from https://earthengine.google.org/timelapse/data/20130507/1068x600/11/2752/936.mp4"
       ]
      },
      {
       "output_type": "stream",
       "stream": "stdout",
       "text": [
        "\n",
        "  Mirrored 637087 bytes to 1068x600/11/2752/940.mp4 from https://earthengine.google.org/timelapse/data/20130507/1068x600/11/2752/940.mp4"
       ]
      },
      {
       "output_type": "stream",
       "stream": "stdout",
       "text": [
        "\n",
        "  Mirrored 402338 bytes to 1068x600/11/2752/944.mp4 from https://earthengine.google.org/timelapse/data/20130507/1068x600/11/2752/944.mp4"
       ]
      },
      {
       "output_type": "stream",
       "stream": "stdout",
       "text": [
        "\n",
        "  Mirrored 319380 bytes to 1068x600/11/2752/948.mp4 from https://earthengine.google.org/timelapse/data/20130507/1068x600/11/2752/948.mp4"
       ]
      },
      {
       "output_type": "stream",
       "stream": "stdout",
       "text": [
        "\n",
        "  Mirrored 254579 bytes to 1068x600/11/2752/952.mp4 from https://earthengine.google.org/timelapse/data/20130507/1068x600/11/2752/952.mp4"
       ]
      },
      {
       "output_type": "stream",
       "stream": "stdout",
       "text": [
        "\n",
        "  Mirrored 284686 bytes to 1068x600/11/2752/956.mp4 from https://earthengine.google.org/timelapse/data/20130507/1068x600/11/2752/956.mp4"
       ]
      },
      {
       "output_type": "stream",
       "stream": "stdout",
       "text": [
        "\n",
        "  Mirrored 188645 bytes to 1068x600/11/2752/960.mp4 from https://earthengine.google.org/timelapse/data/20130507/1068x600/11/2752/960.mp4"
       ]
      },
      {
       "output_type": "stream",
       "stream": "stdout",
       "text": [
        "\n",
        "  Mirrored 1408993 bytes to 1068x600/11/2756/832.mp4 from https://earthengine.google.org/timelapse/data/20130507/1068x600/11/2756/832.mp4"
       ]
      },
      {
       "output_type": "stream",
       "stream": "stdout",
       "text": [
        "\n",
        "  Mirrored 1182454 bytes to 1068x600/11/2756/836.mp4 from https://earthengine.google.org/timelapse/data/20130507/1068x600/11/2756/836.mp4"
       ]
      },
      {
       "output_type": "stream",
       "stream": "stdout",
       "text": [
        "\n",
        "  Mirrored 1535999 bytes to 1068x600/11/2756/840.mp4 from https://earthengine.google.org/timelapse/data/20130507/1068x600/11/2756/840.mp4"
       ]
      },
      {
       "output_type": "stream",
       "stream": "stdout",
       "text": [
        "\n",
        "  Mirrored 1576747 bytes to 1068x600/11/2756/844.mp4 from https://earthengine.google.org/timelapse/data/20130507/1068x600/11/2756/844.mp4"
       ]
      },
      {
       "output_type": "stream",
       "stream": "stdout",
       "text": [
        "\n",
        "  Mirrored 1609291 bytes to 1068x600/11/2756/848.mp4 from https://earthengine.google.org/timelapse/data/20130507/1068x600/11/2756/848.mp4"
       ]
      },
      {
       "output_type": "stream",
       "stream": "stdout",
       "text": [
        "\n",
        "  Mirrored 1533015 bytes to 1068x600/11/2756/852.mp4 from https://earthengine.google.org/timelapse/data/20130507/1068x600/11/2756/852.mp4"
       ]
      },
      {
       "output_type": "stream",
       "stream": "stdout",
       "text": [
        "\n",
        "  Mirrored 1526101 bytes to 1068x600/11/2756/856.mp4 from https://earthengine.google.org/timelapse/data/20130507/1068x600/11/2756/856.mp4"
       ]
      },
      {
       "output_type": "stream",
       "stream": "stdout",
       "text": [
        "\n",
        "  Mirrored 1324984 bytes to 1068x600/11/2756/860.mp4 from https://earthengine.google.org/timelapse/data/20130507/1068x600/11/2756/860.mp4"
       ]
      },
      {
       "output_type": "stream",
       "stream": "stdout",
       "text": [
        "\n",
        "  Mirrored 1506817 bytes to 1068x600/11/2756/864.mp4 from https://earthengine.google.org/timelapse/data/20130507/1068x600/11/2756/864.mp4"
       ]
      },
      {
       "output_type": "stream",
       "stream": "stdout",
       "text": [
        "\n",
        "  Mirrored 1370909 bytes to 1068x600/11/2756/868.mp4 from https://earthengine.google.org/timelapse/data/20130507/1068x600/11/2756/868.mp4"
       ]
      },
      {
       "output_type": "stream",
       "stream": "stdout",
       "text": [
        "\n",
        "  Mirrored 1379101 bytes to 1068x600/11/2756/872.mp4 from https://earthengine.google.org/timelapse/data/20130507/1068x600/11/2756/872.mp4"
       ]
      },
      {
       "output_type": "stream",
       "stream": "stdout",
       "text": [
        "\n",
        "  Mirrored 1605759 bytes to 1068x600/11/2756/876.mp4 from https://earthengine.google.org/timelapse/data/20130507/1068x600/11/2756/876.mp4"
       ]
      },
      {
       "output_type": "stream",
       "stream": "stdout",
       "text": [
        "\n",
        "  Mirrored 1968842 bytes to 1068x600/11/2756/880.mp4 from https://earthengine.google.org/timelapse/data/20130507/1068x600/11/2756/880.mp4"
       ]
      },
      {
       "output_type": "stream",
       "stream": "stdout",
       "text": [
        "\n",
        "  Mirrored 1367381 bytes to 1068x600/11/2756/884.mp4 from https://earthengine.google.org/timelapse/data/20130507/1068x600/11/2756/884.mp4"
       ]
      },
      {
       "output_type": "stream",
       "stream": "stdout",
       "text": [
        "\n",
        "  Mirrored 1195086 bytes to 1068x600/11/2756/888.mp4 from https://earthengine.google.org/timelapse/data/20130507/1068x600/11/2756/888.mp4"
       ]
      },
      {
       "output_type": "stream",
       "stream": "stdout",
       "text": [
        "\n",
        "  Mirrored 1284316 bytes to 1068x600/11/2756/892.mp4 from https://earthengine.google.org/timelapse/data/20130507/1068x600/11/2756/892.mp4"
       ]
      },
      {
       "output_type": "stream",
       "stream": "stdout",
       "text": [
        "\n",
        "  Mirrored 1288047 bytes to 1068x600/11/2756/896.mp4 from https://earthengine.google.org/timelapse/data/20130507/1068x600/11/2756/896.mp4"
       ]
      },
      {
       "output_type": "stream",
       "stream": "stdout",
       "text": [
        "\n",
        "  Mirrored 1240851 bytes to 1068x600/11/2756/900.mp4 from https://earthengine.google.org/timelapse/data/20130507/1068x600/11/2756/900.mp4"
       ]
      },
      {
       "output_type": "stream",
       "stream": "stdout",
       "text": [
        "\n",
        "  Mirrored 1328872 bytes to 1068x600/11/2756/904.mp4 from https://earthengine.google.org/timelapse/data/20130507/1068x600/11/2756/904.mp4"
       ]
      },
      {
       "output_type": "stream",
       "stream": "stdout",
       "text": [
        "\n",
        "  Mirrored 1134648 bytes to 1068x600/11/2756/908.mp4 from https://earthengine.google.org/timelapse/data/20130507/1068x600/11/2756/908.mp4"
       ]
      },
      {
       "output_type": "stream",
       "stream": "stdout",
       "text": [
        "\n",
        "  Mirrored 1415597 bytes to 1068x600/11/2756/912.mp4 from https://earthengine.google.org/timelapse/data/20130507/1068x600/11/2756/912.mp4"
       ]
      },
      {
       "output_type": "stream",
       "stream": "stdout",
       "text": [
        "\n",
        "  Mirrored 1452974 bytes to 1068x600/11/2756/916.mp4 from https://earthengine.google.org/timelapse/data/20130507/1068x600/11/2756/916.mp4"
       ]
      },
      {
       "output_type": "stream",
       "stream": "stdout",
       "text": [
        "\n",
        "  Mirrored 1259646 bytes to 1068x600/11/2756/920.mp4 from https://earthengine.google.org/timelapse/data/20130507/1068x600/11/2756/920.mp4"
       ]
      },
      {
       "output_type": "stream",
       "stream": "stdout",
       "text": [
        "\n",
        "  Mirrored 1003223 bytes to 1068x600/11/2756/924.mp4 from https://earthengine.google.org/timelapse/data/20130507/1068x600/11/2756/924.mp4"
       ]
      },
      {
       "output_type": "stream",
       "stream": "stdout",
       "text": [
        "\n",
        "  Mirrored 1039977 bytes to 1068x600/11/2756/928.mp4 from https://earthengine.google.org/timelapse/data/20130507/1068x600/11/2756/928.mp4"
       ]
      },
      {
       "output_type": "stream",
       "stream": "stdout",
       "text": [
        "\n",
        "  Mirrored 1131916 bytes to 1068x600/11/2756/932.mp4 from https://earthengine.google.org/timelapse/data/20130507/1068x600/11/2756/932.mp4"
       ]
      },
      {
       "output_type": "stream",
       "stream": "stdout",
       "text": [
        "\n",
        "  Mirrored 1502223 bytes to 1068x600/11/2756/936.mp4 from https://earthengine.google.org/timelapse/data/20130507/1068x600/11/2756/936.mp4"
       ]
      },
      {
       "output_type": "stream",
       "stream": "stdout",
       "text": [
        "\n",
        "  Mirrored 881949 bytes to 1068x600/11/2756/940.mp4 from https://earthengine.google.org/timelapse/data/20130507/1068x600/11/2756/940.mp4"
       ]
      },
      {
       "output_type": "stream",
       "stream": "stdout",
       "text": [
        "\n",
        "  Mirrored 504959 bytes to 1068x600/11/2756/944.mp4 from https://earthengine.google.org/timelapse/data/20130507/1068x600/11/2756/944.mp4"
       ]
      },
      {
       "output_type": "stream",
       "stream": "stdout",
       "text": [
        "\n",
        "  Mirrored 464455 bytes to 1068x600/11/2756/948.mp4 from https://earthengine.google.org/timelapse/data/20130507/1068x600/11/2756/948.mp4"
       ]
      },
      {
       "output_type": "stream",
       "stream": "stdout",
       "text": [
        "\n",
        "  Mirrored 241272 bytes to 1068x600/11/2756/952.mp4 from https://earthengine.google.org/timelapse/data/20130507/1068x600/11/2756/952.mp4"
       ]
      },
      {
       "output_type": "stream",
       "stream": "stdout",
       "text": [
        "\n",
        "  Mirrored 245253 bytes to 1068x600/11/2756/956.mp4 from https://earthengine.google.org/timelapse/data/20130507/1068x600/11/2756/956.mp4"
       ]
      },
      {
       "output_type": "stream",
       "stream": "stdout",
       "text": [
        "\n",
        "  Mirrored 152162 bytes to 1068x600/11/2756/960.mp4 from https://earthengine.google.org/timelapse/data/20130507/1068x600/11/2756/960.mp4"
       ]
      },
      {
       "output_type": "stream",
       "stream": "stdout",
       "text": [
        "\n",
        "  Mirrored 1457427 bytes to 1068x600/11/2760/832.mp4 from https://earthengine.google.org/timelapse/data/20130507/1068x600/11/2760/832.mp4"
       ]
      },
      {
       "output_type": "stream",
       "stream": "stdout",
       "text": [
        "\n",
        "  Mirrored 1410836 bytes to 1068x600/11/2760/836.mp4 from https://earthengine.google.org/timelapse/data/20130507/1068x600/11/2760/836.mp4"
       ]
      },
      {
       "output_type": "stream",
       "stream": "stdout",
       "text": [
        "\n",
        "  Mirrored 1559047 bytes to 1068x600/11/2760/840.mp4 from https://earthengine.google.org/timelapse/data/20130507/1068x600/11/2760/840.mp4"
       ]
      },
      {
       "output_type": "stream",
       "stream": "stdout",
       "text": [
        "\n",
        "  Mirrored 1694376 bytes to 1068x600/11/2760/844.mp4 from https://earthengine.google.org/timelapse/data/20130507/1068x600/11/2760/844.mp4"
       ]
      },
      {
       "output_type": "stream",
       "stream": "stdout",
       "text": [
        "\n",
        "  Mirrored 1671717 bytes to 1068x600/11/2760/848.mp4 from https://earthengine.google.org/timelapse/data/20130507/1068x600/11/2760/848.mp4"
       ]
      },
      {
       "output_type": "stream",
       "stream": "stdout",
       "text": [
        "\n",
        "  Mirrored 1584271 bytes to 1068x600/11/2760/852.mp4 from https://earthengine.google.org/timelapse/data/20130507/1068x600/11/2760/852.mp4"
       ]
      },
      {
       "output_type": "stream",
       "stream": "stdout",
       "text": [
        "\n",
        "  Mirrored 1438978 bytes to 1068x600/11/2760/856.mp4 from https://earthengine.google.org/timelapse/data/20130507/1068x600/11/2760/856.mp4"
       ]
      },
      {
       "output_type": "stream",
       "stream": "stdout",
       "text": [
        "\n",
        "  Mirrored 1330844 bytes to 1068x600/11/2760/860.mp4 from https://earthengine.google.org/timelapse/data/20130507/1068x600/11/2760/860.mp4"
       ]
      },
      {
       "output_type": "stream",
       "stream": "stdout",
       "text": [
        "\n",
        "  Mirrored 1390211 bytes to 1068x600/11/2760/864.mp4 from https://earthengine.google.org/timelapse/data/20130507/1068x600/11/2760/864.mp4"
       ]
      },
      {
       "output_type": "stream",
       "stream": "stdout",
       "text": [
        "\n",
        "  Mirrored 1359994 bytes to 1068x600/11/2760/868.mp4 from https://earthengine.google.org/timelapse/data/20130507/1068x600/11/2760/868.mp4"
       ]
      },
      {
       "output_type": "stream",
       "stream": "stdout",
       "text": [
        "\n",
        "  Mirrored 1461482 bytes to 1068x600/11/2760/872.mp4 from https://earthengine.google.org/timelapse/data/20130507/1068x600/11/2760/872.mp4"
       ]
      },
      {
       "output_type": "stream",
       "stream": "stdout",
       "text": [
        "\n",
        "  Mirrored 1664077 bytes to 1068x600/11/2760/876.mp4 from https://earthengine.google.org/timelapse/data/20130507/1068x600/11/2760/876.mp4"
       ]
      },
      {
       "output_type": "stream",
       "stream": "stdout",
       "text": [
        "\n",
        "  Mirrored 2195431 bytes to 1068x600/11/2760/880.mp4 from https://earthengine.google.org/timelapse/data/20130507/1068x600/11/2760/880.mp4"
       ]
      },
      {
       "output_type": "stream",
       "stream": "stdout",
       "text": [
        "\n",
        "  Mirrored 1526295 bytes to 1068x600/11/2760/884.mp4 from https://earthengine.google.org/timelapse/data/20130507/1068x600/11/2760/884.mp4"
       ]
      },
      {
       "output_type": "stream",
       "stream": "stdout",
       "text": [
        "\n",
        "  Mirrored 1100728 bytes to 1068x600/11/2760/888.mp4 from https://earthengine.google.org/timelapse/data/20130507/1068x600/11/2760/888.mp4"
       ]
      },
      {
       "output_type": "stream",
       "stream": "stdout",
       "text": [
        "\n",
        "  Mirrored 1197643 bytes to 1068x600/11/2760/892.mp4 from https://earthengine.google.org/timelapse/data/20130507/1068x600/11/2760/892.mp4"
       ]
      },
      {
       "output_type": "stream",
       "stream": "stdout",
       "text": [
        "\n",
        "  Mirrored 899315 bytes to 1068x600/11/2760/896.mp4 from https://earthengine.google.org/timelapse/data/20130507/1068x600/11/2760/896.mp4"
       ]
      },
      {
       "output_type": "stream",
       "stream": "stdout",
       "text": [
        "\n",
        "  Mirrored 635276 bytes to 1068x600/11/2760/900.mp4 from https://earthengine.google.org/timelapse/data/20130507/1068x600/11/2760/900.mp4"
       ]
      },
      {
       "output_type": "stream",
       "stream": "stdout",
       "text": [
        "\n",
        "  Mirrored 739776 bytes to 1068x600/11/2760/904.mp4 from https://earthengine.google.org/timelapse/data/20130507/1068x600/11/2760/904.mp4"
       ]
      },
      {
       "output_type": "stream",
       "stream": "stdout",
       "text": [
        "\n",
        "  Mirrored 1201351 bytes to 1068x600/11/2760/908.mp4 from https://earthengine.google.org/timelapse/data/20130507/1068x600/11/2760/908.mp4"
       ]
      },
      {
       "output_type": "stream",
       "stream": "stdout",
       "text": [
        "\n",
        "  Mirrored 1223618 bytes to 1068x600/11/2760/912.mp4 from https://earthengine.google.org/timelapse/data/20130507/1068x600/11/2760/912.mp4"
       ]
      },
      {
       "output_type": "stream",
       "stream": "stdout",
       "text": [
        "\n",
        "  Mirrored 683982 bytes to 1068x600/11/2760/916.mp4 from https://earthengine.google.org/timelapse/data/20130507/1068x600/11/2760/916.mp4"
       ]
      },
      {
       "output_type": "stream",
       "stream": "stdout",
       "text": [
        "\n",
        "  Mirrored 1049723 bytes to 1068x600/11/2760/920.mp4 from https://earthengine.google.org/timelapse/data/20130507/1068x600/11/2760/920.mp4"
       ]
      },
      {
       "output_type": "stream",
       "stream": "stdout",
       "text": [
        "\n",
        "  Mirrored 943958 bytes to 1068x600/11/2760/924.mp4 from https://earthengine.google.org/timelapse/data/20130507/1068x600/11/2760/924.mp4"
       ]
      },
      {
       "output_type": "stream",
       "stream": "stdout",
       "text": [
        "\n",
        "  Mirrored 1290590 bytes to 1068x600/11/2760/928.mp4 from https://earthengine.google.org/timelapse/data/20130507/1068x600/11/2760/928.mp4"
       ]
      },
      {
       "output_type": "stream",
       "stream": "stdout",
       "text": [
        "\n",
        "  Mirrored 1141180 bytes to 1068x600/11/2760/932.mp4 from https://earthengine.google.org/timelapse/data/20130507/1068x600/11/2760/932.mp4"
       ]
      },
      {
       "output_type": "stream",
       "stream": "stdout",
       "text": [
        "\n",
        "  Mirrored 1130231 bytes to 1068x600/11/2760/936.mp4 from https://earthengine.google.org/timelapse/data/20130507/1068x600/11/2760/936.mp4"
       ]
      },
      {
       "output_type": "stream",
       "stream": "stdout",
       "text": [
        "\n",
        "  Mirrored 829885 bytes to 1068x600/11/2760/940.mp4 from https://earthengine.google.org/timelapse/data/20130507/1068x600/11/2760/940.mp4"
       ]
      },
      {
       "output_type": "stream",
       "stream": "stdout",
       "text": [
        "\n",
        "  Mirrored 298198 bytes to 1068x600/11/2760/944.mp4 from https://earthengine.google.org/timelapse/data/20130507/1068x600/11/2760/944.mp4"
       ]
      },
      {
       "output_type": "stream",
       "stream": "stdout",
       "text": [
        "\n",
        "  Mirrored 343522 bytes to 1068x600/11/2760/948.mp4 from https://earthengine.google.org/timelapse/data/20130507/1068x600/11/2760/948.mp4"
       ]
      },
      {
       "output_type": "stream",
       "stream": "stdout",
       "text": [
        "\n",
        "  Mirrored 270011 bytes to 1068x600/11/2760/952.mp4 from https://earthengine.google.org/timelapse/data/20130507/1068x600/11/2760/952.mp4"
       ]
      },
      {
       "output_type": "stream",
       "stream": "stdout",
       "text": [
        "\n",
        "  Mirrored 190887 bytes to 1068x600/11/2760/956.mp4 from https://earthengine.google.org/timelapse/data/20130507/1068x600/11/2760/956.mp4"
       ]
      },
      {
       "output_type": "stream",
       "stream": "stdout",
       "text": [
        "\n",
        "  Mirrored 148638 bytes to 1068x600/11/2760/960.mp4 from https://earthengine.google.org/timelapse/data/20130507/1068x600/11/2760/960.mp4"
       ]
      },
      {
       "output_type": "stream",
       "stream": "stdout",
       "text": [
        "\n",
        "  Mirrored 1455260 bytes to 1068x600/11/2764/832.mp4 from https://earthengine.google.org/timelapse/data/20130507/1068x600/11/2764/832.mp4"
       ]
      },
      {
       "output_type": "stream",
       "stream": "stdout",
       "text": [
        "\n",
        "  Mirrored 1321894 bytes to 1068x600/11/2764/836.mp4 from https://earthengine.google.org/timelapse/data/20130507/1068x600/11/2764/836.mp4"
       ]
      },
      {
       "output_type": "stream",
       "stream": "stdout",
       "text": [
        "\n",
        "  Mirrored 1292635 bytes to 1068x600/11/2764/840.mp4 from https://earthengine.google.org/timelapse/data/20130507/1068x600/11/2764/840.mp4"
       ]
      },
      {
       "output_type": "stream",
       "stream": "stdout",
       "text": [
        "\n",
        "  Mirrored 1530146 bytes to 1068x600/11/2764/844.mp4 from https://earthengine.google.org/timelapse/data/20130507/1068x600/11/2764/844.mp4"
       ]
      },
      {
       "output_type": "stream",
       "stream": "stdout",
       "text": [
        "\n",
        "  Mirrored 1988394 bytes to 1068x600/11/2764/848.mp4 from https://earthengine.google.org/timelapse/data/20130507/1068x600/11/2764/848.mp4"
       ]
      },
      {
       "output_type": "stream",
       "stream": "stdout",
       "text": [
        "\n",
        "  Mirrored 1779593 bytes to 1068x600/11/2764/852.mp4 from https://earthengine.google.org/timelapse/data/20130507/1068x600/11/2764/852.mp4"
       ]
      },
      {
       "output_type": "stream",
       "stream": "stdout",
       "text": [
        "\n",
        "  Mirrored 1516629 bytes to 1068x600/11/2764/856.mp4 from https://earthengine.google.org/timelapse/data/20130507/1068x600/11/2764/856.mp4"
       ]
      },
      {
       "output_type": "stream",
       "stream": "stdout",
       "text": [
        "\n",
        "  Mirrored 1436825 bytes to 1068x600/11/2764/860.mp4 from https://earthengine.google.org/timelapse/data/20130507/1068x600/11/2764/860.mp4"
       ]
      },
      {
       "output_type": "stream",
       "stream": "stdout",
       "text": [
        "\n",
        "  Mirrored 1339660 bytes to 1068x600/11/2764/864.mp4 from https://earthengine.google.org/timelapse/data/20130507/1068x600/11/2764/864.mp4"
       ]
      },
      {
       "output_type": "stream",
       "stream": "stdout",
       "text": [
        "\n",
        "  Mirrored 1451884 bytes to 1068x600/11/2764/868.mp4 from https://earthengine.google.org/timelapse/data/20130507/1068x600/11/2764/868.mp4"
       ]
      },
      {
       "output_type": "stream",
       "stream": "stdout",
       "text": [
        "\n",
        "  Mirrored 1591751 bytes to 1068x600/11/2764/872.mp4 from https://earthengine.google.org/timelapse/data/20130507/1068x600/11/2764/872.mp4"
       ]
      },
      {
       "output_type": "stream",
       "stream": "stdout",
       "text": [
        "\n",
        "  Mirrored 1394360 bytes to 1068x600/11/2764/876.mp4 from https://earthengine.google.org/timelapse/data/20130507/1068x600/11/2764/876.mp4"
       ]
      },
      {
       "output_type": "stream",
       "stream": "stdout",
       "text": [
        "\n",
        "  Mirrored 1598936 bytes to 1068x600/11/2764/880.mp4 from https://earthengine.google.org/timelapse/data/20130507/1068x600/11/2764/880.mp4"
       ]
      },
      {
       "output_type": "stream",
       "stream": "stdout",
       "text": [
        "\n",
        "  Mirrored 1226129 bytes to 1068x600/11/2764/884.mp4 from https://earthengine.google.org/timelapse/data/20130507/1068x600/11/2764/884.mp4"
       ]
      },
      {
       "output_type": "stream",
       "stream": "stdout",
       "text": [
        "\n",
        "  Mirrored 962618 bytes to 1068x600/11/2764/888.mp4 from https://earthengine.google.org/timelapse/data/20130507/1068x600/11/2764/888.mp4"
       ]
      },
      {
       "output_type": "stream",
       "stream": "stdout",
       "text": [
        "\n",
        "  Mirrored 548247 bytes to 1068x600/11/2764/892.mp4 from https://earthengine.google.org/timelapse/data/20130507/1068x600/11/2764/892.mp4"
       ]
      },
      {
       "output_type": "stream",
       "stream": "stdout",
       "text": [
        "\n",
        "  Mirrored 449932 bytes to 1068x600/11/2764/896.mp4 from https://earthengine.google.org/timelapse/data/20130507/1068x600/11/2764/896.mp4"
       ]
      },
      {
       "output_type": "stream",
       "stream": "stdout",
       "text": [
        "\n",
        "  Mirrored 370384 bytes to 1068x600/11/2764/900.mp4 from https://earthengine.google.org/timelapse/data/20130507/1068x600/11/2764/900.mp4"
       ]
      },
      {
       "output_type": "stream",
       "stream": "stdout",
       "text": [
        "\n",
        "  Mirrored 320379 bytes to 1068x600/11/2764/904.mp4 from https://earthengine.google.org/timelapse/data/20130507/1068x600/11/2764/904.mp4"
       ]
      },
      {
       "output_type": "stream",
       "stream": "stdout",
       "text": [
        "\n",
        "  Mirrored 428447 bytes to 1068x600/11/2764/908.mp4 from https://earthengine.google.org/timelapse/data/20130507/1068x600/11/2764/908.mp4"
       ]
      },
      {
       "output_type": "stream",
       "stream": "stdout",
       "text": [
        "\n",
        "  Mirrored 792867 bytes to 1068x600/11/2764/912.mp4 from https://earthengine.google.org/timelapse/data/20130507/1068x600/11/2764/912.mp4"
       ]
      },
      {
       "output_type": "stream",
       "stream": "stdout",
       "text": [
        "\n",
        "  Mirrored 820907 bytes to 1068x600/11/2764/916.mp4 from https://earthengine.google.org/timelapse/data/20130507/1068x600/11/2764/916.mp4"
       ]
      },
      {
       "output_type": "stream",
       "stream": "stdout",
       "text": [
        "\n",
        "  Mirrored 636536 bytes to 1068x600/11/2764/920.mp4 from https://earthengine.google.org/timelapse/data/20130507/1068x600/11/2764/920.mp4"
       ]
      },
      {
       "output_type": "stream",
       "stream": "stdout",
       "text": [
        "\n",
        "  Mirrored 1062089 bytes to 1068x600/11/2764/924.mp4 from https://earthengine.google.org/timelapse/data/20130507/1068x600/11/2764/924.mp4"
       ]
      },
      {
       "output_type": "stream",
       "stream": "stdout",
       "text": [
        "\n",
        "  Mirrored 1328607 bytes to 1068x600/11/2764/928.mp4 from https://earthengine.google.org/timelapse/data/20130507/1068x600/11/2764/928.mp4"
       ]
      },
      {
       "output_type": "stream",
       "stream": "stdout",
       "text": [
        "\n",
        "  Mirrored 1200780 bytes to 1068x600/11/2764/932.mp4 from https://earthengine.google.org/timelapse/data/20130507/1068x600/11/2764/932.mp4"
       ]
      },
      {
       "output_type": "stream",
       "stream": "stdout",
       "text": [
        "\n",
        "  Mirrored 943390 bytes to 1068x600/11/2764/936.mp4 from https://earthengine.google.org/timelapse/data/20130507/1068x600/11/2764/936.mp4"
       ]
      },
      {
       "output_type": "stream",
       "stream": "stdout",
       "text": [
        "\n",
        "  Mirrored 741156 bytes to 1068x600/11/2764/940.mp4 from https://earthengine.google.org/timelapse/data/20130507/1068x600/11/2764/940.mp4"
       ]
      },
      {
       "output_type": "stream",
       "stream": "stdout",
       "text": [
        "\n",
        "  Mirrored 312586 bytes to 1068x600/11/2764/944.mp4 from https://earthengine.google.org/timelapse/data/20130507/1068x600/11/2764/944.mp4"
       ]
      },
      {
       "output_type": "stream",
       "stream": "stdout",
       "text": [
        "\n",
        "  Mirrored 253216 bytes to 1068x600/11/2764/948.mp4 from https://earthengine.google.org/timelapse/data/20130507/1068x600/11/2764/948.mp4"
       ]
      },
      {
       "output_type": "stream",
       "stream": "stdout",
       "text": [
        "\n",
        "  Mirrored 434261 bytes to 1068x600/11/2764/952.mp4 from https://earthengine.google.org/timelapse/data/20130507/1068x600/11/2764/952.mp4"
       ]
      },
      {
       "output_type": "stream",
       "stream": "stdout",
       "text": [
        "\n",
        "  Mirrored 397631 bytes to 1068x600/11/2764/956.mp4 from https://earthengine.google.org/timelapse/data/20130507/1068x600/11/2764/956.mp4"
       ]
      },
      {
       "output_type": "stream",
       "stream": "stdout",
       "text": [
        "\n",
        "  Mirrored 791176 bytes to 1068x600/11/2764/960.mp4 from https://earthengine.google.org/timelapse/data/20130507/1068x600/11/2764/960.mp4"
       ]
      },
      {
       "output_type": "stream",
       "stream": "stdout",
       "text": [
        "\n",
        "  Mirrored 1340543 bytes to 1068x600/11/2768/832.mp4 from https://earthengine.google.org/timelapse/data/20130507/1068x600/11/2768/832.mp4"
       ]
      },
      {
       "output_type": "stream",
       "stream": "stdout",
       "text": [
        "\n",
        "  Mirrored 1518064 bytes to 1068x600/11/2768/836.mp4 from https://earthengine.google.org/timelapse/data/20130507/1068x600/11/2768/836.mp4"
       ]
      },
      {
       "output_type": "stream",
       "stream": "stdout",
       "text": [
        "\n",
        "  Mirrored 1600409 bytes to 1068x600/11/2768/840.mp4 from https://earthengine.google.org/timelapse/data/20130507/1068x600/11/2768/840.mp4"
       ]
      },
      {
       "output_type": "stream",
       "stream": "stdout",
       "text": [
        "\n",
        "  Mirrored 1546424 bytes to 1068x600/11/2768/844.mp4 from https://earthengine.google.org/timelapse/data/20130507/1068x600/11/2768/844.mp4"
       ]
      },
      {
       "output_type": "stream",
       "stream": "stdout",
       "text": [
        "\n",
        "  Mirrored 1790531 bytes to 1068x600/11/2768/848.mp4 from https://earthengine.google.org/timelapse/data/20130507/1068x600/11/2768/848.mp4"
       ]
      },
      {
       "output_type": "stream",
       "stream": "stdout",
       "text": [
        "\n",
        "  Mirrored 1795915 bytes to 1068x600/11/2768/852.mp4 from https://earthengine.google.org/timelapse/data/20130507/1068x600/11/2768/852.mp4"
       ]
      },
      {
       "output_type": "stream",
       "stream": "stdout",
       "text": [
        "\n",
        "  Mirrored 1372678 bytes to 1068x600/11/2768/856.mp4 from https://earthengine.google.org/timelapse/data/20130507/1068x600/11/2768/856.mp4"
       ]
      },
      {
       "output_type": "stream",
       "stream": "stdout",
       "text": [
        "\n",
        "  Mirrored 1274522 bytes to 1068x600/11/2768/860.mp4 from https://earthengine.google.org/timelapse/data/20130507/1068x600/11/2768/860.mp4"
       ]
      },
      {
       "output_type": "stream",
       "stream": "stdout",
       "text": [
        "\n",
        "  Mirrored 1319866 bytes to 1068x600/11/2768/864.mp4 from https://earthengine.google.org/timelapse/data/20130507/1068x600/11/2768/864.mp4"
       ]
      },
      {
       "output_type": "stream",
       "stream": "stdout",
       "text": [
        "\n",
        "  Mirrored 1552179 bytes to 1068x600/11/2768/868.mp4 from https://earthengine.google.org/timelapse/data/20130507/1068x600/11/2768/868.mp4"
       ]
      },
      {
       "output_type": "stream",
       "stream": "stdout",
       "text": [
        "\n",
        "  Mirrored 1429507 bytes to 1068x600/11/2768/872.mp4 from https://earthengine.google.org/timelapse/data/20130507/1068x600/11/2768/872.mp4"
       ]
      },
      {
       "output_type": "stream",
       "stream": "stdout",
       "text": [
        "\n",
        "  Mirrored 1206908 bytes to 1068x600/11/2768/876.mp4 from https://earthengine.google.org/timelapse/data/20130507/1068x600/11/2768/876.mp4"
       ]
      },
      {
       "output_type": "stream",
       "stream": "stdout",
       "text": [
        "\n",
        "  Mirrored 1421921 bytes to 1068x600/11/2768/880.mp4 from https://earthengine.google.org/timelapse/data/20130507/1068x600/11/2768/880.mp4"
       ]
      },
      {
       "output_type": "stream",
       "stream": "stdout",
       "text": [
        "\n",
        "  Mirrored 1318885 bytes to 1068x600/11/2768/884.mp4 from https://earthengine.google.org/timelapse/data/20130507/1068x600/11/2768/884.mp4"
       ]
      },
      {
       "output_type": "stream",
       "stream": "stdout",
       "text": [
        "\n",
        "  Mirrored 572748 bytes to 1068x600/11/2768/888.mp4 from https://earthengine.google.org/timelapse/data/20130507/1068x600/11/2768/888.mp4"
       ]
      },
      {
       "output_type": "stream",
       "stream": "stdout",
       "text": [
        "\n",
        "  Mirrored 261480 bytes to 1068x600/11/2768/892.mp4 from https://earthengine.google.org/timelapse/data/20130507/1068x600/11/2768/892.mp4"
       ]
      },
      {
       "output_type": "stream",
       "stream": "stdout",
       "text": [
        "\n",
        "  Mirrored 655983 bytes to 1068x600/11/2768/896.mp4 from https://earthengine.google.org/timelapse/data/20130507/1068x600/11/2768/896.mp4"
       ]
      },
      {
       "output_type": "stream",
       "stream": "stdout",
       "text": [
        "\n",
        "  Mirrored 598266 bytes to 1068x600/11/2768/900.mp4 from https://earthengine.google.org/timelapse/data/20130507/1068x600/11/2768/900.mp4"
       ]
      },
      {
       "output_type": "stream",
       "stream": "stdout",
       "text": [
        "\n",
        "  Mirrored 661321 bytes to 1068x600/11/2768/904.mp4 from https://earthengine.google.org/timelapse/data/20130507/1068x600/11/2768/904.mp4"
       ]
      },
      {
       "output_type": "stream",
       "stream": "stdout",
       "text": [
        "\n",
        "  Mirrored 219968 bytes to 1068x600/11/2768/908.mp4 from https://earthengine.google.org/timelapse/data/20130507/1068x600/11/2768/908.mp4"
       ]
      },
      {
       "output_type": "stream",
       "stream": "stdout",
       "text": [
        "\n",
        "  Mirrored 275751 bytes to 1068x600/11/2768/912.mp4 from https://earthengine.google.org/timelapse/data/20130507/1068x600/11/2768/912.mp4"
       ]
      },
      {
       "output_type": "stream",
       "stream": "stdout",
       "text": [
        "\n",
        "  Mirrored 299913 bytes to 1068x600/11/2768/916.mp4 from https://earthengine.google.org/timelapse/data/20130507/1068x600/11/2768/916.mp4"
       ]
      },
      {
       "output_type": "stream",
       "stream": "stdout",
       "text": [
        "\n",
        "  Mirrored 318497 bytes to 1068x600/11/2768/920.mp4 from https://earthengine.google.org/timelapse/data/20130507/1068x600/11/2768/920.mp4"
       ]
      },
      {
       "output_type": "stream",
       "stream": "stdout",
       "text": [
        "\n",
        "  Mirrored 925594 bytes to 1068x600/11/2768/924.mp4 from https://earthengine.google.org/timelapse/data/20130507/1068x600/11/2768/924.mp4"
       ]
      },
      {
       "output_type": "stream",
       "stream": "stdout",
       "text": [
        "\n",
        "  Mirrored 1069998 bytes to 1068x600/11/2768/928.mp4 from https://earthengine.google.org/timelapse/data/20130507/1068x600/11/2768/928.mp4"
       ]
      },
      {
       "output_type": "stream",
       "stream": "stdout",
       "text": [
        "\n",
        "  Mirrored 778959 bytes to 1068x600/11/2768/932.mp4 from https://earthengine.google.org/timelapse/data/20130507/1068x600/11/2768/932.mp4"
       ]
      },
      {
       "output_type": "stream",
       "stream": "stdout",
       "text": [
        "\n",
        "  Mirrored 648402 bytes to 1068x600/11/2768/936.mp4 from https://earthengine.google.org/timelapse/data/20130507/1068x600/11/2768/936.mp4"
       ]
      },
      {
       "output_type": "stream",
       "stream": "stdout",
       "text": [
        "\n",
        "  Mirrored 700534 bytes to 1068x600/11/2768/940.mp4 from https://earthengine.google.org/timelapse/data/20130507/1068x600/11/2768/940.mp4"
       ]
      },
      {
       "output_type": "stream",
       "stream": "stdout",
       "text": [
        "\n",
        "  Mirrored 823456 bytes to 1068x600/11/2768/944.mp4 from https://earthengine.google.org/timelapse/data/20130507/1068x600/11/2768/944.mp4"
       ]
      },
      {
       "output_type": "stream",
       "stream": "stdout",
       "text": [
        "\n",
        "  Mirrored 354525 bytes to 1068x600/11/2768/948.mp4 from https://earthengine.google.org/timelapse/data/20130507/1068x600/11/2768/948.mp4"
       ]
      },
      {
       "output_type": "stream",
       "stream": "stdout",
       "text": [
        "\n",
        "  Mirrored 382964 bytes to 1068x600/11/2768/952.mp4 from https://earthengine.google.org/timelapse/data/20130507/1068x600/11/2768/952.mp4"
       ]
      },
      {
       "output_type": "stream",
       "stream": "stdout",
       "text": [
        "\n",
        "  Mirrored 68531 bytes to 1068x600/11/2768/956.mp4 from https://earthengine.google.org/timelapse/data/20130507/1068x600/11/2768/956.mp4"
       ]
      },
      {
       "output_type": "stream",
       "stream": "stdout",
       "text": [
        "\n",
        "  Mirrored 307092 bytes to 1068x600/11/2768/960.mp4 from https://earthengine.google.org/timelapse/data/20130507/1068x600/11/2768/960.mp4"
       ]
      },
      {
       "output_type": "stream",
       "stream": "stdout",
       "text": [
        "\n",
        "  Mirrored 1528059 bytes to 1068x600/11/2772/832.mp4 from https://earthengine.google.org/timelapse/data/20130507/1068x600/11/2772/832.mp4"
       ]
      },
      {
       "output_type": "stream",
       "stream": "stdout",
       "text": [
        "\n",
        "  Mirrored 1598839 bytes to 1068x600/11/2772/836.mp4 from https://earthengine.google.org/timelapse/data/20130507/1068x600/11/2772/836.mp4"
       ]
      },
      {
       "output_type": "stream",
       "stream": "stdout",
       "text": [
        "\n",
        "  Mirrored 1473449 bytes to 1068x600/11/2772/840.mp4 from https://earthengine.google.org/timelapse/data/20130507/1068x600/11/2772/840.mp4"
       ]
      },
      {
       "output_type": "stream",
       "stream": "stdout",
       "text": [
        "\n",
        "  Mirrored 1683475 bytes to 1068x600/11/2772/844.mp4 from https://earthengine.google.org/timelapse/data/20130507/1068x600/11/2772/844.mp4"
       ]
      },
      {
       "output_type": "stream",
       "stream": "stdout",
       "text": [
        "\n",
        "  Mirrored 1853226 bytes to 1068x600/11/2772/848.mp4 from https://earthengine.google.org/timelapse/data/20130507/1068x600/11/2772/848.mp4"
       ]
      },
      {
       "output_type": "stream",
       "stream": "stdout",
       "text": [
        "\n",
        "  Mirrored 1798022 bytes to 1068x600/11/2772/852.mp4 from https://earthengine.google.org/timelapse/data/20130507/1068x600/11/2772/852.mp4"
       ]
      },
      {
       "output_type": "stream",
       "stream": "stdout",
       "text": [
        "\n",
        "  Mirrored 1271676 bytes to 1068x600/11/2772/856.mp4 from https://earthengine.google.org/timelapse/data/20130507/1068x600/11/2772/856.mp4"
       ]
      },
      {
       "output_type": "stream",
       "stream": "stdout",
       "text": [
        "\n",
        "  Mirrored 1209656 bytes to 1068x600/11/2772/860.mp4 from https://earthengine.google.org/timelapse/data/20130507/1068x600/11/2772/860.mp4"
       ]
      },
      {
       "output_type": "stream",
       "stream": "stdout",
       "text": [
        "\n",
        "  Mirrored 1302579 bytes to 1068x600/11/2772/864.mp4 from https://earthengine.google.org/timelapse/data/20130507/1068x600/11/2772/864.mp4"
       ]
      },
      {
       "output_type": "stream",
       "stream": "stdout",
       "text": [
        "\n",
        "  Mirrored 1519680 bytes to 1068x600/11/2772/868.mp4 from https://earthengine.google.org/timelapse/data/20130507/1068x600/11/2772/868.mp4"
       ]
      },
      {
       "output_type": "stream",
       "stream": "stdout",
       "text": [
        "\n",
        "  Mirrored 1461692 bytes to 1068x600/11/2772/872.mp4 from https://earthengine.google.org/timelapse/data/20130507/1068x600/11/2772/872.mp4"
       ]
      },
      {
       "output_type": "stream",
       "stream": "stdout",
       "text": [
        "\n",
        "  Mirrored 1128377 bytes to 1068x600/11/2772/876.mp4 from https://earthengine.google.org/timelapse/data/20130507/1068x600/11/2772/876.mp4"
       ]
      },
      {
       "output_type": "stream",
       "stream": "stdout",
       "text": [
        "\n",
        "  Mirrored 1328927 bytes to 1068x600/11/2772/880.mp4 from https://earthengine.google.org/timelapse/data/20130507/1068x600/11/2772/880.mp4"
       ]
      },
      {
       "output_type": "stream",
       "stream": "stdout",
       "text": [
        "\n",
        "  Mirrored 715617 bytes to 1068x600/11/2772/884.mp4 from https://earthengine.google.org/timelapse/data/20130507/1068x600/11/2772/884.mp4"
       ]
      },
      {
       "output_type": "stream",
       "stream": "stdout",
       "text": [
        "\n",
        "  Mirrored 266995 bytes to 1068x600/11/2772/888.mp4 from https://earthengine.google.org/timelapse/data/20130507/1068x600/11/2772/888.mp4"
       ]
      },
      {
       "output_type": "stream",
       "stream": "stdout",
       "text": [
        "\n",
        "  Mirrored 323893 bytes to 1068x600/11/2772/892.mp4 from https://earthengine.google.org/timelapse/data/20130507/1068x600/11/2772/892.mp4"
       ]
      },
      {
       "output_type": "stream",
       "stream": "stdout",
       "text": [
        "\n",
        "  Mirrored 782416 bytes to 1068x600/11/2772/896.mp4 from https://earthengine.google.org/timelapse/data/20130507/1068x600/11/2772/896.mp4"
       ]
      },
      {
       "output_type": "stream",
       "stream": "stdout",
       "text": [
        "\n",
        "  Mirrored 628604 bytes to 1068x600/11/2772/900.mp4 from https://earthengine.google.org/timelapse/data/20130507/1068x600/11/2772/900.mp4"
       ]
      },
      {
       "output_type": "stream",
       "stream": "stdout",
       "text": [
        "\n",
        "  Mirrored 606566 bytes to 1068x600/11/2772/904.mp4 from https://earthengine.google.org/timelapse/data/20130507/1068x600/11/2772/904.mp4"
       ]
      },
      {
       "output_type": "stream",
       "stream": "stdout",
       "text": [
        "\n",
        "  Mirrored 208208 bytes to 1068x600/11/2772/908.mp4 from https://earthengine.google.org/timelapse/data/20130507/1068x600/11/2772/908.mp4"
       ]
      },
      {
       "output_type": "stream",
       "stream": "stdout",
       "text": [
        "\n",
        "  Mirrored 278902 bytes to 1068x600/11/2772/912.mp4 from https://earthengine.google.org/timelapse/data/20130507/1068x600/11/2772/912.mp4"
       ]
      },
      {
       "output_type": "stream",
       "stream": "stdout",
       "text": [
        "\n",
        "  Mirrored 271281 bytes to 1068x600/11/2772/916.mp4 from https://earthengine.google.org/timelapse/data/20130507/1068x600/11/2772/916.mp4"
       ]
      },
      {
       "output_type": "stream",
       "stream": "stdout",
       "text": [
        "\n",
        "  Mirrored 298189 bytes to 1068x600/11/2772/920.mp4 from https://earthengine.google.org/timelapse/data/20130507/1068x600/11/2772/920.mp4"
       ]
      },
      {
       "output_type": "stream",
       "stream": "stdout",
       "text": [
        "\n",
        "  Mirrored 412436 bytes to 1068x600/11/2772/924.mp4 from https://earthengine.google.org/timelapse/data/20130507/1068x600/11/2772/924.mp4"
       ]
      },
      {
       "output_type": "stream",
       "stream": "stdout",
       "text": [
        "\n",
        "  Mirrored 624384 bytes to 1068x600/11/2772/928.mp4 from https://earthengine.google.org/timelapse/data/20130507/1068x600/11/2772/928.mp4"
       ]
      },
      {
       "output_type": "stream",
       "stream": "stdout",
       "text": [
        "\n",
        "  Mirrored 556293 bytes to 1068x600/11/2772/932.mp4 from https://earthengine.google.org/timelapse/data/20130507/1068x600/11/2772/932.mp4"
       ]
      },
      {
       "output_type": "stream",
       "stream": "stdout",
       "text": [
        "\n",
        "  Mirrored 581489 bytes to 1068x600/11/2772/936.mp4 from https://earthengine.google.org/timelapse/data/20130507/1068x600/11/2772/936.mp4"
       ]
      },
      {
       "output_type": "stream",
       "stream": "stdout",
       "text": [
        "\n",
        "  Mirrored 343550 bytes to 1068x600/11/2772/940.mp4 from https://earthengine.google.org/timelapse/data/20130507/1068x600/11/2772/940.mp4"
       ]
      },
      {
       "output_type": "stream",
       "stream": "stdout",
       "text": [
        "\n",
        "  Mirrored 986863 bytes to 1068x600/11/2772/944.mp4 from https://earthengine.google.org/timelapse/data/20130507/1068x600/11/2772/944.mp4"
       ]
      },
      {
       "output_type": "stream",
       "stream": "stdout",
       "text": [
        "\n",
        "  Mirrored 574142 bytes to 1068x600/11/2772/948.mp4 from https://earthengine.google.org/timelapse/data/20130507/1068x600/11/2772/948.mp4"
       ]
      },
      {
       "output_type": "stream",
       "stream": "stdout",
       "text": [
        "\n",
        "  Mirrored 172858 bytes to 1068x600/11/2772/952.mp4 from https://earthengine.google.org/timelapse/data/20130507/1068x600/11/2772/952.mp4"
       ]
      },
      {
       "output_type": "stream",
       "stream": "stdout",
       "text": [
        "\n",
        "  Mirrored 3560 bytes to 1068x600/11/2772/956.mp4 from https://earthengine.google.org/timelapse/data/20130507/1068x600/11/2772/956.mp4"
       ]
      },
      {
       "output_type": "stream",
       "stream": "stdout",
       "text": [
        "\n",
        "  Mirrored 3560 bytes to 1068x600/11/2772/960.mp4 from https://earthengine.google.org/timelapse/data/20130507/1068x600/11/2772/960.mp4"
       ]
      },
      {
       "output_type": "stream",
       "stream": "stdout",
       "text": [
        "\n",
        "  Mirrored 1482783 bytes to 1068x600/11/2776/832.mp4 from https://earthengine.google.org/timelapse/data/20130507/1068x600/11/2776/832.mp4"
       ]
      },
      {
       "output_type": "stream",
       "stream": "stdout",
       "text": [
        "\n",
        "  Mirrored 1469921 bytes to 1068x600/11/2776/836.mp4 from https://earthengine.google.org/timelapse/data/20130507/1068x600/11/2776/836.mp4"
       ]
      },
      {
       "output_type": "stream",
       "stream": "stdout",
       "text": [
        "\n",
        "  Mirrored 1432492 bytes to 1068x600/11/2776/840.mp4 from https://earthengine.google.org/timelapse/data/20130507/1068x600/11/2776/840.mp4"
       ]
      },
      {
       "output_type": "stream",
       "stream": "stdout",
       "text": [
        "\n",
        "  Mirrored 1681758 bytes to 1068x600/11/2776/844.mp4 from https://earthengine.google.org/timelapse/data/20130507/1068x600/11/2776/844.mp4"
       ]
      },
      {
       "output_type": "stream",
       "stream": "stdout",
       "text": [
        "\n",
        "  Mirrored 1703105 bytes to 1068x600/11/2776/848.mp4 from https://earthengine.google.org/timelapse/data/20130507/1068x600/11/2776/848.mp4"
       ]
      },
      {
       "output_type": "stream",
       "stream": "stdout",
       "text": [
        "\n",
        "  Mirrored 1745904 bytes to 1068x600/11/2776/852.mp4 from https://earthengine.google.org/timelapse/data/20130507/1068x600/11/2776/852.mp4"
       ]
      },
      {
       "output_type": "stream",
       "stream": "stdout",
       "text": [
        "\n",
        "  Mirrored 1446477 bytes to 1068x600/11/2776/856.mp4 from https://earthengine.google.org/timelapse/data/20130507/1068x600/11/2776/856.mp4"
       ]
      },
      {
       "output_type": "stream",
       "stream": "stdout",
       "text": [
        "\n",
        "  Mirrored 1273220 bytes to 1068x600/11/2776/860.mp4 from https://earthengine.google.org/timelapse/data/20130507/1068x600/11/2776/860.mp4"
       ]
      },
      {
       "output_type": "stream",
       "stream": "stdout",
       "text": [
        "\n",
        "  Mirrored 1406150 bytes to 1068x600/11/2776/864.mp4 from https://earthengine.google.org/timelapse/data/20130507/1068x600/11/2776/864.mp4"
       ]
      },
      {
       "output_type": "stream",
       "stream": "stdout",
       "text": [
        "\n",
        "  Mirrored 1472872 bytes to 1068x600/11/2776/868.mp4 from https://earthengine.google.org/timelapse/data/20130507/1068x600/11/2776/868.mp4"
       ]
      },
      {
       "output_type": "stream",
       "stream": "stdout",
       "text": [
        "\n",
        "  Mirrored 1390144 bytes to 1068x600/11/2776/872.mp4 from https://earthengine.google.org/timelapse/data/20130507/1068x600/11/2776/872.mp4"
       ]
      },
      {
       "output_type": "stream",
       "stream": "stdout",
       "text": [
        "\n",
        "  Mirrored 1167697 bytes to 1068x600/11/2776/876.mp4 from https://earthengine.google.org/timelapse/data/20130507/1068x600/11/2776/876.mp4"
       ]
      },
      {
       "output_type": "stream",
       "stream": "stdout",
       "text": [
        "\n",
        "  Mirrored 1181446 bytes to 1068x600/11/2776/880.mp4 from https://earthengine.google.org/timelapse/data/20130507/1068x600/11/2776/880.mp4"
       ]
      },
      {
       "output_type": "stream",
       "stream": "stdout",
       "text": [
        "\n",
        "  Mirrored 299365 bytes to 1068x600/11/2776/884.mp4 from https://earthengine.google.org/timelapse/data/20130507/1068x600/11/2776/884.mp4"
       ]
      },
      {
       "output_type": "stream",
       "stream": "stdout",
       "text": [
        "\n",
        "  Mirrored 256705 bytes to 1068x600/11/2776/888.mp4 from https://earthengine.google.org/timelapse/data/20130507/1068x600/11/2776/888.mp4"
       ]
      },
      {
       "output_type": "stream",
       "stream": "stdout",
       "text": [
        "\n",
        "  Mirrored 429323 bytes to 1068x600/11/2776/892.mp4 from https://earthengine.google.org/timelapse/data/20130507/1068x600/11/2776/892.mp4"
       ]
      },
      {
       "output_type": "stream",
       "stream": "stdout",
       "text": [
        "\n",
        "  Mirrored 638588 bytes to 1068x600/11/2776/896.mp4 from https://earthengine.google.org/timelapse/data/20130507/1068x600/11/2776/896.mp4"
       ]
      },
      {
       "output_type": "stream",
       "stream": "stdout",
       "text": [
        "\n",
        "  Mirrored 532809 bytes to 1068x600/11/2776/900.mp4 from https://earthengine.google.org/timelapse/data/20130507/1068x600/11/2776/900.mp4"
       ]
      },
      {
       "output_type": "stream",
       "stream": "stdout",
       "text": [
        "\n",
        "  Mirrored 450596 bytes to 1068x600/11/2776/904.mp4 from https://earthengine.google.org/timelapse/data/20130507/1068x600/11/2776/904.mp4"
       ]
      },
      {
       "output_type": "stream",
       "stream": "stdout",
       "text": [
        "\n",
        "  Mirrored 187830 bytes to 1068x600/11/2776/908.mp4 from https://earthengine.google.org/timelapse/data/20130507/1068x600/11/2776/908.mp4"
       ]
      },
      {
       "output_type": "stream",
       "stream": "stdout",
       "text": [
        "\n",
        "  Mirrored 241574 bytes to 1068x600/11/2776/912.mp4 from https://earthengine.google.org/timelapse/data/20130507/1068x600/11/2776/912.mp4"
       ]
      },
      {
       "output_type": "stream",
       "stream": "stdout",
       "text": [
        "\n",
        "  Mirrored 230178 bytes to 1068x600/11/2776/916.mp4 from https://earthengine.google.org/timelapse/data/20130507/1068x600/11/2776/916.mp4"
       ]
      },
      {
       "output_type": "stream",
       "stream": "stdout",
       "text": [
        "\n",
        "  Mirrored 259910 bytes to 1068x600/11/2776/920.mp4 from https://earthengine.google.org/timelapse/data/20130507/1068x600/11/2776/920.mp4"
       ]
      },
      {
       "output_type": "stream",
       "stream": "stdout",
       "text": [
        "\n",
        "  Mirrored 244826 bytes to 1068x600/11/2776/924.mp4 from https://earthengine.google.org/timelapse/data/20130507/1068x600/11/2776/924.mp4"
       ]
      },
      {
       "output_type": "stream",
       "stream": "stdout",
       "text": [
        "\n",
        "  Mirrored 313874 bytes to 1068x600/11/2776/928.mp4 from https://earthengine.google.org/timelapse/data/20130507/1068x600/11/2776/928.mp4"
       ]
      },
      {
       "output_type": "stream",
       "stream": "stdout",
       "text": [
        "\n",
        "  Mirrored 318350 bytes to 1068x600/11/2776/932.mp4 from https://earthengine.google.org/timelapse/data/20130507/1068x600/11/2776/932.mp4"
       ]
      },
      {
       "output_type": "stream",
       "stream": "stdout",
       "text": [
        "\n",
        "  Mirrored 270869 bytes to 1068x600/11/2776/936.mp4 from https://earthengine.google.org/timelapse/data/20130507/1068x600/11/2776/936.mp4"
       ]
      },
      {
       "output_type": "stream",
       "stream": "stdout",
       "text": [
        "\n",
        "  Mirrored 324329 bytes to 1068x600/11/2776/940.mp4 from https://earthengine.google.org/timelapse/data/20130507/1068x600/11/2776/940.mp4"
       ]
      },
      {
       "output_type": "stream",
       "stream": "stdout",
       "text": [
        "\n",
        "  Mirrored 665370 bytes to 1068x600/11/2776/944.mp4 from https://earthengine.google.org/timelapse/data/20130507/1068x600/11/2776/944.mp4"
       ]
      },
      {
       "output_type": "stream",
       "stream": "stdout",
       "text": [
        "\n",
        "  Mirrored 689579 bytes to 1068x600/11/2776/948.mp4 from https://earthengine.google.org/timelapse/data/20130507/1068x600/11/2776/948.mp4"
       ]
      },
      {
       "output_type": "stream",
       "stream": "stdout",
       "text": [
        "\n",
        "  Mirrored 21150 bytes to 1068x600/11/2776/952.mp4 from https://earthengine.google.org/timelapse/data/20130507/1068x600/11/2776/952.mp4"
       ]
      },
      {
       "output_type": "stream",
       "stream": "stdout",
       "text": [
        "\n",
        "  Mirrored 3560 bytes to 1068x600/11/2776/956.mp4 from https://earthengine.google.org/timelapse/data/20130507/1068x600/11/2776/956.mp4"
       ]
      },
      {
       "output_type": "stream",
       "stream": "stdout",
       "text": [
        "\n",
        "  Mirrored 3560 bytes to 1068x600/11/2776/960.mp4 from https://earthengine.google.org/timelapse/data/20130507/1068x600/11/2776/960.mp4"
       ]
      },
      {
       "output_type": "stream",
       "stream": "stdout",
       "text": [
        "\n",
        "  Mirrored 1640685 bytes to 1068x600/11/2780/832.mp4 from https://earthengine.google.org/timelapse/data/20130507/1068x600/11/2780/832.mp4"
       ]
      },
      {
       "output_type": "stream",
       "stream": "stdout",
       "text": [
        "\n",
        "  Mirrored 1545540 bytes to 1068x600/11/2780/836.mp4 from https://earthengine.google.org/timelapse/data/20130507/1068x600/11/2780/836.mp4"
       ]
      },
      {
       "output_type": "stream",
       "stream": "stdout",
       "text": [
        "\n",
        "  Mirrored 1656270 bytes to 1068x600/11/2780/840.mp4 from https://earthengine.google.org/timelapse/data/20130507/1068x600/11/2780/840.mp4"
       ]
      },
      {
       "output_type": "stream",
       "stream": "stdout",
       "text": [
        "\n",
        "  Mirrored 1392307 bytes to 1068x600/11/2780/844.mp4 from https://earthengine.google.org/timelapse/data/20130507/1068x600/11/2780/844.mp4"
       ]
      },
      {
       "output_type": "stream",
       "stream": "stdout",
       "text": [
        "\n",
        "  Mirrored 1382142 bytes to 1068x600/11/2780/848.mp4 from https://earthengine.google.org/timelapse/data/20130507/1068x600/11/2780/848.mp4"
       ]
      },
      {
       "output_type": "stream",
       "stream": "stdout",
       "text": [
        "\n",
        "  Mirrored 1628058 bytes to 1068x600/11/2780/852.mp4 from https://earthengine.google.org/timelapse/data/20130507/1068x600/11/2780/852.mp4"
       ]
      },
      {
       "output_type": "stream",
       "stream": "stdout",
       "text": [
        "\n",
        "  Mirrored 1320333 bytes to 1068x600/11/2780/856.mp4 from https://earthengine.google.org/timelapse/data/20130507/1068x600/11/2780/856.mp4"
       ]
      },
      {
       "output_type": "stream",
       "stream": "stdout",
       "text": [
        "\n",
        "  Mirrored 1299736 bytes to 1068x600/11/2780/860.mp4 from https://earthengine.google.org/timelapse/data/20130507/1068x600/11/2780/860.mp4"
       ]
      },
      {
       "output_type": "stream",
       "stream": "stdout",
       "text": [
        "\n",
        "  Mirrored 1489526 bytes to 1068x600/11/2780/864.mp4 from https://earthengine.google.org/timelapse/data/20130507/1068x600/11/2780/864.mp4"
       ]
      },
      {
       "output_type": "stream",
       "stream": "stdout",
       "text": [
        "\n",
        "  Mirrored 1401669 bytes to 1068x600/11/2780/868.mp4 from https://earthengine.google.org/timelapse/data/20130507/1068x600/11/2780/868.mp4"
       ]
      },
      {
       "output_type": "stream",
       "stream": "stdout",
       "text": [
        "\n",
        "  Mirrored 1396715 bytes to 1068x600/11/2780/872.mp4 from https://earthengine.google.org/timelapse/data/20130507/1068x600/11/2780/872.mp4"
       ]
      },
      {
       "output_type": "stream",
       "stream": "stdout",
       "text": [
        "\n",
        "  Mirrored 1020688 bytes to 1068x600/11/2780/876.mp4 from https://earthengine.google.org/timelapse/data/20130507/1068x600/11/2780/876.mp4"
       ]
      },
      {
       "output_type": "stream",
       "stream": "stdout",
       "text": [
        "\n",
        "  Mirrored 508148 bytes to 1068x600/11/2780/880.mp4 from https://earthengine.google.org/timelapse/data/20130507/1068x600/11/2780/880.mp4"
       ]
      },
      {
       "output_type": "stream",
       "stream": "stdout",
       "text": [
        "\n",
        "  Mirrored 213969 bytes to 1068x600/11/2780/884.mp4 from https://earthengine.google.org/timelapse/data/20130507/1068x600/11/2780/884.mp4"
       ]
      },
      {
       "output_type": "stream",
       "stream": "stdout",
       "text": [
        "\n",
        "  Mirrored 230108 bytes to 1068x600/11/2780/888.mp4 from https://earthengine.google.org/timelapse/data/20130507/1068x600/11/2780/888.mp4"
       ]
      },
      {
       "output_type": "stream",
       "stream": "stdout",
       "text": [
        "\n",
        "  Mirrored 561199 bytes to 1068x600/11/2780/892.mp4 from https://earthengine.google.org/timelapse/data/20130507/1068x600/11/2780/892.mp4"
       ]
      },
      {
       "output_type": "stream",
       "stream": "stdout",
       "text": [
        "\n",
        "  Mirrored 742595 bytes to 1068x600/11/2780/896.mp4 from https://earthengine.google.org/timelapse/data/20130507/1068x600/11/2780/896.mp4"
       ]
      },
      {
       "output_type": "stream",
       "stream": "stdout",
       "text": [
        "\n",
        "  Mirrored 594057 bytes to 1068x600/11/2780/900.mp4 from https://earthengine.google.org/timelapse/data/20130507/1068x600/11/2780/900.mp4"
       ]
      },
      {
       "output_type": "stream",
       "stream": "stdout",
       "text": [
        "\n",
        "  Mirrored 509953 bytes to 1068x600/11/2780/904.mp4 from https://earthengine.google.org/timelapse/data/20130507/1068x600/11/2780/904.mp4"
       ]
      },
      {
       "output_type": "stream",
       "stream": "stdout",
       "text": [
        "\n",
        "  Mirrored 268855 bytes to 1068x600/11/2780/908.mp4 from https://earthengine.google.org/timelapse/data/20130507/1068x600/11/2780/908.mp4"
       ]
      },
      {
       "output_type": "stream",
       "stream": "stdout",
       "text": [
        "\n",
        "  Mirrored 329966 bytes to 1068x600/11/2780/912.mp4 from https://earthengine.google.org/timelapse/data/20130507/1068x600/11/2780/912.mp4"
       ]
      },
      {
       "output_type": "stream",
       "stream": "stdout",
       "text": [
        "\n",
        "  Mirrored 266465 bytes to 1068x600/11/2780/916.mp4 from https://earthengine.google.org/timelapse/data/20130507/1068x600/11/2780/916.mp4"
       ]
      },
      {
       "output_type": "stream",
       "stream": "stdout",
       "text": [
        "\n",
        "  Mirrored 239390 bytes to 1068x600/11/2780/920.mp4 from https://earthengine.google.org/timelapse/data/20130507/1068x600/11/2780/920.mp4"
       ]
      },
      {
       "output_type": "stream",
       "stream": "stdout",
       "text": [
        "\n",
        "  Mirrored 220745 bytes to 1068x600/11/2780/924.mp4 from https://earthengine.google.org/timelapse/data/20130507/1068x600/11/2780/924.mp4"
       ]
      },
      {
       "output_type": "stream",
       "stream": "stdout",
       "text": [
        "\n",
        "  Mirrored 207515 bytes to 1068x600/11/2780/928.mp4 from https://earthengine.google.org/timelapse/data/20130507/1068x600/11/2780/928.mp4"
       ]
      },
      {
       "output_type": "stream",
       "stream": "stdout",
       "text": [
        "\n",
        "  Mirrored 204958 bytes to 1068x600/11/2780/932.mp4 from https://earthengine.google.org/timelapse/data/20130507/1068x600/11/2780/932.mp4"
       ]
      },
      {
       "output_type": "stream",
       "stream": "stdout",
       "text": [
        "\n",
        "  Mirrored 382563 bytes to 1068x600/11/2780/936.mp4 from https://earthengine.google.org/timelapse/data/20130507/1068x600/11/2780/936.mp4"
       ]
      },
      {
       "output_type": "stream",
       "stream": "stdout",
       "text": [
        "\n",
        "  Mirrored 565211 bytes to 1068x600/11/2780/940.mp4 from https://earthengine.google.org/timelapse/data/20130507/1068x600/11/2780/940.mp4"
       ]
      },
      {
       "output_type": "stream",
       "stream": "stdout",
       "text": [
        "\n",
        "  Mirrored 614624 bytes to 1068x600/11/2780/944.mp4 from https://earthengine.google.org/timelapse/data/20130507/1068x600/11/2780/944.mp4"
       ]
      },
      {
       "output_type": "stream",
       "stream": "stdout",
       "text": [
        "\n",
        "  Mirrored 403760 bytes to 1068x600/11/2780/948.mp4 from https://earthengine.google.org/timelapse/data/20130507/1068x600/11/2780/948.mp4"
       ]
      },
      {
       "output_type": "stream",
       "stream": "stdout",
       "text": [
        "\n",
        "  Mirrored 3560 bytes to 1068x600/11/2780/952.mp4 from https://earthengine.google.org/timelapse/data/20130507/1068x600/11/2780/952.mp4"
       ]
      },
      {
       "output_type": "stream",
       "stream": "stdout",
       "text": [
        "\n",
        "  Mirrored 3560 bytes to 1068x600/11/2780/956.mp4 from https://earthengine.google.org/timelapse/data/20130507/1068x600/11/2780/956.mp4"
       ]
      },
      {
       "output_type": "stream",
       "stream": "stdout",
       "text": [
        "\n",
        "  Mirrored 3560 bytes to 1068x600/11/2780/960.mp4 from https://earthengine.google.org/timelapse/data/20130507/1068x600/11/2780/960.mp4"
       ]
      },
      {
       "output_type": "stream",
       "stream": "stdout",
       "text": [
        "\n",
        "  Mirrored 1650787 bytes to 1068x600/11/2784/832.mp4 from https://earthengine.google.org/timelapse/data/20130507/1068x600/11/2784/832.mp4"
       ]
      },
      {
       "output_type": "stream",
       "stream": "stdout",
       "text": [
        "\n",
        "  Mirrored 1627721 bytes to 1068x600/11/2784/836.mp4 from https://earthengine.google.org/timelapse/data/20130507/1068x600/11/2784/836.mp4"
       ]
      },
      {
       "output_type": "stream",
       "stream": "stdout",
       "text": [
        "\n",
        "  Mirrored 1405464 bytes to 1068x600/11/2784/840.mp4 from https://earthengine.google.org/timelapse/data/20130507/1068x600/11/2784/840.mp4"
       ]
      },
      {
       "output_type": "stream",
       "stream": "stdout",
       "text": [
        "\n",
        "  Mirrored 1442586 bytes to 1068x600/11/2784/844.mp4 from https://earthengine.google.org/timelapse/data/20130507/1068x600/11/2784/844.mp4"
       ]
      },
      {
       "output_type": "stream",
       "stream": "stdout",
       "text": [
        "\n",
        "  Mirrored 1458132 bytes to 1068x600/11/2784/848.mp4 from https://earthengine.google.org/timelapse/data/20130507/1068x600/11/2784/848.mp4"
       ]
      },
      {
       "output_type": "stream",
       "stream": "stdout",
       "text": [
        "\n",
        "  Mirrored 1474346 bytes to 1068x600/11/2784/852.mp4 from https://earthengine.google.org/timelapse/data/20130507/1068x600/11/2784/852.mp4"
       ]
      },
      {
       "output_type": "stream",
       "stream": "stdout",
       "text": [
        "\n",
        "  Mirrored 1205762 bytes to 1068x600/11/2784/856.mp4 from https://earthengine.google.org/timelapse/data/20130507/1068x600/11/2784/856.mp4"
       ]
      },
      {
       "output_type": "stream",
       "stream": "stdout",
       "text": [
        "\n",
        "  Mirrored 1201437 bytes to 1068x600/11/2784/860.mp4 from https://earthengine.google.org/timelapse/data/20130507/1068x600/11/2784/860.mp4"
       ]
      },
      {
       "output_type": "stream",
       "stream": "stdout",
       "text": [
        "\n",
        "  Mirrored 1316321 bytes to 1068x600/11/2784/864.mp4 from https://earthengine.google.org/timelapse/data/20130507/1068x600/11/2784/864.mp4"
       ]
      },
      {
       "output_type": "stream",
       "stream": "stdout",
       "text": [
        "\n",
        "  Mirrored 1210585 bytes to 1068x600/11/2784/868.mp4 from https://earthengine.google.org/timelapse/data/20130507/1068x600/11/2784/868.mp4"
       ]
      },
      {
       "output_type": "stream",
       "stream": "stdout",
       "text": [
        "\n",
        "  Mirrored 808127 bytes to 1068x600/11/2784/872.mp4 from https://earthengine.google.org/timelapse/data/20130507/1068x600/11/2784/872.mp4"
       ]
      },
      {
       "output_type": "stream",
       "stream": "stdout",
       "text": [
        "\n",
        "  Mirrored 483245 bytes to 1068x600/11/2784/876.mp4 from https://earthengine.google.org/timelapse/data/20130507/1068x600/11/2784/876.mp4"
       ]
      },
      {
       "output_type": "stream",
       "stream": "stdout",
       "text": [
        "\n",
        "  Mirrored 245196 bytes to 1068x600/11/2784/880.mp4 from https://earthengine.google.org/timelapse/data/20130507/1068x600/11/2784/880.mp4"
       ]
      },
      {
       "output_type": "stream",
       "stream": "stdout",
       "text": [
        "\n",
        "  Mirrored 197751 bytes to 1068x600/11/2784/884.mp4 from https://earthengine.google.org/timelapse/data/20130507/1068x600/11/2784/884.mp4"
       ]
      },
      {
       "output_type": "stream",
       "stream": "stdout",
       "text": [
        "\n",
        "  Mirrored 263227 bytes to 1068x600/11/2784/888.mp4 from https://earthengine.google.org/timelapse/data/20130507/1068x600/11/2784/888.mp4"
       ]
      },
      {
       "output_type": "stream",
       "stream": "stdout",
       "text": [
        "\n",
        "  Mirrored 718674 bytes to 1068x600/11/2784/892.mp4 from https://earthengine.google.org/timelapse/data/20130507/1068x600/11/2784/892.mp4"
       ]
      },
      {
       "output_type": "stream",
       "stream": "stdout",
       "text": [
        "\n",
        "  Mirrored 724129 bytes to 1068x600/11/2784/896.mp4 from https://earthengine.google.org/timelapse/data/20130507/1068x600/11/2784/896.mp4"
       ]
      },
      {
       "output_type": "stream",
       "stream": "stdout",
       "text": [
        "\n",
        "  Mirrored 727421 bytes to 1068x600/11/2784/900.mp4 from https://earthengine.google.org/timelapse/data/20130507/1068x600/11/2784/900.mp4"
       ]
      },
      {
       "output_type": "stream",
       "stream": "stdout",
       "text": [
        "\n",
        "  Mirrored 347233 bytes to 1068x600/11/2784/904.mp4 from https://earthengine.google.org/timelapse/data/20130507/1068x600/11/2784/904.mp4"
       ]
      },
      {
       "output_type": "stream",
       "stream": "stdout",
       "text": [
        "\n",
        "  Mirrored 71946 bytes to 1068x600/11/2784/908.mp4 from https://earthengine.google.org/timelapse/data/20130507/1068x600/11/2784/908.mp4"
       ]
      },
      {
       "output_type": "stream",
       "stream": "stdout",
       "text": [
        "\n",
        "  Mirrored 48510 bytes to 1068x600/11/2784/912.mp4 from https://earthengine.google.org/timelapse/data/20130507/1068x600/11/2784/912.mp4"
       ]
      },
      {
       "output_type": "stream",
       "stream": "stdout",
       "text": [
        "\n",
        "  Mirrored 381514 bytes to 1068x600/11/2784/916.mp4 from https://earthengine.google.org/timelapse/data/20130507/1068x600/11/2784/916.mp4"
       ]
      },
      {
       "output_type": "stream",
       "stream": "stdout",
       "text": [
        "\n",
        "  Mirrored 328150 bytes to 1068x600/11/2784/920.mp4 from https://earthengine.google.org/timelapse/data/20130507/1068x600/11/2784/920.mp4"
       ]
      },
      {
       "output_type": "stream",
       "stream": "stdout",
       "text": [
        "\n",
        "  Mirrored 234493 bytes to 1068x600/11/2784/924.mp4 from https://earthengine.google.org/timelapse/data/20130507/1068x600/11/2784/924.mp4"
       ]
      },
      {
       "output_type": "stream",
       "stream": "stdout",
       "text": [
        "\n",
        "  Mirrored 211819 bytes to 1068x600/11/2784/928.mp4 from https://earthengine.google.org/timelapse/data/20130507/1068x600/11/2784/928.mp4"
       ]
      },
      {
       "output_type": "stream",
       "stream": "stdout",
       "text": [
        "\n",
        "  Mirrored 266412 bytes to 1068x600/11/2784/932.mp4 from https://earthengine.google.org/timelapse/data/20130507/1068x600/11/2784/932.mp4"
       ]
      },
      {
       "output_type": "stream",
       "stream": "stdout",
       "text": [
        "\n",
        "  Mirrored 377280 bytes to 1068x600/11/2784/936.mp4 from https://earthengine.google.org/timelapse/data/20130507/1068x600/11/2784/936.mp4"
       ]
      },
      {
       "output_type": "stream",
       "stream": "stdout",
       "text": [
        "\n",
        "  Mirrored 115351 bytes to 1068x600/11/2784/940.mp4 from https://earthengine.google.org/timelapse/data/20130507/1068x600/11/2784/940.mp4"
       ]
      },
      {
       "output_type": "stream",
       "stream": "stdout",
       "text": [
        "\n",
        "  Mirrored 145881 bytes to 1068x600/11/2784/944.mp4 from https://earthengine.google.org/timelapse/data/20130507/1068x600/11/2784/944.mp4"
       ]
      },
      {
       "output_type": "stream",
       "stream": "stdout",
       "text": [
        "\n",
        "  Mirrored 3560 bytes to 1068x600/11/2784/948.mp4 from https://earthengine.google.org/timelapse/data/20130507/1068x600/11/2784/948.mp4"
       ]
      },
      {
       "output_type": "stream",
       "stream": "stdout",
       "text": [
        "\n",
        "  Mirrored 3560 bytes to 1068x600/11/2784/952.mp4 from https://earthengine.google.org/timelapse/data/20130507/1068x600/11/2784/952.mp4"
       ]
      },
      {
       "output_type": "stream",
       "stream": "stdout",
       "text": [
        "\n",
        "  Mirrored 3560 bytes to 1068x600/11/2784/956.mp4 from https://earthengine.google.org/timelapse/data/20130507/1068x600/11/2784/956.mp4"
       ]
      },
      {
       "output_type": "stream",
       "stream": "stdout",
       "text": [
        "\n",
        "  Mirrored 3560 bytes to 1068x600/11/2784/960.mp4 from https://earthengine.google.org/timelapse/data/20130507/1068x600/11/2784/960.mp4"
       ]
      },
      {
       "output_type": "stream",
       "stream": "stdout",
       "text": [
        "\n",
        "  Mirrored 1645044 bytes to 1068x600/11/2788/832.mp4 from https://earthengine.google.org/timelapse/data/20130507/1068x600/11/2788/832.mp4"
       ]
      },
      {
       "output_type": "stream",
       "stream": "stdout",
       "text": [
        "\n",
        "  Mirrored 1637051 bytes to 1068x600/11/2788/836.mp4 from https://earthengine.google.org/timelapse/data/20130507/1068x600/11/2788/836.mp4"
       ]
      },
      {
       "output_type": "stream",
       "stream": "stdout",
       "text": [
        "\n",
        "  Mirrored 1418237 bytes to 1068x600/11/2788/840.mp4 from https://earthengine.google.org/timelapse/data/20130507/1068x600/11/2788/840.mp4"
       ]
      },
      {
       "output_type": "stream",
       "stream": "stdout",
       "text": [
        "\n",
        "  Mirrored 1392451 bytes to 1068x600/11/2788/844.mp4 from https://earthengine.google.org/timelapse/data/20130507/1068x600/11/2788/844.mp4"
       ]
      },
      {
       "output_type": "stream",
       "stream": "stdout",
       "text": [
        "\n",
        "  Mirrored 1567233 bytes to 1068x600/11/2788/848.mp4 from https://earthengine.google.org/timelapse/data/20130507/1068x600/11/2788/848.mp4"
       ]
      },
      {
       "output_type": "stream",
       "stream": "stdout",
       "text": [
        "\n",
        "  Mirrored 1578425 bytes to 1068x600/11/2788/852.mp4 from https://earthengine.google.org/timelapse/data/20130507/1068x600/11/2788/852.mp4"
       ]
      },
      {
       "output_type": "stream",
       "stream": "stdout",
       "text": [
        "\n",
        "  Mirrored 1352418 bytes to 1068x600/11/2788/856.mp4 from https://earthengine.google.org/timelapse/data/20130507/1068x600/11/2788/856.mp4"
       ]
      },
      {
       "output_type": "stream",
       "stream": "stdout",
       "text": [
        "\n",
        "  Mirrored 1270853 bytes to 1068x600/11/2788/860.mp4 from https://earthengine.google.org/timelapse/data/20130507/1068x600/11/2788/860.mp4"
       ]
      },
      {
       "output_type": "stream",
       "stream": "stdout",
       "text": [
        "\n",
        "  Mirrored 1170422 bytes to 1068x600/11/2788/864.mp4 from https://earthengine.google.org/timelapse/data/20130507/1068x600/11/2788/864.mp4"
       ]
      },
      {
       "output_type": "stream",
       "stream": "stdout",
       "text": [
        "\n",
        "  Mirrored 1241778 bytes to 1068x600/11/2788/868.mp4 from https://earthengine.google.org/timelapse/data/20130507/1068x600/11/2788/868.mp4"
       ]
      },
      {
       "output_type": "stream",
       "stream": "stdout",
       "text": [
        "\n",
        "  Mirrored 460618 bytes to 1068x600/11/2788/872.mp4 from https://earthengine.google.org/timelapse/data/20130507/1068x600/11/2788/872.mp4"
       ]
      },
      {
       "output_type": "stream",
       "stream": "stdout",
       "text": [
        "\n",
        "  Mirrored 200281 bytes to 1068x600/11/2788/876.mp4 from https://earthengine.google.org/timelapse/data/20130507/1068x600/11/2788/876.mp4"
       ]
      },
      {
       "output_type": "stream",
       "stream": "stdout",
       "text": [
        "\n",
        "  Mirrored 264852 bytes to 1068x600/11/2788/880.mp4 from https://earthengine.google.org/timelapse/data/20130507/1068x600/11/2788/880.mp4"
       ]
      },
      {
       "output_type": "stream",
       "stream": "stdout",
       "text": [
        "\n",
        "  Mirrored 352783 bytes to 1068x600/11/2788/884.mp4 from https://earthengine.google.org/timelapse/data/20130507/1068x600/11/2788/884.mp4"
       ]
      },
      {
       "output_type": "stream",
       "stream": "stdout",
       "text": [
        "\n",
        "  Mirrored 377710 bytes to 1068x600/11/2788/888.mp4 from https://earthengine.google.org/timelapse/data/20130507/1068x600/11/2788/888.mp4"
       ]
      },
      {
       "output_type": "stream",
       "stream": "stdout",
       "text": [
        "\n",
        "  Mirrored 154735 bytes to 1068x600/11/2788/892.mp4 from https://earthengine.google.org/timelapse/data/20130507/1068x600/11/2788/892.mp4"
       ]
      },
      {
       "output_type": "stream",
       "stream": "stdout",
       "text": [
        "\n",
        "  Mirrored 102948 bytes to 1068x600/11/2788/896.mp4 from https://earthengine.google.org/timelapse/data/20130507/1068x600/11/2788/896.mp4"
       ]
      },
      {
       "output_type": "stream",
       "stream": "stdout",
       "text": [
        "\n",
        "  Mirrored 20502 bytes to 1068x600/11/2788/900.mp4 from https://earthengine.google.org/timelapse/data/20130507/1068x600/11/2788/900.mp4"
       ]
      },
      {
       "output_type": "stream",
       "stream": "stdout",
       "text": [
        "\n",
        "  Mirrored 3560 bytes to 1068x600/11/2788/904.mp4 from https://earthengine.google.org/timelapse/data/20130507/1068x600/11/2788/904.mp4"
       ]
      },
      {
       "output_type": "stream",
       "stream": "stdout",
       "text": [
        "\n",
        "  Mirrored 3560 bytes to 1068x600/11/2788/908.mp4 from https://earthengine.google.org/timelapse/data/20130507/1068x600/11/2788/908.mp4"
       ]
      },
      {
       "output_type": "stream",
       "stream": "stdout",
       "text": [
        "\n",
        "  Mirrored 3560 bytes to 1068x600/11/2788/912.mp4 from https://earthengine.google.org/timelapse/data/20130507/1068x600/11/2788/912.mp4"
       ]
      },
      {
       "output_type": "stream",
       "stream": "stdout",
       "text": [
        "\n",
        "  Mirrored 5464 bytes to 1068x600/11/2788/916.mp4 from https://earthengine.google.org/timelapse/data/20130507/1068x600/11/2788/916.mp4"
       ]
      },
      {
       "output_type": "stream",
       "stream": "stdout",
       "text": [
        "\n",
        "  Mirrored 169163 bytes to 1068x600/11/2788/920.mp4 from https://earthengine.google.org/timelapse/data/20130507/1068x600/11/2788/920.mp4"
       ]
      },
      {
       "output_type": "stream",
       "stream": "stdout",
       "text": [
        "\n",
        "  Mirrored 374486 bytes to 1068x600/11/2788/924.mp4 from https://earthengine.google.org/timelapse/data/20130507/1068x600/11/2788/924.mp4"
       ]
      },
      {
       "output_type": "stream",
       "stream": "stdout",
       "text": [
        "\n",
        "  Mirrored 293573 bytes to 1068x600/11/2788/928.mp4 from https://earthengine.google.org/timelapse/data/20130507/1068x600/11/2788/928.mp4"
       ]
      },
      {
       "output_type": "stream",
       "stream": "stdout",
       "text": [
        "\n",
        "  Mirrored 397267 bytes to 1068x600/11/2788/932.mp4 from https://earthengine.google.org/timelapse/data/20130507/1068x600/11/2788/932.mp4"
       ]
      },
      {
       "output_type": "stream",
       "stream": "stdout",
       "text": [
        "\n",
        "  Mirrored 65782 bytes to 1068x600/11/2788/936.mp4 from https://earthengine.google.org/timelapse/data/20130507/1068x600/11/2788/936.mp4"
       ]
      },
      {
       "output_type": "stream",
       "stream": "stdout",
       "text": [
        "\n",
        "  Mirrored 3560 bytes to 1068x600/11/2788/940.mp4 from https://earthengine.google.org/timelapse/data/20130507/1068x600/11/2788/940.mp4"
       ]
      },
      {
       "output_type": "stream",
       "stream": "stdout",
       "text": [
        "\n",
        "  Mirrored 3560 bytes to 1068x600/11/2788/944.mp4 from https://earthengine.google.org/timelapse/data/20130507/1068x600/11/2788/944.mp4"
       ]
      },
      {
       "output_type": "stream",
       "stream": "stdout",
       "text": [
        "\n",
        "  Mirrored 3560 bytes to 1068x600/11/2788/948.mp4 from https://earthengine.google.org/timelapse/data/20130507/1068x600/11/2788/948.mp4"
       ]
      },
      {
       "output_type": "stream",
       "stream": "stdout",
       "text": [
        "\n",
        "  Mirrored 3560 bytes to 1068x600/11/2788/952.mp4 from https://earthengine.google.org/timelapse/data/20130507/1068x600/11/2788/952.mp4"
       ]
      },
      {
       "output_type": "stream",
       "stream": "stdout",
       "text": [
        "\n",
        "  Mirrored 3560 bytes to 1068x600/11/2788/956.mp4 from https://earthengine.google.org/timelapse/data/20130507/1068x600/11/2788/956.mp4"
       ]
      },
      {
       "output_type": "stream",
       "stream": "stdout",
       "text": [
        "\n",
        "  Mirrored 3560 bytes to 1068x600/11/2788/960.mp4 from https://earthengine.google.org/timelapse/data/20130507/1068x600/11/2788/960.mp4"
       ]
      },
      {
       "output_type": "stream",
       "stream": "stdout",
       "text": [
        "\n",
        "  Mirrored 1677261 bytes to 1068x600/11/2792/832.mp4 from https://earthengine.google.org/timelapse/data/20130507/1068x600/11/2792/832.mp4"
       ]
      },
      {
       "output_type": "stream",
       "stream": "stdout",
       "text": [
        "\n",
        "  Mirrored 1504834 bytes to 1068x600/11/2792/836.mp4 from https://earthengine.google.org/timelapse/data/20130507/1068x600/11/2792/836.mp4"
       ]
      },
      {
       "output_type": "stream",
       "stream": "stdout",
       "text": [
        "\n",
        "  Mirrored 1530547 bytes to 1068x600/11/2792/840.mp4 from https://earthengine.google.org/timelapse/data/20130507/1068x600/11/2792/840.mp4"
       ]
      },
      {
       "output_type": "stream",
       "stream": "stdout",
       "text": [
        "\n",
        "  Mirrored 1523447 bytes to 1068x600/11/2792/844.mp4 from https://earthengine.google.org/timelapse/data/20130507/1068x600/11/2792/844.mp4"
       ]
      },
      {
       "output_type": "stream",
       "stream": "stdout",
       "text": [
        "\n",
        "  Mirrored 1642080 bytes to 1068x600/11/2792/848.mp4 from https://earthengine.google.org/timelapse/data/20130507/1068x600/11/2792/848.mp4"
       ]
      },
      {
       "output_type": "stream",
       "stream": "stdout",
       "text": [
        "\n",
        "  Mirrored 1505430 bytes to 1068x600/11/2792/852.mp4 from https://earthengine.google.org/timelapse/data/20130507/1068x600/11/2792/852.mp4"
       ]
      },
      {
       "output_type": "stream",
       "stream": "stdout",
       "text": [
        "\n",
        "  Mirrored 1481653 bytes to 1068x600/11/2792/856.mp4 from https://earthengine.google.org/timelapse/data/20130507/1068x600/11/2792/856.mp4"
       ]
      },
      {
       "output_type": "stream",
       "stream": "stdout",
       "text": [
        "\n",
        "  Mirrored 1406009 bytes to 1068x600/11/2792/860.mp4 from https://earthengine.google.org/timelapse/data/20130507/1068x600/11/2792/860.mp4"
       ]
      },
      {
       "output_type": "stream",
       "stream": "stdout",
       "text": [
        "\n",
        "  Mirrored 1190213 bytes to 1068x600/11/2792/864.mp4 from https://earthengine.google.org/timelapse/data/20130507/1068x600/11/2792/864.mp4"
       ]
      },
      {
       "output_type": "stream",
       "stream": "stdout",
       "text": [
        "\n",
        "  Mirrored 732077 bytes to 1068x600/11/2792/868.mp4 from https://earthengine.google.org/timelapse/data/20130507/1068x600/11/2792/868.mp4"
       ]
      },
      {
       "output_type": "stream",
       "stream": "stdout",
       "text": [
        "\n",
        "  Mirrored 259505 bytes to 1068x600/11/2792/872.mp4 from https://earthengine.google.org/timelapse/data/20130507/1068x600/11/2792/872.mp4"
       ]
      },
      {
       "output_type": "stream",
       "stream": "stdout",
       "text": [
        "\n",
        "  Mirrored 391777 bytes to 1068x600/11/2792/876.mp4 from https://earthengine.google.org/timelapse/data/20130507/1068x600/11/2792/876.mp4"
       ]
      },
      {
       "output_type": "stream",
       "stream": "stdout",
       "text": [
        "\n",
        "  Mirrored 235881 bytes to 1068x600/11/2792/880.mp4 from https://earthengine.google.org/timelapse/data/20130507/1068x600/11/2792/880.mp4"
       ]
      },
      {
       "output_type": "stream",
       "stream": "stdout",
       "text": [
        "\n",
        "  Mirrored 3560 bytes to 1068x600/11/2792/884.mp4 from https://earthengine.google.org/timelapse/data/20130507/1068x600/11/2792/884.mp4"
       ]
      },
      {
       "output_type": "stream",
       "stream": "stdout",
       "text": [
        "\n",
        "  Mirrored 3560 bytes to 1068x600/11/2792/888.mp4 from https://earthengine.google.org/timelapse/data/20130507/1068x600/11/2792/888.mp4"
       ]
      },
      {
       "output_type": "stream",
       "stream": "stdout",
       "text": [
        "\n",
        "  Mirrored 3560 bytes to 1068x600/11/2792/892.mp4 from https://earthengine.google.org/timelapse/data/20130507/1068x600/11/2792/892.mp4"
       ]
      },
      {
       "output_type": "stream",
       "stream": "stdout",
       "text": [
        "\n",
        "  Mirrored 3560 bytes to 1068x600/11/2792/896.mp4 from https://earthengine.google.org/timelapse/data/20130507/1068x600/11/2792/896.mp4"
       ]
      },
      {
       "output_type": "stream",
       "stream": "stdout",
       "text": [
        "\n",
        "  Mirrored 3560 bytes to 1068x600/11/2792/900.mp4 from https://earthengine.google.org/timelapse/data/20130507/1068x600/11/2792/900.mp4"
       ]
      },
      {
       "output_type": "stream",
       "stream": "stdout",
       "text": [
        "\n",
        "  Mirrored 3560 bytes to 1068x600/11/2792/904.mp4 from https://earthengine.google.org/timelapse/data/20130507/1068x600/11/2792/904.mp4"
       ]
      },
      {
       "output_type": "stream",
       "stream": "stdout",
       "text": [
        "\n",
        "  Mirrored 3560 bytes to 1068x600/11/2792/908.mp4 from https://earthengine.google.org/timelapse/data/20130507/1068x600/11/2792/908.mp4"
       ]
      },
      {
       "output_type": "stream",
       "stream": "stdout",
       "text": [
        "\n",
        "  Mirrored 3560 bytes to 1068x600/11/2792/912.mp4 from https://earthengine.google.org/timelapse/data/20130507/1068x600/11/2792/912.mp4"
       ]
      },
      {
       "output_type": "stream",
       "stream": "stdout",
       "text": [
        "\n",
        "  Mirrored 3560 bytes to 1068x600/11/2792/916.mp4 from https://earthengine.google.org/timelapse/data/20130507/1068x600/11/2792/916.mp4"
       ]
      },
      {
       "output_type": "stream",
       "stream": "stdout",
       "text": [
        "\n",
        "  Mirrored 3560 bytes to 1068x600/11/2792/920.mp4 from https://earthengine.google.org/timelapse/data/20130507/1068x600/11/2792/920.mp4"
       ]
      },
      {
       "output_type": "stream",
       "stream": "stdout",
       "text": [
        "\n",
        "  Mirrored 12014 bytes to 1068x600/11/2792/924.mp4 from https://earthengine.google.org/timelapse/data/20130507/1068x600/11/2792/924.mp4"
       ]
      },
      {
       "output_type": "stream",
       "stream": "stdout",
       "text": [
        "\n",
        "  Mirrored 64471 bytes to 1068x600/11/2792/928.mp4 from https://earthengine.google.org/timelapse/data/20130507/1068x600/11/2792/928.mp4"
       ]
      },
      {
       "output_type": "stream",
       "stream": "stdout",
       "text": [
        "\n",
        "  Mirrored 3560 bytes to 1068x600/11/2792/932.mp4 from https://earthengine.google.org/timelapse/data/20130507/1068x600/11/2792/932.mp4"
       ]
      },
      {
       "output_type": "stream",
       "stream": "stdout",
       "text": [
        "\n",
        "  Mirrored 3560 bytes to 1068x600/11/2792/936.mp4 from https://earthengine.google.org/timelapse/data/20130507/1068x600/11/2792/936.mp4"
       ]
      },
      {
       "output_type": "stream",
       "stream": "stdout",
       "text": [
        "\n",
        "  Mirrored 3560 bytes to 1068x600/11/2792/940.mp4 from https://earthengine.google.org/timelapse/data/20130507/1068x600/11/2792/940.mp4"
       ]
      },
      {
       "output_type": "stream",
       "stream": "stdout",
       "text": [
        "\n",
        "  Mirrored 3560 bytes to 1068x600/11/2792/944.mp4 from https://earthengine.google.org/timelapse/data/20130507/1068x600/11/2792/944.mp4"
       ]
      },
      {
       "output_type": "stream",
       "stream": "stdout",
       "text": [
        "\n",
        "  Mirrored 3560 bytes to 1068x600/11/2792/948.mp4 from https://earthengine.google.org/timelapse/data/20130507/1068x600/11/2792/948.mp4"
       ]
      },
      {
       "output_type": "stream",
       "stream": "stdout",
       "text": [
        "\n",
        "  Mirrored 3560 bytes to 1068x600/11/2792/952.mp4 from https://earthengine.google.org/timelapse/data/20130507/1068x600/11/2792/952.mp4"
       ]
      },
      {
       "output_type": "stream",
       "stream": "stdout",
       "text": [
        "\n",
        "  Mirrored 3560 bytes to 1068x600/11/2792/956.mp4 from https://earthengine.google.org/timelapse/data/20130507/1068x600/11/2792/956.mp4"
       ]
      },
      {
       "output_type": "stream",
       "stream": "stdout",
       "text": [
        "\n",
        "  Mirrored 3560 bytes to 1068x600/11/2792/960.mp4 from https://earthengine.google.org/timelapse/data/20130507/1068x600/11/2792/960.mp4"
       ]
      },
      {
       "output_type": "stream",
       "stream": "stdout",
       "text": [
        "\n",
        "  Mirrored 1639049 bytes to 1068x600/11/2796/832.mp4 from https://earthengine.google.org/timelapse/data/20130507/1068x600/11/2796/832.mp4"
       ]
      },
      {
       "output_type": "stream",
       "stream": "stdout",
       "text": [
        "\n",
        "  Mirrored 1565849 bytes to 1068x600/11/2796/836.mp4 from https://earthengine.google.org/timelapse/data/20130507/1068x600/11/2796/836.mp4"
       ]
      },
      {
       "output_type": "stream",
       "stream": "stdout",
       "text": [
        "\n",
        "  Mirrored 1480080 bytes to 1068x600/11/2796/840.mp4 from https://earthengine.google.org/timelapse/data/20130507/1068x600/11/2796/840.mp4"
       ]
      },
      {
       "output_type": "stream",
       "stream": "stdout",
       "text": [
        "\n",
        "  Mirrored 1502220 bytes to 1068x600/11/2796/844.mp4 from https://earthengine.google.org/timelapse/data/20130507/1068x600/11/2796/844.mp4"
       ]
      },
      {
       "output_type": "stream",
       "stream": "stdout",
       "text": [
        "\n",
        "  Mirrored 1572932 bytes to 1068x600/11/2796/848.mp4 from https://earthengine.google.org/timelapse/data/20130507/1068x600/11/2796/848.mp4"
       ]
      },
      {
       "output_type": "stream",
       "stream": "stdout",
       "text": [
        "\n",
        "  Mirrored 1546899 bytes to 1068x600/11/2796/852.mp4 from https://earthengine.google.org/timelapse/data/20130507/1068x600/11/2796/852.mp4"
       ]
      },
      {
       "output_type": "stream",
       "stream": "stdout",
       "text": [
        "\n",
        "  Mirrored 1583902 bytes to 1068x600/11/2796/856.mp4 from https://earthengine.google.org/timelapse/data/20130507/1068x600/11/2796/856.mp4"
       ]
      },
      {
       "output_type": "stream",
       "stream": "stdout",
       "text": [
        "\n",
        "  Mirrored 1632836 bytes to 1068x600/11/2796/860.mp4 from https://earthengine.google.org/timelapse/data/20130507/1068x600/11/2796/860.mp4"
       ]
      },
      {
       "output_type": "stream",
       "stream": "stdout",
       "text": [
        "\n",
        "  Mirrored 994642 bytes to 1068x600/11/2796/864.mp4 from https://earthengine.google.org/timelapse/data/20130507/1068x600/11/2796/864.mp4"
       ]
      },
      {
       "output_type": "stream",
       "stream": "stdout",
       "text": [
        "\n",
        "  Mirrored 315037 bytes to 1068x600/11/2796/868.mp4 from https://earthengine.google.org/timelapse/data/20130507/1068x600/11/2796/868.mp4"
       ]
      },
      {
       "output_type": "stream",
       "stream": "stdout",
       "text": [
        "\n",
        "  Mirrored 472527 bytes to 1068x600/11/2796/872.mp4 from https://earthengine.google.org/timelapse/data/20130507/1068x600/11/2796/872.mp4"
       ]
      },
      {
       "output_type": "stream",
       "stream": "stdout",
       "text": [
        "\n",
        "  Mirrored 453451 bytes to 1068x600/11/2796/876.mp4 from https://earthengine.google.org/timelapse/data/20130507/1068x600/11/2796/876.mp4"
       ]
      },
      {
       "output_type": "stream",
       "stream": "stdout",
       "text": [
        "\n",
        "  Mirrored 19567 bytes to 1068x600/11/2796/880.mp4 from https://earthengine.google.org/timelapse/data/20130507/1068x600/11/2796/880.mp4"
       ]
      },
      {
       "output_type": "stream",
       "stream": "stdout",
       "text": [
        "\n",
        "  Mirrored 3560 bytes to 1068x600/11/2796/884.mp4 from https://earthengine.google.org/timelapse/data/20130507/1068x600/11/2796/884.mp4"
       ]
      },
      {
       "output_type": "stream",
       "stream": "stdout",
       "text": [
        "\n",
        "  Mirrored 3560 bytes to 1068x600/11/2796/888.mp4 from https://earthengine.google.org/timelapse/data/20130507/1068x600/11/2796/888.mp4"
       ]
      },
      {
       "output_type": "stream",
       "stream": "stdout",
       "text": [
        "\n",
        "  Mirrored 3560 bytes to 1068x600/11/2796/892.mp4 from https://earthengine.google.org/timelapse/data/20130507/1068x600/11/2796/892.mp4"
       ]
      },
      {
       "output_type": "stream",
       "stream": "stdout",
       "text": [
        "\n",
        "  Mirrored 3560 bytes to 1068x600/11/2796/896.mp4 from https://earthengine.google.org/timelapse/data/20130507/1068x600/11/2796/896.mp4"
       ]
      },
      {
       "output_type": "stream",
       "stream": "stdout",
       "text": [
        "\n",
        "  Mirrored 3560 bytes to 1068x600/11/2796/900.mp4 from https://earthengine.google.org/timelapse/data/20130507/1068x600/11/2796/900.mp4"
       ]
      },
      {
       "output_type": "stream",
       "stream": "stdout",
       "text": [
        "\n",
        "  Mirrored 3560 bytes to 1068x600/11/2796/904.mp4 from https://earthengine.google.org/timelapse/data/20130507/1068x600/11/2796/904.mp4"
       ]
      },
      {
       "output_type": "stream",
       "stream": "stdout",
       "text": [
        "\n",
        "  Mirrored 3560 bytes to 1068x600/11/2796/908.mp4 from https://earthengine.google.org/timelapse/data/20130507/1068x600/11/2796/908.mp4"
       ]
      },
      {
       "output_type": "stream",
       "stream": "stdout",
       "text": [
        "\n",
        "  Mirrored 3560 bytes to 1068x600/11/2796/912.mp4 from https://earthengine.google.org/timelapse/data/20130507/1068x600/11/2796/912.mp4"
       ]
      },
      {
       "output_type": "stream",
       "stream": "stdout",
       "text": [
        "\n",
        "  Mirrored 3560 bytes to 1068x600/11/2796/916.mp4 from https://earthengine.google.org/timelapse/data/20130507/1068x600/11/2796/916.mp4"
       ]
      },
      {
       "output_type": "stream",
       "stream": "stdout",
       "text": [
        "\n",
        "  Mirrored 3560 bytes to 1068x600/11/2796/920.mp4 from https://earthengine.google.org/timelapse/data/20130507/1068x600/11/2796/920.mp4"
       ]
      },
      {
       "output_type": "stream",
       "stream": "stdout",
       "text": [
        "\n",
        "  Mirrored 3560 bytes to 1068x600/11/2796/924.mp4 from https://earthengine.google.org/timelapse/data/20130507/1068x600/11/2796/924.mp4"
       ]
      },
      {
       "output_type": "stream",
       "stream": "stdout",
       "text": [
        "\n",
        "  Mirrored 3560 bytes to 1068x600/11/2796/928.mp4 from https://earthengine.google.org/timelapse/data/20130507/1068x600/11/2796/928.mp4"
       ]
      },
      {
       "output_type": "stream",
       "stream": "stdout",
       "text": [
        "\n",
        "  Mirrored 3560 bytes to 1068x600/11/2796/932.mp4 from https://earthengine.google.org/timelapse/data/20130507/1068x600/11/2796/932.mp4"
       ]
      },
      {
       "output_type": "stream",
       "stream": "stdout",
       "text": [
        "\n",
        "  Mirrored 3560 bytes to 1068x600/11/2796/936.mp4 from https://earthengine.google.org/timelapse/data/20130507/1068x600/11/2796/936.mp4"
       ]
      },
      {
       "output_type": "stream",
       "stream": "stdout",
       "text": [
        "\n",
        "  Mirrored 3560 bytes to 1068x600/11/2796/940.mp4 from https://earthengine.google.org/timelapse/data/20130507/1068x600/11/2796/940.mp4"
       ]
      },
      {
       "output_type": "stream",
       "stream": "stdout",
       "text": [
        "\n",
        "  Mirrored 3560 bytes to 1068x600/11/2796/944.mp4 from https://earthengine.google.org/timelapse/data/20130507/1068x600/11/2796/944.mp4"
       ]
      },
      {
       "output_type": "stream",
       "stream": "stdout",
       "text": [
        "\n",
        "  Mirrored 3560 bytes to 1068x600/11/2796/948.mp4 from https://earthengine.google.org/timelapse/data/20130507/1068x600/11/2796/948.mp4"
       ]
      },
      {
       "output_type": "stream",
       "stream": "stdout",
       "text": [
        "\n",
        "  Mirrored 3560 bytes to 1068x600/11/2796/952.mp4 from https://earthengine.google.org/timelapse/data/20130507/1068x600/11/2796/952.mp4"
       ]
      },
      {
       "output_type": "stream",
       "stream": "stdout",
       "text": [
        "\n",
        "  Mirrored 3560 bytes to 1068x600/11/2796/956.mp4 from https://earthengine.google.org/timelapse/data/20130507/1068x600/11/2796/956.mp4"
       ]
      },
      {
       "output_type": "stream",
       "stream": "stdout",
       "text": [
        "\n",
        "  Mirrored 3560 bytes to 1068x600/11/2796/960.mp4 from https://earthengine.google.org/timelapse/data/20130507/1068x600/11/2796/960.mp4"
       ]
      },
      {
       "output_type": "stream",
       "stream": "stdout",
       "text": [
        "\n"
       ]
      }
     ],
     "prompt_number": 12
    },
    {
     "cell_type": "code",
     "collapsed": false,
     "input": [
      "!du -sh 1068x600"
     ],
     "language": "python",
     "metadata": {},
     "outputs": [
      {
       "output_type": "stream",
       "stream": "stdout",
       "text": [
        "2.4G\t1068x600\r\n"
       ]
      }
     ],
     "prompt_number": 13
    }
   ],
   "metadata": {}
  }
 ]
}