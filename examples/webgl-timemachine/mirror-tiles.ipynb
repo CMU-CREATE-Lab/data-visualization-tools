{
 "metadata": {
  "name": "",
  "signature": "sha256:57779c31d7853cc26209af91a8ee5b5e992e6956880a10b2640a0d0fe124f6aa"
 },
 "nbformat": 3,
 "nbformat_minor": 0,
 "worksheets": [
  {
   "cells": [
    {
     "cell_type": "code",
     "collapsed": false,
     "input": [
      "import json, math, os, urllib2"
     ],
     "language": "python",
     "metadata": {},
     "outputs": []
    },
    {
     "cell_type": "code",
     "collapsed": false,
     "input": [
      "upperLeft = [-100, 36]\n",
      "lowerRight = [-88, 28]"
     ],
     "language": "python",
     "metadata": {},
     "outputs": []
    },
    {
     "cell_type": "code",
     "collapsed": false,
     "input": [
      "# Use google maps Mercator projection to convert from\n",
      "# [lon, lat] in degrees to 0-256\n",
      "\n",
      "def LonLatToPixelXY(lonlat):\n",
      "    (lon, lat) = lonlat\n",
      "    x = (lon + 180.0) * 256.0 / 360.0\n",
      "    y = 128.0 - math.log(math.tan((lat + 90.0) * math.pi / 360.0)) * 128.0 / math.pi\n",
      "    return [x, y]\n",
      "\n",
      "def PixelXYToLonLat(xy):\n",
      "    (x, y) = xy\n",
      "    lat = math.atan(math.exp((128.0 - y) * math.pi / 128.0)) * 360.0 / math.pi - 90.0\n",
      "    lon = x * 360.0 / 256.0 - 180.0\n",
      "    return [lon, lat]"
     ],
     "language": "python",
     "metadata": {},
     "outputs": []
    },
    {
     "cell_type": "code",
     "collapsed": false,
     "input": [
      "root = 'https://earthengine.google.org/timelapse/data/20130507/1068x600'\n",
      "r = json.loads(urllib2.urlopen(root + '/r.json').read())\n",
      "r"
     ],
     "language": "python",
     "metadata": {},
     "outputs": []
    },
    {
     "cell_type": "code",
     "collapsed": false,
     "input": [
      "def fetch_tile(level, x, y):\n",
      "    name = '%d/%d/%d.mp4' % (level, y * 4, x * 4)\n",
      "    src = '%s/%s' % (root, name)\n",
      "    dest = '1068x600/%s' % name\n",
      "    if os.path.exists(dest):\n",
      "        print '  %s already exists, skipping' % dest\n",
      "    else:\n",
      "        try:\n",
      "            os.makedirs(os.path.dirname(dest))\n",
      "        except OSError:\n",
      "            pass\n",
      "        data = urllib2.urlopen(src).read()\n",
      "        open(dest + '.tmp', 'w').write(data)\n",
      "        os.rename(dest + '.tmp', dest)\n",
      "        print '  Mirrored %d bytes to %s from %s' % (len(data), dest, src)\n",
      "    \n",
      "(leftProj, topProj) = LonLatToPixelXY(upperLeft)\n",
      "(rightProj, bottomProj) = LonLatToPixelXY(lowerRight)\n",
      "\n",
      "for level in range(0, r['nlevels']):\n",
      "    subsample = (r['nlevels'] - 1 - level)\n",
      "    left = int(math.floor(leftProj * r['width'] / 256.0 / r['video_width'])) >> subsample\n",
      "    right = int(math.ceil(rightProj * r['width'] / 256.0 / r['video_width'])) >> subsample\n",
      "    top = int(math.floor(topProj * r['height'] / 256.0 / r['video_height'])) >> subsample\n",
      "    bottom = int(math.floor(bottomProj * r['height'] / 256.0 / r['video_height'])) >> subsample\n",
      "    print ('At level %d want to fetch from (%d, %d) to (%d, %d)' %\n",
      "        (level, left, top, right, bottom))\n",
      "\n",
      "    for y in range(top, bottom + 1):\n",
      "        for x in range(left, right + 1):\n",
      "            fetch_tile(level, x, y)"
     ],
     "language": "python",
     "metadata": {},
     "outputs": []
    },
    {
     "cell_type": "code",
     "collapsed": false,
     "input": [
      "!du -sh 1068x600"
     ],
     "language": "python",
     "metadata": {},
     "outputs": []
    }
   ],
   "metadata": {}
  }
 ]
}