{
 "metadata": {
  "name": "",
  "signature": "sha256:cb60e3bd6df168dcccb309a2c730d9bf098312d9bf6d2c0141253242fb0ebba0"
 },
 "nbformat": 3,
 "nbformat_minor": 0,
 "worksheets": [
  {
   "cells": [
    {
     "cell_type": "code",
     "collapsed": false,
     "input": [
      "import os\n",
      "tile_url = 'http://data.cmucreatelab.org/wdpaline-year/1/1/0.json'\n",
      "tile = '1-1-0.json'\n",
      "if not os.path.exists(tile):\n",
      "    !wget $tile_url -O $tile\n",
      "print \"Tile is %d bytes\" % os.path.getsize(tile)"
     ],
     "language": "python",
     "metadata": {},
     "outputs": [
      {
       "output_type": "stream",
       "stream": "stdout",
       "text": [
        "Tile is 26629304 bytes\n"
       ]
      }
     ],
     "prompt_number": 9
    },
    {
     "cell_type": "code",
     "collapsed": false,
     "input": [
      "f = file(tile)\n",
      "import json\n",
      "tile_dict = json.load(f)\n"
     ],
     "language": "python",
     "metadata": {},
     "outputs": [
      {
       "ename": "AttributeError",
       "evalue": "'dict' object has no attribute '_className_'",
       "output_type": "pyerr",
       "traceback": [
        "\u001b[0;31m---------------------------------------------------------------------------\u001b[0m\n\u001b[0;31mAttributeError\u001b[0m                            Traceback (most recent call last)",
        "\u001b[0;32m<ipython-input-14-a72cfac7391e>\u001b[0m in \u001b[0;36m<module>\u001b[0;34m()\u001b[0m\n\u001b[1;32m      2\u001b[0m \u001b[0;32mimport\u001b[0m \u001b[0mjson\u001b[0m\u001b[0;34m\u001b[0m\u001b[0m\n\u001b[1;32m      3\u001b[0m \u001b[0mtile_dict\u001b[0m \u001b[0;34m=\u001b[0m \u001b[0mjson\u001b[0m\u001b[0;34m.\u001b[0m\u001b[0mload\u001b[0m\u001b[0;34m(\u001b[0m\u001b[0mf\u001b[0m\u001b[0;34m)\u001b[0m\u001b[0;34m\u001b[0m\u001b[0m\n\u001b[0;32m----> 4\u001b[0;31m \u001b[0;32mprint\u001b[0m \u001b[0mtile_dict\u001b[0m\u001b[0;34m.\u001b[0m\u001b[0m_className_\u001b[0m\u001b[0;34m\u001b[0m\u001b[0m\n\u001b[0m",
        "\u001b[0;31mAttributeError\u001b[0m: 'dict' object has no attribute '_className_'"
       ]
      }
     ],
     "prompt_number": 14
    },
    {
     "cell_type": "code",
     "collapsed": false,
     "input": [
      "dates = []\n",
      "points = []\n",
      "\n",
      "import math\n",
      "def LonLatToPixelXY(lonlat):\n",
      "    (lon, lat) = lonlat\n",
      "    x = (lon + 180.0) * 256.0 / 360.0\n",
      "    y = 128.0 - math.log(math.tan((lat + 90.0) * math.pi / 360.0)) * 128.0 / math.pi\n",
      "    return [x, y]\n",
      "\n",
      "def LineString(coordinates, date):\n",
      "    if date == 0:\n",
      "      date = 1984\n",
      "    for i, point in enumerate(coordinates):\n",
      "        pixel = LonLatToPixelXY(point)\n",
      "        scale = 1335834 / 256;\n",
      "        points.append(pixel[0]*scale)\n",
      "        points.append(pixel[1]*scale)\n",
      "        dates.append(date)\n",
      "        if i != 0 and i != len(coordinates) - 1:\n",
      "          points.append(pixel[0]*scale)\n",
      "          points.append(pixel[1]*scale)\n",
      "          dates.append(date)\n",
      "\n",
      "def MultiLineString(coordinates, date):\n",
      "    for coordinate in coordinates:\n",
      "        LineString(coordinate, date)\n",
      "        \n",
      "features = tile_dict['features']\n",
      "for feature in enumerate(features):\n",
      "    properties = feature[1]['properties']\n",
      "    geometry = feature[1]['geometry']\n",
      "    if properties['gid'] != 34014 and properties['gid'] != 33963:\n",
      "      if geometry['type'] == \"LineString\":\n",
      "        LineString(geometry['coordinates'], properties['status_yr'])\n",
      "      if geometry['type'] == \"MultiLineString\":\n",
      "        MultiLineString(geometry['coordinates'], properties['status_yr'])\n",
      "print len(points)\n",
      "print len(dates)"
     ],
     "language": "python",
     "metadata": {},
     "outputs": [
      {
       "output_type": "stream",
       "stream": "stdout",
       "text": [
        "2109060\n",
        "1054530\n"
       ]
      }
     ],
     "prompt_number": 58
    },
    {
     "cell_type": "code",
     "collapsed": false,
     "input": [],
     "language": "python",
     "metadata": {},
     "outputs": [
      {
       "metadata": {},
       "output_type": "pyout",
       "prompt_number": 55,
       "text": [
        "{u'gid': 140293, u'status_yr': 2003}"
       ]
      }
     ],
     "prompt_number": 55
    },
    {
     "cell_type": "code",
     "collapsed": false,
     "input": [],
     "language": "python",
     "metadata": {},
     "outputs": []
    }
   ],
   "metadata": {}
  }
 ]
}