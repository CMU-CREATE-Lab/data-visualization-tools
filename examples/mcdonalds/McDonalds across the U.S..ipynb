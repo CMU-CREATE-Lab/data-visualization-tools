{
 "metadata": {
  "name": ""
 },
 "nbformat": 3,
 "nbformat_minor": 0,
 "worksheets": [
  {
   "cells": [
    {
     "cell_type": "code",
     "collapsed": false,
     "input": [
      "from scipy import *\n",
      "from pylab import *\n",
      "from pandas import *\n",
      "%matplotlib inline"
     ],
     "language": "python",
     "metadata": {},
     "outputs": [],
     "prompt_number": 1
    },
    {
     "cell_type": "code",
     "collapsed": false,
     "input": [
      "import os\n",
      "import json\n",
      "\n",
      "locations_path = os.path.expanduser('~/projects/mcdonalds/mcdonalds_locations.json')\n",
      "\n",
      "def read_or_create_locations():\n",
      "    try:\n",
      "        locations = json.load(open(locations_path))\n",
      "        print 'Read %d locations from %s' % (len(locations), locations_path)\n",
      "    except StandardError:\n",
      "        locations = []\n",
      "        print '%s does not exist; creating' % locations_path\n",
      "        write_locations(locations)\n",
      "    return locations\n",
      "\n",
      "def write_locations(locations):\n",
      "    try:\n",
      "        os.makedirs(os.path.dirname(locations_path))\n",
      "    except StandardError:\n",
      "        pass\n",
      "    json.dump(locations, open(locations_path + '.tmp', 'w'), indent=2)\n",
      "    os.rename(locations_path + '.tmp', locations_path)\n",
      "    print 'Wrote %d locations to %s' % (len(locations), locations_path)"
     ],
     "language": "python",
     "metadata": {},
     "outputs": [],
     "prompt_number": 2
    },
    {
     "cell_type": "code",
     "collapsed": false,
     "input": [
      "locations = read_or_create_locations()"
     ],
     "language": "python",
     "metadata": {},
     "outputs": [
      {
       "output_type": "stream",
       "stream": "stdout",
       "text": [
        "Read 1218 locations from /Users/rsargent/projects/mcdonalds/mcdonalds_locations.json\n"
       ]
      }
     ],
     "prompt_number": 4
    },
    {
     "cell_type": "code",
     "collapsed": false,
     "input": [
      "import urllib\n",
      "import urllib2\n",
      "from scrapy.selector import Selector\n",
      "\n",
      "# If \"No module named scrapy.selector\", install from commandline with \"pip install scrapy\"\n",
      "# If you see errors about zope.interface, try \"pip install --update zope.interface\"\n",
      "#       and then restart the kernel (Kernel/Restart, above).\n",
      "\n",
      "# This API has a daily limit per IP address\n",
      "def geocode(address):\n",
      "    url = 'http://maps.googleapis.com/maps/api/geocode/json?%s' % urllib.urlencode({'address': address, 'sensor': 'false'})\n",
      "    geocode = json.loads(urllib2.urlopen(url).read())\n",
      "    if geocode['status'] == 'OK' and geocode['results']:\n",
      "        return geocode['results'][0]['geometry']['location']\n",
      "    elif geocode['status'] <> 'ZERO_RESULTS':\n",
      "        msg = 'When trying to geocode address %s by reading url %s, received a status != OK: %s' % (address, url, geocode['status'])\n",
      "        print msg\n",
      "        raise Exception(msg)\n",
      "    else:\n",
      "        return False\n",
      "\n",
      "def scrape_store(store_number):\n",
      "    url = \"http://www.mcpennsylvania.com/%d\" % store_number\n",
      "    print \"Trying to fetch store# %d from %s\" % (store_number, url)\n",
      "    html = urllib2.urlopen(url).read()\n",
      "    print \"  Read %d bytes\" % len(html)\n",
      "    selector = Selector(text = html)\n",
      "    address = '\\n'.join(selector.xpath('//li[contains(@class, \"address\")]/h3/text()').extract())\n",
      "    if address:\n",
      "        location = {'store_number': store_number, 'address': address}\n",
      "        print '  Address is %s' % address.replace('\\n', '|')\n",
      "        latlng = geocode(address)\n",
      "        if latlng:\n",
      "            print '  Geocoded to %s' % latlng\n",
      "            location['lat'] = latlng['lat']\n",
      "            location['lng'] = latlng['lng']\n",
      "        else:\n",
      "            print '  No geocode'\n",
      "        return location\n",
      "    else:\n",
      "        print '  Store not found'\n",
      "        return False"
     ],
     "language": "python",
     "metadata": {},
     "outputs": [],
     "prompt_number": 10
    },
    {
     "cell_type": "code",
     "collapsed": false,
     "input": [
      "# If you start running over quota for geolocation, consider finding an HTTP proxy at http://www.hidemyass.com/proxy-list\n",
      "# and switching to that proxy with this command\n",
      "#\n",
      "# urllib2.install_opener(urllib2.build_opener(urllib2.ProxyHandler({'http': '168.63.167.183'})))\n",
      "#\n",
      "# Or, sign up for a \"Pro VPN\" account from HMA and configure to randomly change IP address periodically"
     ],
     "language": "python",
     "metadata": {},
     "outputs": [],
     "prompt_number": 11
    },
    {
     "cell_type": "code",
     "collapsed": false,
     "input": [
      "last_store = 17000\n",
      "\n",
      "starting_store = (max([location['store_number'] for location in locations]) + 1) if locations else 1\n",
      "\n",
      "added = 0\n",
      "for store_number in range(starting_store, last_store + 1):\n",
      "    location = scrape_store(store_number)\n",
      "    if location:\n",
      "        locations.append(location)\n",
      "        added += 1\n",
      "        if added % 10 == 0:\n",
      "            # Checkpoint:  save all locations\n",
      "            write_locations(locations)\n",
      "\n",
      "if added:\n",
      "    write_locations(locations)"
     ],
     "language": "python",
     "metadata": {},
     "outputs": [
      {
       "output_type": "stream",
       "stream": "stdout",
       "text": [
        "Trying to fetch store# 3778 from http://www.mcpennsylvania.com/3778\n",
        "  Read 6543 bytes"
       ]
      },
      {
       "output_type": "stream",
       "stream": "stdout",
       "text": [
        "\n",
        "  Store not found\n",
        "Trying to fetch store# 3779 from http://www.mcpennsylvania.com/3779\n",
        "  Read 8512 bytes"
       ]
      },
      {
       "output_type": "stream",
       "stream": "stdout",
       "text": [
        "\n",
        "  Store not found\n",
        "Trying to fetch store# 3780 from http://www.mcpennsylvania.com/3780\n",
        "  Read 22428 bytes"
       ]
      },
      {
       "output_type": "stream",
       "stream": "stdout",
       "text": [
        "\n",
        "  Address is 1701 Veterans Hwy|Del Rio, TX 78840\n",
        "  No geocode"
       ]
      },
      {
       "output_type": "stream",
       "stream": "stdout",
       "text": [
        "\n",
        "Trying to fetch store# 3781 from http://www.mcpennsylvania.com/3781\n",
        "  Read 14614 bytes"
       ]
      },
      {
       "output_type": "stream",
       "stream": "stdout",
       "text": [
        "\n",
        "  Address is 208 S 14th St.|Kingsville, TX 78363\n",
        "  Geocoded to {u'lat': 27.515437, u'lng': -97.85555579999999}"
       ]
      },
      {
       "output_type": "stream",
       "stream": "stdout",
       "text": [
        "\n",
        "Trying to fetch store# 3782 from http://www.mcpennsylvania.com/3782\n",
        "  Read 13593 bytes"
       ]
      },
      {
       "output_type": "stream",
       "stream": "stdout",
       "text": [
        "\n",
        "  Address is 2156 Niagara St.|Buffalo, NY 14207\n",
        "  Geocoded to {u'lat': 42.943133, u'lng': -78.907135}"
       ]
      },
      {
       "output_type": "stream",
       "stream": "stdout",
       "text": [
        "\n",
        "Trying to fetch store# 3783 from http://www.mcpennsylvania.com/3783\n",
        "  Read 16886 bytes"
       ]
      },
      {
       "output_type": "stream",
       "stream": "stdout",
       "text": [
        "\n",
        "  Address is 180 Montgomery Rd.|South Williamsport, PA 17702\n",
        "  Geocoded to {u'lat': 41.2288112, u'lng': -76.9645321}"
       ]
      },
      {
       "output_type": "stream",
       "stream": "stdout",
       "text": [
        "\n",
        "Trying to fetch store# 3784 from http://www.mcpennsylvania.com/3784\n",
        "  Read 22342 bytes"
       ]
      },
      {
       "output_type": "stream",
       "stream": "stdout",
       "text": [
        "\n",
        "  Address is 2167 S. Atherton St.|State College, PA 16801\n",
        "  Geocoded to {u'lat': 40.7846122, u'lng': -77.82905199999999}"
       ]
      },
      {
       "output_type": "stream",
       "stream": "stdout",
       "text": [
        "\n",
        "Trying to fetch store# 3785 from http://www.mcpennsylvania.com/3785\n",
        "  Read 15255 bytes"
       ]
      },
      {
       "output_type": "stream",
       "stream": "stdout",
       "text": [
        "\n",
        "  Address is 515 W. Main St.|Branson, MO 65616\n",
        "  Geocoded to {u'lat': 36.6447239, u'lng': -93.222976}"
       ]
      },
      {
       "output_type": "stream",
       "stream": "stdout",
       "text": [
        "\n",
        "Trying to fetch store# 3786 from http://www.mcpennsylvania.com/3786\n",
        "  Read 8512 bytes"
       ]
      },
      {
       "output_type": "stream",
       "stream": "stdout",
       "text": [
        "\n",
        "  Store not found\n",
        "Trying to fetch store# 3787 from http://www.mcpennsylvania.com/3787\n",
        "  Read 16614 bytes"
       ]
      },
      {
       "output_type": "stream",
       "stream": "stdout",
       "text": [
        "\n",
        "  Address is 3679 Sewells Point Rd|Norfolk, VA 23513\n",
        "  Geocoded to {u'lat': 36.8895189, u'lng': -76.23848540000002}"
       ]
      },
      {
       "output_type": "stream",
       "stream": "stdout",
       "text": [
        "\n",
        "Trying to fetch store# 3788 from http://www.mcpennsylvania.com/3788\n",
        "  Read 15081 bytes"
       ]
      },
      {
       "output_type": "stream",
       "stream": "stdout",
       "text": [
        "\n",
        "  Address is 207 North Galena|Dixon, IL 61021\n",
        "  Geocoded to {u'lat': 41.8475008, u'lng': -89.48447709999999}"
       ]
      },
      {
       "output_type": "stream",
       "stream": "stdout",
       "text": [
        "\n",
        "Trying to fetch store# 3789 from http://www.mcpennsylvania.com/3789\n",
        "  Read 16409 bytes"
       ]
      },
      {
       "output_type": "stream",
       "stream": "stdout",
       "text": [
        "\n",
        "  Address is 4000 West 41st Street|Sioux Falls, SD 57103\n",
        "  Geocoded to {u'lat': 43.5148111, u'lng': -96.675343}"
       ]
      },
      {
       "output_type": "stream",
       "stream": "stdout",
       "text": [
        "\n",
        "Trying to fetch store# 3790 from http://www.mcpennsylvania.com/3790\n",
        "  Read 17401 bytes"
       ]
      },
      {
       "output_type": "stream",
       "stream": "stdout",
       "text": [
        "\n",
        "  Address is 488 490th Court St.|Binghamton, NY 13904\n",
        "  Geocoded to {u'lat': 42.1031082, u'lng': -75.8671652}"
       ]
      },
      {
       "output_type": "stream",
       "stream": "stdout",
       "text": [
        "\n",
        "Wrote 2487 locations to /Users/rsargent/projects/mcdonalds/mcdonalds_locations.json"
       ]
      },
      {
       "output_type": "stream",
       "stream": "stdout",
       "text": [
        "\n",
        "Trying to fetch store# 3791 from http://www.mcpennsylvania.com/3791\n",
        "  Read 17396 bytes"
       ]
      },
      {
       "output_type": "stream",
       "stream": "stdout",
       "text": [
        "\n",
        "  Address is 3934 Everhard|Canton, OH 44709\n",
        "  Geocoded to {u'lat': 40.858999, u'lng': -81.42038}"
       ]
      },
      {
       "output_type": "stream",
       "stream": "stdout",
       "text": [
        "\n",
        "Trying to fetch store# 3792 from http://www.mcpennsylvania.com/3792\n",
        "  Read 6543 bytes"
       ]
      },
      {
       "output_type": "stream",
       "stream": "stdout",
       "text": [
        "\n",
        "  Store not found\n",
        "Trying to fetch store# 3793 from http://www.mcpennsylvania.com/3793\n",
        "  Read 14381 bytes"
       ]
      },
      {
       "output_type": "stream",
       "stream": "stdout",
       "text": [
        "\n",
        "  Address is 500 Liberty Ave.|Pittsburgh, PA 15222\n",
        "  Geocoded to {u'lat': 40.441237, u'lng': -80.003478}"
       ]
      },
      {
       "output_type": "stream",
       "stream": "stdout",
       "text": [
        "\n",
        "Trying to fetch store# 3794 from http://www.mcpennsylvania.com/3794\n",
        "  Read 13420 bytes"
       ]
      },
      {
       "output_type": "stream",
       "stream": "stdout",
       "text": [
        "\n",
        "  Address is 306 S. Main St.|Farmville, VA 23901\n",
        "  Geocoded to {u'lat': 37.2982534, u'lng': -78.3940057}"
       ]
      },
      {
       "output_type": "stream",
       "stream": "stdout",
       "text": [
        "\n",
        "Trying to fetch store# 3795 from http://www.mcpennsylvania.com/3795\n",
        "  Read 8512 bytes"
       ]
      },
      {
       "output_type": "stream",
       "stream": "stdout",
       "text": [
        "\n",
        "  Store not found\n",
        "Trying to fetch store# 3796 from http://www.mcpennsylvania.com/3796\n",
        "  Read 16378 bytes"
       ]
      },
      {
       "output_type": "stream",
       "stream": "stdout",
       "text": [
        "\n",
        "  Address is 11050 Southwest Hwy.|Palos Hills, IL 60465\n",
        "  Geocoded to {u'lat': 41.68992799999999, u'lng': -87.8099079}"
       ]
      },
      {
       "output_type": "stream",
       "stream": "stdout",
       "text": [
        "\n",
        "Trying to fetch store# 3797 from http://www.mcpennsylvania.com/3797\n",
        "  Read 15259 bytes"
       ]
      },
      {
       "output_type": "stream",
       "stream": "stdout",
       "text": [
        "\n",
        "  Address is 6345 Wilshire Blvd|Los Angeles, CA 90048\n",
        "  Geocoded to {u'lat': 34.063985, u'lng': -118.366797}"
       ]
      },
      {
       "output_type": "stream",
       "stream": "stdout",
       "text": [
        "\n",
        "Trying to fetch store# 3798 from http://www.mcpennsylvania.com/3798\n",
        "  Read 16805 bytes"
       ]
      },
      {
       "output_type": "stream",
       "stream": "stdout",
       "text": [
        "\n",
        "  Address is 4900 Park Blvd.|Wildwood, NJ 08260\n",
        "  Geocoded to {u'lat': 38.9860339, u'lng': -74.827919}"
       ]
      },
      {
       "output_type": "stream",
       "stream": "stdout",
       "text": [
        "\n",
        "Trying to fetch store# 3799 from http://www.mcpennsylvania.com/3799\n",
        "  Read 8512 bytes"
       ]
      },
      {
       "output_type": "stream",
       "stream": "stdout",
       "text": [
        "\n",
        "  Store not found\n",
        "Trying to fetch store# 3800 from http://www.mcpennsylvania.com/3800\n",
        "  Read 6543 bytes"
       ]
      },
      {
       "output_type": "stream",
       "stream": "stdout",
       "text": [
        "\n",
        "  Store not found\n",
        "Trying to fetch store# 3801 from http://www.mcpennsylvania.com/3801\n",
        "  Read 16862 bytes"
       ]
      },
      {
       "output_type": "stream",
       "stream": "stdout",
       "text": [
        "\n",
        "  Address is Beaumont Plaza - Hwy 127|Harrodsburg, KY 40330\n",
        "  Geocoded to {u'lat': 37.762298, u'lng': -84.8432852}"
       ]
      },
      {
       "output_type": "stream",
       "stream": "stdout",
       "text": [
        "\n",
        "Trying to fetch store# 3802 from http://www.mcpennsylvania.com/3802\n",
        "  Read 15935 bytes"
       ]
      },
      {
       "output_type": "stream",
       "stream": "stdout",
       "text": [
        "\n",
        "  Address is 141 Main St.|Bradford, PA 16701\n",
        "  Geocoded to {u'lat': 41.9559709, u'lng': -78.6470065}"
       ]
      },
      {
       "output_type": "stream",
       "stream": "stdout",
       "text": [
        "\n",
        "Trying to fetch store# 3803 from http://www.mcpennsylvania.com/3803\n",
        "  Read 15928 bytes"
       ]
      },
      {
       "output_type": "stream",
       "stream": "stdout",
       "text": [
        "\n",
        "  Address is 2700 West End Ave.|Nashville, TN 37203\n",
        "  Geocoded to {u'lat': 36.145691, u'lng': -86.811808}"
       ]
      },
      {
       "output_type": "stream",
       "stream": "stdout",
       "text": [
        "\n",
        "Trying to fetch store# 3804 from http://www.mcpennsylvania.com/3804\n",
        "  Read 17442 bytes"
       ]
      },
      {
       "output_type": "stream",
       "stream": "stdout",
       "text": [
        "\n",
        "  Address is 1451 East Main Street|Lancaster, OH 43130\n",
        "  Geocoded to {u'lat': 39.714416, u'lng': -82.57349}"
       ]
      },
      {
       "output_type": "stream",
       "stream": "stdout",
       "text": [
        "\n",
        "Wrote 2497 locations to /Users/rsargent/projects/mcdonalds/mcdonalds_locations.json"
       ]
      },
      {
       "output_type": "stream",
       "stream": "stdout",
       "text": [
        "\n",
        "Trying to fetch store# 3805 from http://www.mcpennsylvania.com/3805\n",
        "  Read 16576 bytes"
       ]
      },
      {
       "output_type": "stream",
       "stream": "stdout",
       "text": [
        "\n",
        "  Address is 357 West Genesee Street|Auburn, NY 13021\n",
        "  Geocoded to {u'lat': 42.9191584, u'lng': -76.5922964}"
       ]
      },
      {
       "output_type": "stream",
       "stream": "stdout",
       "text": [
        "\n",
        "Trying to fetch store# 3806 from http://www.mcpennsylvania.com/3806\n",
        "  Read 6543 bytes"
       ]
      },
      {
       "output_type": "stream",
       "stream": "stdout",
       "text": [
        "\n",
        "  Store not found\n",
        "Trying to fetch store# 3807 from http://www.mcpennsylvania.com/3807\n",
        "  Read 8512 bytes"
       ]
      },
      {
       "output_type": "stream",
       "stream": "stdout",
       "text": [
        "\n",
        "  Store not found\n",
        "Trying to fetch store# 3808 from http://www.mcpennsylvania.com/3808\n",
        "  Read 13818 bytes"
       ]
      },
      {
       "output_type": "stream",
       "stream": "stdout",
       "text": [
        "\n",
        "  Address is 106 Hwy 96 West|Franklin, TN 37064\n",
        "  Geocoded to {u'lat': 35.9238767, u'lng': -86.8716087}"
       ]
      },
      {
       "output_type": "stream",
       "stream": "stdout",
       "text": [
        "\n",
        "Trying to fetch store# 3809 from http://www.mcpennsylvania.com/3809\n",
        "  Read 15396 bytes"
       ]
      },
      {
       "output_type": "stream",
       "stream": "stdout",
       "text": [
        "\n",
        "  Address is 649 N Main Street|Providence, RI 02909\n",
        "  Geocoded to {u'lat': 41.8381643, u'lng': -71.408762}"
       ]
      },
      {
       "output_type": "stream",
       "stream": "stdout",
       "text": [
        "\n",
        "Trying to fetch store# 3810 from http://www.mcpennsylvania.com/3810\n",
        "  Read 17048 bytes"
       ]
      },
      {
       "output_type": "stream",
       "stream": "stdout",
       "text": [
        "\n",
        "  Address is 850 S Main St.|Cheshire, CT 06410\n",
        "  Geocoded to {u'lat': 41.481443, u'lng': -72.9048789}"
       ]
      },
      {
       "output_type": "stream",
       "stream": "stdout",
       "text": [
        "\n",
        "Trying to fetch store# 3811 from http://www.mcpennsylvania.com/3811\n",
        "  Read 17479 bytes"
       ]
      },
      {
       "output_type": "stream",
       "stream": "stdout",
       "text": [
        "\n",
        "  Address is 252 W. Crawford St.|Nogales, AZ 85621\n",
        "  Geocoded to {u'lat': 31.335018, u'lng': -110.942624}"
       ]
      },
      {
       "output_type": "stream",
       "stream": "stdout",
       "text": [
        "\n",
        "Trying to fetch store# 3812 from http://www.mcpennsylvania.com/3812\n",
        "  Read 14762 bytes"
       ]
      },
      {
       "output_type": "stream",
       "stream": "stdout",
       "text": [
        "\n",
        "  Address is 8001 E. Indian School Rd.|Scottsdale, AZ 85251\n",
        "  Geocoded to {u'lat': 33.4945335, u'lng': -111.9083308}"
       ]
      },
      {
       "output_type": "stream",
       "stream": "stdout",
       "text": [
        "\n",
        "Trying to fetch store# 3813 from http://www.mcpennsylvania.com/3813\n",
        "  Read 16895 bytes"
       ]
      },
      {
       "output_type": "stream",
       "stream": "stdout",
       "text": [
        "\n",
        "  Address is 6326 Mission Gorge Rd.|San Diego, CA 92120\n",
        "  Geocoded to {u'lat': 32.789512, u'lng': -117.098169}"
       ]
      },
      {
       "output_type": "stream",
       "stream": "stdout",
       "text": [
        "\n",
        "Trying to fetch store# 3814 from http://www.mcpennsylvania.com/3814\n",
        "  Read 17316 bytes"
       ]
      },
      {
       "output_type": "stream",
       "stream": "stdout",
       "text": [
        "\n",
        "  Address is 962 West Eldorado|Decatur, IL 62522\n",
        "  Geocoded to {u'lat': 39.8455829, u'lng': -88.9697137}"
       ]
      },
      {
       "output_type": "stream",
       "stream": "stdout",
       "text": [
        "\n",
        "Trying to fetch store# 3815 from http://www.mcpennsylvania.com/3815\n",
        "  Read 16892 bytes"
       ]
      },
      {
       "output_type": "stream",
       "stream": "stdout",
       "text": [
        "\n",
        "  Address is 2101 East Kansas Avenue|McPherson, KS 67460\n",
        "  Geocoded to {u'lat': 38.37145, u'lng': -97.629373}"
       ]
      },
      {
       "output_type": "stream",
       "stream": "stdout",
       "text": [
        "\n",
        "Trying to fetch store# 3816 from http://www.mcpennsylvania.com/3816\n",
        "  Read 17916 bytes"
       ]
      },
      {
       "output_type": "stream",
       "stream": "stdout",
       "text": [
        "\n",
        "  Address is 3210 23rd Street|Columbus, NE 68601\n",
        "  Geocoded to {u'lat': 41.4388037, u'lng': -97.36692529999999}"
       ]
      },
      {
       "output_type": "stream",
       "stream": "stdout",
       "text": [
        "\n",
        "Wrote 2507 locations to /Users/rsargent/projects/mcdonalds/mcdonalds_locations.json"
       ]
      },
      {
       "output_type": "stream",
       "stream": "stdout",
       "text": [
        "\n",
        "Trying to fetch store# 3817 from http://www.mcpennsylvania.com/3817\n",
        "  Read 13918 bytes"
       ]
      },
      {
       "output_type": "stream",
       "stream": "stdout",
       "text": [
        "\n",
        "  Address is 7155 W 4th Ave.|Hialeah, FL 33014\n",
        "  Geocoded to {u'lat': 25.8873722, u'lng': -80.2910155}"
       ]
      },
      {
       "output_type": "stream",
       "stream": "stdout",
       "text": [
        "\n",
        "Trying to fetch store# 3818 from http://www.mcpennsylvania.com/3818\n",
        "  Read 14327 bytes"
       ]
      },
      {
       "output_type": "stream",
       "stream": "stdout",
       "text": [
        "\n",
        "  Address is 1917 S. Main St.|Rice Lake, WI 54868\n",
        "  Geocoded to {u'lat': 45.48061269999999, u'lng': -91.7347102}"
       ]
      },
      {
       "output_type": "stream",
       "stream": "stdout",
       "text": [
        "\n",
        "Trying to fetch store# 3819 from http://www.mcpennsylvania.com/3819\n",
        "  Read 13390 bytes"
       ]
      },
      {
       "output_type": "stream",
       "stream": "stdout",
       "text": [
        "\n",
        "  Address is 310 East 10th St.|Greenville, NC 27858\n",
        "  Geocoded to {u'lat': 35.606018, u'lng': -77.3717652}"
       ]
      },
      {
       "output_type": "stream",
       "stream": "stdout",
       "text": [
        "\n",
        "Trying to fetch store# 3820 from http://www.mcpennsylvania.com/3820\n",
        "  Read 16842 bytes"
       ]
      },
      {
       "output_type": "stream",
       "stream": "stdout",
       "text": [
        "\n",
        "  Address is 328 North Main Street|Cedartown, GA 30125\n",
        "  No geocode"
       ]
      },
      {
       "output_type": "stream",
       "stream": "stdout",
       "text": [
        "\n",
        "Trying to fetch store# 3821 from http://www.mcpennsylvania.com/3821\n",
        "  Read 8512 bytes"
       ]
      },
      {
       "output_type": "stream",
       "stream": "stdout",
       "text": [
        "\n",
        "  Store not found\n",
        "Trying to fetch store# 3822 from http://www.mcpennsylvania.com/3822\n",
        "  Read 14616 bytes"
       ]
      },
      {
       "output_type": "stream",
       "stream": "stdout",
       "text": [
        "\n",
        "  Address is 879 North Dupont Highway|Dover, DE 19901\n",
        "  Geocoded to {u'lat': 39.183102, u'lng': -75.53083699999999}"
       ]
      },
      {
       "output_type": "stream",
       "stream": "stdout",
       "text": [
        "\n",
        "Trying to fetch store# 3823 from http://www.mcpennsylvania.com/3823\n",
        "  Read 16124 bytes"
       ]
      },
      {
       "output_type": "stream",
       "stream": "stdout",
       "text": [
        "\n",
        "  Address is 3249 Belvidere|Park City, IL 60085\n",
        "  Geocoded to {u'lat': 42.3486994, u'lng': -87.88106739999999}"
       ]
      },
      {
       "output_type": "stream",
       "stream": "stdout",
       "text": [
        "\n",
        "Trying to fetch store# 3824 from http://www.mcpennsylvania.com/3824\n",
        "  Read 8512 bytes"
       ]
      },
      {
       "output_type": "stream",
       "stream": "stdout",
       "text": [
        "\n",
        "  Store not found\n",
        "Trying to fetch store# 3825 from http://www.mcpennsylvania.com/3825\n",
        "  Read 16265 bytes"
       ]
      },
      {
       "output_type": "stream",
       "stream": "stdout",
       "text": [
        "\n",
        "  Address is 2680 Story Road|San Jose, CA 95122\n",
        "  Geocoded to {u'lat': 37.349759, u'lng': -121.827498}"
       ]
      },
      {
       "output_type": "stream",
       "stream": "stdout",
       "text": [
        "\n",
        "Trying to fetch store# 3826 from http://www.mcpennsylvania.com/3826\n",
        "  Read 16912 bytes"
       ]
      },
      {
       "output_type": "stream",
       "stream": "stdout",
       "text": [
        "\n",
        "  Address is 120 S. Rancho Santa Fe|San Marcos, CA 92069\n",
        "  Geocoded to {u'lat': 33.1517658, u'lng': -117.1979023}"
       ]
      },
      {
       "output_type": "stream",
       "stream": "stdout",
       "text": [
        "\n",
        "Trying to fetch store# 3827 from http://www.mcpennsylvania.com/3827\n",
        "  Read 15257 bytes"
       ]
      },
      {
       "output_type": "stream",
       "stream": "stdout",
       "text": [
        "\n",
        "  Address is 1212 West Maple Road|Walled Lake, MI 48390\n",
        "  Geocoded to {u'lat': 42.5327261, u'lng': -83.4992371}"
       ]
      },
      {
       "output_type": "stream",
       "stream": "stdout",
       "text": [
        "\n",
        "Trying to fetch store# 3828 from http://www.mcpennsylvania.com/3828\n",
        "  Read 6543 bytes"
       ]
      },
      {
       "output_type": "stream",
       "stream": "stdout",
       "text": [
        "\n",
        "  Store not found\n",
        "Trying to fetch store# 3829 from http://www.mcpennsylvania.com/3829\n",
        "  Read 17528 bytes"
       ]
      },
      {
       "output_type": "stream",
       "stream": "stdout",
       "text": [
        "\n",
        "  Address is 3216 Owen Road|Fenton, MI 48430\n",
        "  Geocoded to {u'lat': 42.790224, u'lng': -83.73473299999999}"
       ]
      },
      {
       "output_type": "stream",
       "stream": "stdout",
       "text": [
        "\n",
        "Wrote 2517 locations to /Users/rsargent/projects/mcdonalds/mcdonalds_locations.json"
       ]
      },
      {
       "output_type": "stream",
       "stream": "stdout",
       "text": [
        "\n",
        "Trying to fetch store# 3830 from http://www.mcpennsylvania.com/3830\n",
        "  Read 17927 bytes"
       ]
      },
      {
       "output_type": "stream",
       "stream": "stdout",
       "text": [
        "\n",
        "  Address is 2455 Shawnee Rd.|Lima, OH 45806\n",
        "  Geocoded to {u'lat': 40.704837, u'lng': -84.15065299999999}"
       ]
      },
      {
       "output_type": "stream",
       "stream": "stdout",
       "text": [
        "\n",
        "Trying to fetch store# 3831 from http://www.mcpennsylvania.com/3831\n",
        "  Read 16727 bytes"
       ]
      },
      {
       "output_type": "stream",
       "stream": "stdout",
       "text": [
        "\n",
        "  Address is 13370 Lincoln Way|Auburn, CA 95603\n",
        "  Geocoded to {u'lat': 38.9223492, u'lng': -121.0558943}"
       ]
      },
      {
       "output_type": "stream",
       "stream": "stdout",
       "text": [
        "\n",
        "Trying to fetch store# 3832 from http://www.mcpennsylvania.com/3832\n",
        "  Read 8512 bytes"
       ]
      },
      {
       "output_type": "stream",
       "stream": "stdout",
       "text": [
        "\n",
        "  Store not found\n",
        "Trying to fetch store# 3833 from http://www.mcpennsylvania.com/3833\n",
        "  Read 6543 bytes"
       ]
      },
      {
       "output_type": "stream",
       "stream": "stdout",
       "text": [
        "\n",
        "  Store not found\n",
        "Trying to fetch store# 3834 from http://www.mcpennsylvania.com/3834\n",
        "  Read 14147 bytes"
       ]
      },
      {
       "output_type": "stream",
       "stream": "stdout",
       "text": [
        "\n",
        "  Address is Henry & Rich Avenue,| Andorra Shopping Center,|Philadelphia, PA 19128\n",
        "  Geocoded to {u'lat': 40.0532987, u'lng': -75.23040379999999}"
       ]
      },
      {
       "output_type": "stream",
       "stream": "stdout",
       "text": [
        "\n",
        "Trying to fetch store# 3835 from http://www.mcpennsylvania.com/3835\n",
        "  Read 13601 bytes"
       ]
      },
      {
       "output_type": "stream",
       "stream": "stdout",
       "text": [
        "\n",
        "  Address is 809 6th Ave|Manhattan, NY 10001\n",
        "  Geocoded to {u'lat': 40.7458597, u'lng': -73.9906611}"
       ]
      },
      {
       "output_type": "stream",
       "stream": "stdout",
       "text": [
        "\n",
        "Trying to fetch store# 3836 from http://www.mcpennsylvania.com/3836\n",
        "  Read 16535 bytes"
       ]
      },
      {
       "output_type": "stream",
       "stream": "stdout",
       "text": [
        "\n",
        "  Address is 417 Atlantic City Blvd.|Bayville, NJ 08721\n",
        "  Geocoded to {u'lat': 39.915171, u'lng': -74.152838}"
       ]
      },
      {
       "output_type": "stream",
       "stream": "stdout",
       "text": [
        "\n",
        "Trying to fetch store# 3837 from http://www.mcpennsylvania.com/3837\n",
        "  Read 16594 bytes"
       ]
      },
      {
       "output_type": "stream",
       "stream": "stdout",
       "text": [
        "\n",
        "  Address is 216-07 Linden Blvd.|Cambria Heights, NY 11411\n",
        "  Geocoded to {u'lat': 40.6961434, u'lng': -73.7432802}"
       ]
      },
      {
       "output_type": "stream",
       "stream": "stdout",
       "text": [
        "\n",
        "Trying to fetch store# 3838 from http://www.mcpennsylvania.com/3838\n",
        "  Read 6543 bytes"
       ]
      },
      {
       "output_type": "stream",
       "stream": "stdout",
       "text": [
        "\n",
        "  Store not found\n",
        "Trying to fetch store# 3839 from http://www.mcpennsylvania.com/3839\n",
        "  Read 15068 bytes"
       ]
      },
      {
       "output_type": "stream",
       "stream": "stdout",
       "text": [
        "\n",
        "  Address is 2800 Atlantic Ave.|Brooklyn, NY 11207\n",
        "  Geocoded to {u'lat': 40.676068, u'lng': -73.890631}"
       ]
      },
      {
       "output_type": "stream",
       "stream": "stdout",
       "text": [
        "\n",
        "Trying to fetch store# 3840 from http://www.mcpennsylvania.com/3840\n",
        "  Read 16722 bytes"
       ]
      },
      {
       "output_type": "stream",
       "stream": "stdout",
       "text": [
        "\n",
        "  Address is 440 Mary Esther Cutoff|Mary Esther, FL 32569\n",
        "  Geocoded to {u'lat': 30.4203937, u'lng': -86.6527456}"
       ]
      },
      {
       "output_type": "stream",
       "stream": "stdout",
       "text": [
        "\n",
        "Trying to fetch store# 3841 from http://www.mcpennsylvania.com/3841\n",
        "  Read 16680 bytes"
       ]
      },
      {
       "output_type": "stream",
       "stream": "stdout",
       "text": [
        "\n",
        "  Address is 301 Veterans Blvd.|Metairie, LA 70005\n",
        "  Geocoded to {u'lat': 30.0017704, u'lng': -90.13260509999999}"
       ]
      },
      {
       "output_type": "stream",
       "stream": "stdout",
       "text": [
        "\n",
        "Trying to fetch store# 3842 from http://www.mcpennsylvania.com/3842\n",
        "  Read 16704 bytes"
       ]
      },
      {
       "output_type": "stream",
       "stream": "stdout",
       "text": [
        "\n",
        "  Address is 1105 I- 35 North|San Marcos, TX 78666\n",
        "  Geocoded to {u'lat': 29.897988, u'lng': -97.9083909}"
       ]
      },
      {
       "output_type": "stream",
       "stream": "stdout",
       "text": [
        "\n",
        "Wrote 2527 locations to /Users/rsargent/projects/mcdonalds/mcdonalds_locations.json"
       ]
      },
      {
       "output_type": "stream",
       "stream": "stdout",
       "text": [
        "\n",
        "Trying to fetch store# 3843 from http://www.mcpennsylvania.com/3843\n",
        "  Read 16661 bytes"
       ]
      },
      {
       "output_type": "stream",
       "stream": "stdout",
       "text": [
        "\n",
        "  Address is 10323 East Fwy|Houston, TX 77029\n",
        "  Geocoded to {u'lat': 29.774296, u'lng': -95.24659400000002}"
       ]
      },
      {
       "output_type": "stream",
       "stream": "stdout",
       "text": [
        "\n",
        "Trying to fetch store# 3844 from http://www.mcpennsylvania.com/3844\n",
        "  Read 6543 bytes"
       ]
      },
      {
       "output_type": "stream",
       "stream": "stdout",
       "text": [
        "\n",
        "  Store not found\n",
        "Trying to fetch store# 3845 from http://www.mcpennsylvania.com/3845\n",
        "  Read 15029 bytes"
       ]
      },
      {
       "output_type": "stream",
       "stream": "stdout",
       "text": [
        "\n",
        "  Address is 1178 N. Hwy 31|Petoskey, MI 49770\n",
        "  Geocoded to {u'lat': 45.38876500000001, u'lng': -84.917609}"
       ]
      },
      {
       "output_type": "stream",
       "stream": "stdout",
       "text": [
        "\n",
        "Trying to fetch store# 3846 from http://www.mcpennsylvania.com/3846\n",
        "  Read 6543 bytes"
       ]
      },
      {
       "output_type": "stream",
       "stream": "stdout",
       "text": [
        "\n",
        "  Store not found\n",
        "Trying to fetch store# 3847 from http://www.mcpennsylvania.com/3847\n",
        "  Read 6543 bytes"
       ]
      },
      {
       "output_type": "stream",
       "stream": "stdout",
       "text": [
        "\n",
        "  Store not found\n",
        "Trying to fetch store# 3848 from http://www.mcpennsylvania.com/3848\n",
        "  Read 15748 bytes"
       ]
      },
      {
       "output_type": "stream",
       "stream": "stdout",
       "text": [
        "\n",
        "  Address is 225 West Valley Blvd.|Colton, CA 92324\n",
        "  Geocoded to {u'lat': 34.067546, u'lng': -117.326354}"
       ]
      },
      {
       "output_type": "stream",
       "stream": "stdout",
       "text": [
        "\n",
        "Trying to fetch store# 3849 from http://www.mcpennsylvania.com/3849\n",
        "  Read 16036 bytes"
       ]
      },
      {
       "output_type": "stream",
       "stream": "stdout",
       "text": [
        "\n",
        "  Address is 1028 McKinley Parkway|Buffalo, NY 14220\n",
        "  Geocoded to {u'lat': 42.858012, u'lng': -78.82509999999999}"
       ]
      },
      {
       "output_type": "stream",
       "stream": "stdout",
       "text": [
        "\n",
        "Trying to fetch store# 3850 from http://www.mcpennsylvania.com/3850\n",
        "  Read 14519 bytes"
       ]
      },
      {
       "output_type": "stream",
       "stream": "stdout",
       "text": [
        "\n",
        "  Address is 3239 156th Ave. SE|Bellevue, WA 98007\n",
        "  Geocoded to {u'lat': 47.5813734, u'lng': -122.1362432}"
       ]
      },
      {
       "output_type": "stream",
       "stream": "stdout",
       "text": [
        "\n",
        "Trying to fetch store# 3851 from http://www.mcpennsylvania.com/3851\n",
        "  Read 13250 bytes"
       ]
      },
      {
       "output_type": "stream",
       "stream": "stdout",
       "text": [
        "\n",
        "  Address is 1011 Lancaster Dr NE|Salem, OR 97301\n",
        "  Geocoded to {u'lat': 44.943592, u'lng': -122.983759}"
       ]
      },
      {
       "output_type": "stream",
       "stream": "stdout",
       "text": [
        "\n",
        "Trying to fetch store# 3852 from http://www.mcpennsylvania.com/3852\n",
        "  Read 16333 bytes"
       ]
      },
      {
       "output_type": "stream",
       "stream": "stdout",
       "text": [
        "\n",
        "  Address is Rts 11 & 106|Springfield, VT 05156\n",
        "  Geocoded to {u'lat': 43.2984078, u'lng': -72.4823117}"
       ]
      },
      {
       "output_type": "stream",
       "stream": "stdout",
       "text": [
        "\n",
        "Trying to fetch store# 3853 from http://www.mcpennsylvania.com/3853\n",
        "  Read 8512 bytes"
       ]
      },
      {
       "output_type": "stream",
       "stream": "stdout",
       "text": [
        "\n",
        "  Store not found\n",
        "Trying to fetch store# 3854 from http://www.mcpennsylvania.com/3854\n",
        "  Read 14944 bytes"
       ]
      },
      {
       "output_type": "stream",
       "stream": "stdout",
       "text": [
        "\n",
        "  Address is 871 N. Van Dyke|Bad Axe, MI 48413\n",
        "  Geocoded to {u'lat': 43.8206304, u'lng': -83.0010356}"
       ]
      },
      {
       "output_type": "stream",
       "stream": "stdout",
       "text": [
        "\n",
        "Trying to fetch store# 3855 from http://www.mcpennsylvania.com/3855\n",
        "  Read 13817 bytes"
       ]
      },
      {
       "output_type": "stream",
       "stream": "stdout",
       "text": [
        "\n",
        "  Address is 830 E. Potter|Milwaukee, WI 53207\n",
        "  Geocoded to {u'lat': 42.997537, u'lng': -87.898479}"
       ]
      },
      {
       "output_type": "stream",
       "stream": "stdout",
       "text": [
        "\n",
        "Trying to fetch store# 3856 from http://www.mcpennsylvania.com/3856\n",
        "  Read 14043 bytes"
       ]
      },
      {
       "output_type": "stream",
       "stream": "stdout",
       "text": [
        "\n",
        "  Address is 1058 Keolu Drive|Kailua, HI 96734\n",
        "  Geocoded to {u'lat': 21.377194, u'lng': -157.729455}"
       ]
      },
      {
       "output_type": "stream",
       "stream": "stdout",
       "text": [
        "\n",
        "Wrote 2537 locations to /Users/rsargent/projects/mcdonalds/mcdonalds_locations.json"
       ]
      },
      {
       "output_type": "stream",
       "stream": "stdout",
       "text": [
        "\n",
        "Trying to fetch store# 3857 from http://www.mcpennsylvania.com/3857\n",
        "  Read 15289 bytes"
       ]
      },
      {
       "output_type": "stream",
       "stream": "stdout",
       "text": [
        "\n",
        "  Address is 3080 Scottsville Rd.|Bowling Green, KY 42102\n",
        "  Geocoded to {u'lat': 36.9431741, u'lng': -86.4220157}"
       ]
      },
      {
       "output_type": "stream",
       "stream": "stdout",
       "text": [
        "\n",
        "Trying to fetch store# 3858 from http://www.mcpennsylvania.com/3858\n",
        "  Read 16199 bytes"
       ]
      },
      {
       "output_type": "stream",
       "stream": "stdout",
       "text": [
        "\n",
        "  Address is 111 Mathis Dr.|Dickson, TN 37055\n",
        "  Geocoded to {u'lat': 36.0737712, u'lng': -87.37727480000001}"
       ]
      },
      {
       "output_type": "stream",
       "stream": "stdout",
       "text": [
        "\n",
        "Trying to fetch store# 3859 from http://www.mcpennsylvania.com/3859\n",
        "  Read 6543 bytes"
       ]
      },
      {
       "output_type": "stream",
       "stream": "stdout",
       "text": [
        "\n",
        "  Store not found\n",
        "Trying to fetch store# 3860 from http://www.mcpennsylvania.com/3860\n",
        "  Read 8512 bytes"
       ]
      },
      {
       "output_type": "stream",
       "stream": "stdout",
       "text": [
        "\n",
        "  Store not found\n",
        "Trying to fetch store# 3861 from http://www.mcpennsylvania.com/3861\n",
        "  Read 6543 bytes"
       ]
      },
      {
       "output_type": "stream",
       "stream": "stdout",
       "text": [
        "\n",
        "  Store not found\n",
        "Trying to fetch store# 3862 from http://www.mcpennsylvania.com/3862\n",
        "  Read 8512 bytes"
       ]
      },
      {
       "output_type": "stream",
       "stream": "stdout",
       "text": [
        "\n",
        "  Store not found\n",
        "Trying to fetch store# 3863 from http://www.mcpennsylvania.com/3863\n",
        "  Read 15510 bytes"
       ]
      },
      {
       "output_type": "stream",
       "stream": "stdout",
       "text": [
        "\n",
        "  Address is 5150 Sheridan Dr.|Williamsville, NY 14221\n",
        "  Geocoded to {u'lat': 42.978998, u'lng': -78.74157799999999}"
       ]
      },
      {
       "output_type": "stream",
       "stream": "stdout",
       "text": [
        "\n",
        "Trying to fetch store# 3864 from http://www.mcpennsylvania.com/3864\n",
        "  Read 13636 bytes"
       ]
      },
      {
       "output_type": "stream",
       "stream": "stdout",
       "text": [
        "\n",
        "  Address is 915 N. Airline Hwy|Gonzales, LA 70737\n",
        "  Geocoded to {u'lat': 30.239103, u'lng': -90.9153089}"
       ]
      },
      {
       "output_type": "stream",
       "stream": "stdout",
       "text": [
        "\n",
        "Trying to fetch store# 3865 from http://www.mcpennsylvania.com/3865\n",
        "  Read 14511 bytes"
       ]
      },
      {
       "output_type": "stream",
       "stream": "stdout",
       "text": [
        "\n",
        "  Address is 1709 N. Turner St|Hobbs, NM 88240\n",
        "  Geocoded to {u'lat': 32.717655, u'lng': -103.141024}"
       ]
      },
      {
       "output_type": "stream",
       "stream": "stdout",
       "text": [
        "\n",
        "Trying to fetch store# 3866 from http://www.mcpennsylvania.com/3866\n",
        "  Read 16203 bytes"
       ]
      },
      {
       "output_type": "stream",
       "stream": "stdout",
       "text": [
        "\n",
        "  Address is 1112 W. First St.|Hereford, TX 79045\n",
        "  Geocoded to {u'lat': 34.8099553, u'lng': -102.4092079}"
       ]
      },
      {
       "output_type": "stream",
       "stream": "stdout",
       "text": [
        "\n",
        "Trying to fetch store# 3867 from http://www.mcpennsylvania.com/3867\n",
        "  Read 15569 bytes"
       ]
      },
      {
       "output_type": "stream",
       "stream": "stdout",
       "text": [
        "\n",
        "  Address is 2826 Evans Mill Road|Lithonia, GA 30058\n",
        "  Geocoded to {u'lat': 33.701996, u'lng': -84.11537799999999}"
       ]
      },
      {
       "output_type": "stream",
       "stream": "stdout",
       "text": [
        "\n",
        "Trying to fetch store# 3868 from http://www.mcpennsylvania.com/3868\n",
        "  Read 8512 bytes"
       ]
      },
      {
       "output_type": "stream",
       "stream": "stdout",
       "text": [
        "\n",
        "  Store not found\n",
        "Trying to fetch store# 3869 from http://www.mcpennsylvania.com/3869\n",
        "  Read 13280 bytes"
       ]
      },
      {
       "output_type": "stream",
       "stream": "stdout",
       "text": [
        "\n",
        "  Address is 14 Plaza Way|Fairhaven, MA 02719\n",
        "  Geocoded to {u'lat': 41.6399748, u'lng': -70.8855938}"
       ]
      },
      {
       "output_type": "stream",
       "stream": "stdout",
       "text": [
        "\n",
        "Trying to fetch store# 3870 from http://www.mcpennsylvania.com/3870\n",
        "  Read 8512 bytes"
       ]
      },
      {
       "output_type": "stream",
       "stream": "stdout",
       "text": [
        "\n",
        "  Store not found\n",
        "Trying to fetch store# 3871 from http://www.mcpennsylvania.com/3871\n",
        "  Read 6543 bytes"
       ]
      },
      {
       "output_type": "stream",
       "stream": "stdout",
       "text": [
        "\n",
        "  Store not found\n",
        "Trying to fetch store# 3872 from http://www.mcpennsylvania.com/3872\n",
        "  Read 16426 bytes"
       ]
      },
      {
       "output_type": "stream",
       "stream": "stdout",
       "text": [
        "\n",
        "  Address is 21901 Erwin Street|Woodland Hills, CA 91367\n",
        "  Geocoded to {u'lat': 34.183338, u'lng': -118.604401}"
       ]
      },
      {
       "output_type": "stream",
       "stream": "stdout",
       "text": [
        "\n",
        "Trying to fetch store# 3873 from http://www.mcpennsylvania.com/3873\n",
        "  Read 14571 bytes"
       ]
      },
      {
       "output_type": "stream",
       "stream": "stdout",
       "text": [
        "\n",
        "  Address is 2513 Hazlewood St.|Crescent Springs, KY 41016\n",
        "  Geocoded to {u'lat': 39.047584, u'lng': -84.57687899999999}"
       ]
      },
      {
       "output_type": "stream",
       "stream": "stdout",
       "text": [
        "\n",
        "Wrote 2547 locations to /Users/rsargent/projects/mcdonalds/mcdonalds_locations.json"
       ]
      },
      {
       "output_type": "stream",
       "stream": "stdout",
       "text": [
        "\n",
        "Trying to fetch store# 3874 from http://www.mcpennsylvania.com/3874\n",
        "  Read 19409 bytes"
       ]
      },
      {
       "output_type": "stream",
       "stream": "stdout",
       "text": [
        "\n",
        "  Address is 10712 Ocean Gateway|Berlin, MD 21811\n",
        "  Geocoded to {u'lat': 38.3432239, u'lng': -75.1898008}"
       ]
      },
      {
       "output_type": "stream",
       "stream": "stdout",
       "text": [
        "\n",
        "Trying to fetch store# 3875 from http://www.mcpennsylvania.com/3875\n",
        "  Read 13484 bytes"
       ]
      },
      {
       "output_type": "stream",
       "stream": "stdout",
       "text": [
        "\n",
        "  Address is 982 Southern Blvd.|Bronx, NY 10459\n",
        "  Geocoded to {u'lat': 40.8225181, u'lng': -73.8916304}"
       ]
      },
      {
       "output_type": "stream",
       "stream": "stdout",
       "text": [
        "\n",
        "Trying to fetch store# 3876 from http://www.mcpennsylvania.com/3876\n",
        "  Read 15656 bytes"
       ]
      },
      {
       "output_type": "stream",
       "stream": "stdout",
       "text": [
        "\n",
        "  Address is 234 Washington St.|Hoboken, NJ 07030\n",
        "  Geocoded to {u'lat': 40.7399025, u'lng': -74.03016869999999}"
       ]
      },
      {
       "output_type": "stream",
       "stream": "stdout",
       "text": [
        "\n",
        "Trying to fetch store# 3877 from http://www.mcpennsylvania.com/3877\n",
        "  Read 8512 bytes"
       ]
      },
      {
       "output_type": "stream",
       "stream": "stdout",
       "text": [
        "\n",
        "  Store not found\n",
        "Trying to fetch store# 3878 from http://www.mcpennsylvania.com/3878\n",
        "  Read 16469 bytes"
       ]
      },
      {
       "output_type": "stream",
       "stream": "stdout",
       "text": [
        "\n",
        "  Address is 475 Ridge-McIntire Road|Charlottesville, VA 22901\n",
        "  Geocoded to {u'lat': 38.033122, u'lng': -78.485073}"
       ]
      },
      {
       "output_type": "stream",
       "stream": "stdout",
       "text": [
        "\n",
        "Trying to fetch store# 3879 from http://www.mcpennsylvania.com/3879\n",
        "  Read 8512 bytes"
       ]
      },
      {
       "output_type": "stream",
       "stream": "stdout",
       "text": [
        "\n",
        "  Store not found\n",
        "Trying to fetch store# 3880 from http://www.mcpennsylvania.com/3880\n",
        "  Read 17892 bytes"
       ]
      },
      {
       "output_type": "stream",
       "stream": "stdout",
       "text": [
        "\n",
        "  Address is 3525 Fort Hamilton Pky|Brooklyn, NY 11218\n",
        "  Geocoded to {u'lat': 40.6447073, u'lng': -73.9879314}"
       ]
      },
      {
       "output_type": "stream",
       "stream": "stdout",
       "text": [
        "\n",
        "Trying to fetch store# 3881 from http://www.mcpennsylvania.com/3881\n",
        "  Read 18812 bytes"
       ]
      },
      {
       "output_type": "stream",
       "stream": "stdout",
       "text": [
        "\n",
        "  Address is 207 Murchison|Spring Lake, NC 28390\n",
        "  Geocoded to {u'lat': 35.1607584, u'lng': -78.97116480000001}"
       ]
      },
      {
       "output_type": "stream",
       "stream": "stdout",
       "text": [
        "\n",
        "Trying to fetch store# 3882 from http://www.mcpennsylvania.com/3882\n",
        "  Read 17432 bytes"
       ]
      },
      {
       "output_type": "stream",
       "stream": "stdout",
       "text": [
        "\n",
        "  Address is 230 South White Horse Pike|Berlin, NJ 08009\n",
        "  Geocoded to {u'lat': 39.789343, u'lng': -74.927193}"
       ]
      },
      {
       "output_type": "stream",
       "stream": "stdout",
       "text": [
        "\n",
        "Trying to fetch store# 3883 from http://www.mcpennsylvania.com/3883\n",
        "  Read 13552 bytes"
       ]
      },
      {
       "output_type": "stream",
       "stream": "stdout",
       "text": [
        "\n",
        "  Address is 6737 S. Pulaski|Chicago, IL 60629\n",
        "  Geocoded to {u'lat': 41.7704225, u'lng': -87.7224641}"
       ]
      },
      {
       "output_type": "stream",
       "stream": "stdout",
       "text": [
        "\n",
        "Trying to fetch store# 3884 from http://www.mcpennsylvania.com/3884\n",
        "  Read 15862 bytes"
       ]
      },
      {
       "output_type": "stream",
       "stream": "stdout",
       "text": [
        "\n",
        "  Address is 1021 West Main Street|Bridgeport, WV 26330\n",
        "  Geocoded to {u'lat': 39.2816743, u'lng': -80.2698115}"
       ]
      },
      {
       "output_type": "stream",
       "stream": "stdout",
       "text": [
        "\n",
        "Trying to fetch store# 3885 from http://www.mcpennsylvania.com/3885\n",
        "  Read 14624 bytes"
       ]
      },
      {
       "output_type": "stream",
       "stream": "stdout",
       "text": [
        "\n",
        "  Address is 1890 Bethlehem Pike,| Flourtown Shopping Center,|Flourtown, PA 19031\n",
        "  Geocoded to {u'lat': 40.110614, u'lng': -75.212441}"
       ]
      },
      {
       "output_type": "stream",
       "stream": "stdout",
       "text": [
        "\n",
        "Wrote 2557 locations to /Users/rsargent/projects/mcdonalds/mcdonalds_locations.json"
       ]
      },
      {
       "output_type": "stream",
       "stream": "stdout",
       "text": [
        "\n",
        "Trying to fetch store# 3886 from http://www.mcpennsylvania.com/3886\n",
        "  Read 13996 bytes"
       ]
      },
      {
       "output_type": "stream",
       "stream": "stdout",
       "text": [
        "\n",
        "  Address is 707 Main St.|Clarion, PA 16214\n",
        "  Geocoded to {u'lat': 41.2132493, u'lng': -79.3819236}"
       ]
      },
      {
       "output_type": "stream",
       "stream": "stdout",
       "text": [
        "\n",
        "Trying to fetch store# 3887 from http://www.mcpennsylvania.com/3887\n",
        "  Read 13884 bytes"
       ]
      },
      {
       "output_type": "stream",
       "stream": "stdout",
       "text": [
        "\n",
        "  Address is 952 Brookway Blvd.|Brookhaven, MS 39601\n",
        "  Geocoded to {u'lat': 31.5790317, u'lng': -90.4671693}"
       ]
      },
      {
       "output_type": "stream",
       "stream": "stdout",
       "text": [
        "\n",
        "Trying to fetch store# 3888 from http://www.mcpennsylvania.com/3888\n",
        "  Read 6543 bytes"
       ]
      },
      {
       "output_type": "stream",
       "stream": "stdout",
       "text": [
        "\n",
        "  Store not found\n",
        "Trying to fetch store# 3889 from http://www.mcpennsylvania.com/3889\n",
        "  Read 15863 bytes"
       ]
      },
      {
       "output_type": "stream",
       "stream": "stdout",
       "text": [
        "\n",
        "  Address is 1720 S. Ross St.|Amarillo, TX 79102\n",
        "  Geocoded to {u'lat': 35.19326, u'lng': -101.817964}"
       ]
      },
      {
       "output_type": "stream",
       "stream": "stdout",
       "text": [
        "\n",
        "Trying to fetch store# 3890 from http://www.mcpennsylvania.com/3890\n",
        "  Read 17157 bytes"
       ]
      },
      {
       "output_type": "stream",
       "stream": "stdout",
       "text": [
        "\n",
        "  Address is 605 E. Broadway|Campbellsville, KY 42718\n",
        "  Geocoded to {u'lat': 37.3444262, u'lng': -85.33989249999999}"
       ]
      },
      {
       "output_type": "stream",
       "stream": "stdout",
       "text": [
        "\n",
        "Trying to fetch store# 3891 from http://www.mcpennsylvania.com/3891\n",
        "  Read 16774 bytes"
       ]
      },
      {
       "output_type": "stream",
       "stream": "stdout",
       "text": [
        "\n",
        "  Address is 5027 Shelbyville Rd.|Louisville, KY 40207\n",
        "  Geocoded to {u'lat': 38.2503744, u'lng': -85.6217236}"
       ]
      },
      {
       "output_type": "stream",
       "stream": "stdout",
       "text": [
        "\n",
        "Trying to fetch store# 3892 from http://www.mcpennsylvania.com/3892\n",
        "  Read 14955 bytes"
       ]
      },
      {
       "output_type": "stream",
       "stream": "stdout",
       "text": [
        "\n",
        "  Address is 5050 N. Huron Rd.|Oscoda, MI 48750\n",
        "  Geocoded to {u'lat': 44.4048664, u'lng': -83.32526210000002}"
       ]
      },
      {
       "output_type": "stream",
       "stream": "stdout",
       "text": [
        "\n",
        "Trying to fetch store# 3893 from http://www.mcpennsylvania.com/3893\n",
        "  Read 14753 bytes"
       ]
      },
      {
       "output_type": "stream",
       "stream": "stdout",
       "text": [
        "\n",
        "  Address is 642 Maysville Rd.,| US460 & I64,|Mt. Sterling, KY 40353\n",
        "  Geocoded to {u'lat': 38.078157, u'lng': -83.9467824}"
       ]
      },
      {
       "output_type": "stream",
       "stream": "stdout",
       "text": [
        "\n",
        "Trying to fetch store# 3894 from http://www.mcpennsylvania.com/3894\n",
        "  Read 15468 bytes"
       ]
      },
      {
       "output_type": "stream",
       "stream": "stdout",
       "text": [
        "\n",
        "  Address is 750 E. Carmel Dr.|Carmel, IN 46032\n",
        "  Geocoded to {u'lat': 39.962488, u'lng': -86.114346}"
       ]
      },
      {
       "output_type": "stream",
       "stream": "stdout",
       "text": [
        "\n",
        "Trying to fetch store# 3895 from http://www.mcpennsylvania.com/3895\n",
        "  Read 13887 bytes"
       ]
      },
      {
       "output_type": "stream",
       "stream": "stdout",
       "text": [
        "\n",
        "  Address is 2920 20th Avenue (US 29)|Valley, AL 36876\n",
        "  Geocoded to {u'lat': 32.8293093, u'lng': -85.17533809999999}"
       ]
      },
      {
       "output_type": "stream",
       "stream": "stdout",
       "text": [
        "\n",
        "Trying to fetch store# 3896 from http://www.mcpennsylvania.com/3896\n",
        "  Read 14331 bytes"
       ]
      },
      {
       "output_type": "stream",
       "stream": "stdout",
       "text": [
        "\n",
        "  Address is 6875 Sandlake Road|Orlando, FL 32819\n",
        "  Geocoded to {u'lat': 28.450473, u'lng': -81.47179299999999}"
       ]
      },
      {
       "output_type": "stream",
       "stream": "stdout",
       "text": [
        "\n",
        "Wrote 2567 locations to /Users/rsargent/projects/mcdonalds/mcdonalds_locations.json"
       ]
      },
      {
       "output_type": "stream",
       "stream": "stdout",
       "text": [
        "\n",
        "Trying to fetch store# 3897 from http://www.mcpennsylvania.com/3897\n",
        "  Read 8512 bytes"
       ]
      },
      {
       "output_type": "stream",
       "stream": "stdout",
       "text": [
        "\n",
        "  Store not found\n",
        "Trying to fetch store# 3898 from http://www.mcpennsylvania.com/3898\n",
        "  Read 16498 bytes"
       ]
      },
      {
       "output_type": "stream",
       "stream": "stdout",
       "text": [
        "\n",
        "  Address is 1250 W. Elizabeth St.|Ft. Collins, CO 80521\n",
        "  Geocoded to {u'lat': 40.575077, u'lng': -105.1000486}"
       ]
      },
      {
       "output_type": "stream",
       "stream": "stdout",
       "text": [
        "\n",
        "Trying to fetch store# 3899 from http://www.mcpennsylvania.com/3899\n",
        "  Read 14166 bytes"
       ]
      },
      {
       "output_type": "stream",
       "stream": "stdout",
       "text": [
        "\n",
        "  Address is 3330 South 10th Street|Lincoln, NE 68502\n",
        "  Geocoded to {u'lat': 40.779823, u'lng': -96.7062368}"
       ]
      },
      {
       "output_type": "stream",
       "stream": "stdout",
       "text": [
        "\n",
        "Trying to fetch store# 3900 from http://www.mcpennsylvania.com/3900\n",
        "  Read 13496 bytes"
       ]
      },
      {
       "output_type": "stream",
       "stream": "stdout",
       "text": [
        "\n",
        "  Address is RR 1/ Box 132|Princeton, IL 61356\n",
        "  Geocoded to {u'lat': 38.529128, u'lng': -90.31221359999999}"
       ]
      },
      {
       "output_type": "stream",
       "stream": "stdout",
       "text": [
        "\n",
        "Trying to fetch store# 3901 from http://www.mcpennsylvania.com/3901\n",
        "  Read 14676 bytes"
       ]
      },
      {
       "output_type": "stream",
       "stream": "stdout",
       "text": [
        "\n",
        "  Address is 2317 N. Cicero|Chicago, IL 60639\n",
        "  Geocoded to {u'lat': 41.923008, u'lng': -87.745882}"
       ]
      },
      {
       "output_type": "stream",
       "stream": "stdout",
       "text": [
        "\n",
        "Trying to fetch store# 3902 from http://www.mcpennsylvania.com/3902\n",
        "  Read 13705 bytes"
       ]
      },
      {
       "output_type": "stream",
       "stream": "stdout",
       "text": [
        "\n",
        "  Address is 11850 S. Pulaski|Alsip, IL 60803\n",
        "  Geocoded to {u'lat': 41.677172, u'lng': -87.720159}"
       ]
      },
      {
       "output_type": "stream",
       "stream": "stdout",
       "text": [
        "\n",
        "Trying to fetch store# 3903 from http://www.mcpennsylvania.com/3903\n",
        "  Read 16356 bytes"
       ]
      },
      {
       "output_type": "stream",
       "stream": "stdout",
       "text": [
        "\n",
        "  Address is 2702 Craig Road|Eau Claire, WI 54701\n",
        "  Geocoded to {u'lat': 44.7896818, u'lng': -91.51906079999999}"
       ]
      },
      {
       "output_type": "stream",
       "stream": "stdout",
       "text": [
        "\n",
        "Trying to fetch store# 3904 from http://www.mcpennsylvania.com/3904\n",
        "  Read 6543 bytes"
       ]
      },
      {
       "output_type": "stream",
       "stream": "stdout",
       "text": [
        "\n",
        "  Store not found\n",
        "Trying to fetch store# 3905 from http://www.mcpennsylvania.com/3905\n",
        "  Read 6543 bytes"
       ]
      },
      {
       "output_type": "stream",
       "stream": "stdout",
       "text": [
        "\n",
        "  Store not found\n",
        "Trying to fetch store# 3906 from http://www.mcpennsylvania.com/3906\n",
        "  Read 15504 bytes"
       ]
      },
      {
       "output_type": "stream",
       "stream": "stdout",
       "text": [
        "\n",
        "  Address is 295 County Rd 406|South Point, OH 45680\n",
        "  Geocoded to {u'lat': 38.4174972, u'lng': -82.5107939}"
       ]
      },
      {
       "output_type": "stream",
       "stream": "stdout",
       "text": [
        "\n",
        "Trying to fetch store# 3907 from http://www.mcpennsylvania.com/3907\n",
        "  Read 16026 bytes"
       ]
      },
      {
       "output_type": "stream",
       "stream": "stdout",
       "text": [
        "\n",
        "  Address is 2305 Central Ave. NW|Albuquerque, NM 87104\n",
        "  Geocoded to {u'lat': 35.0957672, u'lng': -106.6742251}"
       ]
      },
      {
       "output_type": "stream",
       "stream": "stdout",
       "text": [
        "\n",
        "Trying to fetch store# 3908 from http://www.mcpennsylvania.com/3908\n",
        "  Read 13738 bytes"
       ]
      },
      {
       "output_type": "stream",
       "stream": "stdout",
       "text": [
        "\n",
        "  Address is 4935 South Memorial Drive|Tulsa, OK 74135\n",
        "  Geocoded to {u'lat': 36.0913797, u'lng': -95.8863423}"
       ]
      },
      {
       "output_type": "stream",
       "stream": "stdout",
       "text": [
        "\n",
        "Trying to fetch store# 3909 from http://www.mcpennsylvania.com/3909\n",
        "  Read 18810 bytes"
       ]
      },
      {
       "output_type": "stream",
       "stream": "stdout",
       "text": [
        "\n",
        "  Address is 115 Cherry Road|Rock Hill, SC 29730\n",
        "  Geocoded to {u'lat': 34.9414445, u'lng': -81.0360548}"
       ]
      },
      {
       "output_type": "stream",
       "stream": "stdout",
       "text": [
        "\n",
        "Wrote 2577 locations to /Users/rsargent/projects/mcdonalds/mcdonalds_locations.json"
       ]
      },
      {
       "output_type": "stream",
       "stream": "stdout",
       "text": [
        "\n",
        "Trying to fetch store# 3910 from http://www.mcpennsylvania.com/3910\n",
        "  Read 15260 bytes"
       ]
      },
      {
       "output_type": "stream",
       "stream": "stdout",
       "text": [
        "\n",
        "  Address is 806 E 1st St|Vidalia, GA 30474\n",
        "  Geocoded to {u'lat': 32.2142081, u'lng': -82.4053282}"
       ]
      },
      {
       "output_type": "stream",
       "stream": "stdout",
       "text": [
        "\n",
        "Trying to fetch store# 3911 from http://www.mcpennsylvania.com/3911\n",
        "  Read 15624 bytes"
       ]
      },
      {
       "output_type": "stream",
       "stream": "stdout",
       "text": [
        "\n",
        "  Address is 123 S. Breezewood Rd.|Breezewood, PA 15533\n",
        "  Geocoded to {u'lat': 39.996376, u'lng': -78.24244089999999}"
       ]
      },
      {
       "output_type": "stream",
       "stream": "stdout",
       "text": [
        "\n",
        "Trying to fetch store# 3912 from http://www.mcpennsylvania.com/3912\n",
        "  Read 17616 bytes"
       ]
      },
      {
       "output_type": "stream",
       "stream": "stdout",
       "text": [
        "\n",
        "  Address is 1419 East Main Street|Lincolnton, NC 28092\n",
        "  Geocoded to {u'lat': 35.477386, u'lng': -81.237973}"
       ]
      },
      {
       "output_type": "stream",
       "stream": "stdout",
       "text": [
        "\n",
        "Trying to fetch store# 3913 from http://www.mcpennsylvania.com/3913\n",
        "  Read 17405 bytes"
       ]
      },
      {
       "output_type": "stream",
       "stream": "stdout",
       "text": [
        "\n",
        "  Address is 134 Oak Street Extension|Forest City, NC 28403\n",
        "  Geocoded to {u'lat': 35.3330219, u'lng': -81.89609039999999}"
       ]
      },
      {
       "output_type": "stream",
       "stream": "stdout",
       "text": [
        "\n",
        "Trying to fetch store# 3914 from http://www.mcpennsylvania.com/3914\n",
        "  Read 6543 bytes"
       ]
      },
      {
       "output_type": "stream",
       "stream": "stdout",
       "text": [
        "\n",
        "  Store not found\n",
        "Trying to fetch store# 3915 from http://www.mcpennsylvania.com/3915\n",
        "  Read 6543 bytes"
       ]
      },
      {
       "output_type": "stream",
       "stream": "stdout",
       "text": [
        "\n",
        "  Store not found\n",
        "Trying to fetch store# 3916 from http://www.mcpennsylvania.com/3916\n",
        "  Read 6543 bytes"
       ]
      },
      {
       "output_type": "stream",
       "stream": "stdout",
       "text": [
        "\n",
        "  Store not found\n",
        "Trying to fetch store# 3917 from http://www.mcpennsylvania.com/3917\n",
        "  Read 8512 bytes"
       ]
      },
      {
       "output_type": "stream",
       "stream": "stdout",
       "text": [
        "\n",
        "  Store not found\n",
        "Trying to fetch store# 3918 from http://www.mcpennsylvania.com/3918\n",
        "  Read 13458 bytes"
       ]
      },
      {
       "output_type": "stream",
       "stream": "stdout",
       "text": [
        "\n",
        "  Address is 5240 Turney Rd|Garfield Heights, OH 44125\n",
        "  Geocoded to {u'lat': 41.418976, u'lng': -81.608051}"
       ]
      },
      {
       "output_type": "stream",
       "stream": "stdout",
       "text": [
        "\n",
        "Trying to fetch store# 3919 from http://www.mcpennsylvania.com/3919\n",
        "  Read 8512 bytes"
       ]
      },
      {
       "output_type": "stream",
       "stream": "stdout",
       "text": [
        "\n",
        "  Store not found\n",
        "Trying to fetch store# 3920 from http://www.mcpennsylvania.com/3920\n",
        "  Read 16580 bytes"
       ]
      },
      {
       "output_type": "stream",
       "stream": "stdout",
       "text": [
        "\n",
        "  Address is 702 E. Main Street|Cobleskill, NY 12043\n",
        "  Geocoded to {u'lat': 42.678842, u'lng': -74.47783}"
       ]
      },
      {
       "output_type": "stream",
       "stream": "stdout",
       "text": [
        "\n",
        "Trying to fetch store# 3921 from http://www.mcpennsylvania.com/3921\n",
        "  Read 8512 bytes"
       ]
      },
      {
       "output_type": "stream",
       "stream": "stdout",
       "text": [
        "\n",
        "  Store not found\n",
        "Trying to fetch store# 3922 from http://www.mcpennsylvania.com/3922\n",
        "  Read 14557 bytes"
       ]
      },
      {
       "output_type": "stream",
       "stream": "stdout",
       "text": [
        "\n",
        "  Address is 6606 New Falls Road|Levittown, PA 19056\n",
        "  Geocoded to {u'lat': 40.1517944, u'lng': -74.8589118}"
       ]
      },
      {
       "output_type": "stream",
       "stream": "stdout",
       "text": [
        "\n",
        "Trying to fetch store# 3923 from http://www.mcpennsylvania.com/3923\n",
        "  Read 13370 bytes"
       ]
      },
      {
       "output_type": "stream",
       "stream": "stdout",
       "text": [
        "\n",
        "  Address is 6996 Eastwood Trafficway|Kansas City, MO 64139\n",
        "  Geocoded to {u'lat': 39.031407, u'lng': -94.503506}"
       ]
      },
      {
       "output_type": "stream",
       "stream": "stdout",
       "text": [
        "\n",
        "Trying to fetch store# 3924 from http://www.mcpennsylvania.com/3924\n",
        "  Read 14005 bytes"
       ]
      },
      {
       "output_type": "stream",
       "stream": "stdout",
       "text": [
        "\n",
        "  Address is 315 Tenney Street|Kewanee, IL 61443\n",
        "  Geocoded to {u'lat': 41.2300695, u'lng': -89.92727459999999}"
       ]
      },
      {
       "output_type": "stream",
       "stream": "stdout",
       "text": [
        "\n",
        "Trying to fetch store# 3925 from http://www.mcpennsylvania.com/3925\n",
        "  Read 14178 bytes"
       ]
      },
      {
       "output_type": "stream",
       "stream": "stdout",
       "text": [
        "\n",
        "  Address is 322 Merchants Drive|Knoxville, TN 37912\n",
        "  Geocoded to {u'lat': 36.008194, u'lng': -83.9748819}"
       ]
      },
      {
       "output_type": "stream",
       "stream": "stdout",
       "text": [
        "\n",
        "Wrote 2587 locations to /Users/rsargent/projects/mcdonalds/mcdonalds_locations.json"
       ]
      },
      {
       "output_type": "stream",
       "stream": "stdout",
       "text": [
        "\n",
        "Trying to fetch store# 3926 from http://www.mcpennsylvania.com/3926\n",
        "  Read 17404 bytes"
       ]
      },
      {
       "output_type": "stream",
       "stream": "stdout",
       "text": [
        "\n",
        "  Address is 2 Plaza Drive|Bethalto, IL 62010\n",
        "  Geocoded to {u'lat': 38.9012568, u'lng': -90.0576423}"
       ]
      },
      {
       "output_type": "stream",
       "stream": "stdout",
       "text": [
        "\n",
        "Trying to fetch store# 3927 from http://www.mcpennsylvania.com/3927\n",
        "  Read 15697 bytes"
       ]
      },
      {
       "output_type": "stream",
       "stream": "stdout",
       "text": [
        "\n",
        "  Address is 12130 Darnstown Road|Gaithersburg, MD 20878\n",
        "  Geocoded to {u'lat': 39.116777, u'lng': -77.25184}"
       ]
      },
      {
       "output_type": "stream",
       "stream": "stdout",
       "text": [
        "\n",
        "Trying to fetch store# 3928 from http://www.mcpennsylvania.com/3928\n",
        "  Read 13970 bytes"
       ]
      },
      {
       "output_type": "stream",
       "stream": "stdout",
       "text": [
        "\n",
        "  Address is 1706 E. Front St|Port Angeles, WA 98362\n",
        "  Geocoded to {u'lat': 48.107404, u'lng': -123.403477}"
       ]
      },
      {
       "output_type": "stream",
       "stream": "stdout",
       "text": [
        "\n",
        "Trying to fetch store# 3929 from http://www.mcpennsylvania.com/3929\n",
        "  Read 15198 bytes"
       ]
      },
      {
       "output_type": "stream",
       "stream": "stdout",
       "text": [
        "\n",
        "  Address is 1414 University Ave.|San Diego, CA 92103\n",
        "  Geocoded to {u'lat': 32.7488479, u'lng': -117.1507546}"
       ]
      },
      {
       "output_type": "stream",
       "stream": "stdout",
       "text": [
        "\n",
        "Trying to fetch store# 3930 from http://www.mcpennsylvania.com/3930\n",
        "  Read 8512 bytes"
       ]
      },
      {
       "output_type": "stream",
       "stream": "stdout",
       "text": [
        "\n",
        "  Store not found\n",
        "Trying to fetch store# 3931 from http://www.mcpennsylvania.com/3931\n",
        "  Read 14250 bytes"
       ]
      },
      {
       "output_type": "stream",
       "stream": "stdout",
       "text": [
        "\n",
        "  Address is 1515 N. Broadway|Menomonie, WI 54751\n",
        "  Geocoded to {u'lat': 44.900174, u'lng': -91.93248}"
       ]
      },
      {
       "output_type": "stream",
       "stream": "stdout",
       "text": [
        "\n",
        "Trying to fetch store# 3932 from http://www.mcpennsylvania.com/3932\n",
        "  Read 8512 bytes"
       ]
      },
      {
       "output_type": "stream",
       "stream": "stdout",
       "text": [
        "\n",
        "  Store not found\n",
        "Trying to fetch store# 3933 from http://www.mcpennsylvania.com/3933\n",
        "  Read 16839 bytes"
       ]
      },
      {
       "output_type": "stream",
       "stream": "stdout",
       "text": [
        "\n",
        "  Address is 2607 S. Kings Hwy.|Myrtle Beach, SC 29577\n",
        "  Geocoded to {u'lat': 33.6671005, u'lng': -78.9158312}"
       ]
      },
      {
       "output_type": "stream",
       "stream": "stdout",
       "text": [
        "\n",
        "Trying to fetch store# 3934 from http://www.mcpennsylvania.com/3934\n",
        "  Read 16781 bytes"
       ]
      },
      {
       "output_type": "stream",
       "stream": "stdout",
       "text": [
        "\n",
        "  Address is 1900 Skibo Road|Fayetteville, NC 38314\n",
        "  Geocoded to {u'lat': 35.070727, u'lng': -78.966229}"
       ]
      },
      {
       "output_type": "stream",
       "stream": "stdout",
       "text": [
        "\n",
        "Trying to fetch store# 3935 from http://www.mcpennsylvania.com/3935\n",
        "  Read 14211 bytes"
       ]
      },
      {
       "output_type": "stream",
       "stream": "stdout",
       "text": [
        "\n",
        "  Address is 640 S Van Buern Rd|Eden, NC 27288\n",
        "  Geocoded to {u'lat': 36.491541, u'lng': -79.73925299999999}"
       ]
      },
      {
       "output_type": "stream",
       "stream": "stdout",
       "text": [
        "\n",
        "Trying to fetch store# 3936 from http://www.mcpennsylvania.com/3936\n",
        "  Read 14062 bytes"
       ]
      },
      {
       "output_type": "stream",
       "stream": "stdout",
       "text": [
        "\n",
        "  Address is 720 Imperial Ave.|Calexico, CA 92231\n",
        "  Geocoded to {u'lat': 32.6727684, u'lng': -115.4984582}"
       ]
      },
      {
       "output_type": "stream",
       "stream": "stdout",
       "text": [
        "\n",
        "Trying to fetch store# 3937 from http://www.mcpennsylvania.com/3937\n",
        "  Read 8512 bytes"
       ]
      },
      {
       "output_type": "stream",
       "stream": "stdout",
       "text": [
        "\n",
        "  Store not found\n",
        "Trying to fetch store# 3938 from http://www.mcpennsylvania.com/3938\n",
        "  Read 8512 bytes"
       ]
      },
      {
       "output_type": "stream",
       "stream": "stdout",
       "text": [
        "\n",
        "  Store not found\n",
        "Trying to fetch store# 3939 from http://www.mcpennsylvania.com/3939\n",
        "  Read 6543 bytes"
       ]
      },
      {
       "output_type": "stream",
       "stream": "stdout",
       "text": [
        "\n",
        "  Store not found\n",
        "Trying to fetch store# 3940 from http://www.mcpennsylvania.com/3940\n",
        "  Read 6543 bytes"
       ]
      },
      {
       "output_type": "stream",
       "stream": "stdout",
       "text": [
        "\n",
        "  Store not found\n",
        "Trying to fetch store# 3941 from http://www.mcpennsylvania.com/3941\n",
        "  Read 8512 bytes"
       ]
      },
      {
       "output_type": "stream",
       "stream": "stdout",
       "text": [
        "\n",
        "  Store not found\n",
        "Trying to fetch store# 3942 from http://www.mcpennsylvania.com/3942\n",
        "  Read 16548 bytes"
       ]
      },
      {
       "output_type": "stream",
       "stream": "stdout",
       "text": [
        "\n",
        "  Address is 1812 North Charles Street|Baltimore, MD 21233\n",
        "  Geocoded to {u'lat': 39.3102974, u'lng': -76.6168848}"
       ]
      },
      {
       "output_type": "stream",
       "stream": "stdout",
       "text": [
        "\n",
        "Wrote 2597 locations to /Users/rsargent/projects/mcdonalds/mcdonalds_locations.json"
       ]
      },
      {
       "output_type": "stream",
       "stream": "stdout",
       "text": [
        "\n",
        "Trying to fetch store# 3943 from http://www.mcpennsylvania.com/3943\n",
        "  Read 8512 bytes"
       ]
      },
      {
       "output_type": "stream",
       "stream": "stdout",
       "text": [
        "\n",
        "  Store not found\n",
        "Trying to fetch store# 3944 from http://www.mcpennsylvania.com/3944\n",
        "  Read 16243 bytes"
       ]
      },
      {
       "output_type": "stream",
       "stream": "stdout",
       "text": [
        "\n",
        "  Address is 6600 Commerce Blvd|Rohnert Park, CA 94928\n",
        "  Geocoded to {u'lat': 38.3444454, u'lng': -122.7116404}"
       ]
      },
      {
       "output_type": "stream",
       "stream": "stdout",
       "text": [
        "\n",
        "Trying to fetch store# 3945 from http://www.mcpennsylvania.com/3945\n",
        "  Read 30894 bytes"
       ]
      },
      {
       "output_type": "stream",
       "stream": "stdout",
       "text": [
        "\n",
        "  Address is 200 West Main Street|Grove City, PA 16127\n",
        "  Geocoded to {u'lat': 41.158102, u'lng': -80.0891046}"
       ]
      },
      {
       "output_type": "stream",
       "stream": "stdout",
       "text": [
        "\n",
        "Trying to fetch store# 3946 from http://www.mcpennsylvania.com/3946\n",
        "  Read 6543 bytes"
       ]
      },
      {
       "output_type": "stream",
       "stream": "stdout",
       "text": [
        "\n",
        "  Store not found\n",
        "Trying to fetch store# 3947 from http://www.mcpennsylvania.com/3947\n",
        "  Read 16244 bytes"
       ]
      },
      {
       "output_type": "stream",
       "stream": "stdout",
       "text": [
        "\n",
        "  Address is 465 Richmond Rd.|Richmond Heights, OH 44143\n",
        "  Geocoded to {u'lat': 41.552055, u'lng': -81.4963891}"
       ]
      },
      {
       "output_type": "stream",
       "stream": "stdout",
       "text": [
        "\n",
        "Trying to fetch store# 3948 from http://www.mcpennsylvania.com/3948\n",
        "  Read 8512 bytes"
       ]
      },
      {
       "output_type": "stream",
       "stream": "stdout",
       "text": [
        "\n",
        "  Store not found\n",
        "Trying to fetch store# 3949 from http://www.mcpennsylvania.com/3949\n",
        "  Read 14401 bytes"
       ]
      },
      {
       "output_type": "stream",
       "stream": "stdout",
       "text": [
        "\n",
        "  Address is 542 Tecumseh|Dundee, MI 48131\n",
        "  Geocoded to {u'lat': 41.9586372, u'lng': -83.668015}"
       ]
      },
      {
       "output_type": "stream",
       "stream": "stdout",
       "text": [
        "\n",
        "Trying to fetch store# 3950 from http://www.mcpennsylvania.com/3950\n",
        "  Read 8512 bytes"
       ]
      },
      {
       "output_type": "stream",
       "stream": "stdout",
       "text": [
        "\n",
        "  Store not found\n",
        "Trying to fetch store# 3951 from http://www.mcpennsylvania.com/3951\n",
        "  Read 15422 bytes"
       ]
      },
      {
       "output_type": "stream",
       "stream": "stdout",
       "text": [
        "\n",
        "  Address is 1400 West Peoria Street|Washington, IL 61571\n",
        "  Geocoded to {u'lat': 40.7034428, u'lng': -89.4273845}"
       ]
      },
      {
       "output_type": "stream",
       "stream": "stdout",
       "text": [
        "\n",
        "Trying to fetch store# 3952 from http://www.mcpennsylvania.com/3952\n",
        "  Read 13911 bytes"
       ]
      },
      {
       "output_type": "stream",
       "stream": "stdout",
       "text": [
        "\n",
        "  Address is 1918 Jefferson Street|Jefferson City, MO 65109\n",
        "  Geocoded to {u'lat': 38.553181, u'lng': -92.19965499999999}"
       ]
      },
      {
       "output_type": "stream",
       "stream": "stdout",
       "text": [
        "\n",
        "Trying to fetch store# 3953 from http://www.mcpennsylvania.com/3953\n",
        "  Read 14257 bytes"
       ]
      },
      {
       "output_type": "stream",
       "stream": "stdout",
       "text": [
        "\n",
        "  Address is 149 E. Hwy 66|Tell City, IN 47586\n",
        "  Geocoded to {u'lat': 37.9425051, u'lng': -86.76373029999999}"
       ]
      },
      {
       "output_type": "stream",
       "stream": "stdout",
       "text": [
        "\n",
        "Trying to fetch store# 3954 from http://www.mcpennsylvania.com/3954\n",
        "  Read 16560 bytes"
       ]
      },
      {
       "output_type": "stream",
       "stream": "stdout",
       "text": [
        "\n",
        "  Address is 364 Broadway|Ft. Edward, NY 12828\n",
        "  Geocoded to {u'lat': 43.284266, u'lng': -73.586043}"
       ]
      },
      {
       "output_type": "stream",
       "stream": "stdout",
       "text": [
        "\n",
        "Trying to fetch store# 3955 from http://www.mcpennsylvania.com/3955\n",
        "  Read 18560 bytes"
       ]
      },
      {
       "output_type": "stream",
       "stream": "stdout",
       "text": [
        "\n",
        "  Address is 1020 Broad Ripple Ave.|Indianapolis, IN 46220\n",
        "  Geocoded to {u'lat': 39.870165, u'lng': -86.1408019}"
       ]
      },
      {
       "output_type": "stream",
       "stream": "stdout",
       "text": [
        "\n",
        "Trying to fetch store# 3956 from http://www.mcpennsylvania.com/3956\n",
        "  Read 16862 bytes"
       ]
      },
      {
       "output_type": "stream",
       "stream": "stdout",
       "text": [
        "\n",
        "  Address is 335 U.S. 70 East|Selma, NC 27576\n",
        "  Geocoded to {u'lat': 35.5168486, u'lng': -78.2790447}"
       ]
      },
      {
       "output_type": "stream",
       "stream": "stdout",
       "text": [
        "\n",
        "Wrote 2607 locations to /Users/rsargent/projects/mcdonalds/mcdonalds_locations.json"
       ]
      },
      {
       "output_type": "stream",
       "stream": "stdout",
       "text": [
        "\n",
        "Trying to fetch store# 3957 from http://www.mcpennsylvania.com/3957\n",
        "  Read 17191 bytes"
       ]
      },
      {
       "output_type": "stream",
       "stream": "stdout",
       "text": [
        "\n",
        "  Address is 701 E. Main St.|Olney, IL 62450\n",
        "  Geocoded to {u'lat': 38.73124110000001, u'lng': -88.07885759999999}"
       ]
      },
      {
       "output_type": "stream",
       "stream": "stdout",
       "text": [
        "\n",
        "Trying to fetch store# 3958 from http://www.mcpennsylvania.com/3958\n",
        "  Read 15194 bytes"
       ]
      },
      {
       "output_type": "stream",
       "stream": "stdout",
       "text": [
        "\n",
        "  Address is Route 5|Little Falls, NY 13365\n",
        "  Geocoded to {u'lat': 43.0365012, u'lng': -74.8311612}"
       ]
      },
      {
       "output_type": "stream",
       "stream": "stdout",
       "text": [
        "\n",
        "Trying to fetch store# 3959 from http://www.mcpennsylvania.com/3959\n",
        "  Read 14268 bytes"
       ]
      },
      {
       "output_type": "stream",
       "stream": "stdout",
       "text": [
        "\n",
        "  Address is 424 Margaret St.|Plattsburgh, NY 12901\n",
        "  Geocoded to {u'lat': 44.714479, u'lng': -73.44568699999999}"
       ]
      },
      {
       "output_type": "stream",
       "stream": "stdout",
       "text": [
        "\n",
        "Trying to fetch store# 3960 from http://www.mcpennsylvania.com/3960\n",
        "  Read 16751 bytes"
       ]
      },
      {
       "output_type": "stream",
       "stream": "stdout",
       "text": [
        "\n",
        "  Address is 201 Church Ave.|Ballston Spa, NY 12020\n",
        "  Geocoded to {u'lat': 42.9924, u'lng': -73.850145}"
       ]
      },
      {
       "output_type": "stream",
       "stream": "stdout",
       "text": [
        "\n",
        "Trying to fetch store# 3961 from http://www.mcpennsylvania.com/3961\n",
        "  Read 14260 bytes"
       ]
      },
      {
       "output_type": "stream",
       "stream": "stdout",
       "text": [
        "\n",
        "  Address is 416 Monroe Ave.|Rochester, NY 14607\n",
        "  Geocoded to {u'lat': 43.1470671, u'lng': -77.59457789999999}"
       ]
      },
      {
       "output_type": "stream",
       "stream": "stdout",
       "text": [
        "\n",
        "Trying to fetch store# 3962 from http://www.mcpennsylvania.com/3962\n",
        "  Read 13465 bytes"
       ]
      },
      {
       "output_type": "stream",
       "stream": "stdout",
       "text": [
        "\n",
        "  Address is 160 Franklin St.|Dansville, NY 14437\n",
        "  Geocoded to {u'lat': 42.565776, u'lng': -77.71310799999999}"
       ]
      },
      {
       "output_type": "stream",
       "stream": "stdout",
       "text": [
        "\n",
        "Trying to fetch store# 3963 from http://www.mcpennsylvania.com/3963\n",
        "  Read 14781 bytes"
       ]
      },
      {
       "output_type": "stream",
       "stream": "stdout",
       "text": [
        "\n",
        "  Address is 1214 Albert Pike Rd|Hot Springs, AR 71901\n",
        "  Geocoded to {u'lat': 34.493607, u'lng': -93.0824219}"
       ]
      },
      {
       "output_type": "stream",
       "stream": "stdout",
       "text": [
        "\n",
        "Trying to fetch store# 3964 from http://www.mcpennsylvania.com/3964\n",
        "  Read 15776 bytes"
       ]
      },
      {
       "output_type": "stream",
       "stream": "stdout",
       "text": [
        "\n",
        "  Address is 202 E. Florida Blvd.|Denham Springs, LA 70726\n",
        "  Geocoded to {u'lat': 30.4829223, u'lng': -90.9543217}"
       ]
      },
      {
       "output_type": "stream",
       "stream": "stdout",
       "text": [
        "\n",
        "Trying to fetch store# 3965 from http://www.mcpennsylvania.com/3965\n",
        "  Read 15503 bytes"
       ]
      },
      {
       "output_type": "stream",
       "stream": "stdout",
       "text": [
        "\n",
        "  Address is 3903 Hanging Moss|Jackson, MS 39206\n",
        "  Geocoded to {u'lat': 32.356015, u'lng': -90.180318}"
       ]
      },
      {
       "output_type": "stream",
       "stream": "stdout",
       "text": [
        "\n",
        "Trying to fetch store# 3966 from http://www.mcpennsylvania.com/3966\n",
        "  Read 8512 bytes"
       ]
      },
      {
       "output_type": "stream",
       "stream": "stdout",
       "text": [
        "\n",
        "  Store not found\n",
        "Trying to fetch store# 3967 from http://www.mcpennsylvania.com/3967\n",
        "  Read 20381 bytes"
       ]
      },
      {
       "output_type": "stream",
       "stream": "stdout",
       "text": [
        "\n",
        "  Address is D201 Woodfield Mall|Schaumburg, IL 60173\n",
        "  Geocoded to {u'lat': 42.0455102, u'lng': -88.0372319}"
       ]
      },
      {
       "output_type": "stream",
       "stream": "stdout",
       "text": [
        "\n",
        "Wrote 2617 locations to /Users/rsargent/projects/mcdonalds/mcdonalds_locations.json"
       ]
      },
      {
       "output_type": "stream",
       "stream": "stdout",
       "text": [
        "\n",
        "Trying to fetch store# 3968 from http://www.mcpennsylvania.com/3968\n",
        "  Read 16341 bytes"
       ]
      },
      {
       "output_type": "stream",
       "stream": "stdout",
       "text": [
        "\n",
        "  Address is 1680 E. Jackson St.|Thomasville, GA 31792\n",
        "  Geocoded to {u'lat': 30.8594526, u'lng': -83.9486282}"
       ]
      },
      {
       "output_type": "stream",
       "stream": "stdout",
       "text": [
        "\n",
        "Trying to fetch store# 3969 from http://www.mcpennsylvania.com/3969\n",
        "  Read 17491 bytes"
       ]
      },
      {
       "output_type": "stream",
       "stream": "stdout",
       "text": [
        "\n",
        "  Address is 1404 Pullman Hwy|Moscow, ID 83843\n",
        "  Geocoded to {u'lat': 46.732405, u'lng': -117.0396571}"
       ]
      },
      {
       "output_type": "stream",
       "stream": "stdout",
       "text": [
        "\n",
        "Trying to fetch store# 3970 from http://www.mcpennsylvania.com/3970\n",
        "  Read 16319 bytes"
       ]
      },
      {
       "output_type": "stream",
       "stream": "stdout",
       "text": [
        "\n",
        "  Address is 953 E. Stuart Dr.|Galax, VA 24333\n",
        "  Geocoded to {u'lat': 36.68172380000001, u'lng': -80.89359060000001}"
       ]
      },
      {
       "output_type": "stream",
       "stream": "stdout",
       "text": [
        "\n",
        "Trying to fetch store# 3971 from http://www.mcpennsylvania.com/3971\n",
        "  Read 16382 bytes"
       ]
      },
      {
       "output_type": "stream",
       "stream": "stdout",
       "text": [
        "\n",
        "  Address is Mallow Mall Shopping Center|Covington, VA 24426\n",
        "  Geocoded to {u'lat': 37.7717008, u'lng': -79.9708266}"
       ]
      },
      {
       "output_type": "stream",
       "stream": "stdout",
       "text": [
        "\n",
        "Trying to fetch store# 3972 from http://www.mcpennsylvania.com/3972\n",
        "  Read 15351 bytes"
       ]
      },
      {
       "output_type": "stream",
       "stream": "stdout",
       "text": [
        "\n",
        "  Address is 1831 W Burnside|Portland, OR 97209\n",
        "  Geocoded to {u'lat': 45.5231948, u'lng': -122.6899994}"
       ]
      },
      {
       "output_type": "stream",
       "stream": "stdout",
       "text": [
        "\n",
        "Trying to fetch store# 3973 from http://www.mcpennsylvania.com/3973\n",
        "  Read 8512 bytes"
       ]
      },
      {
       "output_type": "stream",
       "stream": "stdout",
       "text": [
        "\n",
        "  Store not found\n",
        "Trying to fetch store# 3974 from http://www.mcpennsylvania.com/3974\n",
        "  Read 13927 bytes"
       ]
      },
      {
       "output_type": "stream",
       "stream": "stdout",
       "text": [
        "\n",
        "  Address is 3303 Broadway Ave.|North Bend, OR 97459\n",
        "  Geocoded to {u'lat': 43.3924283, u'lng': -124.2392397}"
       ]
      },
      {
       "output_type": "stream",
       "stream": "stdout",
       "text": [
        "\n",
        "Trying to fetch store# 3975 from http://www.mcpennsylvania.com/3975\n",
        "  Read 17020 bytes"
       ]
      },
      {
       "output_type": "stream",
       "stream": "stdout",
       "text": [
        "\n",
        "  Address is 12341 Shelbyville Rd.|Louisville, KY 40211\n",
        "  Geocoded to {u'lat': 38.246856, u'lng': -85.526229}"
       ]
      },
      {
       "output_type": "stream",
       "stream": "stdout",
       "text": [
        "\n",
        "Trying to fetch store# 3976 from http://www.mcpennsylvania.com/3976\n",
        "  Read 16114 bytes"
       ]
      },
      {
       "output_type": "stream",
       "stream": "stdout",
       "text": [
        "\n",
        "  Address is 423 West 11 Mile Road|Royal Oak, MI 48067\n",
        "  Geocoded to {u'lat': 42.489184, u'lng': -83.14866}"
       ]
      },
      {
       "output_type": "stream",
       "stream": "stdout",
       "text": [
        "\n",
        "Trying to fetch store# 3977 from http://www.mcpennsylvania.com/3977\n",
        "  Read 16904 bytes"
       ]
      },
      {
       "output_type": "stream",
       "stream": "stdout",
       "text": [
        "\n",
        "  Address is Route 130 & Jacksonville Road|Burlington, NJ 08016\n",
        "  Geocoded to {u'lat': 40.07211909999999, u'lng': -74.85046609999999}"
       ]
      },
      {
       "output_type": "stream",
       "stream": "stdout",
       "text": [
        "\n",
        "Trying to fetch store# 3978 from http://www.mcpennsylvania.com/3978\n",
        "  Read 15961 bytes"
       ]
      },
      {
       "output_type": "stream",
       "stream": "stdout",
       "text": [
        "\n",
        "  Address is 701 Utica Ave.|Brooklyn, NY 11203\n",
        "  Geocoded to {u'lat': 40.6561989, u'lng': -73.9308655}"
       ]
      },
      {
       "output_type": "stream",
       "stream": "stdout",
       "text": [
        "\n",
        "Wrote 2627 locations to /Users/rsargent/projects/mcdonalds/mcdonalds_locations.json"
       ]
      },
      {
       "output_type": "stream",
       "stream": "stdout",
       "text": [
        "\n",
        "Trying to fetch store# 3979 from http://www.mcpennsylvania.com/3979\n",
        "  Read 16303 bytes"
       ]
      },
      {
       "output_type": "stream",
       "stream": "stdout",
       "text": [
        "\n",
        "  Address is 416 W. Central Ave.|Lake Wales, FL 33853\n",
        "  Geocoded to {u'lat': 27.900197, u'lng': -81.598742}"
       ]
      },
      {
       "output_type": "stream",
       "stream": "stdout",
       "text": [
        "\n",
        "Trying to fetch store# 3980 from http://www.mcpennsylvania.com/3980\n",
        "  Read 14397 bytes"
       ]
      },
      {
       "output_type": "stream",
       "stream": "stdout",
       "text": [
        "\n",
        "  Address is 729 Glendale Rd|Marietta, OH 45750\n",
        "  Geocoded to {u'lat': 39.4209729, u'lng': -81.447943}"
       ]
      },
      {
       "output_type": "stream",
       "stream": "stdout",
       "text": [
        "\n",
        "Trying to fetch store# 3981 from http://www.mcpennsylvania.com/3981\n",
        "  Read 13703 bytes"
       ]
      },
      {
       "output_type": "stream",
       "stream": "stdout",
       "text": [
        "\n",
        "  Address is 1101 W Queen St|Hampton, VA 23669\n",
        "  Geocoded to {u'lat': 37.025716, u'lng': -76.363675}"
       ]
      },
      {
       "output_type": "stream",
       "stream": "stdout",
       "text": [
        "\n",
        "Trying to fetch store# 3982 from http://www.mcpennsylvania.com/3982\n",
        "  Read 6543 bytes"
       ]
      },
      {
       "output_type": "stream",
       "stream": "stdout",
       "text": [
        "\n",
        "  Store not found\n",
        "Trying to fetch store# 3983 from http://www.mcpennsylvania.com/3983\n",
        "  Read 8512 bytes"
       ]
      },
      {
       "output_type": "stream",
       "stream": "stdout",
       "text": [
        "\n",
        "  Store not found\n",
        "Trying to fetch store# 3984 from http://www.mcpennsylvania.com/3984\n",
        "  Read 29182 bytes"
       ]
      },
      {
       "output_type": "stream",
       "stream": "stdout",
       "text": [
        "\n",
        "  Address is 5833 Northampton Blvd|Virginia Beach, VA 23455\n",
        "  Geocoded to {u'lat': 36.8807509, u'lng': -76.18629}"
       ]
      },
      {
       "output_type": "stream",
       "stream": "stdout",
       "text": [
        "\n",
        "Trying to fetch store# 3985 from http://www.mcpennsylvania.com/3985\n",
        "  Read 16098 bytes"
       ]
      },
      {
       "output_type": "stream",
       "stream": "stdout",
       "text": [
        "\n",
        "  Address is 1613 16th Ave.                          |Cordele, GA 31015\n",
        "  Geocoded to {u'lat': 31.96156939999999, u'lng': -83.7606339}"
       ]
      },
      {
       "output_type": "stream",
       "stream": "stdout",
       "text": [
        "\n",
        "Trying to fetch store# 3986 from http://www.mcpennsylvania.com/3986\n",
        "  Read 20663 bytes"
       ]
      },
      {
       "output_type": "stream",
       "stream": "stdout",
       "text": [
        "\n",
        "  Address is 303 Homer Rd.|Minden, LA 71055\n",
        "  Geocoded to {u'lat': 32.622023, u'lng': -93.275188}"
       ]
      },
      {
       "output_type": "stream",
       "stream": "stdout",
       "text": [
        "\n",
        "Trying to fetch store# 3987 from http://www.mcpennsylvania.com/3987\n",
        "  Read 15822 bytes"
       ]
      },
      {
       "output_type": "stream",
       "stream": "stdout",
       "text": [
        "\n",
        "  Address is 2880 NW 13th St.|Gainesville, FL 32609\n",
        "  Geocoded to {u'lat': 29.6786532, u'lng': -82.3391881}"
       ]
      },
      {
       "output_type": "stream",
       "stream": "stdout",
       "text": [
        "\n",
        "Trying to fetch store# 3988 from http://www.mcpennsylvania.com/3988\n",
        "  Read 17743 bytes"
       ]
      },
      {
       "output_type": "stream",
       "stream": "stdout",
       "text": [
        "\n",
        "  Address is 66500 Van Dyke|Washington, MI 48095\n",
        "  Geocoded to {u'lat': 42.7842615, u'lng': -83.0130415}"
       ]
      },
      {
       "output_type": "stream",
       "stream": "stdout",
       "text": [
        "\n",
        "Trying to fetch store# 3989 from http://www.mcpennsylvania.com/3989\n",
        "  Read 8512 bytes"
       ]
      },
      {
       "output_type": "stream",
       "stream": "stdout",
       "text": [
        "\n",
        "  Store not found\n",
        "Trying to fetch store# 3990 from http://www.mcpennsylvania.com/3990\n",
        "  Read 14610 bytes"
       ]
      },
      {
       "output_type": "stream",
       "stream": "stdout",
       "text": [
        "\n",
        "  Address is 3811 Carpenter Road|Ypsilanti, MI 48197\n",
        "  Geocoded to {u'lat': 42.234766, u'lng': -83.679632}"
       ]
      },
      {
       "output_type": "stream",
       "stream": "stdout",
       "text": [
        "\n",
        "Trying to fetch store# 3991 from http://www.mcpennsylvania.com/3991\n",
        "  Read 8512 bytes"
       ]
      },
      {
       "output_type": "stream",
       "stream": "stdout",
       "text": [
        "\n",
        "  Store not found\n",
        "Trying to fetch store# 3992 from http://www.mcpennsylvania.com/3992\n",
        "  Read 8512 bytes"
       ]
      },
      {
       "output_type": "stream",
       "stream": "stdout",
       "text": [
        "\n",
        "  Store not found\n",
        "Trying to fetch store# 3993 from http://www.mcpennsylvania.com/3993\n",
        "  Read 16160 bytes"
       ]
      },
      {
       "output_type": "stream",
       "stream": "stdout",
       "text": [
        "\n",
        "  Address is 138 E  Harvard Blvd|Santa Paula, CA 93060\n",
        "  Geocoded to {u'lat': 34.3464071, u'lng': -119.070653}"
       ]
      },
      {
       "output_type": "stream",
       "stream": "stdout",
       "text": [
        "\n",
        "Wrote 2637 locations to /Users/rsargent/projects/mcdonalds/mcdonalds_locations.json"
       ]
      },
      {
       "output_type": "stream",
       "stream": "stdout",
       "text": [
        "\n",
        "Trying to fetch store# 3994 from http://www.mcpennsylvania.com/3994\n",
        "  Read 16864 bytes"
       ]
      },
      {
       "output_type": "stream",
       "stream": "stdout",
       "text": [
        "\n",
        "  Address is 3005 Fern Valley Rd.|Louisville, KY 40213\n",
        "  Geocoded to {u'lat': 38.157554, u'lng': -85.708359}"
       ]
      },
      {
       "output_type": "stream",
       "stream": "stdout",
       "text": [
        "\n",
        "Trying to fetch store# 3995 from http://www.mcpennsylvania.com/3995\n",
        "  Read 15859 bytes"
       ]
      },
      {
       "output_type": "stream",
       "stream": "stdout",
       "text": [
        "\n",
        "  Address is 1905 W. Northern Ave.|Phoenix, AZ 85021\n",
        "  Geocoded to {u'lat': 33.5529023, u'lng': -112.1005216}"
       ]
      },
      {
       "output_type": "stream",
       "stream": "stdout",
       "text": [
        "\n",
        "Trying to fetch store# 3996 from http://www.mcpennsylvania.com/3996\n",
        "  Read 15228 bytes"
       ]
      },
      {
       "output_type": "stream",
       "stream": "stdout",
       "text": [
        "\n",
        "  Address is 956 W. Reynolds St.|Pontiac, IL 61764\n",
        "  Geocoded to {u'lat': 40.8737019, u'lng': -88.640979}"
       ]
      },
      {
       "output_type": "stream",
       "stream": "stdout",
       "text": [
        "\n",
        "Trying to fetch store# 3997 from http://www.mcpennsylvania.com/3997\n",
        "  Read 16453 bytes"
       ]
      },
      {
       "output_type": "stream",
       "stream": "stdout",
       "text": [
        "\n",
        "  Address is 29161 Canwood Street|Agoura Hills, CA 91301\n",
        "  Geocoded to {u'lat': 34.1471373, u'lng': -118.7601482}"
       ]
      },
      {
       "output_type": "stream",
       "stream": "stdout",
       "text": [
        "\n",
        "Trying to fetch store# 3998 from http://www.mcpennsylvania.com/3998\n",
        "  Read 8512 bytes"
       ]
      },
      {
       "output_type": "stream",
       "stream": "stdout",
       "text": [
        "\n",
        "  Store not found\n",
        "Trying to fetch store# 3999 from http://www.mcpennsylvania.com/3999\n",
        "  Read 8512 bytes"
       ]
      },
      {
       "output_type": "stream",
       "stream": "stdout",
       "text": [
        "\n",
        "  Store not found\n",
        "Trying to fetch store# 4000 from http://www.mcpennsylvania.com/4000\n",
        "  Read 6543 bytes"
       ]
      },
      {
       "output_type": "stream",
       "stream": "stdout",
       "text": [
        "\n",
        "  Store not found\n",
        "Trying to fetch store# 4001 from http://www.mcpennsylvania.com/4001\n",
        "  Read 26459 bytes"
       ]
      },
      {
       "output_type": "stream",
       "stream": "stdout",
       "text": [
        "\n",
        "  Address is 7503 Garvey|Rosemead, CA 91770\n",
        "  Geocoded to {u'lat': 34.0630957, u'lng': -118.1055055}"
       ]
      },
      {
       "output_type": "stream",
       "stream": "stdout",
       "text": [
        "\n",
        "Trying to fetch store# 4002 from http://www.mcpennsylvania.com/4002\n",
        "  Read 15635 bytes"
       ]
      },
      {
       "output_type": "stream",
       "stream": "stdout",
       "text": [
        "\n",
        "  Address is 8164 N. Tamiami Trl|Sarasota, FL 34243\n",
        "  Geocoded to {u'lat': 27.395042, u'lng': -82.563227}"
       ]
      },
      {
       "output_type": "stream",
       "stream": "stdout",
       "text": [
        "\n",
        "Trying to fetch store# 4003 from http://www.mcpennsylvania.com/4003\n",
        "  Read 14102 bytes"
       ]
      },
      {
       "output_type": "stream",
       "stream": "stdout",
       "text": [
        "\n",
        "  Address is 563 Nilles Road|Fairfield, OH 45014\n",
        "  Geocoded to {u'lat': 39.337248, u'lng': -84.561274}"
       ]
      },
      {
       "output_type": "stream",
       "stream": "stdout",
       "text": [
        "\n",
        "Trying to fetch store# 4004 from http://www.mcpennsylvania.com/4004\n",
        "  Read 16248 bytes"
       ]
      },
      {
       "output_type": "stream",
       "stream": "stdout",
       "text": [
        "\n",
        "  Address is 1300 S. Peterson|Douglas, GA 31533\n",
        "  Geocoded to {u'lat': 31.4905185, u'lng': -82.8511298}"
       ]
      },
      {
       "output_type": "stream",
       "stream": "stdout",
       "text": [
        "\n",
        "Trying to fetch store# 4005 from http://www.mcpennsylvania.com/4005\n",
        "  Read 16621 bytes"
       ]
      },
      {
       "output_type": "stream",
       "stream": "stdout",
       "text": [
        "\n",
        "  Address is 904 E. Pickard|Mt. Pleasant, MI 48858\n",
        "  Geocoded to {u'lat': 43.6114291, u'lng': -84.8301674}"
       ]
      },
      {
       "output_type": "stream",
       "stream": "stdout",
       "text": [
        "\n",
        "Trying to fetch store# 4006 from http://www.mcpennsylvania.com/4006\n",
        "  Read 19651 bytes"
       ]
      },
      {
       "output_type": "stream",
       "stream": "stdout",
       "text": [
        "\n",
        "  Address is 601 N. Cunningham|Urbana, IL 61801\n",
        "  Geocoded to {u'lat': 40.118405, u'lng': -88.204624}"
       ]
      },
      {
       "output_type": "stream",
       "stream": "stdout",
       "text": [
        "\n",
        "Wrote 2647 locations to /Users/rsargent/projects/mcdonalds/mcdonalds_locations.json"
       ]
      },
      {
       "output_type": "stream",
       "stream": "stdout",
       "text": [
        "\n",
        "Trying to fetch store# 4007 from http://www.mcpennsylvania.com/4007\n",
        "  Read 14223 bytes"
       ]
      },
      {
       "output_type": "stream",
       "stream": "stdout",
       "text": [
        "\n",
        "  Address is 1111 West Central|Carthage, MO 64836\n",
        "  Geocoded to {u'lat': 37.1788608, u'lng': -94.32468349999999}"
       ]
      },
      {
       "output_type": "stream",
       "stream": "stdout",
       "text": [
        "\n",
        "Trying to fetch store# 4008 from http://www.mcpennsylvania.com/4008\n",
        "  Read 15438 bytes"
       ]
      },
      {
       "output_type": "stream",
       "stream": "stdout",
       "text": [
        "\n",
        "  Address is 6555 Airport Hwy|Holland, OH 43528\n",
        "  Geocoded to {u'lat': 41.61157499999999, u'lng': -83.698357}"
       ]
      },
      {
       "output_type": "stream",
       "stream": "stdout",
       "text": [
        "\n",
        "Trying to fetch store# 4009 from http://www.mcpennsylvania.com/4009\n",
        "  Read 16681 bytes"
       ]
      },
      {
       "output_type": "stream",
       "stream": "stdout",
       "text": [
        "\n",
        "  Address is 9777 Wayne Road|Romulus, MI 48174\n",
        "  Geocoded to {u'lat': 42.23305, u'lng': -83.38502199999999}"
       ]
      },
      {
       "output_type": "stream",
       "stream": "stdout",
       "text": [
        "\n",
        "Trying to fetch store# 4010 from http://www.mcpennsylvania.com/4010\n",
        "  Read 17182 bytes"
       ]
      },
      {
       "output_type": "stream",
       "stream": "stdout",
       "text": [
        "\n",
        "  Address is 3289 E. Valley St.|Salt Lake City, UT 84109\n",
        "  Geocoded to {u'lat': 40.700268, u'lng': -111.8002}"
       ]
      },
      {
       "output_type": "stream",
       "stream": "stdout",
       "text": [
        "\n",
        "Trying to fetch store# 4011 from http://www.mcpennsylvania.com/4011\n",
        "  Read 14047 bytes"
       ]
      },
      {
       "output_type": "stream",
       "stream": "stdout",
       "text": [
        "\n",
        "  Address is 1000 Real Road|Bakersfield, CA 93309\n",
        "  Geocoded to {u'lat': 35.3671391, u'lng': -119.0428649}"
       ]
      },
      {
       "output_type": "stream",
       "stream": "stdout",
       "text": [
        "\n",
        "Trying to fetch store# 4012 from http://www.mcpennsylvania.com/4012\n",
        "  Read 8512 bytes"
       ]
      },
      {
       "output_type": "stream",
       "stream": "stdout",
       "text": [
        "\n",
        "  Store not found\n",
        "Trying to fetch store# 4013 from http://www.mcpennsylvania.com/4013\n",
        "  Read 8512 bytes"
       ]
      },
      {
       "output_type": "stream",
       "stream": "stdout",
       "text": [
        "\n",
        "  Store not found\n",
        "Trying to fetch store# 4014 from http://www.mcpennsylvania.com/4014\n",
        "  Read 8512 bytes"
       ]
      },
      {
       "output_type": "stream",
       "stream": "stdout",
       "text": [
        "\n",
        "  Store not found\n",
        "Trying to fetch store# 4015 from http://www.mcpennsylvania.com/4015\n",
        "  Read 17028 bytes"
       ]
      },
      {
       "output_type": "stream",
       "stream": "stdout",
       "text": [
        "\n",
        "  Address is 109 Salem Tpke|Norwich, CT 06360\n",
        "  Geocoded to {u'lat': 41.510977, u'lng': -72.1142521}"
       ]
      },
      {
       "output_type": "stream",
       "stream": "stdout",
       "text": [
        "\n",
        "Trying to fetch store# 4016 from http://www.mcpennsylvania.com/4016\n",
        "  Read 22052 bytes"
       ]
      },
      {
       "output_type": "stream",
       "stream": "stdout",
       "text": [
        "\n",
        "  Address is 1340 South Frontage Road|Hastings, MN 55033\n",
        "  Geocoded to {u'lat': 44.73776, u'lng': -92.879007}"
       ]
      },
      {
       "output_type": "stream",
       "stream": "stdout",
       "text": [
        "\n",
        "Trying to fetch store# 4017 from http://www.mcpennsylvania.com/4017\n",
        "  Read 19605 bytes"
       ]
      },
      {
       "output_type": "stream",
       "stream": "stdout",
       "text": [
        "\n",
        "  Address is 316 Lancaster By-pass East|Lancaster, SC 29721\n",
        "  Geocoded to {u'lat': 34.733419, u'lng': -80.770163}"
       ]
      },
      {
       "output_type": "stream",
       "stream": "stdout",
       "text": [
        "\n",
        "Trying to fetch store# 4018 from http://www.mcpennsylvania.com/4018\n",
        "  Read 14243 bytes"
       ]
      },
      {
       "output_type": "stream",
       "stream": "stdout",
       "text": [
        "\n",
        "  Address is 1110 Lexington Street|Waltham, MA 02154\n",
        "  Geocoded to {u'lat': 42.3946657, u'lng': -71.2368401}"
       ]
      },
      {
       "output_type": "stream",
       "stream": "stdout",
       "text": [
        "\n",
        "Trying to fetch store# 4019 from http://www.mcpennsylvania.com/4019\n",
        "  Read 13080 bytes"
       ]
      },
      {
       "output_type": "stream",
       "stream": "stdout",
       "text": [
        "\n",
        "  Address is 556 7th Ave.|New York, NY 10018\n",
        "  Geocoded to {u'lat': 40.7547064, u'lng': -73.98794409999999}"
       ]
      },
      {
       "output_type": "stream",
       "stream": "stdout",
       "text": [
        "\n",
        "Wrote 2657 locations to /Users/rsargent/projects/mcdonalds/mcdonalds_locations.json"
       ]
      },
      {
       "output_type": "stream",
       "stream": "stdout",
       "text": [
        "\n",
        "Trying to fetch store# 4020 from http://www.mcpennsylvania.com/4020\n",
        "  Read 12995 bytes"
       ]
      },
      {
       "output_type": "stream",
       "stream": "stdout",
       "text": [
        "\n",
        "  Address is 102-106 1st Ave.|New York, NY 10003\n",
        "  Geocoded to {u'lat': 40.7265978, u'lng': -73.9859965}"
       ]
      },
      {
       "output_type": "stream",
       "stream": "stdout",
       "text": [
        "\n",
        "Trying to fetch store# 4021 from http://www.mcpennsylvania.com/4021\n",
        "  Read 16318 bytes"
       ]
      },
      {
       "output_type": "stream",
       "stream": "stdout",
       "text": [
        "\n",
        "  Address is 58 Sullivan Ave.|Liberty, NY 12754\n",
        "  Geocoded to {u'lat': 41.782534, u'lng': -74.7293057}"
       ]
      },
      {
       "output_type": "stream",
       "stream": "stdout",
       "text": [
        "\n",
        "Trying to fetch store# 4022 from http://www.mcpennsylvania.com/4022\n",
        "  Read 16501 bytes"
       ]
      },
      {
       "output_type": "stream",
       "stream": "stdout",
       "text": [
        "\n",
        "  Address is 10945 Allen Road|Allen Park, MI 48101\n",
        "  Geocoded to {u'lat': 42.2509859, u'lng': -83.2171401}"
       ]
      },
      {
       "output_type": "stream",
       "stream": "stdout",
       "text": [
        "\n",
        "Trying to fetch store# 4023 from http://www.mcpennsylvania.com/4023\n",
        "  Read 6543 bytes"
       ]
      },
      {
       "output_type": "stream",
       "stream": "stdout",
       "text": [
        "\n",
        "  Store not found\n",
        "Trying to fetch store# 4024 from http://www.mcpennsylvania.com/4024\n",
        "  Read 6543 bytes"
       ]
      },
      {
       "output_type": "stream",
       "stream": "stdout",
       "text": [
        "\n",
        "  Store not found\n",
        "Trying to fetch store# 4025 from http://www.mcpennsylvania.com/4025\n",
        "  Read 13440 bytes"
       ]
      },
      {
       "output_type": "stream",
       "stream": "stdout",
       "text": [
        "\n",
        "  Address is 395 Flatbush Avenue Extension|Brooklyn, NY 11201\n",
        "  Geocoded to {u'lat': 40.68938500000001, u'lng': -73.98078199999999}"
       ]
      },
      {
       "output_type": "stream",
       "stream": "stdout",
       "text": [
        "\n",
        "Trying to fetch store# 4026 from http://www.mcpennsylvania.com/4026\n",
        "  Read 6543 bytes"
       ]
      },
      {
       "output_type": "stream",
       "stream": "stdout",
       "text": [
        "\n",
        "  Store not found\n",
        "Trying to fetch store# 4027 from http://www.mcpennsylvania.com/4027\n",
        "  Read 15005 bytes"
       ]
      },
      {
       "output_type": "stream",
       "stream": "stdout",
       "text": [
        "\n",
        "  Address is 1642 Pitkin Ave.|Brooklyn, NY 11212\n",
        "  Geocoded to {u'lat': 40.6693632, u'lng': -73.9127695}"
       ]
      },
      {
       "output_type": "stream",
       "stream": "stdout",
       "text": [
        "\n",
        "Trying to fetch store# 4028 from http://www.mcpennsylvania.com/4028\n",
        "  Read 16145 bytes"
       ]
      },
      {
       "output_type": "stream",
       "stream": "stdout",
       "text": [
        "\n",
        "  Address is 2701 Houston Hwy|Victoria, TX 77901\n",
        "  Geocoded to {u'lat': 28.8102174, u'lng': -96.977255}"
       ]
      },
      {
       "output_type": "stream",
       "stream": "stdout",
       "text": [
        "\n",
        "Trying to fetch store# 4029 from http://www.mcpennsylvania.com/4029\n",
        "  Read 16261 bytes"
       ]
      },
      {
       "output_type": "stream",
       "stream": "stdout",
       "text": [
        "\n",
        "  Address is 1002 Valkenburgh Street|Honolulu, HI 96818\n",
        "  Geocoded to {u'lat': 21.343529, u'lng': -157.928266}"
       ]
      },
      {
       "output_type": "stream",
       "stream": "stdout",
       "text": [
        "\n",
        "Trying to fetch store# 4030 from http://www.mcpennsylvania.com/4030\n",
        "  Read 16349 bytes"
       ]
      },
      {
       "output_type": "stream",
       "stream": "stdout",
       "text": [
        "\n",
        "  Address is 625 N. US Hwy 19|Crystal River, FL 34428\n",
        "  Geocoded to {u'lat': 28.89979, u'lng': -82.58773599999999}"
       ]
      },
      {
       "output_type": "stream",
       "stream": "stdout",
       "text": [
        "\n",
        "Trying to fetch store# 4031 from http://www.mcpennsylvania.com/4031\n",
        "  Read 8512 bytes"
       ]
      },
      {
       "output_type": "stream",
       "stream": "stdout",
       "text": [
        "\n",
        "  Store not found\n",
        "Trying to fetch store# 4032 from http://www.mcpennsylvania.com/4032\n",
        "  Read 15534 bytes"
       ]
      },
      {
       "output_type": "stream",
       "stream": "stdout",
       "text": [
        "\n",
        "  Address is 4020 Colfax Ave.|Denver, CO 80204\n",
        "  Geocoded to {u'lat': 39.740034, u'lng': -105.03965}"
       ]
      },
      {
       "output_type": "stream",
       "stream": "stdout",
       "text": [
        "\n",
        "Trying to fetch store# 4033 from http://www.mcpennsylvania.com/4033\n",
        "  Read 8512 bytes"
       ]
      },
      {
       "output_type": "stream",
       "stream": "stdout",
       "text": [
        "\n",
        "  Store not found\n",
        "Trying to fetch store# 4034 from http://www.mcpennsylvania.com/4034\n",
        "  Read 8512 bytes"
       ]
      },
      {
       "output_type": "stream",
       "stream": "stdout",
       "text": [
        "\n",
        "  Store not found\n",
        "Trying to fetch store# 4035 from http://www.mcpennsylvania.com/4035\n",
        "  Read 16214 bytes"
       ]
      },
      {
       "output_type": "stream",
       "stream": "stdout",
       "text": [
        "\n",
        "  Address is 1324 E. Hatch Rd.|Modesto, CA 95351\n",
        "  Geocoded to {u'lat': 37.6092383, u'lng': -120.9738843}"
       ]
      },
      {
       "output_type": "stream",
       "stream": "stdout",
       "text": [
        "\n",
        "Wrote 2667 locations to /Users/rsargent/projects/mcdonalds/mcdonalds_locations.json"
       ]
      },
      {
       "output_type": "stream",
       "stream": "stdout",
       "text": [
        "\n",
        "Trying to fetch store# 4036 from http://www.mcpennsylvania.com/4036\n",
        "  Read 20787 bytes"
       ]
      },
      {
       "output_type": "stream",
       "stream": "stdout",
       "text": [
        "\n",
        "  Address is 1440 Stinson Blvd.|Minneapolis, MN 55413\n",
        "  Geocoded to {u'lat': 45.002695, u'lng': -93.228314}"
       ]
      },
      {
       "output_type": "stream",
       "stream": "stdout",
       "text": [
        "\n",
        "Trying to fetch store# 4037 from http://www.mcpennsylvania.com/4037\n",
        "  Read 15991 bytes"
       ]
      },
      {
       "output_type": "stream",
       "stream": "stdout",
       "text": [
        "\n",
        "  Address is 17 E 3300 S|Salt Lake City, UT 84115\n",
        "  Geocoded to {u'lat': 40.6998016, u'lng': -111.8907853}"
       ]
      },
      {
       "output_type": "stream",
       "stream": "stdout",
       "text": [
        "\n",
        "Trying to fetch store# 4038 from http://www.mcpennsylvania.com/4038\n",
        "  Read 8512 bytes"
       ]
      },
      {
       "output_type": "stream",
       "stream": "stdout",
       "text": [
        "\n",
        "  Store not found\n",
        "Trying to fetch store# 4039 from http://www.mcpennsylvania.com/4039\n",
        "  Read 15126 bytes"
       ]
      },
      {
       "output_type": "stream",
       "stream": "stdout",
       "text": [
        "\n",
        "  Address is 262 Grider St.|Buffalo, NY 14215\n",
        "  Geocoded to {u'lat': 42.9216848, u'lng': -78.8297017}"
       ]
      },
      {
       "output_type": "stream",
       "stream": "stdout",
       "text": [
        "\n",
        "Trying to fetch store# 4040 from http://www.mcpennsylvania.com/4040\n",
        "  Read 8512 bytes"
       ]
      },
      {
       "output_type": "stream",
       "stream": "stdout",
       "text": [
        "\n",
        "  Store not found\n",
        "Trying to fetch store# 4041 from http://www.mcpennsylvania.com/4041\n",
        "  Read 14320 bytes"
       ]
      },
      {
       "output_type": "stream",
       "stream": "stdout",
       "text": [
        "\n",
        "  Address is 1822 Indianapolis Blvd.|Whiting, IN 46394\n",
        "  Geocoded to {u'lat': 41.6807943, u'lng': -87.5008136}"
       ]
      },
      {
       "output_type": "stream",
       "stream": "stdout",
       "text": [
        "\n",
        "Trying to fetch store# 4042 from http://www.mcpennsylvania.com/4042\n",
        "  Read 8512 bytes"
       ]
      },
      {
       "output_type": "stream",
       "stream": "stdout",
       "text": [
        "\n",
        "  Store not found\n",
        "Trying to fetch store# 4043 from http://www.mcpennsylvania.com/4043\n",
        "  Read 8512 bytes"
       ]
      },
      {
       "output_type": "stream",
       "stream": "stdout",
       "text": [
        "\n",
        "  Store not found\n",
        "Trying to fetch store# 4044 from http://www.mcpennsylvania.com/4044\n",
        "  Read 6543 bytes"
       ]
      },
      {
       "output_type": "stream",
       "stream": "stdout",
       "text": [
        "\n",
        "  Store not found\n",
        "Trying to fetch store# 4045 from http://www.mcpennsylvania.com/4045\n",
        "  Read 15759 bytes"
       ]
      },
      {
       "output_type": "stream",
       "stream": "stdout",
       "text": [
        "\n",
        "  Address is 4133 Lawrenceville Highway|Lilburn, GA 30047\n",
        "  Geocoded to {u'lat': 33.9036491, u'lng': -84.11872439999999}"
       ]
      },
      {
       "output_type": "stream",
       "stream": "stdout",
       "text": [
        "\n",
        "Trying to fetch store# 4046 from http://www.mcpennsylvania.com/4046\n",
        "  Read 16093 bytes"
       ]
      },
      {
       "output_type": "stream",
       "stream": "stdout",
       "text": [
        "\n",
        "  Address is 1402 Tara Hills Dr.|Pinole, CA 94564\n",
        "  Geocoded to {u'lat': 37.996103, u'lng': -122.304899}"
       ]
      },
      {
       "output_type": "stream",
       "stream": "stdout",
       "text": [
        "\n",
        "Trying to fetch store# 4047 from http://www.mcpennsylvania.com/4047\n",
        "  Read 8512 bytes"
       ]
      },
      {
       "output_type": "stream",
       "stream": "stdout",
       "text": [
        "\n",
        "  Store not found\n",
        "Trying to fetch store# 4048 from http://www.mcpennsylvania.com/4048\n",
        "  Read 8512 bytes"
       ]
      },
      {
       "output_type": "stream",
       "stream": "stdout",
       "text": [
        "\n",
        "  Store not found\n",
        "Trying to fetch store# 4049 from http://www.mcpennsylvania.com/4049\n",
        "  Read 19465 bytes"
       ]
      },
      {
       "output_type": "stream",
       "stream": "stdout",
       "text": [
        "\n",
        "  Address is 3151 Dirksen Parkway|Springfield, IL 62703\n",
        "  Geocoded to {u'lat': 39.760639, u'lng': -89.60784}"
       ]
      },
      {
       "output_type": "stream",
       "stream": "stdout",
       "text": [
        "\n",
        "Trying to fetch store# 4050 from http://www.mcpennsylvania.com/4050\n",
        "  Read 6543 bytes"
       ]
      },
      {
       "output_type": "stream",
       "stream": "stdout",
       "text": [
        "\n",
        "  Store not found\n",
        "Trying to fetch store# 4051 from http://www.mcpennsylvania.com/4051\n",
        "  Read 13745 bytes"
       ]
      },
      {
       "output_type": "stream",
       "stream": "stdout",
       "text": [
        "\n",
        "  Address is 5920 Line Ave.|Shreveport, LA 71106\n",
        "  Geocoded to {u'lat': 32.453522, u'lng': -93.74650199999999}"
       ]
      },
      {
       "output_type": "stream",
       "stream": "stdout",
       "text": [
        "\n",
        "Trying to fetch store# 4052 from http://www.mcpennsylvania.com/4052\n",
        "  Read 8512 bytes"
       ]
      },
      {
       "output_type": "stream",
       "stream": "stdout",
       "text": [
        "\n",
        "  Store not found\n",
        "Trying to fetch store# 4053 from http://www.mcpennsylvania.com/4053\n",
        "  Read 17150 bytes"
       ]
      },
      {
       "output_type": "stream",
       "stream": "stdout",
       "text": [
        "\n",
        "  Address is 39700 Five Mile Road|Plymouth, MI 48170\n",
        "  Geocoded to {u'lat': 42.3966179, u'lng': -83.43526399999999}"
       ]
      },
      {
       "output_type": "stream",
       "stream": "stdout",
       "text": [
        "\n",
        "Trying to fetch store# 4054 from http://www.mcpennsylvania.com/4054\n",
        "  Read 16546 bytes"
       ]
      },
      {
       "output_type": "stream",
       "stream": "stdout",
       "text": [
        "\n",
        "  Address is 1221 Tolland Tpke|Manchester, CT 06040\n",
        "  Geocoded to {u'lat': 41.7966927, u'lng': -72.5536874}"
       ]
      },
      {
       "output_type": "stream",
       "stream": "stdout",
       "text": [
        "\n",
        "Wrote 2677 locations to /Users/rsargent/projects/mcdonalds/mcdonalds_locations.json"
       ]
      },
      {
       "output_type": "stream",
       "stream": "stdout",
       "text": [
        "\n",
        "Trying to fetch store# 4055 from http://www.mcpennsylvania.com/4055\n",
        "  Read 8512 bytes"
       ]
      },
      {
       "output_type": "stream",
       "stream": "stdout",
       "text": [
        "\n",
        "  Store not found\n",
        "Trying to fetch store# 4056 from http://www.mcpennsylvania.com/4056\n",
        "  Read 15561 bytes"
       ]
      },
      {
       "output_type": "stream",
       "stream": "stdout",
       "text": [
        "\n",
        "  Address is 4215 Rainbow|Kansas City, KS 66103\n",
        "  Geocoded to {u'lat': 39.0508064, u'lng': -94.6114483}"
       ]
      },
      {
       "output_type": "stream",
       "stream": "stdout",
       "text": [
        "\n",
        "Trying to fetch store# 4057 from http://www.mcpennsylvania.com/4057\n",
        "  Read 14428 bytes"
       ]
      },
      {
       "output_type": "stream",
       "stream": "stdout",
       "text": [
        "\n",
        "  Address is 3504 North Belt Highway|St. Joseph, MO 64506\n",
        "  Geocoded to {u'lat': 39.8019328, u'lng': -94.8161701}"
       ]
      },
      {
       "output_type": "stream",
       "stream": "stdout",
       "text": [
        "\n",
        "Trying to fetch store# 4058 from http://www.mcpennsylvania.com/4058\n",
        "  Read 6543 bytes"
       ]
      },
      {
       "output_type": "stream",
       "stream": "stdout",
       "text": [
        "\n",
        "  Store not found\n",
        "Trying to fetch store# 4059 from http://www.mcpennsylvania.com/4059\n",
        "  Read 8512 bytes"
       ]
      },
      {
       "output_type": "stream",
       "stream": "stdout",
       "text": [
        "\n",
        "  Store not found\n",
        "Trying to fetch store# 4060 from http://www.mcpennsylvania.com/4060\n",
        "  Read 14196 bytes"
       ]
      },
      {
       "output_type": "stream",
       "stream": "stdout",
       "text": [
        "\n",
        "  Address is 505 A St|Sun Prairie, WI 53590\n",
        "  Geocoded to {u'lat': 43.187935, u'lng': -89.22996599999999}"
       ]
      },
      {
       "output_type": "stream",
       "stream": "stdout",
       "text": [
        "\n",
        "Trying to fetch store# 4061 from http://www.mcpennsylvania.com/4061\n",
        "  Read 13866 bytes"
       ]
      },
      {
       "output_type": "stream",
       "stream": "stdout",
       "text": [
        "\n",
        "  Address is 180 W. Adams|Chicago, IL 60603\n",
        "  Geocoded to {u'lat': 41.8794585, u'lng': -87.6332898}"
       ]
      },
      {
       "output_type": "stream",
       "stream": "stdout",
       "text": [
        "\n",
        "Trying to fetch store# 4062 from http://www.mcpennsylvania.com/4062\n",
        "  Read 6543 bytes"
       ]
      },
      {
       "output_type": "stream",
       "stream": "stdout",
       "text": [
        "\n",
        "  Store not found\n",
        "Trying to fetch store# 4063 from http://www.mcpennsylvania.com/4063\n",
        "  Read 16205 bytes"
       ]
      },
      {
       "output_type": "stream",
       "stream": "stdout",
       "text": [
        "\n",
        "  Address is 1122 Madison St.|Seattle, WA 98104\n",
        "  Geocoded to {u'lat': 47.60987799999999, u'lng': -122.324563}"
       ]
      },
      {
       "output_type": "stream",
       "stream": "stdout",
       "text": [
        "\n",
        "Trying to fetch store# 4064 from http://www.mcpennsylvania.com/4064\n",
        "  Read 8512 bytes"
       ]
      },
      {
       "output_type": "stream",
       "stream": "stdout",
       "text": [
        "\n",
        "  Store not found\n",
        "Trying to fetch store# 4065 from http://www.mcpennsylvania.com/4065\n",
        "  Read 8512 bytes"
       ]
      },
      {
       "output_type": "stream",
       "stream": "stdout",
       "text": [
        "\n",
        "  Store not found\n",
        "Trying to fetch store# 4066 from http://www.mcpennsylvania.com/4066\n",
        "  Read 15990 bytes"
       ]
      },
      {
       "output_type": "stream",
       "stream": "stdout",
       "text": [
        "\n",
        "  Address is 402 W. Main St.|Gallatin, TN 37066\n",
        "  Geocoded to {u'lat': 36.38566, u'lng': -86.45517199999999}"
       ]
      },
      {
       "output_type": "stream",
       "stream": "stdout",
       "text": [
        "\n",
        "Trying to fetch store# 4067 from http://www.mcpennsylvania.com/4067\n",
        "  Read 14248 bytes"
       ]
      },
      {
       "output_type": "stream",
       "stream": "stdout",
       "text": [
        "\n",
        "  Address is 2901 Dryden Dr|Madison, WI 53704\n",
        "  Geocoded to {u'lat': 43.12838, u'lng': -89.35894599999999}"
       ]
      },
      {
       "output_type": "stream",
       "stream": "stdout",
       "text": [
        "\n",
        "Trying to fetch store# 4068 from http://www.mcpennsylvania.com/4068\n",
        "  Read 16802 bytes"
       ]
      },
      {
       "output_type": "stream",
       "stream": "stdout",
       "text": [
        "\n",
        "  Address is 75 Derry Road|Hudson, NH 03051\n",
        "  Geocoded to {u'lat': 42.7741361, u'lng': -71.4443505}"
       ]
      },
      {
       "output_type": "stream",
       "stream": "stdout",
       "text": [
        "\n",
        "Trying to fetch store# 4069 from http://www.mcpennsylvania.com/4069\n",
        "  Read 8512 bytes"
       ]
      },
      {
       "output_type": "stream",
       "stream": "stdout",
       "text": [
        "\n",
        "  Store not found\n",
        "Trying to fetch store# 4070 from http://www.mcpennsylvania.com/4070\n",
        "  Read 15511 bytes"
       ]
      },
      {
       "output_type": "stream",
       "stream": "stdout",
       "text": [
        "\n",
        "  Address is 389 Rt 4|Hagatna, GU 96910\n",
        "  Geocoded to {u'lat': 13.4708908, u'lng': 144.7512782}"
       ]
      },
      {
       "output_type": "stream",
       "stream": "stdout",
       "text": [
        "\n",
        "Trying to fetch store# 4071 from http://www.mcpennsylvania.com/4071\n",
        "  Read 16217 bytes"
       ]
      },
      {
       "output_type": "stream",
       "stream": "stdout",
       "text": [
        "\n",
        "  Address is Canal & Tansill|Carlsbad, NM 88220\n",
        "  Geocoded to {u'lat': 32.4167838, u'lng': -104.2290946}"
       ]
      },
      {
       "output_type": "stream",
       "stream": "stdout",
       "text": [
        "\n",
        "Wrote 2687 locations to /Users/rsargent/projects/mcdonalds/mcdonalds_locations.json"
       ]
      },
      {
       "output_type": "stream",
       "stream": "stdout",
       "text": [
        "\n",
        "Trying to fetch store# 4072 from http://www.mcpennsylvania.com/4072\n",
        "  Read 16668 bytes"
       ]
      },
      {
       "output_type": "stream",
       "stream": "stdout",
       "text": [
        "\n",
        "  Address is 825 Beaver Grade Rd.|Moon Twp, PA 15108\n",
        "  Geocoded to {u'lat': 40.5173408, u'lng': -80.21873819999999}"
       ]
      },
      {
       "output_type": "stream",
       "stream": "stdout",
       "text": [
        "\n",
        "Trying to fetch store# 4073 from http://www.mcpennsylvania.com/4073\n",
        "  Read 15939 bytes"
       ]
      },
      {
       "output_type": "stream",
       "stream": "stdout",
       "text": [
        "\n",
        "  Address is 30519 Hwy 441 S|Commerce, GA 30529\n",
        "  Geocoded to {u'lat': 34.258895, u'lng': -83.46502730000002}"
       ]
      },
      {
       "output_type": "stream",
       "stream": "stdout",
       "text": [
        "\n",
        "Trying to fetch store# 4074 from http://www.mcpennsylvania.com/4074\n",
        "  Read 17216 bytes"
       ]
      },
      {
       "output_type": "stream",
       "stream": "stdout",
       "text": [
        "\n",
        "  Address is 1505 Blackwood-Clementon Road|Blackwood, NJ 08012\n",
        "  Geocoded to {u'lat': 39.803659, u'lng': -75.043639}"
       ]
      },
      {
       "output_type": "stream",
       "stream": "stdout",
       "text": [
        "\n",
        "Trying to fetch store# 4075 from http://www.mcpennsylvania.com/4075\n",
        "  Read 17630 bytes"
       ]
      },
      {
       "output_type": "stream",
       "stream": "stdout",
       "text": [
        "\n",
        "  Address is 1011 East 17Th Street|Santa Ana, CA 92706\n",
        "  Geocoded to {u'lat': 33.760098, u'lng': -117.87849}"
       ]
      },
      {
       "output_type": "stream",
       "stream": "stdout",
       "text": [
        "\n",
        "Trying to fetch store# 4076 from http://www.mcpennsylvania.com/4076\n",
        "  Read 15649 bytes"
       ]
      },
      {
       "output_type": "stream",
       "stream": "stdout",
       "text": [
        "\n",
        "  Address is 1608 E Ash|Globe, AZ 85501\n",
        "  Geocoded to {u'lat': 33.3949149, u'lng': -110.7689535}"
       ]
      },
      {
       "output_type": "stream",
       "stream": "stdout",
       "text": [
        "\n",
        "Trying to fetch store# 4077 from http://www.mcpennsylvania.com/4077\n",
        "  Read 17247 bytes"
       ]
      },
      {
       "output_type": "stream",
       "stream": "stdout",
       "text": [
        "\n",
        "  Address is 5105 28th St. SE|Grand Rapids, MI 49512\n",
        "  Geocoded to {u'lat': 42.91360299999999, u'lng': -85.542046}"
       ]
      },
      {
       "output_type": "stream",
       "stream": "stdout",
       "text": [
        "\n",
        "Trying to fetch store# 4078 from http://www.mcpennsylvania.com/4078\n",
        "  Read 8512 bytes"
       ]
      },
      {
       "output_type": "stream",
       "stream": "stdout",
       "text": [
        "\n",
        "  Store not found\n",
        "Trying to fetch store# 4079 from http://www.mcpennsylvania.com/4079\n",
        "  Read 16666 bytes"
       ]
      },
      {
       "output_type": "stream",
       "stream": "stdout",
       "text": [
        "\n",
        "  Address is 907 E National Ave|Brazil, IN 47834\n",
        "  Geocoded to {u'lat': 39.525839, u'lng': -87.11469199999999}"
       ]
      },
      {
       "output_type": "stream",
       "stream": "stdout",
       "text": [
        "\n",
        "Trying to fetch store# 4080 from http://www.mcpennsylvania.com/4080\n",
        "  Read 8512 bytes"
       ]
      },
      {
       "output_type": "stream",
       "stream": "stdout",
       "text": [
        "\n",
        "  Store not found\n",
        "Trying to fetch store# 4081 from http://www.mcpennsylvania.com/4081\n",
        "  Read 16130 bytes"
       ]
      },
      {
       "output_type": "stream",
       "stream": "stdout",
       "text": [
        "\n",
        "  Address is 600 W. Maple|New Lenox, IL 60415\n",
        "  Geocoded to {u'lat': 41.517733, u'lng': -87.98181799999999}"
       ]
      },
      {
       "output_type": "stream",
       "stream": "stdout",
       "text": [
        "\n",
        "Trying to fetch store# 4082 from http://www.mcpennsylvania.com/4082\n",
        "  Read 8512 bytes"
       ]
      },
      {
       "output_type": "stream",
       "stream": "stdout",
       "text": [
        "\n",
        "  Store not found\n",
        "Trying to fetch store# 4083 from http://www.mcpennsylvania.com/4083\n",
        "  Read 8512 bytes"
       ]
      },
      {
       "output_type": "stream",
       "stream": "stdout",
       "text": [
        "\n",
        "  Store not found\n",
        "Trying to fetch store# 4084 from http://www.mcpennsylvania.com/4084\n",
        "  Read 8512 bytes"
       ]
      },
      {
       "output_type": "stream",
       "stream": "stdout",
       "text": [
        "\n",
        "  Store not found\n",
        "Trying to fetch store# 4085 from http://www.mcpennsylvania.com/4085\n",
        "  Read 8512 bytes"
       ]
      },
      {
       "output_type": "stream",
       "stream": "stdout",
       "text": [
        "\n",
        "  Store not found\n",
        "Trying to fetch store# 4086 from http://www.mcpennsylvania.com/4086\n",
        "  Read 8512 bytes"
       ]
      },
      {
       "output_type": "stream",
       "stream": "stdout",
       "text": [
        "\n",
        "  Store not found\n",
        "Trying to fetch store# 4087 from http://www.mcpennsylvania.com/4087\n",
        "  Read 16905 bytes"
       ]
      },
      {
       "output_type": "stream",
       "stream": "stdout",
       "text": [
        "\n",
        "  Address is US 60 HWY 53|Shelbyville, KY 40066\n",
        "  Geocoded to {u'lat': 38.2324104, u'lng': -85.23939659999999}"
       ]
      },
      {
       "output_type": "stream",
       "stream": "stdout",
       "text": [
        "\n",
        "Trying to fetch store# 4088 from http://www.mcpennsylvania.com/4088\n",
        "  Read 16436 bytes"
       ]
      },
      {
       "output_type": "stream",
       "stream": "stdout",
       "text": [
        "\n",
        "  Address is 2738 S. Main St.|High Point, NC 27263\n",
        "  Geocoded to {u'lat': 35.924733, u'lng': -79.983998}"
       ]
      },
      {
       "output_type": "stream",
       "stream": "stdout",
       "text": [
        "\n",
        "Wrote 2697 locations to /Users/rsargent/projects/mcdonalds/mcdonalds_locations.json"
       ]
      },
      {
       "output_type": "stream",
       "stream": "stdout",
       "text": [
        "\n",
        "Trying to fetch store# 4089 from http://www.mcpennsylvania.com/4089\n",
        "  Read 19370 bytes"
       ]
      },
      {
       "output_type": "stream",
       "stream": "stdout",
       "text": [
        "\n",
        "  Address is 980 East Alosta Avenue|Azusa, CA 91702\n",
        "  Geocoded to {u'lat': 34.1282951, u'lng': -117.887503}"
       ]
      },
      {
       "output_type": "stream",
       "stream": "stdout",
       "text": [
        "\n",
        "Trying to fetch store# 4090 from http://www.mcpennsylvania.com/4090\n",
        "  Read 16393 bytes"
       ]
      },
      {
       "output_type": "stream",
       "stream": "stdout",
       "text": [
        "\n",
        "  Address is 3810 South Bristol Avenue|Santa Ana, CA 92704\n",
        "  Geocoded to {u'lat': 33.6966789, u'lng': -117.8858761}"
       ]
      },
      {
       "output_type": "stream",
       "stream": "stdout",
       "text": [
        "\n",
        "Trying to fetch store# 4091 from http://www.mcpennsylvania.com/4091\n",
        "  Read 8512 bytes"
       ]
      },
      {
       "output_type": "stream",
       "stream": "stdout",
       "text": [
        "\n",
        "  Store not found\n",
        "Trying to fetch store# 4092 from http://www.mcpennsylvania.com/4092\n",
        "  Read 15697 bytes"
       ]
      },
      {
       "output_type": "stream",
       "stream": "stdout",
       "text": [
        "\n",
        "  Address is 6300 San Mateo Blvd NE|Albuquerque, NM 87107\n",
        "  Geocoded to {u'lat': 35.1490297, u'lng': -106.5848172}"
       ]
      },
      {
       "output_type": "stream",
       "stream": "stdout",
       "text": [
        "\n",
        "Trying to fetch store# 4093 from http://www.mcpennsylvania.com/4093\n",
        "  Read 18040 bytes"
       ]
      },
      {
       "output_type": "stream",
       "stream": "stdout",
       "text": [
        "\n",
        "  Address is 1190 E. Cherry Street|Jesup, GA 31545\n",
        "  Geocoded to {u'lat': 31.6171014, u'lng': -81.8973412}"
       ]
      },
      {
       "output_type": "stream",
       "stream": "stdout",
       "text": [
        "\n",
        "Trying to fetch store# 4094 from http://www.mcpennsylvania.com/4094\n",
        "  Read 14402 bytes"
       ]
      },
      {
       "output_type": "stream",
       "stream": "stdout",
       "text": [
        "\n",
        "  Address is 3455 W. Peoria|Phoenix, AZ 85029\n",
        "  Geocoded to {u'lat': 33.58148, u'lng': -112.133613}"
       ]
      },
      {
       "output_type": "stream",
       "stream": "stdout",
       "text": [
        "\n",
        "Trying to fetch store# 4095 from http://www.mcpennsylvania.com/4095\n",
        "  Read 8512 bytes"
       ]
      },
      {
       "output_type": "stream",
       "stream": "stdout",
       "text": [
        "\n",
        "  Store not found\n",
        "Trying to fetch store# 4096 from http://www.mcpennsylvania.com/4096\n",
        "  Read 15864 bytes"
       ]
      },
      {
       "output_type": "stream",
       "stream": "stdout",
       "text": [
        "\n",
        "  Address is 1831 S. Dort Hwy|Flint, MI 48504\n",
        "  Geocoded to {u'lat': 43.008345, u'lng': -83.653556}"
       ]
      },
      {
       "output_type": "stream",
       "stream": "stdout",
       "text": [
        "\n",
        "Trying to fetch store# 4097 from http://www.mcpennsylvania.com/4097\n",
        "  Read 14768 bytes"
       ]
      },
      {
       "output_type": "stream",
       "stream": "stdout",
       "text": [
        "\n",
        "  Address is 5543 Fenton Rd.|Flint, MI 48507\n",
        "  Geocoded to {u'lat': 42.944866, u'lng': -83.691244}"
       ]
      },
      {
       "output_type": "stream",
       "stream": "stdout",
       "text": [
        "\n",
        "Trying to fetch store# 4098 from http://www.mcpennsylvania.com/4098\n",
        "  Read 8512 bytes"
       ]
      },
      {
       "output_type": "stream",
       "stream": "stdout",
       "text": [
        "\n",
        "  Store not found\n",
        "Trying to fetch store# 4099 from http://www.mcpennsylvania.com/4099\n",
        "  Read 16077 bytes"
       ]
      },
      {
       "output_type": "stream",
       "stream": "stdout",
       "text": [
        "\n",
        "  Address is 6205 Youree Dr.|Shreveport, LA 71105\n",
        "  Geocoded to {u'lat': 32.4504338, u'lng': -93.7219429}"
       ]
      },
      {
       "output_type": "stream",
       "stream": "stdout",
       "text": [
        "\n",
        "Trying to fetch store# 4100 from http://www.mcpennsylvania.com/4100\n",
        "  Read 16709 bytes"
       ]
      },
      {
       "output_type": "stream",
       "stream": "stdout",
       "text": [
        "\n",
        "  Address is 825 Stratford Road|Moses Lake, WA 98837\n",
        "  Geocoded to {u'lat': 47.139962, u'lng': -119.27792}"
       ]
      },
      {
       "output_type": "stream",
       "stream": "stdout",
       "text": [
        "\n",
        "Trying to fetch store# 4101 from http://www.mcpennsylvania.com/4101\n",
        "  Read 16496 bytes"
       ]
      },
      {
       "output_type": "stream",
       "stream": "stdout",
       "text": [
        "\n",
        "  Address is 2500 Dixie Hwy|Louisville, KY 40216\n",
        "  Geocoded to {u'lat': 38.21446, u'lng': -85.79675}"
       ]
      },
      {
       "output_type": "stream",
       "stream": "stdout",
       "text": [
        "\n",
        "Wrote 2707 locations to /Users/rsargent/projects/mcdonalds/mcdonalds_locations.json"
       ]
      },
      {
       "output_type": "stream",
       "stream": "stdout",
       "text": [
        "\n",
        "Trying to fetch store# 4102 from http://www.mcpennsylvania.com/4102\n",
        "  Read 20727 bytes"
       ]
      },
      {
       "output_type": "stream",
       "stream": "stdout",
       "text": [
        "\n",
        "  Address is 335 W Reservoir St|Woodstock, VA 22664\n",
        "  Geocoded to {u'lat': 38.8708204, u'lng': -78.52491619999999}"
       ]
      },
      {
       "output_type": "stream",
       "stream": "stdout",
       "text": [
        "\n",
        "Trying to fetch store# 4103 from http://www.mcpennsylvania.com/4103\n",
        "  Read 19567 bytes"
       ]
      },
      {
       "output_type": "stream",
       "stream": "stdout",
       "text": [
        "\n",
        "  Address is 3201 Coastal Highway|Ocean City, MD 21842\n",
        "  Geocoded to {u'lat': 38.3607619, u'lng': -75.0734705}"
       ]
      },
      {
       "output_type": "stream",
       "stream": "stdout",
       "text": [
        "\n",
        "Trying to fetch store# 4104 from http://www.mcpennsylvania.com/4104\n",
        "  Read 16276 bytes"
       ]
      },
      {
       "output_type": "stream",
       "stream": "stdout",
       "text": [
        "\n",
        "  Address is 2876 Shore Dr|Virginia Beach, VA 23451\n",
        "  Geocoded to {u'lat': 36.912022, u'lng': -76.07095199999999}"
       ]
      },
      {
       "output_type": "stream",
       "stream": "stdout",
       "text": [
        "\n",
        "Trying to fetch store# 4105 from http://www.mcpennsylvania.com/4105\n",
        "  Read 14506 bytes"
       ]
      },
      {
       "output_type": "stream",
       "stream": "stdout",
       "text": [
        "\n",
        "  Address is 925 East Main Street|Pulaski, VA 24301\n",
        "  Geocoded to {u'lat': 37.048892, u'lng': -80.7628919}"
       ]
      },
      {
       "output_type": "stream",
       "stream": "stdout",
       "text": [
        "\n",
        "Trying to fetch store# 4106 from http://www.mcpennsylvania.com/4106\n",
        "  Read 8512 bytes"
       ]
      },
      {
       "output_type": "stream",
       "stream": "stdout",
       "text": [
        "\n",
        "  Store not found\n",
        "Trying to fetch store# 4107 from http://www.mcpennsylvania.com/4107\n",
        "  Read 16523 bytes"
       ]
      },
      {
       "output_type": "stream",
       "stream": "stdout",
       "text": [
        "\n",
        "  Address is 91 W. Irving Park Rd.|Streamwood, IL 60107\n",
        "  Geocoded to {u'lat': 42.012872, u'lng': -88.18507799999999}"
       ]
      },
      {
       "output_type": "stream",
       "stream": "stdout",
       "text": [
        "\n",
        "Trying to fetch store# 4108 from http://www.mcpennsylvania.com/4108\n",
        "  Read 18857 bytes"
       ]
      },
      {
       "output_type": "stream",
       "stream": "stdout",
       "text": [
        "\n",
        "  Address is 2705 Via de la Valle|Del Mar, CA 92014\n",
        "  Geocoded to {u'lat': 32.9802843, u'lng': -117.2495046}"
       ]
      },
      {
       "output_type": "stream",
       "stream": "stdout",
       "text": [
        "\n",
        "Trying to fetch store# 4109 from http://www.mcpennsylvania.com/4109\n",
        "  Read 8512 bytes"
       ]
      },
      {
       "output_type": "stream",
       "stream": "stdout",
       "text": [
        "\n",
        "  Store not found\n",
        "Trying to fetch store# 4110 from http://www.mcpennsylvania.com/4110\n",
        "  Read 15953 bytes"
       ]
      },
      {
       "output_type": "stream",
       "stream": "stdout",
       "text": [
        "\n",
        "  Address is 1710 N. 16th St.|Orange, TX 77630\n",
        "  Geocoded to {u'lat': 30.107663, u'lng': -93.746763}"
       ]
      },
      {
       "output_type": "stream",
       "stream": "stdout",
       "text": [
        "\n",
        "Trying to fetch store# 4111 from http://www.mcpennsylvania.com/4111\n",
        "  Read 17178 bytes"
       ]
      },
      {
       "output_type": "stream",
       "stream": "stdout",
       "text": [
        "\n",
        "  Address is 611 W. Charter Way|Stockton, CA 95206\n",
        "  Geocoded to {u'lat': 37.93727519999999, u'lng': -121.2956597}"
       ]
      },
      {
       "output_type": "stream",
       "stream": "stdout",
       "text": [
        "\n",
        "Trying to fetch store# 4112 from http://www.mcpennsylvania.com/4112\n",
        "  Read 16289 bytes"
       ]
      },
      {
       "output_type": "stream",
       "stream": "stdout",
       "text": [
        "\n",
        "  Address is 630 W Sample Rd.|Pompano Beach, FL 33064\n",
        "  Geocoded to {u'lat': 26.274371, u'lng': -80.1322409}"
       ]
      },
      {
       "output_type": "stream",
       "stream": "stdout",
       "text": [
        "\n",
        "Trying to fetch store# 4113 from http://www.mcpennsylvania.com/4113\n",
        "  Read 13847 bytes"
       ]
      },
      {
       "output_type": "stream",
       "stream": "stdout",
       "text": [
        "\n",
        "  Address is 907 Cecil Ave|Delano, CA 93215\n",
        "  Geocoded to {u'lat': 35.7762421, u'lng': -119.2465935}"
       ]
      },
      {
       "output_type": "stream",
       "stream": "stdout",
       "text": [
        "\n",
        "Wrote 2717 locations to /Users/rsargent/projects/mcdonalds/mcdonalds_locations.json"
       ]
      },
      {
       "output_type": "stream",
       "stream": "stdout",
       "text": [
        "\n",
        "Trying to fetch store# 4114 from http://www.mcpennsylvania.com/4114\n",
        "  Read 8512 bytes"
       ]
      },
      {
       "output_type": "stream",
       "stream": "stdout",
       "text": [
        "\n",
        "  Store not found\n",
        "Trying to fetch store# 4115 from http://www.mcpennsylvania.com/4115\n",
        "  Read 8512 bytes"
       ]
      },
      {
       "output_type": "stream",
       "stream": "stdout",
       "text": [
        "\n",
        "  Store not found\n",
        "Trying to fetch store# 4116 from http://www.mcpennsylvania.com/4116\n",
        "  Read 8512 bytes"
       ]
      },
      {
       "output_type": "stream",
       "stream": "stdout",
       "text": [
        "\n",
        "  Store not found\n",
        "Trying to fetch store# 4117 from http://www.mcpennsylvania.com/4117\n",
        "  Read 6543 bytes"
       ]
      },
      {
       "output_type": "stream",
       "stream": "stdout",
       "text": [
        "\n",
        "  Store not found\n",
        "Trying to fetch store# 4118 from http://www.mcpennsylvania.com/4118\n",
        "  Read 8512 bytes"
       ]
      },
      {
       "output_type": "stream",
       "stream": "stdout",
       "text": [
        "\n",
        "  Store not found\n",
        "Trying to fetch store# 4119 from http://www.mcpennsylvania.com/4119\n",
        "  Read 17271 bytes"
       ]
      },
      {
       "output_type": "stream",
       "stream": "stdout",
       "text": [
        "\n",
        "  Address is 2302 S. 320th St.|Federal Way, WA 98003\n",
        "  Geocoded to {u'lat': 47.315647, u'lng': -122.30311}"
       ]
      },
      {
       "output_type": "stream",
       "stream": "stdout",
       "text": [
        "\n",
        "Trying to fetch store# 4120 from http://www.mcpennsylvania.com/4120\n",
        "  Read 16280 bytes"
       ]
      },
      {
       "output_type": "stream",
       "stream": "stdout",
       "text": [
        "\n",
        "  Address is 1026 W. 200 N.|Cedar City, UT 84720\n",
        "  Geocoded to {u'lat': 37.6808475, u'lng': -113.0765635}"
       ]
      },
      {
       "output_type": "stream",
       "stream": "stdout",
       "text": [
        "\n",
        "Trying to fetch store# 4121 from http://www.mcpennsylvania.com/4121\n",
        "  Read 15869 bytes"
       ]
      },
      {
       "output_type": "stream",
       "stream": "stdout",
       "text": [
        "\n",
        "  Address is 4317 Northern Pike|Monroeville, PA 15146\n",
        "  Geocoded to {u'lat': 40.434507, u'lng': -79.751806}"
       ]
      },
      {
       "output_type": "stream",
       "stream": "stdout",
       "text": [
        "\n",
        "Trying to fetch store# 4122 from http://www.mcpennsylvania.com/4122\n",
        "  Read 14331 bytes"
       ]
      },
      {
       "output_type": "stream",
       "stream": "stdout",
       "text": [
        "\n",
        "  Address is 4280 Palm Beach Blvd.|Ft. Myers, FL 33905\n",
        "  Geocoded to {u'lat': 26.667713, u'lng': -81.826915}"
       ]
      },
      {
       "output_type": "stream",
       "stream": "stdout",
       "text": [
        "\n",
        "Trying to fetch store# 4123 from http://www.mcpennsylvania.com/4123\n",
        "  Read 17681 bytes"
       ]
      },
      {
       "output_type": "stream",
       "stream": "stdout",
       "text": [
        "\n",
        "  Address is 7400 Hull St Rd|Richmond, VA 23235\n",
        "  Geocoded to {u'lat': 37.470809, u'lng': -77.53007}"
       ]
      },
      {
       "output_type": "stream",
       "stream": "stdout",
       "text": [
        "\n",
        "Trying to fetch store# 4124 from http://www.mcpennsylvania.com/4124\n",
        "  Read 16320 bytes"
       ]
      },
      {
       "output_type": "stream",
       "stream": "stdout",
       "text": [
        "\n",
        "  Address is Winston Ave., Latonia Plz|Latonia, KY 41015\n",
        "  Geocoded to {u'lat': 39.0441, u'lng': -84.5052}"
       ]
      },
      {
       "output_type": "stream",
       "stream": "stdout",
       "text": [
        "\n",
        "Trying to fetch store# 4125 from http://www.mcpennsylvania.com/4125\n",
        "  Read 8512 bytes"
       ]
      },
      {
       "output_type": "stream",
       "stream": "stdout",
       "text": [
        "\n",
        "  Store not found\n",
        "Trying to fetch store# 4126 from http://www.mcpennsylvania.com/4126\n",
        "  Read 15938 bytes"
       ]
      },
      {
       "output_type": "stream",
       "stream": "stdout",
       "text": [
        "\n",
        "  Address is 324 E. Fillmore St.|Colorado Springs, CO 80907\n",
        "  Geocoded to {u'lat': 38.8746643, u'lng': -104.8159445}"
       ]
      },
      {
       "output_type": "stream",
       "stream": "stdout",
       "text": [
        "\n",
        "Trying to fetch store# 4127 from http://www.mcpennsylvania.com/4127\n",
        "  Read 8512 bytes"
       ]
      },
      {
       "output_type": "stream",
       "stream": "stdout",
       "text": [
        "\n",
        "  Store not found\n",
        "Trying to fetch store# 4128 from http://www.mcpennsylvania.com/4128\n",
        "  Read 16840 bytes"
       ]
      },
      {
       "output_type": "stream",
       "stream": "stdout",
       "text": [
        "\n",
        "  Address is 500 North Central Avenue|Glendale, CA 91203\n",
        "  Geocoded to {u'lat': 34.153174, u'lng': -118.2574991}"
       ]
      },
      {
       "output_type": "stream",
       "stream": "stdout",
       "text": [
        "\n",
        "Trying to fetch store# 4129 from http://www.mcpennsylvania.com/4129\n",
        "  Read 6543 bytes"
       ]
      },
      {
       "output_type": "stream",
       "stream": "stdout",
       "text": [
        "\n",
        "  Store not found\n",
        "Trying to fetch store# 4130 from http://www.mcpennsylvania.com/4130\n",
        "  Read 6543 bytes"
       ]
      },
      {
       "output_type": "stream",
       "stream": "stdout",
       "text": [
        "\n",
        "  Store not found\n",
        "Trying to fetch store# 4131 from http://www.mcpennsylvania.com/4131\n",
        "  Read 8512 bytes"
       ]
      },
      {
       "output_type": "stream",
       "stream": "stdout",
       "text": [
        "\n",
        "  Store not found\n",
        "Trying to fetch store# 4132 from http://www.mcpennsylvania.com/4132\n",
        "  Read 6543 bytes"
       ]
      },
      {
       "output_type": "stream",
       "stream": "stdout",
       "text": [
        "\n",
        "  Store not found\n",
        "Trying to fetch store# 4133 from http://www.mcpennsylvania.com/4133\n",
        "  Read 6543 bytes"
       ]
      },
      {
       "output_type": "stream",
       "stream": "stdout",
       "text": [
        "\n",
        "  Store not found\n",
        "Trying to fetch store# 4134 from http://www.mcpennsylvania.com/4134\n",
        "  Read 17012 bytes"
       ]
      },
      {
       "output_type": "stream",
       "stream": "stdout",
       "text": [
        "\n",
        "  Address is 727 PA-113|Souderton, PA 18964\n",
        "  Geocoded to {u'lat': 40.3148748, u'lng': -75.3112677}"
       ]
      },
      {
       "output_type": "stream",
       "stream": "stdout",
       "text": [
        "\n",
        "Trying to fetch store# 4135 from http://www.mcpennsylvania.com/4135\n",
        "  Read 13401 bytes"
       ]
      },
      {
       "output_type": "stream",
       "stream": "stdout",
       "text": [
        "\n",
        "  Address is 6615 Jonesboro Road|Morrow, GA 30260\n",
        "  Geocoded to {u'lat': 33.584088, u'lng': -84.3391745}"
       ]
      },
      {
       "output_type": "stream",
       "stream": "stdout",
       "text": [
        "\n",
        "Wrote 2727 locations to /Users/rsargent/projects/mcdonalds/mcdonalds_locations.json"
       ]
      },
      {
       "output_type": "stream",
       "stream": "stdout",
       "text": [
        "\n",
        "Trying to fetch store# 4136 from http://www.mcpennsylvania.com/4136\n",
        "  Read 8512 bytes"
       ]
      },
      {
       "output_type": "stream",
       "stream": "stdout",
       "text": [
        "\n",
        "  Store not found\n",
        "Trying to fetch store# 4137 from http://www.mcpennsylvania.com/4137\n",
        "  Read 14222 bytes"
       ]
      },
      {
       "output_type": "stream",
       "stream": "stdout",
       "text": [
        "\n",
        "  Address is 2001 E Cone Blvd|Greensboro, NC 27405\n",
        "  Geocoded to {u'lat': 36.1133219, u'lng': -79.75315599999999}"
       ]
      },
      {
       "output_type": "stream",
       "stream": "stdout",
       "text": [
        "\n",
        "Trying to fetch store# 4138 from http://www.mcpennsylvania.com/4138\n",
        "  Read 16842 bytes"
       ]
      },
      {
       "output_type": "stream",
       "stream": "stdout",
       "text": [
        "\n",
        "  Address is 1416 Lipscomb Road|Wilson, NC 27893\n",
        "  Geocoded to {u'lat': 35.7233487, u'lng': -77.8938814}"
       ]
      },
      {
       "output_type": "stream",
       "stream": "stdout",
       "text": [
        "\n",
        "Trying to fetch store# 4139 from http://www.mcpennsylvania.com/4139\n",
        "  Read 8512 bytes"
       ]
      },
      {
       "output_type": "stream",
       "stream": "stdout",
       "text": [
        "\n",
        "  Store not found\n",
        "Trying to fetch store# 4140 from http://www.mcpennsylvania.com/4140\n",
        "  Read 8512 bytes"
       ]
      },
      {
       "output_type": "stream",
       "stream": "stdout",
       "text": [
        "\n",
        "  Store not found\n",
        "Trying to fetch store# 4141 from http://www.mcpennsylvania.com/4141\n",
        "  Read 15730 bytes"
       ]
      },
      {
       "output_type": "stream",
       "stream": "stdout",
       "text": [
        "\n",
        "  Address is 1110 Boardman-Poland Rd.|Poland, OH 44515\n",
        "  Geocoded to {u'lat': 41.0243521, u'lng': -80.6330524}"
       ]
      },
      {
       "output_type": "stream",
       "stream": "stdout",
       "text": [
        "\n",
        "Trying to fetch store# 4142 from http://www.mcpennsylvania.com/4142\n",
        "  Read 14627 bytes"
       ]
      },
      {
       "output_type": "stream",
       "stream": "stdout",
       "text": [
        "\n",
        "  Address is 3828 Bee Ridge Rd.|Sarasota, FL 34231\n",
        "  Geocoded to {u'lat': 27.298247, u'lng': -82.492987}"
       ]
      },
      {
       "output_type": "stream",
       "stream": "stdout",
       "text": [
        "\n",
        "Trying to fetch store# 4143 from http://www.mcpennsylvania.com/4143\n",
        "  Read 16497 bytes"
       ]
      },
      {
       "output_type": "stream",
       "stream": "stdout",
       "text": [
        "\n",
        "  Address is 10410 N. Dale Mabry|Tampa, FL 33618\n",
        "  Geocoded to {u'lat': 28.045103, u'lng': -82.505414}"
       ]
      },
      {
       "output_type": "stream",
       "stream": "stdout",
       "text": [
        "\n",
        "Trying to fetch store# 4144 from http://www.mcpennsylvania.com/4144\n",
        "  Read 8512 bytes"
       ]
      },
      {
       "output_type": "stream",
       "stream": "stdout",
       "text": [
        "\n",
        "  Store not found\n",
        "Trying to fetch store# 4145 from http://www.mcpennsylvania.com/4145\n",
        "  Read 13726 bytes"
       ]
      },
      {
       "output_type": "stream",
       "stream": "stdout",
       "text": [
        "\n",
        "  Address is 2107 East Joppa Road|Baltimore, MD 21234\n",
        "  Geocoded to {u'lat': 39.397468, u'lng': -76.540582}"
       ]
      },
      {
       "output_type": "stream",
       "stream": "stdout",
       "text": [
        "\n",
        "Trying to fetch store# 4146 from http://www.mcpennsylvania.com/4146\n",
        "  Read 15674 bytes"
       ]
      },
      {
       "output_type": "stream",
       "stream": "stdout",
       "text": [
        "\n",
        "  Address is 2301 N. Washington St.|Forrest City, AR 72335\n",
        "  Geocoded to {u'lat': 35.0350472, u'lng': -90.78984659999999}"
       ]
      },
      {
       "output_type": "stream",
       "stream": "stdout",
       "text": [
        "\n",
        "Trying to fetch store# 4147 from http://www.mcpennsylvania.com/4147\n",
        "  Read 15222 bytes"
       ]
      },
      {
       "output_type": "stream",
       "stream": "stdout",
       "text": [
        "\n",
        "  Address is 3430 Tracy Blvd.|Tracy, CA 95376\n",
        "  Geocoded to {u'lat': 37.7617805, u'lng': -121.4349674}"
       ]
      },
      {
       "output_type": "stream",
       "stream": "stdout",
       "text": [
        "\n",
        "Trying to fetch store# 4148 from http://www.mcpennsylvania.com/4148\n",
        "  Read 19972 bytes"
       ]
      },
      {
       "output_type": "stream",
       "stream": "stdout",
       "text": [
        "\n",
        "  Address is 1300 South Court Street|Circleville, OH 43113\n",
        "  Geocoded to {u'lat': 39.5862802, u'lng': -82.95252660000001}"
       ]
      },
      {
       "output_type": "stream",
       "stream": "stdout",
       "text": [
        "\n",
        "Trying to fetch store# 4149 from http://www.mcpennsylvania.com/4149\n",
        "  Read 8512 bytes"
       ]
      },
      {
       "output_type": "stream",
       "stream": "stdout",
       "text": [
        "\n",
        "  Store not found\n",
        "Trying to fetch store# 4150 from http://www.mcpennsylvania.com/4150\n",
        "  Read 6543 bytes"
       ]
      },
      {
       "output_type": "stream",
       "stream": "stdout",
       "text": [
        "\n",
        "  Store not found\n",
        "Trying to fetch store# 4151 from http://www.mcpennsylvania.com/4151\n",
        "  Read 16252 bytes"
       ]
      },
      {
       "output_type": "stream",
       "stream": "stdout",
       "text": [
        "\n",
        "  Address is 1771 Springfield Ave.|New Providence, NJ 07974\n",
        "  Geocoded to {u'lat': 40.69627699999999, u'lng': -74.42362899999999}"
       ]
      },
      {
       "output_type": "stream",
       "stream": "stdout",
       "text": [
        "\n",
        "Wrote 2737 locations to /Users/rsargent/projects/mcdonalds/mcdonalds_locations.json"
       ]
      },
      {
       "output_type": "stream",
       "stream": "stdout",
       "text": [
        "\n",
        "Trying to fetch store# 4152 from http://www.mcpennsylvania.com/4152\n",
        "  Read 15909 bytes"
       ]
      },
      {
       "output_type": "stream",
       "stream": "stdout",
       "text": [
        "\n",
        "  Address is 1185 N. Farnsworth|Aurora, IL 60506\n",
        "  Geocoded to {u'lat': 41.781686, u'lng': -88.281117}"
       ]
      },
      {
       "output_type": "stream",
       "stream": "stdout",
       "text": [
        "\n",
        "Trying to fetch store# 4153 from http://www.mcpennsylvania.com/4153\n",
        "  Read 8512 bytes"
       ]
      },
      {
       "output_type": "stream",
       "stream": "stdout",
       "text": [
        "\n",
        "  Store not found\n",
        "Trying to fetch store# 4154 from http://www.mcpennsylvania.com/4154\n",
        "  Read 14863 bytes"
       ]
      },
      {
       "output_type": "stream",
       "stream": "stdout",
       "text": [
        "\n",
        "  Address is 6945 Linda Vista Road|San Diego, CA 92111\n",
        "  Geocoded to {u'lat': 32.7858057, u'lng': -117.1703107}"
       ]
      },
      {
       "output_type": "stream",
       "stream": "stdout",
       "text": [
        "\n",
        "Trying to fetch store# 4155 from http://www.mcpennsylvania.com/4155\n",
        "  Read 16398 bytes"
       ]
      },
      {
       "output_type": "stream",
       "stream": "stdout",
       "text": [
        "\n",
        "  Address is 1921 Cove Blvd.|Panama City, FL 32405\n",
        "  Geocoded to {u'lat': 30.183775, u'lng': -85.65051299999999}"
       ]
      },
      {
       "output_type": "stream",
       "stream": "stdout",
       "text": [
        "\n",
        "Trying to fetch store# 4156 from http://www.mcpennsylvania.com/4156\n",
        "  Read 8512 bytes"
       ]
      },
      {
       "output_type": "stream",
       "stream": "stdout",
       "text": [
        "\n",
        "  Store not found\n",
        "Trying to fetch store# 4157 from http://www.mcpennsylvania.com/4157\n",
        "  Read 15973 bytes"
       ]
      },
      {
       "output_type": "stream",
       "stream": "stdout",
       "text": [
        "\n",
        "  Address is 107 North Groesbeck|Mt Clemens, MI 48043\n",
        "  Geocoded to {u'lat': 42.6019549, u'lng': -82.89984}"
       ]
      },
      {
       "output_type": "stream",
       "stream": "stdout",
       "text": [
        "\n",
        "Trying to fetch store# 4158 from http://www.mcpennsylvania.com/4158\n",
        "  Read 8512 bytes"
       ]
      },
      {
       "output_type": "stream",
       "stream": "stdout",
       "text": [
        "\n",
        "  Store not found\n",
        "Trying to fetch store# 4159 from http://www.mcpennsylvania.com/4159\n",
        "  Read 8512 bytes"
       ]
      },
      {
       "output_type": "stream",
       "stream": "stdout",
       "text": [
        "\n",
        "  Store not found\n",
        "Trying to fetch store# 4160 from http://www.mcpennsylvania.com/4160\n",
        "  Read 16653 bytes"
       ]
      },
      {
       "output_type": "stream",
       "stream": "stdout",
       "text": [
        "\n",
        "  Address is 3802 Bridgeport Way W.|University Place, WA 98466\n",
        "  Geocoded to {u'lat': 47.2220603, u'lng': -122.5375205}"
       ]
      },
      {
       "output_type": "stream",
       "stream": "stdout",
       "text": [
        "\n",
        "Trying to fetch store# 4161 from http://www.mcpennsylvania.com/4161\n",
        "  Read 8512 bytes"
       ]
      },
      {
       "output_type": "stream",
       "stream": "stdout",
       "text": [
        "\n",
        "  Store not found\n",
        "Trying to fetch store# 4162 from http://www.mcpennsylvania.com/4162\n",
        "  Read 18709 bytes"
       ]
      },
      {
       "output_type": "stream",
       "stream": "stdout",
       "text": [
        "\n",
        "  Address is 8280 15 Mile Road|Sterling Heights, MI 48312\n",
        "  Geocoded to {u'lat': 42.550657, u'lng': -83.02615399999999}"
       ]
      },
      {
       "output_type": "stream",
       "stream": "stdout",
       "text": [
        "\n",
        "Trying to fetch store# 4163 from http://www.mcpennsylvania.com/4163\n",
        "  Read 16639 bytes"
       ]
      },
      {
       "output_type": "stream",
       "stream": "stdout",
       "text": [
        "\n",
        "  Address is 3000 Grand Ave.|Laramie, WY 82070\n",
        "  Geocoded to {u'lat': 41.3090201, u'lng': -105.5572925}"
       ]
      },
      {
       "output_type": "stream",
       "stream": "stdout",
       "text": [
        "\n",
        "Trying to fetch store# 4164 from http://www.mcpennsylvania.com/4164\n",
        "  Read 19656 bytes"
       ]
      },
      {
       "output_type": "stream",
       "stream": "stdout",
       "text": [
        "\n",
        "  Address is 1309 West 6th Street|Lawrence, KS 66044\n",
        "  Geocoded to {u'lat': 38.97260199999999, u'lng': -95.2503088}"
       ]
      },
      {
       "output_type": "stream",
       "stream": "stdout",
       "text": [
        "\n",
        "Trying to fetch store# 4165 from http://www.mcpennsylvania.com/4165\n",
        "  Read 16724 bytes"
       ]
      },
      {
       "output_type": "stream",
       "stream": "stdout",
       "text": [
        "\n",
        "  Address is 801 London Blvd|Portsmouth, VA 23704\n",
        "  Geocoded to {u'lat': 36.836381, u'lng': -76.307537}"
       ]
      },
      {
       "output_type": "stream",
       "stream": "stdout",
       "text": [
        "\n",
        "Trying to fetch store# 4166 from http://www.mcpennsylvania.com/4166\n",
        "  Read 17972 bytes"
       ]
      },
      {
       "output_type": "stream",
       "stream": "stdout",
       "text": [
        "\n",
        "  Address is 451 Asheville Hwy|Brevard, NC 28712\n",
        "  Geocoded to {u'lat': 35.2749333, u'lng': -82.702687}"
       ]
      },
      {
       "output_type": "stream",
       "stream": "stdout",
       "text": [
        "\n",
        "Wrote 2747 locations to /Users/rsargent/projects/mcdonalds/mcdonalds_locations.json"
       ]
      },
      {
       "output_type": "stream",
       "stream": "stdout",
       "text": [
        "\n",
        "Trying to fetch store# 4167 from http://www.mcpennsylvania.com/4167\n",
        "  Read 16271 bytes"
       ]
      },
      {
       "output_type": "stream",
       "stream": "stdout",
       "text": [
        "\n",
        "  Address is 1705 South Roane St|Harriman, TN 37748\n",
        "  Geocoded to {u'lat': 35.910801, u'lng': -84.58314299999999}"
       ]
      },
      {
       "output_type": "stream",
       "stream": "stdout",
       "text": [
        "\n",
        "Trying to fetch store# 4168 from http://www.mcpennsylvania.com/4168\n",
        "  Read 14350 bytes"
       ]
      },
      {
       "output_type": "stream",
       "stream": "stdout",
       "text": [
        "\n",
        "  Address is 500 Highway 290 W|Brenham, TX 77833\n",
        "  Geocoded to {u'lat': 30.1434286, u'lng': -96.3973498}"
       ]
      },
      {
       "output_type": "stream",
       "stream": "stdout",
       "text": [
        "\n",
        "Trying to fetch store# 4169 from http://www.mcpennsylvania.com/4169\n",
        "  Read 8512 bytes"
       ]
      },
      {
       "output_type": "stream",
       "stream": "stdout",
       "text": [
        "\n",
        "  Store not found\n",
        "Trying to fetch store# 4170 from http://www.mcpennsylvania.com/4170\n",
        "  Read 20433 bytes"
       ]
      },
      {
       "output_type": "stream",
       "stream": "stdout",
       "text": [
        "\n",
        "  Address is 2387 S. Main St.|Harrisonburg, VA 22801\n",
        "  Geocoded to {u'lat': 38.420483, u'lng': -78.89432099999999}"
       ]
      },
      {
       "output_type": "stream",
       "stream": "stdout",
       "text": [
        "\n",
        "Trying to fetch store# 4171 from http://www.mcpennsylvania.com/4171\n",
        "  Read 6543 bytes"
       ]
      },
      {
       "output_type": "stream",
       "stream": "stdout",
       "text": [
        "\n",
        "  Store not found\n",
        "Trying to fetch store# 4172 from http://www.mcpennsylvania.com/4172\n",
        "  Read 16153 bytes"
       ]
      },
      {
       "output_type": "stream",
       "stream": "stdout",
       "text": [
        "\n",
        "  Address is 1001 S. US Hwy 231|Ozark, AL 36360\n",
        "  Geocoded to {u'lat': 31.51662989999999, u'lng': -85.7087135}"
       ]
      },
      {
       "output_type": "stream",
       "stream": "stdout",
       "text": [
        "\n",
        "Trying to fetch store# 4173 from http://www.mcpennsylvania.com/4173\n",
        "  Read 16424 bytes"
       ]
      },
      {
       "output_type": "stream",
       "stream": "stdout",
       "text": [
        "\n",
        "  Address is 5821 Rogers Ave.|Fort Smith, AR 72903\n",
        "  Geocoded to {u'lat': 35.36098500000001, u'lng': -94.366812}"
       ]
      },
      {
       "output_type": "stream",
       "stream": "stdout",
       "text": [
        "\n",
        "Trying to fetch store# 4174 from http://www.mcpennsylvania.com/4174\n",
        "  Read 6543 bytes"
       ]
      },
      {
       "output_type": "stream",
       "stream": "stdout",
       "text": [
        "\n",
        "  Store not found\n",
        "Trying to fetch store# 4175 from http://www.mcpennsylvania.com/4175\n",
        "  Read 14193 bytes"
       ]
      },
      {
       "output_type": "stream",
       "stream": "stdout",
       "text": [
        "\n",
        "  Address is 401 E. North Park St.|Okeechobee, FL 34972\n",
        "  Geocoded to {u'lat': 27.2441268, u'lng': -80.8261684}"
       ]
      },
      {
       "output_type": "stream",
       "stream": "stdout",
       "text": [
        "\n",
        "Trying to fetch store# 4176 from http://www.mcpennsylvania.com/4176\n",
        "  Read 8512 bytes"
       ]
      },
      {
       "output_type": "stream",
       "stream": "stdout",
       "text": [
        "\n",
        "  Store not found\n",
        "Trying to fetch store# 4177 from http://www.mcpennsylvania.com/4177\n",
        "  Read 8512 bytes"
       ]
      },
      {
       "output_type": "stream",
       "stream": "stdout",
       "text": [
        "\n",
        "  Store not found\n",
        "Trying to fetch store# 4178 from http://www.mcpennsylvania.com/4178\n",
        "  Read 6543 bytes"
       ]
      },
      {
       "output_type": "stream",
       "stream": "stdout",
       "text": [
        "\n",
        "  Store not found\n",
        "Trying to fetch store# 4179 from http://www.mcpennsylvania.com/4179\n",
        "  Read 17392 bytes"
       ]
      },
      {
       "output_type": "stream",
       "stream": "stdout",
       "text": [
        "\n",
        "  Address is 5001 Gibson Blvd SE|Albuquerque, NM 87108\n",
        "  Geocoded to {u'lat': 35.0587585, u'lng': -106.5862116}"
       ]
      },
      {
       "output_type": "stream",
       "stream": "stdout",
       "text": [
        "\n",
        "Trying to fetch store# 4180 from http://www.mcpennsylvania.com/4180\n",
        "  Read 15807 bytes"
       ]
      },
      {
       "output_type": "stream",
       "stream": "stdout",
       "text": [
        "\n",
        "  Address is 539 Miller Valley Rd.|Prescott, AZ 86301\n",
        "  Geocoded to {u'lat': 34.5503523, u'lng': -112.478367}"
       ]
      },
      {
       "output_type": "stream",
       "stream": "stdout",
       "text": [
        "\n",
        "Trying to fetch store# 4181 from http://www.mcpennsylvania.com/4181\n",
        "  Read 15700 bytes"
       ]
      },
      {
       "output_type": "stream",
       "stream": "stdout",
       "text": [
        "\n",
        "  Address is 31 W Main St.|Yukon, OK 73099\n",
        "  Geocoded to {u'lat': 35.5079233, u'lng': -97.7429805}"
       ]
      },
      {
       "output_type": "stream",
       "stream": "stdout",
       "text": [
        "\n",
        "Trying to fetch store# 4182 from http://www.mcpennsylvania.com/4182\n",
        "  Read 6543 bytes"
       ]
      },
      {
       "output_type": "stream",
       "stream": "stdout",
       "text": [
        "\n",
        "  Store not found\n",
        "Trying to fetch store# 4183 from http://www.mcpennsylvania.com/4183\n",
        "  Read 14883 bytes"
       ]
      },
      {
       "output_type": "stream",
       "stream": "stdout",
       "text": [
        "\n",
        "  Address is 256 Osborne Rd.|Loudonville, NY 12211\n",
        "  Geocoded to {u'lat': 42.705563, u'lng': -73.774779}"
       ]
      },
      {
       "output_type": "stream",
       "stream": "stdout",
       "text": [
        "\n",
        "Wrote 2757 locations to /Users/rsargent/projects/mcdonalds/mcdonalds_locations.json"
       ]
      },
      {
       "output_type": "stream",
       "stream": "stdout",
       "text": [
        "\n",
        "Trying to fetch store# 4184 from http://www.mcpennsylvania.com/4184\n",
        "  Read 16206 bytes"
       ]
      },
      {
       "output_type": "stream",
       "stream": "stdout",
       "text": [
        "\n",
        "  Address is 4158 S. Ashland|Chicago, IL 60609\n",
        "  Geocoded to {u'lat': 41.817979, u'lng': -87.665858}"
       ]
      },
      {
       "output_type": "stream",
       "stream": "stdout",
       "text": [
        "\n",
        "Trying to fetch store# 4185 from http://www.mcpennsylvania.com/4185\n",
        "  Read 6543 bytes"
       ]
      },
      {
       "output_type": "stream",
       "stream": "stdout",
       "text": [
        "\n",
        "  Store not found\n",
        "Trying to fetch store# 4186 from http://www.mcpennsylvania.com/4186\n",
        "  Read 15991 bytes"
       ]
      },
      {
       "output_type": "stream",
       "stream": "stdout",
       "text": [
        "\n",
        "  Address is 652 Spruce St.|Dowagiac, MI 49047\n",
        "  Geocoded to {u'lat': 41.9853193, u'lng': -86.1182798}"
       ]
      },
      {
       "output_type": "stream",
       "stream": "stdout",
       "text": [
        "\n",
        "Trying to fetch store# 4187 from http://www.mcpennsylvania.com/4187\n",
        "  Read 16570 bytes"
       ]
      },
      {
       "output_type": "stream",
       "stream": "stdout",
       "text": [
        "\n",
        "  Address is 439 E. Irving Park Rd.|Roselle, IL 60172\n",
        "  Geocoded to {u'lat': 41.98166, u'lng': -88.07020299999999}"
       ]
      },
      {
       "output_type": "stream",
       "stream": "stdout",
       "text": [
        "\n",
        "Trying to fetch store# 4188 from http://www.mcpennsylvania.com/4188\n",
        "  Read 14425 bytes"
       ]
      },
      {
       "output_type": "stream",
       "stream": "stdout",
       "text": [
        "\n",
        "  Address is 3 W. Veterans Parkway|Yorkville, IL 60560\n",
        "  Geocoded to {u'lat': 41.6599678, u'lng': -88.4583711}"
       ]
      },
      {
       "output_type": "stream",
       "stream": "stdout",
       "text": [
        "\n",
        "Trying to fetch store# 4189 from http://www.mcpennsylvania.com/4189\n",
        "  Read 6543 bytes"
       ]
      },
      {
       "output_type": "stream",
       "stream": "stdout",
       "text": [
        "\n",
        "  Store not found\n",
        "Trying to fetch store# 4190 from http://www.mcpennsylvania.com/4190\n",
        "  Read 6543 bytes"
       ]
      },
      {
       "output_type": "stream",
       "stream": "stdout",
       "text": [
        "\n",
        "  Store not found\n",
        "Trying to fetch store# 4191 from http://www.mcpennsylvania.com/4191\n",
        "  Read 8512 bytes"
       ]
      },
      {
       "output_type": "stream",
       "stream": "stdout",
       "text": [
        "\n",
        "  Store not found\n",
        "Trying to fetch store# 4192 from http://www.mcpennsylvania.com/4192\n",
        "  Read 6543 bytes"
       ]
      },
      {
       "output_type": "stream",
       "stream": "stdout",
       "text": [
        "\n",
        "  Store not found\n",
        "Trying to fetch store# 4193 from http://www.mcpennsylvania.com/4193\n",
        "  Read 17767 bytes"
       ]
      },
      {
       "output_type": "stream",
       "stream": "stdout",
       "text": [
        "\n",
        "  Address is 1901 Pocahontas Trail|Williamsburg, VA 23185\n",
        "  Geocoded to {u'lat': 37.2476036, u'lng': -76.658402}"
       ]
      },
      {
       "output_type": "stream",
       "stream": "stdout",
       "text": [
        "\n",
        "Trying to fetch store# 4194 from http://www.mcpennsylvania.com/4194\n",
        "  Read 15443 bytes"
       ]
      },
      {
       "output_type": "stream",
       "stream": "stdout",
       "text": [
        "\n",
        "  Address is 15475 Los Gatos Blvd.|Los Gatos, CA 95032\n",
        "  Geocoded to {u'lat': 37.243858, u'lng': -121.959906}"
       ]
      },
      {
       "output_type": "stream",
       "stream": "stdout",
       "text": [
        "\n",
        "Trying to fetch store# 4195 from http://www.mcpennsylvania.com/4195\n",
        "  Read 16317 bytes"
       ]
      },
      {
       "output_type": "stream",
       "stream": "stdout",
       "text": [
        "\n",
        "  Address is 112 Greenville Bypass|Greenville, AL 36037\n",
        "  Geocoded to {u'lat': 31.8451189, u'lng': -86.61999809999999}"
       ]
      },
      {
       "output_type": "stream",
       "stream": "stdout",
       "text": [
        "\n",
        "Trying to fetch store# 4196 from http://www.mcpennsylvania.com/4196\n",
        "  Read 8512 bytes"
       ]
      },
      {
       "output_type": "stream",
       "stream": "stdout",
       "text": [
        "\n",
        "  Store not found\n",
        "Trying to fetch store# 4197 from http://www.mcpennsylvania.com/4197\n",
        "  Read 6543 bytes"
       ]
      },
      {
       "output_type": "stream",
       "stream": "stdout",
       "text": [
        "\n",
        "  Store not found\n",
        "Trying to fetch store# 4198 from http://www.mcpennsylvania.com/4198\n",
        "  Read 15478 bytes"
       ]
      },
      {
       "output_type": "stream",
       "stream": "stdout",
       "text": [
        "\n",
        "  Address is 650 East Main Street|Lebanon, OH 45036\n",
        "  Geocoded to {u'lat': 39.4372097, u'lng': -84.2081639}"
       ]
      },
      {
       "output_type": "stream",
       "stream": "stdout",
       "text": [
        "\n",
        "Trying to fetch store# 4199 from http://www.mcpennsylvania.com/4199\n",
        "  Read 13174 bytes"
       ]
      },
      {
       "output_type": "stream",
       "stream": "stdout",
       "text": [
        "\n",
        "  Address is 155 S. Broadway|Yonkers, NY 10701\n",
        "  Geocoded to {u'lat': 40.928322, u'lng': -73.896725}"
       ]
      },
      {
       "output_type": "stream",
       "stream": "stdout",
       "text": [
        "\n",
        "Trying to fetch store# 4200 from http://www.mcpennsylvania.com/4200\n",
        "  Read 6543 bytes"
       ]
      },
      {
       "output_type": "stream",
       "stream": "stdout",
       "text": [
        "\n",
        "  Store not found\n",
        "Trying to fetch store# 4201 from http://www.mcpennsylvania.com/4201\n",
        "  Read 15665 bytes"
       ]
      },
      {
       "output_type": "stream",
       "stream": "stdout",
       "text": [
        "\n",
        "  Address is 320 N. Broadway|Santa Maria, CA 93454\n",
        "  Geocoded to {u'lat': 34.9561865, u'lng': -120.435078}"
       ]
      },
      {
       "output_type": "stream",
       "stream": "stdout",
       "text": [
        "\n",
        "Wrote 2767 locations to /Users/rsargent/projects/mcdonalds/mcdonalds_locations.json"
       ]
      },
      {
       "output_type": "stream",
       "stream": "stdout",
       "text": [
        "\n",
        "Trying to fetch store# 4202 from http://www.mcpennsylvania.com/4202\n",
        "  Read 16985 bytes"
       ]
      },
      {
       "output_type": "stream",
       "stream": "stdout",
       "text": [
        "\n",
        "  Address is 2801 Cottman Avenue|Philadelphia, PA 19149\n",
        "  Geocoded to {u'lat': 40.044436, u'lng': -75.053388}"
       ]
      },
      {
       "output_type": "stream",
       "stream": "stdout",
       "text": [
        "\n",
        "Trying to fetch store# 4203 from http://www.mcpennsylvania.com/4203\n",
        "  Read 8512 bytes"
       ]
      },
      {
       "output_type": "stream",
       "stream": "stdout",
       "text": [
        "\n",
        "  Store not found\n",
        "Trying to fetch store# 4204 from http://www.mcpennsylvania.com/4204\n",
        "  Read 13403 bytes"
       ]
      },
      {
       "output_type": "stream",
       "stream": "stdout",
       "text": [
        "\n",
        "  Address is 187 Ocean Blvd|Hampton Beach, NH 03842\n",
        "  Geocoded to {u'lat': 42.9097339, u'lng': -70.81054879999999}"
       ]
      },
      {
       "output_type": "stream",
       "stream": "stdout",
       "text": [
        "\n",
        "Trying to fetch store# 4205 from http://www.mcpennsylvania.com/4205\n",
        "  Read 16914 bytes"
       ]
      },
      {
       "output_type": "stream",
       "stream": "stdout",
       "text": [
        "\n",
        "  Address is 907 Second Street|Manchester, NH 03102\n",
        "  Geocoded to {u'lat': 42.9684782, u'lng': -71.4798766}"
       ]
      },
      {
       "output_type": "stream",
       "stream": "stdout",
       "text": [
        "\n",
        "Trying to fetch store# 4206 from http://www.mcpennsylvania.com/4206\n",
        "  Read 17161 bytes"
       ]
      },
      {
       "output_type": "stream",
       "stream": "stdout",
       "text": [
        "\n",
        "  Address is 2590 N Main St|Sheridan, WY 82801\n",
        "  Geocoded to {u'lat': 44.826936, u'lng': -106.959718}"
       ]
      },
      {
       "output_type": "stream",
       "stream": "stdout",
       "text": [
        "\n",
        "Trying to fetch store# 4207 from http://www.mcpennsylvania.com/4207\n",
        "  Read 16812 bytes"
       ]
      },
      {
       "output_type": "stream",
       "stream": "stdout",
       "text": [
        "\n",
        "  Address is 945 New Berwick Hwy|Bloomsburg, PA 17815\n",
        "  Geocoded to {u'lat': 41.0302517, u'lng': -76.346322}"
       ]
      },
      {
       "output_type": "stream",
       "stream": "stdout",
       "text": [
        "\n",
        "Trying to fetch store# 4208 from http://www.mcpennsylvania.com/4208\n",
        "  Read 16358 bytes"
       ]
      },
      {
       "output_type": "stream",
       "stream": "stdout",
       "text": [
        "\n",
        "  Address is 2301 Broadway Avenue|Yankton, SD 57078\n",
        "  Geocoded to {u'lat': 42.89435719999999, u'lng': -97.39747299999999}"
       ]
      },
      {
       "output_type": "stream",
       "stream": "stdout",
       "text": [
        "\n",
        "Trying to fetch store# 4209 from http://www.mcpennsylvania.com/4209\n",
        "  Read 17176 bytes"
       ]
      },
      {
       "output_type": "stream",
       "stream": "stdout",
       "text": [
        "\n",
        "  Address is 1750 Soldiers Field Road|Brighton, MA 02135\n",
        "  Geocoded to {u'lat': 42.359164, u'lng': -71.154691}"
       ]
      },
      {
       "output_type": "stream",
       "stream": "stdout",
       "text": [
        "\n",
        "Trying to fetch store# 4210 from http://www.mcpennsylvania.com/4210\n",
        "  Read 14000 bytes"
       ]
      },
      {
       "output_type": "stream",
       "stream": "stdout",
       "text": [
        "\n",
        "  Address is 2410 Coney Island Ave.|Brooklyn, NY 11223\n",
        "  Geocoded to {u'lat': 40.5978933, u'lng': -73.9613646}"
       ]
      },
      {
       "output_type": "stream",
       "stream": "stdout",
       "text": [
        "\n",
        "Trying to fetch store# 4211 from http://www.mcpennsylvania.com/4211\n",
        "  Read 8512 bytes"
       ]
      },
      {
       "output_type": "stream",
       "stream": "stdout",
       "text": [
        "\n",
        "  Store not found\n",
        "Trying to fetch store# 4212 from http://www.mcpennsylvania.com/4212\n",
        "  Read 22262 bytes"
       ]
      },
      {
       "output_type": "stream",
       "stream": "stdout",
       "text": [
        "\n",
        "  Address is 1110 Washington Sq|Washington, MO 63090\n",
        "  Geocoded to {u'lat': 38.5364107, u'lng': -91.0043295}"
       ]
      },
      {
       "output_type": "stream",
       "stream": "stdout",
       "text": [
        "\n",
        "Trying to fetch store# 4213 from http://www.mcpennsylvania.com/4213\n",
        "  Read 19657 bytes"
       ]
      },
      {
       "output_type": "stream",
       "stream": "stdout",
       "text": [
        "\n",
        "  Address is 1305 South Salisbury Blvd.|Salisbury, MD 21801\n",
        "  Geocoded to {u'lat': 38.3433157, u'lng': -75.6041316}"
       ]
      },
      {
       "output_type": "stream",
       "stream": "stdout",
       "text": [
        "\n",
        "Wrote 2777 locations to /Users/rsargent/projects/mcdonalds/mcdonalds_locations.json"
       ]
      },
      {
       "output_type": "stream",
       "stream": "stdout",
       "text": [
        "\n",
        "Trying to fetch store# 4214 from http://www.mcpennsylvania.com/4214\n",
        "  Read 17293 bytes"
       ]
      },
      {
       "output_type": "stream",
       "stream": "stdout",
       "text": [
        "\n",
        "  Address is 1218 M-89|Plainwell, MI 49080\n",
        "  Geocoded to {u'lat': 42.4499122, u'lng': -85.6623899}"
       ]
      },
      {
       "output_type": "stream",
       "stream": "stdout",
       "text": [
        "\n",
        "Trying to fetch store# 4215 from http://www.mcpennsylvania.com/4215\n",
        "  Read 16753 bytes"
       ]
      },
      {
       "output_type": "stream",
       "stream": "stdout",
       "text": [
        "\n",
        "  Address is 6155 Crawfordsville Rd.|Indianapolis, IN 46224\n",
        "  Geocoded to {u'lat': 39.799918, u'lng': -86.26821500000001}"
       ]
      },
      {
       "output_type": "stream",
       "stream": "stdout",
       "text": [
        "\n",
        "Trying to fetch store# 4216 from http://www.mcpennsylvania.com/4216\n",
        "  Read 13573 bytes"
       ]
      },
      {
       "output_type": "stream",
       "stream": "stdout",
       "text": [
        "\n",
        "  Address is 4810 S. Broadway|Wichita, KS 67216\n",
        "  Geocoded to {u'lat': 37.6074289, u'lng': -97.33349079999999}"
       ]
      },
      {
       "output_type": "stream",
       "stream": "stdout",
       "text": [
        "\n",
        "Trying to fetch store# 4217 from http://www.mcpennsylvania.com/4217\n",
        "  Read 15103 bytes"
       ]
      },
      {
       "output_type": "stream",
       "stream": "stdout",
       "text": [
        "\n",
        "  Address is 109 Brenwood Dr,| KY 21,|Berea, KY 40403\n",
        "  Geocoded to {u'lat': 37.5673774, u'lng': -84.3135867}"
       ]
      },
      {
       "output_type": "stream",
       "stream": "stdout",
       "text": [
        "\n",
        "Trying to fetch store# 4218 from http://www.mcpennsylvania.com/4218\n",
        "  Read 12647 bytes"
       ]
      },
      {
       "output_type": "stream",
       "stream": "stdout",
       "text": [
        "\n",
        "  Address is 9th & Market Street,| * In the Gallery Mall,|Philadelphia, PA 19107\n",
        "  Geocoded to {u'lat': 39.9559288, u'lng': -75.1574567}"
       ]
      },
      {
       "output_type": "stream",
       "stream": "stdout",
       "text": [
        "\n",
        "Trying to fetch store# 4219 from http://www.mcpennsylvania.com/4219\n",
        "  Read 6543 bytes"
       ]
      },
      {
       "output_type": "stream",
       "stream": "stdout",
       "text": [
        "\n",
        "  Store not found\n",
        "Trying to fetch store# 4220 from http://www.mcpennsylvania.com/4220\n",
        "  Read 18046 bytes"
       ]
      },
      {
       "output_type": "stream",
       "stream": "stdout",
       "text": [
        "\n",
        "  Address is 2509 Ellwood Road Rte 65|New Castle, PA 16101\n",
        "  Geocoded to {u'lat': 41.0036719, u'lng': -80.34700900000001}"
       ]
      },
      {
       "output_type": "stream",
       "stream": "stdout",
       "text": [
        "\n",
        "Trying to fetch store# 4221 from http://www.mcpennsylvania.com/4221\n",
        "  Read 17094 bytes"
       ]
      },
      {
       "output_type": "stream",
       "stream": "stdout",
       "text": [
        "\n",
        "  Address is 329 S. Bickett Blvd.,| U.S. 401,|Louisburg, NC 27549\n",
        "  Geocoded to {u'lat': 36.0904593, u'lng': -78.3004783}"
       ]
      },
      {
       "output_type": "stream",
       "stream": "stdout",
       "text": [
        "\n",
        "Trying to fetch store# 4222 from http://www.mcpennsylvania.com/4222\n",
        "  Read 8512 bytes"
       ]
      },
      {
       "output_type": "stream",
       "stream": "stdout",
       "text": [
        "\n",
        "  Store not found\n",
        "Trying to fetch store# 4223 from http://www.mcpennsylvania.com/4223\n",
        "  Read 8512 bytes"
       ]
      },
      {
       "output_type": "stream",
       "stream": "stdout",
       "text": [
        "\n",
        "  Store not found\n",
        "Trying to fetch store# 4224 from http://www.mcpennsylvania.com/4224\n",
        "  Read 14109 bytes"
       ]
      },
      {
       "output_type": "stream",
       "stream": "stdout",
       "text": [
        "\n",
        "  Address is 4717 San Bernardo|Laredo, TX 78040\n",
        "  Geocoded to {u'lat': 27.543296, u'lng': -99.50427379999999}"
       ]
      },
      {
       "output_type": "stream",
       "stream": "stdout",
       "text": [
        "\n",
        "Trying to fetch store# 4225 from http://www.mcpennsylvania.com/4225\n",
        "  Read 16422 bytes"
       ]
      },
      {
       "output_type": "stream",
       "stream": "stdout",
       "text": [
        "\n",
        "  Address is 1650 Limekiln Pike|Dresher, PA 19025\n",
        "  Geocoded to {u'lat': 40.14418999999999, u'lng': -75.1681739}"
       ]
      },
      {
       "output_type": "stream",
       "stream": "stdout",
       "text": [
        "\n",
        "Trying to fetch store# 4226 from http://www.mcpennsylvania.com/4226\n",
        "  Read 14388 bytes"
       ]
      },
      {
       "output_type": "stream",
       "stream": "stdout",
       "text": [
        "\n",
        "  Address is 214 W. Main St.|Sterling, CO 80751\n",
        "  Geocoded to {u'lat': 40.6257552, u'lng': -103.2141845}"
       ]
      },
      {
       "output_type": "stream",
       "stream": "stdout",
       "text": [
        "\n",
        "Wrote 2787 locations to /Users/rsargent/projects/mcdonalds/mcdonalds_locations.json"
       ]
      },
      {
       "output_type": "stream",
       "stream": "stdout",
       "text": [
        "\n",
        "Trying to fetch store# 4227 from http://www.mcpennsylvania.com/4227\n",
        "  Read 14184 bytes"
       ]
      },
      {
       "output_type": "stream",
       "stream": "stdout",
       "text": [
        "\n",
        "  Address is 250 N. Lee St.|Forsyth, GA 31029\n",
        "  Geocoded to {u'lat': 33.0403267, u'lng': -83.9397664}"
       ]
      },
      {
       "output_type": "stream",
       "stream": "stdout",
       "text": [
        "\n",
        "Trying to fetch store# 4228 from http://www.mcpennsylvania.com/4228\n",
        "  Read 8512 bytes"
       ]
      },
      {
       "output_type": "stream",
       "stream": "stdout",
       "text": [
        "\n",
        "  Store not found\n",
        "Trying to fetch store# 4229 from http://www.mcpennsylvania.com/4229\n",
        "  Read 13936 bytes"
       ]
      },
      {
       "output_type": "stream",
       "stream": "stdout",
       "text": [
        "\n",
        "  Address is 680 Old Mill Road|Millersville, MD 21108\n",
        "  Geocoded to {u'lat': 39.1178696, u'lng': -76.6340244}"
       ]
      },
      {
       "output_type": "stream",
       "stream": "stdout",
       "text": [
        "\n",
        "Trying to fetch store# 4230 from http://www.mcpennsylvania.com/4230\n",
        "  Read 21822 bytes"
       ]
      },
      {
       "output_type": "stream",
       "stream": "stdout",
       "text": [
        "\n",
        "  Address is 8490 Ft. Smallwood Road|Pasadena, MD 21122\n",
        "  Geocoded to {u'lat': 39.157253, u'lng': -76.51673199999999}"
       ]
      },
      {
       "output_type": "stream",
       "stream": "stdout",
       "text": [
        "\n",
        "Trying to fetch store# 4231 from http://www.mcpennsylvania.com/4231\n",
        "  Read 15858 bytes"
       ]
      },
      {
       "output_type": "stream",
       "stream": "stdout",
       "text": [
        "\n",
        "  Address is 425 8th St|Monroe, WI 53566\n",
        "  Geocoded to {u'lat': 42.60390599999999, u'lng': -89.653606}"
       ]
      },
      {
       "output_type": "stream",
       "stream": "stdout",
       "text": [
        "\n",
        "Trying to fetch store# 4232 from http://www.mcpennsylvania.com/4232\n",
        "  Read 6543 bytes"
       ]
      },
      {
       "output_type": "stream",
       "stream": "stdout",
       "text": [
        "\n",
        "  Store not found\n",
        "Trying to fetch store# 4233 from http://www.mcpennsylvania.com/4233\n",
        "  Read 13969 bytes"
       ]
      },
      {
       "output_type": "stream",
       "stream": "stdout",
       "text": [
        "\n",
        "  Address is 480 E. Indian Boundary Rd|Chesterton, IN 46304\n",
        "  Geocoded to {u'lat': 41.6164006, u'lng': -87.0446825}"
       ]
      },
      {
       "output_type": "stream",
       "stream": "stdout",
       "text": [
        "\n",
        "Trying to fetch store# 4234 from http://www.mcpennsylvania.com/4234\n",
        "  Read 13831 bytes"
       ]
      },
      {
       "output_type": "stream",
       "stream": "stdout",
       "text": [
        "\n",
        "  Address is 1600 Bruckner Blvd.|Bronx, NY 10473\n",
        "  Geocoded to {u'lat': 40.8239584, u'lng': -73.87420709999999}"
       ]
      },
      {
       "output_type": "stream",
       "stream": "stdout",
       "text": [
        "\n",
        "Trying to fetch store# 4235 from http://www.mcpennsylvania.com/4235\n",
        "  Read 16297 bytes"
       ]
      },
      {
       "output_type": "stream",
       "stream": "stdout",
       "text": [
        "\n",
        "  Address is 1060 W. 13th St.|Merced, CA 95340\n",
        "  Geocoded to {u'lat': 37.299947, u'lng': -120.494437}"
       ]
      },
      {
       "output_type": "stream",
       "stream": "stdout",
       "text": [
        "\n",
        "Trying to fetch store# 4236 from http://www.mcpennsylvania.com/4236\n",
        "  Read 16255 bytes"
       ]
      },
      {
       "output_type": "stream",
       "stream": "stdout",
       "text": [
        "\n",
        "  Address is 316 E St|Marysville, CA 95901\n",
        "  Geocoded to {u'lat': 39.13863, u'lng': -121.5908126}"
       ]
      },
      {
       "output_type": "stream",
       "stream": "stdout",
       "text": [
        "\n",
        "Trying to fetch store# 4237 from http://www.mcpennsylvania.com/4237\n",
        "  Read 15938 bytes"
       ]
      },
      {
       "output_type": "stream",
       "stream": "stdout",
       "text": [
        "\n",
        "  Address is 4515 Dowlen Rd.|Beaumont, TX 77706\n",
        "  Geocoded to {u'lat': 30.123197, u'lng': -94.157181}"
       ]
      },
      {
       "output_type": "stream",
       "stream": "stdout",
       "text": [
        "\n",
        "Trying to fetch store# 4238 from http://www.mcpennsylvania.com/4238\n",
        "  Read 19859 bytes"
       ]
      },
      {
       "output_type": "stream",
       "stream": "stdout",
       "text": [
        "\n",
        "  Address is 1247 Trinity Dr.|Los Alamos, NM 87544\n",
        "  Geocoded to {u'lat': 35.8793292, u'lng': -106.2971786}"
       ]
      },
      {
       "output_type": "stream",
       "stream": "stdout",
       "text": [
        "\n",
        "Wrote 2797 locations to /Users/rsargent/projects/mcdonalds/mcdonalds_locations.json"
       ]
      },
      {
       "output_type": "stream",
       "stream": "stdout",
       "text": [
        "\n",
        "Trying to fetch store# 4239 from http://www.mcpennsylvania.com/4239\n",
        "  Read 15667 bytes"
       ]
      },
      {
       "output_type": "stream",
       "stream": "stdout",
       "text": [
        "\n",
        "  Address is 506 SE 1st Ave.|Moultrie, GA 31768\n",
        "  Geocoded to {u'lat': 31.178888, u'lng': -83.7828724}"
       ]
      },
      {
       "output_type": "stream",
       "stream": "stdout",
       "text": [
        "\n",
        "Trying to fetch store# 4240 from http://www.mcpennsylvania.com/4240\n",
        "  Read 15823 bytes"
       ]
      },
      {
       "output_type": "stream",
       "stream": "stdout",
       "text": [
        "\n",
        "  Address is 1416 W. Washington St.|Stephenville, TX 76401\n",
        "  Geocoded to {u'lat': 32.2139876, u'lng': -98.2155317}"
       ]
      },
      {
       "output_type": "stream",
       "stream": "stdout",
       "text": [
        "\n",
        "Trying to fetch store# 4241 from http://www.mcpennsylvania.com/4241\n",
        "  Read 15167 bytes"
       ]
      },
      {
       "output_type": "stream",
       "stream": "stdout",
       "text": [
        "\n",
        "  Address is 2090 Lebanon Church Rd.|West Mifflin, PA 15122\n",
        "  Geocoded to {u'lat': 40.3478844, u'lng': -79.94526259999999}"
       ]
      },
      {
       "output_type": "stream",
       "stream": "stdout",
       "text": [
        "\n",
        "Trying to fetch store# 4242 from http://www.mcpennsylvania.com/4242\n",
        "  Read 15667 bytes"
       ]
      },
      {
       "output_type": "stream",
       "stream": "stdout",
       "text": [
        "\n",
        "  Address is 1305 Sandifer Blvd|Seneca, SC 29678\n",
        "  Geocoded to {u'lat': 34.692466, u'lng': -82.98436799999999}"
       ]
      },
      {
       "output_type": "stream",
       "stream": "stdout",
       "text": [
        "\n",
        "Trying to fetch store# 4243 from http://www.mcpennsylvania.com/4243\n",
        "  Read 19009 bytes"
       ]
      },
      {
       "output_type": "stream",
       "stream": "stdout",
       "text": [
        "\n",
        "  Address is 13003 Lee Jackson Hwy.|Fairfax, VA 22030\n",
        "  Geocoded to {u'lat': 38.879928, u'lng': -77.3960898}"
       ]
      },
      {
       "output_type": "stream",
       "stream": "stdout",
       "text": [
        "\n",
        "Trying to fetch store# 4244 from http://www.mcpennsylvania.com/4244\n",
        "  Read 14613 bytes"
       ]
      },
      {
       "output_type": "stream",
       "stream": "stdout",
       "text": [
        "\n",
        "  Address is 2901 S. May Ave.|Oklahoma City, OK 73108\n",
        "  Geocoded to {u'lat': 35.435819, u'lng': -97.565879}"
       ]
      },
      {
       "output_type": "stream",
       "stream": "stdout",
       "text": [
        "\n",
        "Trying to fetch store# 4245 from http://www.mcpennsylvania.com/4245\n",
        "  Read 16329 bytes"
       ]
      },
      {
       "output_type": "stream",
       "stream": "stdout",
       "text": [
        "\n",
        "  Address is 602 North Sunshine Strip|Harlingen, TX 78550\n",
        "  Geocoded to {u'lat': 26.198537, u'lng': -97.679907}"
       ]
      },
      {
       "output_type": "stream",
       "stream": "stdout",
       "text": [
        "\n",
        "Trying to fetch store# 4246 from http://www.mcpennsylvania.com/4246\n",
        "  Read 16200 bytes"
       ]
      },
      {
       "output_type": "stream",
       "stream": "stdout",
       "text": [
        "\n",
        "  Address is 2202 W. Court St.|Pasco, WA 99301\n",
        "  Geocoded to {u'lat': 46.241023, u'lng': -119.120402}"
       ]
      },
      {
       "output_type": "stream",
       "stream": "stdout",
       "text": [
        "\n",
        "Trying to fetch store# 4247 from http://www.mcpennsylvania.com/4247\n",
        "  Read 6543 bytes"
       ]
      },
      {
       "output_type": "stream",
       "stream": "stdout",
       "text": [
        "\n",
        "  Store not found\n",
        "Trying to fetch store# 4248 from http://www.mcpennsylvania.com/4248\n",
        "  Read 6543 bytes"
       ]
      },
      {
       "output_type": "stream",
       "stream": "stdout",
       "text": [
        "\n",
        "  Store not found\n",
        "Trying to fetch store# 4249 from http://www.mcpennsylvania.com/4249\n",
        "  Read 6543 bytes"
       ]
      },
      {
       "output_type": "stream",
       "stream": "stdout",
       "text": [
        "\n",
        "  Store not found\n",
        "Trying to fetch store# 4250 from http://www.mcpennsylvania.com/4250\n",
        "  Read 14416 bytes"
       ]
      },
      {
       "output_type": "stream",
       "stream": "stdout",
       "text": [
        "\n",
        "  Address is 16501 Southcenter Parkway|Tukwila, WA 98188\n",
        "  Geocoded to {u'lat': 47.4544146, u'lng': -122.2629184}"
       ]
      },
      {
       "output_type": "stream",
       "stream": "stdout",
       "text": [
        "\n",
        "Trying to fetch store# 4251 from http://www.mcpennsylvania.com/4251\n",
        "  Read 16387 bytes"
       ]
      },
      {
       "output_type": "stream",
       "stream": "stdout",
       "text": [
        "\n",
        "  Address is 12214 75th Street|Kenosha, WI 53142\n",
        "  Geocoded to {u'lat': 42.568071, u'lng': -87.9553509}"
       ]
      },
      {
       "output_type": "stream",
       "stream": "stdout",
       "text": [
        "\n",
        "Wrote 2807 locations to /Users/rsargent/projects/mcdonalds/mcdonalds_locations.json"
       ]
      },
      {
       "output_type": "stream",
       "stream": "stdout",
       "text": [
        "\n",
        "Trying to fetch store# 4252 from http://www.mcpennsylvania.com/4252\n",
        "  Read 6543 bytes"
       ]
      },
      {
       "output_type": "stream",
       "stream": "stdout",
       "text": [
        "\n",
        "  Store not found\n",
        "Trying to fetch store# 4253 from http://www.mcpennsylvania.com/4253\n",
        "  Read 18616 bytes"
       ]
      },
      {
       "output_type": "stream",
       "stream": "stdout",
       "text": [
        "\n",
        "  Address is 618 1st Avenue|Coralville, IA 52241\n",
        "  Geocoded to {u'lat': 41.678043, u'lng': -91.56656799999999}"
       ]
      },
      {
       "output_type": "stream",
       "stream": "stdout",
       "text": [
        "\n",
        "Trying to fetch store# 4254 from http://www.mcpennsylvania.com/4254\n",
        "  Read 14469 bytes"
       ]
      },
      {
       "output_type": "stream",
       "stream": "stdout",
       "text": [
        "\n",
        "  Address is 12290 S Cleveland Ave.|Ft. Myers, FL 33907\n",
        "  Geocoded to {u'lat': 26.563807, u'lng': -81.87266699999999}"
       ]
      },
      {
       "output_type": "stream",
       "stream": "stdout",
       "text": [
        "\n",
        "Trying to fetch store# 4255 from http://www.mcpennsylvania.com/4255\n",
        "  Read 14079 bytes"
       ]
      },
      {
       "output_type": "stream",
       "stream": "stdout",
       "text": [
        "\n",
        "  Address is 3215 E. Silver Springs Blvd.|Ocala, FL 34470\n",
        "  Geocoded to {u'lat': 29.195047, u'lng': -82.091881}"
       ]
      },
      {
       "output_type": "stream",
       "stream": "stdout",
       "text": [
        "\n",
        "Trying to fetch store# 4256 from http://www.mcpennsylvania.com/4256\n",
        "  Read 6543 bytes"
       ]
      },
      {
       "output_type": "stream",
       "stream": "stdout",
       "text": [
        "\n",
        "  Store not found\n",
        "Trying to fetch store# 4257 from http://www.mcpennsylvania.com/4257\n",
        "  Read 8512 bytes"
       ]
      },
      {
       "output_type": "stream",
       "stream": "stdout",
       "text": [
        "\n",
        "  Store not found\n",
        "Trying to fetch store# 4258 from http://www.mcpennsylvania.com/4258\n",
        "  Read 16249 bytes"
       ]
      },
      {
       "output_type": "stream",
       "stream": "stdout",
       "text": [
        "\n",
        "  Address is 1187 Texas Palmyra Highway|Honesdale, PA 18431\n",
        "  Geocoded to {u'lat': 41.553348, u'lng': -75.225107}"
       ]
      },
      {
       "output_type": "stream",
       "stream": "stdout",
       "text": [
        "\n",
        "Trying to fetch store# 4259 from http://www.mcpennsylvania.com/4259\n",
        "  Read 14617 bytes"
       ]
      },
      {
       "output_type": "stream",
       "stream": "stdout",
       "text": [
        "\n",
        "  Address is Corning Denison Parkway|Corning, NY 14830\n",
        "  Geocoded to {u'lat': 42.12688360000001, u'lng': -77.0226509}"
       ]
      },
      {
       "output_type": "stream",
       "stream": "stdout",
       "text": [
        "\n",
        "Trying to fetch store# 4260 from http://www.mcpennsylvania.com/4260\n",
        "  Read 8512 bytes"
       ]
      },
      {
       "output_type": "stream",
       "stream": "stdout",
       "text": [
        "\n",
        "  Store not found\n",
        "Trying to fetch store# 4261 from http://www.mcpennsylvania.com/4261\n",
        "  Read 14948 bytes"
       ]
      },
      {
       "output_type": "stream",
       "stream": "stdout",
       "text": [
        "\n",
        "  Address is 1603 E. Wabash Ave|Frankfort, IN 46041\n",
        "  Geocoded to {u'lat': 40.278552, u'lng': -86.493309}"
       ]
      },
      {
       "output_type": "stream",
       "stream": "stdout",
       "text": [
        "\n",
        "Trying to fetch store# 4262 from http://www.mcpennsylvania.com/4262\n",
        "  Read 15449 bytes"
       ]
      },
      {
       "output_type": "stream",
       "stream": "stdout",
       "text": [
        "\n",
        "  Address is 2796 Robbins Ave.|Niles, OH 44446\n",
        "  Geocoded to {u'lat': 41.181659, u'lng': -80.71776899999999}"
       ]
      },
      {
       "output_type": "stream",
       "stream": "stdout",
       "text": [
        "\n",
        "Trying to fetch store# 4263 from http://www.mcpennsylvania.com/4263\n",
        "  Read 13219 bytes"
       ]
      },
      {
       "output_type": "stream",
       "stream": "stdout",
       "text": [
        "\n",
        "  Address is 1099 Hwy 19 North|Thomaston, GA 30286\n",
        "  Geocoded to {u'lat': 35.8388456, u'lng': -82.510694}"
       ]
      },
      {
       "output_type": "stream",
       "stream": "stdout",
       "text": [
        "\n",
        "Trying to fetch store# 4264 from http://www.mcpennsylvania.com/4264\n",
        "  Read 15741 bytes"
       ]
      },
      {
       "output_type": "stream",
       "stream": "stdout",
       "text": [
        "\n",
        "  Address is 2171 N. Frontage Rd.|Vail, CO 81657\n",
        "  Geocoded to {u'lat': 39.629775, u'lng': -106.419102}"
       ]
      },
      {
       "output_type": "stream",
       "stream": "stdout",
       "text": [
        "\n",
        "Trying to fetch store# 4265 from http://www.mcpennsylvania.com/4265\n",
        "  Read 14561 bytes"
       ]
      },
      {
       "output_type": "stream",
       "stream": "stdout",
       "text": [
        "\n",
        "  Address is 566 Albany Post Rd.|Hyde Park, NY 12538\n",
        "  Geocoded to {u'lat': 41.7646776, u'lng': -73.93004599999999}"
       ]
      },
      {
       "output_type": "stream",
       "stream": "stdout",
       "text": [
        "\n",
        "Wrote 2817 locations to /Users/rsargent/projects/mcdonalds/mcdonalds_locations.json"
       ]
      },
      {
       "output_type": "stream",
       "stream": "stdout",
       "text": [
        "\n",
        "Trying to fetch store# 4266 from http://www.mcpennsylvania.com/4266\n",
        "  Read 6543 bytes"
       ]
      },
      {
       "output_type": "stream",
       "stream": "stdout",
       "text": [
        "\n",
        "  Store not found\n",
        "Trying to fetch store# 4267 from http://www.mcpennsylvania.com/4267\n",
        "  Read 17109 bytes"
       ]
      },
      {
       "output_type": "stream",
       "stream": "stdout",
       "text": [
        "\n",
        "  Address is 200 16th St.|Denver, CO 80202\n",
        "  Geocoded to {u'lat': 39.741701, u'lng': -104.988299}"
       ]
      },
      {
       "output_type": "stream",
       "stream": "stdout",
       "text": [
        "\n",
        "Trying to fetch store# 4268 from http://www.mcpennsylvania.com/4268\n",
        "  Read 8512 bytes"
       ]
      },
      {
       "output_type": "stream",
       "stream": "stdout",
       "text": [
        "\n",
        "  Store not found\n",
        "Trying to fetch store# 4269 from http://www.mcpennsylvania.com/4269\n",
        "  Read 6543 bytes"
       ]
      },
      {
       "output_type": "stream",
       "stream": "stdout",
       "text": [
        "\n",
        "  Store not found\n",
        "Trying to fetch store# 4270 from http://www.mcpennsylvania.com/4270\n",
        "  Read 14407 bytes"
       ]
      },
      {
       "output_type": "stream",
       "stream": "stdout",
       "text": [
        "\n",
        "  Address is 3621 Lincoln Way|Ames, IA 50010\n",
        "  Geocoded to {u'lat': 42.0230224, u'lng': -93.56240539999999}"
       ]
      },
      {
       "output_type": "stream",
       "stream": "stdout",
       "text": [
        "\n",
        "Trying to fetch store# 4271 from http://www.mcpennsylvania.com/4271\n",
        "  Read 14951 bytes"
       ]
      },
      {
       "output_type": "stream",
       "stream": "stdout",
       "text": [
        "\n",
        "  Address is 1540 2nd Ave|Santa Monica, CA 90405\n",
        "  Geocoded to {u'lat': 34.012309, u'lng': -118.494572}"
       ]
      },
      {
       "output_type": "stream",
       "stream": "stdout",
       "text": [
        "\n",
        "Trying to fetch store# 4272 from http://www.mcpennsylvania.com/4272\n",
        "  Read 14868 bytes"
       ]
      },
      {
       "output_type": "stream",
       "stream": "stdout",
       "text": [
        "\n",
        "  Address is Main Ave. Rt 66|Wynanskill, NY 12198\n",
        "  Geocoded to {u'lat': 42.6762253, u'lng': -73.6418473}"
       ]
      },
      {
       "output_type": "stream",
       "stream": "stdout",
       "text": [
        "\n",
        "Trying to fetch store# 4273 from http://www.mcpennsylvania.com/4273\n",
        "  Read 8512 bytes"
       ]
      },
      {
       "output_type": "stream",
       "stream": "stdout",
       "text": [
        "\n",
        "  Store not found\n",
        "Trying to fetch store# 4274 from http://www.mcpennsylvania.com/4274\n",
        "  Read 15357 bytes"
       ]
      },
      {
       "output_type": "stream",
       "stream": "stdout",
       "text": [
        "\n",
        "  Address is 4212 Lakeland Blvd.|Mattoon, IL 61938\n",
        "  Geocoded to {u'lat': 39.48308970000001, u'lng': -88.37282549999999}"
       ]
      },
      {
       "output_type": "stream",
       "stream": "stdout",
       "text": [
        "\n",
        "Trying to fetch store# 4275 from http://www.mcpennsylvania.com/4275\n",
        "  Read 14735 bytes"
       ]
      },
      {
       "output_type": "stream",
       "stream": "stdout",
       "text": [
        "\n",
        "  Address is 1403 Congress Pkwy|Athens, TN 37303\n",
        "  Geocoded to {u'lat': 35.450143, u'lng': -84.623527}"
       ]
      },
      {
       "output_type": "stream",
       "stream": "stdout",
       "text": [
        "\n",
        "Trying to fetch store# 4276 from http://www.mcpennsylvania.com/4276\n",
        "  Read 14046 bytes"
       ]
      },
      {
       "output_type": "stream",
       "stream": "stdout",
       "text": [
        "\n",
        "  Address is 1206 West Chicago Blvd.|Tecumseh, MI 49286\n",
        "  Geocoded to {u'lat': 42.0065252, u'lng': -83.9634724}"
       ]
      },
      {
       "output_type": "stream",
       "stream": "stdout",
       "text": [
        "\n",
        "Trying to fetch store# 4277 from http://www.mcpennsylvania.com/4277\n",
        "  Read 13574 bytes"
       ]
      },
      {
       "output_type": "stream",
       "stream": "stdout",
       "text": [
        "\n",
        "  Address is 9123 West Ridge Rd.|Girard, PA 16417\n",
        "  Geocoded to {u'lat': 42.01021180000001, u'lng': -80.30172449999999}"
       ]
      },
      {
       "output_type": "stream",
       "stream": "stdout",
       "text": [
        "\n",
        "Trying to fetch store# 4278 from http://www.mcpennsylvania.com/4278\n",
        "  Read 15854 bytes"
       ]
      },
      {
       "output_type": "stream",
       "stream": "stdout",
       "text": [
        "\n",
        "  Address is 435 S Broadway|Lake Orion, MI 48362\n",
        "  Geocoded to {u'lat': 42.777615, u'lng': -83.238497}"
       ]
      },
      {
       "output_type": "stream",
       "stream": "stdout",
       "text": [
        "\n",
        "Trying to fetch store# 4279 from http://www.mcpennsylvania.com/4279\n",
        "  Read 6543 bytes"
       ]
      },
      {
       "output_type": "stream",
       "stream": "stdout",
       "text": [
        "\n",
        "  Store not found\n",
        "Trying to fetch store# 4280 from http://www.mcpennsylvania.com/4280\n",
        "  Read 15784 bytes"
       ]
      },
      {
       "output_type": "stream",
       "stream": "stdout",
       "text": [
        "\n",
        "  Address is 480 S. Wood Drive|Okmulgee, OK 74447\n",
        "  Geocoded to {u'lat': 35.6196891, u'lng': -95.9604355}"
       ]
      },
      {
       "output_type": "stream",
       "stream": "stdout",
       "text": [
        "\n",
        "Wrote 2827 locations to /Users/rsargent/projects/mcdonalds/mcdonalds_locations.json"
       ]
      },
      {
       "output_type": "stream",
       "stream": "stdout",
       "text": [
        "\n",
        "Trying to fetch store# 4281 from http://www.mcpennsylvania.com/4281\n",
        "  Read 15230 bytes"
       ]
      },
      {
       "output_type": "stream",
       "stream": "stdout",
       "text": [
        "\n",
        "  Address is 103 Parkview Dr.|Bardstown, KY 40004\n",
        "  Geocoded to {u'lat': 37.8063654, u'lng': -85.4524156}"
       ]
      },
      {
       "output_type": "stream",
       "stream": "stdout",
       "text": [
        "\n",
        "Trying to fetch store# 4282 from http://www.mcpennsylvania.com/4282\n",
        "  Read 14096 bytes"
       ]
      },
      {
       "output_type": "stream",
       "stream": "stdout",
       "text": [
        "\n",
        "  Address is 7525 S. Western Ave.|Oklahoma City, OK 73139\n",
        "  Geocoded to {u'lat': 35.3905832, u'lng': -97.5305305}"
       ]
      },
      {
       "output_type": "stream",
       "stream": "stdout",
       "text": [
        "\n",
        "Trying to fetch store# 4283 from http://www.mcpennsylvania.com/4283\n",
        "  Read 16504 bytes"
       ]
      },
      {
       "output_type": "stream",
       "stream": "stdout",
       "text": [
        "\n",
        "  Address is 809 Lake Bradford Rd.|Tallahassee, FL 32304\n",
        "  Geocoded to {u'lat': 30.433976, u'lng': -84.30134199999999}"
       ]
      },
      {
       "output_type": "stream",
       "stream": "stdout",
       "text": [
        "\n",
        "Trying to fetch store# 4284 from http://www.mcpennsylvania.com/4284\n",
        "  Read 12957 bytes"
       ]
      },
      {
       "output_type": "stream",
       "stream": "stdout",
       "text": [
        "\n",
        "  Address is 610 33rd Avenue, SW|Cedar Rapids, IA 52404\n",
        "  Geocoded to {u'lat': 41.943475, u'lng': -91.67715799999999}"
       ]
      },
      {
       "output_type": "stream",
       "stream": "stdout",
       "text": [
        "\n",
        "Trying to fetch store# 4285 from http://www.mcpennsylvania.com/4285\n",
        "  Read 6543 bytes"
       ]
      },
      {
       "output_type": "stream",
       "stream": "stdout",
       "text": [
        "\n",
        "  Store not found\n",
        "Trying to fetch store# 4286 from http://www.mcpennsylvania.com/4286\n",
        "  Read 16168 bytes"
       ]
      },
      {
       "output_type": "stream",
       "stream": "stdout",
       "text": [
        "\n",
        "  Address is 211 W North St.|Kendallville, IN 46755\n",
        "  Geocoded to {u'lat': 41.451801, u'lng': -85.269163}"
       ]
      },
      {
       "output_type": "stream",
       "stream": "stdout",
       "text": [
        "\n",
        "Trying to fetch store# 4287 from http://www.mcpennsylvania.com/4287\n",
        "  Read 13424 bytes"
       ]
      },
      {
       "output_type": "stream",
       "stream": "stdout",
       "text": [
        "\n",
        "  Address is 701 Williamson Rd NE|Roanoke, VA 24016\n",
        "  Geocoded to {u'lat': 37.278977, u'lng': -79.9337962}"
       ]
      },
      {
       "output_type": "stream",
       "stream": "stdout",
       "text": [
        "\n",
        "Trying to fetch store# 4288 from http://www.mcpennsylvania.com/4288\n",
        "  Read 15094 bytes"
       ]
      },
      {
       "output_type": "stream",
       "stream": "stdout",
       "text": [
        "\n",
        "  Address is 4072 ROBERT C BYRD DR|Beckley, WV 25801\n",
        "  Geocoded to {u'lat': 37.808227, u'lng': -81.184733}"
       ]
      },
      {
       "output_type": "stream",
       "stream": "stdout",
       "text": [
        "\n",
        "Trying to fetch store# 4289 from http://www.mcpennsylvania.com/4289\n",
        "  Read 14488 bytes"
       ]
      },
      {
       "output_type": "stream",
       "stream": "stdout",
       "text": [
        "\n",
        "  Address is 1185 Vista|Boise, ID 83705\n",
        "  Geocoded to {u'lat': 43.5938898, u'lng': -116.2140489}"
       ]
      },
      {
       "output_type": "stream",
       "stream": "stdout",
       "text": [
        "\n",
        "Trying to fetch store# 4290 from http://www.mcpennsylvania.com/4290\n",
        "  Read 14429 bytes"
       ]
      },
      {
       "output_type": "stream",
       "stream": "stdout",
       "text": [
        "\n",
        "  Address is 1310 STAFFORD DR|PRINCETON, WV 24740\n",
        "  Geocoded to {u'lat': 37.3609313, u'lng': -81.09917879999999}"
       ]
      },
      {
       "output_type": "stream",
       "stream": "stdout",
       "text": [
        "\n",
        "Trying to fetch store# 4291 from http://www.mcpennsylvania.com/4291\n",
        "  Read 16574 bytes"
       ]
      },
      {
       "output_type": "stream",
       "stream": "stdout",
       "text": [
        "\n",
        "  Address is 1540 E Market St|Nappanee, IN 46550\n",
        "  Geocoded to {u'lat': 41.443135, u'lng': -85.984634}"
       ]
      },
      {
       "output_type": "stream",
       "stream": "stdout",
       "text": [
        "\n",
        "Wrote 2837 locations to /Users/rsargent/projects/mcdonalds/mcdonalds_locations.json"
       ]
      },
      {
       "output_type": "stream",
       "stream": "stdout",
       "text": [
        "\n",
        "Trying to fetch store# 4292 from http://www.mcpennsylvania.com/4292\n",
        "  Read 6543 bytes"
       ]
      },
      {
       "output_type": "stream",
       "stream": "stdout",
       "text": [
        "\n",
        "  Store not found\n",
        "Trying to fetch store# 4293 from http://www.mcpennsylvania.com/4293\n",
        "  Read 8512 bytes"
       ]
      },
      {
       "output_type": "stream",
       "stream": "stdout",
       "text": [
        "\n",
        "  Store not found\n",
        "Trying to fetch store# 4294 from http://www.mcpennsylvania.com/4294\n",
        "  Read 15915 bytes"
       ]
      },
      {
       "output_type": "stream",
       "stream": "stdout",
       "text": [
        "\n",
        "  Address is 1500 9th Avenue|Altoona, PA 16602\n",
        "  Geocoded to {u'lat': 40.5112523, u'lng': -78.401333}"
       ]
      },
      {
       "output_type": "stream",
       "stream": "stdout",
       "text": [
        "\n",
        "Trying to fetch store# 4295 from http://www.mcpennsylvania.com/4295\n",
        "  Read 16794 bytes"
       ]
      },
      {
       "output_type": "stream",
       "stream": "stdout",
       "text": [
        "\n",
        "  Address is 1127 Northern Blvd.|Clarks Summit, PA 18411\n",
        "  Geocoded to {u'lat': 41.4867224, u'lng': -75.69482289999999}"
       ]
      },
      {
       "output_type": "stream",
       "stream": "stdout",
       "text": [
        "\n",
        "Trying to fetch store# 4296 from http://www.mcpennsylvania.com/4296\n",
        "  Read 18970 bytes"
       ]
      },
      {
       "output_type": "stream",
       "stream": "stdout",
       "text": [
        "\n",
        "  Address is 525 Scranton Carbondale Hwy|Eynon, PA 18403\n",
        "  Geocoded to {u'lat': 41.4997614, u'lng': -75.5816857}"
       ]
      },
      {
       "output_type": "stream",
       "stream": "stdout",
       "text": [
        "\n",
        "Trying to fetch store# 4297 from http://www.mcpennsylvania.com/4297\n",
        "  Read 14228 bytes"
       ]
      },
      {
       "output_type": "stream",
       "stream": "stdout",
       "text": [
        "\n",
        "  Address is 260 N. Pottstown Pike|Exton, PA 19341\n",
        "  Geocoded to {u'lat': 40.0336643, u'lng': -75.6335215}"
       ]
      },
      {
       "output_type": "stream",
       "stream": "stdout",
       "text": [
        "\n",
        "Trying to fetch store# 4298 from http://www.mcpennsylvania.com/4298\n",
        "  Read 14743 bytes"
       ]
      },
      {
       "output_type": "stream",
       "stream": "stdout",
       "text": [
        "\n",
        "  Address is 456 South West|Wichita, KS 67213\n",
        "  Geocoded to {u'lat': 37.6769729, u'lng': -97.389017}"
       ]
      },
      {
       "output_type": "stream",
       "stream": "stdout",
       "text": [
        "\n",
        "Trying to fetch store# 4299 from http://www.mcpennsylvania.com/4299\n",
        "  Read 16560 bytes"
       ]
      },
      {
       "output_type": "stream",
       "stream": "stdout",
       "text": [
        "\n",
        "  Address is 50 N. Waukegan Rd.|Deerfield, IL 60015\n",
        "  Geocoded to {u'lat': 42.1536882, u'lng': -87.8361836}"
       ]
      },
      {
       "output_type": "stream",
       "stream": "stdout",
       "text": [
        "\n",
        "Trying to fetch store# 4300 from http://www.mcpennsylvania.com/4300\n",
        "  Read 14504 bytes"
       ]
      },
      {
       "output_type": "stream",
       "stream": "stdout",
       "text": [
        "\n",
        "  Address is 770 West Johnson St|Fond du Lac, WI 54935\n",
        "  Geocoded to {u'lat': 43.7839, u'lng': -88.4751239}"
       ]
      },
      {
       "output_type": "stream",
       "stream": "stdout",
       "text": [
        "\n",
        "Trying to fetch store# 4301 from http://www.mcpennsylvania.com/4301\n",
        "  Read 6543 bytes"
       ]
      },
      {
       "output_type": "stream",
       "stream": "stdout",
       "text": [
        "\n",
        "  Store not found\n",
        "Trying to fetch store# 4302 from http://www.mcpennsylvania.com/4302\n",
        "  Read 17158 bytes"
       ]
      },
      {
       "output_type": "stream",
       "stream": "stdout",
       "text": [
        "\n",
        "  Address is 3804 Washington Rd.|Martinez, GA 30907\n",
        "  Geocoded to {u'lat': 33.5128628, u'lng': -82.0868132}"
       ]
      },
      {
       "output_type": "stream",
       "stream": "stdout",
       "text": [
        "\n",
        "Trying to fetch store# 4303 from http://www.mcpennsylvania.com/4303\n",
        "  Read 14969 bytes"
       ]
      },
      {
       "output_type": "stream",
       "stream": "stdout",
       "text": [
        "\n",
        "  Address is 4619 Rittiman Rd|San Antonio, TX 78218\n",
        "  Geocoded to {u'lat': 29.484611, u'lng': -98.40167199999999}"
       ]
      },
      {
       "output_type": "stream",
       "stream": "stdout",
       "text": [
        "\n",
        "Trying to fetch store# 4304 from http://www.mcpennsylvania.com/4304\n",
        "  Read 13389 bytes"
       ]
      },
      {
       "output_type": "stream",
       "stream": "stdout",
       "text": [
        "\n",
        "  Address is 3402 Avenue L|Fort Madison, IA 52627\n",
        "  Geocoded to {u'lat': 40.626198, u'lng': -91.35596699999999}"
       ]
      },
      {
       "output_type": "stream",
       "stream": "stdout",
       "text": [
        "\n",
        "Wrote 2847 locations to /Users/rsargent/projects/mcdonalds/mcdonalds_locations.json"
       ]
      },
      {
       "output_type": "stream",
       "stream": "stdout",
       "text": [
        "\n",
        "Trying to fetch store# 4305 from http://www.mcpennsylvania.com/4305\n",
        "  Read 14514 bytes"
       ]
      },
      {
       "output_type": "stream",
       "stream": "stdout",
       "text": [
        "\n",
        "  Address is 391 Central Ave.|Albany, NY 12205\n",
        "  Geocoded to {u'lat': 42.667009, u'lng': -73.774455}"
       ]
      },
      {
       "output_type": "stream",
       "stream": "stdout",
       "text": [
        "\n",
        "Trying to fetch store# 4306 from http://www.mcpennsylvania.com/4306\n",
        "  Read 14421 bytes"
       ]
      },
      {
       "output_type": "stream",
       "stream": "stdout",
       "text": [
        "\n",
        "  Address is 840 S Main St.|Kernersville, NC 27284\n",
        "  Geocoded to {u'lat': 36.111319, u'lng': -80.089733}"
       ]
      },
      {
       "output_type": "stream",
       "stream": "stdout",
       "text": [
        "\n",
        "Trying to fetch store# 4307 from http://www.mcpennsylvania.com/4307\n",
        "  Read 14889 bytes"
       ]
      },
      {
       "output_type": "stream",
       "stream": "stdout",
       "text": [
        "\n",
        "  Address is N92 W17512 County Line Road|Germantown, WI 53022\n",
        "  Geocoded to {u'lat': 43.1927007, u'lng': -88.1273002}"
       ]
      },
      {
       "output_type": "stream",
       "stream": "stdout",
       "text": [
        "\n",
        "Trying to fetch store# 4308 from http://www.mcpennsylvania.com/4308\n",
        "  Read 14127 bytes"
       ]
      },
      {
       "output_type": "stream",
       "stream": "stdout",
       "text": [
        "\n",
        "  Address is 1530 Third Ave.|Seattle, WA 98101\n",
        "  Geocoded to {u'lat': 47.610665, u'lng': -122.338143}"
       ]
      },
      {
       "output_type": "stream",
       "stream": "stdout",
       "text": [
        "\n",
        "Trying to fetch store# 4309 from http://www.mcpennsylvania.com/4309\n",
        "  Read 14989 bytes"
       ]
      },
      {
       "output_type": "stream",
       "stream": "stdout",
       "text": [
        "\n",
        "  Address is 1319 Sunset Dr.|Grenada, MS 38901\n",
        "  Geocoded to {u'lat': 33.7842697, u'lng': -89.8334524}"
       ]
      },
      {
       "output_type": "stream",
       "stream": "stdout",
       "text": [
        "\n",
        "Trying to fetch store# 4310 from http://www.mcpennsylvania.com/4310\n",
        "  Read 13901 bytes"
       ]
      },
      {
       "output_type": "stream",
       "stream": "stdout",
       "text": [
        "\n",
        "  Address is 4947 Huntington Drive|Los Angeles, CA 90032\n",
        "  Geocoded to {u'lat': 34.0875516, u'lng': -118.1752792}"
       ]
      },
      {
       "output_type": "stream",
       "stream": "stdout",
       "text": [
        "\n",
        "Trying to fetch store# 4311 from http://www.mcpennsylvania.com/4311\n",
        "  Read 14685 bytes"
       ]
      },
      {
       "output_type": "stream",
       "stream": "stdout",
       "text": [
        "\n",
        "  Address is 530 Reidville Dr|Waterbury, CT 06705\n",
        "  Geocoded to {u'lat': 41.539238, u'lng': -72.99606299999999}"
       ]
      },
      {
       "output_type": "stream",
       "stream": "stdout",
       "text": [
        "\n",
        "Trying to fetch store# 4312 from http://www.mcpennsylvania.com/4312\n",
        "  Read 14084 bytes"
       ]
      },
      {
       "output_type": "stream",
       "stream": "stdout",
       "text": [
        "\n",
        "  Address is 14300 Gallant Fox Lane|Bowie, MD 20715\n",
        "  Geocoded to {u'lat': 38.9730459, u'lng': -76.757915}"
       ]
      },
      {
       "output_type": "stream",
       "stream": "stdout",
       "text": [
        "\n",
        "Trying to fetch store# 4313 from http://www.mcpennsylvania.com/4313\n",
        "  Read 13820 bytes"
       ]
      },
      {
       "output_type": "stream",
       "stream": "stdout",
       "text": [
        "\n",
        "  Address is 393 W. Main St.|Hendersonville, TN 37075\n",
        "  Geocoded to {u'lat': 36.302608, u'lng': -86.627777}"
       ]
      },
      {
       "output_type": "stream",
       "stream": "stdout",
       "text": [
        "\n",
        "Trying to fetch store# 4314 from http://www.mcpennsylvania.com/4314\n",
        "  Read 14021 bytes"
       ]
      },
      {
       "output_type": "stream",
       "stream": "stdout",
       "text": [
        "\n",
        "  Address is 2424 E. Prospect|Ashtabula, OH 44004\n",
        "  Geocoded to {u'lat': 41.8543729, u'lng': -80.8175624}"
       ]
      },
      {
       "output_type": "stream",
       "stream": "stdout",
       "text": [
        "\n",
        "Wrote 2857 locations to /Users/rsargent/projects/mcdonalds/mcdonalds_locations.json"
       ]
      },
      {
       "output_type": "stream",
       "stream": "stdout",
       "text": [
        "\n",
        "Trying to fetch store# 4315 from http://www.mcpennsylvania.com/4315\n",
        "  Read 6543 bytes"
       ]
      },
      {
       "output_type": "stream",
       "stream": "stdout",
       "text": [
        "\n",
        "  Store not found\n",
        "Trying to fetch store# 4316 from http://www.mcpennsylvania.com/4316\n",
        "  Read 6543 bytes"
       ]
      },
      {
       "output_type": "stream",
       "stream": "stdout",
       "text": [
        "\n",
        "  Store not found\n",
        "Trying to fetch store# 4317 from http://www.mcpennsylvania.com/4317\n",
        "  Read 6543 bytes"
       ]
      },
      {
       "output_type": "stream",
       "stream": "stdout",
       "text": [
        "\n",
        "  Store not found\n",
        "Trying to fetch store# 4318 from http://www.mcpennsylvania.com/4318\n",
        "  Read 6543 bytes"
       ]
      },
      {
       "output_type": "stream",
       "stream": "stdout",
       "text": [
        "\n",
        "  Store not found\n",
        "Trying to fetch store# 4319 from http://www.mcpennsylvania.com/4319\n",
        "  Read 18185 bytes"
       ]
      },
      {
       "output_type": "stream",
       "stream": "stdout",
       "text": [
        "\n",
        "  Address is 595 US-287|Broomfield, CO 80020\n",
        "  Geocoded to {u'lat': 39.92354539999999, u'lng': -105.0912913}"
       ]
      },
      {
       "output_type": "stream",
       "stream": "stdout",
       "text": [
        "\n",
        "Trying to fetch store# 4320 from http://www.mcpennsylvania.com/4320\n",
        "  Read 22105 bytes"
       ]
      },
      {
       "output_type": "stream",
       "stream": "stdout",
       "text": [
        "\n",
        "  Address is 1010 N. Miami Blvd.|Durham, NC 27703\n",
        "  Geocoded to {u'lat': 35.993118, u'lng': -78.869064}"
       ]
      },
      {
       "output_type": "stream",
       "stream": "stdout",
       "text": [
        "\n",
        "Trying to fetch store# 4321 from http://www.mcpennsylvania.com/4321\n",
        "  Read 14829 bytes"
       ]
      },
      {
       "output_type": "stream",
       "stream": "stdout",
       "text": [
        "\n",
        "  Address is 740 S. State St.|Caro, MI 48723\n",
        "  Geocoded to {u'lat': 43.4826971, u'lng': -83.40470409999999}"
       ]
      },
      {
       "output_type": "stream",
       "stream": "stdout",
       "text": [
        "\n",
        "Trying to fetch store# 4322 from http://www.mcpennsylvania.com/4322\n",
        "  Read 15072 bytes"
       ]
      },
      {
       "output_type": "stream",
       "stream": "stdout",
       "text": [
        "\n",
        "  Address is 1737 51st Ave. E.|Fife, WA 98424\n",
        "  Geocoded to {u'lat': 47.2421516, u'lng': -122.3614755}"
       ]
      },
      {
       "output_type": "stream",
       "stream": "stdout",
       "text": [
        "\n",
        "Trying to fetch store# 4323 from http://www.mcpennsylvania.com/4323\n",
        "  Read 15395 bytes"
       ]
      },
      {
       "output_type": "stream",
       "stream": "stdout",
       "text": [
        "\n",
        "  Address is 5530 Gull Rd.|Kalamazoo, MI 49048\n",
        "  Geocoded to {u'lat': 42.330462, u'lng': -85.5078102}"
       ]
      },
      {
       "output_type": "stream",
       "stream": "stdout",
       "text": [
        "\n",
        "Trying to fetch store# 4324 from http://www.mcpennsylvania.com/4324\n",
        "  Read 14340 bytes"
       ]
      },
      {
       "output_type": "stream",
       "stream": "stdout",
       "text": [
        "\n",
        "  Address is 550 Lawrence Exprwy|Sunnyvale, CA 94086\n",
        "  Geocoded to {u'lat': 37.38556700000001, u'lng': -121.995289}"
       ]
      },
      {
       "output_type": "stream",
       "stream": "stdout",
       "text": [
        "\n",
        "Trying to fetch store# 4325 from http://www.mcpennsylvania.com/4325\n",
        "  Read 14248 bytes"
       ]
      },
      {
       "output_type": "stream",
       "stream": "stdout",
       "text": [
        "\n",
        "  Address is 4711 McFarland Blvd. E|Tuscaloosa, AL 35401\n",
        "  Geocoded to {u'lat': 33.165264, u'lng': -87.524636}"
       ]
      },
      {
       "output_type": "stream",
       "stream": "stdout",
       "text": [
        "\n",
        "Trying to fetch store# 4326 from http://www.mcpennsylvania.com/4326\n",
        "  Read 8512 bytes"
       ]
      },
      {
       "output_type": "stream",
       "stream": "stdout",
       "text": [
        "\n",
        "  Store not found\n",
        "Trying to fetch store# 4327 from http://www.mcpennsylvania.com/4327\n",
        "  Read 14213 bytes"
       ]
      },
      {
       "output_type": "stream",
       "stream": "stdout",
       "text": [
        "\n",
        "  Address is 1110 S. State St.|Davison, MI 48423\n",
        "  Geocoded to {u'lat': 43.016791, u'lng': -83.51830799999999}"
       ]
      },
      {
       "output_type": "stream",
       "stream": "stdout",
       "text": [
        "\n",
        "Trying to fetch store# 4328 from http://www.mcpennsylvania.com/4328\n",
        "  Read 8512 bytes"
       ]
      },
      {
       "output_type": "stream",
       "stream": "stdout",
       "text": [
        "\n",
        "  Store not found\n",
        "Trying to fetch store# 4329 from http://www.mcpennsylvania.com/4329\n",
        "  Read 16629 bytes"
       ]
      },
      {
       "output_type": "stream",
       "stream": "stdout",
       "text": [
        "\n",
        "  Address is 10536 D'Iberville Blvd|D'Iberville, MS 39540\n",
        "  Geocoded to {u'lat': 30.440829, u'lng': -88.897626}"
       ]
      },
      {
       "output_type": "stream",
       "stream": "stdout",
       "text": [
        "\n",
        "Trying to fetch store# 4330 from http://www.mcpennsylvania.com/4330\n",
        "  Read 15866 bytes"
       ]
      },
      {
       "output_type": "stream",
       "stream": "stdout",
       "text": [
        "\n",
        "  Address is 600 E Broadway St|North Little Rock, AR 72114\n",
        "  Geocoded to {u'lat': 34.755448, u'lng': -92.2614399}"
       ]
      },
      {
       "output_type": "stream",
       "stream": "stdout",
       "text": [
        "\n",
        "Wrote 2867 locations to /Users/rsargent/projects/mcdonalds/mcdonalds_locations.json"
       ]
      },
      {
       "output_type": "stream",
       "stream": "stdout",
       "text": [
        "\n",
        "Trying to fetch store# 4331 from http://www.mcpennsylvania.com/4331\n",
        "  Read 6543 bytes"
       ]
      },
      {
       "output_type": "stream",
       "stream": "stdout",
       "text": [
        "\n",
        "  Store not found\n",
        "Trying to fetch store# 4332 from http://www.mcpennsylvania.com/4332\n",
        "  Read 14143 bytes"
       ]
      },
      {
       "output_type": "stream",
       "stream": "stdout",
       "text": [
        "\n",
        "  Address is Route 23|Franklin, NJ 07416\n",
        "  Geocoded to {u'lat': 41.1385153, u'lng': -74.5718399}"
       ]
      },
      {
       "output_type": "stream",
       "stream": "stdout",
       "text": [
        "\n",
        "Trying to fetch store# 4333 from http://www.mcpennsylvania.com/4333\n",
        "  Read 13671 bytes"
       ]
      },
      {
       "output_type": "stream",
       "stream": "stdout",
       "text": [
        "\n",
        "  Address is 340 Rt. 72|Manahawkin, NJ 08050\n",
        "  Geocoded to {u'lat': 39.68746, u'lng': -74.249449}"
       ]
      },
      {
       "output_type": "stream",
       "stream": "stdout",
       "text": [
        "\n",
        "Trying to fetch store# 4334 from http://www.mcpennsylvania.com/4334\n",
        "  Read 6543 bytes"
       ]
      },
      {
       "output_type": "stream",
       "stream": "stdout",
       "text": [
        "\n",
        "  Store not found\n",
        "Trying to fetch store# 4335 from http://www.mcpennsylvania.com/4335\n",
        "  Read 6543 bytes"
       ]
      },
      {
       "output_type": "stream",
       "stream": "stdout",
       "text": [
        "\n",
        "  Store not found\n",
        "Trying to fetch store# 4336 from http://www.mcpennsylvania.com/4336\n",
        "  Read 14273 bytes"
       ]
      },
      {
       "output_type": "stream",
       "stream": "stdout",
       "text": [
        "\n",
        "  Address is 825 Villa Maria|Bryan, TX 77801\n",
        "  Geocoded to {u'lat': 30.6335417, u'lng': -96.3672488}"
       ]
      },
      {
       "output_type": "stream",
       "stream": "stdout",
       "text": [
        "\n",
        "Trying to fetch store# 4337 from http://www.mcpennsylvania.com/4337\n",
        "  Read 16283 bytes"
       ]
      },
      {
       "output_type": "stream",
       "stream": "stdout",
       "text": [
        "\n",
        "  Address is 1019 Mineral Wells|Paris, TN 38242\n",
        "  Geocoded to {u'lat': 36.289821, u'lng': -88.313518}"
       ]
      },
      {
       "output_type": "stream",
       "stream": "stdout",
       "text": [
        "\n",
        "Trying to fetch store# 4338 from http://www.mcpennsylvania.com/4338\n",
        "  Read 16417 bytes"
       ]
      },
      {
       "output_type": "stream",
       "stream": "stdout",
       "text": [
        "\n",
        "  Address is 503 Beltline|Collinsville, IL 62234\n",
        "  Geocoded to {u'lat': 38.69098109999999, u'lng': -89.9753884}"
       ]
      },
      {
       "output_type": "stream",
       "stream": "stdout",
       "text": [
        "\n",
        "Trying to fetch store# 4339 from http://www.mcpennsylvania.com/4339\n",
        "  Read 14551 bytes"
       ]
      },
      {
       "output_type": "stream",
       "stream": "stdout",
       "text": [
        "\n",
        "  Address is 33 Calvary Dr. W.|New City, NY 10956\n",
        "  Geocoded to {u'lat': 41.153558, u'lng': -73.9831332}"
       ]
      },
      {
       "output_type": "stream",
       "stream": "stdout",
       "text": [
        "\n",
        "Trying to fetch store# 4340 from http://www.mcpennsylvania.com/4340\n",
        "  Read 17270 bytes"
       ]
      },
      {
       "output_type": "stream",
       "stream": "stdout",
       "text": [
        "\n",
        "  Address is 2006 S Western Avenue|Marion, IN 46952\n",
        "  Geocoded to {u'lat': 40.543507, u'lng': -85.674308}"
       ]
      },
      {
       "output_type": "stream",
       "stream": "stdout",
       "text": [
        "\n",
        "Trying to fetch store# 4341 from http://www.mcpennsylvania.com/4341\n",
        "  Read 13796 bytes"
       ]
      },
      {
       "output_type": "stream",
       "stream": "stdout",
       "text": [
        "\n",
        "  Address is 1120 N Main St|Marion, VA 24354\n",
        "  Geocoded to {u'lat': 36.844089, u'lng': -81.5016327}"
       ]
      },
      {
       "output_type": "stream",
       "stream": "stdout",
       "text": [
        "\n",
        "Trying to fetch store# 4342 from http://www.mcpennsylvania.com/4342\n",
        "  Read 6543 bytes"
       ]
      },
      {
       "output_type": "stream",
       "stream": "stdout",
       "text": [
        "\n",
        "  Store not found\n",
        "Trying to fetch store# 4343 from http://www.mcpennsylvania.com/4343\n",
        "  Read 6543 bytes"
       ]
      },
      {
       "output_type": "stream",
       "stream": "stdout",
       "text": [
        "\n",
        "  Store not found\n",
        "Trying to fetch store# 4344 from http://www.mcpennsylvania.com/4344\n",
        "  Read 16005 bytes"
       ]
      },
      {
       "output_type": "stream",
       "stream": "stdout",
       "text": [
        "\n",
        "  Address is 357 Hamilton Ave.|Brooklyn, NY 11231\n",
        "  Geocoded to {u'lat': 40.673414, u'lng': -73.998977}"
       ]
      },
      {
       "output_type": "stream",
       "stream": "stdout",
       "text": [
        "\n",
        "Trying to fetch store# 4345 from http://www.mcpennsylvania.com/4345\n",
        "  Read 13607 bytes"
       ]
      },
      {
       "output_type": "stream",
       "stream": "stdout",
       "text": [
        "\n",
        "  Address is 606 Neptune Ave|Brooklyn, NY 11224\n",
        "  Geocoded to {u'lat': 40.5798154, u'lng': -73.975121}"
       ]
      },
      {
       "output_type": "stream",
       "stream": "stdout",
       "text": [
        "\n",
        "Wrote 2877 locations to /Users/rsargent/projects/mcdonalds/mcdonalds_locations.json"
       ]
      },
      {
       "output_type": "stream",
       "stream": "stdout",
       "text": [
        "\n",
        "Trying to fetch store# 4346 from http://www.mcpennsylvania.com/4346\n",
        "  Read 15898 bytes"
       ]
      },
      {
       "output_type": "stream",
       "stream": "stdout",
       "text": [
        "\n",
        "  Address is 1531 Fulton St.|Brooklyn, NY 11216\n",
        "  Geocoded to {u'lat': 40.6798693, u'lng': -73.93979039999999}"
       ]
      },
      {
       "output_type": "stream",
       "stream": "stdout",
       "text": [
        "\n",
        "Trying to fetch store# 4347 from http://www.mcpennsylvania.com/4347\n",
        "  Read 16660 bytes"
       ]
      },
      {
       "output_type": "stream",
       "stream": "stdout",
       "text": [
        "\n",
        "  Address is 1200 E. College Drive|Marshall, MN 56258\n",
        "  Geocoded to {u'lat': 44.4503698, u'lng': -95.7729318}"
       ]
      },
      {
       "output_type": "stream",
       "stream": "stdout",
       "text": [
        "\n",
        "Trying to fetch store# 4348 from http://www.mcpennsylvania.com/4348\n",
        "  Read 6543 bytes"
       ]
      },
      {
       "output_type": "stream",
       "stream": "stdout",
       "text": [
        "\n",
        "  Store not found\n",
        "Trying to fetch store# 4349 from http://www.mcpennsylvania.com/4349\n",
        "  Read 6543 bytes"
       ]
      },
      {
       "output_type": "stream",
       "stream": "stdout",
       "text": [
        "\n",
        "  Store not found\n",
        "Trying to fetch store# 4350 from http://www.mcpennsylvania.com/4350\n",
        "  Read 17203 bytes"
       ]
      },
      {
       "output_type": "stream",
       "stream": "stdout",
       "text": [
        "\n",
        "  Address is 2 Chandler Drive|Bath, ME 04530\n",
        "  Geocoded to {u'lat': 43.90852, u'lng': -69.827395}"
       ]
      },
      {
       "output_type": "stream",
       "stream": "stdout",
       "text": [
        "\n",
        "Trying to fetch store# 4351 from http://www.mcpennsylvania.com/4351\n",
        "  Read 6543 bytes"
       ]
      },
      {
       "output_type": "stream",
       "stream": "stdout",
       "text": [
        "\n",
        "  Store not found\n",
        "Trying to fetch store# 4352 from http://www.mcpennsylvania.com/4352\n",
        "  Read 8512 bytes"
       ]
      },
      {
       "output_type": "stream",
       "stream": "stdout",
       "text": [
        "\n",
        "  Store not found\n",
        "Trying to fetch store# 4353 from http://www.mcpennsylvania.com/4353\n",
        "  Read 17087 bytes"
       ]
      },
      {
       "output_type": "stream",
       "stream": "stdout",
       "text": [
        "\n",
        "  Address is 561 North Main Street|Doylestown, PA 18901\n",
        "  Geocoded to {u'lat': 40.3235562, u'lng': -75.1304201}"
       ]
      },
      {
       "output_type": "stream",
       "stream": "stdout",
       "text": [
        "\n",
        "Trying to fetch store# 4354 from http://www.mcpennsylvania.com/4354\n",
        "  Read 23251 bytes"
       ]
      },
      {
       "output_type": "stream",
       "stream": "stdout",
       "text": [
        "\n",
        "  Address is 7702 McKnight Rd.|Pittsburgh, PA 15237\n",
        "  Geocoded to {u'lat': 40.5463034, u'lng': -80.0165605}"
       ]
      },
      {
       "output_type": "stream",
       "stream": "stdout",
       "text": [
        "\n",
        "Trying to fetch store# 4355 from http://www.mcpennsylvania.com/4355\n",
        "  Read 15144 bytes"
       ]
      },
      {
       "output_type": "stream",
       "stream": "stdout",
       "text": [
        "\n",
        "  Address is 901 E. Main St.,| Palmyra Shopping Center,|Palmyra, PA 17078\n",
        "  Geocoded to {u'lat': 40.314105, u'lng': -76.58308699999999}"
       ]
      },
      {
       "output_type": "stream",
       "stream": "stdout",
       "text": [
        "\n",
        "Trying to fetch store# 4356 from http://www.mcpennsylvania.com/4356\n",
        "  Read 16682 bytes"
       ]
      },
      {
       "output_type": "stream",
       "stream": "stdout",
       "text": [
        "\n",
        "  Address is 828 S. Military Trail|West Palm Beach, FL 33406\n",
        "  Geocoded to {u'lat': 26.6652681, u'lng': -80.1124371}"
       ]
      },
      {
       "output_type": "stream",
       "stream": "stdout",
       "text": [
        "\n",
        "Trying to fetch store# 4357 from http://www.mcpennsylvania.com/4357\n",
        "  Read 8512 bytes"
       ]
      },
      {
       "output_type": "stream",
       "stream": "stdout",
       "text": [
        "\n",
        "  Store not found\n",
        "Trying to fetch store# 4358 from http://www.mcpennsylvania.com/4358\n",
        "  Read 15913 bytes"
       ]
      },
      {
       "output_type": "stream",
       "stream": "stdout",
       "text": [
        "\n",
        "  Address is 2089 Chain Bridge Road|Vienna, VA 22182\n",
        "  No geocode"
       ]
      },
      {
       "output_type": "stream",
       "stream": "stdout",
       "text": [
        "\n",
        "Trying to fetch store# 4359 from http://www.mcpennsylvania.com/4359\n",
        "  Read 8512 bytes"
       ]
      },
      {
       "output_type": "stream",
       "stream": "stdout",
       "text": [
        "\n",
        "  Store not found\n",
        "Trying to fetch store# 4360 from http://www.mcpennsylvania.com/4360\n",
        "  Read 15985 bytes"
       ]
      },
      {
       "output_type": "stream",
       "stream": "stdout",
       "text": [
        "\n",
        "  Address is 900 N. Main St.|Greenville, KY 42345\n",
        "  Geocoded to {u'lat': 37.2281414, u'lng': -87.1672967}"
       ]
      },
      {
       "output_type": "stream",
       "stream": "stdout",
       "text": [
        "\n",
        "Trying to fetch store# 4361 from http://www.mcpennsylvania.com/4361\n",
        "  Read 14658 bytes"
       ]
      },
      {
       "output_type": "stream",
       "stream": "stdout",
       "text": [
        "\n",
        "  Address is North Central Park Avenue|Mechanicville, NY 12118\n",
        "  Geocoded to {u'lat': 42.903407, u'lng': -73.69121}"
       ]
      },
      {
       "output_type": "stream",
       "stream": "stdout",
       "text": [
        "\n",
        "Wrote 2887 locations to /Users/rsargent/projects/mcdonalds/mcdonalds_locations.json"
       ]
      },
      {
       "output_type": "stream",
       "stream": "stdout",
       "text": [
        "\n",
        "Trying to fetch store# 4362 from http://www.mcpennsylvania.com/4362\n",
        "  Read 14845 bytes"
       ]
      },
      {
       "output_type": "stream",
       "stream": "stdout",
       "text": [
        "\n",
        "  Address is 31 Holland Ave.|Albany, NY 12209\n",
        "  Geocoded to {u'lat': 42.6472448, u'lng': -73.7722682}"
       ]
      },
      {
       "output_type": "stream",
       "stream": "stdout",
       "text": [
        "\n",
        "Trying to fetch store# 4363 from http://www.mcpennsylvania.com/4363\n",
        "  Read 16380 bytes"
       ]
      },
      {
       "output_type": "stream",
       "stream": "stdout",
       "text": [
        "\n",
        "  Address is 44 Railroad St.|St. Johnsbury, VT 05819\n",
        "  Geocoded to {u'lat': 44.4132807, u'lng': -72.0171615}"
       ]
      },
      {
       "output_type": "stream",
       "stream": "stdout",
       "text": [
        "\n",
        "Trying to fetch store# 4364 from http://www.mcpennsylvania.com/4364\n",
        "  Read 6543 bytes"
       ]
      }
     ],
     "prompt_number": "*"
    },
    {
     "cell_type": "code",
     "collapsed": false,
     "input": [],
     "language": "python",
     "metadata": {},
     "outputs": []
    }
   ],
   "metadata": {}
  }
 ]
}