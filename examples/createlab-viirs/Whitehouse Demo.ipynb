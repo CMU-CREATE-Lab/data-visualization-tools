{
 "metadata": {
  "name": "",
  "signature": "sha256:87692dac8b38811678636f01ccaeda744b6ae20562c9f3d7d6bdb36a53aac7c5"
 },
 "nbformat": 3,
 "nbformat_minor": 0,
 "worksheets": [
  {
   "cells": [
    {
     "cell_type": "code",
     "collapsed": false,
     "input": [
      "import array, datetime, glob, json, os, re, time, urllib2\n",
      "\n",
      "def init_capture(*args):\n",
      "    for path in args:\n",
      "        if not os.path.exists(path):\n",
      "            os.makedirs(path)\n",
      "\n",
      "def download_file(url, filename):\n",
      "    try:\n",
      "        f = urllib2.urlopen(url)\n",
      "        with open(filename, \"wb\") as local_file:\n",
      "            local_file.write(f.read())\n",
      "    except:\n",
      "        print \"Failed to download %s\" % url\n",
      "\n",
      "def format_viirs_url(url,date):\n",
      "    return url % date\n",
      "    \n",
      "def extract_feature_data(feature):\n",
      "    lng = feature['geometry']['coordinates'][0]\n",
      "    lat = feature['geometry']['coordinates'][1]\n",
      "    \n",
      "    date_re = re.compile('\\d{4}/\\d{2}/\\d{2} \\d{2}:\\d{2}:\\d{2}')\n",
      "    date_match = date_re.search(feature['properties']['Description'])\n",
      "    \n",
      "    temp_re = re.compile('(\\d+.\\d+) deg. K')\n",
      "    temp_match = temp_re.search(feature['properties']['Description'])\n",
      "\n",
      "    if date_match != None and temp_match != None:\n",
      "        date = date_match.group(0)\n",
      "        temp = temp_match.group(1)\n",
      "    else:\n",
      "        return []\n",
      "        \n",
      "    if float(temp) == 1810.0 or float(temp) <= 500 or float(temp) >= 3000:\n",
      "        return []\n",
      "    else:\n",
      "        return [lat, lng, time.mktime(time.strptime(date, \"%Y/%m/%d %H:%M:%S\")), float(temp)]\n",
      "\n",
      "def extract_float_data(filename):\n",
      "    data = []\n",
      "    obj = json.loads(open(filename).read())    \n",
      "    for feature in obj['features']:\n",
      "        geometry = feature['geometry']\n",
      "        if geometry['type'] == 'Point':\n",
      "            vals = extract_feature_data(feature)\n",
      "            if vals != []:\n",
      "                data += vals\n",
      "        else :\n",
      "            print geometry['type']\n",
      "    return data\n",
      "        \n",
      "def download_files(**kwargs):\n",
      "    end_date = kwargs['end_date']\n",
      "    start_date = kwargs['start_date']\n",
      "    url = kwargs['url']\n",
      "    delta = end_date - start_date\n",
      "    for i in range(delta.days + 1):\n",
      "        url = format_viirs_url(kmz_url,(start_date + datetime.timedelta(days=i)).strftime(\"%Y%m%d\"))\n",
      "        filename = kmz_dir + os.path.basename(url)\n",
      "        download_file(url, filename)\n"
     ],
     "language": "python",
     "metadata": {},
     "outputs": [],
     "prompt_number": 19
    },
    {
     "cell_type": "markdown",
     "metadata": {},
     "source": [
      "<h1>Download Prerun V2.1 (CLASS) corrected KMZ</h1>"
     ]
    },
    {
     "cell_type": "code",
     "collapsed": false,
     "input": [
      "kmz_dir = \"capture/v21/kmz/\"\n",
      "init_capture(kmz_dir)\n",
      "\n",
      "kml_dir = \"capture/v21/kml/\"\n",
      "init_capture(kml_dir)\n",
      "\n",
      "geojson_dir = \"capture/v21/geojson/\"\n",
      "init_capture(geojson_dir)\n",
      "\n",
      "kmz_url = 'http://mapserver.ngdc.noaa.gov/viirs/nightfire_v21/corrected/VNF_npp_d%s_v21_atm.kmz'\n",
      "\n",
      "start_date = datetime.date(2014, 7, 30)\n",
      "end_date = datetime.date(2015,4,1)\n",
      "\n",
      "delta = end_date - start_date\n",
      "\n",
      "for i in range(delta.days + 1):\n",
      "    url = format_viirs_url(kmz_url,(start_date + datetime.timedelta(days=i)).strftime(\"%Y%m%d\"))\n",
      "    filename = kmz_dir + os.path.basename(url)\n",
      "    download_file(url, filename)\n",
      "\n",
      "command = 'ren %s\"*.kmz\" \"#1.zip\"' % kmz_dir\n",
      "!$command\n",
      "\n",
      "command = \"for file in %s*.zip; do unzip $file *.kml -d %s; done\" % (kmz_dir, kml_dir)\n",
      "!$command\n",
      "\n",
      "command = \"for file in %s*.kml; do ogr2ogr -f GeoJSON %s`basename $file`.json $file; done\" % (kml_dir,geojson_dir)\n",
      "!$command\n",
      "\n",
      "data = []\n",
      "for filename in glob.glob('%s*'%geojson_dir):\n",
      "    data += extract_float_data(filename)\n",
      "print len(data)/4\n",
      "dest = 'createlab-viirs.bin'\n",
      "array.array('f', data).tofile(open(dest, 'w'))\n"
     ],
     "language": "python",
     "metadata": {},
     "outputs": [],
     "prompt_number": 8
    },
    {
     "cell_type": "markdown",
     "metadata": {},
     "source": [
      "<h1>Download Prerun V2.1 (CLASS) non-corrected KMZ</h1>"
     ]
    },
    {
     "cell_type": "code",
     "collapsed": false,
     "input": [
      "kmz_dir = \"capture/nightfire_v21/non_corrected/kmz/\"\n",
      "kml_dir = \"capture/nightfire_v21/non_corrected/kml/\"\n",
      "geojson_dir = \"capture/nightfire_v21/non_corrected/geojson/\"\n",
      "\n",
      "init_capture(kmz_dir, kml_dir, geojson_dir)"
     ],
     "language": "python",
     "metadata": {},
     "outputs": [],
     "prompt_number": 20
    },
    {
     "cell_type": "code",
     "collapsed": false,
     "input": [
      "kmz_url = 'http://mapserver.ngdc.noaa.gov/viirs/nightfire_v21/non_corrected/VNF_npp_d%s_noaa_v21.kmz'\n",
      "start_date = datetime.date(2014, 3, 14)\n",
      "end_date = datetime.date(2015,4,3)\n",
      "\n",
      "download_files(url=kmz_url, start_date=start_date, end_date=end_date)"
     ],
     "language": "python",
     "metadata": {},
     "outputs": [
      {
       "output_type": "stream",
       "stream": "stdout",
       "text": [
        "Failed to download http://mapserver.ngdc.noaa.gov/viirs/nightfire_v21/non_corrected/VNF_npp_d20140318_noaa_v21.kmz\n",
        "Failed to download http://mapserver.ngdc.noaa.gov/viirs/nightfire_v21/non_corrected/VNF_npp_d20140320_noaa_v21.kmz"
       ]
      },
      {
       "output_type": "stream",
       "stream": "stdout",
       "text": [
        "\n",
        "Failed to download http://mapserver.ngdc.noaa.gov/viirs/nightfire_v21/non_corrected/VNF_npp_d20140321_noaa_v21.kmz"
       ]
      },
      {
       "output_type": "stream",
       "stream": "stdout",
       "text": [
        "\n",
        "Failed to download http://mapserver.ngdc.noaa.gov/viirs/nightfire_v21/non_corrected/VNF_npp_d20140322_noaa_v21.kmz"
       ]
      },
      {
       "output_type": "stream",
       "stream": "stdout",
       "text": [
        "\n",
        "Failed to download http://mapserver.ngdc.noaa.gov/viirs/nightfire_v21/non_corrected/VNF_npp_d20140326_noaa_v21.kmz"
       ]
      },
      {
       "output_type": "stream",
       "stream": "stdout",
       "text": [
        "\n",
        "Failed to download http://mapserver.ngdc.noaa.gov/viirs/nightfire_v21/non_corrected/VNF_npp_d20140327_noaa_v21.kmz"
       ]
      },
      {
       "output_type": "stream",
       "stream": "stdout",
       "text": [
        "\n",
        "Failed to download http://mapserver.ngdc.noaa.gov/viirs/nightfire_v21/non_corrected/VNF_npp_d20140920_noaa_v21.kmz"
       ]
      },
      {
       "output_type": "stream",
       "stream": "stdout",
       "text": [
        "\n",
        "Failed to download http://mapserver.ngdc.noaa.gov/viirs/nightfire_v21/non_corrected/VNF_npp_d20141202_noaa_v21.kmz"
       ]
      },
      {
       "output_type": "stream",
       "stream": "stdout",
       "text": [
        "\n",
        "Failed to download http://mapserver.ngdc.noaa.gov/viirs/nightfire_v21/non_corrected/VNF_npp_d20141203_noaa_v21.kmz"
       ]
      },
      {
       "output_type": "stream",
       "stream": "stdout",
       "text": [
        "\n",
        "Failed to download http://mapserver.ngdc.noaa.gov/viirs/nightfire_v21/non_corrected/VNF_npp_d20141204_noaa_v21.kmz"
       ]
      },
      {
       "output_type": "stream",
       "stream": "stdout",
       "text": [
        "\n",
        "Failed to download http://mapserver.ngdc.noaa.gov/viirs/nightfire_v21/non_corrected/VNF_npp_d20141205_noaa_v21.kmz"
       ]
      },
      {
       "output_type": "stream",
       "stream": "stdout",
       "text": [
        "\n",
        "Failed to download http://mapserver.ngdc.noaa.gov/viirs/nightfire_v21/non_corrected/VNF_npp_d20141206_noaa_v21.kmz"
       ]
      },
      {
       "output_type": "stream",
       "stream": "stdout",
       "text": [
        "\n",
        "Failed to download http://mapserver.ngdc.noaa.gov/viirs/nightfire_v21/non_corrected/VNF_npp_d20141207_noaa_v21.kmz"
       ]
      },
      {
       "output_type": "stream",
       "stream": "stdout",
       "text": [
        "\n",
        "Failed to download http://mapserver.ngdc.noaa.gov/viirs/nightfire_v21/non_corrected/VNF_npp_d20141208_noaa_v21.kmz"
       ]
      },
      {
       "output_type": "stream",
       "stream": "stdout",
       "text": [
        "\n",
        "Failed to download http://mapserver.ngdc.noaa.gov/viirs/nightfire_v21/non_corrected/VNF_npp_d20141209_noaa_v21.kmz"
       ]
      },
      {
       "output_type": "stream",
       "stream": "stdout",
       "text": [
        "\n",
        "Failed to download http://mapserver.ngdc.noaa.gov/viirs/nightfire_v21/non_corrected/VNF_npp_d20141210_noaa_v21.kmz"
       ]
      },
      {
       "output_type": "stream",
       "stream": "stdout",
       "text": [
        "\n",
        "Failed to download http://mapserver.ngdc.noaa.gov/viirs/nightfire_v21/non_corrected/VNF_npp_d20141211_noaa_v21.kmz"
       ]
      },
      {
       "output_type": "stream",
       "stream": "stdout",
       "text": [
        "\n",
        "Failed to download http://mapserver.ngdc.noaa.gov/viirs/nightfire_v21/non_corrected/VNF_npp_d20141212_noaa_v21.kmz"
       ]
      },
      {
       "output_type": "stream",
       "stream": "stdout",
       "text": [
        "\n",
        "Failed to download http://mapserver.ngdc.noaa.gov/viirs/nightfire_v21/non_corrected/VNF_npp_d20141213_noaa_v21.kmz"
       ]
      },
      {
       "output_type": "stream",
       "stream": "stdout",
       "text": [
        "\n",
        "Failed to download http://mapserver.ngdc.noaa.gov/viirs/nightfire_v21/non_corrected/VNF_npp_d20141214_noaa_v21.kmz"
       ]
      },
      {
       "output_type": "stream",
       "stream": "stdout",
       "text": [
        "\n",
        "Failed to download http://mapserver.ngdc.noaa.gov/viirs/nightfire_v21/non_corrected/VNF_npp_d20141215_noaa_v21.kmz"
       ]
      },
      {
       "output_type": "stream",
       "stream": "stdout",
       "text": [
        "\n",
        "Failed to download http://mapserver.ngdc.noaa.gov/viirs/nightfire_v21/non_corrected/VNF_npp_d20141216_noaa_v21.kmz"
       ]
      },
      {
       "output_type": "stream",
       "stream": "stdout",
       "text": [
        "\n",
        "Failed to download http://mapserver.ngdc.noaa.gov/viirs/nightfire_v21/non_corrected/VNF_npp_d20141217_noaa_v21.kmz"
       ]
      },
      {
       "output_type": "stream",
       "stream": "stdout",
       "text": [
        "\n",
        "Failed to download http://mapserver.ngdc.noaa.gov/viirs/nightfire_v21/non_corrected/VNF_npp_d20141218_noaa_v21.kmz"
       ]
      },
      {
       "output_type": "stream",
       "stream": "stdout",
       "text": [
        "\n",
        "Failed to download http://mapserver.ngdc.noaa.gov/viirs/nightfire_v21/non_corrected/VNF_npp_d20141219_noaa_v21.kmz"
       ]
      },
      {
       "output_type": "stream",
       "stream": "stdout",
       "text": [
        "\n",
        "Failed to download http://mapserver.ngdc.noaa.gov/viirs/nightfire_v21/non_corrected/VNF_npp_d20141220_noaa_v21.kmz"
       ]
      },
      {
       "output_type": "stream",
       "stream": "stdout",
       "text": [
        "\n",
        "Failed to download http://mapserver.ngdc.noaa.gov/viirs/nightfire_v21/non_corrected/VNF_npp_d20141221_noaa_v21.kmz"
       ]
      },
      {
       "output_type": "stream",
       "stream": "stdout",
       "text": [
        "\n",
        "Failed to download http://mapserver.ngdc.noaa.gov/viirs/nightfire_v21/non_corrected/VNF_npp_d20141222_noaa_v21.kmz"
       ]
      },
      {
       "output_type": "stream",
       "stream": "stdout",
       "text": [
        "\n",
        "Failed to download http://mapserver.ngdc.noaa.gov/viirs/nightfire_v21/non_corrected/VNF_npp_d20141223_noaa_v21.kmz"
       ]
      },
      {
       "output_type": "stream",
       "stream": "stdout",
       "text": [
        "\n",
        "Failed to download http://mapserver.ngdc.noaa.gov/viirs/nightfire_v21/non_corrected/VNF_npp_d20141224_noaa_v21.kmz"
       ]
      },
      {
       "output_type": "stream",
       "stream": "stdout",
       "text": [
        "\n",
        "Failed to download http://mapserver.ngdc.noaa.gov/viirs/nightfire_v21/non_corrected/VNF_npp_d20141225_noaa_v21.kmz"
       ]
      },
      {
       "output_type": "stream",
       "stream": "stdout",
       "text": [
        "\n",
        "Failed to download http://mapserver.ngdc.noaa.gov/viirs/nightfire_v21/non_corrected/VNF_npp_d20141226_noaa_v21.kmz"
       ]
      },
      {
       "output_type": "stream",
       "stream": "stdout",
       "text": [
        "\n",
        "Failed to download http://mapserver.ngdc.noaa.gov/viirs/nightfire_v21/non_corrected/VNF_npp_d20141227_noaa_v21.kmz"
       ]
      },
      {
       "output_type": "stream",
       "stream": "stdout",
       "text": [
        "\n",
        "Failed to download http://mapserver.ngdc.noaa.gov/viirs/nightfire_v21/non_corrected/VNF_npp_d20141228_noaa_v21.kmz"
       ]
      },
      {
       "output_type": "stream",
       "stream": "stdout",
       "text": [
        "\n",
        "Failed to download http://mapserver.ngdc.noaa.gov/viirs/nightfire_v21/non_corrected/VNF_npp_d20141229_noaa_v21.kmz"
       ]
      },
      {
       "output_type": "stream",
       "stream": "stdout",
       "text": [
        "\n",
        "Failed to download http://mapserver.ngdc.noaa.gov/viirs/nightfire_v21/non_corrected/VNF_npp_d20141230_noaa_v21.kmz"
       ]
      },
      {
       "output_type": "stream",
       "stream": "stdout",
       "text": [
        "\n",
        "Failed to download http://mapserver.ngdc.noaa.gov/viirs/nightfire_v21/non_corrected/VNF_npp_d20141231_noaa_v21.kmz"
       ]
      },
      {
       "output_type": "stream",
       "stream": "stdout",
       "text": [
        "\n",
        "Failed to download http://mapserver.ngdc.noaa.gov/viirs/nightfire_v21/non_corrected/VNF_npp_d20150101_noaa_v21.kmz"
       ]
      },
      {
       "output_type": "stream",
       "stream": "stdout",
       "text": [
        "\n",
        "Failed to download http://mapserver.ngdc.noaa.gov/viirs/nightfire_v21/non_corrected/VNF_npp_d20150102_noaa_v21.kmz"
       ]
      },
      {
       "output_type": "stream",
       "stream": "stdout",
       "text": [
        "\n",
        "Failed to download http://mapserver.ngdc.noaa.gov/viirs/nightfire_v21/non_corrected/VNF_npp_d20150103_noaa_v21.kmz"
       ]
      },
      {
       "output_type": "stream",
       "stream": "stdout",
       "text": [
        "\n",
        "Failed to download http://mapserver.ngdc.noaa.gov/viirs/nightfire_v21/non_corrected/VNF_npp_d20150104_noaa_v21.kmz"
       ]
      },
      {
       "output_type": "stream",
       "stream": "stdout",
       "text": [
        "\n",
        "Failed to download http://mapserver.ngdc.noaa.gov/viirs/nightfire_v21/non_corrected/VNF_npp_d20150105_noaa_v21.kmz"
       ]
      },
      {
       "output_type": "stream",
       "stream": "stdout",
       "text": [
        "\n",
        "Failed to download http://mapserver.ngdc.noaa.gov/viirs/nightfire_v21/non_corrected/VNF_npp_d20150106_noaa_v21.kmz"
       ]
      },
      {
       "output_type": "stream",
       "stream": "stdout",
       "text": [
        "\n",
        "Failed to download http://mapserver.ngdc.noaa.gov/viirs/nightfire_v21/non_corrected/VNF_npp_d20150107_noaa_v21.kmz"
       ]
      },
      {
       "output_type": "stream",
       "stream": "stdout",
       "text": [
        "\n",
        "Failed to download http://mapserver.ngdc.noaa.gov/viirs/nightfire_v21/non_corrected/VNF_npp_d20150108_noaa_v21.kmz"
       ]
      },
      {
       "output_type": "stream",
       "stream": "stdout",
       "text": [
        "\n",
        "Failed to download http://mapserver.ngdc.noaa.gov/viirs/nightfire_v21/non_corrected/VNF_npp_d20150109_noaa_v21.kmz"
       ]
      },
      {
       "output_type": "stream",
       "stream": "stdout",
       "text": [
        "\n",
        "Failed to download http://mapserver.ngdc.noaa.gov/viirs/nightfire_v21/non_corrected/VNF_npp_d20150110_noaa_v21.kmz"
       ]
      },
      {
       "output_type": "stream",
       "stream": "stdout",
       "text": [
        "\n",
        "Failed to download http://mapserver.ngdc.noaa.gov/viirs/nightfire_v21/non_corrected/VNF_npp_d20150111_noaa_v21.kmz"
       ]
      },
      {
       "output_type": "stream",
       "stream": "stdout",
       "text": [
        "\n",
        "Failed to download http://mapserver.ngdc.noaa.gov/viirs/nightfire_v21/non_corrected/VNF_npp_d20150112_noaa_v21.kmz"
       ]
      },
      {
       "output_type": "stream",
       "stream": "stdout",
       "text": [
        "\n",
        "Failed to download http://mapserver.ngdc.noaa.gov/viirs/nightfire_v21/non_corrected/VNF_npp_d20150113_noaa_v21.kmz"
       ]
      },
      {
       "output_type": "stream",
       "stream": "stdout",
       "text": [
        "\n",
        "Failed to download http://mapserver.ngdc.noaa.gov/viirs/nightfire_v21/non_corrected/VNF_npp_d20150114_noaa_v21.kmz"
       ]
      },
      {
       "output_type": "stream",
       "stream": "stdout",
       "text": [
        "\n",
        "Failed to download http://mapserver.ngdc.noaa.gov/viirs/nightfire_v21/non_corrected/VNF_npp_d20150115_noaa_v21.kmz"
       ]
      },
      {
       "output_type": "stream",
       "stream": "stdout",
       "text": [
        "\n",
        "Failed to download http://mapserver.ngdc.noaa.gov/viirs/nightfire_v21/non_corrected/VNF_npp_d20150116_noaa_v21.kmz"
       ]
      },
      {
       "output_type": "stream",
       "stream": "stdout",
       "text": [
        "\n",
        "Failed to download http://mapserver.ngdc.noaa.gov/viirs/nightfire_v21/non_corrected/VNF_npp_d20150117_noaa_v21.kmz"
       ]
      },
      {
       "output_type": "stream",
       "stream": "stdout",
       "text": [
        "\n",
        "Failed to download http://mapserver.ngdc.noaa.gov/viirs/nightfire_v21/non_corrected/VNF_npp_d20150118_noaa_v21.kmz"
       ]
      },
      {
       "output_type": "stream",
       "stream": "stdout",
       "text": [
        "\n",
        "Failed to download http://mapserver.ngdc.noaa.gov/viirs/nightfire_v21/non_corrected/VNF_npp_d20150119_noaa_v21.kmz"
       ]
      },
      {
       "output_type": "stream",
       "stream": "stdout",
       "text": [
        "\n",
        "Failed to download http://mapserver.ngdc.noaa.gov/viirs/nightfire_v21/non_corrected/VNF_npp_d20150120_noaa_v21.kmz"
       ]
      },
      {
       "output_type": "stream",
       "stream": "stdout",
       "text": [
        "\n",
        "Failed to download http://mapserver.ngdc.noaa.gov/viirs/nightfire_v21/non_corrected/VNF_npp_d20150121_noaa_v21.kmz"
       ]
      },
      {
       "output_type": "stream",
       "stream": "stdout",
       "text": [
        "\n",
        "Failed to download http://mapserver.ngdc.noaa.gov/viirs/nightfire_v21/non_corrected/VNF_npp_d20150122_noaa_v21.kmz"
       ]
      },
      {
       "output_type": "stream",
       "stream": "stdout",
       "text": [
        "\n",
        "Failed to download http://mapserver.ngdc.noaa.gov/viirs/nightfire_v21/non_corrected/VNF_npp_d20150123_noaa_v21.kmz"
       ]
      },
      {
       "output_type": "stream",
       "stream": "stdout",
       "text": [
        "\n",
        "Failed to download http://mapserver.ngdc.noaa.gov/viirs/nightfire_v21/non_corrected/VNF_npp_d20150124_noaa_v21.kmz"
       ]
      },
      {
       "output_type": "stream",
       "stream": "stdout",
       "text": [
        "\n",
        "Failed to download http://mapserver.ngdc.noaa.gov/viirs/nightfire_v21/non_corrected/VNF_npp_d20150125_noaa_v21.kmz"
       ]
      },
      {
       "output_type": "stream",
       "stream": "stdout",
       "text": [
        "\n",
        "Failed to download http://mapserver.ngdc.noaa.gov/viirs/nightfire_v21/non_corrected/VNF_npp_d20150126_noaa_v21.kmz"
       ]
      },
      {
       "output_type": "stream",
       "stream": "stdout",
       "text": [
        "\n",
        "Failed to download http://mapserver.ngdc.noaa.gov/viirs/nightfire_v21/non_corrected/VNF_npp_d20150127_noaa_v21.kmz"
       ]
      },
      {
       "output_type": "stream",
       "stream": "stdout",
       "text": [
        "\n",
        "Failed to download http://mapserver.ngdc.noaa.gov/viirs/nightfire_v21/non_corrected/VNF_npp_d20150128_noaa_v21.kmz"
       ]
      },
      {
       "output_type": "stream",
       "stream": "stdout",
       "text": [
        "\n",
        "Failed to download http://mapserver.ngdc.noaa.gov/viirs/nightfire_v21/non_corrected/VNF_npp_d20150129_noaa_v21.kmz"
       ]
      },
      {
       "output_type": "stream",
       "stream": "stdout",
       "text": [
        "\n",
        "Failed to download http://mapserver.ngdc.noaa.gov/viirs/nightfire_v21/non_corrected/VNF_npp_d20150130_noaa_v21.kmz"
       ]
      },
      {
       "output_type": "stream",
       "stream": "stdout",
       "text": [
        "\n",
        "Failed to download http://mapserver.ngdc.noaa.gov/viirs/nightfire_v21/non_corrected/VNF_npp_d20150131_noaa_v21.kmz"
       ]
      },
      {
       "output_type": "stream",
       "stream": "stdout",
       "text": [
        "\n",
        "Failed to download http://mapserver.ngdc.noaa.gov/viirs/nightfire_v21/non_corrected/VNF_npp_d20150201_noaa_v21.kmz"
       ]
      },
      {
       "output_type": "stream",
       "stream": "stdout",
       "text": [
        "\n",
        "Failed to download http://mapserver.ngdc.noaa.gov/viirs/nightfire_v21/non_corrected/VNF_npp_d20150202_noaa_v21.kmz"
       ]
      },
      {
       "output_type": "stream",
       "stream": "stdout",
       "text": [
        "\n",
        "Failed to download http://mapserver.ngdc.noaa.gov/viirs/nightfire_v21/non_corrected/VNF_npp_d20150203_noaa_v21.kmz"
       ]
      },
      {
       "output_type": "stream",
       "stream": "stdout",
       "text": [
        "\n",
        "Failed to download http://mapserver.ngdc.noaa.gov/viirs/nightfire_v21/non_corrected/VNF_npp_d20150204_noaa_v21.kmz"
       ]
      },
      {
       "output_type": "stream",
       "stream": "stdout",
       "text": [
        "\n",
        "Failed to download http://mapserver.ngdc.noaa.gov/viirs/nightfire_v21/non_corrected/VNF_npp_d20150205_noaa_v21.kmz"
       ]
      },
      {
       "output_type": "stream",
       "stream": "stdout",
       "text": [
        "\n",
        "Failed to download http://mapserver.ngdc.noaa.gov/viirs/nightfire_v21/non_corrected/VNF_npp_d20150206_noaa_v21.kmz"
       ]
      },
      {
       "output_type": "stream",
       "stream": "stdout",
       "text": [
        "\n",
        "Failed to download http://mapserver.ngdc.noaa.gov/viirs/nightfire_v21/non_corrected/VNF_npp_d20150207_noaa_v21.kmz"
       ]
      },
      {
       "output_type": "stream",
       "stream": "stdout",
       "text": [
        "\n",
        "Failed to download http://mapserver.ngdc.noaa.gov/viirs/nightfire_v21/non_corrected/VNF_npp_d20150208_noaa_v21.kmz"
       ]
      },
      {
       "output_type": "stream",
       "stream": "stdout",
       "text": [
        "\n",
        "Failed to download http://mapserver.ngdc.noaa.gov/viirs/nightfire_v21/non_corrected/VNF_npp_d20150209_noaa_v21.kmz"
       ]
      },
      {
       "output_type": "stream",
       "stream": "stdout",
       "text": [
        "\n",
        "Failed to download http://mapserver.ngdc.noaa.gov/viirs/nightfire_v21/non_corrected/VNF_npp_d20150210_noaa_v21.kmz"
       ]
      },
      {
       "output_type": "stream",
       "stream": "stdout",
       "text": [
        "\n",
        "Failed to download http://mapserver.ngdc.noaa.gov/viirs/nightfire_v21/non_corrected/VNF_npp_d20150211_noaa_v21.kmz"
       ]
      },
      {
       "output_type": "stream",
       "stream": "stdout",
       "text": [
        "\n",
        "Failed to download http://mapserver.ngdc.noaa.gov/viirs/nightfire_v21/non_corrected/VNF_npp_d20150212_noaa_v21.kmz"
       ]
      },
      {
       "output_type": "stream",
       "stream": "stdout",
       "text": [
        "\n",
        "Failed to download http://mapserver.ngdc.noaa.gov/viirs/nightfire_v21/non_corrected/VNF_npp_d20150213_noaa_v21.kmz"
       ]
      },
      {
       "output_type": "stream",
       "stream": "stdout",
       "text": [
        "\n",
        "Failed to download http://mapserver.ngdc.noaa.gov/viirs/nightfire_v21/non_corrected/VNF_npp_d20150214_noaa_v21.kmz"
       ]
      },
      {
       "output_type": "stream",
       "stream": "stdout",
       "text": [
        "\n",
        "Failed to download http://mapserver.ngdc.noaa.gov/viirs/nightfire_v21/non_corrected/VNF_npp_d20150215_noaa_v21.kmz"
       ]
      },
      {
       "output_type": "stream",
       "stream": "stdout",
       "text": [
        "\n",
        "Failed to download http://mapserver.ngdc.noaa.gov/viirs/nightfire_v21/non_corrected/VNF_npp_d20150216_noaa_v21.kmz"
       ]
      },
      {
       "output_type": "stream",
       "stream": "stdout",
       "text": [
        "\n",
        "Failed to download http://mapserver.ngdc.noaa.gov/viirs/nightfire_v21/non_corrected/VNF_npp_d20150217_noaa_v21.kmz"
       ]
      },
      {
       "output_type": "stream",
       "stream": "stdout",
       "text": [
        "\n",
        "Failed to download http://mapserver.ngdc.noaa.gov/viirs/nightfire_v21/non_corrected/VNF_npp_d20150218_noaa_v21.kmz"
       ]
      },
      {
       "output_type": "stream",
       "stream": "stdout",
       "text": [
        "\n",
        "Failed to download http://mapserver.ngdc.noaa.gov/viirs/nightfire_v21/non_corrected/VNF_npp_d20150219_noaa_v21.kmz"
       ]
      },
      {
       "output_type": "stream",
       "stream": "stdout",
       "text": [
        "\n",
        "Failed to download http://mapserver.ngdc.noaa.gov/viirs/nightfire_v21/non_corrected/VNF_npp_d20150220_noaa_v21.kmz"
       ]
      },
      {
       "output_type": "stream",
       "stream": "stdout",
       "text": [
        "\n",
        "Failed to download http://mapserver.ngdc.noaa.gov/viirs/nightfire_v21/non_corrected/VNF_npp_d20150221_noaa_v21.kmz"
       ]
      },
      {
       "output_type": "stream",
       "stream": "stdout",
       "text": [
        "\n",
        "Failed to download http://mapserver.ngdc.noaa.gov/viirs/nightfire_v21/non_corrected/VNF_npp_d20150222_noaa_v21.kmz"
       ]
      },
      {
       "output_type": "stream",
       "stream": "stdout",
       "text": [
        "\n",
        "Failed to download http://mapserver.ngdc.noaa.gov/viirs/nightfire_v21/non_corrected/VNF_npp_d20150223_noaa_v21.kmz"
       ]
      },
      {
       "output_type": "stream",
       "stream": "stdout",
       "text": [
        "\n",
        "Failed to download http://mapserver.ngdc.noaa.gov/viirs/nightfire_v21/non_corrected/VNF_npp_d20150224_noaa_v21.kmz"
       ]
      },
      {
       "output_type": "stream",
       "stream": "stdout",
       "text": [
        "\n",
        "Failed to download http://mapserver.ngdc.noaa.gov/viirs/nightfire_v21/non_corrected/VNF_npp_d20150225_noaa_v21.kmz"
       ]
      },
      {
       "output_type": "stream",
       "stream": "stdout",
       "text": [
        "\n",
        "Failed to download http://mapserver.ngdc.noaa.gov/viirs/nightfire_v21/non_corrected/VNF_npp_d20150226_noaa_v21.kmz"
       ]
      },
      {
       "output_type": "stream",
       "stream": "stdout",
       "text": [
        "\n",
        "Failed to download http://mapserver.ngdc.noaa.gov/viirs/nightfire_v21/non_corrected/VNF_npp_d20150227_noaa_v21.kmz"
       ]
      },
      {
       "output_type": "stream",
       "stream": "stdout",
       "text": [
        "\n",
        "Failed to download http://mapserver.ngdc.noaa.gov/viirs/nightfire_v21/non_corrected/VNF_npp_d20150228_noaa_v21.kmz"
       ]
      },
      {
       "output_type": "stream",
       "stream": "stdout",
       "text": [
        "\n",
        "Failed to download http://mapserver.ngdc.noaa.gov/viirs/nightfire_v21/non_corrected/VNF_npp_d20150301_noaa_v21.kmz"
       ]
      },
      {
       "output_type": "stream",
       "stream": "stdout",
       "text": [
        "\n",
        "Failed to download http://mapserver.ngdc.noaa.gov/viirs/nightfire_v21/non_corrected/VNF_npp_d20150302_noaa_v21.kmz"
       ]
      },
      {
       "output_type": "stream",
       "stream": "stdout",
       "text": [
        "\n",
        "Failed to download http://mapserver.ngdc.noaa.gov/viirs/nightfire_v21/non_corrected/VNF_npp_d20150303_noaa_v21.kmz"
       ]
      },
      {
       "output_type": "stream",
       "stream": "stdout",
       "text": [
        "\n",
        "Failed to download http://mapserver.ngdc.noaa.gov/viirs/nightfire_v21/non_corrected/VNF_npp_d20150304_noaa_v21.kmz"
       ]
      },
      {
       "output_type": "stream",
       "stream": "stdout",
       "text": [
        "\n",
        "Failed to download http://mapserver.ngdc.noaa.gov/viirs/nightfire_v21/non_corrected/VNF_npp_d20150305_noaa_v21.kmz"
       ]
      },
      {
       "output_type": "stream",
       "stream": "stdout",
       "text": [
        "\n",
        "Failed to download http://mapserver.ngdc.noaa.gov/viirs/nightfire_v21/non_corrected/VNF_npp_d20150306_noaa_v21.kmz"
       ]
      },
      {
       "output_type": "stream",
       "stream": "stdout",
       "text": [
        "\n",
        "Failed to download http://mapserver.ngdc.noaa.gov/viirs/nightfire_v21/non_corrected/VNF_npp_d20150307_noaa_v21.kmz"
       ]
      },
      {
       "output_type": "stream",
       "stream": "stdout",
       "text": [
        "\n",
        "Failed to download http://mapserver.ngdc.noaa.gov/viirs/nightfire_v21/non_corrected/VNF_npp_d20150308_noaa_v21.kmz"
       ]
      },
      {
       "output_type": "stream",
       "stream": "stdout",
       "text": [
        "\n",
        "Failed to download http://mapserver.ngdc.noaa.gov/viirs/nightfire_v21/non_corrected/VNF_npp_d20150309_noaa_v21.kmz"
       ]
      },
      {
       "output_type": "stream",
       "stream": "stdout",
       "text": [
        "\n",
        "Failed to download http://mapserver.ngdc.noaa.gov/viirs/nightfire_v21/non_corrected/VNF_npp_d20150310_noaa_v21.kmz"
       ]
      },
      {
       "output_type": "stream",
       "stream": "stdout",
       "text": [
        "\n",
        "Failed to download http://mapserver.ngdc.noaa.gov/viirs/nightfire_v21/non_corrected/VNF_npp_d20150311_noaa_v21.kmz"
       ]
      },
      {
       "output_type": "stream",
       "stream": "stdout",
       "text": [
        "\n",
        "Failed to download http://mapserver.ngdc.noaa.gov/viirs/nightfire_v21/non_corrected/VNF_npp_d20150312_noaa_v21.kmz"
       ]
      },
      {
       "output_type": "stream",
       "stream": "stdout",
       "text": [
        "\n",
        "Failed to download http://mapserver.ngdc.noaa.gov/viirs/nightfire_v21/non_corrected/VNF_npp_d20150313_noaa_v21.kmz"
       ]
      },
      {
       "output_type": "stream",
       "stream": "stdout",
       "text": [
        "\n",
        "Failed to download http://mapserver.ngdc.noaa.gov/viirs/nightfire_v21/non_corrected/VNF_npp_d20150314_noaa_v21.kmz"
       ]
      },
      {
       "output_type": "stream",
       "stream": "stdout",
       "text": [
        "\n",
        "Failed to download http://mapserver.ngdc.noaa.gov/viirs/nightfire_v21/non_corrected/VNF_npp_d20150315_noaa_v21.kmz"
       ]
      },
      {
       "output_type": "stream",
       "stream": "stdout",
       "text": [
        "\n",
        "Failed to download http://mapserver.ngdc.noaa.gov/viirs/nightfire_v21/non_corrected/VNF_npp_d20150316_noaa_v21.kmz"
       ]
      },
      {
       "output_type": "stream",
       "stream": "stdout",
       "text": [
        "\n",
        "Failed to download http://mapserver.ngdc.noaa.gov/viirs/nightfire_v21/non_corrected/VNF_npp_d20150317_noaa_v21.kmz"
       ]
      },
      {
       "output_type": "stream",
       "stream": "stdout",
       "text": [
        "\n",
        "Failed to download http://mapserver.ngdc.noaa.gov/viirs/nightfire_v21/non_corrected/VNF_npp_d20150318_noaa_v21.kmz"
       ]
      },
      {
       "output_type": "stream",
       "stream": "stdout",
       "text": [
        "\n",
        "Failed to download http://mapserver.ngdc.noaa.gov/viirs/nightfire_v21/non_corrected/VNF_npp_d20150319_noaa_v21.kmz"
       ]
      },
      {
       "output_type": "stream",
       "stream": "stdout",
       "text": [
        "\n",
        "Failed to download http://mapserver.ngdc.noaa.gov/viirs/nightfire_v21/non_corrected/VNF_npp_d20150320_noaa_v21.kmz"
       ]
      },
      {
       "output_type": "stream",
       "stream": "stdout",
       "text": [
        "\n",
        "Failed to download http://mapserver.ngdc.noaa.gov/viirs/nightfire_v21/non_corrected/VNF_npp_d20150321_noaa_v21.kmz"
       ]
      },
      {
       "output_type": "stream",
       "stream": "stdout",
       "text": [
        "\n",
        "Failed to download http://mapserver.ngdc.noaa.gov/viirs/nightfire_v21/non_corrected/VNF_npp_d20150322_noaa_v21.kmz"
       ]
      },
      {
       "output_type": "stream",
       "stream": "stdout",
       "text": [
        "\n",
        "Failed to download http://mapserver.ngdc.noaa.gov/viirs/nightfire_v21/non_corrected/VNF_npp_d20150323_noaa_v21.kmz"
       ]
      },
      {
       "output_type": "stream",
       "stream": "stdout",
       "text": [
        "\n",
        "Failed to download http://mapserver.ngdc.noaa.gov/viirs/nightfire_v21/non_corrected/VNF_npp_d20150324_noaa_v21.kmz"
       ]
      },
      {
       "output_type": "stream",
       "stream": "stdout",
       "text": [
        "\n",
        "Failed to download http://mapserver.ngdc.noaa.gov/viirs/nightfire_v21/non_corrected/VNF_npp_d20150325_noaa_v21.kmz"
       ]
      },
      {
       "output_type": "stream",
       "stream": "stdout",
       "text": [
        "\n",
        "Failed to download http://mapserver.ngdc.noaa.gov/viirs/nightfire_v21/non_corrected/VNF_npp_d20150326_noaa_v21.kmz"
       ]
      },
      {
       "output_type": "stream",
       "stream": "stdout",
       "text": [
        "\n",
        "Failed to download http://mapserver.ngdc.noaa.gov/viirs/nightfire_v21/non_corrected/VNF_npp_d20150327_noaa_v21.kmz"
       ]
      },
      {
       "output_type": "stream",
       "stream": "stdout",
       "text": [
        "\n",
        "Failed to download http://mapserver.ngdc.noaa.gov/viirs/nightfire_v21/non_corrected/VNF_npp_d20150328_noaa_v21.kmz"
       ]
      },
      {
       "output_type": "stream",
       "stream": "stdout",
       "text": [
        "\n",
        "Failed to download http://mapserver.ngdc.noaa.gov/viirs/nightfire_v21/non_corrected/VNF_npp_d20150329_noaa_v21.kmz"
       ]
      },
      {
       "output_type": "stream",
       "stream": "stdout",
       "text": [
        "\n",
        "Failed to download http://mapserver.ngdc.noaa.gov/viirs/nightfire_v21/non_corrected/VNF_npp_d20150330_noaa_v21.kmz"
       ]
      },
      {
       "output_type": "stream",
       "stream": "stdout",
       "text": [
        "\n",
        "Failed to download http://mapserver.ngdc.noaa.gov/viirs/nightfire_v21/non_corrected/VNF_npp_d20150331_noaa_v21.kmz"
       ]
      },
      {
       "output_type": "stream",
       "stream": "stdout",
       "text": [
        "\n",
        "Failed to download http://mapserver.ngdc.noaa.gov/viirs/nightfire_v21/non_corrected/VNF_npp_d20150401_noaa_v21.kmz"
       ]
      },
      {
       "output_type": "stream",
       "stream": "stdout",
       "text": [
        "\n",
        "Failed to download http://mapserver.ngdc.noaa.gov/viirs/nightfire_v21/non_corrected/VNF_npp_d20150402_noaa_v21.kmz"
       ]
      },
      {
       "output_type": "stream",
       "stream": "stdout",
       "text": [
        "\n",
        "Failed to download http://mapserver.ngdc.noaa.gov/viirs/nightfire_v21/non_corrected/VNF_npp_d20150403_noaa_v21.kmz"
       ]
      },
      {
       "output_type": "stream",
       "stream": "stdout",
       "text": [
        "\n"
       ]
      }
     ],
     "prompt_number": 21
    },
    {
     "cell_type": "code",
     "collapsed": false,
     "input": [
      "\n",
      "\n",
      "\n",
      "command = 'ren %s\"*.kmz\" \"#1.zip\"' % kmz_dir\n",
      "!$command\n",
      "\n",
      "command = \"for file in %s*.zip; do unzip $file *.kml -d %s; done\" % (kmz_dir, kml_dir)\n",
      "!$command\n",
      "\n",
      "command = \"for file in %s*.kml; do ogr2ogr -f GeoJSON %s`basename $file`.json $file; done\" % (kml_dir,geojson_dir)\n",
      "!$command\n",
      "\n",
      "data = []\n",
      "for filename in glob.glob('%s*'%geojson_dir):\n",
      "    data += extract_float_data(filename)\n",
      "print len(data)/4\n",
      "dest = 'createlab-viirs-uncorrected.bin'\n",
      "array.array('f', data).tofile(open(dest, 'w'))\n"
     ],
     "language": "python",
     "metadata": {},
     "outputs": [
      {
       "output_type": "stream",
       "stream": "stdout",
       "text": [
        "Failed to download http://mapserver.ngdc.noaa.gov/viirs/nightfire_v21/non_corrected/VNF_npp_d20140318_noaa_v21.kmz\n",
        "Failed to download http://mapserver.ngdc.noaa.gov/viirs/nightfire_v21/non_corrected/VNF_npp_d20140320_noaa_v21.kmz"
       ]
      },
      {
       "output_type": "stream",
       "stream": "stdout",
       "text": [
        "\n",
        "Failed to download http://mapserver.ngdc.noaa.gov/viirs/nightfire_v21/non_corrected/VNF_npp_d20140321_noaa_v21.kmz"
       ]
      },
      {
       "output_type": "stream",
       "stream": "stdout",
       "text": [
        "\n",
        "Failed to download http://mapserver.ngdc.noaa.gov/viirs/nightfire_v21/non_corrected/VNF_npp_d20140322_noaa_v21.kmz"
       ]
      },
      {
       "output_type": "stream",
       "stream": "stdout",
       "text": [
        "\n",
        "Failed to download http://mapserver.ngdc.noaa.gov/viirs/nightfire_v21/non_corrected/VNF_npp_d20140326_noaa_v21.kmz"
       ]
      },
      {
       "output_type": "stream",
       "stream": "stdout",
       "text": [
        "\n",
        "Failed to download http://mapserver.ngdc.noaa.gov/viirs/nightfire_v21/non_corrected/VNF_npp_d20140327_noaa_v21.kmz"
       ]
      },
      {
       "output_type": "stream",
       "stream": "stdout",
       "text": [
        "\n",
        "Failed to download http://mapserver.ngdc.noaa.gov/viirs/nightfire_v21/non_corrected/VNF_npp_d20140522_noaa_v21.kmz"
       ]
      },
      {
       "output_type": "stream",
       "stream": "stdout",
       "text": [
        "\n",
        "Failed to download http://mapserver.ngdc.noaa.gov/viirs/nightfire_v21/non_corrected/VNF_npp_d20140523_noaa_v21.kmz\n",
        "Failed to download http://mapserver.ngdc.noaa.gov/viirs/nightfire_v21/non_corrected/VNF_npp_d20140524_noaa_v21.kmz\n",
        "Failed to download http://mapserver.ngdc.noaa.gov/viirs/nightfire_v21/non_corrected/VNF_npp_d20140525_noaa_v21.kmz\n",
        "Failed to download http://mapserver.ngdc.noaa.gov/viirs/nightfire_v21/non_corrected/VNF_npp_d20140526_noaa_v21.kmz\n",
        "Failed to download http://mapserver.ngdc.noaa.gov/viirs/nightfire_v21/non_corrected/VNF_npp_d20140527_noaa_v21.kmz\n",
        "Failed to download http://mapserver.ngdc.noaa.gov/viirs/nightfire_v21/non_corrected/VNF_npp_d20140528_noaa_v21.kmz\n",
        "Failed to download http://mapserver.ngdc.noaa.gov/viirs/nightfire_v21/non_corrected/VNF_npp_d20140529_noaa_v21.kmz\n",
        "Failed to download http://mapserver.ngdc.noaa.gov/viirs/nightfire_v21/non_corrected/VNF_npp_d20140530_noaa_v21.kmz\n",
        "Failed to download http://mapserver.ngdc.noaa.gov/viirs/nightfire_v21/non_corrected/VNF_npp_d20140531_noaa_v21.kmz\n",
        "Failed to download http://mapserver.ngdc.noaa.gov/viirs/nightfire_v21/non_corrected/VNF_npp_d20140601_noaa_v21.kmz\n",
        "Failed to download http://mapserver.ngdc.noaa.gov/viirs/nightfire_v21/non_corrected/VNF_npp_d20140602_noaa_v21.kmz\n",
        "Failed to download http://mapserver.ngdc.noaa.gov/viirs/nightfire_v21/non_corrected/VNF_npp_d20140603_noaa_v21.kmz\n",
        "Failed to download http://mapserver.ngdc.noaa.gov/viirs/nightfire_v21/non_corrected/VNF_npp_d20140604_noaa_v21.kmz\n",
        "Failed to download http://mapserver.ngdc.noaa.gov/viirs/nightfire_v21/non_corrected/VNF_npp_d20140605_noaa_v21.kmz\n",
        "Failed to download http://mapserver.ngdc.noaa.gov/viirs/nightfire_v21/non_corrected/VNF_npp_d20140606_noaa_v21.kmz\n",
        "Failed to download http://mapserver.ngdc.noaa.gov/viirs/nightfire_v21/non_corrected/VNF_npp_d20140607_noaa_v21.kmz\n",
        "Failed to download http://mapserver.ngdc.noaa.gov/viirs/nightfire_v21/non_corrected/VNF_npp_d20140608_noaa_v21.kmz\n",
        "Failed to download http://mapserver.ngdc.noaa.gov/viirs/nightfire_v21/non_corrected/VNF_npp_d20140609_noaa_v21.kmz\n",
        "Failed to download http://mapserver.ngdc.noaa.gov/viirs/nightfire_v21/non_corrected/VNF_npp_d20140610_noaa_v21.kmz\n",
        "Failed to download http://mapserver.ngdc.noaa.gov/viirs/nightfire_v21/non_corrected/VNF_npp_d20140611_noaa_v21.kmz\n",
        "Failed to download http://mapserver.ngdc.noaa.gov/viirs/nightfire_v21/non_corrected/VNF_npp_d20140612_noaa_v21.kmz\n",
        "Failed to download http://mapserver.ngdc.noaa.gov/viirs/nightfire_v21/non_corrected/VNF_npp_d20140613_noaa_v21.kmz\n",
        "Failed to download http://mapserver.ngdc.noaa.gov/viirs/nightfire_v21/non_corrected/VNF_npp_d20140614_noaa_v21.kmz\n",
        "Failed to download http://mapserver.ngdc.noaa.gov/viirs/nightfire_v21/non_corrected/VNF_npp_d20140615_noaa_v21.kmz\n",
        "Failed to download http://mapserver.ngdc.noaa.gov/viirs/nightfire_v21/non_corrected/VNF_npp_d20140616_noaa_v21.kmz\n",
        "Failed to download http://mapserver.ngdc.noaa.gov/viirs/nightfire_v21/non_corrected/VNF_npp_d20140617_noaa_v21.kmz\n",
        "Failed to download http://mapserver.ngdc.noaa.gov/viirs/nightfire_v21/non_corrected/VNF_npp_d20140618_noaa_v21.kmz\n",
        "Failed to download http://mapserver.ngdc.noaa.gov/viirs/nightfire_v21/non_corrected/VNF_npp_d20140619_noaa_v21.kmz\n",
        "Failed to download http://mapserver.ngdc.noaa.gov/viirs/nightfire_v21/non_corrected/VNF_npp_d20140620_noaa_v21.kmz\n",
        "Failed to download http://mapserver.ngdc.noaa.gov/viirs/nightfire_v21/non_corrected/VNF_npp_d20140621_noaa_v21.kmz\n",
        "Failed to download http://mapserver.ngdc.noaa.gov/viirs/nightfire_v21/non_corrected/VNF_npp_d20140622_noaa_v21.kmz\n",
        "Failed to download http://mapserver.ngdc.noaa.gov/viirs/nightfire_v21/non_corrected/VNF_npp_d20140623_noaa_v21.kmz\n",
        "Failed to download http://mapserver.ngdc.noaa.gov/viirs/nightfire_v21/non_corrected/VNF_npp_d20140624_noaa_v21.kmz\n",
        "Failed to download http://mapserver.ngdc.noaa.gov/viirs/nightfire_v21/non_corrected/VNF_npp_d20140625_noaa_v21.kmz\n",
        "Failed to download http://mapserver.ngdc.noaa.gov/viirs/nightfire_v21/non_corrected/VNF_npp_d20140626_noaa_v21.kmz\n",
        "Failed to download http://mapserver.ngdc.noaa.gov/viirs/nightfire_v21/non_corrected/VNF_npp_d20140627_noaa_v21.kmz\n",
        "Failed to download http://mapserver.ngdc.noaa.gov/viirs/nightfire_v21/non_corrected/VNF_npp_d20140628_noaa_v21.kmz\n",
        "Failed to download http://mapserver.ngdc.noaa.gov/viirs/nightfire_v21/non_corrected/VNF_npp_d20140629_noaa_v21.kmz\n",
        "Failed to download http://mapserver.ngdc.noaa.gov/viirs/nightfire_v21/non_corrected/VNF_npp_d20140630_noaa_v21.kmz\n",
        "Failed to download http://mapserver.ngdc.noaa.gov/viirs/nightfire_v21/non_corrected/VNF_npp_d20140701_noaa_v21.kmz\n",
        "Failed to download http://mapserver.ngdc.noaa.gov/viirs/nightfire_v21/non_corrected/VNF_npp_d20140702_noaa_v21.kmz\n",
        "Failed to download http://mapserver.ngdc.noaa.gov/viirs/nightfire_v21/non_corrected/VNF_npp_d20140703_noaa_v21.kmz\n",
        "Failed to download http://mapserver.ngdc.noaa.gov/viirs/nightfire_v21/non_corrected/VNF_npp_d20140704_noaa_v21.kmz\n",
        "Failed to download http://mapserver.ngdc.noaa.gov/viirs/nightfire_v21/non_corrected/VNF_npp_d20140705_noaa_v21.kmz\n",
        "Failed to download http://mapserver.ngdc.noaa.gov/viirs/nightfire_v21/non_corrected/VNF_npp_d20140706_noaa_v21.kmz\n",
        "Failed to download http://mapserver.ngdc.noaa.gov/viirs/nightfire_v21/non_corrected/VNF_npp_d20140707_noaa_v21.kmz\n",
        "Failed to download http://mapserver.ngdc.noaa.gov/viirs/nightfire_v21/non_corrected/VNF_npp_d20140708_noaa_v21.kmz\n",
        "Failed to download http://mapserver.ngdc.noaa.gov/viirs/nightfire_v21/non_corrected/VNF_npp_d20140709_noaa_v21.kmz\n",
        "Failed to download http://mapserver.ngdc.noaa.gov/viirs/nightfire_v21/non_corrected/VNF_npp_d20140710_noaa_v21.kmz\n",
        "Failed to download http://mapserver.ngdc.noaa.gov/viirs/nightfire_v21/non_corrected/VNF_npp_d20140711_noaa_v21.kmz\n",
        "Failed to download http://mapserver.ngdc.noaa.gov/viirs/nightfire_v21/non_corrected/VNF_npp_d20140712_noaa_v21.kmz\n",
        "Failed to download http://mapserver.ngdc.noaa.gov/viirs/nightfire_v21/non_corrected/VNF_npp_d20140713_noaa_v21.kmz\n",
        "Failed to download http://mapserver.ngdc.noaa.gov/viirs/nightfire_v21/non_corrected/VNF_npp_d20140714_noaa_v21.kmz\n",
        "Failed to download http://mapserver.ngdc.noaa.gov/viirs/nightfire_v21/non_corrected/VNF_npp_d20140715_noaa_v21.kmz\n",
        "Failed to download http://mapserver.ngdc.noaa.gov/viirs/nightfire_v21/non_corrected/VNF_npp_d20140716_noaa_v21.kmz\n",
        "Failed to download http://mapserver.ngdc.noaa.gov/viirs/nightfire_v21/non_corrected/VNF_npp_d20140717_noaa_v21.kmz\n",
        "Failed to download http://mapserver.ngdc.noaa.gov/viirs/nightfire_v21/non_corrected/VNF_npp_d20140718_noaa_v21.kmz\n",
        "Failed to download http://mapserver.ngdc.noaa.gov/viirs/nightfire_v21/non_corrected/VNF_npp_d20140719_noaa_v21.kmz\n",
        "Failed to download http://mapserver.ngdc.noaa.gov/viirs/nightfire_v21/non_corrected/VNF_npp_d20140720_noaa_v21.kmz\n",
        "Failed to download http://mapserver.ngdc.noaa.gov/viirs/nightfire_v21/non_corrected/VNF_npp_d20140721_noaa_v21.kmz\n",
        "Failed to download http://mapserver.ngdc.noaa.gov/viirs/nightfire_v21/non_corrected/VNF_npp_d20140722_noaa_v21.kmz\n",
        "Failed to download http://mapserver.ngdc.noaa.gov/viirs/nightfire_v21/non_corrected/VNF_npp_d20140723_noaa_v21.kmz\n",
        "Failed to download http://mapserver.ngdc.noaa.gov/viirs/nightfire_v21/non_corrected/VNF_npp_d20140724_noaa_v21.kmz\n",
        "Failed to download http://mapserver.ngdc.noaa.gov/viirs/nightfire_v21/non_corrected/VNF_npp_d20140725_noaa_v21.kmz\n",
        "Failed to download http://mapserver.ngdc.noaa.gov/viirs/nightfire_v21/non_corrected/VNF_npp_d20140726_noaa_v21.kmz\n",
        "Failed to download http://mapserver.ngdc.noaa.gov/viirs/nightfire_v21/non_corrected/VNF_npp_d20140727_noaa_v21.kmz\n",
        "Failed to download http://mapserver.ngdc.noaa.gov/viirs/nightfire_v21/non_corrected/VNF_npp_d20140728_noaa_v21.kmz\n",
        "Failed to download http://mapserver.ngdc.noaa.gov/viirs/nightfire_v21/non_corrected/VNF_npp_d20140729_noaa_v21.kmz\n",
        "Failed to download http://mapserver.ngdc.noaa.gov/viirs/nightfire_v21/non_corrected/VNF_npp_d20140730_noaa_v21.kmz\n",
        "Failed to download http://mapserver.ngdc.noaa.gov/viirs/nightfire_v21/non_corrected/VNF_npp_d20140731_noaa_v21.kmz\n",
        "Failed to download http://mapserver.ngdc.noaa.gov/viirs/nightfire_v21/non_corrected/VNF_npp_d20140801_noaa_v21.kmz\n",
        "Failed to download http://mapserver.ngdc.noaa.gov/viirs/nightfire_v21/non_corrected/VNF_npp_d20140802_noaa_v21.kmz\n",
        "Failed to download http://mapserver.ngdc.noaa.gov/viirs/nightfire_v21/non_corrected/VNF_npp_d20140803_noaa_v21.kmz\n",
        "Failed to download http://mapserver.ngdc.noaa.gov/viirs/nightfire_v21/non_corrected/VNF_npp_d20140804_noaa_v21.kmz\n",
        "Failed to download http://mapserver.ngdc.noaa.gov/viirs/nightfire_v21/non_corrected/VNF_npp_d20140805_noaa_v21.kmz\n",
        "Failed to download http://mapserver.ngdc.noaa.gov/viirs/nightfire_v21/non_corrected/VNF_npp_d20140806_noaa_v21.kmz\n",
        "Failed to download http://mapserver.ngdc.noaa.gov/viirs/nightfire_v21/non_corrected/VNF_npp_d20140807_noaa_v21.kmz\n",
        "Failed to download http://mapserver.ngdc.noaa.gov/viirs/nightfire_v21/non_corrected/VNF_npp_d20140808_noaa_v21.kmz\n",
        "Failed to download http://mapserver.ngdc.noaa.gov/viirs/nightfire_v21/non_corrected/VNF_npp_d20140809_noaa_v21.kmz\n",
        "Failed to download http://mapserver.ngdc.noaa.gov/viirs/nightfire_v21/non_corrected/VNF_npp_d20140810_noaa_v21.kmz\n",
        "Failed to download http://mapserver.ngdc.noaa.gov/viirs/nightfire_v21/non_corrected/VNF_npp_d20140811_noaa_v21.kmz\n",
        "Failed to download http://mapserver.ngdc.noaa.gov/viirs/nightfire_v21/non_corrected/VNF_npp_d20140812_noaa_v21.kmz\n",
        "Failed to download http://mapserver.ngdc.noaa.gov/viirs/nightfire_v21/non_corrected/VNF_npp_d20140813_noaa_v21.kmz\n",
        "Failed to download http://mapserver.ngdc.noaa.gov/viirs/nightfire_v21/non_corrected/VNF_npp_d20140814_noaa_v21.kmz\n",
        "Failed to download http://mapserver.ngdc.noaa.gov/viirs/nightfire_v21/non_corrected/VNF_npp_d20140815_noaa_v21.kmz\n",
        "Failed to download http://mapserver.ngdc.noaa.gov/viirs/nightfire_v21/non_corrected/VNF_npp_d20140816_noaa_v21.kmz\n",
        "Failed to download http://mapserver.ngdc.noaa.gov/viirs/nightfire_v21/non_corrected/VNF_npp_d20140817_noaa_v21.kmz\n",
        "Failed to download http://mapserver.ngdc.noaa.gov/viirs/nightfire_v21/non_corrected/VNF_npp_d20140818_noaa_v21.kmz\n",
        "Failed to download http://mapserver.ngdc.noaa.gov/viirs/nightfire_v21/non_corrected/VNF_npp_d20140819_noaa_v21.kmz\n",
        "Failed to download http://mapserver.ngdc.noaa.gov/viirs/nightfire_v21/non_corrected/VNF_npp_d20140820_noaa_v21.kmz\n",
        "Failed to download http://mapserver.ngdc.noaa.gov/viirs/nightfire_v21/non_corrected/VNF_npp_d20140821_noaa_v21.kmz\n",
        "Failed to download http://mapserver.ngdc.noaa.gov/viirs/nightfire_v21/non_corrected/VNF_npp_d20140822_noaa_v21.kmz\n",
        "Failed to download http://mapserver.ngdc.noaa.gov/viirs/nightfire_v21/non_corrected/VNF_npp_d20140823_noaa_v21.kmz\n",
        "Failed to download http://mapserver.ngdc.noaa.gov/viirs/nightfire_v21/non_corrected/VNF_npp_d20140824_noaa_v21.kmz\n",
        "Failed to download http://mapserver.ngdc.noaa.gov/viirs/nightfire_v21/non_corrected/VNF_npp_d20140825_noaa_v21.kmz\n",
        "Failed to download http://mapserver.ngdc.noaa.gov/viirs/nightfire_v21/non_corrected/VNF_npp_d20140826_noaa_v21.kmz\n",
        "Failed to download http://mapserver.ngdc.noaa.gov/viirs/nightfire_v21/non_corrected/VNF_npp_d20140827_noaa_v21.kmz\n",
        "Failed to download http://mapserver.ngdc.noaa.gov/viirs/nightfire_v21/non_corrected/VNF_npp_d20140828_noaa_v21.kmz\n",
        "Failed to download http://mapserver.ngdc.noaa.gov/viirs/nightfire_v21/non_corrected/VNF_npp_d20140829_noaa_v21.kmz\n",
        "Failed to download http://mapserver.ngdc.noaa.gov/viirs/nightfire_v21/non_corrected/VNF_npp_d20140830_noaa_v21.kmz"
       ]
      },
      {
       "output_type": "stream",
       "stream": "stdout",
       "text": [
        "\n",
        "Failed to download http://mapserver.ngdc.noaa.gov/viirs/nightfire_v21/non_corrected/VNF_npp_d20140831_noaa_v21.kmz\n",
        "Failed to download http://mapserver.ngdc.noaa.gov/viirs/nightfire_v21/non_corrected/VNF_npp_d20140901_noaa_v21.kmz\n",
        "Failed to download http://mapserver.ngdc.noaa.gov/viirs/nightfire_v21/non_corrected/VNF_npp_d20140902_noaa_v21.kmz\n",
        "Failed to download http://mapserver.ngdc.noaa.gov/viirs/nightfire_v21/non_corrected/VNF_npp_d20140903_noaa_v21.kmz\n",
        "Failed to download http://mapserver.ngdc.noaa.gov/viirs/nightfire_v21/non_corrected/VNF_npp_d20140904_noaa_v21.kmz\n",
        "Failed to download http://mapserver.ngdc.noaa.gov/viirs/nightfire_v21/non_corrected/VNF_npp_d20140905_noaa_v21.kmz\n",
        "Failed to download http://mapserver.ngdc.noaa.gov/viirs/nightfire_v21/non_corrected/VNF_npp_d20140906_noaa_v21.kmz\n",
        "Failed to download http://mapserver.ngdc.noaa.gov/viirs/nightfire_v21/non_corrected/VNF_npp_d20140907_noaa_v21.kmz\n",
        "Failed to download http://mapserver.ngdc.noaa.gov/viirs/nightfire_v21/non_corrected/VNF_npp_d20140908_noaa_v21.kmz\n",
        "Failed to download http://mapserver.ngdc.noaa.gov/viirs/nightfire_v21/non_corrected/VNF_npp_d20140909_noaa_v21.kmz\n",
        "Failed to download http://mapserver.ngdc.noaa.gov/viirs/nightfire_v21/non_corrected/VNF_npp_d20140910_noaa_v21.kmz\n",
        "Failed to download http://mapserver.ngdc.noaa.gov/viirs/nightfire_v21/non_corrected/VNF_npp_d20140911_noaa_v21.kmz\n",
        "Failed to download http://mapserver.ngdc.noaa.gov/viirs/nightfire_v21/non_corrected/VNF_npp_d20140912_noaa_v21.kmz\n",
        "Failed to download http://mapserver.ngdc.noaa.gov/viirs/nightfire_v21/non_corrected/VNF_npp_d20140913_noaa_v21.kmz\n",
        "Failed to download http://mapserver.ngdc.noaa.gov/viirs/nightfire_v21/non_corrected/VNF_npp_d20140914_noaa_v21.kmz\n",
        "Failed to download http://mapserver.ngdc.noaa.gov/viirs/nightfire_v21/non_corrected/VNF_npp_d20140915_noaa_v21.kmz\n",
        "Failed to download http://mapserver.ngdc.noaa.gov/viirs/nightfire_v21/non_corrected/VNF_npp_d20140916_noaa_v21.kmz\n",
        "Failed to download http://mapserver.ngdc.noaa.gov/viirs/nightfire_v21/non_corrected/VNF_npp_d20140917_noaa_v21.kmz\n",
        "Failed to download http://mapserver.ngdc.noaa.gov/viirs/nightfire_v21/non_corrected/VNF_npp_d20140918_noaa_v21.kmz\n",
        "Failed to download http://mapserver.ngdc.noaa.gov/viirs/nightfire_v21/non_corrected/VNF_npp_d20140919_noaa_v21.kmz\n",
        "Failed to download http://mapserver.ngdc.noaa.gov/viirs/nightfire_v21/non_corrected/VNF_npp_d20140920_noaa_v21.kmz\n",
        "Failed to download http://mapserver.ngdc.noaa.gov/viirs/nightfire_v21/non_corrected/VNF_npp_d20140921_noaa_v21.kmz\n",
        "Failed to download http://mapserver.ngdc.noaa.gov/viirs/nightfire_v21/non_corrected/VNF_npp_d20140922_noaa_v21.kmz\n",
        "Failed to download http://mapserver.ngdc.noaa.gov/viirs/nightfire_v21/non_corrected/VNF_npp_d20140923_noaa_v21.kmz\n",
        "Failed to download http://mapserver.ngdc.noaa.gov/viirs/nightfire_v21/non_corrected/VNF_npp_d20140924_noaa_v21.kmz\n",
        "Failed to download http://mapserver.ngdc.noaa.gov/viirs/nightfire_v21/non_corrected/VNF_npp_d20140925_noaa_v21.kmz\n",
        "Failed to download http://mapserver.ngdc.noaa.gov/viirs/nightfire_v21/non_corrected/VNF_npp_d20140926_noaa_v21.kmz\n",
        "Failed to download http://mapserver.ngdc.noaa.gov/viirs/nightfire_v21/non_corrected/VNF_npp_d20140927_noaa_v21.kmz\n",
        "Failed to download http://mapserver.ngdc.noaa.gov/viirs/nightfire_v21/non_corrected/VNF_npp_d20140928_noaa_v21.kmz\n",
        "Failed to download http://mapserver.ngdc.noaa.gov/viirs/nightfire_v21/non_corrected/VNF_npp_d20140929_noaa_v21.kmz\n",
        "Failed to download http://mapserver.ngdc.noaa.gov/viirs/nightfire_v21/non_corrected/VNF_npp_d20140930_noaa_v21.kmz\n",
        "Failed to download http://mapserver.ngdc.noaa.gov/viirs/nightfire_v21/non_corrected/VNF_npp_d20141001_noaa_v21.kmz\n",
        "Failed to download http://mapserver.ngdc.noaa.gov/viirs/nightfire_v21/non_corrected/VNF_npp_d20141002_noaa_v21.kmz\n",
        "Failed to download http://mapserver.ngdc.noaa.gov/viirs/nightfire_v21/non_corrected/VNF_npp_d20141003_noaa_v21.kmz\n",
        "Failed to download http://mapserver.ngdc.noaa.gov/viirs/nightfire_v21/non_corrected/VNF_npp_d20141004_noaa_v21.kmz\n",
        "Failed to download http://mapserver.ngdc.noaa.gov/viirs/nightfire_v21/non_corrected/VNF_npp_d20141005_noaa_v21.kmz\n",
        "Failed to download http://mapserver.ngdc.noaa.gov/viirs/nightfire_v21/non_corrected/VNF_npp_d20141006_noaa_v21.kmz\n",
        "Failed to download http://mapserver.ngdc.noaa.gov/viirs/nightfire_v21/non_corrected/VNF_npp_d20141007_noaa_v21.kmz\n",
        "Failed to download http://mapserver.ngdc.noaa.gov/viirs/nightfire_v21/non_corrected/VNF_npp_d20141008_noaa_v21.kmz\n",
        "Failed to download http://mapserver.ngdc.noaa.gov/viirs/nightfire_v21/non_corrected/VNF_npp_d20141009_noaa_v21.kmz\n",
        "Failed to download http://mapserver.ngdc.noaa.gov/viirs/nightfire_v21/non_corrected/VNF_npp_d20141010_noaa_v21.kmz\n",
        "Failed to download http://mapserver.ngdc.noaa.gov/viirs/nightfire_v21/non_corrected/VNF_npp_d20141011_noaa_v21.kmz\n",
        "Failed to download http://mapserver.ngdc.noaa.gov/viirs/nightfire_v21/non_corrected/VNF_npp_d20141012_noaa_v21.kmz\n",
        "Failed to download http://mapserver.ngdc.noaa.gov/viirs/nightfire_v21/non_corrected/VNF_npp_d20141013_noaa_v21.kmz\n",
        "Failed to download http://mapserver.ngdc.noaa.gov/viirs/nightfire_v21/non_corrected/VNF_npp_d20141014_noaa_v21.kmz\n",
        "Failed to download http://mapserver.ngdc.noaa.gov/viirs/nightfire_v21/non_corrected/VNF_npp_d20141015_noaa_v21.kmz\n",
        "Failed to download http://mapserver.ngdc.noaa.gov/viirs/nightfire_v21/non_corrected/VNF_npp_d20141016_noaa_v21.kmz\n",
        "Failed to download http://mapserver.ngdc.noaa.gov/viirs/nightfire_v21/non_corrected/VNF_npp_d20141017_noaa_v21.kmz\n",
        "Failed to download http://mapserver.ngdc.noaa.gov/viirs/nightfire_v21/non_corrected/VNF_npp_d20141018_noaa_v21.kmz\n",
        "Failed to download http://mapserver.ngdc.noaa.gov/viirs/nightfire_v21/non_corrected/VNF_npp_d20141019_noaa_v21.kmz\n",
        "Failed to download http://mapserver.ngdc.noaa.gov/viirs/nightfire_v21/non_corrected/VNF_npp_d20141020_noaa_v21.kmz\n",
        "Failed to download http://mapserver.ngdc.noaa.gov/viirs/nightfire_v21/non_corrected/VNF_npp_d20141021_noaa_v21.kmz\n",
        "Failed to download http://mapserver.ngdc.noaa.gov/viirs/nightfire_v21/non_corrected/VNF_npp_d20141022_noaa_v21.kmz\n",
        "Failed to download http://mapserver.ngdc.noaa.gov/viirs/nightfire_v21/non_corrected/VNF_npp_d20141023_noaa_v21.kmz\n",
        "Failed to download http://mapserver.ngdc.noaa.gov/viirs/nightfire_v21/non_corrected/VNF_npp_d20141024_noaa_v21.kmz\n",
        "Failed to download http://mapserver.ngdc.noaa.gov/viirs/nightfire_v21/non_corrected/VNF_npp_d20141025_noaa_v21.kmz\n",
        "Failed to download http://mapserver.ngdc.noaa.gov/viirs/nightfire_v21/non_corrected/VNF_npp_d20141026_noaa_v21.kmz\n",
        "Failed to download http://mapserver.ngdc.noaa.gov/viirs/nightfire_v21/non_corrected/VNF_npp_d20141027_noaa_v21.kmz\n",
        "Failed to download http://mapserver.ngdc.noaa.gov/viirs/nightfire_v21/non_corrected/VNF_npp_d20141028_noaa_v21.kmz\n",
        "Failed to download http://mapserver.ngdc.noaa.gov/viirs/nightfire_v21/non_corrected/VNF_npp_d20141029_noaa_v21.kmz\n",
        "Failed to download http://mapserver.ngdc.noaa.gov/viirs/nightfire_v21/non_corrected/VNF_npp_d20141030_noaa_v21.kmz\n",
        "Failed to download http://mapserver.ngdc.noaa.gov/viirs/nightfire_v21/non_corrected/VNF_npp_d20141031_noaa_v21.kmz\n",
        "Failed to download http://mapserver.ngdc.noaa.gov/viirs/nightfire_v21/non_corrected/VNF_npp_d20141101_noaa_v21.kmz\n",
        "Failed to download http://mapserver.ngdc.noaa.gov/viirs/nightfire_v21/non_corrected/VNF_npp_d20141102_noaa_v21.kmz\n",
        "Failed to download http://mapserver.ngdc.noaa.gov/viirs/nightfire_v21/non_corrected/VNF_npp_d20141103_noaa_v21.kmz\n",
        "Failed to download http://mapserver.ngdc.noaa.gov/viirs/nightfire_v21/non_corrected/VNF_npp_d20141104_noaa_v21.kmz\n",
        "Failed to download http://mapserver.ngdc.noaa.gov/viirs/nightfire_v21/non_corrected/VNF_npp_d20141105_noaa_v21.kmz\n",
        "Failed to download http://mapserver.ngdc.noaa.gov/viirs/nightfire_v21/non_corrected/VNF_npp_d20141106_noaa_v21.kmz\n",
        "Failed to download http://mapserver.ngdc.noaa.gov/viirs/nightfire_v21/non_corrected/VNF_npp_d20141107_noaa_v21.kmz\n",
        "Failed to download http://mapserver.ngdc.noaa.gov/viirs/nightfire_v21/non_corrected/VNF_npp_d20141108_noaa_v21.kmz\n",
        "Failed to download http://mapserver.ngdc.noaa.gov/viirs/nightfire_v21/non_corrected/VNF_npp_d20141109_noaa_v21.kmz\n",
        "Failed to download http://mapserver.ngdc.noaa.gov/viirs/nightfire_v21/non_corrected/VNF_npp_d20141110_noaa_v21.kmz\n",
        "Failed to download http://mapserver.ngdc.noaa.gov/viirs/nightfire_v21/non_corrected/VNF_npp_d20141111_noaa_v21.kmz\n",
        "Failed to download http://mapserver.ngdc.noaa.gov/viirs/nightfire_v21/non_corrected/VNF_npp_d20141112_noaa_v21.kmz\n",
        "Failed to download http://mapserver.ngdc.noaa.gov/viirs/nightfire_v21/non_corrected/VNF_npp_d20141113_noaa_v21.kmz\n",
        "Failed to download http://mapserver.ngdc.noaa.gov/viirs/nightfire_v21/non_corrected/VNF_npp_d20141114_noaa_v21.kmz\n",
        "Failed to download http://mapserver.ngdc.noaa.gov/viirs/nightfire_v21/non_corrected/VNF_npp_d20141115_noaa_v21.kmz\n",
        "Failed to download http://mapserver.ngdc.noaa.gov/viirs/nightfire_v21/non_corrected/VNF_npp_d20141116_noaa_v21.kmz\n",
        "Failed to download http://mapserver.ngdc.noaa.gov/viirs/nightfire_v21/non_corrected/VNF_npp_d20141117_noaa_v21.kmz\n",
        "Failed to download http://mapserver.ngdc.noaa.gov/viirs/nightfire_v21/non_corrected/VNF_npp_d20141118_noaa_v21.kmz\n",
        "Failed to download http://mapserver.ngdc.noaa.gov/viirs/nightfire_v21/non_corrected/VNF_npp_d20141119_noaa_v21.kmz\n",
        "Failed to download http://mapserver.ngdc.noaa.gov/viirs/nightfire_v21/non_corrected/VNF_npp_d20141120_noaa_v21.kmz\n",
        "Failed to download http://mapserver.ngdc.noaa.gov/viirs/nightfire_v21/non_corrected/VNF_npp_d20141121_noaa_v21.kmz\n",
        "Failed to download http://mapserver.ngdc.noaa.gov/viirs/nightfire_v21/non_corrected/VNF_npp_d20141122_noaa_v21.kmz\n",
        "Failed to download http://mapserver.ngdc.noaa.gov/viirs/nightfire_v21/non_corrected/VNF_npp_d20141123_noaa_v21.kmz\n",
        "Failed to download http://mapserver.ngdc.noaa.gov/viirs/nightfire_v21/non_corrected/VNF_npp_d20141124_noaa_v21.kmz\n",
        "Failed to download http://mapserver.ngdc.noaa.gov/viirs/nightfire_v21/non_corrected/VNF_npp_d20141125_noaa_v21.kmz\n",
        "Failed to download http://mapserver.ngdc.noaa.gov/viirs/nightfire_v21/non_corrected/VNF_npp_d20141126_noaa_v21.kmz\n",
        "Failed to download http://mapserver.ngdc.noaa.gov/viirs/nightfire_v21/non_corrected/VNF_npp_d20141127_noaa_v21.kmz\n",
        "Failed to download http://mapserver.ngdc.noaa.gov/viirs/nightfire_v21/non_corrected/VNF_npp_d20141128_noaa_v21.kmz\n",
        "Failed to download http://mapserver.ngdc.noaa.gov/viirs/nightfire_v21/non_corrected/VNF_npp_d20141129_noaa_v21.kmz\n",
        "Failed to download http://mapserver.ngdc.noaa.gov/viirs/nightfire_v21/non_corrected/VNF_npp_d20141130_noaa_v21.kmz\n",
        "Failed to download http://mapserver.ngdc.noaa.gov/viirs/nightfire_v21/non_corrected/VNF_npp_d20141201_noaa_v21.kmz\n",
        "Failed to download http://mapserver.ngdc.noaa.gov/viirs/nightfire_v21/non_corrected/VNF_npp_d20141202_noaa_v21.kmz\n",
        "Failed to download http://mapserver.ngdc.noaa.gov/viirs/nightfire_v21/non_corrected/VNF_npp_d20141203_noaa_v21.kmz\n",
        "Failed to download http://mapserver.ngdc.noaa.gov/viirs/nightfire_v21/non_corrected/VNF_npp_d20141204_noaa_v21.kmz\n",
        "Failed to download http://mapserver.ngdc.noaa.gov/viirs/nightfire_v21/non_corrected/VNF_npp_d20141205_noaa_v21.kmz\n",
        "Failed to download http://mapserver.ngdc.noaa.gov/viirs/nightfire_v21/non_corrected/VNF_npp_d20141206_noaa_v21.kmz\n",
        "Failed to download http://mapserver.ngdc.noaa.gov/viirs/nightfire_v21/non_corrected/VNF_npp_d20141207_noaa_v21.kmz\n",
        "Failed to download http://mapserver.ngdc.noaa.gov/viirs/nightfire_v21/non_corrected/VNF_npp_d20141208_noaa_v21.kmz\n",
        "Failed to download http://mapserver.ngdc.noaa.gov/viirs/nightfire_v21/non_corrected/VNF_npp_d20141209_noaa_v21.kmz\n",
        "Failed to download http://mapserver.ngdc.noaa.gov/viirs/nightfire_v21/non_corrected/VNF_npp_d20141210_noaa_v21.kmz\n",
        "Failed to download http://mapserver.ngdc.noaa.gov/viirs/nightfire_v21/non_corrected/VNF_npp_d20141211_noaa_v21.kmz"
       ]
      },
      {
       "output_type": "stream",
       "stream": "stdout",
       "text": [
        "\n",
        "Failed to download http://mapserver.ngdc.noaa.gov/viirs/nightfire_v21/non_corrected/VNF_npp_d20141212_noaa_v21.kmz\n",
        "Failed to download http://mapserver.ngdc.noaa.gov/viirs/nightfire_v21/non_corrected/VNF_npp_d20141213_noaa_v21.kmz\n",
        "Failed to download http://mapserver.ngdc.noaa.gov/viirs/nightfire_v21/non_corrected/VNF_npp_d20141214_noaa_v21.kmz\n",
        "Failed to download http://mapserver.ngdc.noaa.gov/viirs/nightfire_v21/non_corrected/VNF_npp_d20141215_noaa_v21.kmz\n",
        "Failed to download http://mapserver.ngdc.noaa.gov/viirs/nightfire_v21/non_corrected/VNF_npp_d20141216_noaa_v21.kmz\n",
        "Failed to download http://mapserver.ngdc.noaa.gov/viirs/nightfire_v21/non_corrected/VNF_npp_d20141217_noaa_v21.kmz\n",
        "Failed to download http://mapserver.ngdc.noaa.gov/viirs/nightfire_v21/non_corrected/VNF_npp_d20141218_noaa_v21.kmz\n",
        "Failed to download http://mapserver.ngdc.noaa.gov/viirs/nightfire_v21/non_corrected/VNF_npp_d20141219_noaa_v21.kmz\n",
        "Failed to download http://mapserver.ngdc.noaa.gov/viirs/nightfire_v21/non_corrected/VNF_npp_d20141220_noaa_v21.kmz\n",
        "Failed to download http://mapserver.ngdc.noaa.gov/viirs/nightfire_v21/non_corrected/VNF_npp_d20141221_noaa_v21.kmz\n",
        "Failed to download http://mapserver.ngdc.noaa.gov/viirs/nightfire_v21/non_corrected/VNF_npp_d20141222_noaa_v21.kmz\n",
        "Failed to download http://mapserver.ngdc.noaa.gov/viirs/nightfire_v21/non_corrected/VNF_npp_d20141223_noaa_v21.kmz\n",
        "Failed to download http://mapserver.ngdc.noaa.gov/viirs/nightfire_v21/non_corrected/VNF_npp_d20141224_noaa_v21.kmz\n",
        "Failed to download http://mapserver.ngdc.noaa.gov/viirs/nightfire_v21/non_corrected/VNF_npp_d20141225_noaa_v21.kmz\n",
        "Failed to download http://mapserver.ngdc.noaa.gov/viirs/nightfire_v21/non_corrected/VNF_npp_d20141226_noaa_v21.kmz\n",
        "Failed to download http://mapserver.ngdc.noaa.gov/viirs/nightfire_v21/non_corrected/VNF_npp_d20141227_noaa_v21.kmz\n",
        "Failed to download http://mapserver.ngdc.noaa.gov/viirs/nightfire_v21/non_corrected/VNF_npp_d20141228_noaa_v21.kmz\n",
        "Failed to download http://mapserver.ngdc.noaa.gov/viirs/nightfire_v21/non_corrected/VNF_npp_d20141229_noaa_v21.kmz\n",
        "Failed to download http://mapserver.ngdc.noaa.gov/viirs/nightfire_v21/non_corrected/VNF_npp_d20141230_noaa_v21.kmz\n",
        "Failed to download http://mapserver.ngdc.noaa.gov/viirs/nightfire_v21/non_corrected/VNF_npp_d20141231_noaa_v21.kmz\n",
        "Failed to download http://mapserver.ngdc.noaa.gov/viirs/nightfire_v21/non_corrected/VNF_npp_d20150101_noaa_v21.kmz\n",
        "Failed to download http://mapserver.ngdc.noaa.gov/viirs/nightfire_v21/non_corrected/VNF_npp_d20150102_noaa_v21.kmz\n",
        "Failed to download http://mapserver.ngdc.noaa.gov/viirs/nightfire_v21/non_corrected/VNF_npp_d20150103_noaa_v21.kmz\n",
        "Failed to download http://mapserver.ngdc.noaa.gov/viirs/nightfire_v21/non_corrected/VNF_npp_d20150104_noaa_v21.kmz\n",
        "Failed to download http://mapserver.ngdc.noaa.gov/viirs/nightfire_v21/non_corrected/VNF_npp_d20150105_noaa_v21.kmz\n",
        "Failed to download http://mapserver.ngdc.noaa.gov/viirs/nightfire_v21/non_corrected/VNF_npp_d20150106_noaa_v21.kmz\n",
        "Failed to download http://mapserver.ngdc.noaa.gov/viirs/nightfire_v21/non_corrected/VNF_npp_d20150107_noaa_v21.kmz\n",
        "Failed to download http://mapserver.ngdc.noaa.gov/viirs/nightfire_v21/non_corrected/VNF_npp_d20150108_noaa_v21.kmz\n",
        "Failed to download http://mapserver.ngdc.noaa.gov/viirs/nightfire_v21/non_corrected/VNF_npp_d20150109_noaa_v21.kmz\n",
        "Failed to download http://mapserver.ngdc.noaa.gov/viirs/nightfire_v21/non_corrected/VNF_npp_d20150110_noaa_v21.kmz\n",
        "Failed to download http://mapserver.ngdc.noaa.gov/viirs/nightfire_v21/non_corrected/VNF_npp_d20150111_noaa_v21.kmz\n",
        "Failed to download http://mapserver.ngdc.noaa.gov/viirs/nightfire_v21/non_corrected/VNF_npp_d20150112_noaa_v21.kmz\n",
        "Failed to download http://mapserver.ngdc.noaa.gov/viirs/nightfire_v21/non_corrected/VNF_npp_d20150113_noaa_v21.kmz\n",
        "Failed to download http://mapserver.ngdc.noaa.gov/viirs/nightfire_v21/non_corrected/VNF_npp_d20150114_noaa_v21.kmz\n",
        "Failed to download http://mapserver.ngdc.noaa.gov/viirs/nightfire_v21/non_corrected/VNF_npp_d20150115_noaa_v21.kmz\n",
        "Failed to download http://mapserver.ngdc.noaa.gov/viirs/nightfire_v21/non_corrected/VNF_npp_d20150116_noaa_v21.kmz\n",
        "Failed to download http://mapserver.ngdc.noaa.gov/viirs/nightfire_v21/non_corrected/VNF_npp_d20150117_noaa_v21.kmz\n",
        "Failed to download http://mapserver.ngdc.noaa.gov/viirs/nightfire_v21/non_corrected/VNF_npp_d20150118_noaa_v21.kmz\n",
        "Failed to download http://mapserver.ngdc.noaa.gov/viirs/nightfire_v21/non_corrected/VNF_npp_d20150119_noaa_v21.kmz\n",
        "Failed to download http://mapserver.ngdc.noaa.gov/viirs/nightfire_v21/non_corrected/VNF_npp_d20150120_noaa_v21.kmz\n",
        "Failed to download http://mapserver.ngdc.noaa.gov/viirs/nightfire_v21/non_corrected/VNF_npp_d20150121_noaa_v21.kmz\n",
        "Failed to download http://mapserver.ngdc.noaa.gov/viirs/nightfire_v21/non_corrected/VNF_npp_d20150122_noaa_v21.kmz\n",
        "Failed to download http://mapserver.ngdc.noaa.gov/viirs/nightfire_v21/non_corrected/VNF_npp_d20150123_noaa_v21.kmz\n",
        "Failed to download http://mapserver.ngdc.noaa.gov/viirs/nightfire_v21/non_corrected/VNF_npp_d20150124_noaa_v21.kmz\n",
        "Failed to download http://mapserver.ngdc.noaa.gov/viirs/nightfire_v21/non_corrected/VNF_npp_d20150125_noaa_v21.kmz\n",
        "Failed to download http://mapserver.ngdc.noaa.gov/viirs/nightfire_v21/non_corrected/VNF_npp_d20150126_noaa_v21.kmz\n",
        "Failed to download http://mapserver.ngdc.noaa.gov/viirs/nightfire_v21/non_corrected/VNF_npp_d20150127_noaa_v21.kmz\n",
        "Failed to download http://mapserver.ngdc.noaa.gov/viirs/nightfire_v21/non_corrected/VNF_npp_d20150128_noaa_v21.kmz\n",
        "Failed to download http://mapserver.ngdc.noaa.gov/viirs/nightfire_v21/non_corrected/VNF_npp_d20150129_noaa_v21.kmz\n",
        "Failed to download http://mapserver.ngdc.noaa.gov/viirs/nightfire_v21/non_corrected/VNF_npp_d20150130_noaa_v21.kmz\n",
        "Failed to download http://mapserver.ngdc.noaa.gov/viirs/nightfire_v21/non_corrected/VNF_npp_d20150131_noaa_v21.kmz\n",
        "Failed to download http://mapserver.ngdc.noaa.gov/viirs/nightfire_v21/non_corrected/VNF_npp_d20150201_noaa_v21.kmz\n",
        "Failed to download http://mapserver.ngdc.noaa.gov/viirs/nightfire_v21/non_corrected/VNF_npp_d20150202_noaa_v21.kmz\n",
        "Failed to download http://mapserver.ngdc.noaa.gov/viirs/nightfire_v21/non_corrected/VNF_npp_d20150203_noaa_v21.kmz\n",
        "Failed to download http://mapserver.ngdc.noaa.gov/viirs/nightfire_v21/non_corrected/VNF_npp_d20150204_noaa_v21.kmz\n",
        "Failed to download http://mapserver.ngdc.noaa.gov/viirs/nightfire_v21/non_corrected/VNF_npp_d20150205_noaa_v21.kmz\n",
        "Failed to download http://mapserver.ngdc.noaa.gov/viirs/nightfire_v21/non_corrected/VNF_npp_d20150206_noaa_v21.kmz\n",
        "Failed to download http://mapserver.ngdc.noaa.gov/viirs/nightfire_v21/non_corrected/VNF_npp_d20150207_noaa_v21.kmz\n",
        "Failed to download http://mapserver.ngdc.noaa.gov/viirs/nightfire_v21/non_corrected/VNF_npp_d20150208_noaa_v21.kmz\n",
        "Failed to download http://mapserver.ngdc.noaa.gov/viirs/nightfire_v21/non_corrected/VNF_npp_d20150209_noaa_v21.kmz\n",
        "Failed to download http://mapserver.ngdc.noaa.gov/viirs/nightfire_v21/non_corrected/VNF_npp_d20150210_noaa_v21.kmz\n",
        "Failed to download http://mapserver.ngdc.noaa.gov/viirs/nightfire_v21/non_corrected/VNF_npp_d20150211_noaa_v21.kmz\n",
        "Failed to download http://mapserver.ngdc.noaa.gov/viirs/nightfire_v21/non_corrected/VNF_npp_d20150212_noaa_v21.kmz\n",
        "Failed to download http://mapserver.ngdc.noaa.gov/viirs/nightfire_v21/non_corrected/VNF_npp_d20150213_noaa_v21.kmz\n",
        "Failed to download http://mapserver.ngdc.noaa.gov/viirs/nightfire_v21/non_corrected/VNF_npp_d20150214_noaa_v21.kmz\n",
        "Failed to download http://mapserver.ngdc.noaa.gov/viirs/nightfire_v21/non_corrected/VNF_npp_d20150215_noaa_v21.kmz\n",
        "Failed to download http://mapserver.ngdc.noaa.gov/viirs/nightfire_v21/non_corrected/VNF_npp_d20150216_noaa_v21.kmz\n",
        "Failed to download http://mapserver.ngdc.noaa.gov/viirs/nightfire_v21/non_corrected/VNF_npp_d20150217_noaa_v21.kmz\n",
        "Failed to download http://mapserver.ngdc.noaa.gov/viirs/nightfire_v21/non_corrected/VNF_npp_d20150218_noaa_v21.kmz\n",
        "Failed to download http://mapserver.ngdc.noaa.gov/viirs/nightfire_v21/non_corrected/VNF_npp_d20150219_noaa_v21.kmz\n",
        "Failed to download http://mapserver.ngdc.noaa.gov/viirs/nightfire_v21/non_corrected/VNF_npp_d20150220_noaa_v21.kmz\n",
        "Failed to download http://mapserver.ngdc.noaa.gov/viirs/nightfire_v21/non_corrected/VNF_npp_d20150221_noaa_v21.kmz\n",
        "Failed to download http://mapserver.ngdc.noaa.gov/viirs/nightfire_v21/non_corrected/VNF_npp_d20150222_noaa_v21.kmz\n",
        "Failed to download http://mapserver.ngdc.noaa.gov/viirs/nightfire_v21/non_corrected/VNF_npp_d20150223_noaa_v21.kmz\n",
        "Failed to download http://mapserver.ngdc.noaa.gov/viirs/nightfire_v21/non_corrected/VNF_npp_d20150224_noaa_v21.kmz\n",
        "Failed to download http://mapserver.ngdc.noaa.gov/viirs/nightfire_v21/non_corrected/VNF_npp_d20150225_noaa_v21.kmz\n",
        "Failed to download http://mapserver.ngdc.noaa.gov/viirs/nightfire_v21/non_corrected/VNF_npp_d20150226_noaa_v21.kmz\n",
        "Failed to download http://mapserver.ngdc.noaa.gov/viirs/nightfire_v21/non_corrected/VNF_npp_d20150227_noaa_v21.kmz\n",
        "Failed to download http://mapserver.ngdc.noaa.gov/viirs/nightfire_v21/non_corrected/VNF_npp_d20150228_noaa_v21.kmz\n",
        "Failed to download http://mapserver.ngdc.noaa.gov/viirs/nightfire_v21/non_corrected/VNF_npp_d20150301_noaa_v21.kmz\n",
        "Failed to download http://mapserver.ngdc.noaa.gov/viirs/nightfire_v21/non_corrected/VNF_npp_d20150302_noaa_v21.kmz\n",
        "Failed to download http://mapserver.ngdc.noaa.gov/viirs/nightfire_v21/non_corrected/VNF_npp_d20150303_noaa_v21.kmz\n",
        "Failed to download http://mapserver.ngdc.noaa.gov/viirs/nightfire_v21/non_corrected/VNF_npp_d20150304_noaa_v21.kmz\n",
        "Failed to download http://mapserver.ngdc.noaa.gov/viirs/nightfire_v21/non_corrected/VNF_npp_d20150305_noaa_v21.kmz\n",
        "Failed to download http://mapserver.ngdc.noaa.gov/viirs/nightfire_v21/non_corrected/VNF_npp_d20150306_noaa_v21.kmz\n",
        "Failed to download http://mapserver.ngdc.noaa.gov/viirs/nightfire_v21/non_corrected/VNF_npp_d20150307_noaa_v21.kmz\n",
        "Failed to download http://mapserver.ngdc.noaa.gov/viirs/nightfire_v21/non_corrected/VNF_npp_d20150308_noaa_v21.kmz\n",
        "Failed to download http://mapserver.ngdc.noaa.gov/viirs/nightfire_v21/non_corrected/VNF_npp_d20150309_noaa_v21.kmz\n",
        "Failed to download http://mapserver.ngdc.noaa.gov/viirs/nightfire_v21/non_corrected/VNF_npp_d20150310_noaa_v21.kmz\n",
        "Failed to download http://mapserver.ngdc.noaa.gov/viirs/nightfire_v21/non_corrected/VNF_npp_d20150311_noaa_v21.kmz\n",
        "Failed to download http://mapserver.ngdc.noaa.gov/viirs/nightfire_v21/non_corrected/VNF_npp_d20150312_noaa_v21.kmz\n",
        "Failed to download http://mapserver.ngdc.noaa.gov/viirs/nightfire_v21/non_corrected/VNF_npp_d20150313_noaa_v21.kmz\n",
        "Failed to download http://mapserver.ngdc.noaa.gov/viirs/nightfire_v21/non_corrected/VNF_npp_d20150314_noaa_v21.kmz\n",
        "Failed to download http://mapserver.ngdc.noaa.gov/viirs/nightfire_v21/non_corrected/VNF_npp_d20150315_noaa_v21.kmz\n",
        "Failed to download http://mapserver.ngdc.noaa.gov/viirs/nightfire_v21/non_corrected/VNF_npp_d20150316_noaa_v21.kmz\n",
        "Failed to download http://mapserver.ngdc.noaa.gov/viirs/nightfire_v21/non_corrected/VNF_npp_d20150317_noaa_v21.kmz\n",
        "Failed to download http://mapserver.ngdc.noaa.gov/viirs/nightfire_v21/non_corrected/VNF_npp_d20150318_noaa_v21.kmz\n",
        "Failed to download http://mapserver.ngdc.noaa.gov/viirs/nightfire_v21/non_corrected/VNF_npp_d20150319_noaa_v21.kmz\n",
        "Failed to download http://mapserver.ngdc.noaa.gov/viirs/nightfire_v21/non_corrected/VNF_npp_d20150320_noaa_v21.kmz\n",
        "Failed to download http://mapserver.ngdc.noaa.gov/viirs/nightfire_v21/non_corrected/VNF_npp_d20150321_noaa_v21.kmz\n",
        "Failed to download http://mapserver.ngdc.noaa.gov/viirs/nightfire_v21/non_corrected/VNF_npp_d20150322_noaa_v21.kmz\n",
        "Failed to download http://mapserver.ngdc.noaa.gov/viirs/nightfire_v21/non_corrected/VNF_npp_d20150323_noaa_v21.kmz\n",
        "Failed to download http://mapserver.ngdc.noaa.gov/viirs/nightfire_v21/non_corrected/VNF_npp_d20150324_noaa_v21.kmz\n",
        "Failed to download http://mapserver.ngdc.noaa.gov/viirs/nightfire_v21/non_corrected/VNF_npp_d20150325_noaa_v21.kmz\n",
        "Failed to download http://mapserver.ngdc.noaa.gov/viirs/nightfire_v21/non_corrected/VNF_npp_d20150326_noaa_v21.kmz\n",
        "Failed to download http://mapserver.ngdc.noaa.gov/viirs/nightfire_v21/non_corrected/VNF_npp_d20150327_noaa_v21.kmz\n",
        "Failed to download http://mapserver.ngdc.noaa.gov/viirs/nightfire_v21/non_corrected/VNF_npp_d20150328_noaa_v21.kmz"
       ]
      },
      {
       "output_type": "stream",
       "stream": "stdout",
       "text": [
        "\n",
        "Failed to download http://mapserver.ngdc.noaa.gov/viirs/nightfire_v21/non_corrected/VNF_npp_d20150329_noaa_v21.kmz\n",
        "Failed to download http://mapserver.ngdc.noaa.gov/viirs/nightfire_v21/non_corrected/VNF_npp_d20150330_noaa_v21.kmz\n",
        "Failed to download http://mapserver.ngdc.noaa.gov/viirs/nightfire_v21/non_corrected/VNF_npp_d20150331_noaa_v21.kmz\n",
        "Failed to download http://mapserver.ngdc.noaa.gov/viirs/nightfire_v21/non_corrected/VNF_npp_d20150401_noaa_v21.kmz\n",
        "Failed to download http://mapserver.ngdc.noaa.gov/viirs/nightfire_v21/non_corrected/VNF_npp_d20150402_noaa_v21.kmz\n",
        "Failed to download http://mapserver.ngdc.noaa.gov/viirs/nightfire_v21/non_corrected/VNF_npp_d20150403_noaa_v21.kmz\n"
       ]
      },
      {
       "output_type": "stream",
       "stream": "stdout",
       "text": [
        "Archive:  capture/nightfire_v21/non_corrected/kmz/VNF_npp_d20140314_noaa_v21.zip\r\n",
        "  inflating: capture/nightfire_v21/non_corrected/kml/VNF_npp_d20140314_v21.kml  "
       ]
      },
      {
       "output_type": "stream",
       "stream": "stdout",
       "text": [
        "\r\n",
        "Archive:  capture/nightfire_v21/non_corrected/kmz/VNF_npp_d20140315_noaa_v21.zip\r\n",
        "  inflating: capture/nightfire_v21/non_corrected/kml/VNF_npp_d20140315_v21.kml  \r\n",
        "Archive:  capture/nightfire_v21/non_corrected/kmz/VNF_npp_d20140316_noaa_v21.zip\r\n"
       ]
      },
      {
       "output_type": "stream",
       "stream": "stdout",
       "text": [
        "  inflating: capture/nightfire_v21/non_corrected/kml/VNF_npp_d20140316_v21.kml  \r\n",
        "Archive:  capture/nightfire_v21/non_corrected/kmz/VNF_npp_d20140317_noaa_v21.zip\r\n",
        "  inflating: capture/nightfire_v21/non_corrected/kml/VNF_npp_d20140317_v21.kml  "
       ]
      },
      {
       "output_type": "stream",
       "stream": "stdout",
       "text": [
        "\r\n",
        "Archive:  capture/nightfire_v21/non_corrected/kmz/VNF_npp_d20140319_noaa_v21.zip\r\n",
        "  inflating: capture/nightfire_v21/non_corrected/kml/VNF_npp_d20140319_v21.kml  "
       ]
      },
      {
       "output_type": "stream",
       "stream": "stdout",
       "text": [
        "\r\n",
        "Archive:  capture/nightfire_v21/non_corrected/kmz/VNF_npp_d20140323_noaa_v21.zip\r\n",
        "  inflating: capture/nightfire_v21/non_corrected/kml/VNF_npp_d20140323_v21.kml  "
       ]
      },
      {
       "output_type": "stream",
       "stream": "stdout",
       "text": [
        "\r\n",
        "Archive:  capture/nightfire_v21/non_corrected/kmz/VNF_npp_d20140324_noaa_v21.zip\r\n",
        "  inflating: capture/nightfire_v21/non_corrected/kml/VNF_npp_d20140324_v21.kml  "
       ]
      },
      {
       "output_type": "stream",
       "stream": "stdout",
       "text": [
        "\r\n",
        "Archive:  capture/nightfire_v21/non_corrected/kmz/VNF_npp_d20140325_noaa_v21.zip\r\n",
        "  inflating: capture/nightfire_v21/non_corrected/kml/VNF_npp_d20140325_v21.kml  "
       ]
      },
      {
       "output_type": "stream",
       "stream": "stdout",
       "text": [
        "\r\n",
        "Archive:  capture/nightfire_v21/non_corrected/kmz/VNF_npp_d20140328_noaa_v21.zip\r\n",
        "  inflating: capture/nightfire_v21/non_corrected/kml/VNF_npp_d20140328_v21.kml  "
       ]
      },
      {
       "output_type": "stream",
       "stream": "stdout",
       "text": [
        "\r\n",
        "Archive:  capture/nightfire_v21/non_corrected/kmz/VNF_npp_d20140329_noaa_v21.zip\r\n"
       ]
      },
      {
       "output_type": "stream",
       "stream": "stdout",
       "text": [
        "  inflating: capture/nightfire_v21/non_corrected/kml/VNF_npp_d20140329_v21.kml  "
       ]
      },
      {
       "output_type": "stream",
       "stream": "stdout",
       "text": [
        "\r\n",
        "Archive:  capture/nightfire_v21/non_corrected/kmz/VNF_npp_d20140330_noaa_v21.zip\r\n",
        "  inflating: capture/nightfire_v21/non_corrected/kml/VNF_npp_d20140330_v21.kml  "
       ]
      },
      {
       "output_type": "stream",
       "stream": "stdout",
       "text": [
        "\r\n",
        "Archive:  capture/nightfire_v21/non_corrected/kmz/VNF_npp_d20140331_noaa_v21.zip\r\n",
        "  inflating: capture/nightfire_v21/non_corrected/kml/VNF_npp_d20140331_v21.kml  "
       ]
      },
      {
       "output_type": "stream",
       "stream": "stdout",
       "text": [
        "\r\n",
        "Archive:  capture/nightfire_v21/non_corrected/kmz/VNF_npp_d20140401_noaa_v21.zip\r\n",
        "  inflating: capture/nightfire_v21/non_corrected/kml/VNF_npp_d20140401_v21.kml  "
       ]
      },
      {
       "output_type": "stream",
       "stream": "stdout",
       "text": [
        "\r\n",
        "Archive:  capture/nightfire_v21/non_corrected/kmz/VNF_npp_d20140402_noaa_v21.zip\r\n",
        "  inflating: capture/nightfire_v21/non_corrected/kml/VNF_npp_d20140402_v21.kml  "
       ]
      },
      {
       "output_type": "stream",
       "stream": "stdout",
       "text": [
        "\r\n",
        "Archive:  capture/nightfire_v21/non_corrected/kmz/VNF_npp_d20140403_noaa_v21.zip\r\n",
        "  inflating: capture/nightfire_v21/non_corrected/kml/VNF_npp_d20140403_v21.kml  "
       ]
      },
      {
       "output_type": "stream",
       "stream": "stdout",
       "text": [
        "\r\n",
        "Archive:  capture/nightfire_v21/non_corrected/kmz/VNF_npp_d20140404_noaa_v21.zip\r\n",
        "  inflating: capture/nightfire_v21/non_corrected/kml/VNF_npp_d20140404_v21.kml  "
       ]
      },
      {
       "output_type": "stream",
       "stream": "stdout",
       "text": [
        "\r\n",
        "Archive:  capture/nightfire_v21/non_corrected/kmz/VNF_npp_d20140405_noaa_v21.zip\r\n"
       ]
      },
      {
       "output_type": "stream",
       "stream": "stdout",
       "text": [
        "  inflating: capture/nightfire_v21/non_corrected/kml/VNF_npp_d20140405_v21.kml  \r\n",
        "Archive:  capture/nightfire_v21/non_corrected/kmz/VNF_npp_d20140406_noaa_v21.zip\r\n"
       ]
      },
      {
       "output_type": "stream",
       "stream": "stdout",
       "text": [
        "  inflating: capture/nightfire_v21/non_corrected/kml/VNF_npp_d20140406_v21.kml  \r\n",
        "Archive:  capture/nightfire_v21/non_corrected/kmz/VNF_npp_d20140407_noaa_v21.zip\r\n"
       ]
      },
      {
       "output_type": "stream",
       "stream": "stdout",
       "text": [
        "  inflating: capture/nightfire_v21/non_corrected/kml/VNF_npp_d20140407_v21.kml  \r\n",
        "Archive:  capture/nightfire_v21/non_corrected/kmz/VNF_npp_d20140408_noaa_v21.zip\r\n"
       ]
      },
      {
       "output_type": "stream",
       "stream": "stdout",
       "text": [
        "  inflating: capture/nightfire_v21/non_corrected/kml/VNF_npp_d20140408_v21.kml  \r\n"
       ]
      },
      {
       "output_type": "stream",
       "stream": "stdout",
       "text": [
        "Archive:  capture/nightfire_v21/non_corrected/kmz/VNF_npp_d20140409_noaa_v21.zip\r\n",
        "  inflating: capture/nightfire_v21/non_corrected/kml/VNF_npp_d20140409_v21.kml  "
       ]
      },
      {
       "output_type": "stream",
       "stream": "stdout",
       "text": [
        "\r\n",
        "Archive:  capture/nightfire_v21/non_corrected/kmz/VNF_npp_d20140410_noaa_v21.zip\r\n",
        "  inflating: capture/nightfire_v21/non_corrected/kml/VNF_npp_d20140410_v21.kml  "
       ]
      },
      {
       "output_type": "stream",
       "stream": "stdout",
       "text": [
        "\r\n",
        "Archive:  capture/nightfire_v21/non_corrected/kmz/VNF_npp_d20140411_noaa_v21.zip\r\n",
        "  inflating: capture/nightfire_v21/non_corrected/kml/VNF_npp_d20140411_v21.kml  "
       ]
      },
      {
       "output_type": "stream",
       "stream": "stdout",
       "text": [
        "\r\n",
        "Archive:  capture/nightfire_v21/non_corrected/kmz/VNF_npp_d20140412_noaa_v21.zip\r\n",
        "  inflating: capture/nightfire_v21/non_corrected/kml/VNF_npp_d20140412_v21.kml  "
       ]
      },
      {
       "output_type": "stream",
       "stream": "stdout",
       "text": [
        "\r\n",
        "Archive:  capture/nightfire_v21/non_corrected/kmz/VNF_npp_d20140413_noaa_v21.zip\r\n",
        "  inflating: capture/nightfire_v21/non_corrected/kml/VNF_npp_d20140413_v21.kml  "
       ]
      },
      {
       "output_type": "stream",
       "stream": "stdout",
       "text": [
        "\r\n",
        "Archive:  capture/nightfire_v21/non_corrected/kmz/VNF_npp_d20140414_noaa_v21.zip\r\n",
        "  inflating: capture/nightfire_v21/non_corrected/kml/VNF_npp_d20140414_v21.kml  "
       ]
      },
      {
       "output_type": "stream",
       "stream": "stdout",
       "text": [
        "\r\n",
        "Archive:  capture/nightfire_v21/non_corrected/kmz/VNF_npp_d20140415_noaa_v21.zip\r\n",
        "  inflating: capture/nightfire_v21/non_corrected/kml/VNF_npp_d20140415_v21.kml  \r\n"
       ]
      },
      {
       "output_type": "stream",
       "stream": "stdout",
       "text": [
        "Archive:  capture/nightfire_v21/non_corrected/kmz/VNF_npp_d20140416_noaa_v21.zip\r\n",
        "  inflating: capture/nightfire_v21/non_corrected/kml/VNF_npp_d20140416_v21.kml  \r\n",
        "Archive:  capture/nightfire_v21/non_corrected/kmz/VNF_npp_d20140417_noaa_v21.zip\r\n"
       ]
      },
      {
       "output_type": "stream",
       "stream": "stdout",
       "text": [
        "  inflating: capture/nightfire_v21/non_corrected/kml/VNF_npp_d20140417_v21.kml  \r\n",
        "Archive:  capture/nightfire_v21/non_corrected/kmz/VNF_npp_d20140418_noaa_v21.zip\r\n"
       ]
      },
      {
       "output_type": "stream",
       "stream": "stdout",
       "text": [
        "  inflating: capture/nightfire_v21/non_corrected/kml/VNF_npp_d20140418_v21.kml  \r\n",
        "Archive:  capture/nightfire_v21/non_corrected/kmz/VNF_npp_d20140419_noaa_v21.zip\r\n"
       ]
      },
      {
       "output_type": "stream",
       "stream": "stdout",
       "text": [
        "  inflating: capture/nightfire_v21/non_corrected/kml/VNF_npp_d20140419_v21.kml  \r\n",
        "Archive:  capture/nightfire_v21/non_corrected/kmz/VNF_npp_d20140420_noaa_v21.zip\r\n"
       ]
      },
      {
       "output_type": "stream",
       "stream": "stdout",
       "text": [
        "  inflating: capture/nightfire_v21/non_corrected/kml/VNF_npp_d20140420_v21.kml  \r\n",
        "Archive:  capture/nightfire_v21/non_corrected/kmz/VNF_npp_d20140421_noaa_v21.zip\r\n"
       ]
      },
      {
       "output_type": "stream",
       "stream": "stdout",
       "text": [
        "  inflating: capture/nightfire_v21/non_corrected/kml/VNF_npp_d20140421_v21.kml  \r\n",
        "Archive:  capture/nightfire_v21/non_corrected/kmz/VNF_npp_d20140422_noaa_v21.zip\r\n"
       ]
      },
      {
       "output_type": "stream",
       "stream": "stdout",
       "text": [
        "  inflating: capture/nightfire_v21/non_corrected/kml/VNF_npp_d20140422_v21.kml  \r\n",
        "Archive:  capture/nightfire_v21/non_corrected/kmz/VNF_npp_d20140423_noaa_v21.zip\r\n",
        "  inflating: capture/nightfire_v21/non_corrected/kml/VNF_npp_d20140423_v21.kml  "
       ]
      },
      {
       "output_type": "stream",
       "stream": "stdout",
       "text": [
        "\r\n",
        "Archive:  capture/nightfire_v21/non_corrected/kmz/VNF_npp_d20140424_noaa_v21.zip\r\n"
       ]
      },
      {
       "output_type": "stream",
       "stream": "stdout",
       "text": [
        "  inflating: capture/nightfire_v21/non_corrected/kml/VNF_npp_d20140424_v21.kml  "
       ]
      },
      {
       "output_type": "stream",
       "stream": "stdout",
       "text": [
        "\r\n",
        "Archive:  capture/nightfire_v21/non_corrected/kmz/VNF_npp_d20140425_noaa_v21.zip\r\n",
        "  inflating: capture/nightfire_v21/non_corrected/kml/VNF_npp_d20140425_v21.kml  \r\n"
       ]
      },
      {
       "output_type": "stream",
       "stream": "stdout",
       "text": [
        "Archive:  capture/nightfire_v21/non_corrected/kmz/VNF_npp_d20140426_noaa_v21.zip\r\n",
        "  inflating: capture/nightfire_v21/non_corrected/kml/VNF_npp_d20140426_v21.kml  \r\n"
       ]
      },
      {
       "output_type": "stream",
       "stream": "stdout",
       "text": [
        "Archive:  capture/nightfire_v21/non_corrected/kmz/VNF_npp_d20140427_noaa_v21.zip\r\n",
        "  inflating: capture/nightfire_v21/non_corrected/kml/VNF_npp_d20140427_v21.kml  \r\n",
        "Archive:  capture/nightfire_v21/non_corrected/kmz/VNF_npp_d20140428_noaa_v21.zip\r\n"
       ]
      },
      {
       "output_type": "stream",
       "stream": "stdout",
       "text": [
        "  inflating: capture/nightfire_v21/non_corrected/kml/VNF_npp_d20140428_v21.kml  \r\n",
        "Archive:  capture/nightfire_v21/non_corrected/kmz/VNF_npp_d20140429_noaa_v21.zip\r\n"
       ]
      },
      {
       "output_type": "stream",
       "stream": "stdout",
       "text": [
        "  inflating: capture/nightfire_v21/non_corrected/kml/VNF_npp_d20140429_v21.kml  \r\n",
        "Archive:  capture/nightfire_v21/non_corrected/kmz/VNF_npp_d20140430_noaa_v21.zip\r\n"
       ]
      },
      {
       "output_type": "stream",
       "stream": "stdout",
       "text": [
        "  inflating: capture/nightfire_v21/non_corrected/kml/VNF_npp_d20140430_v21.kml  "
       ]
      },
      {
       "output_type": "stream",
       "stream": "stdout",
       "text": [
        "\r\n",
        "Archive:  capture/nightfire_v21/non_corrected/kmz/VNF_npp_d20140501_noaa_v21.zip\r\n",
        "  inflating: capture/nightfire_v21/non_corrected/kml/VNF_npp_d20140501_v21.kml  \r\n"
       ]
      },
      {
       "output_type": "stream",
       "stream": "stdout",
       "text": [
        "Archive:  capture/nightfire_v21/non_corrected/kmz/VNF_npp_d20140502_noaa_v21.zip\r\n",
        "  inflating: capture/nightfire_v21/non_corrected/kml/VNF_npp_d20140502_v21.kml  \r\n",
        "Archive:  capture/nightfire_v21/non_corrected/kmz/VNF_npp_d20140503_noaa_v21.zip\r\n"
       ]
      },
      {
       "output_type": "stream",
       "stream": "stdout",
       "text": [
        "  inflating: capture/nightfire_v21/non_corrected/kml/VNF_npp_d20140503_v21.kml  \r\n",
        "Archive:  capture/nightfire_v21/non_corrected/kmz/VNF_npp_d20140504_noaa_v21.zip\r\n"
       ]
      },
      {
       "output_type": "stream",
       "stream": "stdout",
       "text": [
        "  inflating: capture/nightfire_v21/non_corrected/kml/VNF_npp_d20140504_v21.kml  \r\n",
        "Archive:  capture/nightfire_v21/non_corrected/kmz/VNF_npp_d20140505_noaa_v21.zip\r\n"
       ]
      },
      {
       "output_type": "stream",
       "stream": "stdout",
       "text": [
        "  inflating: capture/nightfire_v21/non_corrected/kml/VNF_npp_d20140505_v21.kml  \r\n",
        "Archive:  capture/nightfire_v21/non_corrected/kmz/VNF_npp_d20140506_noaa_v21.zip\r\n",
        "  inflating: capture/nightfire_v21/non_corrected/kml/VNF_npp_d20140506_v21.kml  "
       ]
      },
      {
       "output_type": "stream",
       "stream": "stdout",
       "text": [
        "\r\n",
        "Archive:  capture/nightfire_v21/non_corrected/kmz/VNF_npp_d20140507_noaa_v21.zip\r\n",
        "  inflating: capture/nightfire_v21/non_corrected/kml/VNF_npp_d20140507_v21.kml  "
       ]
      },
      {
       "output_type": "stream",
       "stream": "stdout",
       "text": [
        "\r\n",
        "Archive:  capture/nightfire_v21/non_corrected/kmz/VNF_npp_d20140508_noaa_v21.zip\r\n",
        "  inflating: capture/nightfire_v21/non_corrected/kml/VNF_npp_d20140508_v21.kml  "
       ]
      },
      {
       "output_type": "stream",
       "stream": "stdout",
       "text": [
        "\r\n",
        "Archive:  capture/nightfire_v21/non_corrected/kmz/VNF_npp_d20140509_noaa_v21.zip\r\n",
        "  inflating: capture/nightfire_v21/non_corrected/kml/VNF_npp_d20140509_v21.kml  \r\n"
       ]
      },
      {
       "output_type": "stream",
       "stream": "stdout",
       "text": [
        "Archive:  capture/nightfire_v21/non_corrected/kmz/VNF_npp_d20140510_noaa_v21.zip\r\n",
        "  inflating: capture/nightfire_v21/non_corrected/kml/VNF_npp_d20140510_v21.kml  \r\n",
        "Archive:  capture/nightfire_v21/non_corrected/kmz/VNF_npp_d20140511_noaa_v21.zip\r\n"
       ]
      },
      {
       "output_type": "stream",
       "stream": "stdout",
       "text": [
        "  inflating: capture/nightfire_v21/non_corrected/kml/VNF_npp_d20140511_v21.kml  \r\n",
        "Archive:  capture/nightfire_v21/non_corrected/kmz/VNF_npp_d20140512_noaa_v21.zip\r\n"
       ]
      },
      {
       "output_type": "stream",
       "stream": "stdout",
       "text": [
        "  inflating: capture/nightfire_v21/non_corrected/kml/VNF_npp_d20140512_v21.kml  \r\n",
        "Archive:  capture/nightfire_v21/non_corrected/kmz/VNF_npp_d20140513_noaa_v21.zip\r\n",
        "  inflating: capture/nightfire_v21/non_corrected/kml/VNF_npp_d20140513_v21.kml  "
       ]
      },
      {
       "output_type": "stream",
       "stream": "stdout",
       "text": [
        "\r\n",
        "Archive:  capture/nightfire_v21/non_corrected/kmz/VNF_npp_d20140514_noaa_v21.zip\r\n",
        "  inflating: capture/nightfire_v21/non_corrected/kml/VNF_npp_d20140514_v21.kml  "
       ]
      },
      {
       "output_type": "stream",
       "stream": "stdout",
       "text": [
        "\r\n",
        "Archive:  capture/nightfire_v21/non_corrected/kmz/VNF_npp_d20140515_noaa_v21.zip\r\n",
        "  inflating: capture/nightfire_v21/non_corrected/kml/VNF_npp_d20140515_v21.kml  \r\n",
        "Archive:  capture/nightfire_v21/non_corrected/kmz/VNF_npp_d20140516_noaa_v21.zip\r\n"
       ]
      },
      {
       "output_type": "stream",
       "stream": "stdout",
       "text": [
        "  inflating: capture/nightfire_v21/non_corrected/kml/VNF_npp_d20140516_v21.kml  \r\n",
        "Archive:  capture/nightfire_v21/non_corrected/kmz/VNF_npp_d20140517_noaa_v21.zip\r\n"
       ]
      },
      {
       "output_type": "stream",
       "stream": "stdout",
       "text": [
        "  inflating: capture/nightfire_v21/non_corrected/kml/VNF_npp_d20140517_v21.kml  \r\n",
        "Archive:  capture/nightfire_v21/non_corrected/kmz/VNF_npp_d20140518_noaa_v21.zip\r\n"
       ]
      },
      {
       "output_type": "stream",
       "stream": "stdout",
       "text": [
        "  inflating: capture/nightfire_v21/non_corrected/kml/VNF_npp_d20140518_v21.kml  \r\n",
        "Archive:  capture/nightfire_v21/non_corrected/kmz/VNF_npp_d20140519_noaa_v21.zip\r\n",
        "  inflating: capture/nightfire_v21/non_corrected/kml/VNF_npp_d20140519_v21.kml  "
       ]
      },
      {
       "output_type": "stream",
       "stream": "stdout",
       "text": [
        "\r\n",
        "Archive:  capture/nightfire_v21/non_corrected/kmz/VNF_npp_d20140520_noaa_v21.zip\r\n",
        "  inflating: capture/nightfire_v21/non_corrected/kml/VNF_npp_d20140520_v21.kml  \r\n",
        "Archive:  capture/nightfire_v21/non_corrected/kmz/VNF_npp_d20140521_noaa_v21.zip\r\n"
       ]
      },
      {
       "output_type": "stream",
       "stream": "stdout",
       "text": [
        "  inflating: capture/nightfire_v21/non_corrected/kml/VNF_npp_d20140521_v21.kml  \r\n",
        "Archive:  capture/nightfire_v21/non_corrected/kmz/VNF_npp_d20140522_noaa_v21.zip\r\n",
        "  End-of-central-directory signature not found.  Either this file is not\r\n",
        "  a zipfile, or it constitutes one disk of a multi-part archive.  In the\r\n",
        "  latter case the central directory and zipfile comment will be found on\r\n",
        "  the last disk(s) of this archive.\r\n",
        "unzip:  cannot find zipfile directory in one of capture/nightfire_v21/non_corrected/kmz/VNF_npp_d20140522_noaa_v21.zip or\r\n",
        "        capture/nightfire_v21/non_corrected/kmz/VNF_npp_d20140522_noaa_v21.zip.zip, and cannot find capture/nightfire_v21/non_corrected/kmz/VNF_npp_d20140522_noaa_v21.zip.ZIP, period.\r\n"
       ]
      },
      {
       "output_type": "stream",
       "stream": "stdout",
       "text": [
        "^C\r\n"
       ]
      },
      {
       "ename": "KeyboardInterrupt",
       "evalue": "",
       "output_type": "pyerr",
       "traceback": [
        "\u001b[0;31m---------------------------------------------------------------------------\u001b[0m\n\u001b[0;31mKeyboardInterrupt\u001b[0m                         Traceback (most recent call last)",
        "\u001b[0;32m<ipython-input-13-3f4df4117355>\u001b[0m in \u001b[0;36m<module>\u001b[0;34m()\u001b[0m\n\u001b[1;32m     31\u001b[0m \u001b[0mdata\u001b[0m \u001b[0;34m=\u001b[0m \u001b[0;34m[\u001b[0m\u001b[0;34m]\u001b[0m\u001b[0;34m\u001b[0m\u001b[0m\n\u001b[1;32m     32\u001b[0m \u001b[0;32mfor\u001b[0m \u001b[0mfilename\u001b[0m \u001b[0;32min\u001b[0m \u001b[0mglob\u001b[0m\u001b[0;34m.\u001b[0m\u001b[0mglob\u001b[0m\u001b[0;34m(\u001b[0m\u001b[0;34m'%s*'\u001b[0m\u001b[0;34m%\u001b[0m\u001b[0mgeojson_dir\u001b[0m\u001b[0;34m)\u001b[0m\u001b[0;34m:\u001b[0m\u001b[0;34m\u001b[0m\u001b[0m\n\u001b[0;32m---> 33\u001b[0;31m     \u001b[0mdata\u001b[0m \u001b[0;34m+=\u001b[0m \u001b[0mextract_float_data\u001b[0m\u001b[0;34m(\u001b[0m\u001b[0mfilename\u001b[0m\u001b[0;34m)\u001b[0m\u001b[0;34m\u001b[0m\u001b[0m\n\u001b[0m\u001b[1;32m     34\u001b[0m \u001b[0;32mprint\u001b[0m \u001b[0mlen\u001b[0m\u001b[0;34m(\u001b[0m\u001b[0mdata\u001b[0m\u001b[0;34m)\u001b[0m\u001b[0;34m/\u001b[0m\u001b[0;36m4\u001b[0m\u001b[0;34m\u001b[0m\u001b[0m\n\u001b[1;32m     35\u001b[0m \u001b[0mdest\u001b[0m \u001b[0;34m=\u001b[0m \u001b[0;34m'createlab-viirs-uncorrected.bin'\u001b[0m\u001b[0;34m\u001b[0m\u001b[0m\n",
        "\u001b[0;32m<ipython-input-12-6e7b5f112446>\u001b[0m in \u001b[0;36mextract_float_data\u001b[0;34m(filename)\u001b[0m\n\u001b[1;32m     44\u001b[0m         \u001b[0mgeometry\u001b[0m \u001b[0;34m=\u001b[0m \u001b[0mfeature\u001b[0m\u001b[0;34m[\u001b[0m\u001b[0;34m'geometry'\u001b[0m\u001b[0;34m]\u001b[0m\u001b[0;34m\u001b[0m\u001b[0m\n\u001b[1;32m     45\u001b[0m         \u001b[0;32mif\u001b[0m \u001b[0mgeometry\u001b[0m\u001b[0;34m[\u001b[0m\u001b[0;34m'type'\u001b[0m\u001b[0;34m]\u001b[0m \u001b[0;34m==\u001b[0m \u001b[0;34m'Point'\u001b[0m\u001b[0;34m:\u001b[0m\u001b[0;34m\u001b[0m\u001b[0m\n\u001b[0;32m---> 46\u001b[0;31m             \u001b[0mvals\u001b[0m \u001b[0;34m=\u001b[0m \u001b[0mextract_feature_data\u001b[0m\u001b[0;34m(\u001b[0m\u001b[0mfeature\u001b[0m\u001b[0;34m)\u001b[0m\u001b[0;34m\u001b[0m\u001b[0m\n\u001b[0m\u001b[1;32m     47\u001b[0m             \u001b[0;32mif\u001b[0m \u001b[0mvals\u001b[0m \u001b[0;34m!=\u001b[0m \u001b[0;34m[\u001b[0m\u001b[0;34m]\u001b[0m\u001b[0;34m:\u001b[0m\u001b[0;34m\u001b[0m\u001b[0m\n\u001b[1;32m     48\u001b[0m                 \u001b[0mdata\u001b[0m \u001b[0;34m+=\u001b[0m \u001b[0mvals\u001b[0m\u001b[0;34m\u001b[0m\u001b[0m\n",
        "\u001b[0;32m<ipython-input-12-6e7b5f112446>\u001b[0m in \u001b[0;36mextract_feature_data\u001b[0;34m(feature)\u001b[0m\n\u001b[1;32m     36\u001b[0m         \u001b[0;32mreturn\u001b[0m \u001b[0;34m[\u001b[0m\u001b[0;34m]\u001b[0m\u001b[0;34m\u001b[0m\u001b[0m\n\u001b[1;32m     37\u001b[0m     \u001b[0;32melse\u001b[0m\u001b[0;34m:\u001b[0m\u001b[0;34m\u001b[0m\u001b[0m\n\u001b[0;32m---> 38\u001b[0;31m         \u001b[0;32mreturn\u001b[0m \u001b[0;34m[\u001b[0m\u001b[0mlat\u001b[0m\u001b[0;34m,\u001b[0m \u001b[0mlng\u001b[0m\u001b[0;34m,\u001b[0m \u001b[0mtime\u001b[0m\u001b[0;34m.\u001b[0m\u001b[0mmktime\u001b[0m\u001b[0;34m(\u001b[0m\u001b[0mtime\u001b[0m\u001b[0;34m.\u001b[0m\u001b[0mstrptime\u001b[0m\u001b[0;34m(\u001b[0m\u001b[0mdate\u001b[0m\u001b[0;34m,\u001b[0m \u001b[0;34m\"%Y/%m/%d %H:%M:%S\"\u001b[0m\u001b[0;34m)\u001b[0m\u001b[0;34m)\u001b[0m\u001b[0;34m,\u001b[0m \u001b[0mfloat\u001b[0m\u001b[0;34m(\u001b[0m\u001b[0mtemp\u001b[0m\u001b[0;34m)\u001b[0m\u001b[0;34m]\u001b[0m\u001b[0;34m\u001b[0m\u001b[0m\n\u001b[0m\u001b[1;32m     39\u001b[0m \u001b[0;34m\u001b[0m\u001b[0m\n\u001b[1;32m     40\u001b[0m \u001b[0;32mdef\u001b[0m \u001b[0mextract_float_data\u001b[0m\u001b[0;34m(\u001b[0m\u001b[0mfilename\u001b[0m\u001b[0;34m)\u001b[0m\u001b[0;34m:\u001b[0m\u001b[0;34m\u001b[0m\u001b[0m\n",
        "\u001b[0;31mKeyboardInterrupt\u001b[0m: "
       ]
      }
     ],
     "prompt_number": 13
    },
    {
     "cell_type": "code",
     "collapsed": false,
     "input": [
      "def download_files(**kwargs):\n",
      "    print kwargs['foo']\n",
      "    print kwargs['bar']\n",
      "download_files(foo='a',bar='b')\n",
      "\n"
     ],
     "language": "python",
     "metadata": {},
     "outputs": [
      {
       "output_type": "stream",
       "stream": "stdout",
       "text": [
        "a\n",
        "b\n"
       ]
      }
     ],
     "prompt_number": 18
    },
    {
     "cell_type": "code",
     "collapsed": false,
     "input": [],
     "language": "python",
     "metadata": {},
     "outputs": []
    }
   ],
   "metadata": {}
  }
 ]
}