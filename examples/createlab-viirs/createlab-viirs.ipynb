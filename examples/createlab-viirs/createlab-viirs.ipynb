{
 "metadata": {
  "name": "",
  "signature": "sha256:20e5919dae13e45dbd62aedb89e4bd7ab429f7ac76263b0c21f740b38ce16e69"
 },
 "nbformat": 3,
 "nbformat_minor": 0,
 "worksheets": [
  {
   "cells": [
    {
     "cell_type": "code",
     "collapsed": false,
     "input": [
      "import array, datetime, glob, json, math, os, re, time, urllib2\n",
      "\n",
      "def init_capture(*args):\n",
      "    for path in args:\n",
      "        if not os.path.exists(path):\n",
      "            os.makedirs(path)\n",
      "\n",
      "def download_file(url, filename):\n",
      "    try:\n",
      "        f = urllib2.urlopen(url)\n",
      "        with open(filename, \"wb\") as local_file:\n",
      "            local_file.write(f.read())\n",
      "    except:\n",
      "        print \"Failed to download %s\" % url\n",
      "\n",
      "def format_viirs_url(url,date):\n",
      "    return url % date\n",
      "\n",
      "def LatLngToECEF(lat, lng):\n",
      "    lat = lat * (math.pi/180)\n",
      "    lng = lng * (math.pi/180)\n",
      "    x = math.cos(lat) * math.sin(lng)\n",
      "    y = math.sin(lat)\n",
      "    z = math.cos(lat)*math.cos(lng)\n",
      "    return [x,y,z]\n",
      "\n",
      "def extract_feature_data(feature,convert=None):\n",
      "    data = []\n",
      "    lng = feature['geometry']['coordinates'][0]\n",
      "    lat = feature['geometry']['coordinates'][1]\n",
      "    \n",
      "    if convert == \"ECEF\":\n",
      "        xyz = LatLngToECEF(lat, lng)\n",
      "        data.append(xyz[0])\n",
      "        data.append(xyz[1])\n",
      "        data.append(xyz[2])\n",
      "    else:\n",
      "        data.append(lat)\n",
      "        data.append(lng)\n",
      "        \n",
      "    date_re = re.compile('\\d{4}/\\d{2}/\\d{2} \\d{2}:\\d{2}:\\d{2}')\n",
      "    date_match = date_re.search(feature['properties']['Description'])\n",
      "    \n",
      "    temp_re = re.compile('(\\d+.\\d+) deg. K')\n",
      "    temp_match = temp_re.search(feature['properties']['Description'])\n",
      "\n",
      "    if date_match != None and temp_match != None:\n",
      "        date = date_match.group(0)\n",
      "        temp = temp_match.group(1)\n",
      "    else:\n",
      "        return []\n",
      "        \n",
      "    if float(temp) == 1810.0 or float(temp) <= 500 or float(temp) >= 3000:\n",
      "        return []\n",
      "    else:\n",
      "        data.append(time.mktime(time.strptime(date, \"%Y/%m/%d %H:%M:%S\")))\n",
      "        data.append(float(temp))\n",
      "        return data\n",
      "\n",
      "def extract_float_data(filename, convert = None):\n",
      "    data = []\n",
      "    obj = json.loads(open(filename).read())    \n",
      "    for feature in obj['features']:\n",
      "        geometry = feature['geometry']\n",
      "        if geometry['type'] == 'Point':\n",
      "            vals = extract_feature_data(feature, convert)\n",
      "            if vals != []:\n",
      "                data += vals\n",
      "        else :\n",
      "            print geometry['type']\n",
      "    return data\n",
      "        \n",
      "def download_files(**kwargs):\n",
      "    end_date = kwargs['end_date']\n",
      "    start_date = kwargs['start_date']\n",
      "    url = kwargs['url']\n",
      "    delta = end_date - start_date\n",
      "    for i in range(delta.days + 1):\n",
      "        url = format_viirs_url(kmz_url,(start_date + datetime.timedelta(days=i)).strftime(\"%Y%m%d\"))\n",
      "        filename = kmz_dir + os.path.basename(url)\n",
      "        download_file(url, filename)\n",
      "\n",
      "def kmz_to_geojson(**kwargs):\n",
      "    kmz_dir = kwargs['kmz_dir']\n",
      "    kml_dir = kwargs['kml_dir']\n",
      "    geojson_dir = kwargs['geojson_dir']\n",
      "    \n",
      "    command = 'ren %s\"*.kmz\" \"#1.zip\"' % kmz_dir\n",
      "    !$command\n",
      "\n",
      "    command = \"for file in %s*.zip; do unzip $file *.kml -d %s; done\" % (kmz_dir, kml_dir)\n",
      "    !$command\n",
      "\n",
      "    command = \"for file in %s*.kml; do ogr2ogr -f GeoJSON %s`basename $file`.json $file; done\" % (kml_dir, geojson_dir)\n",
      "    !$command\n",
      "\n",
      "def geojson_to_bin(**kwargs):\n",
      "    geojson_dir = kwargs['geojson_dir']\n",
      "    outfile = kwargs['outfile']\n",
      "    data = []\n",
      "    for filename in glob.glob('%s*'%geojson_dir):\n",
      "        data += extract_float_data(filename)\n",
      "    print \"Total points: %d\" % (len(data)/4)\n",
      "    array.array('f', data).tofile(open(outfile, 'w'))\n",
      "\n",
      "def geojson_to_ecef_bin(**kwargs):\n",
      "    geojson_dir = kwargs['geojson_dir']\n",
      "    outfile = kwargs['outfile']\n",
      "    data = []\n",
      "    for filename in glob.glob('%s*'%geojson_dir):\n",
      "        data += extract_float_data(filename, \"ECEF\")\n",
      "    print \"Total points: %d\" % (len(data)/4)\n",
      "    array.array('f', data).tofile(open(outfile, 'w'))\n"
     ],
     "language": "python",
     "metadata": {},
     "outputs": [],
     "prompt_number": 43
    },
    {
     "cell_type": "markdown",
     "metadata": {},
     "source": [
      "<h1>Download Prerun V2.1 (CLASS) corrected KMZ</h1>"
     ]
    },
    {
     "cell_type": "code",
     "collapsed": false,
     "input": [
      "kmz_dir = \"capture/v21/kmz/\"\n",
      "kml_dir = \"capture/v21/kml/\"\n",
      "geojson_dir = \"capture/v21/geojson/\"\n",
      "init_capture(kmz_dir, kml_dir, geojson_dir)\n",
      "\n",
      "kmz_url = 'http://mapserver.ngdc.noaa.gov/viirs/nightfire_v21/corrected/VNF_npp_d%s_v21_atm.kmz'\n",
      "\n",
      "start_date = datetime.date(2014, 7, 30)\n",
      "end_date = datetime.date(2015,4,1)\n",
      "\n",
      "download_files(url=kmz_url, start_date=start_date, end_date=end_date)\n",
      "\n",
      "kmz_to_geojson(kmz_dir=kmz_dir, kml_dir=kml_dir, geojson_dir=geojson_dir)\n",
      "\n",
      "geojson_to_bin(geojson_dir=geojson_dir,outfile='createlab-viirs-uncorrected.bin')\n"
     ],
     "language": "python",
     "metadata": {},
     "outputs": []
    },
    {
     "cell_type": "markdown",
     "metadata": {},
     "source": [
      "<h1>Download Prerun V2.1 (CLASS) non-corrected KMZ</h1>"
     ]
    },
    {
     "cell_type": "code",
     "collapsed": false,
     "input": [
      "kmz_dir = \"capture/nightfire_v21/non_corrected/kmz/\"\n",
      "kml_dir = \"capture/nightfire_v21/non_corrected/kml/\"\n",
      "geojson_dir = \"capture/nightfire_v21/non_corrected/geojson/\"\n",
      "\n",
      "init_capture(kmz_dir, kml_dir, geojson_dir)"
     ],
     "language": "python",
     "metadata": {},
     "outputs": [],
     "prompt_number": 5
    },
    {
     "cell_type": "code",
     "collapsed": false,
     "input": [
      "kmz_url = 'http://mapserver.ngdc.noaa.gov/viirs/nightfire_v21/non_corrected/VNF_npp_d%s_noaa_v21.kmz'\n",
      "start_date = datetime.date(2014, 3, 14)\n",
      "end_date = datetime.date(2015,4,3)\n",
      "download_files(url=kmz_url, start_date=start_date, end_date=end_date)"
     ],
     "language": "python",
     "metadata": {},
     "outputs": []
    },
    {
     "cell_type": "code",
     "collapsed": false,
     "input": [
      "kmz_to_geojson(kmz_dir=kmz_dir, kml_dir=kml_dir, geojson_dir=geojson_dir)"
     ],
     "language": "python",
     "metadata": {},
     "outputs": []
    },
    {
     "cell_type": "code",
     "collapsed": false,
     "input": [
      "geojson_to_bin(geojson_dir=geojson_dir,outfile='createlab-viirs-uncorrected.bin')"
     ],
     "language": "python",
     "metadata": {},
     "outputs": []
    },
    {
     "cell_type": "markdown",
     "metadata": {},
     "source": [
      "<h1>Convert lat/lng to ECEF</h1>"
     ]
    },
    {
     "cell_type": "code",
     "collapsed": false,
     "input": [
      "geojson_to_ecef_bin(geojson_dir=geojson_dir,outfile='createlab-viirs-ecef-uncorrected.bin')"
     ],
     "language": "python",
     "metadata": {},
     "outputs": [
      {
       "output_type": "stream",
       "stream": "stdout",
       "text": [
        "Total points: 2035695\n"
       ]
      }
     ],
     "prompt_number": 44
    },
    {
     "cell_type": "code",
     "collapsed": false,
     "input": [],
     "language": "python",
     "metadata": {},
     "outputs": []
    }
   ],
   "metadata": {}
  }
 ]
}