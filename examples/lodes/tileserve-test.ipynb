{
 "cells": [
  {
   "cell_type": "code",
   "execution_count": 33,
   "metadata": {},
   "outputs": [
    {
     "name": "stdout",
     "output_type": "stream",
     "text": [
      "set default_psql_database to census2010\n",
      "gcc -pthread -shared -rdynamic -fno-strict-aliasing -g -DNDEBUG -fwrapv -O3 -Wall -Wstrict-prototypes -fPIC -I/home/rsargent/anaconda2/include/python2.7 -L/home/rsargent/anaconda2/lib/python2.7/site-packages -L/home/rsargent/anaconda2/lib/python2.7/site-packages/../.. -lpython2.7 /tmp/tmpPqgnZn.c -o /tmp/tmpb9HThE-000001.so\n",
      "404\n",
      "<!DOCTYPE HTML PUBLIC \"-//W3C//DTD HTML 3.2 Final//EN\">\n",
      "<title>404 Not Found</title>\n",
      "<h1>Not Found</h1>\n",
      "<p>The requested URL was not found on the server.  If you entered the URL manually please check your spelling and try again.</p>\n",
      "\n"
     ]
    }
   ],
   "source": [
    "import csv, hashlib, json, os, pandas, re, scipy, scipy.sparse, shutil\n",
    "import subprocess, sys, threading, time, urllib2\n",
    "\n",
    "def exec_ipynb(filename_or_url):\n",
    "    nb = (urllib2.urlopen(filename_or_url) if re.match(r'https?:', filename_or_url) else open(filename_or_url)).read()\n",
    "    jsonNb = json.loads(nb)\n",
    "    #check for the modified formatting of Jupyter Notebook v4\n",
    "    if(jsonNb['nbformat'] == 4):\n",
    "        exec '\\n'.join([''.join(cell['source']) for cell in jsonNb['cells'] if cell['cell_type'] == 'code']) in globals()\n",
    "    else:\n",
    "        exec '\\n'.join([''.join(cell['input']) for cell in jsonNb['worksheets'][0]['cells'] if cell['cell_type'] == 'code']) in globals()\n",
    "\n",
    "exec(open('tileserve.py').read())\n"
   ]
  },
  {
   "cell_type": "code",
   "execution_count": 2,
   "metadata": {
    "collapsed": true
   },
   "outputs": [],
   "source": [
    "# Removing the least recent takes O(N) time;  could be make more efficient if needed for larger dicts\n",
    "\n",
    "class LruDict:\n",
    "    def __init__(self, max_entries):\n",
    "        self.max_entries = max_entries\n",
    "        self.entries = {}\n",
    "        self.usecount = 0\n",
    "    \n",
    "    def has(self, key):\n",
    "        return key in self.entries\n",
    "    \n",
    "    def get(self, key):\n",
    "        print 'getting %s' % key\n",
    "        self.use(key)\n",
    "        return self.entries[key]['data']\n",
    "    \n",
    "    def use(self, key):\n",
    "        self.usecount += 1\n",
    "        self.entries[key]['lastuse'] = self.usecount\n",
    "\n",
    "    def insert(self, key, val):\n",
    "        print 'inserting %s' % key\n",
    "        self.entries[key] = {'data':val}\n",
    "        self.use(key)\n",
    "        if len(self.entries) > self.max_entries:\n",
    "            lru_key, lru_val = None, None\n",
    "            for key, val in self.entries.iteritems():\n",
    "                if not lru_val or val['lastuse'] < lru_val['lastuse']:\n",
    "                    lru_key, lru_val = key, val\n",
    "            if lru_val:\n",
    "                del self.entries[lru_key]"
   ]
  },
  {
   "cell_type": "code",
   "execution_count": 25,
   "metadata": {},
   "outputs": [
    {
     "data": {
      "text/plain": [
       "'\\x00\\x00\\x80?'"
      ]
     },
     "execution_count": 25,
     "metadata": {},
     "output_type": "execute_result"
    }
   ],
   "source": [
    "numpy.array([1], dtype=numpy.int32).astype(numpy.float32).tobytes()"
   ]
  },
  {
   "cell_type": "code",
   "execution_count": 12,
   "metadata": {},
   "outputs": [
    {
     "ename": "NameError",
     "evalue": "name 'thread' is not defined",
     "output_type": "error",
     "traceback": [
      "\u001b[0;31m---------------------------------------------------------------------------\u001b[0m",
      "\u001b[0;31mNameError\u001b[0m                                 Traceback (most recent call last)",
      "\u001b[0;32m<ipython-input-12-fa0c194848ea>\u001b[0m in \u001b[0;36m<module>\u001b[0;34m()\u001b[0m\n\u001b[0;32m----> 1\u001b[0;31m \u001b[0mthread\u001b[0m\u001b[0;34m.\u001b[0m\u001b[0mget_ident\u001b[0m\u001b[0;34m(\u001b[0m\u001b[0;34m)\u001b[0m\u001b[0;34m\u001b[0m\u001b[0m\n\u001b[0m",
      "\u001b[0;31mNameError\u001b[0m: name 'thread' is not defined"
     ]
    }
   ],
   "source": [
    "thread.get_ident()"
   ]
  },
  {
   "cell_type": "code",
   "execution_count": 35,
   "metadata": {},
   "outputs": [
    {
     "name": "stdout",
     "output_type": "stream",
     "text": [
      "2.4871e+08\n",
      "1.27796e+07\n",
      "2.4871e+08\n",
      "1.27796e+07\n",
      "2.4871e+08\n",
      "1.27796e+07\n"
     ]
    }
   ],
   "source": [
    "column_cache = LruDict(100) # max entries\n",
    "\n",
    "def map_as_array(path):\n",
    "    return numpy.memmap(path, dtype=numpy.float32, mode='r')\n",
    "\n",
    "def load_column(dataset, column):\n",
    "    cache_key = '{dataset}.{column}'.format(**locals())\n",
    "    if column_cache.has(cache_key):\n",
    "        return column_cache.get(cache_key)\n",
    "    dir = '{cache_dir}/{dataset}'.format(cache_dir=cache_dir, **locals())\n",
    "    if not os.path.exists(dir):\n",
    "        msg = 'Dataset named \"{dataset}\" not found.<br><br><a href=\"{dataroot}\">List valid datasets</a>'.format(dataroot=dataroot(), **locals())\n",
    "        raise InvalidUsage(msg)\n",
    "    cache_filename_prefix = dir + '/' + column\n",
    "    cache_filename = cache_filename_prefix + '.float32'\n",
    "    if not os.path.exists(cache_filename):\n",
    "        if not os.path.exists(cache_filename_prefix + '.numpy'):\n",
    "            msg = ('Column named \"{column}\" in dataset \"{dataset}\" not found.<br><br>'\n",
    "                   '<a href=\"{dataroot}/{dataset}\">List valid columns from {dataset}</a>').format(\n",
    "                dataroot=dataroot(), **locals())\n",
    "\n",
    "            raise InvalidUsage(msg)\n",
    "        data = numpy.load(open(cache_filename_prefix + '.numpy')).astype(numpy.float32)\n",
    "        tmpfile = cache_filename + '.tmp.%d.%d' % (os.getpid(), threading.current_thread().ident)\n",
    "        data.tofile(tmpfile)\n",
    "        os.rename(tmpfile, cache_filename)\n",
    "\n",
    "    data = map_as_array(cache_filename)\n",
    "    column_cache.insert(cache_key, data)\n",
    "    return data\n",
    "\n",
    "testnow = True\n",
    "\n",
    "if testnow:\n",
    "    print load_column('census1990_block2010', 'P0010001').sum()\n",
    "    print load_column('acs2015_5year_tract2010', 'B01001_001').sum()\n",
    "    print load_column('census1990_block2010', 'P0010001').sum()\n",
    "    print load_column('acs2015_5year_tract2010', 'B01001_001').sum()\n",
    "    print load_column('census1990_block2010', 'P0010001').sum()\n",
    "    print load_column('acs2015_5year_tract2010', 'B01001_001').sum()\n"
   ]
  },
  {
   "cell_type": "code",
   "execution_count": 5,
   "metadata": {},
   "outputs": [
    {
     "name": "stdout",
     "output_type": "stream",
     "text": [
      "getting census1990_block2010.P0010001\n",
      "2.4871e+08\n",
      "getting acs2015_5year_tract2010.B01001_001\n",
      "1.27796e+07\n",
      "getting census1990_block2010.P0010001\n",
      "2.4871e+08\n",
      "getting acs2015_5year_tract2010.B01001_001\n",
      "1.27796e+07\n",
      "getting census1990_block2010.P0010001\n",
      "2.4871e+08\n",
      "getting acs2015_5year_tract2010.B01001_001\n",
      "1.27796e+07\n"
     ]
    }
   ],
   "source": [
    "if testnow:\n",
    "    print load_column('census1990_block2010', 'P0010001').sum()\n",
    "    print load_column('acs2015_5year_tract2010', 'B01001_001').sum()\n",
    "    print load_column('census1990_block2010', 'P0010001').sum()\n",
    "    print load_column('acs2015_5year_tract2010', 'B01001_001').sum()\n",
    "    print load_column('census1990_block2010', 'P0010001').sum()\n",
    "    print load_column('acs2015_5year_tract2010', 'B01001_001').sum()\n"
   ]
  },
  {
   "cell_type": "code",
   "execution_count": 43,
   "metadata": {},
   "outputs": [
    {
     "name": "stdout",
     "output_type": "stream",
     "text": [
      "0.0\n"
     ]
    },
    {
     "data": {
      "text/plain": [
       "memmap([  0.        ,  81.        ,   0.        , ...,   1.77455461,\n",
       "         0.        ,   0.        ], dtype=float32)"
      ]
     },
     "execution_count": 43,
     "metadata": {},
     "output_type": "execute_result"
    }
   ],
   "source": [
    "expression_cache = LruDict(50) # \n",
    "\n",
    "def eval_layer_column(expr):\n",
    "    cache_key = hashlib.sha256(expr).hexdigest()\n",
    "    if expression_cache.has(cache_key):\n",
    "        return expression_cache.get(cache_key)\n",
    "\n",
    "    cache_filename = 'expression_cache/{cache_key}.float32'.format(**locals())\n",
    "    \n",
    "    if not os.path.exists(cache_filename):\n",
    "        try:\n",
    "            data = eval_(ast.parse(expr, mode='eval').body).astype(numpy.float32)\n",
    "        except SyntaxError,e:\n",
    "            raise InvalidUsage('<pre>' + traceback.format_exc(0) + '</pre>')\n",
    "        \n",
    "        try:\n",
    "            os.mkdir('expression_cache')\n",
    "        except:\n",
    "            pass\n",
    "        \n",
    "        tmpfile = cache_filename + '.tmp.%d.%d' % (os.getpid(), threading.current_thread().ident)\n",
    "        data.tofile(tmpfile)\n",
    "        os.rename(tmpfile, cache_filename)\n",
    "    \n",
    "    data = map_as_array(cache_filename)\n",
    "    expression_cache.insert(cache_key, data)\n",
    "    return data    \n",
    "\n",
    "print eval_layer_column('acs2015_5year_tract2010.B01001_001 - acs2015_5year_tract2010.B01001_001').sum()\n",
    "eval_layer_column('census1990_block2010.P0010001 - acs2015_5year_tract2010.B01001_001')\n"
   ]
  },
  {
   "cell_type": "code",
   "execution_count": null,
   "metadata": {
    "collapsed": true
   },
   "outputs": [],
   "source": []
  }
 ],
 "metadata": {
  "anaconda-cloud": {},
  "kernelspec": {
   "display_name": "Python 2",
   "language": "python",
   "name": "python2"
  },
  "language_info": {
   "codemirror_mode": {
    "name": "ipython",
    "version": 2
   },
   "file_extension": ".py",
   "mimetype": "text/x-python",
   "name": "python",
   "nbconvert_exporter": "python",
   "pygments_lexer": "ipython2",
   "version": "2.7.13"
  }
 },
 "nbformat": 4,
 "nbformat_minor": 1
}
