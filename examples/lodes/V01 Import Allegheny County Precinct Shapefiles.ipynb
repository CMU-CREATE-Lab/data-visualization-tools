{
 "cells": [
  {
   "cell_type": "code",
   "execution_count": 1,
   "metadata": {
    "collapsed": false
   },
   "outputs": [],
   "source": [
    "import csv, json, os, re, shutil\n",
    "import subprocess, sys, threading, traceback, urllib2\n",
    "\n",
    "def exec_ipynb(filename_or_url):\n",
    "    nb = (urllib2.urlopen(filename_or_url) if re.match(r'https?:', filename_or_url) else open(filename_or_url)).read()\n",
    "    jsonNb = json.loads(nb)\n",
    "    #check for the modified formatting of Jupyter Notebook v4\n",
    "    if(jsonNb['nbformat'] == 4):\n",
    "        exec '\\n'.join([''.join(cell['source']) for cell in jsonNb['cells'] if cell['cell_type'] == 'code']) in globals()\n",
    "    else:\n",
    "        exec '\\n'.join([''.join(cell['input']) for cell in jsonNb['worksheets'][0]['cells'] if cell['cell_type'] == 'code']) in globals()\n",
    "\n",
    "exec_ipynb('timelapse-utilities.ipynb')"
   ]
  },
  {
   "cell_type": "markdown",
   "metadata": {},
   "source": [
    "Downloaded Allegheny_County_Voting_District_Boundaries_Fall_2016__present.zip from https://data.wprdc.org/dataset/allegheny-county-voting-district-boundaries-fall-2016-present\n"
   ]
  },
  {
   "cell_type": "code",
   "execution_count": null,
   "metadata": {
    "collapsed": false
   },
   "outputs": [],
   "source": [
    "!unzip Allegheny_County_Voting_District_Boundaries_Fall_2016__present.zip"
   ]
  },
  {
   "cell_type": "code",
   "execution_count": 2,
   "metadata": {
    "collapsed": false
   },
   "outputs": [
    {
     "name": "stdout",
     "output_type": "stream",
     "text": [
      "\r\n",
      "PROJ.4 : '+proj=longlat +datum=WGS84 +no_defs '\r\n",
      "\r\n",
      "OGC WKT :\r\n",
      "GEOGCS[\"GCS_WGS_1984\",\r\n",
      "    DATUM[\"WGS_1984\",\r\n",
      "        SPHEROID[\"WGS_84\",6378137,298.257223563]],\r\n",
      "    PRIMEM[\"Greenwich\",0],\r\n",
      "    UNIT[\"Degree\",0.017453292519943295]]\r\n",
      "\r\n"
     ]
    }
   ],
   "source": [
    "!gdalsrsinfo Allegheny_County_Voting_District_Boundaries_Fall_2016__present.prj"
   ]
  },
  {
   "cell_type": "code",
   "execution_count": 3,
   "metadata": {
    "collapsed": false
   },
   "outputs": [
    {
     "name": "stdout",
     "output_type": "stream",
     "text": [
      "Shapefile type: Polygon\r\n",
      "Postgis type: MULTIPOLYGON[2]\r\n"
     ]
    }
   ],
   "source": [
    "!shp2pgsql \\\n",
    " Allegheny_County_Voting_District_Boundaries_Fall_2016__present.shp \\\n",
    " allegheny_county_precincts_2016 > create_acvd_2016\n"
   ]
  },
  {
   "cell_type": "code",
   "execution_count": 4,
   "metadata": {
    "collapsed": false
   },
   "outputs": [
    {
     "name": "stdout",
     "output_type": "stream",
     "text": [
      "SET CLIENT_ENCODING TO UTF8;\r\n",
      "SET STANDARD_CONFORMING_STRINGS TO ON;\r\n",
      "BEGIN;\r\n",
      "CREATE TABLE \"allegheny_county_precincts_2016\" (gid serial,\r\n",
      "\"fid\" numeric(10,0),\r\n",
      "\"objectid_1\" numeric(10,0),\r\n",
      "\"district_1\" numeric(10,0),\r\n",
      "\"ward_1\" numeric(10,0),\r\n",
      "\"municode_1\" numeric(10,0),\r\n",
      "\"yrapprov_1\" numeric(10,0),\r\n"
     ]
    }
   ],
   "source": [
    "!head create_acvd_2016"
   ]
  },
  {
   "cell_type": "code",
   "execution_count": 9,
   "metadata": {
    "collapsed": false
   },
   "outputs": [
    {
     "name": "stdout",
     "output_type": "stream",
     "text": [
      "                              addgeometrycolumn                               \r\n",
      "------------------------------------------------------------------------------\r\n",
      " public.allegheny_county_precincts_2016.geom SRID:0 TYPE:MULTIPOLYGON DIMS:2 \r\n",
      "(1 row)\r\n",
      "\r\n"
     ]
    }
   ],
   "source": [
    "!psql -q -d census2010 < create_acvd_2016"
   ]
  },
  {
   "cell_type": "code",
   "execution_count": 10,
   "metadata": {
    "collapsed": false
   },
   "outputs": [
    {
     "name": "stdout",
     "output_type": "stream",
     "text": [
      "\\d allegheny_county_precincts_2016\n",
      "Finished execution in 0.168767 secs:\n",
      "Table \"public.allegheny_county_precincts_2016\"\n",
      "   Column   |          Type          |                                   Modifiers                                   \n",
      "------------+------------------------+-------------------------------------------------------------------------------\n",
      " gid        | integer                | not null default nextval('allegheny_county_precincts_2016_gid_seq'::regclass)\n",
      " fid        | numeric(10,0)          | \n",
      " objectid_1 | numeric(10,0)          | \n",
      " district_1 | numeric(10,0)          | \n",
      " ward_1     | numeric(10,0)          | \n",
      " municode_1 | numeric(10,0)          | \n",
      " yrapprov_1 | numeric(10,0)          | \n",
      " mwd_nopa_1 | character varying(80)  | \n",
      " opa_muni_1 | numeric(10,0)          | \n",
      " mwd_pad_1  | character varying(80)  | \n",
      " pseud4_12  | character varying(80)  | \n",
      " pseudonu_5 | numeric(10,0)          | \n",
      " muni_war_1 | character varying(80)  | \n",
      " geom       | geometry(MultiPolygon) | \n",
      "Indexes:\n",
      "    \"allegheny_county_precincts_2016_pkey\" PRIMARY KEY, btree (gid)\n"
     ]
    }
   ],
   "source": [
    "psql('\\d allegheny_county_precincts_2016')"
   ]
  },
  {
   "cell_type": "code",
   "execution_count": 13,
   "metadata": {
    "collapsed": false
   },
   "outputs": [
    {
     "name": "stdout",
     "output_type": "stream",
     "text": [
      "SELECT fid,objectid_1,district_1,ward_1,municode_1,yrapprov_1,mwd_nopa_1,opa_muni_1,mwd_pad_1,pseud4_12,muni_war_1 FROM allegheny_county_precincts_2016 LIMIT 10\n",
      "Finished execution in 0.108614 secs:\n",
      "fid  | objectid_1 | district_1 | ward_1 | municode_1 | yrapprov_1 | mwd_nopa_1 | opa_muni_1 | mwd_pad_1 | pseud4_12 |        muni_war_1         \n",
      "------+------------+------------+--------+------------+------------+------------+------------+-----------+-----------+---------------------------\n",
      " 1001 |       1004 |          4 |      0 |        104 |       1994 | 10404      |        877 | 1040004   | 0014      | BALDWIN BR DIST 4\n",
      " 1002 |       1005 |          7 |     29 |        188 |       1988 | 188297     |        100 | 18802907  | 0961      | PITTSBURGH WARD 29 DIST 7\n",
      " 1003 |       1006 |          1 |      8 |        198 |       1993 | 19881      |        941 | 1980801   | 1094      | SCOTT WARD 8 DIST 1\n",
      " 1004 |       1007 |          2 |      0 |        132 |          0 | 13202      |        821 | 1320002   | 0175      | E MCKEESPORT DIST 2\n",
      " 1022 |       1025 |          3 |      0 |        132 |          0 | 13203      |        821 | 1320003   | 0176      | E MCKEESPORT DIST 3\n",
      " 1101 |       1104 |          7 |      7 |        168 |       1990 | 16877      |        400 | 1680707   | 0352      | MCKEESPORT WARD 7 DIST 7\n",
      " 1005 |       1008 |          1 |     32 |        188 |       1988 | 188321     |        100 | 18803201  | 0979      | PITTSBURGH WARD 32 DIST 1\n",
      " 1006 |       1009 |          2 |      2 |        179 |       1990 | 17922      |        930 | 1790202   | 0492      | N VERSAILLES WD 2 DIST 2\n",
      " 1007 |       1010 |          5 |     31 |        188 |       1988 | 188315     |        100 | 18803105  | 0976      | PITTSBURGH WARD 31 DIST 5\n",
      " 1008 |       1011 |         12 |      0 |        175 |          0 | 175012     |        840 | 17500012  | 0473      | MUNHALL DIST 12\n",
      "(10 rows)\n"
     ]
    }
   ],
   "source": [
    "psql('SELECT fid,objectid_1,district_1,ward_1,municode_1,yrapprov_1,mwd_nopa_1,opa_muni_1,mwd_pad_1,pseud4_12,muni_war_1 FROM allegheny_county_precincts_2016 LIMIT 10')"
   ]
  },
  {
   "cell_type": "markdown",
   "metadata": {},
   "source": [
    "Next steps:\n",
    "\n",
    "Download Results by Precinct from 2016 election, like so:\n",
    "\n",
    "https://data.wprdc.org/dataset/election-results/resource/3e8b23b7-aa71-4850-9379-bce87f73d684\n",
    "\n",
    "Either SQL JOIN, or python, to connect each precinct name to a maximum population, which could be total # of reg voters, or could be all the number of votes for all pres candidates put together.\n",
    "\n",
    "For each precinct, compute MAXPOP random dots.\n"
   ]
  },
  {
   "cell_type": "markdown",
   "metadata": {},
   "source": [
    "tiger2010_census2000_blocks and tiger2010_census2010_blocks\n",
    "----------------------------------"
   ]
  },
  {
   "cell_type": "code",
   "execution_count": null,
   "metadata": {
    "collapsed": false
   },
   "outputs": [],
   "source": [
    "psql('\\d tiger2010_census2000_blocks')\n",
    "psql('\\d tiger2010_census2010_blocks')"
   ]
  },
  {
   "cell_type": "code",
   "execution_count": null,
   "metadata": {
    "collapsed": true
   },
   "outputs": [],
   "source": [
    "psql('SELECT COUNT(*) FROM tiger2010_census2000_blocks')\n",
    "psql('SELECT COUNT(*) FROM tiger2010_census2010_blocks')"
   ]
  },
  {
   "cell_type": "code",
   "execution_count": null,
   "metadata": {
    "collapsed": false
   },
   "outputs": [],
   "source": [
    "!pg_dump -t tiger2010_census2010_blocks timelapse | psql census2010"
   ]
  },
  {
   "cell_type": "code",
   "execution_count": null,
   "metadata": {
    "collapsed": false
   },
   "outputs": [],
   "source": [
    "psql(\"SELECT SUM(ST_AREA(geography(geom))) FROM tiger2010_census2000_blocks\")\n",
    "psql(\"SELECT SUM(ST_AREA(geography(geom))) FROM tiger2010_census2010_blocks\")"
   ]
  },
  {
   "cell_type": "code",
   "execution_count": 14,
   "metadata": {
    "collapsed": false
   },
   "outputs": [
    {
     "name": "stdout",
     "output_type": "stream",
     "text": [
      "00 Import 2000 Census Block Shapefiles.ipynb:    \"    sudo -u postgres createuser --superuser $USER\\n\",\n",
      "01 Import 2000-2010 Census Block Shapefiles.ipynb:    \"    sudo -u postgres createuser --superuser $USER\\n\",\n",
      "grep: capture: Is a directory\n",
      "grep: columncache: Is a directory\n",
      "grep: od-JT01-2011-home-tiles: Is a directory\n",
      "grep: prototiles: Is a directory\n",
      "grep: prototiles2: Is a directory\n"
     ]
    }
   ],
   "source": [
    "!grep createuser *"
   ]
  },
  {
   "cell_type": "code",
   "execution_count": null,
   "metadata": {
    "collapsed": true
   },
   "outputs": [],
   "source": []
  }
 ],
 "metadata": {
  "anaconda-cloud": {},
  "kernelspec": {
   "display_name": "Python [default]",
   "language": "python",
   "name": "python2"
  },
  "language_info": {
   "codemirror_mode": {
    "name": "ipython",
    "version": 2
   },
   "file_extension": ".py",
   "mimetype": "text/x-python",
   "name": "python",
   "nbconvert_exporter": "python",
   "pygments_lexer": "ipython2",
   "version": "2.7.12"
  }
 },
 "nbformat": 4,
 "nbformat_minor": 0
}
