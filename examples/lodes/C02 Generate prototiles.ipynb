{
 "cells": [
  {
   "cell_type": "code",
   "execution_count": 44,
   "metadata": {
    "collapsed": false
   },
   "outputs": [
    {
     "name": "stdout",
     "output_type": "stream",
     "text": [
      "set default_psql_database to census2010\n"
     ]
    }
   ],
   "source": [
    "import array, csv, fcntl, glob, json, math, multiprocessing, os, random, re, shutil\n",
    "import shapely, shapely.wkb, struct, subprocess, sys, threading, urllib2\n",
    "\n",
    "def exec_ipynb(filename_or_url):\n",
    "    nb = (urllib2.urlopen(filename_or_url) if re.match(r'https?:', filename_or_url) else open(filename_or_url)).read()\n",
    "    jsonNb = json.loads(nb)\n",
    "    #check for the modified formatting of Jupyter Notebook v4\n",
    "    if(jsonNb['nbformat'] == 4):\n",
    "        exec '\\n'.join([''.join(cell['source']) for cell in jsonNb['cells'] if cell['cell_type'] == 'code']) in globals()\n",
    "    else:\n",
    "        exec '\\n'.join([''.join(cell['input']) for cell in jsonNb['worksheets'][0]['cells'] if cell['cell_type'] == 'code']) in globals()\n",
    "\n",
    "exec_ipynb('timelapse-utilities.ipynb')\n",
    "\n",
    "set_default_psql_database('census2010')"
   ]
  },
  {
   "cell_type": "code",
   "execution_count": 2,
   "metadata": {
    "collapsed": false
   },
   "outputs": [],
   "source": [
    "try:\n",
    "    import pyproj\n",
    "except:\n",
    "    !pip install pyproj\n",
    "    import pyproj"
   ]
  },
  {
   "cell_type": "code",
   "execution_count": 3,
   "metadata": {
    "collapsed": true
   },
   "outputs": [],
   "source": [
    "try:\n",
    "    import shapely\n",
    "except:\n",
    "    !pip install shapely==1.6b2\n",
    "    import shapely"
   ]
  },
  {
   "cell_type": "code",
   "execution_count": 4,
   "metadata": {
    "collapsed": false
   },
   "outputs": [],
   "source": [
    "def LonLatToPixelXY(lonlat, scale = 1.):\n",
    "    (lon, lat) = lonlat\n",
    "    x = (lon + 180.0) * 256.0 / 360.0\n",
    "    y = 128.0 - math.log(math.tan((lat + 90.0) * math.pi / 360.0)) * 128.0 / math.pi\n",
    "    return [x*scale, y*scale]"
   ]
  },
  {
   "cell_type": "code",
   "execution_count": 5,
   "metadata": {
    "collapsed": false
   },
   "outputs": [],
   "source": [
    "def randomPoint(poly):\n",
    "    bbox = poly.bounds\n",
    "    l,b,r,t = bbox\n",
    "    while True:\n",
    "        point = shapely.geometry.point.Point(random.uniform(l,r), random.uniform(t,b))\n",
    "        if point is None:\n",
    "            break\n",
    "        if poly.contains(point):\n",
    "            break\n",
    "    return point.__geo_interface__['coordinates']"
   ]
  },
  {
   "cell_type": "markdown",
   "metadata": {},
   "source": [
    "\n",
    "Create census2010_block_idxs mapping each geoid2010 to a sequential integer\n",
    "---------------------------------------------------------------------------"
   ]
  },
  {
   "cell_type": "code",
   "execution_count": 6,
   "metadata": {
    "collapsed": false
   },
   "outputs": [
    {
     "name": "stdout",
     "output_type": "stream",
     "text": [
      "\\d census2010_block_idxs\n",
      "Finished execution in 0.904316 secs: Table \"public.census2010_block_idxs\"\n",
      "    Column    |       Type        |                                  Modifiers                                   \n",
      "--------------+-------------------+------------------------------------------------------------------------------\n",
      " blockidx2010 | integer           | not null default nextval('census2010_block_idxs_blockidx2010_seq'::regclass)\n",
      " geoid2010    | character varying | \n",
      "Indexes:\n",
      "    \"census2010_block_idxs_pkey\" PRIMARY KEY, btree (blockidx2010)\n",
      "    \"census2010_block_idxs_geoid2010_idx\" UNIQUE, btree (geoid2010)\n",
      "SELECT COUNT(*) FROM census2010_block_idxs\n",
      "Finished execution in 1.38568 secs: count   \n",
      "----------\n",
      " 11078297\n",
      "(1 row)\n",
      "SELECT * FROM census2010_block_idxs ORDER BY geoid2010 LIMIT 5\n",
      "Finished execution in 0.108793 secs: blockidx2010 |    geoid2010    \n",
      "--------------+-----------------\n",
      "            1 | 010010201001000\n",
      "            2 | 010010201001001\n",
      "            3 | 010010201001002\n",
      "            4 | 010010201001003\n",
      "            5 | 010010201001004\n",
      "(5 rows)\n"
     ]
    }
   ],
   "source": [
    "regenerate_census2010_block_idxs = False\n",
    "\n",
    "if regenerate_census2010_block_idxs:\n",
    "    psql(\"\"\"\n",
    "DROP TABLE census2010_block_idxs;\n",
    "CREATE TABLE census2010_block_idxs (blockidx2010 SERIAL PRIMARY KEY,\n",
    "                                   geoid2010 VARCHAR);\n",
    "\n",
    "INSERT INTO census2010_block_idxs \n",
    "SELECT nextval('census2010_block_idxs_blockidx2010_seq'), geoid10\n",
    "FROM tiger2010_census2010_blocks\n",
    "ORDER BY geoid10;\n",
    "CREATE UNIQUE INDEX ON census2010_block_idxs (geoid2010);\n",
    "\"\"\")\n",
    "    \n",
    "psql(\"\\d census2010_block_idxs\")\n",
    "psql(\"SELECT COUNT(*) FROM census2010_block_idxs\")\n",
    "psql(\"SELECT * FROM census2010_block_idxs ORDER BY geoid2010 LIMIT 5\")"
   ]
  },
  {
   "cell_type": "code",
   "execution_count": 61,
   "metadata": {
    "collapsed": false
   },
   "outputs": [
    {
     "name": "stdout",
     "output_type": "stream",
     "text": [
      "SELECT SUM(GREATEST(a.p001001, b.p001001))\n",
      "FROM sf1_2010_block_p001 as a\n",
      "JOIN sf1_2000_int2010_p001 as b USING (geoid2010)\n",
      "Finished execution in 14.3458 secs: sum        \n",
      "------------------\n",
      " 341321396.909159\n",
      "(1 row)\n"
     ]
    }
   ],
   "source": [
    "#psql('SELECT SUM(p001001) FROM sf1_2000_int2010_p001')\n",
    "#psql('SELECT SUM(p001001) FROM sf1_2010_block_p001')\n",
    "psql(\"\"\"\n",
    "SELECT SUM(GREATEST(a.p001001, b.p001001))\n",
    "FROM sf1_2010_block_p001 as a\n",
    "JOIN sf1_2000_int2010_p001 as b USING (geoid2010)\n",
    "\"\"\")\n",
    "\n"
   ]
  },
  {
   "cell_type": "code",
   "execution_count": 59,
   "metadata": {
    "collapsed": false
   },
   "outputs": [
    {
     "name": "stdout",
     "output_type": "stream",
     "text": [
      "SELECT COUNT(*) FROM census2010_block_idxs as i\n",
      "JOIN tiger2010_census2010_blocks as shapes ON (i.geoid2010=shapes.geoid10)\n",
      "JOIN sf1_2010_block_p001 as a USING (geoid2010)\n",
      "LEFT JOIN sf1_2000_int2010_p001 as b USING (geoid2010)\n",
      "Finished execution in 35.8532 secs: count   \n",
      "----------\n",
      " 11078297\n",
      "(1 row)\n"
     ]
    }
   ],
   "source": [
    "#psql(\"SELECT COUNT(*) FROM census2010_block_idxs\")\n",
    "#psql(\"SELECT COUNT(*) FROM tiger2010_census2010_blocks\")\n",
    "#psql(\"SELECT COUNT(*) FROM sf1_2010_block_p001\")\n",
    "#psql(\"SELECT COUNT(*) FROM sf1_2010_block_p001 WHERE LEFT(geoid2010,2) != '72'\")\n",
    "#psql(\"SELECT COUNT(*) FROM sf1_2000_int2010_p001\")\n",
    "\n",
    "psql(\"\"\"\n",
    "SELECT COUNT(*) FROM census2010_block_idxs as i\n",
    "JOIN tiger2010_census2010_blocks as shapes ON (i.geoid2010=shapes.geoid10)\n",
    "JOIN sf1_2010_block_p001 as a USING (geoid2010)\n",
    "LEFT JOIN sf1_2000_int2010_p001 as b USING (geoid2010)\n",
    "\"\"\")"
   ]
  },
  {
   "cell_type": "code",
   "execution_count": 62,
   "metadata": {
    "collapsed": false
   },
   "outputs": [
    {
     "name": "stdout",
     "output_type": "stream",
     "text": [
      "SELECT SUM(GREATEST(a.p001001, b.p001001))\n",
      "FROM census2010_block_idxs as i\n",
      "JOIN tiger2010_census2010_blocks as shapes ON (i.geoid2010=shapes.geoid10)\n",
      "JOIN sf1_2010_block_p001 as a USING (geoid2010)\n",
      "JOIN sf1_2000_int2010_p001 as b USING (geoid2010)\n",
      "Finished execution in 38.3241 secs: sum        \n",
      "------------------\n",
      " 341321396.909154\n",
      "(1 row)\n"
     ]
    }
   ],
   "source": [
    "psql(\"\"\"\n",
    "SELECT SUM(GREATEST(a.p001001, b.p001001))\n",
    "FROM census2010_block_idxs as i\n",
    "JOIN tiger2010_census2010_blocks as shapes ON (i.geoid2010=shapes.geoid10)\n",
    "JOIN sf1_2010_block_p001 as a USING (geoid2010)\n",
    "JOIN sf1_2000_int2010_p001 as b USING (geoid2010)\n",
    "\"\"\")"
   ]
  },
  {
   "cell_type": "markdown",
   "metadata": {},
   "source": [
    "Compute dots for max(2010, 2000 interpolated) block population, by geoid2010\n",
    "----------------------------------------------------------------------------"
   ]
  },
  {
   "cell_type": "code",
   "execution_count": 68,
   "metadata": {
    "collapsed": true
   },
   "outputs": [],
   "source": [
    "max_psql_parallelism = 8\n",
    "psql_semaphore = multiprocessing.Semaphore(max_psql_parallelism)\n",
    "\n",
    "def query_psql_throttled(query, quiet=False):\n",
    "    psql_semaphore.acquire()\n",
    "    try:\n",
    "        rows = query_psql(query, quiet=quiet)\n",
    "    finally:\n",
    "        psql_semaphore.release()\n",
    "    return rows"
   ]
  },
  {
   "cell_type": "code",
   "execution_count": 85,
   "metadata": {
    "collapsed": false,
    "scrolled": true
   },
   "outputs": [],
   "source": [
    "record_format = '<ffii'\n",
    "record_len = struct.calcsize(record_format)\n",
    "\n",
    "def process_shard(start_idx, end_idx_exclusive):\n",
    "    end_idx_inclusive = end_idx_exclusive - 1\n",
    "    shard_filename = 'shards/protomaster-%08d' % start_idx\n",
    "    if os.path.exists(shard_filename):\n",
    "        sys.stdout.write('%s already exists\\n' % shard_filename)\n",
    "        return shard_filename\n",
    "    shard_out = open(shard_filename + '.tmp', 'wb')\n",
    "    query = \"\"\"\n",
    "SELECT i.blockidx2010, GREATEST(a.p001001, b.p001001), shapes.geom\n",
    "FROM (SELECT * FROM census2010_block_idxs WHERE blockidx2010 BETWEEN {start_idx} AND {end_idx_inclusive}) as i\n",
    "JOIN tiger2010_census2010_blocks as shapes ON (i.geoid2010=shapes.geoid10)\n",
    "JOIN sf1_2010_block_p001 as a USING (geoid2010)\n",
    "JOIN sf1_2000_int2010_p001 as b USING (geoid2010)\n",
    "\"\"\".format(**locals())\n",
    "    rows = query_psql_throttled(query, quiet=True)\n",
    "    begin_time = time.time()\n",
    "\n",
    "    points = []\n",
    "    population = 0\n",
    "    dots = 0\n",
    "    for (blockIdx, pop, geom) in rows:\n",
    "        population += pop\n",
    "        polygon = shapely.wkb.loads(geom, hex=True)\n",
    "\n",
    "        for i in range(int(math.ceil(pop))):\n",
    "            dots += 1\n",
    "            point = LonLatToPixelXY(randomPoint(polygon))\n",
    "            points.append(struct.pack(record_format, \n",
    "                                      point[0], point[1],\n",
    "                                      blockIdx, i))\n",
    "        if len(points) >= 10000:\n",
    "            shard_out.write(''.join(points))\n",
    "            points = []\n",
    "    shard_out.write(''.join(points))\n",
    "    shard_out.close()\n",
    "    sys.stdout.write(\"Shard {shard_filename} has population {population} and {dots} dots\\n\".format(**locals()))\n",
    "    os.rename(shard_filename + '.tmp', shard_filename)\n",
    "    sys.stdout.write(\"Finished %s with %d rows in %g seconds\\n\" % (shard_filename, len(rows), time.time() - begin_time))\n",
    "    return shard_filename"
   ]
  },
  {
   "cell_type": "code",
   "execution_count": 86,
   "metadata": {
    "collapsed": false,
    "scrolled": true
   },
   "outputs": [
    {
     "name": "stdout",
     "output_type": "stream",
     "text": [
      "Execution of SELECT MAX(blockidx2010) FROM census2010_block_idxs\n",
      "took 0.00255704 seconds and returned 1 rows\n",
      "Max block idx is 11078297\n",
      "Starting shards with maximum index 11078297\n",
      "Shard shards/protomaster-02600000 has population 913003.11122 and 922213 dots\n",
      "Finished shards/protomaster-02600000 with 100000 rows in 492.343 seconds\n",
      "Shard shards/protomaster-03000000 has population 1834620.37559 and 1843066 dots\n",
      "Finished shards/protomaster-03000000 with 100000 rows in 854.824 seconds\n",
      "Shard shards/protomaster-00600000 has population 1712061.41818 and 1720744 dots\n",
      "Finished shards/protomaster-00600000 with 100000 rows in 936.057 seconds\n",
      "Shard shards/protomaster-00500000 has population 1858008.88365 and 1868058 dots\n",
      "Finished shards/protomaster-00500000 with 100000 rows in 1020.99 seconds\n",
      "Shard shards/protomaster-00000000 has population 1829164.76369 and 1837863 dots\n",
      "Finished shards/protomaster-00000000 with 99999 rows in 1070.45 seconds\n",
      "Shard shards/protomaster-00300000 has population 2425152.36347 and 2432416 dots\n",
      "Finished shards/protomaster-00300000 with 100000 rows in 1192.37 seconds\n",
      "Shard shards/protomaster-00200000 has population 1879484.86862 and 1887326 dots\n",
      "Finished shards/protomaster-00200000 with 100000 rows in 1238.85 seconds\n",
      "Shard shards/protomaster-02800000 has population 2846201.2022 and 2855249 dots\n",
      "Finished shards/protomaster-02800000 with 100000 rows in 1255.19 seconds\n",
      "Shard shards/protomaster-01500000 has population 2305482.21609 and 2315523 dots\n",
      "Finished shards/protomaster-01500000 with 100000 rows in 1302.3 seconds\n",
      "Shard shards/protomaster-00100000 has population 2513883.2006 and 2527342 dots\n",
      "Finished shards/protomaster-00100000 with 100000 rows in 1405.28 seconds\n",
      "Shard shards/protomaster-03100000 has population 2843171.04606 and 2853788 dots\n",
      "Finished shards/protomaster-03100000 with 100000 rows in 1373.66 seconds\n",
      "Shard shards/protomaster-02900000 has population 3042065.41861 and 3050205 dots\n",
      "Finished shards/protomaster-02900000 with 100000 rows in 1451.37 seconds\n",
      "Shard shards/protomaster-02400000 has population 2592865.91124 and 2601502 dots\n",
      "Finished shards/protomaster-02400000 with 100000 rows in 1494.98 seconds\n",
      "Shard shards/protomaster-00800000 has population 3282022.2623 and 3287914 dots\n",
      "Finished shards/protomaster-00800000 with 100000 rows in 1525.38 seconds\n",
      "Shard shards/protomaster-03600000 has population 1022284.97778 and 1030816 dots\n",
      "Finished shards/protomaster-03600000 with 100000 rows in 464.33 seconds\n",
      "Shard shards/protomaster-03400000 has population 1288887.68071 and 1296398 dots\n",
      "Finished shards/protomaster-03400000 with 100000 rows in 602.63 seconds\n",
      "Shard shards/protomaster-02500000 has population 2732048.93888 and 2741057 dots\n",
      "Finished shards/protomaster-02500000 with 100000 rows in 1623.58 seconds\n",
      "Shard shards/protomaster-03700000 has population 1326852.32448 and 1335492 dots\n",
      "Finished shards/protomaster-03700000 with 100000 rows in 620.981 seconds\n",
      "Shard shards/protomaster-01900000 has population 3407694.53747 and 3415376 dots\n",
      "Finished shards/protomaster-01900000 with 100000 rows in 1903.27 seconds\n",
      "Shard shards/protomaster-03500000 has population 1971318.62742 and 1979354 dots\n",
      "Finished shards/protomaster-03500000 with 100000 rows in 906.774 seconds\n",
      "Shard shards/protomaster-00400000 has population 3909322.03205 and 3916679 dots\n",
      "Finished shards/protomaster-00400000 with 100000 rows in 1974.66 seconds\n",
      "Shard shards/protomaster-03300000 has population 2386402.2531 and 2396900 dots\n",
      "Finished shards/protomaster-03300000 with 100000 rows in 1137.45 seconds\n",
      "Shard shards/protomaster-03200000 has population 3283480.31142 and 3292610 dots\n",
      "Finished shards/protomaster-03200000 with 100000 rows in 1572.46 seconds\n",
      "Shard shards/protomaster-01400000 has population 4210781.2477 and 4218848 dots\n",
      "Finished shards/protomaster-01400000 with 100000 rows in 2130.04 seconds\n",
      "Shard shards/protomaster-02700000 has population 5276982.38192 and 5293344 dots\n",
      "Finished shards/protomaster-02700000 with 100000 rows in 2147.1 seconds\n",
      "Shard shards/protomaster-01800000 has population 3889578.78897 and 3898644 dots\n",
      "Finished shards/protomaster-01800000 with 100000 rows in 2191.08 seconds\n",
      "Shard shards/protomaster-02200000 has population 3694271.80508 and 3703378 dots\n",
      "Finished shards/protomaster-02200000 with 100000 rows in 2208.33 seconds\n",
      "Shard shards/protomaster-02100000 has population 3719839.72753 and 3728896 dots\n",
      "Finished shards/protomaster-02100000 with 100000 rows in 2230.42 seconds\n",
      "Shard shards/protomaster-01600000 has population 4273914.35535 and 4282463 dots\n",
      "Finished shards/protomaster-01600000 with 100000 rows in 2352.18 seconds\n",
      "Shard shards/protomaster-01300000 has population 4610590.88962 and 4618877 dots\n",
      "Finished shards/protomaster-01300000 with 100000 rows in 2474.22 seconds\n",
      "Shard shards/protomaster-00700000 has population 4584397.67071 and 4593286 dots\n",
      "Finished shards/protomaster-00700000 with 100000 rows in 2525.2 seconds\n",
      "Shard shards/protomaster-03800000 has population 2481537.28466 and 2490576 dots\n",
      "Finished shards/protomaster-03800000 with 100000 rows in 1392.09 seconds\n",
      "Shard shards/protomaster-04200000 has population 1948727.95671 and 1956526 dots\n",
      "Finished shards/protomaster-04200000 with 100000 rows in 1260.19 seconds\n",
      "Shard shards/protomaster-05700000 has population 804786.583463 and 813091 dots\n",
      "Finished shards/protomaster-05700000 with 100000 rows in 506.675 seconds\n",
      "Shard shards/protomaster-05900000 has population 1083782.27046 and 1094508 dots\n",
      "Finished shards/protomaster-05900000 with 100000 rows in 499.977 seconds\n",
      "Shard shards/protomaster-04600000 has population 2474768.35707 and 2482373 dots\n",
      "Finished shards/protomaster-04600000 with 100000 rows in 1232.88 seconds\n",
      "Shard shards/protomaster-01700000 has population 5068697.08245 and 5076071 dots\n",
      "Finished shards/protomaster-01700000 with 100000 rows in 2775.74 seconds\n",
      "Shard shards/protomaster-05800000 has population 1174900.66398 and 1184635 dots\n",
      "Finished shards/protomaster-05800000 with 100000 rows in 564.437 seconds\n",
      "Shard shards/protomaster-02300000 has population 4847101.50161 and 4857179 dots\n",
      "Finished shards/protomaster-02300000 with 100000 rows in 2841.85 seconds\n",
      "Shard shards/protomaster-01000000 has population 5237475.69362 and 5245701 dots\n",
      "Finished shards/protomaster-01000000 with 100000 rows in 2869.02 seconds\n",
      "Shard shards/protomaster-05300000 has population 1585389.54439 and 1594512 dots\n",
      "Finished shards/protomaster-05300000 with 100000 rows in 880.554 seconds\n",
      "Shard shards/protomaster-04000000 has population 2841344.8552 and 2849680 dots\n",
      "Finished shards/protomaster-04000000 with 100000 rows in 1617.71 seconds\n",
      "Shard shards/protomaster-04100000 has population 2546603.67244 and 2554603 dots\n",
      "Finished shards/protomaster-04100000 with 100000 rows in 1540.41 seconds\n",
      "Shard shards/protomaster-01100000 has population 5976531.87505 and 5982774 dots\n",
      "Finished shards/protomaster-01100000 with 100000 rows in 2962.98 seconds\n",
      "Shard shards/protomaster-05500000 has population 1614652.78346 and 1623692 dots\n",
      "Finished shards/protomaster-05500000 with 100000 rows in 854.247 seconds\n",
      "Shard shards/protomaster-05000000 has population 2207419.96497 and 2214946 dots\n",
      "Finished shards/protomaster-05000000 with 100000 rows in 1081.12 seconds\n",
      "Shard shards/protomaster-05100000 has population 2237866.84269 and 2245218 dots\n",
      "Finished shards/protomaster-05100000 with 100000 rows in 1157.82 seconds\n",
      "Shard shards/protomaster-05400000 has population 2000988.48923 and 2009803 dots\n",
      "Finished shards/protomaster-05400000 with 100000 rows in 1008.54 seconds\n",
      "Shard shards/protomaster-03900000 has population 2965432.23616 and 2977085 dots\n",
      "Finished shards/protomaster-03900000 with 100000 rows in 1921.21 seconds\n",
      "Shard shards/protomaster-05200000 has population 2234619.45629 and 2242739 dots\n",
      "Finished shards/protomaster-05200000 with 100000 rows in 1237.71 seconds\n",
      "Shard shards/protomaster-04700000 has population 3363778.28939 and 3371499 dots\n",
      "Finished shards/protomaster-04700000 with 100000 rows in 1657.13 seconds\n",
      "Shard shards/protomaster-02000000 has population 5979512.48232 and 5987271 dots\n",
      "Finished shards/protomaster-02000000 with 100000 rows in 3266.01 seconds\n",
      "Shard shards/protomaster-06400000 has population 1058679.22909 and 1066976 dots\n",
      "Finished shards/protomaster-06400000 with 100000 rows in 632.95 seconds\n",
      "Shard shards/protomaster-07200000 has population 874075.497797 and 884678 dots\n",
      "Finished shards/protomaster-07200000 with 100000 rows in 445.34 seconds\n",
      "Shard shards/protomaster-01200000 has population 6349513.93123 and 6359347 dots\n",
      "Finished shards/protomaster-01200000 with 100000 rows in 3408.45 seconds\n",
      "Shard shards/protomaster-04900000 has population 3183409.76467 and 3190469 dots\n",
      "Finished shards/protomaster-04900000 with 100000 rows in 1596.91 seconds\n",
      "Shard shards/protomaster-04400000 has population 3430598.9357 and 3442247 dots\n",
      "Finished shards/protomaster-04400000 with 100000 rows in 1905.76 seconds\n",
      "Shard shards/protomaster-07700000 has population 898748.627544 and 908698 dots\n",
      "Finished shards/protomaster-07700000 with 100000 rows in 462.853 seconds\n",
      "Shard shards/protomaster-04800000 has population 3845735.62917 and 3852692 dots\n",
      "Finished shards/protomaster-04800000 with 100000 rows in 1845.89 seconds\n",
      "Shard shards/protomaster-05600000 has population 2506771.53762 and 2517819 dots\n",
      "Finished shards/protomaster-05600000 with 100000 rows in 1398.12 seconds\n",
      "Shard shards/protomaster-06000000 has population 2809794.48885 and 2818589 dots\n",
      "Finished shards/protomaster-06000000 with 100000 rows in 1433.13 seconds\n",
      "Shard shards/protomaster-07600000 has population 1829704.95725 and 1841014 dots\n",
      "Finished shards/protomaster-07600000 with 100000 rows in 943.127 seconds\n",
      "Shard shards/protomaster-07900000 has population 1466343.99107 and 1474378 dots\n",
      "Finished shards/protomaster-07900000 with 100000 rows in 889.311 seconds\n",
      "Shard shards/protomaster-07100000 has population 2138713.1112 and 2148660 dots\n",
      "Finished shards/protomaster-07100000 with 100000 rows in 1244.25 seconds\n",
      "Shard shards/protomaster-07800000 has population 2309730.99484 and 2318376 dots\n",
      "Finished shards/protomaster-07800000 with 100000 rows in 1104.04 seconds\n",
      "Shard shards/protomaster-00900000 has population 9084689.10592 and 9092784 dots\n",
      "Finished shards/protomaster-00900000 with 100000 rows in 4251.53 seconds\n",
      "Shard shards/protomaster-04500000 has population 4930041.1025 and 4939209 dots\n",
      "Finished shards/protomaster-04500000 with 100000 rows in 2762.4 seconds\n",
      "Shard shards/protomaster-06300000 has population 3107344.51081 and 3113920 dots\n",
      "Finished shards/protomaster-06300000 with 100000 rows in 1692.63 seconds\n",
      "Shard shards/protomaster-08700000 has population 1792652.27786 and 1800968 dots\n",
      "Finished shards/protomaster-08700000 with 100000 rows in 1008.08 seconds\n",
      "Shard shards/protomaster-04300000 has population 4955091.65397 and 4967775 dots\n",
      "Finished shards/protomaster-04300000 with 100000 rows in 3014.2 seconds\n",
      "Shard shards/protomaster-07500000 has population 3173044.71716 and 3181705 dots\n",
      "Finished shards/protomaster-07500000 with 100000 rows in 1550.01 seconds\n",
      "Shard shards/protomaster-06100000 has population 3668430.10795 and 3675566 dots\n",
      "Finished shards/protomaster-06100000 with 100000 rows in 2095.07 seconds\n",
      "Shard shards/protomaster-08000000 has population 2678980.17833 and 2686296 dots\n",
      "Finished shards/protomaster-08000000 with 100000 rows in 1362.66 seconds\n",
      "Shard shards/protomaster-06800000 has population 3385466.56449 and 3394109 dots\n",
      "Finished shards/protomaster-06800000 with 100000 rows in 2020.28 seconds\n",
      "Shard shards/protomaster-07400000 has population 3708558.74746 and 3717819 dots\n",
      "Finished shards/protomaster-07400000 with 100000 rows in 1865.04 seconds\n",
      "Shard shards/protomaster-08800000 has population 2271247.19533 and 2279861 dots\n",
      "Finished shards/protomaster-08800000 with 100000 rows in 1390.49 seconds\n",
      "Shard shards/protomaster-06900000 has population 3523692.39718 and 3533955 dots\n",
      "Finished shards/protomaster-06900000 with 100000 rows in 2082.64 seconds\n",
      "Shard shards/protomaster-08300000 has population 2956019.96789 and 2966385 dots\n",
      "Finished shards/protomaster-08300000 with 100000 rows in 1659.12 seconds\n",
      "Shard shards/protomaster-08200000 has population 3113562.41089 and 3125426 dots\n",
      "Finished shards/protomaster-08200000 with 100000 rows in 1800.55 seconds\n",
      "Shard shards/protomaster-07000000 has population 3719443.50663 and 3729382 dots\n",
      "Finished shards/protomaster-07000000 with 100000 rows in 2239.03 seconds\n",
      "Shard shards/protomaster-08900000 has population 2609690.325 and 2618352 dots\n",
      "Finished shards/protomaster-08900000 with 100000 rows in 1621.37 seconds\n",
      "Shard shards/protomaster-06500000 has population 4564494.20221 and 4571469 dots\n",
      "Finished shards/protomaster-06500000 with 100000 rows in 2401.59 seconds\n",
      "Shard shards/protomaster-08600000 has population 2880060.19127 and 2888469 dots\n",
      "Finished shards/protomaster-08600000 with 100000 rows in 1738.45 seconds\n",
      "Shard shards/protomaster-09600000 has population 1720038.60517 and 1725938 dots\n",
      "Finished shards/protomaster-09600000 with 100000 rows in 957.825 seconds\n",
      "Shard shards/protomaster-08100000 has population 3553638.91478 and 3565837 dots\n",
      "Finished shards/protomaster-08100000 with 100000 rows in 2038.03 seconds\n",
      "Shard shards/protomaster-09000000 has population 3136297.88908 and 3144366 dots\n",
      "Finished shards/protomaster-09000000 with 100000 rows in 1752.78 seconds\n",
      "Shard shards/protomaster-07300000 has population 4702962.31618 and 4711529 dots\n",
      "Finished shards/protomaster-07300000 with 100000 rows in 2328.61 seconds\n",
      "Shard shards/protomaster-08400000 has population 3756601.23536 and 3765573 dots\n",
      "Finished shards/protomaster-08400000 with 100000 rows in 1985.39 seconds\n",
      "Shard shards/protomaster-11000000 has population 573938.036417 and 579655 dots\n",
      "Finished shards/protomaster-11000000 with 78298 rows in 315.237 seconds\n",
      "Shard shards/protomaster-08500000 has population 3276714.35052 and 3286466 dots\n",
      "Finished shards/protomaster-08500000 with 100000 rows in 1975.19 seconds\n",
      "Shard shards/protomaster-09100000 has population 3329152.87008 and 3336172 dots\n",
      "Finished shards/protomaster-09100000 with 100000 rows in 1777.38 seconds\n",
      "Shard shards/protomaster-09700000 has population 2002853.07798 and 2008907 dots\n",
      "Finished shards/protomaster-09700000 with 100000 rows in 1119.59 seconds\n",
      "Shard shards/protomaster-09900000 has population 2194041.28795 and 2200561 dots\n",
      "Finished shards/protomaster-09900000 with 100000 rows in 1141.65 seconds\n",
      "Shard shards/protomaster-09300000 has population 3008411.04973 and 3016202 dots\n",
      "Finished shards/protomaster-09300000 with 100000 rows in 1542.97 seconds\n",
      "Shard shards/protomaster-06200000 has population 5915587.83579 and 5922086 dots\n",
      "Finished shards/protomaster-06200000 with 100000 rows in 3089.18 seconds\n",
      "Shard shards/protomaster-09500000 has population 3078098.6339 and 3085651 dots\n",
      "Finished shards/protomaster-09500000 with 100000 rows in 1505.11 seconds\n",
      "Shard shards/protomaster-10000000 has population 2707099.44757 and 2714332 dots\n",
      "Finished shards/protomaster-10000000 with 100000 rows in 1204.04 seconds\n",
      "Shard shards/protomaster-09200000 has population 4037346.67019 and 4044738 dots\n",
      "Finished shards/protomaster-09200000 with 100000 rows in 1866.75 seconds\n",
      "Shard shards/protomaster-06700000 has population 6107091.33057 and 6112895 dots\n",
      "Finished shards/protomaster-06700000 with 100000 rows in 2910.52 seconds\n",
      "Shard shards/protomaster-10700000 has population 1940765.54826 and 1950105 dots\n",
      "Finished shards/protomaster-10700000 with 100000 rows in 858.03 seconds\n",
      "Shard shards/protomaster-10600000 has population 1638099.64733 and 1651960 dots\n",
      "Finished shards/protomaster-10600000 with 100000 rows in 914.55 seconds\n",
      "Shard shards/protomaster-10900000 has population 2158239.67316 and 2165419 dots\n",
      "Finished shards/protomaster-10900000 with 100000 rows in 824.676 seconds\n",
      "Shard shards/protomaster-09400000 has population 4149004.40252 and 4158278 dots\n",
      "Finished shards/protomaster-09400000 with 100000 rows in 1753.62 seconds\n",
      "Shard shards/protomaster-10200000 has population 2432812.57372 and 2446177 dots\n",
      "Finished shards/protomaster-10200000 with 100000 rows in 1279.18 seconds\n",
      "Shard shards/protomaster-10800000 has population 2793293.33274 and 2799438 dots\n",
      "Finished shards/protomaster-10800000 with 100000 rows in 965.905 seconds\n",
      "Shard shards/protomaster-09800000 has population 3878287.00041 and 3884353 dots\n",
      "Finished shards/protomaster-09800000 with 100000 rows in 1610.95 seconds\n",
      "Shard shards/protomaster-10100000 has population 2970659.06535 and 2982816 dots\n",
      "Finished shards/protomaster-10100000 with 100000 rows in 1484.42 seconds\n",
      "Shard shards/protomaster-10300000 has population 3190410.16116 and 3202208 dots\n",
      "Finished shards/protomaster-10300000 with 100000 rows in 1404.3 seconds\n",
      "Shard shards/protomaster-10500000 has population 3416597.44336 and 3426914 dots\n",
      "Finished shards/protomaster-10500000 with 100000 rows in 1236.64 seconds\n",
      "Shard shards/protomaster-10400000 has population 4207131.50337 and 4216978 dots\n",
      "Finished shards/protomaster-10400000 with 100000 rows in 1554.49 seconds\n",
      "Shard shards/protomaster-06600000 has population 8480139.67031 and 8485391 dots\n",
      "Finished shards/protomaster-06600000 with 100000 rows in 3487.77 seconds\n",
      "SimpleProcessPoolExecutor succeeded: all 111 jobs completed\n"
     ]
    }
   ],
   "source": [
    "max_block_idx = query_psql(\"SELECT MAX(blockidx2010) FROM census2010_block_idxs\")[0][0]\n",
    "\n",
    "print 'Max block idx is {max_block_idx}'.format(max_block_idx=max_block_idx)\n",
    "\n",
    "shard_size = 100000\n",
    "pool = SimpleProcessPoolExecutor(32)\n",
    "\n",
    "results = []\n",
    "\n",
    "print \"Starting shards with maximum index %d\" % num_blocks\n",
    "\n",
    "if not os.path.exists('shards'):\n",
    "    os.mkdir(\"shards\")\n",
    "\n",
    "for start_idx in range(0, max_block_idx + 1, shard_size):\n",
    "    pool.submit(process_shard, start_idx, start_idx + shard_size)\n",
    "\n",
    "shardfiles = pool.shutdown()"
   ]
  },
  {
   "cell_type": "code",
   "execution_count": 87,
   "metadata": {
    "collapsed": false,
    "scrolled": true
   },
   "outputs": [],
   "source": [
    "def check_point_file(filename):\n",
    "    n = 0\n",
    "    with open(filename, 'rb') as file_in:\n",
    "        print 'Checking %s' % filename\n",
    "        while True:\n",
    "            rec = file_in.read(record_len)\n",
    "            if not rec:\n",
    "                return\n",
    "            (x, y, blockIdx, seqWithinBlock) = struct.unpack(record_format, rec)\n",
    "            if x < 0 or x >= 256:\n",
    "                print 'Error at %s:%d' % (filename, n)\n",
    "                print (x, y, blockIdx, seqWithinBlock)\n",
    "            n += 1"
   ]
  },
  {
   "cell_type": "markdown",
   "metadata": {},
   "source": [
    "Randomize point order and write them to binary file\n",
    "---------------------------------------------------\n",
    "\n",
    "Binary file will later be converted to tiles, or, if small enough (i.e. a single state like PA or smaller) could be read directly by the web client page."
   ]
  },
  {
   "cell_type": "code",
   "execution_count": 91,
   "metadata": {
    "collapsed": false
   },
   "outputs": [],
   "source": [
    "tiledir = 'prototiles'\n",
    "\n",
    "master = tiledir + '/master.bin'\n",
    "\n",
    "if not os.path.exists(tiledir):\n",
    "    os.mkdir(tiledir)"
   ]
  },
  {
   "cell_type": "code",
   "execution_count": 92,
   "metadata": {
    "collapsed": false,
    "scrolled": true
   },
   "outputs": [
    {
     "name": "stdout",
     "output_type": "stream",
     "text": [
      "shards/protomaster-00000000: reading 1837863 points\n",
      "shards/protomaster-00100000: reading 2527342 points\n",
      "shards/protomaster-00200000: reading 1887326 points\n",
      "shards/protomaster-00300000: reading 2432416 points\n",
      "shards/protomaster-00400000: reading 3916679 points\n",
      "shards/protomaster-00500000: reading 1868058 points\n",
      "shards/protomaster-00600000: reading 1720744 points\n",
      "shards/protomaster-00700000: reading 4593286 points\n",
      "shards/protomaster-00800000: reading 3287914 points\n",
      "shards/protomaster-00900000: reading 9092784 points\n",
      "shards/protomaster-01000000: reading 5245701 points\n",
      "shards/protomaster-01100000: reading 5982774 points\n",
      "shards/protomaster-01200000: reading 6359347 points\n",
      "shards/protomaster-01300000: reading 4618877 points\n",
      "shards/protomaster-01400000: reading 4218848 points\n",
      "shards/protomaster-01500000: reading 2315523 points\n",
      "shards/protomaster-01600000: reading 4282463 points\n",
      "shards/protomaster-01700000: reading 5076071 points\n",
      "shards/protomaster-01800000: reading 3898644 points\n",
      "shards/protomaster-01900000: reading 3415376 points\n",
      "shards/protomaster-02000000: reading 5987271 points\n",
      "shards/protomaster-02100000: reading 3728896 points\n",
      "shards/protomaster-02200000: reading 3703378 points\n",
      "shards/protomaster-02300000: reading 4857179 points\n",
      "shards/protomaster-02400000: reading 2601502 points\n",
      "shards/protomaster-02500000: reading 2741057 points\n",
      "shards/protomaster-02600000: reading 922213 points\n",
      "shards/protomaster-02700000: reading 5293344 points\n",
      "shards/protomaster-02800000: reading 2855249 points\n",
      "shards/protomaster-02900000: reading 3050205 points\n",
      "shards/protomaster-03000000: reading 1843066 points\n",
      "shards/protomaster-03100000: reading 2853788 points\n",
      "shards/protomaster-03200000: reading 3292610 points\n",
      "shards/protomaster-03300000: reading 2396900 points\n",
      "shards/protomaster-03400000: reading 1296398 points\n",
      "shards/protomaster-03500000: reading 1979354 points\n",
      "shards/protomaster-03600000: reading 1030816 points\n",
      "shards/protomaster-03700000: reading 1335492 points\n",
      "shards/protomaster-03800000: reading 2490576 points\n",
      "shards/protomaster-03900000: reading 2977085 points\n",
      "shards/protomaster-04000000: reading 2849680 points\n",
      "shards/protomaster-04100000: reading 2554603 points\n",
      "shards/protomaster-04200000: reading 1956526 points\n",
      "shards/protomaster-04300000: reading 4967775 points\n",
      "shards/protomaster-04400000: reading 3442247 points\n",
      "shards/protomaster-04500000: reading 4939209 points\n",
      "shards/protomaster-04600000: reading 2482373 points\n",
      "shards/protomaster-04700000: reading 3371499 points\n",
      "shards/protomaster-04800000: reading 3852692 points\n",
      "shards/protomaster-04900000: reading 3190469 points\n",
      "shards/protomaster-05000000: reading 2214946 points\n",
      "shards/protomaster-05100000: reading 2245218 points\n",
      "shards/protomaster-05200000: reading 2242739 points\n",
      "shards/protomaster-05300000: reading 1594512 points\n",
      "shards/protomaster-05400000: reading 2009803 points\n",
      "shards/protomaster-05500000: reading 1623692 points\n",
      "shards/protomaster-05600000: reading 2517819 points\n",
      "shards/protomaster-05700000: reading 813091 points\n",
      "shards/protomaster-05800000: reading 1184635 points\n",
      "shards/protomaster-05900000: reading 1094508 points\n",
      "shards/protomaster-06000000: reading 2818589 points\n",
      "shards/protomaster-06100000: reading 3675566 points\n",
      "shards/protomaster-06200000: reading 5922086 points\n",
      "shards/protomaster-06300000: reading 3113920 points\n",
      "shards/protomaster-06400000: reading 1066976 points\n",
      "shards/protomaster-06500000: reading 4571469 points\n",
      "shards/protomaster-06600000: reading 8485391 points\n",
      "shards/protomaster-06700000: reading 6112895 points\n",
      "shards/protomaster-06800000: reading 3394109 points\n",
      "shards/protomaster-06900000: reading 3533955 points\n",
      "shards/protomaster-07000000: reading 3729382 points\n",
      "shards/protomaster-07100000: reading 2148660 points\n",
      "shards/protomaster-07200000: reading 884678 points\n",
      "shards/protomaster-07300000: reading 4711529 points\n",
      "shards/protomaster-07400000: reading 3717819 points\n",
      "shards/protomaster-07500000: reading 3181705 points\n",
      "shards/protomaster-07600000: reading 1841014 points\n",
      "shards/protomaster-07700000: reading 908698 points\n",
      "shards/protomaster-07800000: reading 2318376 points\n",
      "shards/protomaster-07900000: reading 1474378 points\n",
      "shards/protomaster-08000000: reading 2686296 points\n",
      "shards/protomaster-08100000: reading 3565837 points\n",
      "shards/protomaster-08200000: reading 3125426 points\n",
      "shards/protomaster-08300000: reading 2966385 points\n",
      "shards/protomaster-08400000: reading 3765573 points\n",
      "shards/protomaster-08500000: reading 3286466 points\n",
      "shards/protomaster-08600000: reading 2888469 points\n",
      "shards/protomaster-08700000: reading 1800968 points\n",
      "shards/protomaster-08800000: reading 2279861 points\n",
      "shards/protomaster-08900000: reading 2618352 points\n",
      "shards/protomaster-09000000: reading 3144366 points\n",
      "shards/protomaster-09100000: reading 3336172 points\n",
      "shards/protomaster-09200000: reading 4044738 points\n",
      "shards/protomaster-09300000: reading 3016202 points\n",
      "shards/protomaster-09400000: reading 4158278 points\n",
      "shards/protomaster-09500000: reading 3085651 points\n",
      "shards/protomaster-09600000: reading 1725938 points\n",
      "shards/protomaster-09700000: reading 2008907 points\n",
      "shards/protomaster-09800000: reading 3884353 points\n",
      "shards/protomaster-09900000: reading 2200561 points\n",
      "shards/protomaster-10000000: reading 2714332 points\n",
      "shards/protomaster-10100000: reading 2982816 points\n",
      "shards/protomaster-10200000: reading 2446177 points\n",
      "shards/protomaster-10300000: reading 3202208 points\n",
      "shards/protomaster-10400000: reading 4216978 points\n",
      "shards/protomaster-10500000: reading 3426914 points\n",
      "shards/protomaster-10600000: reading 1651960 points\n",
      "shards/protomaster-10700000: reading 1950105 points\n",
      "shards/protomaster-10800000: reading 2799438 points\n",
      "shards/protomaster-10900000: reading 2165419 points\n",
      "shards/protomaster-11000000: reading 579655 points\n",
      "Randomizing 342298447 points...\n",
      "Writing randomized points to prototiles/master.bin\n",
      "Checking prototiles/master.bin\n",
      "prototiles/master.bin has 342298447.0 records (points)\n"
     ]
    }
   ],
   "source": [
    "if os.path.exists(master):\n",
    "    print '%s already exists' % master\n",
    "else:\n",
    "    points = []\n",
    "    for file in sorted(shardfiles):\n",
    "        nbytes = os.stat(file).st_size\n",
    "        if nbytes % record_len:\n",
    "            raise 'File %s has unexpected length %d' % (file, nbytes)\n",
    "        npoints = nbytes / record_len\n",
    "        print '%s: reading %d points' % (file, npoints)\n",
    "        with open(file, 'rb') as file_in:\n",
    "            points.extend([file_in.read(record_len) for i in range(npoints)])\n",
    "\n",
    "    print \"Randomizing %d points...\" % len(points)\n",
    "    random.shuffle(points)        \n",
    "\n",
    "    print \"Writing randomized points to %s\" % master\n",
    "    points_file = open(master + '.tmp', 'wb')\n",
    "    for b in points:\n",
    "        points_file.write(b)\n",
    "    points_file.close()\n",
    "    os.rename(master + '.tmp', master)\n",
    "    check_point_file(master)\n",
    "\n",
    "print '%s has %.1f records (points)' % (master, os.stat(master).st_size / float(record_len))"
   ]
  },
  {
   "cell_type": "markdown",
   "metadata": {},
   "source": [
    "Generate prototiles\n",
    "-------------------"
   ]
  },
  {
   "cell_type": "code",
   "execution_count": null,
   "metadata": {
    "collapsed": true
   },
   "outputs": [],
   "source": []
  },
  {
   "cell_type": "code",
   "execution_count": null,
   "metadata": {
    "collapsed": true
   },
   "outputs": [],
   "source": [
    "def convert_prototile_to_numpy(old_path, new_path):\n",
    "    prototile = open(old_path).read()\n",
    "    npoints = len(prototile) / prototile_record_len\n",
    "    points = [struct.unpack_from(prototile_record_format, prototile, i * prototile_record_len)\n",
    "              for i in range(npoints)]\n",
    "    write_numpy_prototile(points, new_path)\n"
   ]
  },
  {
   "cell_type": "code",
   "execution_count": 93,
   "metadata": {
    "collapsed": true
   },
   "outputs": [],
   "source": [
    "# merc_x and merc_y are in 0-256 web mercator space\n",
    "def MercToTileCoords(merc_x, merc_y, z):\n",
    "    n = 2 ** z\n",
    "    xtile = int(merc_x * n / 256)\n",
    "    ytile = int(merc_y * n / 256)\n",
    "    return xtile, ytile\n",
    "\n",
    "def make_prototile_zoom(z, subsample):\n",
    "    tiles = [[[] for x in range(2 ** z)] for y in range(2 ** z)]\n",
    "\n",
    "    num_records = os.stat(master).st_size / record_len\n",
    "    \n",
    "    print '%s has %d records (points)' % (master, num_records)\n",
    "    if subsample < 1:\n",
    "        num_records = int(round(num_records * subsample))\n",
    "        print 'Subsampling %g%% to %d records (points)' % (subsample * 100, num_records)\n",
    "    \n",
    "    master_file = open(master, 'rb')\n",
    "\n",
    "    for i in xrange(num_records):\n",
    "        record = master_file.read(record_len)\n",
    "        (x, y) = struct.unpack(record_format, record)[0:2]\n",
    "        (xtile, ytile) = MercToTileCoords(x, y, z)\n",
    "        tiles[xtile][ytile].append(record)\n",
    "    \n",
    "    for ytile in range(2 ** z):\n",
    "        for xtile in range(2 ** z):\n",
    "            tile_path = \"%s/%d/%d/%d.bin\" % (tiledir, z, xtile, ytile)\n",
    "            if not os.path.exists(os.path.dirname(tile_path)):\n",
    "                os.makedirs(os.path.dirname(tile_path))\n",
    "            open(tile_path + '.tmp', 'wb').write(''.join(tiles[xtile][ytile]))\n",
    "            os.rename(tile_path + '.tmp', tile_path)\n",
    "\n",
    "    print 'Created %d prototiles with prefix %s/%d' % (4 ** z, tiledir, z)\n"
   ]
  },
  {
   "cell_type": "code",
   "execution_count": 95,
   "metadata": {
    "collapsed": false,
    "scrolled": true
   },
   "outputs": [
    {
     "name": "stdout",
     "output_type": "stream",
     "text": [
      "prototiles/master.bin has 342298447 records (points)\n",
      "Subsampling 0.1% to 342298 records (points)\n",
      "Created 1 tiles with prefix prototiles/0\n",
      "prototiles/master.bin has 342298447 records (points)\n",
      "Subsampling 0.1% to 342298 records (points)\n",
      "Created 4 tiles with prefix prototiles/1\n",
      "prototiles/master.bin has 342298447 records (points)\n",
      "Subsampling 0.1% to 342298 records (points)\n",
      "Created 16 tiles with prefix prototiles/2\n",
      "prototiles/master.bin has 342298447 records (points)\n",
      "Subsampling 0.1% to 342298 records (points)\n",
      "Created 64 tiles with prefix prototiles/3\n",
      "prototiles/master.bin has 342298447 records (points)\n",
      "Subsampling 0.1% to 342298 records (points)\n",
      "Created 256 tiles with prefix prototiles/4\n",
      "prototiles/master.bin has 342298447 records (points)\n",
      "Subsampling 0.1% to 342298 records (points)\n",
      "Created 1024 tiles with prefix prototiles/5\n",
      "prototiles/master.bin has 342298447 records (points)\n",
      "Subsampling 0.4% to 1369194 records (points)\n",
      "Created 4096 tiles with prefix prototiles/6\n",
      "prototiles/master.bin has 342298447 records (points)\n",
      "Subsampling 1.6% to 5476775 records (points)\n",
      "Created 16384 tiles with prefix prototiles/7\n",
      "prototiles/master.bin has 342298447 records (points)\n",
      "Subsampling 6.4% to 21907101 records (points)\n",
      "Created 65536 tiles with prefix prototiles/8\n",
      "prototiles/master.bin has 342298447 records (points)\n",
      "Subsampling 25.6% to 87628402 records (points)\n",
      "Created 262144 tiles with prefix prototiles/9\n",
      "prototiles/master.bin has 342298447 records (points)\n",
      "Created 1048576 tiles with prefix prototiles/10\n"
     ]
    }
   ],
   "source": [
    "make_prototile_zoom( 0, 0.001)\n",
    "make_prototile_zoom( 1, 0.001)\n",
    "make_prototile_zoom( 2, 0.001)\n",
    "make_prototile_zoom( 3, 0.001)\n",
    "make_prototile_zoom( 4, 0.001)\n",
    "make_prototile_zoom( 5, 0.001)\n",
    "make_prototile_zoom( 6, 0.004)\n",
    "make_prototile_zoom( 7, 0.016)\n",
    "make_prototile_zoom( 8, 0.064)\n",
    "make_prototile_zoom( 9, 0.256)\n",
    "make_prototile_zoom(10, 1.0)"
   ]
  },
  {
   "cell_type": "code",
   "execution_count": 96,
   "metadata": {
    "collapsed": false
   },
   "outputs": [
    {
     "name": "stdout",
     "output_type": "stream",
     "text": [
      "13G\tprototiles\r\n"
     ]
    }
   ],
   "source": [
    "!du -sh prototiles"
   ]
  },
  {
   "cell_type": "code",
   "execution_count": 97,
   "metadata": {
    "collapsed": false
   },
   "outputs": [
    {
     "name": "stdout",
     "output_type": "stream",
     "text": [
      "Filesystem                        Size  Used Avail Use% Mounted on\r\n",
      "udev                               32G     0   32G   0% /dev\r\n",
      "tmpfs                             6.3G   67M  6.3G   2% /run\r\n",
      "/dev/mapper/earthserve2--vg-root  212G  190G   11G  95% /\r\n",
      "tmpfs                              32G   40K   32G   1% /dev/shm\r\n",
      "tmpfs                             5.0M     0  5.0M   0% /run/lock\r\n",
      "tmpfs                              32G     0   32G   0% /sys/fs/cgroup\r\n",
      "/dev/sdb                          1.8T  1.5T  277G  85% /mnt/ssd\r\n",
      "/dev/sda2                         473M  224M  226M  50% /boot\r\n",
      "/dev/sda1                         511M  3.5M  508M   1% /boot/efi\r\n",
      "tmpfs                             6.3G  104K  6.3G   1% /run/user/1007\r\n",
      "tmpfs                             6.3G   24K  6.3G   1% /run/user/1009\r\n"
     ]
    }
   ],
   "source": [
    "!df -h"
   ]
  },
  {
   "cell_type": "code",
   "execution_count": null,
   "metadata": {
    "collapsed": true
   },
   "outputs": [],
   "source": []
  }
 ],
 "metadata": {
  "anaconda-cloud": {},
  "kernelspec": {
   "display_name": "Python [default]",
   "language": "python",
   "name": "python2"
  },
  "language_info": {
   "codemirror_mode": {
    "name": "ipython",
    "version": 2
   },
   "file_extension": ".py",
   "mimetype": "text/x-python",
   "name": "python",
   "nbconvert_exporter": "python",
   "pygments_lexer": "ipython2",
   "version": "2.7.12"
  }
 },
 "nbformat": 4,
 "nbformat_minor": 0
}
