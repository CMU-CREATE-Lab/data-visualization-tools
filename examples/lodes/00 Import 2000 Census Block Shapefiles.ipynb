{
 "cells": [
  {
   "cell_type": "markdown",
   "metadata": {},
   "source": [
    "Download, unpack, and import into database the 2010 Census Block Shapefiles\n",
    "==========================================================================="
   ]
  },
  {
   "cell_type": "code",
   "execution_count": 1,
   "metadata": {},
   "outputs": [],
   "source": [
    "import csv, glob, json, os, re, shutil\n",
    "import subprocess, sys, threading, urllib2\n",
    "\n",
    "def exec_ipynb(filename_or_url):\n",
    "    nb = (urllib2.urlopen(filename_or_url) if re.match(r'https?:', filename_or_url) else open(filename_or_url)).read()\n",
    "    jsonNb = json.loads(nb)\n",
    "    #check for the modified formatting of Jupyter Notebook v4\n",
    "    if(jsonNb['nbformat'] == 4):\n",
    "        exec '\\n'.join([''.join(cell['source']) for cell in jsonNb['cells'] if cell['cell_type'] == 'code']) in globals()\n",
    "    else:\n",
    "        exec '\\n'.join([''.join(cell['input']) for cell in jsonNb['worksheets'][0]['cells'] if cell['cell_type'] == 'code']) in globals()\n",
    "\n",
    "exec_ipynb('timelapse-utilities.ipynb')"
   ]
  },
  {
   "cell_type": "markdown",
   "metadata": {},
   "source": [
    "Census 2010 subdivisions, for U.S. only:\n",
    "    \n",
    "    ~50 states\n",
    "    ~73K census tracts (approx 4000 people)\n",
    "    ~218K block groups (approx 1500 people)\n",
    "    ~11M blocks"
   ]
  },
  {
   "cell_type": "markdown",
   "metadata": {},
   "source": [
    "How to set up postgres\n",
    "======================\n",
    "    \n",
    "    sudo -u postgres createuser --superuser $USER\n",
    "    sudo -u postgres createdb $USER\n",
    "    touch ~/.psql_history"
   ]
  },
  {
   "cell_type": "code",
   "execution_count": 7,
   "metadata": {},
   "outputs": [
    {
     "name": "stdout",
     "output_type": "stream",
     "text": [
      "ERROR:  database \"timelapse\" already exists\n",
      "CREATE EXTENSION IF NOT EXISTS postgis;\n",
      "Finished execution: CREATE EXTENSION\n",
      "\n",
      "NOTICE:  extension \"postgis\" already exists, skipping\n",
      "\n"
     ]
    }
   ],
   "source": [
    "!psql -c 'CREATE DATABASE timelapse;'\n",
    "psql('CREATE EXTENSION IF NOT EXISTS postgis;')"
   ]
  },
  {
   "cell_type": "code",
   "execution_count": 8,
   "metadata": {},
   "outputs": [],
   "source": [
    "capture_dir = \"capture/tabblock_2000\"\n",
    "try:\n",
    "    os.makedirs(capture_dir)\n",
    "except:\n",
    "    pass"
   ]
  },
  {
   "cell_type": "markdown",
   "metadata": {},
   "source": [
    "Download 2000 Census Block Shapefiles\n",
    "-------------------------------------\n",
    "\n",
    "Manually go to http://www.nhgis.org/, select 2000 census block shapefiles, all 50 states, to download a 2GB zip.  Rename this zip to capture/tabblock_2000/nhgis_2000_shapefiles.zip."
   ]
  },
  {
   "cell_type": "markdown",
   "metadata": {},
   "source": [
    "Unzip 2000 Census Block Shapefiles\n",
    "----------------------------------"
   ]
  },
  {
   "cell_type": "code",
   "execution_count": 2,
   "metadata": {},
   "outputs": [
    {
     "name": "stdout",
     "output_type": "stream",
     "text": [
      "\\d\n",
      "Finished execution in 1.19702 secs: List of relations\n",
      " Schema |                Name                 |   Type   |  Owner   \n",
      "--------+-------------------------------------+----------+----------\n",
      " public | geography_columns                   | view     | rsargent\n",
      " public | geometry_columns                    | view     | rsargent\n",
      " public | od_jt00_2011                        | table    | rsargent\n",
      " public | od_jt00_2011_gid_seq                | sequence | rsargent\n",
      " public | od_jt01_2011                        | table    | rsargent\n",
      " public | od_jt01_2011_gid_seq                | sequence | rsargent\n",
      " public | raster_columns                      | view     | rsargent\n",
      " public | raster_overviews                    | view     | rsargent\n",
      " public | spatial_ref_sys                     | table    | rsargent\n",
      " public | tiger2010_census2000_blocks         | table    | rsargent\n",
      " public | tiger2010_census2000_blocks_gid_seq | sequence | rsargent\n",
      " public | tiger2010_census2010_blocks         | table    | rsargent\n",
      " public | tiger2010_census2010_blocks_gid_seq | sequence | rsargent\n",
      " public | tl_2000_tabblock                    | table    | rsargent\n",
      " public | tl_2000_tabblock_gid_seq            | sequence | rsargent\n",
      " public | tl_2010_tabblock10                  | table    | rsargent\n",
      " public | tl_2010_tabblock10_gid_seq          | sequence | rsargent\n",
      " public | working_age_blocks                  | table    | rsargent\n",
      "(18 rows)\n"
     ]
    }
   ],
   "source": [
    "psql('\\d')"
   ]
  },
  {
   "cell_type": "code",
   "execution_count": 46,
   "metadata": {},
   "outputs": [],
   "source": [
    "missing = 0\n",
    "for state_name in state_names:\n",
    "    if not os.path.exists(capture_dir + '/%s_block_2000.shp' % state_name.upper()):\n",
    "        missing += 1\n",
    "if missing > 0:\n",
    "    print subprocess.check_output('unzip capture/tabblock_2000/nhgis_2000_shapefiles.zip -d capture/tabblock_2000', shell=True)\n",
    "    for zipfile in glob.glob(capture_dir +'/*/*.zip'):\n",
    "        print zipfile\n",
    "        cmd = 'unzip -o %s -d %s' % (zipfile, capture_dir)\n",
    "        print cmd\n",
    "        print subprocess.check_output(cmd, shell=True)"
   ]
  },
  {
   "cell_type": "markdown",
   "metadata": {},
   "source": [
    "Reproject shapefiles from ESRI conic to WGS84 lat/lon\n",
    "-----------------------------------------------------"
   ]
  },
  {
   "cell_type": "code",
   "execution_count": 17,
   "metadata": {},
   "outputs": [
    {
     "name": "stdout",
     "output_type": "stream",
     "text": [
      "capture/tabblock_2000/AK_block_2000_4326.shp already exists\n",
      "capture/tabblock_2000/AL_block_2000_4326.shp already exists\n",
      "capture/tabblock_2000/AR_block_2000_4326.shp already exists\n",
      "capture/tabblock_2000/AZ_block_2000_4326.shp already exists\n",
      "capture/tabblock_2000/CA_block_2000_4326.shp already exists\n",
      "capture/tabblock_2000/CO_block_2000_4326.shp already exists\n",
      "capture/tabblock_2000/CT_block_2000_4326.shp already exists\n",
      "capture/tabblock_2000/DC_block_2000_4326.shp already exists\n",
      "capture/tabblock_2000/DE_block_2000_4326.shp already exists\n",
      "capture/tabblock_2000/FL_block_2000_4326.shp already exists\n",
      "capture/tabblock_2000/GA_block_2000_4326.shp already exists\n",
      "capture/tabblock_2000/HI_block_2000_4326.shp already exists\n",
      "capture/tabblock_2000/IA_block_2000_4326.shp already exists\n",
      "capture/tabblock_2000/ID_block_2000_4326.shp already exists\n",
      "capture/tabblock_2000/IL_block_2000_4326.shp already exists\n",
      "capture/tabblock_2000/IN_block_2000_4326.shp already exists\n",
      "capture/tabblock_2000/KS_block_2000_4326.shp already exists\n",
      "capture/tabblock_2000/KY_block_2000_4326.shp already exists\n",
      "capture/tabblock_2000/LA_block_2000_4326.shp already exists\n",
      "capture/tabblock_2000/MA_block_2000_4326.shp already exists\n",
      "capture/tabblock_2000/MD_block_2000_4326.shp already exists\n",
      "capture/tabblock_2000/ME_block_2000_4326.shp already exists\n",
      "capture/tabblock_2000/MN_block_2000_4326.shp already exists\n",
      "capture/tabblock_2000/MI_block_2000_4326.shp already exists\n",
      "capture/tabblock_2000/MO_block_2000_4326.shp already exists\n",
      "capture/tabblock_2000/MS_block_2000_4326.shp already exists\n",
      "capture/tabblock_2000/MT_block_2000_4326.shp already exists\n",
      "capture/tabblock_2000/NC_block_2000_4326.shp already exists\n",
      "capture/tabblock_2000/NE_block_2000_4326.shp already exists\n",
      "capture/tabblock_2000/ND_block_2000_4326.shp already exists\n",
      "capture/tabblock_2000/NH_block_2000_4326.shp already exists\n",
      "capture/tabblock_2000/NJ_block_2000_4326.shp already exists\n",
      "capture/tabblock_2000/NM_block_2000_4326.shp already exists\n",
      "capture/tabblock_2000/NV_block_2000_4326.shp already exists\n",
      "capture/tabblock_2000/NY_block_2000_4326.shp already exists\n",
      "capture/tabblock_2000/OK_block_2000_4326.shp already exists\n",
      "capture/tabblock_2000/OH_block_2000_4326.shp already exists\n",
      "capture/tabblock_2000/OR_block_2000_4326.shp already exists\n",
      "capture/tabblock_2000/PA_block_2000_4326.shp already exists\n",
      "capture/tabblock_2000/RI_block_2000_4326.shp already exists\n",
      "capture/tabblock_2000/SC_block_2000_4326.shp already exists\n",
      "capture/tabblock_2000/SD_block_2000_4326.shp already exists\n",
      "capture/tabblock_2000/TN_block_2000_4326.shp already exists\n",
      "capture/tabblock_2000/TX_block_2000_4326.shp already exists\n",
      "capture/tabblock_2000/UT_block_2000_4326.shp already exists\n",
      "capture/tabblock_2000/VA_block_2000_4326.shp already exists\n",
      "capture/tabblock_2000/VT_block_2000_4326.shp already exists\n",
      "capture/tabblock_2000/WA_block_2000_4326.shp already exists\n",
      "capture/tabblock_2000/WI_block_2000_4326.shp already exists\n",
      "capture/tabblock_2000/WV_block_2000_4326.shp already exists\n",
      "capture/tabblock_2000/WY_block_2000_4326.shp already exists\n"
     ]
    }
   ],
   "source": [
    "def reproject_shapefile(state_name):\n",
    "    state_name = state_name.upper()\n",
    "    src = 'capture/tabblock_2000/{state_name}_block_2000.shp'.format(state_name=state_name)\n",
    "    dest = os.path.splitext(src)[0] + '_4326.shp'\n",
    "    if os.path.exists(dest):\n",
    "        sys.stdout.write('%s already exists\\n' % dest)\n",
    "        return\n",
    "    cmd = 'ogr2ogr -f \"ESRI Shapefile\" {dest} {src} -t_srs EPSG:4326'.format(src=src, dest=dest)\n",
    "    sys.stdout.write(state_name + ': ' + subprocess.check_output(cmd, shell=True) + '\\n')\n",
    "\n",
    "threads = []\n",
    "\n",
    "for state_name in state_names:\n",
    "    threads.append(threading.Thread(target=reproject_shapefile, args=(state_name,)))\n",
    "    threads[-1].start()\n",
    "\n",
    "for t in threads:\n",
    "    t.join()"
   ]
  },
  {
   "cell_type": "markdown",
   "metadata": {},
   "source": [
    "Load 2000 census block shapefiles into psql\n",
    "-------------------------------------------"
   ]
  },
  {
   "cell_type": "code",
   "execution_count": 19,
   "metadata": {
    "scrolled": true
   },
   "outputs": [
    {
     "name": "stdout",
     "output_type": "stream",
     "text": [
      "DROP TABLE tl_2000_tabblock;\n",
      "Finished execution in 0.122959 secs: DROP TABLE\n",
      "Creating table tl_2000_tabblock schema using state ak\n",
      "shp2pgsql -p -s 4326 capture/tabblock_2000/AK_block_2000_4326.shp tl_2000_tabblock | psql -q -d timelapse\n",
      "psql output: addgeometrycolumn                         \n",
      "------------------------------------------------------------------\n",
      " public.tl_2000_tabblock.geom SRID:4326 TYPE:MULTIPOLYGON DIMS:2 \n",
      "(1 row)\n",
      "Appending state ak to tl_2000_tabblock\n",
      "shp2pgsql -a -s 4326 capture/tabblock_2000/AK_block_2000_4326.shp tl_2000_tabblock | psql -q -d timelapse\n",
      "Appending state al to tl_2000_tabblock\n",
      "shp2pgsql -a -s 4326 capture/tabblock_2000/AL_block_2000_4326.shp tl_2000_tabblock | psql -q -d timelapse\n",
      "Appending state ar to tl_2000_tabblock\n",
      "shp2pgsql -a -s 4326 capture/tabblock_2000/AR_block_2000_4326.shp tl_2000_tabblock | psql -q -d timelapse\n",
      "Appending state az to tl_2000_tabblock\n",
      "shp2pgsql -a -s 4326 capture/tabblock_2000/AZ_block_2000_4326.shp tl_2000_tabblock | psql -q -d timelapse\n",
      "Appending state ca to tl_2000_tabblock\n",
      "shp2pgsql -a -s 4326 capture/tabblock_2000/CA_block_2000_4326.shp tl_2000_tabblock | psql -q -d timelapse\n",
      "Appending state co to tl_2000_tabblock\n",
      "shp2pgsql -a -s 4326 capture/tabblock_2000/CO_block_2000_4326.shp tl_2000_tabblock | psql -q -d timelapse\n",
      "Appending state ct to tl_2000_tabblock\n",
      "shp2pgsql -a -s 4326 capture/tabblock_2000/CT_block_2000_4326.shp tl_2000_tabblock | psql -q -d timelapse\n",
      "Appending state dc to tl_2000_tabblock\n",
      "shp2pgsql -a -s 4326 capture/tabblock_2000/DC_block_2000_4326.shp tl_2000_tabblock | psql -q -d timelapse\n",
      "Appending state de to tl_2000_tabblock\n",
      "shp2pgsql -a -s 4326 capture/tabblock_2000/DE_block_2000_4326.shp tl_2000_tabblock | psql -q -d timelapse\n",
      "Appending state fl to tl_2000_tabblock\n",
      "shp2pgsql -a -s 4326 capture/tabblock_2000/FL_block_2000_4326.shp tl_2000_tabblock | psql -q -d timelapse\n",
      "Appending state ga to tl_2000_tabblock\n",
      "shp2pgsql -a -s 4326 capture/tabblock_2000/GA_block_2000_4326.shp tl_2000_tabblock | psql -q -d timelapse\n",
      "Appending state hi to tl_2000_tabblock\n",
      "Appending state ia to tl_2000_tabblock\n",
      "shp2pgsql -a -s 4326 capture/tabblock_2000/HI_block_2000_4326.shp tl_2000_tabblock | psql -q -d timelapse\n",
      "shp2pgsql -a -s 4326 capture/tabblock_2000/IA_block_2000_4326.shp tl_2000_tabblock | psql -q -d timelapse\n",
      "Appending state id to tl_2000_tabblock\n",
      "shp2pgsql -a -s 4326 capture/tabblock_2000/ID_block_2000_4326.shp tl_2000_tabblock | psql -q -d timelapse\n",
      "Appending state il to tl_2000_tabblock\n",
      "shp2pgsql -a -s 4326 capture/tabblock_2000/IL_block_2000_4326.shp tl_2000_tabblock | psql -q -d timelapse\n",
      "Appending state in to tl_2000_tabblock\n",
      "shp2pgsql -a -s 4326 capture/tabblock_2000/IN_block_2000_4326.shp tl_2000_tabblock | psql -q -d timelapse\n",
      "Appending state ks to tl_2000_tabblock\n",
      "shp2pgsql -a -s 4326 capture/tabblock_2000/KS_block_2000_4326.shp tl_2000_tabblock | psql -q -d timelapse\n",
      "Appending state ky to tl_2000_tabblock\n",
      "shp2pgsql -a -s 4326 capture/tabblock_2000/KY_block_2000_4326.shp tl_2000_tabblock | psql -q -d timelapse\n",
      "Appending state la to tl_2000_tabblock\n",
      "shp2pgsql -a -s 4326 capture/tabblock_2000/LA_block_2000_4326.shp tl_2000_tabblock | psql -q -d timelapse\n",
      "Appending state ma to tl_2000_tabblock\n",
      "Appending state md to tl_2000_tabblock\n",
      "shp2pgsql -a -s 4326 capture/tabblock_2000/MA_block_2000_4326.shp tl_2000_tabblock | psql -q -d timelapseshp2pgsql -a -s 4326 capture/tabblock_2000/MD_block_2000_4326.shp tl_2000_tabblock | psql -q -d timelapse\n",
      "Appending state me to tl_2000_tabblock\n",
      "Appending state mi to tl_2000_tabblock\n",
      "Appending state mn to tl_2000_tabblock\n",
      "\n",
      "shp2pgsql -a -s 4326 capture/tabblock_2000/ME_block_2000_4326.shp tl_2000_tabblock | psql -q -d timelapseshp2pgsql -a -s 4326 capture/tabblock_2000/MI_block_2000_4326.shp tl_2000_tabblock | psql -q -d timelapseAppending state mo to tl_2000_tabblock\n",
      "shp2pgsql -a -s 4326 capture/tabblock_2000/MN_block_2000_4326.shp tl_2000_tabblock | psql -q -d timelapse\n",
      "Appending state ms to tl_2000_tabblock\n",
      "\n",
      " \n",
      "Appending state mt to tl_2000_tabblock\n",
      "shp2pgsql -a -s 4326 capture/tabblock_2000/MS_block_2000_4326.shp tl_2000_tabblock | psql -q -d timelapseAppending state nc to tl_2000_tabblock\n",
      "shp2pgsql -a -s 4326 capture/tabblock_2000/MO_block_2000_4326.shp tl_2000_tabblock | psql -q -d timelapse\n",
      "Appending state nd to tl_2000_tabblock\n",
      "\n",
      " shp2pgsql -a -s 4326 capture/tabblock_2000/ND_block_2000_4326.shp tl_2000_tabblock | psql -q -d timelapse\n",
      "shp2pgsql -a -s 4326 capture/tabblock_2000/NC_block_2000_4326.shp tl_2000_tabblock | psql -q -d timelapse\n",
      "shp2pgsql -a -s 4326 capture/tabblock_2000/MT_block_2000_4326.shp tl_2000_tabblock | psql -q -d timelapseAppending state ne to tl_2000_tabblock\n",
      "\n",
      " Appending state nh to tl_2000_tabblock\n",
      "Appending state nj to tl_2000_tabblock\n",
      "shp2pgsql -a -s 4326 capture/tabblock_2000/NE_block_2000_4326.shp tl_2000_tabblock | psql -q -d timelapseAppending state nm to tl_2000_tabblock\n",
      "Appending state nv to tl_2000_tabblock\n",
      "shp2pgsql -a -s 4326 capture/tabblock_2000/NH_block_2000_4326.shp tl_2000_tabblock | psql -q -d timelapseshp2pgsql -a -s 4326 capture/tabblock_2000/NJ_block_2000_4326.shp tl_2000_tabblock | psql -q -d timelapse\n",
      "Appending state ny to tl_2000_tabblock\n",
      " shp2pgsql -a -s 4326 capture/tabblock_2000/NV_block_2000_4326.shp tl_2000_tabblock | psql -q -d timelapse\n",
      "\n",
      "shp2pgsql -a -s 4326 capture/tabblock_2000/NM_block_2000_4326.shp tl_2000_tabblock | psql -q -d timelapse\n",
      "shp2pgsql -a -s 4326 capture/tabblock_2000/NY_block_2000_4326.shp tl_2000_tabblock | psql -q -d timelapse\n",
      "\n",
      "Appending state oh to tl_2000_tabblock\n",
      "shp2pgsql -a -s 4326 capture/tabblock_2000/OH_block_2000_4326.shp tl_2000_tabblock | psql -q -d timelapse\n",
      "Appending state ok to tl_2000_tabblock\n",
      "shp2pgsql -a -s 4326 capture/tabblock_2000/OK_block_2000_4326.shp tl_2000_tabblock | psql -q -d timelapse\n",
      "Appending state or to tl_2000_tabblock\n",
      "Appending state pa to tl_2000_tabblock\n",
      "shp2pgsql -a -s 4326 capture/tabblock_2000/OR_block_2000_4326.shp tl_2000_tabblock | psql -q -d timelapseshp2pgsql -a -s 4326 capture/tabblock_2000/PA_block_2000_4326.shp tl_2000_tabblock | psql -q -d timelapse\n",
      "\n",
      "Appending state ri to tl_2000_tabblock\n",
      "shp2pgsql -a -s 4326 capture/tabblock_2000/RI_block_2000_4326.shp tl_2000_tabblock | psql -q -d timelapse\n",
      "Appending state sc to tl_2000_tabblock\n",
      "shp2pgsql -a -s 4326 capture/tabblock_2000/SC_block_2000_4326.shp tl_2000_tabblock | psql -q -d timelapse\n",
      "Appending state sd to tl_2000_tabblock\n",
      "shp2pgsql -a -s 4326 capture/tabblock_2000/SD_block_2000_4326.shp tl_2000_tabblock | psql -q -d timelapseAppending state tn to tl_2000_tabblock\n",
      "Appending state tx to tl_2000_tabblock\n",
      "Appending state ut to tl_2000_tabblock\n",
      "Appending state va to tl_2000_tabblock\n",
      "Appending state vt to tl_2000_tabblock\n",
      "Appending state wa to tl_2000_tabblock\n",
      "Appending state wi to tl_2000_tabblock\n",
      "Appending state wv to tl_2000_tabblock\n",
      "Appending state wy to tl_2000_tabblock\n",
      "\n",
      "shp2pgsql -a -s 4326 capture/tabblock_2000/UT_block_2000_4326.shp tl_2000_tabblock | psql -q -d timelapse\n",
      "shp2pgsql -a -s 4326 capture/tabblock_2000/VA_block_2000_4326.shp tl_2000_tabblock | psql -q -d timelapseshp2pgsql -a -s 4326 capture/tabblock_2000/WI_block_2000_4326.shp tl_2000_tabblock | psql -q -d timelapse\n",
      "shp2pgsql -a -s 4326 capture/tabblock_2000/TX_block_2000_4326.shp tl_2000_tabblock | psql -q -d timelapseshp2pgsql -a -s 4326 capture/tabblock_2000/TN_block_2000_4326.shp tl_2000_tabblock | psql -q -d timelapse\n",
      " shp2pgsql -a -s 4326 capture/tabblock_2000/VT_block_2000_4326.shp tl_2000_tabblock | psql -q -d timelapseshp2pgsql -a -s 4326 capture/tabblock_2000/WV_block_2000_4326.shp tl_2000_tabblock | psql -q -d timelapse\n",
      "shp2pgsql -a -s 4326 capture/tabblock_2000/WY_block_2000_4326.shp tl_2000_tabblock | psql -q -d timelapse\n",
      " \n",
      "\n",
      "\n",
      "shp2pgsql -a -s 4326 capture/tabblock_2000/WA_block_2000_4326.shp tl_2000_tabblock | psql -q -d timelapse\n",
      "psql output: \n",
      "psql output: \n",
      "psql output: \n",
      "psql output: \n",
      "psql output: \n",
      "psql output: \n",
      "psql output: \n",
      "psql output: \n",
      "psql output: \n",
      "psql output: \n",
      "psql output: \n",
      "psql output: \n",
      "psql output: \n",
      "psql output: \n",
      "psql output: \n",
      "psql output: \n",
      "psql output: \n",
      "psql output: \n",
      "psql output: \n",
      "psql output: \n",
      "psql output: \n",
      "psql output: \n",
      "psql output: \n",
      "psql output: \n",
      "psql output: \n",
      "psql output: \n",
      "psql output: \n",
      "psql output: \n",
      "psql output: \n",
      "psql output: \n",
      "psql output: \n",
      "psql output: \n",
      "psql output: \n",
      "psql output: \n",
      "psql output: \n",
      "psql output: \n",
      "psql output: \n",
      "psql output: \n",
      "psql output: \n",
      "psql output: \n",
      "psql output: \n",
      "psql output: \n",
      "psql output: \n",
      "psql output: \n",
      "psql output: \n",
      "psql output: \n",
      "psql output: \n",
      "psql output: \n",
      "psql output: \n",
      "psql output: \n",
      "psql output: \n"
     ]
    }
   ],
   "source": [
    "# Warning:  only run this block once or you may end up with duplicate records in the database\n",
    "# TODO: check if the database is already there and populated and if so, skip the work...\n",
    "\n",
    "def load_shapes_into_db(state_name, prepare_only=False):\n",
    "    command = 'shp2pgsql'\n",
    "    if prepare_only:\n",
    "        command += ' -p'   # prepare the tables only, don't load\n",
    "        sys.stdout.write('Creating table tl_2000_tabblock schema using state %s\\n' % state_name)\n",
    "    else:\n",
    "        command += ' -a'   # append to tables\n",
    "        sys.stdout.write('Appending state %s to tl_2000_tabblock\\n' % state_name)\n",
    "    command += ' -s 4326' # Shapefiles are in EPSG:4326 -- WGS84 lat,lon\n",
    "    command += ' capture/tabblock_2000/%s_block_2000_4326.shp tl_2000_tabblock' % (state_name.upper())\n",
    "    command += ' | psql -q -d timelapse'\n",
    "    print command\n",
    "    out = subprocess.check_output(command, shell=True)\n",
    "    sys.stdout.write('psql output: %s\\n' % out.strip())\n",
    "    \n",
    "# Drop and recreate tl_2000_tabblock    \n",
    "psql('DROP TABLE tl_2000_tabblock;')\n",
    "load_shapes_into_db(state_names[0], prepare_only=True)\n",
    "\n",
    "# Loading all states in parallel worked OK on 32-core 64GB earthdev2.  psql was i/o bound, but no paging occurred\n",
    "# On a lesser machine it might be important to do only a few in parallel at a time\n",
    "threads = []\n",
    "\n",
    "for state_name in state_names:\n",
    "    threads.append(threading.Thread(target=load_shapes_into_db, args=(state_name, False)))\n",
    "    threads[-1].start()\n",
    "\n",
    "for t in threads:\n",
    "    t.join()"
   ]
  },
  {
   "cell_type": "code",
   "execution_count": 20,
   "metadata": {},
   "outputs": [
    {
     "name": "stdout",
     "output_type": "stream",
     "text": [
      "CREATE INDEX ON tl_2000_tabblock (stfid);\n",
      "Finished execution in 67.0839 secs: CREATE INDEX\n",
      "CREATE INDEX ON tl_2000_tabblock USING GIST (geom);\n",
      "Finished execution in 147.186 secs: CREATE INDEX\n"
     ]
    }
   ],
   "source": [
    "# Add indices to census block shapefile table\n",
    "psql('CREATE INDEX ON tl_2000_tabblock (stfid);')\n",
    "psql('CREATE INDEX ON tl_2000_tabblock USING GIST (geom);')\n"
   ]
  },
  {
   "cell_type": "markdown",
   "metadata": {},
   "source": [
    "tl_2000_tabblock table structure\n",
    "----------------------------------\n",
    "\n",
    "stfid is the unique identifier:  contains state, county, tract ... down to block ID."
   ]
  },
  {
   "cell_type": "code",
   "execution_count": 21,
   "metadata": {},
   "outputs": [
    {
     "name": "stdout",
     "output_type": "stream",
     "text": [
      "\\d tl_2000_tabblock\n",
      "Finished execution in 0.23154 secs: Table \"public.tl_2000_tabblock\"\n",
      "  Column   |            Type             |                           Modifiers                            \n",
      "-----------+-----------------------------+----------------------------------------------------------------\n",
      " gid       | integer                     | not null default nextval('tl_2000_tabblock_gid_seq'::regclass)\n",
      " fipsstco  | character varying(5)        | \n",
      " tract2000 | character varying(6)        | \n",
      " block2000 | character varying(4)        | \n",
      " stfid     | character varying(15)       | \n",
      " gisjoin   | character varying(18)       | \n",
      " gisjoin2  | character varying(17)       | \n",
      " geom      | geometry(MultiPolygon,4326) | \n",
      "Indexes:\n",
      "    \"tl_2000_tabblock_pkey\" PRIMARY KEY, btree (gid)\n",
      "    \"tl_2000_tabblock_geom_idx\" gist (geom)\n",
      "    \"tl_2000_tabblock_stfid_idx\" btree (stfid)\n"
     ]
    }
   ],
   "source": [
    "psql('\\d tl_2000_tabblock')"
   ]
  },
  {
   "cell_type": "code",
   "execution_count": 22,
   "metadata": {},
   "outputs": [
    {
     "name": "stdout",
     "output_type": "stream",
     "text": [
      "SELECT COUNT(*) FROM tl_2000_tabblock\n",
      "Finished execution in 2.28785 secs: count  \n",
      "---------\n",
      " 8192957\n",
      "(1 row)\n"
     ]
    }
   ],
   "source": [
    "psql('SELECT COUNT(*) FROM tl_2000_tabblock')"
   ]
  },
  {
   "cell_type": "code",
   "execution_count": 24,
   "metadata": {},
   "outputs": [
    {
     "name": "stdout",
     "output_type": "stream",
     "text": [
      "SELECT COUNT(*) FROM tl_2000_tabblock where stfid='010010201001000'\n",
      "Finished execution in 0.114097 secs: count \n",
      "-------\n",
      "     1\n",
      "(1 row)\n"
     ]
    }
   ],
   "source": [
    "psql(\"SELECT COUNT(*) FROM tl_2000_tabblock where stfid='010010201001000'\")"
   ]
  },
  {
   "cell_type": "code",
   "execution_count": 32,
   "metadata": {},
   "outputs": [
    {
     "name": "stdout",
     "output_type": "stream",
     "text": [
      "SELECT ST_AREA(geography(geom)) FROM tl_2000_tabblock LIMIT 10\n",
      "Finished execution in 0.180544 secs: st_area      \n",
      "------------------\n",
      " 2132156.80175638\n",
      " 384042.045816898\n",
      " 1518912.70490001\n",
      " 1067739.41412272\n",
      " 6269152.85128927\n",
      " 26294.5077588786\n",
      " 6107772.71861947\n",
      " 24121.5357999052\n",
      " 366370.607746869\n",
      "  15937.774944067\n",
      "(10 rows)\n"
     ]
    }
   ],
   "source": [
    "psql(\"SELECT ST_AREA(geography(geom)) FROM tl_2000_tabblock LIMIT 10\")"
   ]
  },
  {
   "cell_type": "code",
   "execution_count": 25,
   "metadata": {},
   "outputs": [
    {
     "name": "stdout",
     "output_type": "stream",
     "text": [
      "SELECT SUM(ST_AREA(geom)) FROM tl_2000_tabblock\n",
      "Finished execution in 6.84909 secs: sum       \n",
      "-----------------\n",
      " 1096.3241191703\n",
      "(1 row)\n"
     ]
    }
   ],
   "source": [
    "psql(\"SELECT SUM(ST_AREA(geom)) FROM tl_2000_tabblock\")"
   ]
  },
  {
   "cell_type": "code",
   "execution_count": 33,
   "metadata": {},
   "outputs": [
    {
     "name": "stdout",
     "output_type": "stream",
     "text": [
      "SELECT LEFT(fipsstco,2), SUM(ST_AREA(geography(geom))) FROM tl_2000_tabblock GROUP BY LEFT(fipsstco,2) ORDER BY LEFT(fipsstco,2)\n",
      "Finished execution in 399.731 secs: left |       sum        \n",
      "------+------------------\n",
      " 01   | 133741976870.766\n",
      " 02   | 1492131345765.83\n",
      " 04   | 295256652069.614\n",
      " 05   | 137733198120.475\n",
      " 06   | 409391754951.963\n",
      " 08   | 269601387315.455\n",
      " 09   | 12872098456.6564\n",
      " 10   | 5131438591.61849\n",
      " 11   |  159396612.81157\n",
      " 12   | 146829817366.733\n",
      " 13   | 152212840848.887\n",
      " 15   | 16661623311.4829\n",
      " 16   | 216442049362.762\n",
      " 17   | 145917640496.456\n",
      " 18   | 93711486566.8748\n",
      " 19   | 145741540184.612\n",
      " 20   | 213096312534.122\n",
      " 21   | 104659205342.592\n",
      " 22   | 119385435431.421\n",
      " 23   | 84140541254.6559\n",
      " 24   | 25709866467.5244\n",
      " 25   | 21013813344.2774\n",
      " 26   |  150597710314.18\n",
      " 27   | 218532345986.363\n",
      " 28   | 123453257843.056\n",
      " 29   | 180533551839.555\n",
      " 30   | 380830590679.682\n",
      " 31   | 200343837053.449\n",
      " 32   | 286351583217.581\n",
      " 33   |  24000085040.424\n",
      " 34   | 19594242110.8089\n",
      " 35   | 314917379547.047\n",
      " 36   | 125747559932.753\n",
      " 37   | 127827664285.714\n",
      " 38   | 183107855329.067\n",
      " 39   |  106869526459.22\n",
      " 40   | 181036868910.831\n",
      " 41   | 251101409296.968\n",
      " 42   | 117287757580.575\n",
      " 44   | 2826796321.18002\n",
      " 45   | 79925509946.2118\n",
      " 46   | 199727997988.179\n",
      " 47   | 109151322882.308\n",
      " 48   | 685670895248.545\n",
      " 49   | 219884447562.576\n",
      " 50   | 24900405701.6963\n",
      " 51   | 103661149623.035\n",
      " 53   | 174889492856.831\n",
      " 54   | 62754843754.3607\n",
      " 55   | 145301942544.349\n",
      " 56   | 253333609056.579\n",
      "(51 rows)\n"
     ]
    }
   ],
   "source": [
    "psql(\"SELECT LEFT(fipsstco,2), SUM(ST_AREA(geography(geom))) FROM tl_2000_tabblock GROUP BY LEFT(fipsstco,2) ORDER BY LEFT(fipsstco,2)\")"
   ]
  },
  {
   "cell_type": "code",
   "execution_count": null,
   "metadata": {
    "collapsed": true
   },
   "outputs": [],
   "source": []
  }
 ],
 "metadata": {
  "anaconda-cloud": {},
  "kernelspec": {
   "display_name": "Python 2",
   "language": "python",
   "name": "python2"
  },
  "language_info": {
   "codemirror_mode": {
    "name": "ipython",
    "version": 2
   },
   "file_extension": ".py",
   "mimetype": "text/x-python",
   "name": "python",
   "nbconvert_exporter": "python",
   "pygments_lexer": "ipython2",
   "version": "2.7.15"
  }
 },
 "nbformat": 4,
 "nbformat_minor": 1
}
