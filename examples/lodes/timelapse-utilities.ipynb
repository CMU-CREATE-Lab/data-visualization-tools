{
 "cells": [
  {
   "cell_type": "code",
   "execution_count": 1,
   "metadata": {
    "collapsed": true
   },
   "outputs": [],
   "source": [
    "import psycopg2, time"
   ]
  },
  {
   "cell_type": "code",
   "execution_count": null,
   "metadata": {
    "collapsed": true
   },
   "outputs": [],
   "source": [
    "state_codes = {\n",
    "    'al': '01', 'ak': '02', 'az': '04', 'ar': '05', 'ca': '06',\n",
    "    'co': '08', 'ct': '09', 'de': '10', 'dc': '11', 'fl': '12',\n",
    "    'ga': '13', 'hi': '15', 'id': '16', 'il': '17', 'in': '18',\n",
    "    'ia': '19', 'ks': '20', 'ky': '21', 'la': '22', 'me': '23',\n",
    "    'md': '24', 'ma': '25', 'mi': '26', 'mn': '27', 'ms': '28',\n",
    "    'mo': '29', 'mt': '30', 'ne': '31', 'nv': '32', 'nh': '33',\n",
    "    'nj': '34', 'nm': '35', 'ny': '36', 'nc': '37', 'nd': '38',\n",
    "    'oh': '39', 'ok': '40', 'or': '41', 'pa': '42', 'ri': '44',\n",
    "    'sc': '45', 'sd': '46', 'tn': '47', 'tx': '48', 'ut': '49',\n",
    "    'vt': '50', 'va': '51', 'wa': '53', 'wi': '54', 'wy': '55',\n",
    "    'wv': '56'\n",
    "}\n",
    "\n",
    "state_ids = sorted(state_codes.values())\n",
    "state_names = sorted(state_codes.keys())"
   ]
  },
  {
   "cell_type": "code",
   "execution_count": 11,
   "metadata": {
    "collapsed": true
   },
   "outputs": [],
   "source": [
    "def psql(cmds, database='timelapse'):\n",
    "    cmd = ['psql', '-d', database]\n",
    "    before = time.time()\n",
    "    p = subprocess.Popen(cmd,\n",
    "                         stdin=subprocess.PIPE,\n",
    "                         stdout=subprocess.PIPE,\n",
    "                         stderr=subprocess.PIPE)\n",
    "    # Send cmds (string) to psql while collecting stdout, stderr\n",
    "    sys.stdout.write('%s\\n' % cmds.strip())\n",
    "    (out, err) = p.communicate(cmds)\n",
    "    p.wait()\n",
    "    sys.stdout.write('Finished execution in %g secs: %s\\n' % (time.time() - before, (out + '\\n' + err).strip())) \n",
    "    \n",
    "    \n",
    "def query_psql(query, quiet=False):\n",
    "    conn = psycopg2.connect(dbname='timelapse', host='/var/run/postgresql')\n",
    "    before = time.time()\n",
    "    cur = conn.cursor()\n",
    "    cur.execute(query)\n",
    "    rows = cur.fetchall()\n",
    "    cur.close()\n",
    "    elapsed = time.time() - before\n",
    "    if not quiet:\n",
    "        sys.stdout.write('Execution of %s\\ntook %g seconds and returned %d rows\\n' % (query.strip(), elapsed, len(rows)))\n",
    "    return rows"
   ]
  },
  {
   "cell_type": "code",
   "execution_count": 3,
   "metadata": {
    "collapsed": true
   },
   "outputs": [],
   "source": [
    "def download_file(url, filename):\n",
    "    if os.path.exists(filename):\n",
    "        sys.stdout.write('%s already downloaded\\n' % filename)\n",
    "    else:\n",
    "        if not os.path.exists(os.path.dirname(filename)):\n",
    "            os.makedirs(os.path.dirname(filename))\n",
    "        sys.stdout.write('Downloading %s to %s\\n' % (url, filename))\n",
    "        data = urllib2.urlopen(url).read()\n",
    "        open(filename + '.tmp', \"wb\").write(data)\n",
    "        os.rename(filename + '.tmp', filename)\n",
    "        sys.stdout.write('Done, wrote %d bytes to %s\\n' % (len(data), filename))\n",
    "\n",
    "def unzip_file(filename):\n",
    "    exdir = os.path.splitext(filename)[0]\n",
    "    if os.path.exists(exdir):\n",
    "        sys.stdout.write('%s already unzipped\\n' % (filename))\n",
    "    else:\n",
    "        tmpdir = exdir + '.tmp'\n",
    "        shutil.rmtree(tmpdir, True)\n",
    "        sys.stdout.write('Unzipping %s into %s\\n' % (filename, tmpdir))\n",
    "        subprocess.check_call(['unzip', filename, '-d', tmpdir])\n",
    "        os.rename(tmpdir, exdir)\n",
    "        print 'Success, created %s' % (exdir)\n",
    "        \n",
    "def gunzip_file(filename):\n",
    "    dest = os.path.splitext(filename)[0]\n",
    "    if os.path.exists(dest):\n",
    "        sys.stdout.write('%s already unzipped\\n' % (filename))\n",
    "    else:\n",
    "        tmp = dest + '.tmp'\n",
    "        sys.stdout.write('gunzipping %s\\n' % (filename))\n",
    "        subprocess.check_call(\"gunzip -c '%s' > '%s'\" % (filename, tmp), shell=True)\n",
    "        os.rename(tmp, dest)\n",
    "        sys.stdout.write('Success, created %s\\n' % (dest))"
   ]
  }
 ],
 "metadata": {
  "anaconda-cloud": {},
  "kernelspec": {
   "display_name": "Python [default]",
   "language": "python",
   "name": "python2"
  },
  "language_info": {
   "codemirror_mode": {
    "name": "ipython",
    "version": 2
   },
   "file_extension": ".py",
   "mimetype": "text/x-python",
   "name": "python",
   "nbconvert_exporter": "python",
   "pygments_lexer": "ipython2",
   "version": "2.7.12"
  }
 },
 "nbformat": 4,
 "nbformat_minor": 1
}
