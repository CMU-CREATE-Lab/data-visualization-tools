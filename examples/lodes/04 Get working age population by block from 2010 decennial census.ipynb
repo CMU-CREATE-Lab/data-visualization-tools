{
 "cells": [
  {
   "cell_type": "code",
   "execution_count": 3,
   "metadata": {
    "collapsed": true
   },
   "outputs": [],
   "source": [
    "import csv, json, os, re, shutil\n",
    "import subprocess, sys, threading, urllib2\n",
    "\n",
    "def exec_ipynb(filename_or_url):\n",
    "    nb = (urllib2.urlopen(filename_or_url) if re.match(r'https?:', filename_or_url) else open(filename_or_url)).read()\n",
    "    jsonNb = json.loads(nb)\n",
    "    #check for the modified formatting of Jupyter Notebook v4\n",
    "    if(jsonNb['nbformat'] == 4):\n",
    "        exec '\\n'.join([''.join(cell['source']) for cell in jsonNb['cells'] if cell['cell_type'] == 'code']) in globals()\n",
    "    else:\n",
    "        exec '\\n'.join([''.join(cell['input']) for cell in jsonNb['worksheets'][0]['cells'] if cell['cell_type'] == 'code']) in globals()\n",
    "\n",
    "exec_ipynb('timelapse-utilities.ipynb')"
   ]
  },
  {
   "cell_type": "markdown",
   "metadata": {},
   "source": [
    "Data seems to be here:\n",
    "    \n",
    "http://www2.census.gov/census_2010/\n",
    "\n",
    "    including demographic profile, summary files 1 and 2\n",
    "    \n",
    "    \n",
    "    http://www2.census.gov/census_2010/03-Demographic_Profile/0README_DPSF.pdf:\n",
    "    \n",
    "The data in the 2010 Census Demographic Profile Summary File and other 2010 Census summary\n",
    "files are segmented. This is done so that individual files will not have more than 255 fields,\n",
    "facilitating exporting into spreadsheet or database software. In short, to get a complete set of the\n",
    "2010 Census Demographic Profile Summary File, users must download both files in the\n",
    "package.\n",
    "\n",
    "The files are as follows:\n",
    "    Geographic Header Record file\n",
    "    File01 (DPSF1-DPSF23)\n",
    "    \n",
    "It is easiest to think of the file set as a logical file. This logical file consists of two physical files:\n",
    "the geographic header file and file01. This structure is the same as the 2010 Census\n",
    "Redistricting Data files. "
   ]
  },
  {
   "cell_type": "markdown",
   "metadata": {},
   "source": [
    "Summary File 1\n",
    "--------------\n",
    "\n",
    "Summary File 1 is described in http://www.census.gov/prod/cen2010/doc/sf1.pdf\n",
    "\n",
    "Urban, rural, race, sex, incl sex by age.  Can use SF1 to get ages 18-64 if we want\n",
    "\n"
   ]
  },
  {
   "cell_type": "markdown",
   "metadata": {},
   "source": [
    "Looks like Daniel et al imported 2010 Census Summary File 1 to earthserve2 in census2010 database\n",
    "\n",
    "census2010 database uses \"logrecno\" as the common join key.  Not all tables actually use logrecno as an index however, beware."
   ]
  },
  {
   "cell_type": "markdown",
   "metadata": {},
   "source": [
    "census2010=# select sum(p012001) from sf1_04 inner join geo2010 ON sf1_04.logrecno = geo2010.logrecno WHERE geo2010.sumlev='101';\n",
    "\n",
    "\n",
    "\n",
    "Working age population\n",
    "----------------------\n",
    "\n",
    "St Louis Fed defines as ages 15-64: https://fred.stlouisfed.org/series/LFWA64TTUSM647S\n",
    "\n",
    " SEX BY AGE [49]\n",
    "Universe: Total population\n",
    "Total: P0120001 04 9\n",
    "Male: P0120002 04 9\n",
    "Under 5 years P0120003 04 9\n",
    "5 to 9 years P0120004 04 9\n",
    "10 to 14 years P0120005 04 9\n",
    "15 to 17 years P0120006 04 9\n",
    "18 and 19 years P0120007 04 9\n",
    "20 years P0120008 04 9\n",
    "21 years P0120009 04 9\n",
    "22 to 24 years P0120010 04 9\n",
    "25 to 29 years P0120011 04 9\n",
    "30 to 34 years P0120012 04 9\n",
    "35 to 39 years P0120013 04 9\n",
    "40 to 44 years P0120014 04 9\n",
    "45 to 49 years P0120015 04 9\n",
    "50 to 54 years P0120016 04 9\n",
    "55 to 59 years P0120017 04 9\n",
    "60 and 61 years P0120018 04 9\n",
    "62 to 64 years P0120019 04 9\n",
    "65 and 66 years P0120020 04 9\n",
    "67 to 69 years P0120021 04 9\n",
    "70 to 74 years P0120022 04 9\n",
    "75 to 79 years P0120023 04 9\n",
    "80 to 84 years P0120024 04 9\n",
    "85 years and over P0120025 04 9\n",
    "Female: P0120026 04 9\n",
    "Under 5 years P0120027 04 9\n",
    "5 to 9 years P0120028 04 9\n",
    "10 to 14 years P0120029 04 9\n",
    "15 to 17 years P0120030 04 9\n",
    "18 and 19 years P0120031 04 9\n",
    "20 years P0120032 04 9\n",
    "21 years P0120033 04 9\n",
    "22 to 24 years P0120034 04 9\n",
    "25 to 29 years P0120035 04 9\n",
    "30 to 34 years P0120036 04 9\n",
    "35 to 39 years P0120037 04 9\n",
    "40 to 44 years P0120038 04 9\n",
    "45 to 49 years P0120039 04 9\n",
    "50 to 54 years P0120040 04 9\n",
    "55 to 59 years P0120041 04 9\n",
    "60 and 61 years P0120042 04 9\n",
    "62 to 64 years P0120043 04 9\n",
    "65 and 66 years P0120044 04 9\n",
    "67 to 69 years P0120045 04 9\n",
    "70 to 74 years P0120046 04 9\n",
    "TABLE (MATRIX) SECTION—Con.\n",
    "Data Dictionary 6-37\n",
    "U.S. Census Bureau, 2010 Census Summary File 1\n",
    "Table\n",
    "number Table contents\n",
    "Data\n",
    "dictionary\n",
    "reference\n",
    "name\n",
    "Segment\n",
    "Max\n",
    "size\n",
    "POPULATION SUBJECTS SUMMARIZED TO THE BLOCK LEVEL—Con.\n",
    "P12. SEX BY AGE [49]—Con.\n",
    "Total—Con.\n",
    "Female—Con.\n",
    "75 to 79 years P0120047 04 9\n",
    "80 to 84 years P0120048 04 9\n",
    "85 years and over P0120049 04 9"
   ]
  },
  {
   "cell_type": "code",
   "execution_count": null,
   "metadata": {
    "collapsed": false,
    "scrolled": false
   },
   "outputs": [],
   "source": [
    "working_age = {\n",
    "    'P012006': 'Male 15 to 17 years',\n",
    "    'P012007': 'Male 18 and 19 years',\n",
    "    'P012008': 'Male 20 years',\n",
    "    'P012009': 'Male 21 years',\n",
    "    'P012010': 'Male 22 to 24 years',\n",
    "    'P012011': 'Male 25 to 29 years',\n",
    "    'P012012': 'Male 30 to 34 years',\n",
    "    'P012013': 'Male 35 to 39 years',\n",
    "    'P012014': 'Male 40 to 44 years',\n",
    "    'P012015': 'Male 45 to 49 years',\n",
    "    'P012016': 'Male 50 to 54 years',\n",
    "    'P012017': 'Male 55 to 59 years',\n",
    "    'P012018': 'Male 60 and 61 years',\n",
    "    'P012019': 'Male 62 to 64 years',\n",
    "    'P012030': 'Female 15 to 17 years',\n",
    "    'P012031': 'Female 18 and 19 years',\n",
    "    'P012032': 'Female 20 years',\n",
    "    'P012033': 'Female 21 years',\n",
    "    'P012034': 'Female 22 to 24 years',\n",
    "    'P012035': 'Female 25 to 29 years',\n",
    "    'P012036': 'Female 30 to 34 years',\n",
    "    'P012037': 'Female 35 to 39 years',\n",
    "    'P012038': 'Female 40 to 44 years',\n",
    "    'P012039': 'Female 45 to 49 years',\n",
    "    'P012040': 'Female 50 to 54 years',\n",
    "    'P012041': 'Female 55 to 59 years',\n",
    "    'P012042': 'Female 60 and 61 years',\n",
    "    'P012043': 'Female 62 to 64 years'\n",
    "}\n",
    "\n",
    "working_age_cols = working_age.keys()\n",
    "working_age_exp = ' + '.join(working_age_cols)\n",
    "\n",
    "query = (\n",
    "    'DROP TABLE IF EXISTS working_age_blocks; '\n",
    "    'CREATE TABLE working_age_blocks '\n",
    "    '(geocode, working_age_pop) '\n",
    "    'WITHOUT OIDS '\n",
    "    'AS SELECT state || county || tract || block, %s '\n",
    "    'FROM sf1_04 INNER JOIN geo2010 ON sf1_04.logrecno = geo2010.logrecno AND sf1_04.stusab = geo2010.stusab '\n",
    "    'WHERE geo2010.sumlev=\\'101\\' ')% working_age_exp\n",
    "psql(query, database='census2010')"
   ]
  },
  {
   "cell_type": "code",
   "execution_count": null,
   "metadata": {
    "collapsed": false
   },
   "outputs": [
    {
     "name": "stdout",
     "output_type": "stream",
     "text": [
      "ALTER TABLE working_age_blocks ADD CONSTRAINT geocode_primary PRIMARY KEY (geocode);\n"
     ]
    }
   ],
   "source": [
    "psql('ALTER TABLE working_age_blocks '\n",
    "     'ADD CONSTRAINT geocode_primary PRIMARY KEY (geocode);',\n",
    "     database='census2010')\n"
   ]
  },
  {
   "cell_type": "code",
   "execution_count": 5,
   "metadata": {
    "collapsed": false
   },
   "outputs": [
    {
     "name": "stdout",
     "output_type": "stream",
     "text": [
      "SELECT SUM(working_age_pop) FROM working_age_blocks;\n",
      "Finished execution in 2.01712 secs: sum    \n",
      "-----------\n",
      " 209700801\n",
      "(1 row)\n"
     ]
    }
   ],
   "source": [
    "psql('SELECT SUM(working_age_pop) FROM working_age_blocks;', database='census2010')"
   ]
  },
  {
   "cell_type": "code",
   "execution_count": 6,
   "metadata": {
    "collapsed": false
   },
   "outputs": [
    {
     "name": "stdout",
     "output_type": "stream",
     "text": [
      "\\d geo2010\n",
      "Finished execution in 0.127231 secs: Table \"public.geo2010\"\n",
      "  Column   |         Type          | Modifiers \n",
      "-----------+-----------------------+-----------\n",
      " fileid    | character varying(6)  | not null\n",
      " stusab    | character varying(2)  | not null\n",
      " sumlev    | character varying(3)  | not null\n",
      " geocomp   | character varying(2)  | not null\n",
      " chariter  | character varying(3)  | not null\n",
      " cifsn     | character varying(2)  | \n",
      " logrecno  | character varying(7)  | not null\n",
      " region    | character varying(1)  | \n",
      " division  | character varying(1)  | \n",
      " state     | character varying(2)  | \n",
      " county    | character varying(3)  | \n",
      " countycc  | character varying(2)  | \n",
      " countysc  | character varying(2)  | \n",
      " cousub    | character varying(5)  | \n",
      " cousubcc  | character varying(2)  | \n",
      " cousubsc  | character varying(2)  | \n",
      " place     | character varying(5)  | \n",
      " placecc   | character varying(2)  | \n",
      " placesc   | character varying(2)  | \n",
      " tract     | character varying(6)  | \n",
      " blkgrp    | character varying(1)  | \n",
      " block     | character varying(4)  | \n",
      " iuc       | character varying(2)  | \n",
      " concit    | character varying(5)  | \n",
      " concitcc  | character varying(2)  | \n",
      " concitsc  | character varying(2)  | \n",
      " aianhh    | character varying(4)  | \n",
      " aianhhfp  | character varying(5)  | \n",
      " aianhhcc  | character varying(2)  | \n",
      " aihhtli   | character varying(1)  | \n",
      " aitsce    | character varying(3)  | \n",
      " aits      | character varying(5)  | \n",
      " aitscc    | character varying(2)  | \n",
      " ttract    | character varying(6)  | \n",
      " tblkgrp   | character varying(1)  | \n",
      " anrc      | character varying(5)  | \n",
      " anrccc    | character varying(2)  | \n",
      " cbsa      | character varying(5)  | \n",
      " cbsasc    | character varying(2)  | \n",
      " metdiv    | character varying(5)  | \n",
      " csa       | character varying(3)  | \n",
      " necta     | character varying(5)  | \n",
      " nectasc   | character varying(2)  | \n",
      " nectadiv  | character varying(5)  | \n",
      " cnecta    | character varying(3)  | \n",
      " cbsapci   | character varying(1)  | \n",
      " nectapci  | character varying(1)  | \n",
      " ua        | character varying(5)  | \n",
      " uasc      | character varying(2)  | \n",
      " uatype    | character varying(1)  | \n",
      " ur        | character varying(1)  | \n",
      " cd        | character varying(2)  | \n",
      " sldu      | character varying(3)  | \n",
      " sldl      | character varying(3)  | \n",
      " vtd       | character varying(6)  | \n",
      " vdt1      | character varying(1)  | \n",
      " reserve2  | character varying(3)  | \n",
      " zcta5     | character varying(5)  | \n",
      " submcd    | character varying(5)  | \n",
      " submcdcc  | character varying(2)  | \n",
      " sdelm     | character varying(5)  | \n",
      " sdsec     | character varying(5)  | \n",
      " sduni     | character varying(5)  | \n",
      " arealand  | character varying(14) | \n",
      " areawatr  | character varying(14) | \n",
      " name      | character varying(90) | \n",
      " funcstat  | character varying(1)  | \n",
      " gcuni     | character varying(1)  | \n",
      " pop100    | character varying(9)  | \n",
      " hu100     | character varying(9)  | \n",
      " intptlat  | character varying(11) | \n",
      " intptlon  | character varying(12) | \n",
      " lsadc     | character varying(2)  | \n",
      " partflag  | character varying(1)  | \n",
      " reserve3  | character varying(6)  | \n",
      " uga       | character varying(5)  | \n",
      " statens   | character varying(8)  | \n",
      " countyns  | character varying(8)  | \n",
      " cousubns  | character varying(8)  | \n",
      " placens   | character varying(8)  | \n",
      " concitns  | character varying(8)  | \n",
      " aianhhns  | character varying(8)  | \n",
      " aitsns    | character varying(8)  | \n",
      " anrcns    | character varying(8)  | \n",
      " submcdns  | character varying(8)  | \n",
      " cd113     | character varying(2)  | \n",
      " cd114     | character varying(2)  | \n",
      " cd115     | character varying(2)  | \n",
      " sldu2     | character varying(3)  | \n",
      " sldu3     | character varying(3)  | \n",
      " sldu4     | character varying(3)  | \n",
      " sldl2     | character varying(3)  | \n",
      " sldl3     | character varying(3)  | \n",
      " sldl4     | character varying(3)  | \n",
      " aianhhlsc | character varying(2)  | \n",
      " csasc     | character varying(2)  | \n",
      " cnectasc  | character varying(2)  | \n",
      " memi      | character varying(1)  | \n",
      " nmemi     | character varying(1)  | \n",
      " puma      | character varying(5)  | \n",
      " reserved  | character varying(18) | \n",
      "Indexes:\n",
      "    \"geo2010_pkey\" PRIMARY KEY, btree (stusab, logrecno)\n",
      "    \"logrecno_ix\" btree (logrecno)\n",
      "    \"stusab_ix\" btree (stusab)\n",
      "    \"sumlev_ix\" btree (sumlev)\n"
     ]
    }
   ],
   "source": [
    "psql('\\d geo2010', database='census2010')"
   ]
  },
  {
   "cell_type": "code",
   "execution_count": null,
   "metadata": {
    "collapsed": true
   },
   "outputs": [],
   "source": [
    "!rm working_age_blocks.psql\n",
    "!pg_dump -t working_age_blocks -f working_age_blocks.psql census2010\n",
    "!ls -l working_age_blocks.psql"
   ]
  },
  {
   "cell_type": "code",
   "execution_count": 16,
   "metadata": {
    "collapsed": false
   },
   "outputs": [
    {
     "name": "stdout",
     "output_type": "stream",
     "text": [
      "--\r\n",
      "-- PostgreSQL database dump\r\n",
      "--\r\n",
      "\r\n",
      "-- Dumped from database version 9.5.4\r\n",
      "-- Dumped by pg_dump version 9.5.4\r\n",
      "\r\n",
      "SET statement_timeout = 0;\r\n",
      "SET lock_timeout = 0;\r\n",
      "SET client_encoding = 'UTF8';\r\n",
      "SET standard_conforming_strings = on;\r\n",
      "SET check_function_bodies = false;\r\n",
      "SET client_min_messages = warning;\r\n",
      "SET row_security = off;\r\n",
      "\r\n",
      "SET search_path = public, pg_catalog;\r\n",
      "\r\n",
      "SET default_tablespace = '';\r\n",
      "\r\n",
      "SET default_with_oids = false;\r\n",
      "\r\n",
      "--\r\n",
      "-- Name: working_age_blocks; Type: TABLE; Schema: public; Owner: rsargent\r\n",
      "--\r\n",
      "\r\n",
      "CREATE TABLE working_age_blocks (\r\n",
      "    geocode text NOT NULL,\r\n",
      "    working_age_pop integer\r\n",
      ");\r\n",
      "\r\n",
      "\r\n",
      "ALTER TABLE working_age_blocks OWNER TO rsargent;\r\n",
      "\r\n",
      "--\r\n",
      "-- Data for Name: working_age_blocks; Type: TABLE DATA; Schema: public; Owner: rsargent\r\n",
      "--\r\n",
      "\r\n",
      "COPY working_age_blocks (geocode, working_age_pop) FROM stdin;\r\n",
      "020130001001363\t24\r\n",
      "010010211001053\t0\r\n",
      "050014808001218\t0\r\n",
      "040019442011002\t27\r\n",
      "060014271001000\t0\r\n",
      "080010085231000\t0\r\n",
      "090019900000001\t0\r\n",
      "110010001001000\t263\r\n",
      "100010421002025\t0\r\n",
      "120010002001000\t26\r\n",
      "130019501001000\t0\r\n",
      "150010202021124\t0\r\n"
     ]
    }
   ],
   "source": [
    "!head -50 working_age_blocks.psql"
   ]
  },
  {
   "cell_type": "code",
   "execution_count": 12,
   "metadata": {
    "collapsed": false
   },
   "outputs": [
    {
     "name": "stdout",
     "output_type": "stream",
     "text": [
      "\\d+ working_age_blocks\n",
      "Finished execution in 0.148423 secs: Table \"public.working_age_blocks\"\n",
      "     Column      |  Type   | Modifiers | Storage  | Stats target | Description \n",
      "-----------------+---------+-----------+----------+--------------+-------------\n",
      " geocode         | text    | not null  | extended |              | \n",
      " working_age_pop | integer |           | plain    |              | \n",
      "Indexes:\n",
      "    \"geocode_primary\" PRIMARY KEY, btree (geocode)\n"
     ]
    }
   ],
   "source": [
    "psql('\\d+ working_age_blocks', database='census2010')"
   ]
  },
  {
   "cell_type": "code",
   "execution_count": 17,
   "metadata": {
    "collapsed": false
   },
   "outputs": [
    {
     "name": "stdout",
     "output_type": "stream",
     "text": [
      "SET\n",
      "SET\n",
      "SET\n",
      "SET\n",
      "SET\n",
      "SET\n",
      "SET\n",
      "SET\n",
      "SET\n",
      "SET\n",
      "CREATE TABLE\n",
      "ALTER TABLE\n",
      "COPY 11155486\n",
      "ALTER TABLE\n"
     ]
    }
   ],
   "source": [
    "!psql -d timelapse < working_age_blocks.psql"
   ]
  },
  {
   "cell_type": "code",
   "execution_count": 18,
   "metadata": {
    "collapsed": false
   },
   "outputs": [
    {
     "name": "stdout",
     "output_type": "stream",
     "text": [
      "\\d+ working_age_blocks\n",
      "Finished execution in 0.140417 secs: Table \"public.working_age_blocks\"\n",
      "     Column      |  Type   | Modifiers | Storage  | Stats target | Description \n",
      "-----------------+---------+-----------+----------+--------------+-------------\n",
      " geocode         | text    | not null  | extended |              | \n",
      " working_age_pop | integer |           | plain    |              | \n",
      "Indexes:\n",
      "    \"geocode_primary\" PRIMARY KEY, btree (geocode)\n"
     ]
    }
   ],
   "source": [
    "psql('\\d+ working_age_blocks')"
   ]
  },
  {
   "cell_type": "code",
   "execution_count": null,
   "metadata": {
    "collapsed": true
   },
   "outputs": [],
   "source": []
  }
 ],
 "metadata": {
  "anaconda-cloud": {},
  "kernelspec": {
   "display_name": "Python [conda root]",
   "language": "python",
   "name": "conda-root-py"
  },
  "language_info": {
   "codemirror_mode": {
    "name": "ipython",
    "version": 2
   },
   "file_extension": ".py",
   "mimetype": "text/x-python",
   "name": "python",
   "nbconvert_exporter": "python",
   "pygments_lexer": "ipython2",
   "version": "2.7.12"
  }
 },
 "nbformat": 4,
 "nbformat_minor": 1
}
