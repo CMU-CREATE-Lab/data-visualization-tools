{
 "cells": [
  {
   "cell_type": "code",
   "execution_count": 5,
   "metadata": {
    "collapsed": false
   },
   "outputs": [
    {
     "name": "stdout",
     "output_type": "stream",
     "text": [
      "set default_psql_database to census2010\n"
     ]
    }
   ],
   "source": [
    "import array, csv, datetime, json, math, multiprocessing, os, random, re, shutil\n",
    "import shapely, shapely.wkb, struct, subprocess, sys, threading, urllib2\n",
    "\n",
    "def exec_ipynb(filename_or_url):\n",
    "    nb = (urllib2.urlopen(filename_or_url) if re.match(r'https?:', filename_or_url) else open(filename_or_url)).read()\n",
    "    jsonNb = json.loads(nb)\n",
    "    #check for the modified formatting of Jupyter Notebook v4\n",
    "    if(jsonNb['nbformat'] == 4):\n",
    "        exec '\\n'.join([''.join(cell['source']) for cell in jsonNb['cells'] if cell['cell_type'] == 'code']) in globals()\n",
    "    else:\n",
    "        exec '\\n'.join([''.join(cell['input']) for cell in jsonNb['worksheets'][0]['cells'] if cell['cell_type'] == 'code']) in globals()\n",
    "\n",
    "exec_ipynb('timelapse-utilities.ipynb')\n",
    "\n",
    "set_default_psql_database('census2010')"
   ]
  },
  {
   "cell_type": "markdown",
   "metadata": {},
   "source": [
    "Compute total population at block level for checking\n",
    "----------------------------------------------------"
   ]
  },
  {
   "cell_type": "code",
   "execution_count": 6,
   "metadata": {
    "collapsed": false
   },
   "outputs": [],
   "source": [
    "test_old_pop = False\n",
    "\n",
    "if test_old_pop:\n",
    "    psql(\"SELECT SUM(p001001) FROM sf1_2000_p1 \"\n",
    "         \"JOIN geo2000 \"\n",
    "         \"          ON geo2000.stusab = geo2000.stusab \"\n",
    "         \"             AND geo2000.logrecno = geo2000.logrecno \"\n",
    "         \"GROUP BY sumlev\")"
   ]
  },
  {
   "cell_type": "markdown",
   "metadata": {},
   "source": [
    "Utility Functions\n",
    "-----------------\n",
    "Consider moving some of these to timelapse-utilities.ipynb"
   ]
  },
  {
   "cell_type": "code",
   "execution_count": 7,
   "metadata": {
    "collapsed": false
   },
   "outputs": [],
   "source": [
    "def get_column_names(table_name, pattern='%'):\n",
    "    q = query_psql(\"SELECT column_name \"\n",
    "                   \"FROM information_schema.columns \"\n",
    "                   \"WHERE table_name='{table_name}' \"\n",
    "                   \"AND column_name LIKE '{pattern}'\".format(**locals()))\n",
    "    return [x[0] for x in q]\n",
    "\n",
    "#get_column_names('sf1_2000_p1', pattern='p001%')\n",
    "\n",
    "# convert e.g. p35e to p035e\n",
    "def canonicalize_census_table_name(name):\n",
    "    (prefix, num, suffix) = re.match(r'([a-z]+)(\\d+)([a-z])?$', name).groups()\n",
    "    if not suffix:\n",
    "        suffix = ''\n",
    "    return '%s%03d%s' % (prefix, int(num), suffix)\n",
    "\n",
    "def get_census_column_names_from_view(table_name):\n",
    "    census_table_name = canonicalize_census_table_name(\n",
    "        table_name.split('_')[-1])\n",
    "    return get_column_names(table_name, pattern=census_table_name + '%')\n",
    "    \n",
    "#print get_census_column_names_from_view('sf1_2000_p35e')\n",
    "#print get_census_column_names_from_view('sf1_p1')\n",
    "\n",
    "\n",
    "def get_view_names(pattern='%'):\n",
    "    q = query_psql(\"SELECT table_name \"\n",
    "                   \"FROM INFORMATION_SCHEMA.views \"\n",
    "                   \"WHERE table_name LIKE '{pattern}'\".format(**locals()))\n",
    "    return [x[0] for x in q]\n",
    "\n",
    "#view_names = get_view_names('sf1_2000_%')\n",
    "    "
   ]
  },
  {
   "cell_type": "markdown",
   "metadata": {},
   "source": [
    "Create block table indexed by geoid\n",
    "-----------------------------------"
   ]
  },
  {
   "cell_type": "code",
   "execution_count": 22,
   "metadata": {
    "collapsed": true
   },
   "outputs": [],
   "source": [
    "def psql_table_exists(table_name):\n",
    "    try:\n",
    "        query_psql('SELECT * FROM {table_name} LIMIT 1'.format(**locals()))\n",
    "        return True\n",
    "    except:\n",
    "        return False\n",
    "\n",
    "def create_block_indexed_table_from_view(view_name, year, force=False):\n",
    "    tokens = view_name.split('_')\n",
    "    addl = []\n",
    "    # 2000 tables look like sf1_2000_p1;  rename to sf1_2000_block_p001\n",
    "    # 2010 tables look like sf1_p1;       rename to sf1_2010_block_p001\n",
    "    if year == 2010:\n",
    "        addl.append('2010')\n",
    "    addl.append('block')\n",
    "    tokens = (tokens[0:-1] +\n",
    "              addl +\n",
    "              [canonicalize_census_table_name(tokens[-1])])\n",
    "    table_name = '_'.join(tokens)\n",
    "    if psql_table_exists(table_name) and not force:\n",
    "        sys.stdout.write('{table_name} already exists\\n'.format(**locals()))\n",
    "        return\n",
    "    tmp_table_name = table_name + \"_tmp\"\n",
    "    data_columns = ', '.join(get_census_column_names_from_view(view_name))\n",
    "    psql(\"DROP TABLE {table_name}\".format(**locals()))\n",
    "    psql(\"DROP TABLE {tmp_table_name}\".format(**locals()))\n",
    "    psql((\"CREATE TABLE {tmp_table_name} AS \"\n",
    "          \"SELECT (state || county || tract || block) AS geoid{year}, \"\n",
    "          \"       {data_columns} \"\n",
    "          \"FROM {view_name} \"\n",
    "          \"JOIN geo{year} USING (stusab, logrecno) \"\n",
    "          \"WHERE sumlev='101' \").format(**locals()))\n",
    "    psql((\"CREATE UNIQUE INDEX {table_name}_idx \"\n",
    "          \"ON {tmp_table_name} (geoid{year})\".format(**locals())))\n",
    "    psql((\"ALTER TABLE {tmp_table_name} \"\n",
    "          \"ADD CONSTRAINT {table_name}_pkey PRIMARY KEY \"\n",
    "          \"  USING INDEX {table_name}_idx;\").format(**locals()))\n",
    "    psql(\"ALTER TABLE {table_name}_tmp RENAME TO {table_name}\".format(**locals()))\n",
    "    "
   ]
  },
  {
   "cell_type": "code",
   "execution_count": null,
   "metadata": {
    "collapsed": false
   },
   "outputs": [
    {
     "name": "stdout",
     "output_type": "stream",
     "text": [
      "Execution of SELECT table_name FROM INFORMATION_SCHEMA.views WHERE table_name LIKE 'sf1_%'\n",
      "took 0.00856805 seconds and returned 617 rows\n",
      "Execution of SELECT * FROM sf1_2010_block_p001 LIMIT 1\n",
      "took 0.00661778 seconds and returned 1 rows\n",
      "sf1_2010_block_p001 already exists\n",
      "Execution of SELECT column_name FROM information_schema.columns WHERE table_name='sf1_p3' AND column_name LIKE 'p003%'\n",
      "took 0.0152152 seconds and returned 8 rows\n",
      "Execution of SELECT column_name FROM information_schema.columns WHERE table_name='sf1_p2' AND column_name LIKE 'p002%'\n",
      "took 0.0138178 seconds and returned 6 rows\n",
      "Execution of SELECT column_name FROM information_schema.columns WHERE table_name='sf1_p6' AND column_name LIKE 'p006%'\n",
      "took 0.012661 seconds and returned 7 rows\n",
      "Execution of SELECT column_name FROM information_schema.columns WHERE table_name='sf1_p4' AND column_name LIKE 'p004%'\n",
      "took 0.01388 seconds and returned 3 rows\n",
      "Execution of SELECT column_name FROM information_schema.columns WHERE table_name='sf1_p7' AND column_name LIKE 'p007%'\n",
      "took 0.0147388 seconds and returned 15 rows\n",
      "Execution of SELECT column_name FROM information_schema.columns WHERE table_name='sf1_p5' AND column_name LIKE 'p005%'\n",
      "took 0.017118 seconds and returned 17 rows\n",
      "Execution of SELECT column_name FROM information_schema.columns WHERE table_name='sf1_p8' AND column_name LIKE 'p008%'\n",
      "took 0.013876 seconds and returned 71 rows\n",
      "DROP TABLE sf1_2010_block_p003\n",
      "Execution of SELECT column_name FROM information_schema.columns WHERE table_name='sf1_p9' AND column_name LIKE 'p009%'\n",
      "took 0.022186 seconds and returned 73 rows\n",
      "DROP TABLE sf1_2010_block_p002\n",
      "DROP TABLE sf1_2010_block_p004\n",
      "DROP TABLE sf1_2010_block_p007\n",
      "DROP TABLE sf1_2010_block_p008\n",
      "DROP TABLE sf1_2010_block_p009\n",
      "DROP TABLE sf1_2010_block_p006\n",
      "Finished execution in 0.0894601 secs: ERROR:  table \"sf1_2010_block_p006\" does not exist\n",
      "Finished execution in 0.0909591 secs: ERROR:  table \"sf1_2010_block_p002\" does not exist\n",
      "Finished execution in 0.093977 secs: ERROR:  table \"sf1_2010_block_p003\" does not exist\n",
      "DROP TABLE sf1_2010_block_p005\n",
      "DROP TABLE sf1_2010_block_p006_tmp\n",
      "Finished execution in 0.0993252 secs: ERROR:  table \"sf1_2010_block_p004\" does not exist\n",
      "DROP TABLE sf1_2010_block_p002_tmp\n",
      "Finished execution in 0.0970039 secs: ERROR:  table \"sf1_2010_block_p007\" does not exist\n",
      "DROP TABLE sf1_2010_block_p003_tmp\n",
      "Finished execution in 0.100146 secs: ERROR:  table \"sf1_2010_block_p005\" does not exist\n",
      "Finished execution in 0.102101 secs: ERROR:  table \"sf1_2010_block_p008\" does not exist\n",
      "DROP TABLE sf1_2010_block_p004_tmp\n",
      "Finished execution in 0.089699 secs: ERROR:  table \"sf1_2010_block_p009\" does not exist\n",
      "DROP TABLE sf1_2010_block_p007_tmp\n",
      "DROP TABLE sf1_2010_block_p005_tmp\n",
      "DROP TABLE sf1_2010_block_p008_tmp\n",
      "DROP TABLE sf1_2010_block_p009_tmp\n",
      "Finished execution in 0.0709291 secs: ERROR:  table \"sf1_2010_block_p006_tmp\" does not exist\n",
      "Finished execution in 0.073282 secs: ERROR:  table \"sf1_2010_block_p002_tmp\" does not exist\n",
      "CREATE TABLE sf1_2010_block_p006_tmp AS SELECT (state || county || tract || block) AS geoid2010,        p006001, p006002, p006003, p006004, p006005, p006006, p006007 FROM sf1_p6 JOIN geo2010 USING (stusab, logrecno) WHERE sumlev='101'\n",
      "Finished execution in 0.074837 secs: ERROR:  table \"sf1_2010_block_p003_tmp\" does not exist\n",
      "Finished execution in 0.0699189 secs: ERROR:  table \"sf1_2010_block_p004_tmp\" does not exist\n",
      "CREATE TABLE sf1_2010_block_p002_tmp AS SELECT (state || county || tract || block) AS geoid2010,        p002001, p002002, p002003, p002004, p002005, p002006 FROM sf1_p2 JOIN geo2010 USING (stusab, logrecno) WHERE sumlev='101'\n",
      "CREATE TABLE sf1_2010_block_p003_tmp AS SELECT (state || county || tract || block) AS geoid2010,        p003001, p003002, p003003, p003004, p003005, p003006, p003007, p003008 FROM sf1_p3 JOIN geo2010 USING (stusab, logrecno) WHERE sumlev='101'\n",
      "Finished execution in 0.0732 secs: ERROR:  table \"sf1_2010_block_p007_tmp\" does not exist\n",
      "Finished execution in 0.0710051 secs: ERROR:  table \"sf1_2010_block_p005_tmp\" does not exist\n",
      "CREATE TABLE sf1_2010_block_p004_tmp AS SELECT (state || county || tract || block) AS geoid2010,        p004001, p004002, p004003 FROM sf1_p4 JOIN geo2010 USING (stusab, logrecno) WHERE sumlev='101'\n",
      "Finished execution in 0.07195 secs: ERROR:  table \"sf1_2010_block_p009_tmp\" does not exist\n",
      "Finished execution in 0.072746 secs: ERROR:  table \"sf1_2010_block_p008_tmp\" does not exist\n",
      "CREATE TABLE sf1_2010_block_p007_tmp AS SELECT (state || county || tract || block) AS geoid2010,        p007001, p007002, p007003, p007004, p007005, p007006, p007007, p007008, p007009, p007010, p007011, p007012, p007013, p007014, p007015 FROM sf1_p7 JOIN geo2010 USING (stusab, logrecno) WHERE sumlev='101'\n",
      "CREATE TABLE sf1_2010_block_p005_tmp AS SELECT (state || county || tract || block) AS geoid2010,        p005001, p005002, p005003, p005004, p005005, p005006, p005007, p005008, p005009, p005010, p005011, p005012, p005013, p005014, p005015, p005016, p005017 FROM sf1_p5 JOIN geo2010 USING (stusab, logrecno) WHERE sumlev='101'\n",
      "CREATE TABLE sf1_2010_block_p008_tmp AS SELECT (state || county || tract || block) AS geoid2010,        p008001, p008002, p008003, p008004, p008005, p008006, p008007, p008008, p008009, p008010, p008011, p008012, p008013, p008014, p008015, p008016, p008017, p008018, p008019, p008020, p008021, p008022, p008023, p008024, p008025, p008026, p008027, p008028, p008029, p008030, p008031, p008032, p008033, p008034, p008035, p008036, p008037, p008038, p008039, p008040, p008041, p008042, p008043, p008044, p008045, p008046, p008047, p008048, p008049, p008050, p008051, p008052, p008053, p008054, p008055, p008056, p008057, p008058, p008059, p008060, p008061, p008062, p008063, p008064, p008065, p008066, p008067, p008068, p008069, p008070, p008071 FROM sf1_p8 JOIN geo2010 USING (stusab, logrecno) WHERE sumlev='101'\n",
      "CREATE TABLE sf1_2010_block_p009_tmp AS SELECT (state || county || tract || block) AS geoid2010,        p009001, p009002, p009003, p009004, p009005, p009006, p009007, p009008, p009009, p009010, p009011, p009012, p009013, p009014, p009015, p009016, p009017, p009018, p009019, p009020, p009021, p009022, p009023, p009024, p009025, p009026, p009027, p009028, p009029, p009030, p009031, p009032, p009033, p009034, p009035, p009036, p009037, p009038, p009039, p009040, p009041, p009042, p009043, p009044, p009045, p009046, p009047, p009048, p009049, p009050, p009051, p009052, p009053, p009054, p009055, p009056, p009057, p009058, p009059, p009060, p009061, p009062, p009063, p009064, p009065, p009066, p009067, p009068, p009069, p009070, p009071, p009072, p009073 FROM sf1_p9 JOIN geo2010 USING (stusab, logrecno) WHERE sumlev='101'\n"
     ]
    }
   ],
   "source": [
    "pool = SimpleThreadPoolExecutor(8)  # seems good for 64GB RAM earthserve2\n",
    "\n",
    "for view_name in get_view_names('sf1_%'):\n",
    "    if '2000' in view_name:\n",
    "        year = 2000\n",
    "    else:\n",
    "        year = 2010\n",
    "    pool.submit(create_block_indexed_table_from_view, view_name, year)\n",
    "\n",
    "pool.shutdown()"
   ]
  },
  {
   "cell_type": "markdown",
   "metadata": {},
   "source": [
    "Test creating table\n",
    "-------------------"
   ]
  },
  {
   "cell_type": "code",
   "execution_count": 14,
   "metadata": {
    "collapsed": false
   },
   "outputs": [
    {
     "name": "stdout",
     "output_type": "stream",
     "text": [
      "\\d sf1_2000_block_p001\n",
      "Finished execution in 0.117092 secs: Table \"public.sf1_2000_block_p001\"\n",
      "  Column   |  Type   | Modifiers \n",
      "-----------+---------+-----------\n",
      " geoid2000 | text    | not null\n",
      " p001001   | integer | \n",
      "Indexes:\n",
      "    \"sf1_2000_block_p001_pkey\" PRIMARY KEY, btree (geoid2000)\n",
      "None\n",
      "select * from sf1_2000_block_p001 LIMIT 10\n",
      "Finished execution in 0.103305 secs: geoid2000    | p001001 \n",
      "-----------------+---------\n",
      " 020130001001052 |     713\n",
      " 010010211002045 |     115\n",
      " 050019808001184 |       0\n",
      " 040019442001073 |      64\n",
      " 060014271001000 |      27\n",
      " 080010085121012 |       0\n",
      " 090010000000992 |       0\n",
      " 110010001001000 |     279\n",
      " 100010422021006 |      39\n",
      " 120010002001000 |      35\n",
      "(10 rows)\n",
      "None\n",
      "select sum(p001001) from sf1_2000_block_p001\n",
      "Finished execution in 1.33903 secs: sum    \n",
      "-----------\n",
      " 285230516\n",
      "(1 row)\n",
      "None\n"
     ]
    }
   ],
   "source": [
    "# Test\n",
    "#create_table_from_view('sf1_2000_p1', 2000)\n",
    "print psql('\\d sf1_2000_block_p001')\n",
    "print psql('select * from sf1_2000_block_p001 LIMIT 10')\n",
    "print psql('select sum(p001001) from sf1_2000_block_p001')"
   ]
  },
  {
   "cell_type": "code",
   "execution_count": null,
   "metadata": {
    "collapsed": true
   },
   "outputs": [],
   "source": []
  }
 ],
 "metadata": {
  "anaconda-cloud": {},
  "kernelspec": {
   "display_name": "Python [default]",
   "language": "python",
   "name": "python2"
  },
  "language_info": {
   "codemirror_mode": {
    "name": "ipython",
    "version": 2
   },
   "file_extension": ".py",
   "mimetype": "text/x-python",
   "name": "python",
   "nbconvert_exporter": "python",
   "pygments_lexer": "ipython2",
   "version": "2.7.12"
  }
 },
 "nbformat": 4,
 "nbformat_minor": 1
}
