{
 "cells": [
  {
   "cell_type": "code",
   "execution_count": 11,
   "metadata": {
    "collapsed": true
   },
   "outputs": [],
   "source": [
    "import glob, json, pprint, re\n",
    "from collections import OrderedDict\n",
    "pp = pprint.PrettyPrinter(indent=4)"
   ]
  },
  {
   "cell_type": "markdown",
   "metadata": {},
   "source": [
    "    wget https://data2.nhgis.org/extracts/97092/13/nhgis0013_csv.zip\n",
    "    wget https://data2.nhgis.org/extracts/97092/12/nhgis0012_csv.zip\n",
    "\n",
    "    convert NHGIS code to Source code\n",
    "    lowercase letters\n",
    "    leading zeros for a 3-digit table number\n",
    "\n",
    "    P2->p002\n",
    "    P12->p012\n",
    "\n",
    "    we want something like with approx 9K rows for 2010:\n",
    "\n",
    "    [\n",
    "    ...all the earlier tables...\n",
    "     [\"p012001\", [\"Sex by Age\", \"Total\"]],\n",
    "     [\"p012002\", [\"Sex by Age\", \"Male\"]],\n",
    "     [\"p012003\", [\"Sex by Age\", \"Male\", \"Under 5 years\"]]\n",
    "    ...all the later tables...\n",
    "    ]\n"
   ]
  },
  {
   "cell_type": "code",
   "execution_count": 2,
   "metadata": {
    "collapsed": false,
    "scrolled": true
   },
   "outputs": [
    {
     "name": "stdout",
     "output_type": "stream",
     "text": [
      "--2017-04-17 16:09:48--  https://data2.nhgis.org/extracts/97092/14/nhgis0014_csv.zip\n",
      "Resolving data2.nhgis.org... 128.101.163.216\n",
      "Connecting to data2.nhgis.org|128.101.163.216|:443... connected.\n",
      "HTTP request sent, awaiting response... 200 OK\n",
      "Length: 1740499 (1.7M) [application/zip]\n",
      "Saving to: 'nhgis0014_csv.zip'\n",
      "\n",
      "nhgis0014_csv.zip   100%[===================>]   1.66M  3.93MB/s    in 0.4s    \n",
      "\n",
      "2017-04-17 16:09:49 (3.93 MB/s) - 'nhgis0014_csv.zip' saved [1740499/1740499]\n",
      "\n"
     ]
    }
   ],
   "source": [
    "!wget https://data2.nhgis.org/extracts/97092/12/nhgis0012_csv.zip\n",
    "!wget https://data2.nhgis.org/extracts/97092/13/nhgis0013_csv.zip\n",
    "!wget https://data2.nhgis.org/extracts/97092/14/nhgis0014_csv.zip"
   ]
  },
  {
   "cell_type": "code",
   "execution_count": 3,
   "metadata": {
    "collapsed": false
   },
   "outputs": [
    {
     "name": "stdout",
     "output_type": "stream",
     "text": [
      "Archive:  nhgis0014_csv.zip\n",
      "  inflating: nhgis0014_csv/nhgis0014_ds120_1990_block_codebook.txt  \n",
      "  inflating: nhgis0014_csv/nhgis0014_ds120_1990_block.csv  \n"
     ]
    }
   ],
   "source": [
    "!unzip nhgis0012_csv.zip\n",
    "!unzip nhgis0013_csv.zip\n",
    "!unzip nhgis0014_csv.zip"
   ]
  },
  {
   "cell_type": "code",
   "execution_count": 185,
   "metadata": {
    "collapsed": false
   },
   "outputs": [],
   "source": [
    "#!cat nhgis0014_csv/nhgis0014_ds120_1990_block_codebook.txt"
   ]
  },
  {
   "cell_type": "code",
   "execution_count": 72,
   "metadata": {
    "collapsed": false
   },
   "outputs": [],
   "source": [
    "#!cat nhgis0012_csv/nhgis0012_ds147_2000_block_codebook.txt"
   ]
  },
  {
   "cell_type": "code",
   "execution_count": 50,
   "metadata": {
    "collapsed": false,
    "scrolled": true
   },
   "outputs": [],
   "source": [
    "#!cat nhgis0013_csv/nhgis0013_ds172_2010_block_codebook.txt"
   ]
  },
  {
   "cell_type": "code",
   "execution_count": 15,
   "metadata": {
    "collapsed": false
   },
   "outputs": [
    {
     "name": "stdout",
     "output_type": "stream",
     "text": [
      "Found  982 ( 982) columns in dataset census1990_block2010\n",
      "982\n"
     ]
    }
   ],
   "source": [
    "columnDescriptors = OrderedDict()\n",
    "nhgisColId_to_cbColId_map = OrderedDict()\n",
    "cbColId_to_nhgisColId_map = OrderedDict()\n",
    "cbColId_to_descriptors_map = OrderedDict()\n",
    "\n",
    "def extractColumnDescriptors(dataset, codebook):\n",
    "    body = open(codebook).read()\n",
    "    tablePattern = re.compile(r'''\n",
    " *Table (\\d+): +(.*)\n",
    " *Universe: +(.*)\n",
    " *Source code: +(.*)\n",
    " *NHGIS code: +(.*)\n",
    "(( *\\w+: +.*\\n)+)''', re.M)\n",
    "    columnPattern = re.compile(r'^ *(\\w+): +(.*)$', re.M)\n",
    "    sourceCodePattern = re.compile(r'^.*?(.)(\\d+)(.*?)$')\n",
    "\n",
    "    oldNhgisCount = len(nhgisColId_to_cbColId_map)\n",
    "    oldCbCount = len(cbColId_to_nhgisColId_map)\n",
    "    for table in re.findall(tablePattern, body):\n",
    "        (tableId, tableName, universeName, sourceCode, nhgis, columns) = [s.strip() for s in table[:6]]\n",
    "        for (nhgisColId, colDesc) in re.findall(columnPattern, columns):\n",
    "            descs = colDesc.strip().split(' >> ')\n",
    "            column = descs[-1]\n",
    "            descs = ['Grouping: %s' % g for g in descs[:-1]]\n",
    "            descs.append(column)\n",
    "            m = re.match(sourceCodePattern, sourceCode)\n",
    "            descs = ['Dataset: %s' % dataset,\n",
    "                     'Universe: %s' % universeName,\n",
    "                     'Table %s: %s' % (tableId, tableName)\n",
    "                     #'Table: %s' % tableName\n",
    "                    ] + descs\n",
    "            (a, b, c) = (m.group(1), m.group(2), m.group(3))\n",
    "            b = '{:03d}'.format(int(b))\n",
    "            if (c == ''):\n",
    "                c = '0'\n",
    "            d = '{:03d}'.format(int(nhgisColId[3:]))\n",
    "            cbColId = ''.join((a, b, c, d)).upper();\n",
    "            cbColId = dataset + '.' + cbColId\n",
    "            nhgisColId = dataset + '.' + nhgisColId\n",
    "            #if (len(descs) > 4): print descs\n",
    "            columnDescriptors[dataset + '.' + cbColId] = descs\n",
    "            nhgisColId_to_cbColId_map[nhgisColId] = cbColId\n",
    "            cbColId_to_nhgisColId_map[cbColId] = nhgisColId\n",
    "            cbColId_to_descriptors_map[cbColId] = descs\n",
    "\n",
    "    nhgisCount = len(nhgisColId_to_cbColId_map) - oldNhgisCount\n",
    "    cbCount = len(cbColId_to_nhgisColId_map) - oldCbCount\n",
    "    print 'Found %4d (%4d) columns in dataset %s' %(nhgisCount, cbCount, dataset)\n",
    "\n",
    "extractColumnDescriptors('census1990_block2010', 'nhgis0014_csv/nhgis0014_ds120_1990_block_codebook.txt')\n",
    "extractColumnDescriptors('census2000_block2010', 'nhgis0012_csv/nhgis0012_ds147_2000_block_codebook.txt')\n",
    "extractColumnDescriptors('census2010_block2010', 'nhgis0013_csv/nhgis0013_ds172_2010_block_codebook.txt')\n",
    "open('capture/NHGIS_1990/columnMap.json','w').write(json.dumps(nhgisColId_to_cbColId_map))\n",
    "print len(columnDescriptors)\n",
    "#pp.pprint(columnDescriptors)"
   ]
  },
  {
   "cell_type": "code",
   "execution_count": 4,
   "metadata": {
    "collapsed": true
   },
   "outputs": [],
   "source": [
    "def columnDescriptorString(cbColId):\n",
    "    return '%s: %s' % (cbColId, ' >> '.join(cbColId_to_descriptors_map[cbColId]))\n",
    "\n",
    "with open('assets/allById.html','w') as html:\n",
    "    html.write('<html><head></head><body>\\n')\n",
    "    for cbColId in cbColId_to_descriptors_map.iterkeys():\n",
    "        html.write(columnDescriptorString(cbColId) + '<br>\\n')\n",
    "    html.write('</body></html>')"
   ]
  },
  {
   "cell_type": "code",
   "execution_count": 5,
   "metadata": {
    "collapsed": false,
    "scrolled": true
   },
   "outputs": [],
   "source": [
    "with open('assets/allColIds','w') as f:\n",
    "    for id in cbColId_to_nhgisColId_map.iterkeys():\n",
    "        f.write(id + '\\n')"
   ]
  },
  {
   "cell_type": "code",
   "execution_count": 6,
   "metadata": {
    "collapsed": false
   },
   "outputs": [],
   "source": [
    "#for id in cbColId_to_nhgisColId_map.iterkeys(): print id"
   ]
  },
  {
   "cell_type": "code",
   "execution_count": 7,
   "metadata": {
    "collapsed": false
   },
   "outputs": [
    {
     "name": "stdout",
     "output_type": "stream",
     "text": [
      "[   'Dataset: census1990_block2010',\n",
      "    'Dataset: census2000_block2010',\n",
      "    'Dataset: census2010_block2010']\n"
     ]
    }
   ],
   "source": [
    "def insertColumnDescription(hdict, cbColId, descs):\n",
    "    #print colId, len(descs), descs\n",
    "    assert(len(descs) > 0)\n",
    "    d = descs[0]\n",
    "    if len(descs) == 1:\n",
    "        if d in hdict:\n",
    "            if isinstance(hdict[d], basestring):\n",
    "                #prev_nhgisColId = hdict[d].split(' ')[0]\n",
    "                prev_cbColId = hdict[d]\n",
    "                print \"\\nWARNING -- Column has name collision with column:\"\n",
    "                print columnDescriptorString(cbColId)\n",
    "                print columnDescriptorString(prev_cbColId)\n",
    "            else:\n",
    "                print \"\\nWARNING -- Column has name collision with grouping:\"\n",
    "                print columnDescriptorString(cbColId)\n",
    "                print hdict[d]\n",
    "            return\n",
    "        #hdict[d] = '%s (%s)' % (nhgisColId, nhgisColId_to_cbColId_map[nhgisColId])\n",
    "        hdict[d] = cbColId\n",
    "        return\n",
    "    else:\n",
    "        if not d in hdict:\n",
    "            hdict[d] = OrderedDict()\n",
    "        if isinstance(hdict[d], basestring):\n",
    "            #prev_cbColId = hdict[d].split(' ')[0]\n",
    "            prev_cbColId = hdict[d]\n",
    "            print \"\\nWARNING -- Grouping has name collision with column:\"\n",
    "            print columnDescriptorString(cbColId)\n",
    "            print columnDescriptorString(prev_ncbColId)\n",
    "            return\n",
    "        insertColumnDescription(hdict[d], cbColId, descs[1:])\n",
    "columnHierarchy = OrderedDict()\n",
    "#pp.pprint(cbColId_to_descriptors_map.items()[:10])\n",
    "for (cbColId, descs) in cbColId_to_descriptors_map.iteritems():\n",
    "    insertColumnDescription(columnHierarchy, cbColId, descs)\n",
    "\n",
    "pp.pprint(columnHierarchy.keys())\n",
    "#pp.pprint(columnHierarchy['Dataset: census2000']['Universe: Persons'])\n",
    "#pp.pprint(columnHierarchy)"
   ]
  },
  {
   "cell_type": "code",
   "execution_count": 8,
   "metadata": {
    "collapsed": false
   },
   "outputs": [],
   "source": [
    "def ordereddict_to_array(x):\n",
    "    if (type(x) is OrderedDict):\n",
    "        return [(k, ordereddict_to_array(v)) for (k, v) in x.iteritems()]\n",
    "    else:\n",
    "        return x\n",
    "#pp.pprint(ordereddict_to_array(columnHierarchy))\n",
    "\n",
    "!mkdir -p assets\n",
    "open('assets/all.json','w').write(json.dumps(ordereddict_to_array(columnHierarchy)))"
   ]
  },
  {
   "cell_type": "code",
   "execution_count": 9,
   "metadata": {
    "collapsed": false
   },
   "outputs": [],
   "source": [
    "for y in (1990, 2000, 2010):\n",
    "    ds = 'census%d_block2010' % y\n",
    "    open('assets/%s.json' % ds, 'w').write(json.dumps(ordereddict_to_array(columnHierarchy['Dataset: %s' % ds])))\n",
    "    open('assets/%dById.json' % y, 'w').write(json.dumps(\n",
    "            [(id, ' >> '.join(descs[1:]))\n",
    "             for (id, descs) in cbColId_to_descriptors_map.iteritems()\n",
    "             if id.startswith('census%d' % y)]))"
   ]
  },
  {
   "cell_type": "code",
   "execution_count": 1,
   "metadata": {
    "collapsed": false
   },
   "outputs": [
    {
     "name": "stdout",
     "output_type": "stream",
     "text": [
      "-rw-rw-r-- 1 rsargent rsargent 152109 Apr 26 16:02 assets/1990ById.json\r\n",
      "-rw-rw-r-- 1 rsargent rsargent 648462 Apr 26 16:02 assets/2000ById.json\r\n",
      "-rw-rw-r-- 1 rsargent rsargent 754392 Apr 26 16:02 assets/2010ById.json\r\n",
      "-rw-rw-r-- 1 rsargent rsargent 648432 Apr 26 16:02 assets/all.json\r\n",
      "-rw-rw-r-- 1 rsargent rsargent  68993 Apr 26 16:02 assets/census1990_block2010.json\r\n",
      "-rw-rw-r-- 1 rsargent rsargent 248631 Apr 26 16:02 assets/census2000_block2010.json\r\n",
      "-rw-rw-r-- 1 rsargent rsargent 330697 Apr 26 16:02 assets/census2010_block2010.json\r\n"
     ]
    }
   ],
   "source": [
    "!ls -l assets/*.json"
   ]
  },
  {
   "cell_type": "code",
   "execution_count": 1,
   "metadata": {
    "collapsed": false
   },
   "outputs": [
    {
     "name": "stdout",
     "output_type": "stream",
     "text": [
      "/mnt/ssd/rsargent/projects/dotmaps/server/data-visualization-tools/examples/lodes\r\n"
     ]
    }
   ],
   "source": [
    "!pwd"
   ]
  },
  {
   "cell_type": "code",
   "execution_count": 17,
   "metadata": {
    "collapsed": false
   },
   "outputs": [
    {
     "name": "stdout",
     "output_type": "stream",
     "text": [
      "982 23 677\n",
      "2881 137 3044\n",
      "3346 104 3346\n"
     ]
    }
   ],
   "source": [
    "for year in [1990, 2000, 2010]:\n",
    "    print len(json.load(open('assets/%dById.json' % year))), len(json.load(open('assets/census%d_block2010.json' % year))), len(glob.glob('columncache/census%d_block2010/[A-Z]*' % year))"
   ]
  },
  {
   "cell_type": "code",
   "execution_count": null,
   "metadata": {
    "collapsed": true
   },
   "outputs": [],
   "source": [
    "json.load()"
   ]
  }
 ],
 "metadata": {
  "anaconda-cloud": {},
  "kernelspec": {
   "display_name": "Python [default]",
   "language": "python",
   "name": "python2"
  },
  "language_info": {
   "codemirror_mode": {
    "name": "ipython",
    "version": 2
   },
   "file_extension": ".py",
   "mimetype": "text/x-python",
   "name": "python",
   "nbconvert_exporter": "python",
   "pygments_lexer": "ipython2",
   "version": "2.7.12"
  }
 },
 "nbformat": 4,
 "nbformat_minor": 1
}
