{
 "cells": [
  {
   "cell_type": "markdown",
   "metadata": {},
   "source": [
    "Download, unpack, and import into database the 2010 Census Block Shapefiles\n",
    "==========================================================================="
   ]
  },
  {
   "cell_type": "code",
   "execution_count": 1,
   "metadata": {
    "collapsed": false
   },
   "outputs": [],
   "source": [
    "import csv, json, os, re, shutil\n",
    "import subprocess, sys, threading, urllib2\n",
    "\n",
    "def exec_ipynb(filename_or_url):\n",
    "    nb = (urllib2.urlopen(filename_or_url) if re.match(r'https?:', filename_or_url) else open(filename_or_url)).read()\n",
    "    jsonNb = json.loads(nb)\n",
    "    #check for the modified formatting of Jupyter Notebook v4\n",
    "    if(jsonNb['nbformat'] == 4):\n",
    "        exec '\\n'.join([''.join(cell['source']) for cell in jsonNb['cells'] if cell['cell_type'] == 'code']) in globals()\n",
    "    else:\n",
    "        exec '\\n'.join([''.join(cell['input']) for cell in jsonNb['worksheets'][0]['cells'] if cell['cell_type'] == 'code']) in globals()\n",
    "\n",
    "exec_ipynb('timelapse-utilities.ipynb')"
   ]
  },
  {
   "cell_type": "markdown",
   "metadata": {},
   "source": [
    "Census 2010 subdivisions, for U.S. only:\n",
    "    \n",
    "    ~50 states\n",
    "    ~73K census tracts (approx 4000 people)\n",
    "    ~218K block groups (approx 1500 people)\n",
    "    ~11M blocks"
   ]
  },
  {
   "cell_type": "markdown",
   "metadata": {},
   "source": [
    "How to set up postgres\n",
    "======================\n",
    "    \n",
    "    sudo -u postgres createuser --superuser $USER\n",
    "    sudo -u postgres createdb $USER\n",
    "    touch ~/.psql_history"
   ]
  },
  {
   "cell_type": "code",
   "execution_count": 7,
   "metadata": {
    "collapsed": false
   },
   "outputs": [
    {
     "name": "stdout",
     "output_type": "stream",
     "text": [
      "ERROR:  database \"timelapse\" already exists\n",
      "CREATE EXTENSION IF NOT EXISTS postgis;\n",
      "Finished execution: CREATE EXTENSION\n",
      "\n",
      "NOTICE:  extension \"postgis\" already exists, skipping\n",
      "\n"
     ]
    }
   ],
   "source": [
    "!psql -c 'CREATE DATABASE timelapse;'\n",
    "psql('CREATE EXTENSION IF NOT EXISTS postgis;')"
   ]
  },
  {
   "cell_type": "code",
   "execution_count": 8,
   "metadata": {
    "collapsed": false
   },
   "outputs": [],
   "source": [
    "capture_dir = \"capture/tabblock_2010/\""
   ]
  },
  {
   "cell_type": "markdown",
   "metadata": {},
   "source": [
    "Download 2010 Census Block Shapefiles\n",
    "-------------------------------------"
   ]
  },
  {
   "cell_type": "code",
   "execution_count": 9,
   "metadata": {
    "collapsed": false,
    "scrolled": true
   },
   "outputs": [
    {
     "name": "stdout",
     "output_type": "stream",
     "text": [
      "capture/tabblock_2010/tl_2010_01_tabblock10.zip already downloaded\n",
      "capture/tabblock_2010/tl_2010_01_tabblock10.zip already unzipped\n",
      "capture/tabblock_2010/tl_2010_02_tabblock10.zip already downloaded\n",
      "capture/tabblock_2010/tl_2010_02_tabblock10.zip already unzipped\n",
      "capture/tabblock_2010/tl_2010_04_tabblock10.zip already downloaded\n",
      "capture/tabblock_2010/tl_2010_04_tabblock10.zip already unzipped\n",
      "capture/tabblock_2010/tl_2010_05_tabblock10.zip already downloaded\n",
      "capture/tabblock_2010/tl_2010_06_tabblock10.zip already downloaded\n",
      "capture/tabblock_2010/tl_2010_06_tabblock10.zip already unzipped\n",
      "capture/tabblock_2010/tl_2010_05_tabblock10.zip already unzipped\n",
      "capture/tabblock_2010/tl_2010_08_tabblock10.zip already downloaded\n",
      "capture/tabblock_2010/tl_2010_08_tabblock10.zip already unzipped\n",
      "capture/tabblock_2010/tl_2010_09_tabblock10.zip already downloaded\n",
      "capture/tabblock_2010/tl_2010_09_tabblock10.zip already unzipped\n",
      "capture/tabblock_2010/tl_2010_11_tabblock10.zip already downloaded\n",
      "capture/tabblock_2010/tl_2010_12_tabblock10.zip already downloaded\n",
      "capture/tabblock_2010/tl_2010_10_tabblock10.zip already downloaded\n",
      "capture/tabblock_2010/tl_2010_10_tabblock10.zip already unzipped\n",
      "capture/tabblock_2010/tl_2010_12_tabblock10.zip already unzipped\n",
      "capture/tabblock_2010/tl_2010_11_tabblock10.zip already unzipped\n",
      "capture/tabblock_2010/tl_2010_13_tabblock10.zip already downloaded\n",
      "capture/tabblock_2010/tl_2010_13_tabblock10.zip already unzipped\n",
      "capture/tabblock_2010/tl_2010_15_tabblock10.zip already downloaded\n",
      "capture/tabblock_2010/tl_2010_15_tabblock10.zip already unzipped\n",
      "capture/tabblock_2010/tl_2010_16_tabblock10.zip already downloaded\n",
      "capture/tabblock_2010/tl_2010_16_tabblock10.zip already unzipped\n",
      "capture/tabblock_2010/tl_2010_17_tabblock10.zip already downloaded\n",
      "capture/tabblock_2010/tl_2010_17_tabblock10.zip already unzipped\n",
      "capture/tabblock_2010/tl_2010_18_tabblock10.zip already downloaded\n",
      "capture/tabblock_2010/tl_2010_19_tabblock10.zip already downloaded\n",
      "capture/tabblock_2010/tl_2010_18_tabblock10.zip already unzipped\n",
      "capture/tabblock_2010/tl_2010_19_tabblock10.zip already unzipped\n",
      "capture/tabblock_2010/tl_2010_20_tabblock10.zip already downloaded\n",
      "capture/tabblock_2010/tl_2010_20_tabblock10.zip already unzipped\n",
      "capture/tabblock_2010/tl_2010_21_tabblock10.zip already downloaded\n",
      "capture/tabblock_2010/tl_2010_22_tabblock10.zip already downloaded\n",
      "capture/tabblock_2010/tl_2010_21_tabblock10.zip already unzipped\n",
      "capture/tabblock_2010/tl_2010_22_tabblock10.zip already unzipped\n",
      "capture/tabblock_2010/tl_2010_23_tabblock10.zip already downloaded\n",
      "capture/tabblock_2010/tl_2010_23_tabblock10.zip already unzipped\n",
      "capture/tabblock_2010/tl_2010_25_tabblock10.zip already downloaded\n",
      "capture/tabblock_2010/tl_2010_24_tabblock10.zip already downloaded\n",
      "capture/tabblock_2010/tl_2010_26_tabblock10.zip already downloaded\n",
      "capture/tabblock_2010/tl_2010_24_tabblock10.zip already unzipped\n",
      "capture/tabblock_2010/tl_2010_25_tabblock10.zip already unzipped\n",
      "capture/tabblock_2010/tl_2010_27_tabblock10.zip already downloaded\n",
      "capture/tabblock_2010/tl_2010_27_tabblock10.zip already unzipped\n",
      "capture/tabblock_2010/tl_2010_26_tabblock10.zip already unzipped\n",
      "capture/tabblock_2010/tl_2010_28_tabblock10.zip already downloaded\n",
      "capture/tabblock_2010/tl_2010_28_tabblock10.zip already unzipped\n",
      "capture/tabblock_2010/tl_2010_29_tabblock10.zip already downloaded\n",
      "capture/tabblock_2010/tl_2010_29_tabblock10.zip already unzipped\n",
      "capture/tabblock_2010/tl_2010_31_tabblock10.zip already downloaded\n",
      "capture/tabblock_2010/tl_2010_31_tabblock10.zip already unzipped\n",
      "capture/tabblock_2010/tl_2010_30_tabblock10.zip already downloaded\n",
      "capture/tabblock_2010/tl_2010_32_tabblock10.zip already downloaded\n",
      "capture/tabblock_2010/tl_2010_30_tabblock10.zip already unzipped\n",
      "capture/tabblock_2010/tl_2010_32_tabblock10.zip already unzipped\n",
      "capture/tabblock_2010/tl_2010_33_tabblock10.zip already downloaded\n",
      "capture/tabblock_2010/tl_2010_33_tabblock10.zip already unzipped\n",
      "capture/tabblock_2010/tl_2010_34_tabblock10.zip already downloaded\n",
      "capture/tabblock_2010/tl_2010_34_tabblock10.zip already unzipped\n",
      "capture/tabblock_2010/tl_2010_35_tabblock10.zip already downloaded\n",
      "capture/tabblock_2010/tl_2010_35_tabblock10.zip already unzipped\n",
      "capture/tabblock_2010/tl_2010_36_tabblock10.zip already downloaded\n",
      "capture/tabblock_2010/tl_2010_36_tabblock10.zip already unzipped\n",
      "capture/tabblock_2010/tl_2010_37_tabblock10.zip already downloaded\n",
      "capture/tabblock_2010/tl_2010_37_tabblock10.zip already unzipped\n",
      "capture/tabblock_2010/tl_2010_38_tabblock10.zip already downloaded\n",
      "capture/tabblock_2010/tl_2010_38_tabblock10.zip already unzipped\n",
      "capture/tabblock_2010/tl_2010_39_tabblock10.zip already downloaded\n",
      "capture/tabblock_2010/tl_2010_39_tabblock10.zip already unzipped\n",
      "capture/tabblock_2010/tl_2010_40_tabblock10.zip already downloaded\n",
      "capture/tabblock_2010/tl_2010_40_tabblock10.zip already unzipped\n",
      "capture/tabblock_2010/tl_2010_42_tabblock10.zip already downloaded\n",
      "capture/tabblock_2010/tl_2010_41_tabblock10.zip already downloaded\n",
      "capture/tabblock_2010/tl_2010_42_tabblock10.zip already unzipped\n",
      "capture/tabblock_2010/tl_2010_41_tabblock10.zip already unzipped\n",
      "capture/tabblock_2010/tl_2010_44_tabblock10.zip already downloaded\n",
      "capture/tabblock_2010/tl_2010_44_tabblock10.zip already unzipped\n",
      "capture/tabblock_2010/tl_2010_45_tabblock10.zip already downloaded\n",
      "capture/tabblock_2010/tl_2010_45_tabblock10.zip already unzipped\n",
      "capture/tabblock_2010/tl_2010_47_tabblock10.zip already downloaded\n",
      "capture/tabblock_2010/tl_2010_47_tabblock10.zip already unzipped\n",
      "capture/tabblock_2010/tl_2010_46_tabblock10.zip already downloaded\n",
      "capture/tabblock_2010/tl_2010_46_tabblock10.zip already unzipped\n",
      "capture/tabblock_2010/tl_2010_48_tabblock10.zip already downloaded\n",
      "capture/tabblock_2010/tl_2010_49_tabblock10.zip already downloaded\n",
      "capture/tabblock_2010/tl_2010_48_tabblock10.zip already unzipped\n",
      "capture/tabblock_2010/tl_2010_49_tabblock10.zip already unzipped\n",
      "capture/tabblock_2010/tl_2010_51_tabblock10.zip already downloaded\n",
      "capture/tabblock_2010/tl_2010_51_tabblock10.zip already unzipped\n",
      "capture/tabblock_2010/tl_2010_50_tabblock10.zip already downloaded\n",
      "capture/tabblock_2010/tl_2010_50_tabblock10.zip already unzipped\n",
      "capture/tabblock_2010/tl_2010_53_tabblock10.zip already downloaded\n",
      "capture/tabblock_2010/tl_2010_53_tabblock10.zip already unzipped\n",
      "capture/tabblock_2010/tl_2010_54_tabblock10.zip already downloaded\n",
      "capture/tabblock_2010/tl_2010_54_tabblock10.zip already unzipped\n",
      "capture/tabblock_2010/tl_2010_55_tabblock10.zip already downloaded\n",
      "capture/tabblock_2010/tl_2010_55_tabblock10.zip already unzipped\n",
      "capture/tabblock_2010/tl_2010_56_tabblock10.zip already downloaded\n",
      "capture/tabblock_2010/tl_2010_56_tabblock10.zip already unzipped\n"
     ]
    }
   ],
   "source": [
    "def download_shapes(state_id):\n",
    "    # URL for FIPS and GNIS codes file -- https://www.census.gov/geo/reference/docs/state.txt'\n",
    "    url = 'http://www2.census.gov/geo/tiger/TIGER2010/TABBLOCK/2010/tl_2010_%s_tabblock10.zip' % state_id\n",
    "    filename = capture_dir + os.path.basename(url)\n",
    "    download_file(url, filename)\n",
    "    unzip_file(filename)\n",
    "    \n",
    "# Download all state shapefiles\n",
    "threads = []\n",
    "\n",
    "for state_id in state_ids:\n",
    "    threads.append(threading.Thread(target=download_shapes, args=(state_id,)))\n",
    "    threads[-1].start()\n",
    "\n",
    "for t in threads:\n",
    "    t.join()"
   ]
  },
  {
   "cell_type": "markdown",
   "metadata": {},
   "source": [
    "Load 2010 census block shapefiles into postgres\n",
    "-----------------------------------------------"
   ]
  },
  {
   "cell_type": "code",
   "execution_count": 26,
   "metadata": {
    "collapsed": false,
    "scrolled": true
   },
   "outputs": [
    {
     "name": "stdout",
     "output_type": "stream",
     "text": [
      "DROP TABLE tl_2010_tabblock10;\n",
      "Finished execution: DROP TABLE\n",
      "\n",
      "\n",
      "Creating table tl_2010_tabblock10 schema using state 01\n",
      "psql output: addgeometrycolumn                          \n",
      "--------------------------------------------------------------------\n",
      " public.tl_2010_tabblock10.geom SRID:4326 TYPE:MULTIPOLYGON DIMS:2 \n",
      "(1 row)\n",
      "CREATE INDEX ON tl_2010_tabblock10 (geoid10);\n",
      "Finished execution: CREATE INDEX\n",
      "\n",
      "\n",
      "CREATE INDEX ON tl_2010_tabblock10 USING GIST (geom);\n",
      "Finished execution: CREATE INDEX\n",
      "\n",
      "\n",
      "Appending state 01 to tl_2010_tabblock10\n",
      "Appending state 04 to tl_2010_tabblock10\n",
      "Appending state 02 to tl_2010_tabblock10\n",
      "Appending state 05 to tl_2010_tabblock10\n",
      "Appending state 06 to tl_2010_tabblock10\n",
      "Appending state 08 to tl_2010_tabblock10\n",
      "Appending state 09 to tl_2010_tabblock10\n",
      "Appending state 10 to tl_2010_tabblock10\n",
      "Appending state 11 to tl_2010_tabblock10\n",
      "Appending state 12 to tl_2010_tabblock10\n",
      "Appending state 13 to tl_2010_tabblock10\n",
      "Appending state 15 to tl_2010_tabblock10\n",
      "Appending state 16 to tl_2010_tabblock10\n",
      "Appending state 17 to tl_2010_tabblock10\n",
      "Appending state 18 to tl_2010_tabblock10\n",
      "Appending state 19 to tl_2010_tabblock10\n",
      "Appending state 20 to tl_2010_tabblock10\n",
      "Appending state 21 to tl_2010_tabblock10\n",
      "Appending state 22 to tl_2010_tabblock10\n",
      "Appending state 23 to tl_2010_tabblock10\n",
      "Appending state 24 to tl_2010_tabblock10\n",
      "Appending state 25 to tl_2010_tabblock10\n",
      "Appending state 26 to tl_2010_tabblock10\n",
      "Appending state 27 to tl_2010_tabblock10\n",
      "Appending state 28 to tl_2010_tabblock10\n",
      "Appending state 29 to tl_2010_tabblock10\n",
      "Appending state 30 to tl_2010_tabblock10\n",
      "Appending state 31 to tl_2010_tabblock10\n",
      "Appending state 32 to tl_2010_tabblock10\n",
      "Appending state 33 to tl_2010_tabblock10\n",
      "Appending state 34 to tl_2010_tabblock10\n",
      "Appending state 35 to tl_2010_tabblock10\n",
      "Appending state 36 to tl_2010_tabblock10\n",
      "Appending state 37 to tl_2010_tabblock10\n",
      "Appending state 38 to tl_2010_tabblock10\n",
      "Appending state 39 to tl_2010_tabblock10\n",
      "Appending state 40 to tl_2010_tabblock10\n",
      "Appending state 41 to tl_2010_tabblock10\n",
      "Appending state 42 to tl_2010_tabblock10\n",
      "Appending state 44 to tl_2010_tabblock10\n",
      "Appending state 45 to tl_2010_tabblock10\n",
      "Appending state 46 to tl_2010_tabblock10\n",
      "Appending state 47 to tl_2010_tabblock10\n",
      "Appending state 48 to tl_2010_tabblock10\n",
      "Appending state 49 to tl_2010_tabblock10\n",
      "Appending state 50 to tl_2010_tabblock10\n",
      "Appending state 51 to tl_2010_tabblock10\n",
      "Appending state 53 to tl_2010_tabblock10\n",
      "Appending state 54 to tl_2010_tabblock10\n",
      "Appending state 55 to tl_2010_tabblock10\n",
      "Appending state 56 to tl_2010_tabblock10\n",
      "psql output: \n",
      "psql output: \n",
      "psql output: \n",
      "psql output: \n",
      "psql output: \n",
      "psql output: \n",
      "psql output: \n",
      "psql output: \n",
      "psql output: \n",
      "psql output: \n",
      "psql output: \n",
      "psql output: \n",
      "psql output: \n",
      "psql output: \n",
      "psql output: \n",
      "psql output: \n",
      "psql output: \n",
      "psql output: \n",
      "psql output: \n",
      "psql output: \n",
      "psql output: \n",
      "psql output: \n",
      "psql output: \n",
      "psql output: \n",
      "psql output: \n",
      "psql output: \n",
      "psql output: \n",
      "psql output: \n",
      "psql output: \n",
      "psql output: \n",
      "psql output: \n",
      "psql output: \n",
      "psql output: \n",
      "psql output: \n",
      "psql output: \n",
      "psql output: \n",
      "psql output: \n",
      "psql output: \n",
      "psql output: \n",
      "psql output: \n",
      "psql output: \n",
      "psql output: \n",
      "psql output: \n",
      "psql output: \n",
      "psql output: \n",
      "psql output: \n",
      "psql output: \n",
      "psql output: \n",
      "psql output: \n",
      "psql output: \n",
      "psql output: \n"
     ]
    }
   ],
   "source": [
    "# Warning:  only run this block once or you may end up with duplicate records in the database\n",
    "# TODO: check if the database is already there and populated and if so, skip the work...\n",
    "\n",
    "def load_shapes_into_db(state_id, prepare_only=False):\n",
    "    command = 'shp2pgsql'\n",
    "    if prepare_only:\n",
    "        command += ' -p'   # prepare the tables only, don't load\n",
    "        sys.stdout.write('Creating table tl_2010_tabblock10 schema using state %s\\n' % state_id)\n",
    "    else:\n",
    "        command += ' -a'   # append to tables\n",
    "        sys.stdout.write('Appending state %s to tl_2010_tabblock10\\n' % state_id)\n",
    "    # Transform lat, lon from NAD83 (EPSG:4269) to WGS84 (EPSG:4326)\n",
    "    command += ' -s 4269:4326'\n",
    "    command += ' capture/tabblock_2010/tl_2010_%s_tabblock10/tl_2010_%s_tabblock10.shp tl_2010_tabblock10' % (state_id, state_id)\n",
    "    command += ' | psql -q -d timelapse'\n",
    "    out = subprocess.check_output(command, shell=True)\n",
    "    sys.stdout.write('psql output: %s\\n' % out.strip())\n",
    "    \n",
    "# Drop and recreate tl_2010_tabblock10    \n",
    "psql('DROP TABLE tl_2010_tabblock10;')\n",
    "load_shapes_into_db(state_ids[0], prepare_only=True)\n",
    "# Add indices to census block shapefile table\n",
    "psql('CREATE INDEX ON tl_2010_tabblock10 (geoid10);')\n",
    "psql('CREATE INDEX ON tl_2010_tabblock10 USING GIST (geom);')\n",
    "\n",
    "# Loading all states in parallel worked OK on 32-core 64GB earthdev2.  psql was i/o bound, but no paging occurred\n",
    "# On a lesser machine it might be important to do only a few in parallel at a time\n",
    "threads = []\n",
    "\n",
    "for state_id in state_ids:\n",
    "    threads.append(threading.Thread(target=load_shapes_into_db, args=(state_id, False)))\n",
    "    threads[-1].start()\n",
    "\n",
    "for t in threads:\n",
    "    t.join()"
   ]
  },
  {
   "cell_type": "markdown",
   "metadata": {},
   "source": [
    "Calculate and store WGS84 centroids\n",
    "-----------------------------------\n",
    "\n",
    "This took around 30 mins on earthserve2"
   ]
  },
  {
   "cell_type": "code",
   "execution_count": 28,
   "metadata": {
    "collapsed": false
   },
   "outputs": [
    {
     "name": "stdout",
     "output_type": "stream",
     "text": [
      "ALTER TABLE tl_2010_tabblock10 ADD centroid geometry(Point,4326);\n",
      "Finished execution: ALTER TABLE\n",
      "\n",
      "\n",
      "UPDATE tl_2010_tabblock10 SET centroid = St_Centroid(geom);\n",
      "Finished execution: UPDATE 11078297\n",
      "\n",
      "\n"
     ]
    }
   ],
   "source": [
    "psql('ALTER TABLE tl_2010_tabblock10 ADD centroid geometry(Point,4326);')\n",
    "psql('UPDATE tl_2010_tabblock10 SET centroid = St_Centroid(geom);')"
   ]
  },
  {
   "cell_type": "markdown",
   "metadata": {},
   "source": [
    "tl_2010_tabblock10 table structure\n",
    "----------------------------------"
   ]
  },
  {
   "cell_type": "code",
   "execution_count": 2,
   "metadata": {
    "collapsed": false
   },
   "outputs": [
    {
     "name": "stdout",
     "output_type": "stream",
     "text": [
      "\\d tl_2010_tabblock10\n",
      "Finished execution in 2.57236 secs: Table \"public.tl_2010_tabblock10\"\n",
      "   Column   |            Type             |                            Modifiers                             \n",
      "------------+-----------------------------+------------------------------------------------------------------\n",
      " gid        | integer                     | not null default nextval('tl_2010_tabblock10_gid_seq'::regclass)\n",
      " statefp10  | character varying(2)        | \n",
      " countyfp10 | character varying(3)        | \n",
      " tractce10  | character varying(6)        | \n",
      " blockce10  | character varying(4)        | \n",
      " geoid10    | character varying(15)       | \n",
      " name10     | character varying(10)       | \n",
      " mtfcc10    | character varying(5)        | \n",
      " ur10       | character varying(1)        | \n",
      " uace10     | character varying(5)        | \n",
      " uatyp10    | character varying(1)        | \n",
      " funcstat10 | character varying(1)        | \n",
      " aland10    | double precision            | \n",
      " awater10   | double precision            | \n",
      " intptlat10 | character varying(11)       | \n",
      " intptlon10 | character varying(12)       | \n",
      " geom       | geometry(MultiPolygon,4326) | \n",
      " centroid   | geometry(Point,4326)        | \n",
      "Indexes:\n",
      "    \"tl_2010_tabblock10_pkey\" PRIMARY KEY, btree (gid)\n",
      "    \"tl_2010_tabblock10_geoid10_idx\" btree (geoid10)\n",
      "    \"tl_2010_tabblock10_geom_idx\" gist (geom)\n"
     ]
    }
   ],
   "source": [
    "psql('\\d tl_2010_tabblock10')"
   ]
  },
  {
   "cell_type": "code",
   "execution_count": 31,
   "metadata": {
    "collapsed": false
   },
   "outputs": [
    {
     "name": "stdout",
     "output_type": "stream",
     "text": [
      "SELECT COUNT(*) FROM tl_2010_tabblock10\n",
      "Finished execution:   count   \n",
      "----------\n",
      " 11078297\n",
      "(1 row)\n",
      "\n",
      "\n",
      "\n"
     ]
    }
   ],
   "source": [
    "psql('SELECT COUNT(*) FROM tl_2010_tabblock10')"
   ]
  },
  {
   "cell_type": "code",
   "execution_count": 6,
   "metadata": {
    "collapsed": false
   },
   "outputs": [
    {
     "name": "stdout",
     "output_type": "stream",
     "text": [
      "SELECT statefp10, SUM(ST_AREA(geography(geom))) FROM tl_2010_tabblock10 GROUP BY statefp10 ORDER BY statefp10\n",
      "Finished execution in 1276.26 secs: statefp10 |       sum        \n",
      "-----------+------------------\n",
      " 01        | 135767386785.177\n",
      " 02        | 1723336231602.72\n",
      " 04        | 295233966389.403\n",
      " 05        | 137731759748.111\n",
      " 06        | 423966986967.012\n",
      " 08        | 269602109668.028\n",
      " 09        | 14357704640.4523\n",
      " 10        | 6445768047.60594\n",
      " 11        | 176999629.839292\n",
      " 12        | 170310252747.451\n",
      " 13        | 153910558920.819\n",
      " 15        | 28313002857.9046\n",
      " 16        | 216442088143.975\n",
      " 17        | 149995358564.624\n",
      " 18        | 94326244618.7675\n",
      " 19        | 145745894630.339\n",
      " 20        | 213099884356.535\n",
      " 21        | 104655739133.661\n",
      " 22        | 135658630228.489\n",
      " 23        | 91634016908.5077\n",
      " 24        | 32131155697.2027\n",
      " 25        |  27335741662.889\n",
      " 26        | 250486838403.137\n",
      " 27        | 225161524593.809\n",
      " 28        | 125437676538.904\n",
      " 29        |   180540284484.9\n",
      " 30        |  380830675255.49\n",
      " 31        | 200329008558.246\n",
      " 32        | 286380211974.572\n",
      " 33        | 24214219968.9555\n",
      " 34        | 22591373508.6407\n",
      " 35        | 314918025567.471\n",
      " 36        | 141296764105.829\n",
      " 37        | 139390801787.764\n",
      " 38        | 183107828910.427\n",
      " 39        | 116097742361.351\n",
      " 40        | 181037340910.726\n",
      " 41        |  254799971430.58\n",
      " 42        | 119279944391.787\n",
      " 44        | 4001234204.26024\n",
      " 45        | 82932697956.6029\n",
      " 46        | 199729000809.689\n",
      " 47        | 109153260819.919\n",
      " 48        | 695661332944.174\n",
      " 49        | 219884353035.018\n",
      " 50        | 24906258966.3757\n",
      " 51        | 110786581981.433\n",
      " 53        | 184661206736.647\n",
      " 54        | 62755477213.2455\n",
      " 55        | 169634839206.142\n",
      " 56        | 253333624871.901\n",
      "(51 rows)\n"
     ]
    }
   ],
   "source": [
    "psql(\"SELECT statefp10, SUM(ST_AREA(geography(geom))) FROM tl_2010_tabblock10 GROUP BY statefp10 ORDER BY statefp10\")"
   ]
  },
  {
   "cell_type": "code",
   "execution_count": null,
   "metadata": {
    "collapsed": true
   },
   "outputs": [],
   "source": []
  }
 ],
 "metadata": {
  "anaconda-cloud": {},
  "kernelspec": {
   "display_name": "Python [default]",
   "language": "python",
   "name": "python2"
  },
  "language_info": {
   "codemirror_mode": {
    "name": "ipython",
    "version": 2
   },
   "file_extension": ".py",
   "mimetype": "text/x-python",
   "name": "python",
   "nbconvert_exporter": "python",
   "pygments_lexer": "ipython2",
   "version": "2.7.12"
  }
 },
 "nbformat": 4,
 "nbformat_minor": 0
}
