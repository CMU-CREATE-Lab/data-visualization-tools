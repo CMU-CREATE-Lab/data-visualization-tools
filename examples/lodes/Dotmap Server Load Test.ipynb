{
 "cells": [
  {
   "cell_type": "code",
   "execution_count": 1,
   "metadata": {
    "collapsed": true
   },
   "outputs": [],
   "source": [
    "import hashlib, random, re, sqlite3, urllib2"
   ]
  },
  {
   "cell_type": "code",
   "execution_count": 2,
   "metadata": {
    "collapsed": true
   },
   "outputs": [],
   "source": [
    "class SqliteKVS:\n",
    "    def __init__(self, database_path):\n",
    "        self.conn = sqlite3.connect(database_path)\n",
    "        self.cur = self.conn.cursor()\n",
    "        self.cur.execute(('CREATE TABLE IF NOT EXISTS kvs'\n",
    "                          ' (key PRIMARY KEY, value)'\n",
    "                          ' WITHOUT ROWID;'))\n",
    "        self.conn.commit()\n",
    "        \n",
    "    def get(self, key):\n",
    "        self.cur.execute('SELECT value FROM kvs WHERE key=?;', (key,))\n",
    "        rows = self.cur.fetchall()\n",
    "        if not rows:\n",
    "            return None\n",
    "        assert len(rows) == 1\n",
    "        return rows[0][0]\n",
    "    \n",
    "    def set(self, key, value):\n",
    "        self.cur.execute(('INSERT OR REPLACE INTO kvs (key, value)'\n",
    "                          ' VALUES (?, ?);'),\n",
    "                         (key, value))\n",
    "        self.conn.commit()\n",
    "\n",
    "tilehashes = SqliteKVS('tilehashes.db')"
   ]
  },
  {
   "cell_type": "code",
   "execution_count": 3,
   "metadata": {},
   "outputs": [
    {
     "name": "stdout",
     "output_type": "stream",
     "text": [
      "Collected 5869 urls\n"
     ]
    }
   ],
   "source": [
    "# access_log parsing regex at https://regex101.com/r/w01dpj/1\n",
    "access_log_re = r\"^(?P<local_host>[^ ]+?) (?P<remote_host>[^ ]+) (?P<user1>[^ ]+) (?P<user2>[^ ]+) \\[(?P<date>[^\\]]+)\\] \\\"(?P<request>.[^\\\"]*)\\\" (?P<status>[\\d]+) (?P<len>[\\d]+) \\\"(?P<referer>[^\\\"]*)\\\" \\\"(?P<user_agent>[^\\\"]*)\\\"\"\n",
    "\n",
    "tilefetch_urls = []\n",
    "\n",
    "for line in open('sample_tileserver_access_log'):\n",
    "    url = re.match(access_log_re, line).group('request').split()[1]\n",
    "    if url.startswith('/tilesv1'):\n",
    "        tilefetch_urls.append(url)\n",
    "    \n",
    "print 'Collected %d urls' % len(tilefetch_urls)\n",
    "\n",
    "# Shuffle deterministically\n",
    "random.seed(999999999)\n",
    "random.shuffle(tilefetch_urls)"
   ]
  },
  {
   "cell_type": "code",
   "execution_count": 4,
   "metadata": {
    "collapsed": true
   },
   "outputs": [],
   "source": [
    "# sudo systemctl restart dotmaptiles-staging\n",
    "\n",
    "write_test_hashes = False\n",
    "\n",
    "if write_test_hashes:\n",
    "    for url in tilefetch_urls[0:1000]:\n",
    "        data = urllib2.urlopen('http://dotmaptiles-staging.createlab.org' + url).read()\n",
    "        tilehashes.set(url, hashlib.sha256(data).hexdigest())"
   ]
  },
  {
   "cell_type": "code",
   "execution_count": 23,
   "metadata": {},
   "outputs": [
    {
     "name": "stdout",
     "output_type": "stream",
     "text": [
      "Test succeeded:  checked 1831 of a total 5869 tiles fetched\n"
     ]
    }
   ],
   "source": [
    "# before 100 tiles: 7GB\n",
    "# now 5900 tiles: 4.8GB!\n",
    "\n",
    "fetched_tiles = 0\n",
    "checked_tiles = 0\n",
    "\n",
    "for url in tilefetch_urls:\n",
    "    data = urllib2.urlopen('http://dotmaptiles-staging.createlab.org' + url).read()\n",
    "    expected = tilehashes.get(url)\n",
    "    fetched_tiles += 1\n",
    "    if expected:\n",
    "        assert hashlib.sha256(data).hexdigest() == expected\n",
    "        checked_tiles += 1\n",
    "print 'Test succeeded:  checked {checked_tiles} of a total {fetched_tiles} tiles fetched'.format(**locals())\n"
   ]
  },
  {
   "cell_type": "code",
   "execution_count": 69,
   "metadata": {},
   "outputs": [
    {
     "name": "stdout",
     "output_type": "stream",
     "text": [
      "-rw-r--r-- 1 rsargent rsargent 44313192 Aug 19 09:53 expression_cache/04fbfd1b648736b76676170b4951a5292f3af50d4ee380bfcfa1ab458bad1996.float32\r\n",
      "-rw-r--r-- 1 rsargent rsargent 44313192 Aug 19 09:52 expression_cache/07947ac1923ec27fe0ee19d0cc83e09cc736599a674862b0c6495c5e5dddcd24.float32\r\n",
      "-rw-r--r-- 1 rsargent rsargent 44313192 Aug 19 09:52 expression_cache/0a88b9a2e3d839bbb5b35a00fecf3a7f5c8f81fbbf2c59efe51c62ac693f9d76.float32\r\n",
      "-rw-r--r-- 1 rsargent rsargent 44313192 Aug 19 09:52 expression_cache/0c951cd61b5d69468f8ed1219bf2f90c4a5c7cc420cb0274bc48a45f0d2bbbf9.float32\r\n",
      "-rw-r--r-- 1 rsargent rsargent 44313192 Aug 19 09:52 expression_cache/0d28628ae763658994237ee090e6e8305f18d4d2495147751e33600c75778642.float32\r\n",
      "-rw-r--r-- 1 rsargent rsargent 44313192 Aug 19 09:53 expression_cache/0dd238aa3c87a4e9094e85ff3823dda5ffc4a38b2dd69f29053242e6107f1a7d.float32\r\n",
      "-rw-r--r-- 1 rsargent rsargent 44313192 Aug 19 09:52 expression_cache/10e18f17d957783ba211973d9ef5309474a1a4515956efcc0b57974bdb982ddd.float32\r\n",
      "-rw-r--r-- 1 rsargent rsargent 44313192 Aug 19 09:52 expression_cache/13ee87790529a6941b7e50adf905a31e08ea10ba6eec4dfa6b9f036773c45bb1.float32\r\n",
      "-rw-r--r-- 1 rsargent rsargent 44313192 Aug 19 09:52 expression_cache/1911d636f02a9852cc4465876c0940ed3ccb72de31eefd0a91d7b4ec00600726.float32\r\n",
      "-rw-r--r-- 1 rsargent rsargent 44313192 Aug 19 09:52 expression_cache/1e04457c59da8530c997303ec68ad96ddb0b7e199db089618b2562928ef334dc.float32\r\n",
      "-rw-r--r-- 1 rsargent rsargent 44313192 Aug 19 09:52 expression_cache/24247e04f7c5155ff4005064b64a629c73844f54c23661029c70a22bb22f9999.float32\r\n",
      "-rw-r--r-- 1 rsargent rsargent 44313192 Aug 19 09:52 expression_cache/27f8b7cc93e3996bc554c71a15138d09ed06fa3e489a52fee94ed7253a8d0efe.float32\r\n",
      "-rw-rw-r-- 1 rsargent rsargent 44313192 Aug 19 09:50 expression_cache/2df9ba729c6e1709e75c139981f7fc059f4155d3458be5b03a1d7195f7f70d6d.float32\r\n",
      "-rw-r--r-- 1 rsargent rsargent 44313192 Aug 19 09:52 expression_cache/313ba1079f5e908b53e875990df6ff170919e5ae41bbe28da2b7c07b4e2da5d4.float32\r\n",
      "-rw-r--r-- 1 rsargent rsargent 44313192 Aug 19 09:52 expression_cache/338c2c5b23fa0f1a0ec475072e1eed8174ab4b4fbce0fc57bb7f55a03ed3125a.float32\r\n",
      "-rw-r--r-- 1 rsargent rsargent 44313192 Aug 19 09:52 expression_cache/35266be10835886ed5f454f667d446cfe4d5914bd6b274b889c49b895479b450.float32\r\n",
      "-rw-r--r-- 1 rsargent rsargent 44313192 Aug 19 09:52 expression_cache/35c367632d220e1c604e55ae548f2163969ed4adf55bdaafd0f226d8d9f5d37f.float32\r\n",
      "-rw-r--r-- 1 rsargent rsargent 44313192 Aug 19 09:52 expression_cache/3655bdb0056594278a443999ed2ffd87f4d213d6db455a15bc787474bf5437b2.float32\r\n",
      "-rw-r--r-- 1 rsargent rsargent 44313192 Aug 19 09:52 expression_cache/3a48468e979c5821730fbfa6e4c774c3e4c5725d29ca345cbe41a7ae17a4ee1f.float32\r\n",
      "-rw-r--r-- 1 rsargent rsargent 44313192 Aug 19 09:52 expression_cache/3bafd3115bb11cd05ad229c3b286a20c4f38a7f1ec3aa820b9f1f1aea53900ee.float32\r\n",
      "-rw-r--r-- 1 rsargent rsargent 44313192 Aug 19 09:52 expression_cache/4004216af2c28f8e94573d26caf84d455efd23f780fa729ddd1ddb695e8e5171.float32\r\n",
      "-rw-r--r-- 1 rsargent rsargent 44313192 Aug 19 09:52 expression_cache/411da3055765ed2fae6ae4e643638ed41377bd4b14c288c5b1064ad28f21e173.float32\r\n",
      "-rw-r--r-- 1 rsargent rsargent 44313192 Aug 19 09:52 expression_cache/45dfc4e24319119ae5a78e4aa28b099cfd96e1ac67e17c66c1e353c4ecd1d608.float32\r\n",
      "-rw-r--r-- 1 rsargent rsargent 44313192 Aug 19 09:53 expression_cache/482e120adebf590b3ff0ff83a6d4e124a20ebf4a9211daae443cd5b254ad0ec3.float32\r\n",
      "-rw-r--r-- 1 rsargent rsargent 44313192 Aug 19 09:52 expression_cache/4c46711ce67260fa43a787fac64f6cdb0adc53f23bf6547d3a2f7c02dd141ab8.float32\r\n",
      "-rw-r--r-- 1 rsargent rsargent 44313192 Aug 19 09:52 expression_cache/4dd1f4378e2a30873f8bdbdd5d51ea298a0602a312f8d1faec381215cd4ee5d7.float32\r\n",
      "-rw-r--r-- 1 rsargent rsargent 44313192 Aug 19 09:52 expression_cache/512a24383e872fdf43e6045f763b4a58f2d5620d6dd7b37c19672cf13a891702.float32\r\n",
      "-rw-r--r-- 1 rsargent rsargent 44313192 Aug 19 09:53 expression_cache/51af56e9c3e2cf2978cdd0f0d642ac5675f244d79a71b55a91d58670ec63e1a8.float32\r\n",
      "-rw-r--r-- 1 rsargent rsargent 44313192 Aug 19 09:53 expression_cache/52ef7b42e0f44d7a0ce045ebb5cf5603a29000c04816b5988d036498949a7e09.float32\r\n",
      "-rw-r--r-- 1 rsargent rsargent 44313192 Aug 19 09:53 expression_cache/531c345d483eb8d2c98bb6f1c66ebe1b40738d7a83584f79eac228bba125aaa7.float32\r\n",
      "-rw-r--r-- 1 rsargent rsargent 44313192 Aug 19 09:52 expression_cache/5befacdca049407919701f48b2bb812ee02e0a5229fbafec2d5d32194e1cc035.float32\r\n",
      "-rw-r--r-- 1 rsargent rsargent 44313192 Aug 19 09:52 expression_cache/5bfd35d4a61781364007f06c947ccc753d3108d7369aafdd1caab3a66994db2b.float32\r\n",
      "-rw-r--r-- 1 rsargent rsargent 44313192 Aug 19 09:53 expression_cache/5d3f1d0ee187956406c87802448c1e5240153c5a4bee1e3aed20fd615a386173.float32\r\n",
      "-rw-r--r-- 1 rsargent rsargent 44313192 Aug 19 09:53 expression_cache/5e57d9afa8715dc6d5b99cbc5b7a8b188c640d9cef235c1dfe23ff5a47b5688d.float32\r\n",
      "-rw-r--r-- 1 rsargent rsargent 44313192 Aug 19 09:52 expression_cache/655db882c670ff66d226f3b20a5a1bfe42c72b3202a8d93a22c84c39ad2b4def.float32\r\n",
      "-rw-r--r-- 1 rsargent rsargent 44313192 Aug 19 09:52 expression_cache/6c64bed9072d05870059b6138c178d1e781276e7f07454bb2d012b950bf412fc.float32\r\n",
      "-rw-r--r-- 1 rsargent rsargent 44313192 Aug 19 09:52 expression_cache/6e5b78ff16b37ec3aa0f94c89449b255d64370798c11d435999a2c490c9da967.float32\r\n",
      "-rw-r--r-- 1 rsargent rsargent 44313192 Aug 19 09:52 expression_cache/7006ae24dd644c54fe05fbb67095d7042b124eb4ffdf042fd86269e32e173c91.float32\r\n",
      "-rw-r--r-- 1 rsargent rsargent 44313192 Aug 19 09:52 expression_cache/729906ba3bc8b81995a6b080cff4e80940f8592d3c5a25d09bebcf85c7c5fa1f.float32\r\n",
      "-rw-r--r-- 1 rsargent rsargent 44313192 Aug 19 09:52 expression_cache/74a515de9c0903afbb86613ed0320b915148930e9f3f44abe04b3f806cdc3170.float32\r\n",
      "-rw-r--r-- 1 rsargent rsargent 44313192 Aug 19 09:52 expression_cache/83a7fbaf34987231455765d8abf5e16466b3a849602de820500610365d8a5a4a.float32\r\n",
      "-rw-r--r-- 1 rsargent rsargent 44313192 Aug 19 09:53 expression_cache/86ab2e7d23588ba8d5756a9abc073af426501f72fd8a3cd9266d50f0a09ab208.float32\r\n",
      "-rw-r--r-- 1 rsargent rsargent 44313192 Aug 19 09:52 expression_cache/8f431535d479c96300d5b42e06f749822594ef22acabbe09ecd4699830fad97a.float32\r\n",
      "-rw-r--r-- 1 rsargent rsargent 44313192 Aug 19 09:52 expression_cache/9513317272153c37a5820e3ccef2391aaecdfe9fb4274489c69c57f24798cc27.float32\r\n",
      "-rw-r--r-- 1 rsargent rsargent 44313192 Aug 19 09:53 expression_cache/95354c4dedcfd530f4f728248bc5cf13d9f5c11cfd21d317f4a8e604739fe83e.float32\r\n",
      "-rw-r--r-- 1 rsargent rsargent 44313192 Aug 19 09:52 expression_cache/9cb70288ea34ee0d0630b631cc65432a34dcf374201eb6e84d61e431a90ede8c.float32\r\n",
      "-rw-r--r-- 1 rsargent rsargent 44313192 Aug 19 09:53 expression_cache/9d6e0b5bdbf854443382c95fba0a837221329ec083e950dd4ddb60538363ca14.float32\r\n",
      "-rw-r--r-- 1 rsargent rsargent 44313192 Aug 19 09:52 expression_cache/a2b837fb74c1c24d27f1ab740fb874516cd4507817c9eb89ce618af16f6b3051.float32\r\n",
      "-rw-rw-r-- 1 rsargent rsargent 44313192 Aug 19 09:50 expression_cache/aa381440c9baf89e4aeac58dff20fd03d6700a3d152a0ae1197220832e10d571.float32\r\n",
      "-rw-r--r-- 1 rsargent rsargent 44313192 Aug 19 09:52 expression_cache/aa86e657d014249c6e13b6d8a95a825d148230d3a4ae5999bfbe1e050ed8a2ef.float32\r\n",
      "-rw-r--r-- 1 rsargent rsargent 44313192 Aug 19 09:52 expression_cache/b1aea6d8a573e0a020fa09858d5da59398fac64ffcb4aaa949dde81b44b32015.float32\r\n",
      "-rw-r--r-- 1 rsargent rsargent 44313192 Aug 19 09:53 expression_cache/b47cebab7677f4b789f5ca6a0242a4fd126ed214327b36a9edba7722627969b0.float32\r\n",
      "-rw-r--r-- 1 rsargent rsargent 44313192 Aug 19 09:52 expression_cache/b6394a2175e68be83b2a33ff93635fcca0277f1f79d938ccf7638f954aa38237.float32\r\n",
      "-rw-r--r-- 1 rsargent rsargent 44313192 Aug 19 09:52 expression_cache/b65b58ceb0313a910b32f1c30ba667b3852f0a5c96aae6ec30372420176752ce.float32\r\n",
      "-rw-r--r-- 1 rsargent rsargent 44313192 Aug 19 09:52 expression_cache/babdb9c63c408ed169a1bd016b8f2ffdfe71e3edb5ac87fc429a574fbd3d11c7.float32\r\n",
      "-rw-r--r-- 1 rsargent rsargent 44313192 Aug 19 09:52 expression_cache/bf65858cc811241fe4bd1bb50122cb7d8ebfef6763a39c9a229528a2fd723558.float32\r\n",
      "-rw-r--r-- 1 rsargent rsargent 44313192 Aug 19 09:52 expression_cache/c1528cc7f23e7aaddfa72b23944a0c47b48a7e1e217b41ac7db43f3a816db8ff.float32\r\n",
      "-rw-r--r-- 1 rsargent rsargent 44313192 Aug 19 09:52 expression_cache/c368e236b31a8317b46e1ae5fa1cce7d762e6dd44e798e5a16bd262fa3c9ed1a.float32\r\n",
      "-rw-r--r-- 1 rsargent rsargent 44313192 Aug 19 09:52 expression_cache/c4996a67ec1083b9cb7364e25f8881a8e938997eeeb443ec4ed76e31225bccbf.float32\r\n",
      "-rw-rw-r-- 1 rsargent rsargent 44313192 Aug 19 09:50 expression_cache/{cache_key}.float32\r\n",
      "-rw-r--r-- 1 rsargent rsargent 44313192 Aug 19 09:53 expression_cache/d19ebfdca2761be530caf849b3a2120d4e2fd037494875fb4404bdbb4cf4092d.float32\r\n",
      "-rw-r--r-- 1 rsargent rsargent 44313192 Aug 19 09:52 expression_cache/d52de5c0adc4aa7ab09821a40584eb2bb46956de6593d5e08678d1537adccdfa.float32\r\n",
      "-rw-r--r-- 1 rsargent rsargent 44313192 Aug 19 09:52 expression_cache/d60252dc4320887069c9a5fb906d76da034d2f655eb9d28cb73de9705f173f99.float32\r\n",
      "-rw-r--r-- 1 rsargent rsargent 44313192 Aug 19 09:52 expression_cache/dd4e12b80be7dfd394ca594141d127aac8ffea2c3dd36416347580dd3ff645f5.float32\r\n",
      "-rw-r--r-- 1 rsargent rsargent 44313192 Aug 19 09:52 expression_cache/dd569ebf12b5093f4ac29fd01d83c818bcb7f0c6f7c8f249b27927f99b236300.float32\r\n",
      "-rw-r--r-- 1 rsargent rsargent 44313192 Aug 19 09:53 expression_cache/e586a5ef0b4fbfb154c919dad9ebf2d48bce34ee2ae3958b917817713c24ddaf.float32\r\n",
      "-rw-r--r-- 1 rsargent rsargent 44313192 Aug 19 09:53 expression_cache/efd0fab74889ca68b3db51f4df274b3ea0e02b87faa92a392fb5a6b641ce866c.float32\r\n",
      "-rw-r--r-- 1 rsargent rsargent 44313192 Aug 19 09:53 expression_cache/f0712792233fc12f41fbf35b4c2a2eebca9d4ba4743cfdf99fe3096e5b2498db.float32\r\n",
      "-rw-r--r-- 1 rsargent rsargent 44313192 Aug 19 09:52 expression_cache/f0dc4f17c24eec3ee3965b5dee4cc1cfd81acbc09918241cbf17f8e4dc6fedd2.float32\r\n",
      "-rw-r--r-- 1 rsargent rsargent 44313192 Aug 19 09:53 expression_cache/f7a3aa6048e5734ab4ff56d091744ba1e2b82b8d2554667364ef1566663bdf59.float32\r\n",
      "-rw-r--r-- 1 rsargent rsargent 44313192 Aug 19 09:53 expression_cache/fcc7fffadda1987f61d4a269c6e77b68378715dc94dd6b13d82deac5f98d8309.float32\r\n"
     ]
    }
   ],
   "source": [
    "!ls -l expression*/*"
   ]
  },
  {
   "cell_type": "code",
   "execution_count": 58,
   "metadata": {
    "collapsed": true
   },
   "outputs": [],
   "source": [
    "!rm columncache/census2010_block2010/*.float32"
   ]
  },
  {
   "cell_type": "code",
   "execution_count": 64,
   "metadata": {},
   "outputs": [
    {
     "data": {
      "text/plain": [
       "8800"
      ]
     },
     "execution_count": 64,
     "metadata": {},
     "output_type": "execute_result"
    }
   ],
   "source": [
    "200*44"
   ]
  },
  {
   "cell_type": "code",
   "execution_count": null,
   "metadata": {
    "collapsed": true
   },
   "outputs": [],
   "source": []
  }
 ],
 "metadata": {
  "kernelspec": {
   "display_name": "Python 2",
   "language": "python",
   "name": "python2"
  },
  "language_info": {
   "codemirror_mode": {
    "name": "ipython",
    "version": 2
   },
   "file_extension": ".py",
   "mimetype": "text/x-python",
   "name": "python",
   "nbconvert_exporter": "python",
   "pygments_lexer": "ipython2",
   "version": "2.7.13"
  }
 },
 "nbformat": 4,
 "nbformat_minor": 2
}
