{
 "cells": [
  {
   "cell_type": "code",
   "execution_count": 1,
   "metadata": {
    "collapsed": true
   },
   "outputs": [],
   "source": [
    "import hashlib, random, re, sqlite3, urllib2"
   ]
  },
  {
   "cell_type": "code",
   "execution_count": 2,
   "metadata": {
    "collapsed": true
   },
   "outputs": [],
   "source": [
    "class SqliteKVS:\n",
    "    def __init__(self, database_path):\n",
    "        self.conn = sqlite3.connect(database_path)\n",
    "        self.cur = self.conn.cursor()\n",
    "        self.cur.execute(('CREATE TABLE IF NOT EXISTS kvs'\n",
    "                          ' (key PRIMARY KEY, value)'\n",
    "                          ' WITHOUT ROWID;'))\n",
    "        self.conn.commit()\n",
    "        \n",
    "    def get(self, key):\n",
    "        self.cur.execute('SELECT value FROM kvs WHERE key=?;', (key,))\n",
    "        rows = self.cur.fetchall()\n",
    "        if not rows:\n",
    "            return None\n",
    "        assert len(rows) == 1\n",
    "        return rows[0][0]\n",
    "    \n",
    "    def set(self, key, value):\n",
    "        self.cur.execute(('INSERT OR REPLACE INTO kvs (key, value)'\n",
    "                          ' VALUES (?, ?);'),\n",
    "                         (key, value))\n",
    "        self.conn.commit()\n",
    "\n",
    "tilehashes = SqliteKVS('tilehashes.db')"
   ]
  },
  {
   "cell_type": "code",
   "execution_count": 3,
   "metadata": {},
   "outputs": [
    {
     "name": "stdout",
     "output_type": "stream",
     "text": [
      "Collected 5869 urls\n"
     ]
    }
   ],
   "source": [
    "# access_log parsing regex at https://regex101.com/r/w01dpj/1\n",
    "access_log_re = r\"^(?P<local_host>[^ ]+?) (?P<remote_host>[^ ]+) (?P<user1>[^ ]+) (?P<user2>[^ ]+) \\[(?P<date>[^\\]]+)\\] \\\"(?P<request>.[^\\\"]*)\\\" (?P<status>[\\d]+) (?P<len>[\\d]+) \\\"(?P<referer>[^\\\"]*)\\\" \\\"(?P<user_agent>[^\\\"]*)\\\"\"\n",
    "\n",
    "tilefetch_urls = []\n",
    "\n",
    "for line in open('sample_tileserver_access_log'):\n",
    "    url = re.match(access_log_re, line).group('request').split()[1]\n",
    "    if url.startswith('/tilesv1'):\n",
    "        tilefetch_urls.append(url)\n",
    "    \n",
    "print 'Collected %d urls' % len(tilefetch_urls)\n",
    "\n",
    "# Shuffle deterministically\n",
    "random.seed(999999999)\n",
    "random.shuffle(tilefetch_urls)"
   ]
  },
  {
   "cell_type": "code",
   "execution_count": 4,
   "metadata": {
    "collapsed": true
   },
   "outputs": [],
   "source": [
    "# sudo systemctl restart dotmaptiles-staging\n",
    "\n",
    "write_test_hashes = False\n",
    "\n",
    "if write_test_hashes:\n",
    "    for url in tilefetch_urls[0:1000]:\n",
    "        data = urllib2.urlopen('http://dotmaptiles-staging.createlab.org' + url).read()\n",
    "        tilehashes.set(url, hashlib.sha256(data).hexdigest())"
   ]
  },
  {
   "cell_type": "code",
   "execution_count": 25,
   "metadata": {},
   "outputs": [
    {
     "name": "stdout",
     "output_type": "stream",
     "text": [
      "Test succeeded:  checked 1831 of a total 5869 tiles fetched\n"
     ]
    }
   ],
   "source": [
    "# before 100 tiles: 7GB\n",
    "# now 5900 tiles: 4.8GB!\n",
    "\n",
    "fetched_tiles = 0\n",
    "checked_tiles = 0\n",
    "\n",
    "for url in tilefetch_urls:\n",
    "    data = urllib2.urlopen('http://dotmaptiles-staging.createlab.org' + url).read()\n",
    "    expected = tilehashes.get(url)\n",
    "    fetched_tiles += 1\n",
    "    if expected:\n",
    "        assert hashlib.sha256(data).hexdigest() == expected\n",
    "        checked_tiles += 1\n",
    "print 'Test succeeded:  checked {checked_tiles} of a total {fetched_tiles} tiles fetched'.format(**locals())\n"
   ]
  }
 ],
 "metadata": {
  "kernelspec": {
   "display_name": "Python 2",
   "language": "python",
   "name": "python2"
  },
  "language_info": {
   "codemirror_mode": {
    "name": "ipython",
    "version": 2
   },
   "file_extension": ".py",
   "mimetype": "text/x-python",
   "name": "python",
   "nbconvert_exporter": "python",
   "pygments_lexer": "ipython2",
   "version": "2.7.13"
  }
 },
 "nbformat": 4,
 "nbformat_minor": 2
}
