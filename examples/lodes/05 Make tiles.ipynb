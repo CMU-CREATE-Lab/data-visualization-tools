{
 "cells": [
  {
   "cell_type": "code",
   "execution_count": 1,
   "metadata": {
    "collapsed": true
   },
   "outputs": [],
   "source": [
    "import array, csv, json, math, multiprocessing, os, random, re, shutil\n",
    "import shapely, shapely.wkb, struct, subprocess, sys, threading, urllib2\n",
    "\n",
    "def exec_ipynb(filename_or_url):\n",
    "    nb = (urllib2.urlopen(filename_or_url) if re.match(r'https?:', filename_or_url) else open(filename_or_url)).read()\n",
    "    jsonNb = json.loads(nb)\n",
    "    #check for the modified formatting of Jupyter Notebook v4\n",
    "    if(jsonNb['nbformat'] == 4):\n",
    "        exec '\\n'.join([''.join(cell['source']) for cell in jsonNb['cells'] if cell['cell_type'] == 'code']) in globals()\n",
    "    else:\n",
    "        exec '\\n'.join([''.join(cell['input']) for cell in jsonNb['worksheets'][0]['cells'] if cell['cell_type'] == 'code']) in globals()\n",
    "\n",
    "exec_ipynb('timelapse-utilities.ipynb')"
   ]
  },
  {
   "cell_type": "code",
   "execution_count": 26,
   "metadata": {
    "collapsed": false
   },
   "outputs": [],
   "source": [
    "src = 'od-JT01-2011.bin'\n",
    "outputdir = 'od-JT01-2011-tiles'"
   ]
  },
  {
   "cell_type": "code",
   "execution_count": 27,
   "metadata": {
    "collapsed": false
   },
   "outputs": [],
   "source": [
    "# merc_x and merc_y are in 0-256 web mercator space\n",
    "def MercToTileCoords(merc_x, merc_y, z):\n",
    "    n = 2 ** z\n",
    "    xtile = int(merc_x * n / 256)\n",
    "    ytile = int(merc_y * n / 256)\n",
    "    return xtile, ytile"
   ]
  },
  {
   "cell_type": "code",
   "execution_count": 28,
   "metadata": {
    "collapsed": false
   },
   "outputs": [],
   "source": [
    "def make_tile_zoom(z, subsample):\n",
    "    tiles = [[[] for x in range(2 ** z)] for y in range(2 ** z)]\n",
    "\n",
    "    record_len = 6 * 4\n",
    "\n",
    "    num_records = os.stat(src).st_size / record_len\n",
    "    \n",
    "    print '%s has %d records (points)' % (src, num_records)\n",
    "    if subsample < 1:\n",
    "        num_records = int(round(num_records * subsample))\n",
    "        print 'Subsampling %g%% to %d records (points)' % (subsample * 100, num_records)\n",
    "    \n",
    "    src_file = open(src, 'rb')\n",
    "\n",
    "    for i in xrange(num_records):\n",
    "        record = src_file.read(record_len)\n",
    "        (wx, wy, hx, hy, dist, color) = struct.unpack('<ffffff', record)\n",
    "        (xtile, ytile) = MercToTileCoords(wx, wy, z)\n",
    "        tiles[xtile][ytile].append(record)\n",
    "    \n",
    "    for ytile in range(2 ** z):\n",
    "        for xtile in range(2 ** z):\n",
    "            tile_path = \"%s/%d/%d/%d.bin\" % (outputdir, z, xtile, ytile)\n",
    "            if not os.path.exists(os.path.dirname(tile_path)):\n",
    "                os.makedirs(os.path.dirname(tile_path))\n",
    "            open(tile_path, 'wb').write(''.join(tiles[xtile][ytile]))\n",
    "\n",
    "    print 'Created %d tiles with prefix %s/%d' % (4 ** z, outputdir, z)"
   ]
  },
  {
   "cell_type": "code",
   "execution_count": 29,
   "metadata": {
    "collapsed": false
   },
   "outputs": [
    {
     "name": "stdout",
     "output_type": "stream",
     "text": [
      "od-JT01-2011.bin has 223234100 records (points)\n",
      "Subsampling 0.0244141% to 54501 records (points)\n",
      "Created 1 tiles with prefix od-JT01-2011-tiles/0\n",
      "od-JT01-2011.bin has 223234100 records (points)\n",
      "Subsampling 0.0244141% to 54501 records (points)\n",
      "Created 4 tiles with prefix od-JT01-2011-tiles/1\n",
      "od-JT01-2011.bin has 223234100 records (points)\n",
      "Subsampling 0.0244141% to 54501 records (points)\n",
      "Created 16 tiles with prefix od-JT01-2011-tiles/2\n",
      "od-JT01-2011.bin has 223234100 records (points)\n",
      "Subsampling 0.0244141% to 54501 records (points)\n",
      "Created 64 tiles with prefix od-JT01-2011-tiles/3\n",
      "od-JT01-2011.bin has 223234100 records (points)\n",
      "Subsampling 0.0244141% to 54501 records (points)\n",
      "Created 256 tiles with prefix od-JT01-2011-tiles/4\n",
      "od-JT01-2011.bin has 223234100 records (points)\n",
      "Subsampling 0.0976562% to 218002 records (points)\n",
      "Created 1024 tiles with prefix od-JT01-2011-tiles/5\n",
      "od-JT01-2011.bin has 223234100 records (points)\n",
      "Subsampling 0.390625% to 872008 records (points)\n",
      "Created 4096 tiles with prefix od-JT01-2011-tiles/6\n",
      "od-JT01-2011.bin has 223234100 records (points)\n",
      "Subsampling 1.5625% to 3488033 records (points)\n",
      "Created 16384 tiles with prefix od-JT01-2011-tiles/7\n",
      "od-JT01-2011.bin has 223234100 records (points)\n",
      "Subsampling 6.25% to 13952131 records (points)\n",
      "Created 65536 tiles with prefix od-JT01-2011-tiles/8\n",
      "od-JT01-2011.bin has 223234100 records (points)\n",
      "Subsampling 25% to 55808525 records (points)\n",
      "Created 262144 tiles with prefix od-JT01-2011-tiles/9\n",
      "od-JT01-2011.bin has 223234100 records (points)\n",
      "Created 1048576 tiles with prefix od-JT01-2011-tiles/10\n"
     ]
    }
   ],
   "source": [
    "make_tile_zoom( 0, 0.000244140625)\n",
    "make_tile_zoom( 1, 0.000244140625)\n",
    "make_tile_zoom( 2, 0.000244140625)\n",
    "make_tile_zoom( 3, 0.000244140625)\n",
    "make_tile_zoom( 4, 0.000244140625)\n",
    "make_tile_zoom( 5, 0.0009765625)\n",
    "make_tile_zoom( 6, 0.00390625)\n",
    "make_tile_zoom( 7, 0.015625)\n",
    "make_tile_zoom( 8, 0.0625)\n",
    "make_tile_zoom( 9, 0.25)\n",
    "make_tile_zoom(10, 1.0)\n"
   ]
  },
  {
   "cell_type": "code",
   "execution_count": 21,
   "metadata": {
    "collapsed": false
   },
   "outputs": [
    {
     "name": "stdout",
     "output_type": "stream",
     "text": [
      "4\ttiles/5/0\r\n",
      "4\ttiles/5/1\r\n",
      "12\ttiles/5/10\r\n",
      "892\ttiles/5/11\r\n",
      "4620\ttiles/5/12\r\n",
      "16\ttiles/5/13\r\n",
      "12\ttiles/5/14\r\n",
      "4\ttiles/5/15\r\n",
      "4\ttiles/5/16\r\n",
      "4\ttiles/5/17\r\n",
      "4\ttiles/5/18\r\n",
      "4\ttiles/5/19\r\n",
      "4\ttiles/5/2\r\n",
      "4\ttiles/5/20\r\n",
      "4\ttiles/5/21\r\n",
      "4\ttiles/5/22\r\n",
      "4\ttiles/5/23\r\n",
      "4\ttiles/5/24\r\n",
      "4\ttiles/5/25\r\n",
      "4\ttiles/5/26\r\n",
      "4\ttiles/5/27\r\n",
      "4\ttiles/5/28\r\n",
      "4\ttiles/5/29\r\n",
      "4\ttiles/5/3\r\n",
      "4\ttiles/5/30\r\n",
      "4\ttiles/5/31\r\n",
      "4\ttiles/5/4\r\n",
      "4\ttiles/5/5\r\n",
      "4\ttiles/5/6\r\n",
      "8\ttiles/5/7\r\n",
      "12\ttiles/5/8\r\n",
      "12\ttiles/5/9\r\n"
     ]
    }
   ],
   "source": [
    "!du -shk tiles/5/*"
   ]
  },
  {
   "cell_type": "code",
   "execution_count": null,
   "metadata": {
    "collapsed": true
   },
   "outputs": [],
   "source": []
  }
 ],
 "metadata": {
  "anaconda-cloud": {},
  "kernelspec": {
   "display_name": "Python [default]",
   "language": "python",
   "name": "python2"
  },
  "language_info": {
   "codemirror_mode": {
    "name": "ipython",
    "version": 2
   },
   "file_extension": ".py",
   "mimetype": "text/x-python",
   "name": "python",
   "nbconvert_exporter": "python",
   "pygments_lexer": "ipython2",
   "version": "2.7.12"
  }
 },
 "nbformat": 4,
 "nbformat_minor": 1
}
