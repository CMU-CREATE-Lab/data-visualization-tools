{
 "cells": [
  {
   "cell_type": "code",
   "execution_count": 96,
   "metadata": {
    "collapsed": true
   },
   "outputs": [],
   "source": [
    "import os, re, urllib2, xml.dom"
   ]
  },
  {
   "cell_type": "code",
   "execution_count": 145,
   "metadata": {
    "collapsed": true
   },
   "outputs": [],
   "source": [
    "def named_node_map_to_dict(nnm):\n",
    "    ret = {}\n",
    "    for i in range(nnm.length):\n",
    "        ret[nnm.item(i).name] = nnm.item(i).value\n",
    "    return ret\n",
    "\n",
    "def alternate_id(id):\n",
    "    if re.match(r'\\w\\d\\d\\d\\w0\\d\\d\\d', id):\n",
    "        return id[:-4] + id[-3:]\n",
    "    if re.match(r'\\w\\d\\d\\d\\d\\d\\d', id):\n",
    "        return id[:-3] + '0' + id[-3:]\n",
    "\n",
    "#print alternate_id('P000P0000')\n",
    "#print alternate_id('P038014')\n",
    "\n",
    "def find_id_year(id, year):\n",
    "    path = 'columncache/census{year}_block2010/{id}.numpy'.format(**locals())\n",
    "    if os.path.exists(path):\n",
    "        return path\n",
    "    if alternate_id(id):\n",
    "        bad_id = alternate_id(id)\n",
    "        bad_path = 'columncache/census{year}_block2010/{bad_id}.numpy'.format(**locals())\n",
    "        if os.path.exists(bad_path):\n",
    "            target = os.path.basename(bad_path)\n",
    "            print 'Running os.symlink({target}, {path})'.format(**locals())\n",
    "            os.symlink(target, path)\n",
    "        return path\n",
    "    raise Exception('Cannot find original for {path}'.format(**locals()))"
   ]
  },
  {
   "cell_type": "code",
   "execution_count": 162,
   "metadata": {},
   "outputs": [],
   "source": [
    "def write_description(year, doc_url):\n",
    "    xmlurl = \"https://api.census.gov/data/{year}/sf1/variables.xml\".format(**locals())\n",
    "    xmldoc = xml.dom.minidom.parseString(urllib2.urlopen(xmlurl).read())\n",
    "\n",
    "    cols = {}\n",
    "\n",
    "    for var in xmldoc.getElementsByTagName('var'):\n",
    "        parsed = named_node_map_to_dict(var.attributes)\n",
    "        id = parsed['xml:id']\n",
    "        if re.match(r'[HP]\\d', id):\n",
    "            find_id_year(id, year)\n",
    "            if not 'concept' in parsed:\n",
    "                # Patch a couple bad records from US Census\n",
    "                if year == '2000' and id == 'P027D004':\n",
    "                    parsed['concept'] = 'P27D. Relationship By Household Type (Including Living Alone) (Asian Alone)'\n",
    "                elif year == '2000' and id == 'H017069':\n",
    "                    parsed['concept'] = 'H17. Tenure By Household Type (Including Living Alone) By Age Of Householder'\n",
    "            name = re.sub(r'\\s+\\[\\d+\\]', '', parsed['concept']) + ' &mdash; '\n",
    "            label = parsed['label']\n",
    "            label = re.sub(r':? !! ', ' &mdash; ', label)\n",
    "            label = re.sub(r'\\s*:\\s*', ' &mdash; ', label)\n",
    "            label = re.sub(r'&mdash;\\s+$', '', label)\n",
    "            label = label.replace(\"'&'\", '&')\n",
    "            label = label.replace(\"'<'\", '<')\n",
    "            label = label.replace(\"'>'\", '>')\n",
    "            name += label\n",
    "            cols[id] = name\n",
    "\n",
    "    html = []\n",
    "    html += '<br><a href=\"{doc_url}\">Link to US Census technical documentation (PDF)</a><br><br>\\n'.format(**locals())\n",
    "    html += '<table>\\n'\n",
    "\n",
    "    for id in sorted(cols.keys()):\n",
    "        name = cols[id]\n",
    "        html += '<tr><td>{id}</td><td>{name}</td></tr>\\n'.format(**locals())\n",
    "\n",
    "    html += '</table>\\n'\n",
    "\n",
    "    dest = 'columncache/census{year}_block2010/description.html'.format(**locals())\n",
    "    open(dest, 'w').write(''.join(html))"
   ]
  },
  {
   "cell_type": "code",
   "execution_count": 165,
   "metadata": {},
   "outputs": [],
   "source": [
    "write_description('1990', 'https://www2.census.gov/prod2/decennial/documents/D1-D90-S101-14-TECH-01.pdf')\n",
    "write_description('2000', 'https://www.census.gov/prod/cen2000/doc/sf1.pdf')\n",
    "write_description('2010', 'https://www2.census.gov/library/publications/cen2010/doc/sf1.pdf')"
   ]
  }
 ],
 "metadata": {
  "kernelspec": {
   "display_name": "Python 2",
   "language": "python",
   "name": "python2"
  },
  "language_info": {
   "codemirror_mode": {
    "name": "ipython",
    "version": 2
   },
   "file_extension": ".py",
   "mimetype": "text/x-python",
   "name": "python",
   "nbconvert_exporter": "python",
   "pygments_lexer": "ipython2",
   "version": "2.7.13"
  }
 },
 "nbformat": 4,
 "nbformat_minor": 2
}
