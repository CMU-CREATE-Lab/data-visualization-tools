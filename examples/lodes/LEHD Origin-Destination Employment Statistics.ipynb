{
 "metadata": {
  "name": "",
  "signature": "sha256:b9dec6683f3c5b46623cf53cc5d7d8096b4237d6ce003bbab79c011b7f925917"
 },
 "nbformat": 3,
 "nbformat_minor": 0,
 "worksheets": [
  {
   "cells": [
    {
     "cell_type": "code",
     "collapsed": false,
     "input": [
      "#Download PA tabblocks\n",
      "import os, urllib2, zipfile\n",
      "\n",
      "def init_capture(capture_dir):\n",
      "    # Create capture dir if it doesn't exist\n",
      "    if not os.path.exists(capture_dir):\n",
      "        os.makedirs(capture_dir)\n",
      "\n",
      "def download_file(url, filename):\n",
      "    try:\n",
      "        f = urllib2.urlopen(url)\n",
      "        with open(filename, \"wb\") as local_file:\n",
      "            local_file.write(f.read())\n",
      "    except:\n",
      "        print \"Failed to download %s\" % url\n",
      "\n",
      "def format_tabblock_url(state):\n",
      "    # URL for FIPS and GNIS codes file -- https://www.census.gov/geo/reference/docs/state.txt'\n",
      "    return 'ftp://ftp2.census.gov/geo/tiger/TIGER2010/TABBLOCK/2010/tl_2010_{0}_tabblock10.zip'.format(state)\n",
      "\n",
      "def format_lodes7_od_url(st, part, t, year):\n",
      "    #http://lehd.ces.census.gov/data/lodes/LODES7/LODESTechDoc7.0.pdf\n",
      "    return 'http://lehd.ces.census.gov/data/lodes/LODES7/{0}/od/{0}_od_{1}_{2}_{3}.csv.gz'.format(st, part, t, year)\n",
      "\n",
      "\n",
      "def unzip_tabblock(filename):\n",
      "    exdir = filename.split('.')[0]\n",
      "    !unzip $filename -d $exdir\n",
      "\n",
      "def gunzip_lodes7(filename):\n",
      "    !gunzip $filename\n",
      "\n",
      "\n",
      "ansi_codes = [\n",
      "    ('01', 'al'), ('02', 'ak'), ('04', 'az'), ('05', 'ar'), ('06', 'ca'),\n",
      "    ('08', 'co'), ('09', 'ct'), ('10', 'de'), ('11', 'dc'), ('12', 'fl'),\n",
      "    ('13', 'ga'), ('15', 'hi'), ('16', 'id'), ('17', 'il'), ('18', 'in'),\n",
      "    ('19', 'ia'), ('20', 'ks'), ('21', 'ky'), ('22', 'la'), ('23', 'me'),\n",
      "    ('24', 'md'), ('25', 'ma'), ('26', 'mi'), ('27', 'mn'), ('28', 'ms'),\n",
      "    ('29', 'mo'), ('30', 'mt'), ('31', 'ne'), ('32', 'nv'), ('33', 'nh'),\n",
      "    ('34', 'nj'), ('35', 'nm'), ('36', 'ny'), ('37', 'nc'), ('38', 'nd'),\n",
      "    ('39', 'oh'), ('40', 'ok'), ('41', 'or'), ('42', 'pa'), ('44', 'ri'),\n",
      "    ('45', 'sc'), ('46', 'sd'), ('47', 'tn'), ('48', 'tx'), ('49', 'ut'),\n",
      "    ('50', 'vt'), ('51', 'va'), ('53', 'wa'), ('54', 'wi'), ('55', 'wy'),\n",
      "    ('56', 'wv')\n",
      "]\n"
     ],
     "language": "python",
     "metadata": {},
     "outputs": [],
     "prompt_number": 1
    },
    {
     "cell_type": "code",
     "collapsed": false,
     "input": [
      "capture_dir = \"capture/tabblock_2010/\"\n",
      "pa_id = 42\n",
      "init_capture(capture_dir)\n",
      "pa_url = format_tabblock_url(pa_id)\n",
      "pa_filename = capture_dir + os.path.basename(pa_url)\n",
      "download_file(pa_url, pa_filename)\n",
      "unzip_tabblock(pa_filename)"
     ],
     "language": "python",
     "metadata": {},
     "outputs": []
    },
    {
     "cell_type": "code",
     "collapsed": false,
     "input": [
      "#shp2pgsql -I -s 4269:900913 capture/tabblock_2010/tl_2010_42_tabblock10/tl_2010_42_tabblock10.shp tl_2010_42_tabblock10 | psql -q -d lodes_tl_2010"
     ],
     "language": "python",
     "metadata": {},
     "outputs": []
    },
    {
     "cell_type": "code",
     "collapsed": false,
     "input": [
      "curdir = \"capture/lodes7/pa/\"\n",
      "init_capture(curdir)\n",
      "url = format_lodes7_od_url('pa', 'main', 'JT00', '2011')\n",
      "download_file(url, curdir+os.path.basename(url)) \n",
      "gunzip_lodes7(curdir+os.path.basename(url))"
     ],
     "language": "python",
     "metadata": {},
     "outputs": []
    },
    {
     "cell_type": "markdown",
     "metadata": {},
     "source": [
      "<pre>\n",
      "psql -d lodes_tl_2010\n",
      "</pre>\n",
      "<pre>\n",
      "CREATE TABLE pa_od_main_JT00_2011 (\n",
      "    gid serial NOT NULL,\n",
      "    w_geocode character varying(15),\n",
      "    h_geocode character varying(15),\n",
      "    S000 integer,\n",
      "    SA01 integer,\n",
      "    SA02 integer,\n",
      "    SA03 integer,\n",
      "    SE01 integer,\n",
      "    SE02 integer,\n",
      "    SE03 integer,\n",
      "    SI01 integer,\n",
      "    SI02 integer,\n",
      "    SI03 integer,\n",
      "    createdate character varying(8)\n",
      ");\n",
      "</pre>\n",
      "<pre>\n",
      "COPY pa_od_main_JT00_2011(w_geocode,h_geocode,S000,SA01,SA02,SA03,SE01,SE02,SE03,SI01,SI02,SI03,createdate) FROM '/Users/gabrielo/Code/data-visualization-tools/examples/lodes/capture/lodes7/pa/pa_od_main_JT00_2011.csv' DELIMITER ',' CSV HEADER;\n",
      "</pre>"
     ]
    },
    {
     "cell_type": "code",
     "collapsed": false,
     "input": [
      "import math\n",
      "from shapely.geometry import *\n",
      "from shapely.wkb import loads\n",
      "from TileStache.Goodies.VecTiles.ops import transform\n",
      "def LonLatToPixelXY(lonlat, scale = 1.):\n",
      "    (lon, lat) = lonlat\n",
      "    x = (lon + 180.0) * 256.0 / 360.0\n",
      "    y = 128.0 - math.log(math.tan((lat + 90.0) * math.pi / 360.0)) * 128.0 / math.pi\n",
      "    return [x*scale, y*scale]"
     ],
     "language": "python",
     "metadata": {},
     "outputs": []
    },
    {
     "cell_type": "code",
     "collapsed": false,
     "input": [
      "import psycopg2\n",
      "data = []\n",
      "conn = psycopg2.connect(\"dbname=lodes_tl_2010\")\n",
      "cur = conn.cursor()\n",
      "query = \"SELECT ST_Transform(ST_Centroid(work.geom),4326), ST_Transform(ST_Centroid(home.geom),4326), pa.s000 FROM pa_od_main_jt00_2011 pa, tl_2010_42_tabblock10 work,tl_2010_42_tabblock10 home WHERE pa.w_geocode = work.geoid10 AND pa.h_geocode = home.geoid10\"\n",
      "cur.execute(query)\n",
      "\n",
      "for row in cur.fetchall():\n",
      "    data += LonLatToPixelXY(loads(row[0],True).__geo_interface__['coordinates'])\n",
      "    data += LonLatToPixelXY(loads(row[1],True).__geo_interface__['coordinates'])\n",
      "    data.append(row[2])\n",
      "cur.close()\n",
      "conn.close()\n",
      "\n"
     ],
     "language": "python",
     "metadata": {},
     "outputs": []
    },
    {
     "cell_type": "code",
     "collapsed": false,
     "input": [
      "import array\n",
      "dest = 'pa_od_main_jt00_2011.bin'\n",
      "array.array('f', data).tofile(open(dest, 'w'))"
     ],
     "language": "python",
     "metadata": {},
     "outputs": []
    },
    {
     "cell_type": "code",
     "collapsed": false,
     "input": [
      "import psycopg2\n",
      "data = []\n",
      "conn = psycopg2.connect(\"dbname=lodes_tl_2010\")\n",
      "cur = conn.cursor()\n",
      "query = \"SELECT ST_Transform(ST_Centroid(work.geom),4326), ST_Transform(ST_Centroid(home.geom),4326), ST_Distance_Sphere(ST_Transform(ST_Centroid(work.geom),4326), ST_Transform(ST_Centroid(home.geom),4326)), pa.s000, pa.se01, pa.se02, pa.se03 FROM pa_od_main_jt00_2011 pa, tl_2010_42_tabblock10 work,tl_2010_42_tabblock10 home WHERE pa.w_geocode = work.geoid10 AND pa.h_geocode = home.geoid10\"\n",
      "cur.execute(query)\n",
      "\n",
      "for row in cur.fetchall():\n",
      "    data += LonLatToPixelXY(loads(row[0],True).__geo_interface__['coordinates'])\n",
      "    data += LonLatToPixelXY(loads(row[1],True).__geo_interface__['coordinates'])\n",
      "    data.append(row[2])\n",
      "    data.append(row[3])\n",
      "    data.append(row[4])\n",
      "    data.append(row[5])\n",
      "    data.append(row[6])\n",
      "\n",
      "cur.close()\n",
      "conn.close()\n",
      "\n",
      "import array\n",
      "dest = 'pa_od_main_jt00_2011-dist-and-earnings.bin'\n",
      "array.array('f', data).tofile(open(dest, 'w'))"
     ],
     "language": "python",
     "metadata": {},
     "outputs": []
    },
    {
     "cell_type": "code",
     "collapsed": false,
     "input": [
      "import psycopg2\n",
      "rows = []\n",
      "conn = psycopg2.connect(\"dbname=lodes_tl_2010\")\n",
      "cur = conn.cursor()\n",
      "query = \"SELECT ST_Transform(work.geom,4326), ST_Transform(home.geom,4326), ST_Distance_Sphere(ST_Transform(ST_Centroid(work.geom),4326), ST_Transform(ST_Centroid(home.geom),4326)), pa.s000, pa.se01, pa.se02, pa.se03 FROM pa_od_main_jt00_2011 pa, tl_2010_42_tabblock10 work,tl_2010_42_tabblock10 home WHERE pa.w_geocode = work.geoid10 AND pa.h_geocode = home.geoid10\"\n",
      "cur.execute(query)\n",
      "rows = cur.fetchall()\n",
      "cur.close()\n",
      "conn.close()\n",
      "\n",
      "from random import uniform\n",
      "\n",
      "def randomPoint(geom):\n",
      "    poly = loads(geom, True)\n",
      "    bbox = poly.bounds\n",
      "    l,b,r,t = bbox\n",
      "    while True:\n",
      "        point = Point(uniform(l,r),uniform(t,b))\n",
      "        if point is None:\n",
      "            break\n",
      "        if poly.contains(point):\n",
      "            break\n",
      "    return point.__geo_interface__['coordinates']\n",
      "\n",
      "data = []\n",
      "pp = 0\n",
      "for row in rows:\n",
      "    workGeom = row[0]\n",
      "    homeGeom = row[1]\n",
      "    distance = row[2]\n",
      "    total = row[3]\n",
      "    se01 = row[4]\n",
      "    se02 = row[5]\n",
      "    se03 = row[6]\n",
      "    pp += total\n",
      "    for i in range(se01):\n",
      "        wpoint = randomPoint(workGeom)\n",
      "        hpoint = randomPoint(homeGeom)\n",
      "        data += LonLatToPixelXY(wpoint)\n",
      "        data += LonLatToPixelXY(hpoint)\n",
      "        data.append(distance)\n",
      "        data.append(total)\n",
      "        data.append(se01)\n",
      "        data.append(se02)\n",
      "        data.append(se03)\n",
      "    \n",
      "    for i in range(se02):\n",
      "        wpoint = randomPoint(workGeom)\n",
      "        hpoint = randomPoint(homeGeom)\n",
      "        data += LonLatToPixelXY(wpoint)\n",
      "        data += LonLatToPixelXY(hpoint)\n",
      "        data.append(distance)\n",
      "        data.append(total)\n",
      "        data.append(se01)\n",
      "        data.append(se02)\n",
      "        data.append(se03)\n",
      "\n",
      "    for i in range(se03):\n",
      "        wpoint = randomPoint(workGeom)\n",
      "        hpoint = randomPoint(homeGeom)\n",
      "        data += LonLatToPixelXY(wpoint)\n",
      "        data += LonLatToPixelXY(hpoint)\n",
      "        data.append(distance)\n",
      "        data.append(total)\n",
      "        data.append(se01)\n",
      "        data.append(se02)\n",
      "        data.append(se03)\n",
      "\n",
      "print len(data) / 7"
     ],
     "language": "python",
     "metadata": {},
     "outputs": []
    },
    {
     "cell_type": "code",
     "collapsed": false,
     "input": [
      "# now do the file io shit"
     ],
     "language": "python",
     "metadata": {},
     "outputs": []
    },
    {
     "cell_type": "code",
     "collapsed": false,
     "input": [
      "from random import uniform\n",
      "\n",
      "def randomPoint(geom):\n",
      "    poly = loads(geom, True)\n",
      "    bbox = poly.bounds\n",
      "    l,b,r,t = bbox\n",
      "    while True:\n",
      "        point = Point(uniform(l,r),uniform(t,b))\n",
      "        if point is None:\n",
      "            break\n",
      "        if poly.contains(point):\n",
      "            break\n",
      "    return point.__geo_interface__['coordinates']\n",
      "\n",
      "data = []\n",
      "pp = 0\n",
      "i = 0\n",
      "for row in rows:\n",
      "    print i\n",
      "    i += 1\n",
      "    workGeom = row[0]\n",
      "    homeGeom = row[1]\n",
      "    distance = row[2]\n",
      "    total = row[3]\n",
      "    se01 = row[4]\n",
      "    se02 = row[5]\n",
      "    se03 = row[6]\n",
      "    pp += total\n",
      "    for i in range(se01):\n",
      "        wpoint = randomPoint(workGeom)\n",
      "        hpoint = randomPoint(homeGeom)\n",
      "        data += LonLatToPixelXY(wpoint)\n",
      "        data += LonLatToPixelXY(hpoint)\n",
      "        data.append(distance)\n",
      "        data.append(total)\n",
      "        data.append(se01)\n",
      "        data.append(se02)\n",
      "        data.append(se03)\n",
      "    \n",
      "    for i in range(se02):\n",
      "        wpoint = randomPoint(workGeom)\n",
      "        hpoint = randomPoint(homeGeom)\n",
      "        data += LonLatToPixelXY(wpoint)\n",
      "        data += LonLatToPixelXY(hpoint)\n",
      "        data.append(distance)\n",
      "        data.append(total)\n",
      "        data.append(se01)\n",
      "        data.append(se02)\n",
      "        data.append(se03)\n",
      "\n",
      "    for i in range(se03):\n",
      "        wpoint = randomPoint(workGeom)\n",
      "        hpoint = randomPoint(homeGeom)\n",
      "        data += LonLatToPixelXY(wpoint)\n",
      "        data += LonLatToPixelXY(hpoint)\n",
      "        data.append(distance)\n",
      "        data.append(total)\n",
      "        data.append(se01)\n",
      "        data.append(se02)\n",
      "        data.append(se03)\n",
      "\n",
      "print len(data) / 7"
     ],
     "language": "python",
     "metadata": {},
     "outputs": []
    },
    {
     "cell_type": "code",
     "collapsed": false,
     "input": [
      "import array, os\n",
      "file = 'pa_od_main_jt00_2011-all-points.bin'\n",
      "input = open(file, 'rb')\n",
      "n = int(os.path.getsize(file)/4)\n",
      "input.seek(0)\n",
      "data = array.array('f')\n",
      "data.fromfile(input,n)\n",
      "input.close()"
     ],
     "language": "python",
     "metadata": {},
     "outputs": []
    },
    {
     "cell_type": "code",
     "collapsed": false,
     "input": [
      "def split_list(alist, wanted_parts=1):\n",
      "    length = len(alist)\n",
      "    return [ alist[i*length // wanted_parts: (i+1)*length // wanted_parts] \n",
      "             for i in range(wanted_parts) ]\n",
      "split = split_list(data,n/9)\n",
      "print split[0]"
     ],
     "language": "python",
     "metadata": {},
     "outputs": []
    },
    {
     "cell_type": "code",
     "collapsed": false,
     "input": [
      "import random\n",
      "random.shuffle(split)\n",
      "print split[0]\n",
      "data = []\n",
      "for x in split:\n",
      "    for y in x:\n",
      "        data += [y]\n",
      "\n",
      "dest = 'pa_od_main_jt00_2011-all-points-randomized.bin'\n",
      "array.array('f', data).tofile(open(dest, 'w'))"
     ],
     "language": "python",
     "metadata": {},
     "outputs": []
    },
    {
     "cell_type": "code",
     "collapsed": false,
     "input": [
      "import array, os\n",
      "file = 'pa_od_main_jt00_2011-all-points-randomized.bin'\n",
      "input = open(file, 'rb')\n",
      "n = int(os.path.getsize(file)/4)\n",
      "print n\n",
      "input.seek(0)\n",
      "data = array.array('f')\n",
      "data.fromfile(input,n)\n",
      "input.close()\n",
      "def split_list(alist, wanted_parts=1):\n",
      "    length = len(alist)\n",
      "    return [ alist[i*length // wanted_parts: (i+1)*length // wanted_parts] \n",
      "             for i in range(wanted_parts) ]\n",
      "split = split_list(data,n/9)\n",
      "print split[0]"
     ],
     "language": "python",
     "metadata": {},
     "outputs": []
    },
    {
     "cell_type": "code",
     "collapsed": false,
     "input": [
      "data = []\n",
      "def pack_color(color):\n",
      "    return color['r'] + color['g'] * 256.0 + color['b'] * 256.0 * 256.0;\n",
      "\n",
      "def unpack_color(f):\n",
      "    b = floor(f / 256.0 / 256.0)\n",
      "    g = floor((f - b * 256.0 * 256.0) / 256.0)\n",
      "    r = floor(f - b * 256.0 * 256.0 - g * 256.0)\n",
      "    return {'r':r,'g':g,'b':b}\n",
      "\n",
      "se01 = {'r':20,'b':116,'g':236}\n",
      "se02 = {'r':70,'b':225,'g':85}\n",
      "se03 = {'r':227,'b':30,'g':61}\n",
      "\n",
      "for x in split:\n",
      "    data += x[0:5]\n",
      "    if x[6] == 1.0:\n",
      "        data.append(pack_color(se01))\n",
      "    elif x[7] == 1.0:\n",
      "        data.append(pack_color(se02))\n",
      "    elif x[8] == 1.0:\n",
      "        data.append(pack_color(se03))\n",
      "  "
     ],
     "language": "python",
     "metadata": {},
     "outputs": []
    },
    {
     "cell_type": "code",
     "collapsed": false,
     "input": [
      "dest = 'pa_od_main_jt00_2011-all-points-randomized-01.bin'\n",
      "array.array('f', data).tofile(open(dest, 'w'))"
     ],
     "language": "python",
     "metadata": {},
     "outputs": []
    },
    {
     "cell_type": "code",
     "collapsed": false,
     "input": [
      "print pack_color(se01)\n",
      "print pack_color(se02)\n",
      "print pack_color(se03)"
     ],
     "language": "python",
     "metadata": {},
     "outputs": []
    },
    {
     "cell_type": "markdown",
     "metadata": {},
     "source": [
      "<h1>Download all the tabblocks and unzip them</h1>"
     ]
    },
    {
     "cell_type": "code",
     "collapsed": false,
     "input": [
      "capture_dir = \"capture/tabblock_2010/\"\n",
      "init_capture(capture_dir)\n",
      "ids = ['01','02','04','05','06',\n",
      "       '08','09','10','11','12',\n",
      "       '13','15','16','17','18',\n",
      "       '19','20','21','22','23',\n",
      "       '24','25','26','27','28',\n",
      "       '29','30','31','32','33',\n",
      "       '34','35','36','37','38',\n",
      "       '39','40','41','42','44',\n",
      "       '45','46','47','48','49',\n",
      "       '50','51','53','54','55',\n",
      "       '56']\n",
      "for id in ids:\n",
      "  url = format_tabblock_url(id)\n",
      "  filename = capture_dir + os.path.basename(url)\n",
      "  download_file(url, filename)\n",
      "  unzip_tabblock(filename)"
     ],
     "language": "python",
     "metadata": {},
     "outputs": []
    },
    {
     "cell_type": "markdown",
     "metadata": {},
     "source": [
      "<h1>Create a PostGIS Database, \"tl_2010\"</h1>\n",
      "<code>\n",
      "$ createdb tl_2010_tabblock\n",
      "$ psql -d tl_2010_tabblock\n",
      "tl_2010# CREATE EXTENSION postgis;\n",
      "CREATE EXTENSION\n",
      "</code>"
     ]
    },
    {
     "cell_type": "markdown",
     "metadata": {},
     "source": [
      "<h1>Import TIGER/Line tabblock files into PostGIS</h1>"
     ]
    },
    {
     "cell_type": "code",
     "collapsed": false,
     "input": [
      "ids = ['01','02','04','05','06',\n",
      "       '08','09','10','11','12',\n",
      "       '13','15','16','17','18',\n",
      "       '19','20','21','22','23',\n",
      "       '24','25','26','27','28',\n",
      "       '29','30','31','32','33',\n",
      "       '34','35','36','37','38',\n",
      "       '39','40','41','42','44',\n",
      "       '45','46','47','48','49',\n",
      "       '50','51','53','54','55',\n",
      "       '56']\n",
      "\n",
      "id = ids[0]\n",
      "command = \"shp2pgsql -s 4269:900913 capture/tabblock_2010/tl_2010_%s_tabblock10/tl_2010_%s_tabblock10.shp tl_2010_tabblock10 | psql -q -d tl_2010_tabblock\" % (id,id)\n",
      "!$command\n",
      "for id in ids[1:]:\n",
      "    command = \"shp2pgsql -s 4269:900913 -a capture/tabblock_2010/tl_2010_%s_tabblock10/tl_2010_%s_tabblock10.shp tl_2010_tabblock10 | psql -q -d tl_2010_tabblock\" % (id,id)\n",
      "    !$command"
     ],
     "language": "python",
     "metadata": {},
     "outputs": []
    },
    {
     "cell_type": "markdown",
     "metadata": {},
     "source": [
      "<h1>Index on geoid10, geom for tabblock table</h1>"
     ]
    },
    {
     "cell_type": "code",
     "collapsed": false,
     "input": [
      "def set_work_mem(mem):\n",
      "    s = (\"SET work_mem = '%s';\\n\") % mem\n",
      "    return s\n",
      "\n",
      "def create_geoid_index():\n",
      "    s = (\"CREATE INDEX ON tl_2010_tabblock10 (geoid10);\\n\")\n",
      "    return s\n",
      "\n",
      "def create_geom_index():\n",
      "    s = (\"CREATE INDEX ON tl_2010_tabblock10 USING GIST (geom);\\n\")\n",
      "    return s\n",
      "\n",
      "f = open(\"tabblock-indexes.sql\", \"w\")\n",
      "\n",
      "f.write(set_work_mem('4GB'))\n",
      "f.write(create_geoid_index())\n",
      "f.write(create_geom_index())\n",
      "\n",
      "f.close()\n",
      "\n",
      "command = \"psql -d tl_2010_tabblock -f tabblock-indexes.sql\"\n",
      "!$command"
     ],
     "language": "python",
     "metadata": {},
     "outputs": []
    },
    {
     "cell_type": "markdown",
     "metadata": {},
     "source": [
      "<h1>Pre-transform geom to SRID 4326 and calculate centroids</h1>"
     ]
    },
    {
     "cell_type": "code",
     "collapsed": false,
     "input": [
      "def create_geom_4326():\n",
      "    s = (\n",
      "         \"ALTER TABLE tl_2010_tabblock10 ADD geom_4326 geometry(MultiPolygon,4326);\\n\"\n",
      "         \"UPDATE tl_2010_tabblock10 SET geom_4326 = St_Transform(geom,4326);\\n\"\n",
      "         \"CREATE INDEX ON tl_2010_tabblock10 USING GIST(geom_4326);\\n\"\n",
      "        )\n",
      "    return s\n",
      "\n",
      "def create_centroid_4326():\n",
      "    s = (\n",
      "         \"ALTER TABLE tl_2010_tabblock10 ADD centroid_4326 geometry(Point,4326);\\n\"\n",
      "         \"UPDATE tl_2010_tabblock10 SET centroid_4326 = St_Centroid(geom_4326);\\n\"\n",
      "        ) \n",
      "    return s\n",
      "\n",
      "f = open(\"geom-4326.sql\", \"w\")\n",
      "f.write(create_geom_4326())\n",
      "f.write(create_centroid_4326())\n",
      "f.close()\n",
      "\n",
      "command = \"psql -d tl_2010_tabblock -f geom-4326.sql\"\n",
      "!$command"
     ],
     "language": "python",
     "metadata": {},
     "outputs": []
    },
    {
     "cell_type": "markdown",
     "metadata": {},
     "source": [
      "<h1>Download all of the LEHD Origin-Destination Employment Statistics(LODES)</h1>"
     ]
    },
    {
     "cell_type": "code",
     "collapsed": false,
     "input": [
      "states = [\"ak\", \"al\", \"ar\", \"az\", \"ca\", \n",
      "          \"co\", \"ct\", \"dc\", \"de\", \"fl\", \n",
      "          \"ga\", \"hi\", \"ia\", \"id\", \"il\", \n",
      "          \"in\", \"ks\", \"ky\", \"la\", \"ma\", \n",
      "          \"md\", \"me\", \"mi\", \"mn\", \"mo\", \n",
      "          \"ms\", \"mt\", \"nc\", \"nd\", \"ne\", \n",
      "          \"nh\", \"nj\", \"nm\", \"nv\", \"ny\", \n",
      "          \"oh\", \"ok\", \"or\", \"pa\", \"ri\", \n",
      "          \"sc\", \"sd\", \"tn\", \"tx\", \"ut\", \n",
      "          \"va\", \"vt\", \"wa\", \"wi\", \"wv\", \n",
      "          \"wy\"]\n",
      "for state in states:\n",
      "    curdir = \"capture/lodes7/%s/\" % state\n",
      "    init_capture(curddir)\n",
      "    url = format_lodes7_od_url(state, 'main', 'JT00', '2011')\n",
      "    download_file(url, curdir+os.path.basename(url)) \n",
      "    gunzip_lodes7(curdir+os.path.basename(url))    \n",
      "    url = format_lodes7_od_url(state, 'aux', 'JT00', '2011')\n",
      "    download_file(url, curdir+os.path.basename(url)) \n",
      "    gunzip_lodes7(curdir+os.path.basename(url))    \n"
     ],
     "language": "python",
     "metadata": {},
     "outputs": []
    },
    {
     "cell_type": "markdown",
     "metadata": {},
     "source": [
      "<h1>Import LODES OD CSV files into PostGIS</h1>"
     ]
    },
    {
     "cell_type": "code",
     "collapsed": false,
     "input": [
      "def create_od_table():\n",
      "    s =(\n",
      "        \"CREATE TABLE od_JT00_2011 ( \"\n",
      "        \"gid serial NOT NULL, \"\n",
      "        \"w_geocode character varying(15), \"\n",
      "        \"h_geocode character varying(15), \"\n",
      "        \"S000 integer, \"\n",
      "        \"SA01 integer, \" \n",
      "        \"SA02 integer, \"\n",
      "        \"SA03 integer, \"\n",
      "        \"SE01 integer, \"\n",
      "        \"SE02 integer, \"\n",
      "        \"SE03 integer, \"\n",
      "        \"SI01 integer, \"\n",
      "        \"SI02 integer, \"\n",
      "        \"SI03 integer, \"\n",
      "        \"createdate character varying(8));\\n\"\n",
      "    ) \n",
      "    return s\n",
      "\n",
      "def copy_cvs_to_postgis(state,file):\n",
      "    s = (\n",
      "         \"COPY od_JT00_2011(\"\n",
      "         \"w_geocode,h_geocode,S000,SA01,\"\n",
      "         \"SA02,SA03,SE01,SE02,SE03,SI01,\"\n",
      "         \"SI02,SI03,createdate) FROM \"\n",
      "         \"'/Users/gabrielo/Code/data-visualization-tools/examples/lodes/capture/lodes7/%s/%s_od_%s_JT00_2011.csv' \"\n",
      "        \"DELIMITER ',' CSV HEADER;\\n\"\n",
      "         ) % (state,state,file)\n",
      "    return s\n",
      "\n",
      "def create_indexes():\n",
      "    s = (\n",
      "\n",
      "        \"CREATE UNIQUE INDEX ON od_jt00_2011 (gid);\\n\" \n",
      "        \"CREATE INDEX ON od_jt00_2011 (w_geocode);\\n\"\n",
      "         \"CREATE INDEX ON od_jt00_2011 (h_geocode);\\n\"\n",
      "         \"CREATE INDEX ON od_jt00_2011 (s000);\\n\"\n",
      "\n",
      "        ) \n",
      "    return s\n",
      "\n",
      "states = [\"ak\", \"al\", \"ar\", \"az\", \"ca\", \n",
      "          \"co\", \"ct\", \"dc\", \"de\", \"fl\", \n",
      "          \"ga\", \"hi\", \"ia\", \"id\", \"il\", \n",
      "          \"in\", \"ks\", \"ky\", \"la\",  \n",
      "          \"md\", \"me\", \"mi\", \"mn\", \"mo\", \n",
      "          \"ms\", \"mt\", \"nc\", \"nd\", \"ne\", \n",
      "          \"nh\", \"nj\", \"nm\", \"nv\", \"ny\", \n",
      "          \"oh\", \"ok\", \"or\", \"pa\", \"ri\", \n",
      "          \"sc\", \"sd\", \"tn\", \"tx\", \"ut\", \n",
      "          \"va\", \"vt\", \"wa\", \"wi\", \"wv\", \n",
      "          \"wy\"]\n",
      "\n",
      "f = open(\"od.sql\", \"w\")\n",
      "f.write(create_od_table())\n",
      "\n",
      "for state in states:\n",
      "    f.write(copy_cvs_to_postgis(state,'main'))\n",
      "    f.write(copy_cvs_to_postgis(state,'aux'))\n",
      "f.write(create_indexes())\n",
      "\n",
      "f.close()\n",
      "\n",
      "command = \"psql -d tl_2010_tabblock -f od.sql\"\n",
      "!$command"
     ],
     "language": "python",
     "metadata": {},
     "outputs": []
    },
    {
     "cell_type": "markdown",
     "metadata": {},
     "source": [
      "<h1>Add distance between work and home centroids</h1>"
     ]
    },
    {
     "cell_type": "code",
     "collapsed": false,
     "input": [
      "def add_distance_col():\n",
      "    s = (\n",
      "         \"ALTER TABLE od_JT00_2011 ADD distance float;\\n\"\n",
      "        )\n",
      "    return s\n",
      "\n",
      "def create_tmp_distance_table():\n",
      "    s = (\n",
      "         \"CREATE TEMP TABLE tmp_distance \"\n",
      "         \"AS SELECT od.gid,ST_Distance_Sphere(work.centroid_4326, home.centroid_4326) \"\n",
      "         \"FROM od_jt00_2011 od, tl_2010_tabblock10 work, tl_2010_tabblock10 home \"\n",
      "         \"WHERE od.w_geocode = work.geoid10 AND od.h_geocode = home.geoid10;\\n\"\n",
      "        )\n",
      "    return s\n",
      "    \n",
      "def update_distance_col():\n",
      "    s = (\n",
      "        \"UPDATE  od_jt00_2011 od \"\n",
      "        \"SET distance = tmp_distance.st_distance_sphere \"\n",
      "        \"FROM tmp_distance \"\n",
      "        \"WHERE  od.gid = tmp_distance.gid;\\n\"\n",
      "    )\n",
      "    return s\n",
      "\n",
      "f = open(\"od-distance.sql\", \"w\")\n",
      "f.write(add_distance_col())\n",
      "f.write(create_tmp_distance_table())\n",
      "f.write(update_distance_col())\n",
      "f.close()\n",
      "\n",
      "command = \"psql -d tl_2010_tabblock -f od-distance.sql\"\n",
      "!$command\n"
     ],
     "language": "python",
     "metadata": {},
     "outputs": [],
     "prompt_number": 2
    },
    {
     "cell_type": "code",
     "collapsed": false,
     "input": [
      "def create_jobs_with_earnings_table():\n",
      "    s =(\n",
      "        \"DROP TABLE IF EXISTS jobs_with_earnings;\\n\"\n",
      "        \"CREATE TABLE jobs_with_earnings ( \"\n",
      "        \"gid serial NOT NULL, \"\n",
      "        \"w_geom geometry(Point,900913), \"\n",
      "        \"h_geom geometry(Point,900913), \"\n",
      "        \"w_geom_4326 geometry(Point,4326), \"\n",
      "        \"h_geom_4326 geometry(Point,4326), \"\n",
      "        \"w_statefp10 character varying(2), \"\n",
      "        \"h_statefp10 character varying(2), \"\n",
      "        \"w_countyfp10 character varying(3), \" \n",
      "        \"h_countyfp10 character varying(3), \" \n",
      "        \"w_tractce10 character varying(6), \" \n",
      "        \"h_tractce10 character varying(6), \" \n",
      "        \"w_blockce10 character varying(4), \" \n",
      "        \"h_blockce10 character varying(4), \" \n",
      "        \"w_geoid10 character varying(15), \" \n",
      "        \"h_geoid10 character varying(15), \" \n",
      "        \"distance float, \"\n",
      "        \"SE01 integer, \"\n",
      "        \"SE02 integer, \"\n",
      "        \"SE03 integer \"\n",
      "        \");\\n\"\n",
      "    )\n",
      "    return s\n",
      "\n",
      "def format_query_string(od_table, lehd_table):\n",
      "    query_str = (\n",
      "        \"SELECT \"\n",
      "        \"work.geom_4326, \"\n",
      "        \"home.geom_4326, \"\n",
      "        \"ST_Distance_Sphere(work.centroid_4326, home.centroid_4326), \"\n",
      "        \"work.statefp10, \"\n",
      "        \"home.statefp10, \"\n",
      "        \"work.countyfp10, \" \n",
      "        \"home.countyfp10, \" \n",
      "        \"work.tractce10, \" \n",
      "        \"home.tractce10, \" \n",
      "        \"work.blockce10, \" \n",
      "        \"home.blockce10, \" \n",
      "        \"work.geoid10, \" \n",
      "        \"home.geoid10, \"\n",
      "        \"od.s000, \"\n",
      "        \"od.se01, \"\n",
      "        \"od.se02, \"\n",
      "        \"od.se03 \"\n",
      "        \"FROM \"\n",
      "        \"%s od, \"\n",
      "        \"%s work, \"\n",
      "        \"%s home \"\n",
      "        \"WHERE \"\n",
      "        \"od.w_geocode = work.geoid10 \"\n",
      "        \"AND od.h_geocode = home.geoid10\"\n",
      "    ) % (od_table, lehd_table, lehd_table)\n",
      "    return query_str\n"
     ],
     "language": "python",
     "metadata": {},
     "outputs": []
    },
    {
     "cell_type": "code",
     "collapsed": false,
     "input": [
      "def create_dc_metro_area(id):\n",
      "    s = (\n",
      "        \"CREATE TABLE dc_metro_area AS \"\n",
      "        \"SELECT * FROM od_jt00_2011 \"\n",
      "        \"WHERE substring(w_geocode from 1 for 11) = '%s';\\n\"\n",
      "        \"INSERT INTO dc_metro_area \"\n",
      "        \"SELECT * FROM od_jt00_2011 \"\n",
      "        \"WHERE substring(h_geocode from 1 for 11) = '%s';\\n\"\n",
      "\n",
      "        ) % (id,id)\n",
      "    return s\n",
      "\n",
      "def append_to_dc_metro_area(id):\n",
      "    s = (\n",
      "        \"INSERT INTO dc_metro_area \"\n",
      "        \"SELECT * FROM od_jt00_2011 \"\n",
      "        \"WHERE substring(w_geocode from 1 for 11) = '%s';\\n\"\n",
      "        \"INSERT INTO dc_metro_area \"\n",
      "        \"SELECT * FROM od_jt00_2011 \"\n",
      "        \"WHERE substring(h_geocode from 1 for 11) = '%s';\\n\"\n",
      "        ) % (id,id)\n",
      "    return s\n",
      "\n",
      "def dup_cleanup():\n",
      "    s = (\n",
      "        \"CREATE TABLE tmp AS \"\n",
      "        \"SELECT DISTINCT * FROM dc_metro_area;\\n\"\n",
      "        \"DROP TABLE dc_metro_area;\\n\"\n",
      "        \"ALTER TABLE tmp RENAME TO dc_metro_area;\\n\"\n",
      "        )\n",
      "    return s\n",
      "\n",
      "out = open(\"dc-metro-area.sql\", \"w\")\n",
      "with open(\"dc-metro-area.txt\") as f:\n",
      "    out.write(create_dc_metro_area(f.readline().rstrip()))\n",
      "    for line in f:\n",
      "        out.write(append_to_dc_metro_area(line.rstrip()))\n",
      "\n",
      "#out.write(dup_cleanup());\n",
      "f.close()\n",
      "command = \"psql -d tl_2010_tabblock -f dc-metro-area.sql\"\n",
      "!$command\n"
     ],
     "language": "python",
     "metadata": {},
     "outputs": [
      {
       "output_type": "stream",
       "stream": "stdout",
       "text": [
        "SELECT 301\r\n",
        "INSERT 0 1482\r\n",
        "INSERT 0 146\r\n"
       ]
      },
      {
       "output_type": "stream",
       "stream": "stdout",
       "text": [
        "INSERT 0 1338\r\n",
        "INSERT 0 32\r\n",
        "INSERT 0 1387\r\n",
        "INSERT 0 14255\r\n",
        "INSERT 0 503\r\n"
       ]
      },
      {
       "output_type": "stream",
       "stream": "stdout",
       "text": [
        "INSERT 0 686\r\n",
        "INSERT 0 1639\r\n",
        "INSERT 0 1799\r\n",
        "INSERT 0 1143\r\n",
        "INSERT 0 592\r\n",
        "INSERT 0 2550\r\n",
        "INSERT 0 168\r\n",
        "INSERT 0 1140\r\n",
        "INSERT 0 561\r\n"
       ]
      },
      {
       "output_type": "stream",
       "stream": "stdout",
       "text": [
        "INSERT 0 2520\r\n",
        "INSERT 0 791\r\n",
        "INSERT 0 2372\r\n",
        "INSERT 0 330\r\n",
        "INSERT 0 1542\r\n",
        "INSERT 0 2236\r\n",
        "INSERT 0 1641\r\n",
        "INSERT 0 634\r\n",
        "INSERT 0 1797\r\n"
       ]
      },
      {
       "output_type": "stream",
       "stream": "stdout",
       "text": [
        "INSERT 0 248\r\n",
        "INSERT 0 1397\r\n",
        "INSERT 0 906\r\n",
        "INSERT 0 1434\r\n",
        "INSERT 0 100\r\n",
        "INSERT 0 1944\r\n",
        "INSERT 0 321\r\n",
        "INSERT 0 1654\r\n",
        "INSERT 0 2745\r\n",
        "INSERT 0 453\r\n",
        "INSERT 0 2\r\n",
        "INSERT 0 812\r\n"
       ]
      },
      {
       "output_type": "stream",
       "stream": "stdout",
       "text": [
        "INSERT 0 29\r\n",
        "INSERT 0 857\r\n",
        "INSERT 0 38\r\n",
        "INSERT 0 546\r\n",
        "INSERT 0 309\r\n",
        "INSERT 0 786\r\n",
        "INSERT 0 12833\r\n"
       ]
      },
      {
       "output_type": "stream",
       "stream": "stdout",
       "text": [
        "INSERT 0 2389\r\n",
        "INSERT 0 1563\r\n",
        "INSERT 0 2277\r\n",
        "INSERT 0 402\r\n",
        "INSERT 0 1044\r\n",
        "INSERT 0 589\r\n",
        "INSERT 0 984\r\n"
       ]
      },
      {
       "output_type": "stream",
       "stream": "stdout",
       "text": [
        "INSERT 0 8025\r\n",
        "INSERT 0 804\r\n",
        "INSERT 0 273\r\n",
        "INSERT 0 917\r\n",
        "INSERT 0 27\r\n",
        "INSERT 0 967\r\n",
        "INSERT 0 358\r\n",
        "INSERT 0 1081\r\n",
        "INSERT 0 6202\r\n",
        "INSERT 0 1631\r\n",
        "INSERT 0 1398\r\n",
        "INSERT 0 627\r\n",
        "INSERT 0 442\r\n"
       ]
      },
      {
       "output_type": "stream",
       "stream": "stdout",
       "text": [
        "INSERT 0 1193\r\n",
        "INSERT 0 45\r\n",
        "INSERT 0 840\r\n",
        "INSERT 0 2078\r\n",
        "INSERT 0 1335\r\n",
        "INSERT 0 979\r\n",
        "INSERT 0 827\r\n",
        "INSERT 0 70\r\n",
        "INSERT 0 1093\r\n",
        "INSERT 0 673\r\n",
        "INSERT 0 1653\r\n",
        "INSERT 0 758\r\n",
        "INSERT 0 1398\r\n",
        "INSERT 0 956\r\n",
        "INSERT 0 630\r\n"
       ]
      },
      {
       "output_type": "stream",
       "stream": "stdout",
       "text": [
        "INSERT 0 2899\r\n",
        "INSERT 0 1375\r\n",
        "INSERT 0 786\r\n",
        "INSERT 0 1116\r\n",
        "INSERT 0 508\r\n",
        "INSERT 0 1079\r\n",
        "INSERT 0 10\r\n",
        "INSERT 0 680\r\n",
        "INSERT 0 5357\r\n",
        "INSERT 0 1388\r\n",
        "INSERT 0 122\r\n",
        "INSERT 0 928\r\n"
       ]
      },
      {
       "output_type": "stream",
       "stream": "stdout",
       "text": [
        "INSERT 0 273\r\n",
        "INSERT 0 1381\r\n",
        "INSERT 0 549\r\n",
        "INSERT 0 1069\r\n",
        "INSERT 0 58\r\n",
        "INSERT 0 816\r\n",
        "INSERT 0 216\r\n",
        "INSERT 0 1280\r\n",
        "INSERT 0 93\r\n",
        "INSERT 0 1323\r\n",
        "INSERT 0 1407\r\n",
        "INSERT 0 1211\r\n",
        "INSERT 0 84\r\n",
        "INSERT 0 947\r\n"
       ]
      },
      {
       "output_type": "stream",
       "stream": "stdout",
       "text": [
        "INSERT 0 6512\r\n",
        "INSERT 0 2123\r\n",
        "INSERT 0 3877\r\n",
        "INSERT 0 622\r\n",
        "INSERT 0 12906\r\n"
       ]
      },
      {
       "output_type": "stream",
       "stream": "stdout",
       "text": [
        "INSERT 0 1634\r\n",
        "INSERT 0 1787\r\n",
        "INSERT 0 691\r\n",
        "INSERT 0 2744\r\n",
        "INSERT 0 1428\r\n",
        "INSERT 0 607\r\n",
        "INSERT 0 1169\r\n",
        "INSERT 0 130\r\n",
        "INSERT 0 1149\r\n",
        "INSERT 0 195\r\n",
        "INSERT 0 820\r\n",
        "INSERT 0 635\r\n",
        "INSERT 0 1103\r\n"
       ]
      },
      {
       "output_type": "stream",
       "stream": "stdout",
       "text": [
        "INSERT 0 1160\r\n",
        "INSERT 0 1275\r\n",
        "INSERT 0 58\r\n",
        "INSERT 0 886\r\n",
        "INSERT 0 2253\r\n",
        "INSERT 0 1785\r\n",
        "INSERT 0 1092\r\n",
        "INSERT 0 1685\r\n",
        "INSERT 0 514\r\n"
       ]
      },
      {
       "output_type": "stream",
       "stream": "stdout",
       "text": [
        "INSERT 0 1374\r\n",
        "INSERT 0 2428\r\n",
        "INSERT 0 1404\r\n",
        "INSERT 0 125\r\n",
        "INSERT 0 914\r\n",
        "INSERT 0 1944\r\n",
        "INSERT 0 2493\r\n",
        "INSERT 0 3\r\n",
        "INSERT 0 490\r\n",
        "INSERT 0 1237\r\n",
        "INSERT 0 1793\r\n"
       ]
      },
      {
       "output_type": "stream",
       "stream": "stdout",
       "text": [
        "INSERT 0 263\r\n",
        "INSERT 0 1938\r\n",
        "INSERT 0 371\r\n",
        "INSERT 0 2429\r\n",
        "INSERT 0 247\r\n",
        "INSERT 0 1284\r\n",
        "INSERT 0 1122\r\n",
        "INSERT 0 2045\r\n",
        "INSERT 0 689\r\n"
       ]
      },
      {
       "output_type": "stream",
       "stream": "stdout",
       "text": [
        "INSERT 0 1768\r\n",
        "INSERT 0 1222\r\n",
        "INSERT 0 2341\r\n",
        "INSERT 0 500\r\n",
        "INSERT 0 1437\r\n",
        "INSERT 0 54\r\n",
        "INSERT 0 1221\r\n",
        "INSERT 0 112\r\n",
        "INSERT 0 796\r\n",
        "INSERT 0 1561\r\n",
        "INSERT 0 1669\r\n"
       ]
      },
      {
       "output_type": "stream",
       "stream": "stdout",
       "text": [
        "INSERT 0 174\r\n",
        "INSERT 0 1311\r\n",
        "INSERT 0 472\r\n",
        "INSERT 0 1556\r\n",
        "INSERT 0 653\r\n",
        "INSERT 0 1416\r\n",
        "INSERT 0 1229\r\n",
        "INSERT 0 1855\r\n",
        "INSERT 0 379\r\n"
       ]
      },
      {
       "output_type": "stream",
       "stream": "stdout",
       "text": [
        "INSERT 0 1879\r\n",
        "INSERT 0 448\r\n",
        "INSERT 0 2133\r\n",
        "INSERT 0 478\r\n",
        "INSERT 0 1109\r\n",
        "INSERT 0 1107\r\n",
        "INSERT 0 1658\r\n"
       ]
      },
      {
       "output_type": "stream",
       "stream": "stdout",
       "text": [
        "INSERT 0 2619\r\n",
        "INSERT 0 2871\r\n",
        "INSERT 0 348\r\n",
        "INSERT 0 1880\r\n",
        "INSERT 0 366\r\n",
        "INSERT 0 1054\r\n",
        "INSERT 0 2941\r\n",
        "INSERT 0 1373\r\n"
       ]
      },
      {
       "output_type": "stream",
       "stream": "stdout",
       "text": [
        "INSERT 0 2202\r\n",
        "INSERT 0 2560\r\n",
        "INSERT 0 1033\r\n",
        "INSERT 0 2204\r\n",
        "INSERT 0 3818\r\n",
        "INSERT 0 1475\r\n",
        "INSERT 0 955\r\n"
       ]
      },
      {
       "output_type": "stream",
       "stream": "stdout",
       "text": [
        "INSERT 0 1701\r\n",
        "INSERT 0 601\r\n",
        "INSERT 0 1379\r\n",
        "INSERT 0 1817\r\n",
        "INSERT 0 1023\r\n",
        "INSERT 0 61\r\n",
        "INSERT 0 1353\r\n",
        "INSERT 0 34\r\n",
        "INSERT 0 1235\r\n",
        "INSERT 0 235\r\n",
        "INSERT 0 1622\r\n",
        "INSERT 0 297\r\n"
       ]
      },
      {
       "output_type": "stream",
       "stream": "stdout",
       "text": [
        "INSERT 0 1486\r\n",
        "INSERT 0 5324\r\n",
        "INSERT 0 3151\r\n",
        "INSERT 0 155\r\n",
        "INSERT 0 2553\r\n"
       ]
      },
      {
       "output_type": "stream",
       "stream": "stdout",
       "text": [
        "INSERT 0 1541\r\n",
        "INSERT 0 1229\r\n",
        "INSERT 0 741\r\n",
        "INSERT 0 946\r\n",
        "INSERT 0 2552\r\n",
        "INSERT 0 2181\r\n",
        "INSERT 0 1403\r\n",
        "INSERT 0 3102\r\n"
       ]
      },
      {
       "output_type": "stream",
       "stream": "stdout",
       "text": [
        "INSERT 0 7068\r\n",
        "INSERT 0 2630\r\n",
        "INSERT 0 3285\r\n",
        "INSERT 0 1833\r\n",
        "INSERT 0 688\r\n",
        "INSERT 0 2273\r\n",
        "INSERT 0 116\r\n"
       ]
      },
      {
       "output_type": "stream",
       "stream": "stdout",
       "text": [
        "INSERT 0 1830\r\n",
        "INSERT 0 53\r\n",
        "INSERT 0 1656\r\n",
        "INSERT 0 1067\r\n",
        "INSERT 0 2534\r\n"
       ]
      },
      {
       "output_type": "stream",
       "stream": "stdout",
       "text": [
        "INSERT 0 1122\r\n",
        "INSERT 0 1865\r\n",
        "INSERT 0 24\r\n",
        "INSERT 0 705\r\n",
        "INSERT 0 424\r\n",
        "INSERT 0 1722\r\n",
        "INSERT 0 132\r\n",
        "INSERT 0 1452\r\n"
       ]
      },
      {
       "output_type": "stream",
       "stream": "stdout",
       "text": [
        "INSERT 0 1748\r\n",
        "INSERT 0 2471\r\n",
        "INSERT 0 1034\r\n",
        "INSERT 0 1538\r\n",
        "INSERT 0 872\r\n",
        "INSERT 0 2459\r\n",
        "INSERT 0 523\r\n"
       ]
      },
      {
       "output_type": "stream",
       "stream": "stdout",
       "text": [
        "INSERT 0 2478\r\n",
        "INSERT 0 250\r\n",
        "INSERT 0 2044\r\n",
        "INSERT 0 311\r\n",
        "INSERT 0 1807\r\n",
        "INSERT 0 386\r\n",
        "INSERT 0 1987\r\n",
        "INSERT 0 143\r\n",
        "INSERT 0 1915\r\n",
        "INSERT 0 312\r\n",
        "INSERT 0 2293\r\n"
       ]
      },
      {
       "output_type": "stream",
       "stream": "stdout",
       "text": [
        "INSERT 0 220\r\n",
        "INSERT 0 895\r\n",
        "INSERT 0 1349\r\n",
        "INSERT 0 2067\r\n",
        "INSERT 0 239\r\n",
        "INSERT 0 1378\r\n",
        "INSERT 0 107\r\n",
        "INSERT 0 1233\r\n",
        "INSERT 0 267\r\n",
        "INSERT 0 1412\r\n",
        "INSERT 0 1996\r\n"
       ]
      },
      {
       "output_type": "stream",
       "stream": "stdout",
       "text": [
        "INSERT 0 2290\r\n",
        "INSERT 0 959\r\n",
        "INSERT 0 2640\r\n",
        "INSERT 0 1166\r\n",
        "INSERT 0 2232\r\n",
        "INSERT 0 937\r\n",
        "INSERT 0 1100\r\n",
        "INSERT 0 1233\r\n"
       ]
      },
      {
       "output_type": "stream",
       "stream": "stdout",
       "text": [
        "INSERT 0 2707\r\n",
        "INSERT 0 6211\r\n",
        "INSERT 0 2102\r\n",
        "INSERT 0 1856\r\n",
        "INSERT 0 2731\r\n",
        "INSERT 0 2166\r\n"
       ]
      },
      {
       "output_type": "stream",
       "stream": "stdout",
       "text": [
        "INSERT 0 2178\r\n",
        "INSERT 0 9069\r\n",
        "INSERT 0 1439\r\n",
        "INSERT 0 713\r\n",
        "INSERT 0 2179\r\n",
        "INSERT 0 529\r\n",
        "INSERT 0 2884\r\n",
        "INSERT 0 405\r\n"
       ]
      },
      {
       "output_type": "stream",
       "stream": "stdout",
       "text": [
        "INSERT 0 1702\r\n",
        "INSERT 0 4967\r\n",
        "INSERT 0 2618\r\n",
        "INSERT 0 670\r\n",
        "INSERT 0 1751\r\n",
        "INSERT 0 2039\r\n",
        "INSERT 0 3930\r\n"
       ]
      },
      {
       "output_type": "stream",
       "stream": "stdout",
       "text": [
        "INSERT 0 2245\r\n",
        "INSERT 0 2634\r\n",
        "INSERT 0 2009\r\n",
        "INSERT 0 2233\r\n",
        "INSERT 0 4275\r\n",
        "INSERT 0 2505\r\n"
       ]
      },
      {
       "output_type": "stream",
       "stream": "stdout",
       "text": [
        "INSERT 0 1423\r\n",
        "INSERT 0 3346\r\n"
       ]
      },
      {
       "output_type": "stream",
       "stream": "stdout",
       "text": [
        "INSERT 0 7890\r\n"
       ]
      },
      {
       "output_type": "stream",
       "stream": "stdout",
       "text": [
        "INSERT 0 1721\r\n",
        "INSERT 0 2446\r\n",
        "INSERT 0 2580\r\n",
        "INSERT 0 191\r\n",
        "INSERT 0 1473\r\n",
        "INSERT 0 437\r\n",
        "INSERT 0 1373\r\n",
        "INSERT 0 1644\r\n",
        "INSERT 0 1843\r\n",
        "INSERT 0 8\r\n"
       ]
      },
      {
       "output_type": "stream",
       "stream": "stdout",
       "text": [
        "INSERT 0 502\r\n",
        "INSERT 0 9\r\n",
        "INSERT 0 618\r\n",
        "INSERT 0 731\r\n",
        "INSERT 0 1317\r\n",
        "INSERT 0 456\r\n",
        "INSERT 0 1291\r\n",
        "INSERT 0 105\r\n",
        "INSERT 0 746\r\n",
        "INSERT 0 498\r\n",
        "INSERT 0 1641\r\n",
        "INSERT 0 299\r\n",
        "INSERT 0 1000\r\n",
        "INSERT 0 6017\r\n"
       ]
      },
      {
       "output_type": "stream",
       "stream": "stdout",
       "text": [
        "INSERT 0 2045\r\n",
        "INSERT 0 3031\r\n",
        "INSERT 0 1278\r\n",
        "INSERT 0 3339\r\n",
        "INSERT 0 1237\r\n",
        "INSERT 0 130\r\n",
        "INSERT 0 1325\r\n",
        "INSERT 0 142\r\n"
       ]
      },
      {
       "output_type": "stream",
       "stream": "stdout",
       "text": [
        "INSERT 0 1079\r\n",
        "INSERT 0 4762\r\n",
        "INSERT 0 1066\r\n",
        "INSERT 0 477\r\n",
        "INSERT 0 1088\r\n",
        "INSERT 0 326\r\n",
        "INSERT 0 1899\r\n",
        "INSERT 0 372\r\n",
        "INSERT 0 1787\r\n",
        "INSERT 0 2142\r\n"
       ]
      },
      {
       "output_type": "stream",
       "stream": "stdout",
       "text": [
        "INSERT 0 1983\r\n",
        "INSERT 0 443\r\n",
        "INSERT 0 2102\r\n",
        "INSERT 0 394\r\n",
        "INSERT 0 1752\r\n",
        "INSERT 0 2398\r\n",
        "INSERT 0 1226\r\n",
        "INSERT 0 784\r\n",
        "INSERT 0 1130\r\n",
        "INSERT 0 1606\r\n"
       ]
      },
      {
       "output_type": "stream",
       "stream": "stdout",
       "text": [
        "INSERT 0 1652\r\n",
        "INSERT 0 2547\r\n",
        "INSERT 0 1274\r\n",
        "INSERT 0 1777\r\n",
        "INSERT 0 1594\r\n",
        "INSERT 0 3084\r\n",
        "INSERT 0 2336\r\n",
        "INSERT 0 521\r\n",
        "INSERT 0 1373\r\n",
        "INSERT 0 309\r\n",
        "INSERT 0 778\r\n"
       ]
      },
      {
       "output_type": "stream",
       "stream": "stdout",
       "text": [
        "INSERT 0 50\r\n",
        "INSERT 0 613\r\n",
        "INSERT 0 250\r\n",
        "INSERT 0 1570\r\n",
        "INSERT 0 262\r\n",
        "INSERT 0 1565\r\n",
        "INSERT 0 235\r\n",
        "INSERT 0 1389\r\n",
        "INSERT 0 47\r\n",
        "INSERT 0 1251\r\n",
        "INSERT 0 20\r\n",
        "INSERT 0 1683\r\n",
        "INSERT 0 59\r\n",
        "INSERT 0 1287\r\n",
        "INSERT 0 43\r\n",
        "INSERT 0 875\r\n",
        "INSERT 0 1684\r\n"
       ]
      },
      {
       "output_type": "stream",
       "stream": "stdout",
       "text": [
        "INSERT 0 1375\r\n",
        "INSERT 0 813\r\n",
        "INSERT 0 1316\r\n",
        "INSERT 0 405\r\n",
        "INSERT 0 1239\r\n",
        "INSERT 0 989\r\n",
        "INSERT 0 945\r\n"
       ]
      },
      {
       "output_type": "stream",
       "stream": "stdout",
       "text": [
        "INSERT 0 17966\r\n",
        "INSERT 0 1804\r\n",
        "INSERT 0 850\r\n",
        "INSERT 0 1165\r\n",
        "INSERT 0 795\r\n",
        "INSERT 0 761\r\n",
        "INSERT 0 238\r\n",
        "INSERT 0 1258\r\n",
        "INSERT 0 405\r\n",
        "INSERT 0 893\r\n",
        "INSERT 0 67\r\n"
       ]
      },
      {
       "output_type": "stream",
       "stream": "stdout",
       "text": [
        "INSERT 0 1448\r\n",
        "INSERT 0 535\r\n",
        "INSERT 0 2026\r\n",
        "INSERT 0 220\r\n",
        "INSERT 0 2187\r\n",
        "INSERT 0 5273\r\n",
        "INSERT 0 2120\r\n"
       ]
      },
      {
       "output_type": "stream",
       "stream": "stdout",
       "text": [
        "INSERT 0 910\r\n",
        "INSERT 0 2371\r\n",
        "INSERT 0 2847\r\n",
        "INSERT 0 1236\r\n",
        "INSERT 0 823\r\n",
        "INSERT 0 1809\r\n",
        "INSERT 0 71\r\n",
        "INSERT 0 2080\r\n"
       ]
      },
      {
       "output_type": "stream",
       "stream": "stdout",
       "text": [
        "INSERT 0 3632\r\n",
        "INSERT 0 1825\r\n",
        "INSERT 0 819\r\n",
        "INSERT 0 1969\r\n",
        "INSERT 0 1131\r\n",
        "INSERT 0 4119\r\n",
        "INSERT 0 23\r\n",
        "INSERT 0 1705\r\n",
        "INSERT 0 417\r\n"
       ]
      },
      {
       "output_type": "stream",
       "stream": "stdout",
       "text": [
        "INSERT 0 1092\r\n",
        "INSERT 0 598\r\n",
        "INSERT 0 1959\r\n",
        "INSERT 0 1468\r\n",
        "INSERT 0 1952\r\n",
        "INSERT 0 225\r\n",
        "INSERT 0 1028\r\n",
        "INSERT 0 3469\r\n",
        "INSERT 0 1682\r\n"
       ]
      },
      {
       "output_type": "stream",
       "stream": "stdout",
       "text": [
        "INSERT 0 235\r\n",
        "INSERT 0 2489\r\n",
        "INSERT 0 1787\r\n",
        "INSERT 0 1932\r\n",
        "INSERT 0 154\r\n",
        "INSERT 0 1046\r\n",
        "INSERT 0 310\r\n",
        "INSERT 0 1702\r\n",
        "INSERT 0 86\r\n",
        "INSERT 0 1326\r\n"
       ]
      },
      {
       "output_type": "stream",
       "stream": "stdout",
       "text": [
        "INSERT 0 1053\r\n",
        "INSERT 0 1620\r\n",
        "INSERT 0 8885\r\n",
        "INSERT 0 730\r\n",
        "INSERT 0 711\r\n",
        "INSERT 0 2176\r\n",
        "INSERT 0 85\r\n"
       ]
      },
      {
       "output_type": "stream",
       "stream": "stdout",
       "text": [
        "INSERT 0 1676\r\n",
        "INSERT 0 384\r\n",
        "INSERT 0 2415\r\n",
        "INSERT 0 448\r\n",
        "INSERT 0 2038\r\n",
        "INSERT 0 1382\r\n",
        "INSERT 0 1248\r\n",
        "INSERT 0 306\r\n",
        "INSERT 0 1368\r\n",
        "INSERT 0 1858\r\n"
       ]
      },
      {
       "output_type": "stream",
       "stream": "stdout",
       "text": [
        "INSERT 0 1272\r\n",
        "INSERT 0 756\r\n",
        "INSERT 0 2765\r\n",
        "INSERT 0 973\r\n",
        "INSERT 0 1145\r\n",
        "INSERT 0 118\r\n",
        "INSERT 0 1536\r\n",
        "INSERT 0 3208\r\n",
        "INSERT 0 1903\r\n",
        "INSERT 0 1616\r\n"
       ]
      },
      {
       "output_type": "stream",
       "stream": "stdout",
       "text": [
        "INSERT 0 2025\r\n",
        "INSERT 0 55\r\n",
        "INSERT 0 536\r\n",
        "INSERT 0 313\r\n",
        "INSERT 0 1725\r\n",
        "INSERT 0 135\r\n",
        "INSERT 0 1310\r\n",
        "INSERT 0 883\r\n",
        "INSERT 0 1349\r\n",
        "INSERT 0 3560\r\n",
        "INSERT 0 1714\r\n",
        "INSERT 0 2424\r\n"
       ]
      },
      {
       "output_type": "stream",
       "stream": "stdout",
       "text": [
        "INSERT 0 1003\r\n",
        "INSERT 0 786\r\n",
        "INSERT 0 2133\r\n",
        "INSERT 0 730\r\n",
        "INSERT 0 1370\r\n",
        "INSERT 0 1677\r\n",
        "INSERT 0 2453\r\n",
        "INSERT 0 421\r\n",
        "INSERT 0 1592\r\n",
        "INSERT 0 1407\r\n"
       ]
      },
      {
       "output_type": "stream",
       "stream": "stdout",
       "text": [
        "INSERT 0 1235\r\n",
        "INSERT 0 1031\r\n",
        "INSERT 0 2499\r\n",
        "INSERT 0 745\r\n",
        "INSERT 0 724\r\n",
        "INSERT 0 352\r\n",
        "INSERT 0 1404\r\n",
        "INSERT 0 384\r\n",
        "INSERT 0 1823\r\n",
        "INSERT 0 3568\r\n"
       ]
      },
      {
       "output_type": "stream",
       "stream": "stdout",
       "text": [
        "INSERT 0 2307\r\n",
        "INSERT 0 289\r\n",
        "INSERT 0 1385\r\n",
        "INSERT 0 2506\r\n",
        "INSERT 0 2340\r\n",
        "INSERT 0 1174\r\n"
       ]
      },
      {
       "output_type": "stream",
       "stream": "stdout",
       "text": [
        "INSERT 0 1885\r\n"
       ]
      },
      {
       "output_type": "stream",
       "stream": "stdout",
       "text": [
        "INSERT 0 299\r\n",
        "INSERT 0 1074\r\n",
        "INSERT 0 839\r\n",
        "INSERT 0 1913\r\n",
        "INSERT 0 248\r\n",
        "INSERT 0 2211\r\n",
        "INSERT 0 616\r\n",
        "INSERT 0 1518\r\n",
        "INSERT 0 266\r\n",
        "INSERT 0 1932\r\n",
        "INSERT 0 286\r\n",
        "INSERT 0 1591\r\n"
       ]
      },
      {
       "output_type": "stream",
       "stream": "stdout",
       "text": [
        "INSERT 0 664\r\n",
        "INSERT 0 2780\r\n",
        "INSERT 0 441\r\n",
        "INSERT 0 1268\r\n",
        "INSERT 0 437\r\n",
        "INSERT 0 1429\r\n",
        "INSERT 0 10828\r\n"
       ]
      },
      {
       "output_type": "stream",
       "stream": "stdout",
       "text": [
        "INSERT 0 1671\r\n",
        "INSERT 0 1361\r\n",
        "INSERT 0 2180\r\n",
        "INSERT 0 1131\r\n",
        "INSERT 0 2660\r\n",
        "INSERT 0 9191\r\n"
       ]
      },
      {
       "output_type": "stream",
       "stream": "stdout",
       "text": [
        "INSERT 0 1180\r\n",
        "INSERT 0 1176\r\n",
        "INSERT 0 1683\r\n",
        "INSERT 0 549\r\n",
        "INSERT 0 1284\r\n",
        "INSERT 0 1037\r\n",
        "INSERT 0 2683\r\n",
        "INSERT 0 899\r\n",
        "INSERT 0 1451\r\n",
        "INSERT 0 469\r\n",
        "INSERT 0 1571\r\n"
       ]
      },
      {
       "output_type": "stream",
       "stream": "stdout",
       "text": [
        "INSERT 0 439\r\n",
        "INSERT 0 1471\r\n",
        "INSERT 0 269\r\n",
        "INSERT 0 1291\r\n",
        "INSERT 0 1363\r\n",
        "INSERT 0 3274\r\n",
        "INSERT 0 1870\r\n",
        "INSERT 0 1446\r\n",
        "INSERT 0 289\r\n"
       ]
      },
      {
       "output_type": "stream",
       "stream": "stdout",
       "text": [
        "INSERT 0 1107\r\n",
        "INSERT 0 1233\r\n",
        "INSERT 0 1792\r\n",
        "INSERT 0 2223\r\n",
        "INSERT 0 2943\r\n",
        "INSERT 0 388\r\n",
        "INSERT 0 647\r\n",
        "INSERT 0 183\r\n"
       ]
      },
      {
       "output_type": "stream",
       "stream": "stdout",
       "text": [
        "INSERT 0 2392\r\n",
        "INSERT 0 92\r\n",
        "INSERT 0 1629\r\n",
        "INSERT 0 837\r\n",
        "INSERT 0 1717\r\n",
        "INSERT 0 99\r\n",
        "INSERT 0 2005\r\n",
        "INSERT 0 588\r\n",
        "INSERT 0 2922\r\n"
       ]
      },
      {
       "output_type": "stream",
       "stream": "stdout",
       "text": [
        "INSERT 0 6919\r\n",
        "INSERT 0 2587\r\n",
        "INSERT 0 13\r\n",
        "INSERT 0 1036\r\n",
        "INSERT 0 850\r\n",
        "INSERT 0 2354\r\n"
       ]
      },
      {
       "output_type": "stream",
       "stream": "stdout",
       "text": [
        "INSERT 0 8029\r\n",
        "INSERT 0 2136\r\n",
        "INSERT 0 9507\r\n"
       ]
      },
      {
       "output_type": "stream",
       "stream": "stdout",
       "text": [
        "INSERT 0 1017\r\n",
        "INSERT 0 4267\r\n",
        "INSERT 0 1710\r\n",
        "INSERT 0 1717\r\n",
        "INSERT 0 1178\r\n",
        "INSERT 0 292\r\n",
        "INSERT 0 1129\r\n",
        "INSERT 0 152\r\n",
        "INSERT 0 1373\r\n",
        "INSERT 0 662\r\n"
       ]
      },
      {
       "output_type": "stream",
       "stream": "stdout",
       "text": [
        "INSERT 0 1719\r\n",
        "INSERT 0 3330\r\n",
        "INSERT 0 2337\r\n",
        "INSERT 0 387\r\n",
        "INSERT 0 2050\r\n",
        "INSERT 0 91\r\n",
        "INSERT 0 1098\r\n",
        "INSERT 0 254\r\n",
        "INSERT 0 951\r\n",
        "INSERT 0 376\r\n",
        "INSERT 0 1157\r\n",
        "INSERT 0 1361\r\n"
       ]
      },
      {
       "output_type": "stream",
       "stream": "stdout",
       "text": [
        "INSERT 0 1622\r\n",
        "INSERT 0 4359\r\n",
        "INSERT 0 1785\r\n",
        "INSERT 0 1375\r\n",
        "INSERT 0 1187\r\n",
        "INSERT 0 1960\r\n",
        "INSERT 0 2346\r\n"
       ]
      },
      {
       "output_type": "stream",
       "stream": "stdout",
       "text": [
        "INSERT 0 2822\r\n",
        "INSERT 0 2551\r\n",
        "INSERT 0 215\r\n",
        "INSERT 0 1396\r\n",
        "INSERT 0 605\r\n",
        "INSERT 0 3045\r\n",
        "INSERT 0 262\r\n",
        "INSERT 0 1542\r\n",
        "INSERT 0 1808\r\n",
        "INSERT 0 1008\r\n"
       ]
      },
      {
       "output_type": "stream",
       "stream": "stdout",
       "text": [
        "INSERT 0 1523\r\n",
        "INSERT 0 1097\r\n",
        "INSERT 0 163\r\n",
        "INSERT 0 1477\r\n",
        "INSERT 0 468\r\n",
        "INSERT 0 1423\r\n",
        "INSERT 0 991\r\n",
        "INSERT 0 1000\r\n",
        "INSERT 0 4231\r\n",
        "INSERT 0 2519\r\n",
        "INSERT 0 1146\r\n"
       ]
      },
      {
       "output_type": "stream",
       "stream": "stdout",
       "text": [
        "INSERT 0 752\r\n",
        "INSERT 0 6930\r\n",
        "INSERT 0 1922\r\n",
        "INSERT 0 4185\r\n",
        "INSERT 0 1570\r\n",
        "INSERT 0 2771\r\n"
       ]
      },
      {
       "output_type": "stream",
       "stream": "stdout",
       "text": [
        "INSERT 0 1383\r\n",
        "INSERT 0 3736\r\n",
        "INSERT 0 2148\r\n",
        "INSERT 0 4352\r\n",
        "INSERT 0 1982\r\n",
        "INSERT 0 255\r\n"
       ]
      },
      {
       "output_type": "stream",
       "stream": "stdout",
       "text": [
        "INSERT 0 2666\r\n",
        "INSERT 0 1904\r\n",
        "INSERT 0 2340\r\n",
        "INSERT 0 1753\r\n",
        "INSERT 0 3052\r\n",
        "INSERT 0 6509\r\n"
       ]
      },
      {
       "output_type": "stream",
       "stream": "stdout",
       "text": [
        "INSERT 0 3141\r\n",
        "INSERT 0 1241\r\n",
        "INSERT 0 2108\r\n",
        "INSERT 0 220\r\n",
        "INSERT 0 1643\r\n",
        "INSERT 0 224\r\n",
        "INSERT 0 1399\r\n",
        "INSERT 0 239\r\n",
        "INSERT 0 1146\r\n",
        "INSERT 0 699\r\n"
       ]
      },
      {
       "output_type": "stream",
       "stream": "stdout",
       "text": [
        "INSERT 0 956\r\n",
        "INSERT 0 448\r\n",
        "INSERT 0 1196\r\n",
        "INSERT 0 657\r\n",
        "INSERT 0 2994\r\n",
        "INSERT 0 100\r\n",
        "INSERT 0 1254\r\n",
        "INSERT 0 804\r\n",
        "INSERT 0 1787\r\n",
        "INSERT 0 493\r\n",
        "INSERT 0 1989\r\n",
        "INSERT 0 99\r\n"
       ]
      },
      {
       "output_type": "stream",
       "stream": "stdout",
       "text": [
        "INSERT 0 1391\r\n",
        "INSERT 0 244\r\n",
        "INSERT 0 907\r\n",
        "INSERT 0 1557\r\n",
        "INSERT 0 3039\r\n",
        "INSERT 0 1251\r\n",
        "INSERT 0 1101\r\n",
        "INSERT 0 1732\r\n"
       ]
      },
      {
       "output_type": "stream",
       "stream": "stdout",
       "text": [
        "INSERT 0 3467\r\n",
        "INSERT 0 186\r\n",
        "INSERT 0 2682\r\n",
        "INSERT 0 80\r\n",
        "INSERT 0 2404\r\n",
        "INSERT 0 289\r\n",
        "INSERT 0 2449\r\n",
        "INSERT 0 1519\r\n"
       ]
      },
      {
       "output_type": "stream",
       "stream": "stdout",
       "text": [
        "INSERT 0 3495\r\n",
        "INSERT 0 551\r\n",
        "INSERT 0 1192\r\n",
        "INSERT 0 5171\r\n",
        "INSERT 0 2908\r\n",
        "INSERT 0 4555\r\n",
        "INSERT 0 2038\r\n"
       ]
      },
      {
       "output_type": "stream",
       "stream": "stdout",
       "text": [
        "INSERT 0 1862\r\n",
        "INSERT 0 2676\r\n",
        "INSERT 0 453\r\n",
        "INSERT 0 2044\r\n",
        "INSERT 0 435\r\n",
        "INSERT 0 1270\r\n",
        "INSERT 0 298\r\n",
        "INSERT 0 1151\r\n",
        "INSERT 0 1891\r\n",
        "INSERT 0 1250\r\n"
       ]
      },
      {
       "output_type": "stream",
       "stream": "stdout",
       "text": [
        "INSERT 0 740\r\n",
        "INSERT 0 964\r\n",
        "INSERT 0 2269\r\n",
        "INSERT 0 1325\r\n"
       ]
      },
      {
       "output_type": "stream",
       "stream": "stdout",
       "text": [
        "INSERT 0 37819\r\n",
        "INSERT 0 1348\r\n",
        "INSERT 0 4589\r\n"
       ]
      },
      {
       "output_type": "stream",
       "stream": "stdout",
       "text": [
        "INSERT 0 2007\r\n"
       ]
      },
      {
       "output_type": "stream",
       "stream": "stdout",
       "text": [
        "INSERT 0 83170\r\n"
       ]
      },
      {
       "output_type": "stream",
       "stream": "stdout",
       "text": [
        "INSERT 0 936\r\n",
        "INSERT 0 3897\r\n",
        "INSERT 0 1607\r\n"
       ]
      },
      {
       "output_type": "stream",
       "stream": "stdout",
       "text": [
        "INSERT 0 17656\r\n",
        "INSERT 0 1113\r\n"
       ]
      },
      {
       "output_type": "stream",
       "stream": "stdout",
       "text": [
        "INSERT 0 68538\r\n",
        "INSERT 0 1377\r\n",
        "INSERT 0 14031\r\n",
        "INSERT 0 1171\r\n",
        "INSERT 0 494\r\n"
       ]
      },
      {
       "output_type": "stream",
       "stream": "stdout",
       "text": [
        "INSERT 0 777\r\n"
       ]
      },
      {
       "output_type": "stream",
       "stream": "stdout",
       "text": [
        "INSERT 0 29209\r\n",
        "INSERT 0 1330\r\n",
        "INSERT 0 2005\r\n",
        "INSERT 0 2808\r\n",
        "INSERT 0 3793\r\n"
       ]
      },
      {
       "output_type": "stream",
       "stream": "stdout",
       "text": [
        "INSERT 0 1459\r\n",
        "INSERT 0 2775\r\n",
        "INSERT 0 1162\r\n",
        "INSERT 0 1002\r\n",
        "INSERT 0 1873\r\n",
        "INSERT 0 613\r\n",
        "INSERT 0 924\r\n",
        "INSERT 0 52\r\n",
        "INSERT 0 1138\r\n",
        "INSERT 0 1010\r\n",
        "INSERT 0 1616\r\n",
        "INSERT 0 797\r\n"
       ]
      },
      {
       "output_type": "stream",
       "stream": "stdout",
       "text": [
        "INSERT 0 2196\r\n",
        "INSERT 0 1019\r\n",
        "INSERT 0 1983\r\n",
        "INSERT 0 146\r\n",
        "INSERT 0 833\r\n",
        "INSERT 0 517\r\n",
        "INSERT 0 1168\r\n",
        "INSERT 0 1594\r\n",
        "INSERT 0 784\r\n",
        "INSERT 0 3846\r\n",
        "INSERT 0 1164\r\n",
        "INSERT 0 96\r\n"
       ]
      },
      {
       "output_type": "stream",
       "stream": "stdout",
       "text": [
        "INSERT 0 993\r\n",
        "INSERT 0 205\r\n",
        "INSERT 0 1048\r\n",
        "INSERT 0 13\r\n",
        "INSERT 0 742\r\n",
        "INSERT 0 177\r\n",
        "INSERT 0 1263\r\n",
        "INSERT 0 644\r\n",
        "INSERT 0 1953\r\n",
        "INSERT 0 5177\r\n"
       ]
      },
      {
       "output_type": "stream",
       "stream": "stdout",
       "text": [
        "INSERT 0 3806\r\n",
        "INSERT 0 3781\r\n",
        "INSERT 0 1720\r\n",
        "INSERT 0 1232\r\n",
        "INSERT 0 1622\r\n",
        "INSERT 0 266\r\n",
        "INSERT 0 1605\r\n"
       ]
      },
      {
       "output_type": "stream",
       "stream": "stdout",
       "text": [
        "INSERT 0 301\r\n",
        "INSERT 0 1562\r\n",
        "INSERT 0 4274\r\n",
        "INSERT 0 2953\r\n",
        "INSERT 0 713\r\n",
        "INSERT 0 1813\r\n"
       ]
      },
      {
       "output_type": "stream",
       "stream": "stdout",
       "text": [
        "INSERT 0 1561\r\n",
        "INSERT 0 2554\r\n",
        "INSERT 0 888\r\n",
        "INSERT 0 2646\r\n",
        "INSERT 0 674\r\n",
        "INSERT 0 1190\r\n",
        "INSERT 0 1059\r\n",
        "INSERT 0 1990\r\n",
        "INSERT 0 251\r\n"
       ]
      },
      {
       "output_type": "stream",
       "stream": "stdout",
       "text": [
        "INSERT 0 2402\r\n",
        "INSERT 0 509\r\n",
        "INSERT 0 2637\r\n",
        "INSERT 0 759\r\n",
        "INSERT 0 2368\r\n",
        "INSERT 0 769\r\n"
       ]
      },
      {
       "output_type": "stream",
       "stream": "stdout",
       "text": [
        "INSERT 0 1937\r\n",
        "INSERT 0 1004\r\n",
        "INSERT 0 2658\r\n"
       ]
      },
      {
       "output_type": "stream",
       "stream": "stdout",
       "text": [
        "INSERT 0 12799\r\n",
        "INSERT 0 2310\r\n",
        "INSERT 0 1015\r\n",
        "INSERT 0 2511\r\n",
        "INSERT 0 207\r\n",
        "INSERT 0 895\r\n"
       ]
      },
      {
       "output_type": "stream",
       "stream": "stdout",
       "text": [
        "INSERT 0 9470\r\n",
        "INSERT 0 1684\r\n",
        "INSERT 0 75\r\n",
        "INSERT 0 1067\r\n",
        "INSERT 0 737\r\n",
        "INSERT 0 2240\r\n",
        "INSERT 0 444\r\n",
        "INSERT 0 2411\r\n",
        "INSERT 0 619\r\n"
       ]
      },
      {
       "output_type": "stream",
       "stream": "stdout",
       "text": [
        "INSERT 0 1813\r\n",
        "INSERT 0 611\r\n",
        "INSERT 0 2743\r\n",
        "INSERT 0 957\r\n",
        "INSERT 0 441\r\n",
        "INSERT 0 1875\r\n",
        "INSERT 0 2558\r\n",
        "INSERT 0 1299\r\n",
        "INSERT 0 1680\r\n"
       ]
      },
      {
       "output_type": "stream",
       "stream": "stdout",
       "text": [
        "INSERT 0 1049\r\n",
        "INSERT 0 944\r\n",
        "INSERT 0 575\r\n",
        "INSERT 0 1294\r\n",
        "INSERT 0 2223\r\n",
        "INSERT 0 937\r\n",
        "INSERT 0 483\r\n",
        "INSERT 0 1865\r\n",
        "INSERT 0 21\r\n",
        "INSERT 0 989\r\n",
        "INSERT 0 1394\r\n"
       ]
      },
      {
       "output_type": "stream",
       "stream": "stdout",
       "text": [
        "INSERT 0 2553\r\n",
        "INSERT 0 524\r\n",
        "INSERT 0 1092\r\n",
        "INSERT 0 1137\r\n",
        "INSERT 0 1204\r\n",
        "INSERT 0 68\r\n",
        "INSERT 0 1327\r\n",
        "INSERT 0 1925\r\n",
        "INSERT 0 2547\r\n"
       ]
      },
      {
       "output_type": "stream",
       "stream": "stdout",
       "text": [
        "INSERT 0 11047\r\n",
        "INSERT 0 1813\r\n",
        "INSERT 0 814\r\n",
        "INSERT 0 2406\r\n",
        "INSERT 0 587\r\n"
       ]
      },
      {
       "output_type": "stream",
       "stream": "stdout",
       "text": [
        "INSERT 0 2377\r\n",
        "INSERT 0 987\r\n",
        "INSERT 0 2740\r\n",
        "INSERT 0 3398\r\n",
        "INSERT 0 2770\r\n",
        "INSERT 0 280\r\n",
        "INSERT 0 1401\r\n",
        "INSERT 0 3442\r\n"
       ]
      },
      {
       "output_type": "stream",
       "stream": "stdout",
       "text": [
        "INSERT 0 3143\r\n",
        "INSERT 0 1045\r\n",
        "INSERT 0 2566\r\n",
        "INSERT 0 130\r\n",
        "INSERT 0 2074\r\n",
        "INSERT 0 515\r\n",
        "INSERT 0 1281\r\n",
        "INSERT 0 251\r\n"
       ]
      },
      {
       "output_type": "stream",
       "stream": "stdout",
       "text": [
        "INSERT 0 1267\r\n",
        "INSERT 0 584\r\n",
        "INSERT 0 1790\r\n",
        "INSERT 0 505\r\n",
        "INSERT 0 2831\r\n",
        "INSERT 0 582\r\n",
        "INSERT 0 2384\r\n",
        "INSERT 0 151\r\n",
        "INSERT 0 1638\r\n",
        "INSERT 0 99\r\n"
       ]
      },
      {
       "output_type": "stream",
       "stream": "stdout",
       "text": [
        "INSERT 0 2852\r\n",
        "INSERT 0 231\r\n",
        "INSERT 0 2199\r\n",
        "INSERT 0 501\r\n",
        "INSERT 0 1781\r\n",
        "INSERT 0 506\r\n",
        "INSERT 0 1863\r\n",
        "INSERT 0 3722\r\n",
        "INSERT 0 1495\r\n",
        "INSERT 0 1205\r\n"
       ]
      },
      {
       "output_type": "stream",
       "stream": "stdout",
       "text": [
        "INSERT 0 1617\r\n",
        "INSERT 0 60\r\n",
        "INSERT 0 1796\r\n",
        "INSERT 0 82\r\n",
        "INSERT 0 1491\r\n",
        "INSERT 0 434\r\n",
        "INSERT 0 1229\r\n",
        "INSERT 0 141\r\n",
        "INSERT 0 2166\r\n",
        "INSERT 0 179\r\n",
        "INSERT 0 1074\r\n",
        "INSERT 0 1670\r\n"
       ]
      },
      {
       "output_type": "stream",
       "stream": "stdout",
       "text": [
        "INSERT 0 1364\r\n",
        "INSERT 0 107\r\n",
        "INSERT 0 2583\r\n",
        "INSERT 0 75\r\n",
        "INSERT 0 1228\r\n",
        "INSERT 0 132\r\n",
        "INSERT 0 1430\r\n",
        "INSERT 0 63\r\n",
        "INSERT 0 914\r\n",
        "INSERT 0 95\r\n",
        "INSERT 0 530\r\n",
        "INSERT 0 1694\r\n"
       ]
      },
      {
       "output_type": "stream",
       "stream": "stdout",
       "text": [
        "INSERT 0 2100\r\n",
        "INSERT 0 434\r\n",
        "INSERT 0 758\r\n",
        "INSERT 0 213\r\n",
        "INSERT 0 1002\r\n",
        "INSERT 0 612\r\n",
        "INSERT 0 1373\r\n",
        "INSERT 0 6801\r\n",
        "INSERT 0 1907\r\n"
       ]
      },
      {
       "output_type": "stream",
       "stream": "stdout",
       "text": [
        "INSERT 0 7987\r\n",
        "INSERT 0 3495\r\n",
        "INSERT 0 9071\r\n"
       ]
      },
      {
       "output_type": "stream",
       "stream": "stdout",
       "text": [
        "INSERT 0 2323\r\n",
        "INSERT 0 1219\r\n",
        "INSERT 0 1653\r\n",
        "INSERT 0 923\r\n",
        "INSERT 0 1913\r\n",
        "INSERT 0 270\r\n",
        "INSERT 0 1184\r\n",
        "INSERT 0 231\r\n",
        "INSERT 0 1099\r\n"
       ]
      },
      {
       "output_type": "stream",
       "stream": "stdout",
       "text": [
        "INSERT 0 16876\r\n",
        "INSERT 0 3541\r\n",
        "INSERT 0 304\r\n",
        "INSERT 0 2324\r\n",
        "INSERT 0 630\r\n"
       ]
      },
      {
       "output_type": "stream",
       "stream": "stdout",
       "text": [
        "INSERT 0 1914\r\n",
        "INSERT 0 607\r\n",
        "INSERT 0 1637\r\n",
        "INSERT 0 4447\r\n",
        "INSERT 0 2045\r\n",
        "INSERT 0 6019\r\n",
        "INSERT 0 949\r\n"
       ]
      },
      {
       "output_type": "stream",
       "stream": "stdout",
       "text": [
        "INSERT 0 3602\r\n",
        "INSERT 0 1981\r\n",
        "INSERT 0 170\r\n",
        "INSERT 0 1129\r\n",
        "INSERT 0 39\r\n",
        "INSERT 0 998\r\n",
        "INSERT 0 201\r\n",
        "INSERT 0 905\r\n",
        "INSERT 0 138\r\n",
        "INSERT 0 1710\r\n",
        "INSERT 0 768\r\n",
        "INSERT 0 1585\r\n"
       ]
      },
      {
       "output_type": "stream",
       "stream": "stdout",
       "text": [
        "INSERT 0 3872\r\n",
        "INSERT 0 1977\r\n",
        "INSERT 0 2522\r\n",
        "INSERT 0 2671\r\n",
        "INSERT 0 10647\r\n"
       ]
      },
      {
       "output_type": "stream",
       "stream": "stdout",
       "text": [
        "INSERT 0 1004\r\n"
       ]
      },
      {
       "output_type": "stream",
       "stream": "stdout",
       "text": [
        "INSERT 0 44720\r\n",
        "INSERT 0 1060\r\n",
        "INSERT 0 277\r\n",
        "INSERT 0 1135\r\n",
        "INSERT 0 2268\r\n"
       ]
      },
      {
       "output_type": "stream",
       "stream": "stdout",
       "text": [
        "INSERT 0 1899\r\n",
        "INSERT 0 1216\r\n",
        "INSERT 0 1235\r\n",
        "INSERT 0 3431\r\n",
        "INSERT 0 2226\r\n",
        "INSERT 0 3940\r\n",
        "INSERT 0 1989\r\n",
        "INSERT 0 187\r\n"
       ]
      },
      {
       "output_type": "stream",
       "stream": "stdout",
       "text": [
        "INSERT 0 1729\r\n",
        "INSERT 0 1015\r\n",
        "INSERT 0 909\r\n",
        "INSERT 0 2935\r\n",
        "INSERT 0 1096\r\n",
        "INSERT 0 52\r\n",
        "INSERT 0 977\r\n",
        "INSERT 0 107\r\n",
        "INSERT 0 1173\r\n",
        "INSERT 0 1873\r\n",
        "INSERT 0 1108\r\n",
        "INSERT 0 155\r\n",
        "INSERT 0 879\r\n",
        "INSERT 0 1129\r\n"
       ]
      },
      {
       "output_type": "stream",
       "stream": "stdout",
       "text": [
        "INSERT 0 1150\r\n",
        "INSERT 0 6175\r\n",
        "INSERT 0 1162\r\n",
        "INSERT 0 1059\r\n",
        "INSERT 0 1002\r\n",
        "INSERT 0 66\r\n",
        "INSERT 0 1040\r\n",
        "INSERT 0 13\r\n",
        "INSERT 0 710\r\n",
        "INSERT 0 17\r\n",
        "INSERT 0 976\r\n",
        "INSERT 0 160\r\n",
        "INSERT 0 710\r\n",
        "INSERT 0 28\r\n"
       ]
      },
      {
       "output_type": "stream",
       "stream": "stdout",
       "text": [
        "INSERT 0 1030\r\n",
        "INSERT 0 863\r\n",
        "INSERT 0 1129\r\n",
        "INSERT 0 63\r\n",
        "INSERT 0 1084\r\n",
        "INSERT 0 274\r\n",
        "INSERT 0 997\r\n",
        "INSERT 0 551\r\n",
        "INSERT 0 1467\r\n",
        "INSERT 0 1872\r\n",
        "INSERT 0 2077\r\n",
        "INSERT 0 393\r\n",
        "INSERT 0 1803\r\n"
       ]
      },
      {
       "output_type": "stream",
       "stream": "stdout",
       "text": [
        "INSERT 0 3500\r\n",
        "INSERT 0 2478\r\n",
        "INSERT 0 1658\r\n",
        "INSERT 0 1599\r\n",
        "INSERT 0 1169\r\n",
        "INSERT 0 1053\r\n",
        "INSERT 0 4529\r\n",
        "INSERT 0 1076\r\n",
        "INSERT 0 868\r\n"
       ]
      },
      {
       "output_type": "stream",
       "stream": "stdout",
       "text": [
        "INSERT 0 781\r\n",
        "INSERT 0 3307\r\n",
        "INSERT 0 2454\r\n",
        "INSERT 0 3158\r\n",
        "INSERT 0 1116\r\n",
        "INSERT 0 4537\r\n",
        "INSERT 0 1786\r\n",
        "INSERT 0 2061\r\n"
       ]
      },
      {
       "output_type": "stream",
       "stream": "stdout",
       "text": [
        "INSERT 0 2069\r\n",
        "INSERT 0 359\r\n",
        "INSERT 0 1414\r\n",
        "INSERT 0 2501\r\n",
        "INSERT 0 1988\r\n",
        "INSERT 0 984\r\n",
        "INSERT 0 951\r\n",
        "INSERT 0 378\r\n",
        "INSERT 0 1250\r\n",
        "INSERT 0 2139\r\n"
       ]
      },
      {
       "output_type": "stream",
       "stream": "stdout",
       "text": [
        "INSERT 0 1239\r\n",
        "INSERT 0 144\r\n",
        "INSERT 0 1100\r\n",
        "INSERT 0 137\r\n",
        "INSERT 0 1191\r\n",
        "INSERT 0 92\r\n",
        "INSERT 0 1513\r\n",
        "INSERT 0 339\r\n",
        "INSERT 0 1894\r\n",
        "INSERT 0 2433\r\n",
        "INSERT 0 1480\r\n"
       ]
      },
      {
       "output_type": "stream",
       "stream": "stdout",
       "text": [
        "INSERT 0 173\r\n",
        "INSERT 0 1550\r\n",
        "INSERT 0 729\r\n",
        "INSERT 0 2396\r\n",
        "INSERT 0 3088\r\n",
        "INSERT 0 1576\r\n",
        "INSERT 0 4134\r\n",
        "INSERT 0 1433\r\n"
       ]
      },
      {
       "output_type": "stream",
       "stream": "stdout",
       "text": [
        "INSERT 0 809\r\n",
        "INSERT 0 1192\r\n",
        "INSERT 0 586\r\n",
        "INSERT 0 1268\r\n",
        "INSERT 0 937\r\n",
        "INSERT 0 2881\r\n",
        "INSERT 0 2034\r\n",
        "INSERT 0 1939\r\n",
        "INSERT 0 149\r\n"
       ]
      },
      {
       "output_type": "stream",
       "stream": "stdout",
       "text": [
        "INSERT 0 1078\r\n",
        "INSERT 0 1184\r\n",
        "INSERT 0 1509\r\n",
        "INSERT 0 550\r\n",
        "INSERT 0 1576\r\n",
        "INSERT 0 2134\r\n",
        "INSERT 0 1772\r\n",
        "INSERT 0 168\r\n",
        "INSERT 0 1303\r\n",
        "INSERT 0 1152\r\n"
       ]
      },
      {
       "output_type": "stream",
       "stream": "stdout",
       "text": [
        "INSERT 0 2605\r\n",
        "INSERT 0 313\r\n",
        "INSERT 0 2702\r\n",
        "INSERT 0 238\r\n",
        "INSERT 0 2198\r\n",
        "INSERT 0 60\r\n",
        "INSERT 0 1647\r\n",
        "INSERT 0 1992\r\n"
       ]
      },
      {
       "output_type": "stream",
       "stream": "stdout",
       "text": [
        "INSERT 0 1043\r\n",
        "INSERT 0 725\r\n",
        "INSERT 0 1497\r\n",
        "INSERT 0 383\r\n",
        "INSERT 0 2421\r\n",
        "INSERT 0 799\r\n"
       ]
      },
      {
       "output_type": "stream",
       "stream": "stdout",
       "text": [
        "INSERT 0 1198\r\n",
        "INSERT 0 5740\r\n"
       ]
      },
      {
       "output_type": "stream",
       "stream": "stdout",
       "text": [
        "INSERT 0 1439\r\n",
        "INSERT 0 440\r\n",
        "INSERT 0 2285\r\n",
        "INSERT 0 181\r\n",
        "INSERT 0 1756\r\n",
        "INSERT 0 11164\r\n"
       ]
      },
      {
       "output_type": "stream",
       "stream": "stdout",
       "text": [
        "INSERT 0 2115\r\n",
        "INSERT 0 1706\r\n",
        "INSERT 0 1277\r\n",
        "INSERT 0 276\r\n",
        "INSERT 0 1761\r\n",
        "INSERT 0 2837\r\n",
        "INSERT 0 1085\r\n",
        "INSERT 0 664\r\n",
        "INSERT 0 1131\r\n"
       ]
      },
      {
       "output_type": "stream",
       "stream": "stdout",
       "text": [
        "INSERT 0 3019\r\n",
        "INSERT 0 2899\r\n",
        "INSERT 0 112\r\n",
        "INSERT 0 1261\r\n",
        "INSERT 0 782\r\n",
        "INSERT 0 2141\r\n",
        "INSERT 0 2129\r\n",
        "INSERT 0 1148\r\n",
        "INSERT 0 615\r\n"
       ]
      },
      {
       "output_type": "stream",
       "stream": "stdout",
       "text": [
        "INSERT 0 3243\r\n",
        "INSERT 0 1616\r\n",
        "INSERT 0 1280\r\n",
        "INSERT 0 1120\r\n",
        "INSERT 0 2791\r\n",
        "INSERT 0 240\r\n",
        "INSERT 0 2234\r\n"
       ]
      },
      {
       "output_type": "stream",
       "stream": "stdout",
       "text": [
        "INSERT 0 1346\r\n",
        "INSERT 0 1639\r\n",
        "INSERT 0 9108\r\n",
        "INSERT 0 2206\r\n",
        "INSERT 0 339\r\n",
        "INSERT 0 1407\r\n",
        "INSERT 0 405\r\n"
       ]
      },
      {
       "output_type": "stream",
       "stream": "stdout",
       "text": [
        "INSERT 0 2508\r\n",
        "INSERT 0 12113\r\n",
        "INSERT 0 1574\r\n",
        "INSERT 0 948\r\n",
        "INSERT 0 3158\r\n"
       ]
      },
      {
       "output_type": "stream",
       "stream": "stdout",
       "text": [
        "INSERT 0 17351\r\n",
        "INSERT 0 2180\r\n"
       ]
      },
      {
       "output_type": "stream",
       "stream": "stdout",
       "text": [
        "INSERT 0 779\r\n",
        "INSERT 0 3259\r\n",
        "INSERT 0 2386\r\n",
        "INSERT 0 863\r\n",
        "INSERT 0 137\r\n",
        "INSERT 0 1719\r\n",
        "INSERT 0 403\r\n",
        "INSERT 0 3151\r\n",
        "INSERT 0 1003\r\n"
       ]
      },
      {
       "output_type": "stream",
       "stream": "stdout",
       "text": [
        "INSERT 0 2002\r\n",
        "INSERT 0 6790\r\n",
        "INSERT 0 1225\r\n"
       ]
      },
      {
       "output_type": "stream",
       "stream": "stdout",
       "text": [
        "INSERT 0 17245\r\n",
        "INSERT 0 748\r\n",
        "INSERT 0 3939\r\n",
        "INSERT 0 1658\r\n",
        "INSERT 0 1522\r\n",
        "INSERT 0 1517\r\n",
        "INSERT 0 1710\r\n",
        "INSERT 0 779\r\n",
        "INSERT 0 859\r\n"
       ]
      },
      {
       "output_type": "stream",
       "stream": "stdout",
       "text": [
        "INSERT 0 2914\r\n",
        "INSERT 0 299\r\n",
        "INSERT 0 1917\r\n",
        "INSERT 0 753\r\n",
        "INSERT 0 1868\r\n",
        "INSERT 0 510\r\n",
        "INSERT 0 2097\r\n",
        "INSERT 0 1312\r\n"
       ]
      },
      {
       "output_type": "stream",
       "stream": "stdout",
       "text": [
        "INSERT 0 893\r\n",
        "INSERT 0 280\r\n",
        "INSERT 0 1561\r\n",
        "INSERT 0 2517\r\n",
        "INSERT 0 2381\r\n",
        "INSERT 0 329\r\n",
        "INSERT 0 1638\r\n",
        "INSERT 0 104\r\n",
        "INSERT 0 2286\r\n",
        "INSERT 0 66\r\n"
       ]
      },
      {
       "output_type": "stream",
       "stream": "stdout",
       "text": [
        "INSERT 0 1445\r\n",
        "INSERT 0 90\r\n",
        "INSERT 0 1723\r\n",
        "INSERT 0 146\r\n",
        "INSERT 0 2215\r\n",
        "INSERT 0 689\r\n",
        "INSERT 0 1878\r\n",
        "INSERT 0 239\r\n"
       ]
      },
      {
       "output_type": "stream",
       "stream": "stdout",
       "text": [
        "INSERT 0 2507\r\n",
        "INSERT 0 283\r\n",
        "INSERT 0 1809\r\n",
        "INSERT 0 778\r\n",
        "INSERT 0 2437\r\n",
        "INSERT 0 620\r\n",
        "INSERT 0 1295\r\n",
        "INSERT 0 384\r\n",
        "INSERT 0 1633\r\n",
        "INSERT 0 494\r\n",
        "INSERT 0 1013\r\n",
        "INSERT 0 410\r\n"
       ]
      },
      {
       "output_type": "stream",
       "stream": "stdout",
       "text": [
        "INSERT 0 1723\r\n",
        "INSERT 0 406\r\n",
        "INSERT 0 846\r\n",
        "INSERT 0 1052\r\n",
        "INSERT 0 364\r\n",
        "INSERT 0 55\r\n",
        "INSERT 0 1274\r\n",
        "INSERT 0 104\r\n",
        "INSERT 0 1798\r\n",
        "INSERT 0 113\r\n",
        "INSERT 0 1813\r\n",
        "INSERT 0 308\r\n"
       ]
      },
      {
       "output_type": "stream",
       "stream": "stdout",
       "text": [
        "INSERT 0 1912\r\n",
        "INSERT 0 1944\r\n",
        "INSERT 0 2047\r\n",
        "INSERT 0 2553\r\n",
        "INSERT 0 2479\r\n",
        "INSERT 0 76\r\n",
        "INSERT 0 1458\r\n"
       ]
      },
      {
       "output_type": "stream",
       "stream": "stdout",
       "text": [
        "INSERT 0 1031\r\n",
        "INSERT 0 1610\r\n",
        "INSERT 0 95\r\n",
        "INSERT 0 1495\r\n",
        "INSERT 0 2950\r\n",
        "INSERT 0 2491\r\n",
        "INSERT 0 15\r\n",
        "INSERT 0 695\r\n",
        "INSERT 0 1635\r\n"
       ]
      },
      {
       "output_type": "stream",
       "stream": "stdout",
       "text": [
        "INSERT 0 2736\r\n",
        "INSERT 0 1777\r\n",
        "INSERT 0 3235\r\n",
        "INSERT 0 623\r\n",
        "INSERT 0 1445\r\n",
        "INSERT 0 2844\r\n",
        "INSERT 0 2965\r\n",
        "INSERT 0 162\r\n"
       ]
      },
      {
       "output_type": "stream",
       "stream": "stdout",
       "text": [
        "INSERT 0 1242\r\n",
        "INSERT 0 733\r\n",
        "INSERT 0 1227\r\n",
        "INSERT 0 771\r\n",
        "INSERT 0 1092\r\n",
        "INSERT 0 726\r\n",
        "INSERT 0 1938\r\n",
        "INSERT 0 1440\r\n",
        "INSERT 0 1596\r\n",
        "INSERT 0 1500\r\n"
       ]
      },
      {
       "output_type": "stream",
       "stream": "stdout",
       "text": [
        "INSERT 0 1405\r\n",
        "INSERT 0 254\r\n",
        "INSERT 0 1060\r\n",
        "INSERT 0 305\r\n",
        "INSERT 0 1511\r\n",
        "INSERT 0 418\r\n",
        "INSERT 0 1324\r\n",
        "INSERT 0 127\r\n",
        "INSERT 0 780\r\n",
        "INSERT 0 107\r\n",
        "INSERT 0 1306\r\n",
        "INSERT 0 251\r\n",
        "INSERT 0 1476\r\n",
        "INSERT 0 288\r\n",
        "INSERT 0 764\r\n",
        "INSERT 0 789\r\n"
       ]
      },
      {
       "output_type": "stream",
       "stream": "stdout",
       "text": [
        "INSERT 0 1596\r\n",
        "INSERT 0 1269\r\n",
        "INSERT 0 1278\r\n",
        "INSERT 0 48\r\n",
        "INSERT 0 1699\r\n",
        "INSERT 0 152\r\n",
        "INSERT 0 1943\r\n",
        "INSERT 0 511\r\n",
        "INSERT 0 1137\r\n",
        "INSERT 0 1076\r\n",
        "INSERT 0 2017\r\n"
       ]
      },
      {
       "output_type": "stream",
       "stream": "stdout",
       "text": [
        "INSERT 0 843\r\n",
        "INSERT 0 1557\r\n",
        "INSERT 0 257\r\n",
        "INSERT 0 1658\r\n",
        "INSERT 0 974\r\n",
        "INSERT 0 1045\r\n",
        "INSERT 0 262\r\n",
        "INSERT 0 2543\r\n"
       ]
      },
      {
       "output_type": "stream",
       "stream": "stdout",
       "text": [
        "INSERT 0 164\r\n"
       ]
      },
      {
       "output_type": "stream",
       "stream": "stdout",
       "text": [
        "INSERT 0 1823\r\n",
        "INSERT 0 3715\r\n",
        "INSERT 0 3036\r\n",
        "INSERT 0 348\r\n",
        "INSERT 0 2345\r\n",
        "INSERT 0 584\r\n"
       ]
      },
      {
       "output_type": "stream",
       "stream": "stdout",
       "text": [
        "INSERT 0 2080\r\n",
        "INSERT 0 204\r\n",
        "INSERT 0 1122\r\n",
        "INSERT 0 740\r\n",
        "INSERT 0 1145\r\n",
        "INSERT 0 2998\r\n",
        "INSERT 0 1127\r\n",
        "INSERT 0 2573\r\n",
        "INSERT 0 2141\r\n",
        "INSERT 0 42\r\n"
       ]
      },
      {
       "output_type": "stream",
       "stream": "stdout",
       "text": [
        "INSERT 0 1528\r\n",
        "INSERT 0 855\r\n",
        "INSERT 0 1669\r\n",
        "INSERT 0 974\r\n",
        "INSERT 0 2012\r\n",
        "INSERT 0 4794\r\n",
        "INSERT 0 1778\r\n",
        "INSERT 0 629\r\n",
        "INSERT 0 2132\r\n",
        "INSERT 0 468\r\n"
       ]
      },
      {
       "output_type": "stream",
       "stream": "stdout",
       "text": [
        "INSERT 0 880\r\n",
        "INSERT 0 195\r\n",
        "INSERT 0 1508\r\n",
        "INSERT 0 4823\r\n",
        "INSERT 0 948\r\n",
        "INSERT 0 622\r\n",
        "INSERT 0 1441\r\n",
        "INSERT 0 154\r\n",
        "INSERT 0 1908\r\n",
        "INSERT 0 72\r\n"
       ]
      },
      {
       "output_type": "stream",
       "stream": "stdout",
       "text": [
        "INSERT 0 1498\r\n",
        "INSERT 0 370\r\n",
        "INSERT 0 2517\r\n",
        "INSERT 0 183\r\n",
        "INSERT 0 1295\r\n",
        "INSERT 0 504\r\n",
        "INSERT 0 1392\r\n",
        "INSERT 0 757\r\n",
        "INSERT 0 1662\r\n",
        "INSERT 0 1081\r\n",
        "INSERT 0 1821\r\n",
        "INSERT 0 314\r\n"
       ]
      },
      {
       "output_type": "stream",
       "stream": "stdout",
       "text": [
        "INSERT 0 1774\r\n",
        "INSERT 0 158\r\n",
        "INSERT 0 1068\r\n",
        "INSERT 0 98\r\n",
        "INSERT 0 1823\r\n",
        "INSERT 0 426\r\n",
        "INSERT 0 1480\r\n"
       ]
      },
      {
       "output_type": "stream",
       "stream": "stdout",
       "text": [
        "INSERT 0 19697\r\n",
        "INSERT 0 1637\r\n",
        "INSERT 0 1550\r\n",
        "INSERT 0 1870\r\n",
        "INSERT 0 995\r\n",
        "INSERT 0 2468\r\n",
        "INSERT 0 1256\r\n",
        "INSERT 0 1783\r\n",
        "INSERT 0 427\r\n"
       ]
      },
      {
       "output_type": "stream",
       "stream": "stdout",
       "text": [
        "INSERT 0 1600\r\n",
        "INSERT 0 103\r\n",
        "INSERT 0 1984\r\n",
        "INSERT 0 392\r\n",
        "INSERT 0 1410\r\n",
        "INSERT 0 1806\r\n",
        "INSERT 0 1756\r\n",
        "INSERT 0 2800\r\n",
        "INSERT 0 1231\r\n",
        "INSERT 0 153\r\n"
       ]
      },
      {
       "output_type": "stream",
       "stream": "stdout",
       "text": [
        "INSERT 0 852\r\n",
        "INSERT 0 937\r\n",
        "INSERT 0 1189\r\n",
        "INSERT 0 215\r\n",
        "INSERT 0 1984\r\n",
        "INSERT 0 127\r\n",
        "INSERT 0 1452\r\n",
        "INSERT 0 19\r\n",
        "INSERT 0 1359\r\n",
        "INSERT 0 718\r\n",
        "INSERT 0 1717\r\n",
        "INSERT 0 1740\r\n"
       ]
      },
      {
       "output_type": "stream",
       "stream": "stdout",
       "text": [
        "INSERT 0 2267\r\n",
        "INSERT 0 260\r\n",
        "INSERT 0 1351\r\n",
        "INSERT 0 100\r\n",
        "INSERT 0 1107\r\n",
        "INSERT 0 6095\r\n",
        "INSERT 0 2220\r\n",
        "INSERT 0 491\r\n"
       ]
      },
      {
       "output_type": "stream",
       "stream": "stdout",
       "text": [
        "INSERT 0 2459\r\n",
        "INSERT 0 150\r\n",
        "INSERT 0 1669\r\n",
        "INSERT 0 860\r\n",
        "INSERT 0 1823\r\n",
        "INSERT 0 2699\r\n",
        "INSERT 0 2502\r\n"
       ]
      },
      {
       "output_type": "stream",
       "stream": "stdout",
       "text": [
        "INSERT 0 700\r\n",
        "INSERT 0 1243\r\n",
        "INSERT 0 691\r\n",
        "INSERT 0 1087\r\n",
        "INSERT 0 777\r\n",
        "INSERT 0 1433\r\n",
        "INSERT 0 319\r\n",
        "INSERT 0 1023\r\n",
        "INSERT 0 1561\r\n",
        "INSERT 0 1120\r\n",
        "INSERT 0 864\r\n",
        "INSERT 0 1895\r\n"
       ]
      },
      {
       "output_type": "stream",
       "stream": "stdout",
       "text": [
        "INSERT 0 1231\r\n",
        "INSERT 0 1134\r\n",
        "INSERT 0 153\r\n",
        "INSERT 0 1313\r\n",
        "INSERT 0 41\r\n",
        "INSERT 0 786\r\n",
        "INSERT 0 62\r\n",
        "INSERT 0 988\r\n",
        "INSERT 0 202\r\n",
        "INSERT 0 740\r\n",
        "INSERT 0 871\r\n",
        "INSERT 0 1087\r\n",
        "INSERT 0 434\r\n"
       ]
      },
      {
       "output_type": "stream",
       "stream": "stdout",
       "text": [
        "INSERT 0 2759\r\n",
        "INSERT 0 305\r\n",
        "INSERT 0 2107\r\n",
        "INSERT 0 498\r\n",
        "INSERT 0 2521\r\n",
        "INSERT 0 317\r\n",
        "INSERT 0 2562\r\n",
        "INSERT 0 334\r\n"
       ]
      },
      {
       "output_type": "stream",
       "stream": "stdout",
       "text": [
        "INSERT 0 2094\r\n",
        "INSERT 0 813\r\n",
        "INSERT 0 2215\r\n",
        "INSERT 0 2086\r\n",
        "INSERT 0 1295\r\n",
        "INSERT 0 137\r\n",
        "INSERT 0 1283\r\n",
        "INSERT 0 81\r\n"
       ]
      },
      {
       "output_type": "stream",
       "stream": "stdout",
       "text": [
        "INSERT 0 1598\r\n",
        "INSERT 0 4815\r\n",
        "INSERT 0 2576\r\n"
       ]
      },
      {
       "output_type": "stream",
       "stream": "stdout",
       "text": [
        "INSERT 0 15827\r\n",
        "INSERT 0 2432\r\n",
        "INSERT 0 4590\r\n",
        "INSERT 0 2912\r\n",
        "INSERT 0 1261\r\n"
       ]
      },
      {
       "output_type": "stream",
       "stream": "stdout",
       "text": [
        "INSERT 0 3484\r\n",
        "INSERT 0 4763\r\n",
        "INSERT 0 1786\r\n",
        "INSERT 0 1559\r\n"
       ]
      },
      {
       "output_type": "stream",
       "stream": "stdout",
       "text": [
        "INSERT 0 2108\r\n",
        "INSERT 0 5615\r\n",
        "INSERT 0 1903\r\n",
        "INSERT 0 188\r\n",
        "INSERT 0 2803\r\n"
       ]
      },
      {
       "output_type": "stream",
       "stream": "stdout",
       "text": [
        "INSERT 0 28270\r\n",
        "INSERT 0 2296\r\n",
        "INSERT 0 1384\r\n",
        "INSERT 0 1641\r\n",
        "INSERT 0 203\r\n",
        "INSERT 0 1664\r\n",
        "INSERT 0 2740\r\n"
       ]
      },
      {
       "output_type": "stream",
       "stream": "stdout",
       "text": [
        "INSERT 0 670\r\n",
        "INSERT 0 1294\r\n",
        "INSERT 0 2811\r\n",
        "INSERT 0 59\r\n",
        "INSERT 0 1386\r\n",
        "INSERT 0 514\r\n",
        "INSERT 0 2293\r\n",
        "INSERT 0 484\r\n"
       ]
      },
      {
       "output_type": "stream",
       "stream": "stdout",
       "text": [
        "INSERT 0 2474\r\n",
        "INSERT 0 227\r\n",
        "INSERT 0 2427\r\n",
        "INSERT 0 4406\r\n",
        "INSERT 0 3334\r\n",
        "INSERT 0 384\r\n"
       ]
      },
      {
       "output_type": "stream",
       "stream": "stdout",
       "text": [
        "INSERT 0 2619\r\n",
        "INSERT 0 809\r\n",
        "INSERT 0 2642\r\n",
        "INSERT 0 187\r\n",
        "INSERT 0 1530\r\n",
        "INSERT 0 354\r\n",
        "INSERT 0 928\r\n",
        "INSERT 0 560\r\n",
        "INSERT 0 1940\r\n",
        "INSERT 0 881\r\n",
        "INSERT 0 2252\r\n"
       ]
      },
      {
       "output_type": "stream",
       "stream": "stdout",
       "text": [
        "INSERT 0 2911\r\n",
        "INSERT 0 2159\r\n",
        "INSERT 0 122\r\n",
        "INSERT 0 1222\r\n",
        "INSERT 0 598\r\n",
        "INSERT 0 1258\r\n",
        "INSERT 0 4721\r\n",
        "INSERT 0 1314\r\n"
       ]
      },
      {
       "output_type": "stream",
       "stream": "stdout",
       "text": [
        "INSERT 0 5215\r\n",
        "INSERT 0 974\r\n",
        "INSERT 0 1173\r\n",
        "INSERT 0 558\r\n",
        "INSERT 0 3768\r\n",
        "INSERT 0 1635\r\n",
        "INSERT 0 2415\r\n",
        "INSERT 0 2399\r\n"
       ]
      },
      {
       "output_type": "stream",
       "stream": "stdout",
       "text": [
        "INSERT 0 2685\r\n",
        "INSERT 0 915\r\n",
        "INSERT 0 7227\r\n",
        "INSERT 0 1520\r\n",
        "INSERT 0 855\r\n",
        "INSERT 0 1227\r\n"
       ]
      },
      {
       "output_type": "stream",
       "stream": "stdout",
       "text": [
        "INSERT 0 4076\r\n",
        "INSERT 0 1858\r\n",
        "INSERT 0 2728\r\n",
        "INSERT 0 3872\r\n",
        "INSERT 0 146\r\n",
        "INSERT 0 1640\r\n",
        "INSERT 0 657\r\n",
        "INSERT 0 1541\r\n"
       ]
      },
      {
       "output_type": "stream",
       "stream": "stdout",
       "text": [
        "INSERT 0 1906\r\n",
        "INSERT 0 1087\r\n",
        "INSERT 0 431\r\n",
        "INSERT 0 1315\r\n",
        "INSERT 0 468\r\n",
        "INSERT 0 2455\r\n",
        "INSERT 0 274\r\n",
        "INSERT 0 2693\r\n"
       ]
      },
      {
       "output_type": "stream",
       "stream": "stdout",
       "text": [
        "INSERT 0 57\r\n",
        "INSERT 0 2093\r\n",
        "INSERT 0 47\r\n",
        "INSERT 0 1893\r\n",
        "INSERT 0 2009\r\n",
        "INSERT 0 2387\r\n",
        "INSERT 0 1917\r\n"
       ]
      },
      {
       "output_type": "stream",
       "stream": "stdout",
       "text": [
        "INSERT 0 1989\r\n",
        "INSERT 0 705\r\n",
        "INSERT 0 1997\r\n",
        "INSERT 0 932\r\n",
        "INSERT 0 1867\r\n",
        "INSERT 0 419\r\n",
        "INSERT 0 2083\r\n",
        "INSERT 0 475\r\n",
        "INSERT 0 2077\r\n"
       ]
      },
      {
       "output_type": "stream",
       "stream": "stdout",
       "text": [
        "INSERT 0 2530\r\n",
        "INSERT 0 3350\r\n",
        "INSERT 0 310\r\n",
        "INSERT 0 1587\r\n",
        "INSERT 0 3540\r\n",
        "INSERT 0 1074\r\n",
        "INSERT 0 630\r\n"
       ]
      },
      {
       "output_type": "stream",
       "stream": "stdout",
       "text": [
        "INSERT 0 726\r\n",
        "INSERT 0 520\r\n",
        "INSERT 0 1174\r\n",
        "INSERT 0 4127\r\n",
        "INSERT 0 1211\r\n",
        "INSERT 0 301\r\n",
        "INSERT 0 1129\r\n",
        "INSERT 0 579\r\n",
        "INSERT 0 1007\r\n"
       ]
      },
      {
       "output_type": "stream",
       "stream": "stdout",
       "text": [
        "INSERT 0 7825\r\n",
        "INSERT 0 978\r\n",
        "INSERT 0 2776\r\n",
        "INSERT 0 1754\r\n",
        "INSERT 0 684\r\n"
       ]
      },
      {
       "output_type": "stream",
       "stream": "stdout",
       "text": [
        "INSERT 0 1710\r\n",
        "INSERT 0 780\r\n",
        "INSERT 0 1393\r\n",
        "INSERT 0 11799\r\n",
        "INSERT 0 1486\r\n",
        "INSERT 0 3811\r\n"
       ]
      },
      {
       "output_type": "stream",
       "stream": "stdout",
       "text": [
        "INSERT 0 2039\r\n",
        "INSERT 0 1710\r\n",
        "INSERT 0 3003\r\n",
        "INSERT 0 1212\r\n",
        "INSERT 0 1954\r\n",
        "INSERT 0 662\r\n",
        "INSERT 0 1908\r\n"
       ]
      },
      {
       "output_type": "stream",
       "stream": "stdout",
       "text": [
        "INSERT 0 5453\r\n",
        "INSERT 0 962\r\n",
        "INSERT 0 10480\r\n",
        "INSERT 0 1320\r\n",
        "INSERT 0 843\r\n"
       ]
      },
      {
       "output_type": "stream",
       "stream": "stdout",
       "text": [
        "INSERT 0 2311\r\n",
        "INSERT 0 2587\r\n",
        "INSERT 0 1871\r\n",
        "INSERT 0 2966\r\n",
        "INSERT 0 1554\r\n",
        "INSERT 0 3191\r\n"
       ]
      },
      {
       "output_type": "stream",
       "stream": "stdout",
       "text": [
        "INSERT 0 1842\r\n",
        "INSERT 0 1871\r\n",
        "INSERT 0 1234\r\n",
        "INSERT 0 665\r\n",
        "INSERT 0 1205\r\n",
        "INSERT 0 1132\r\n",
        "INSERT 0 2315\r\n",
        "INSERT 0 351\r\n",
        "INSERT 0 1987\r\n"
       ]
      },
      {
       "output_type": "stream",
       "stream": "stdout",
       "text": [
        "INSERT 0 934\r\n",
        "INSERT 0 1174\r\n",
        "INSERT 0 599\r\n",
        "INSERT 0 1226\r\n",
        "INSERT 0 597\r\n",
        "INSERT 0 1999\r\n",
        "INSERT 0 909\r\n",
        "INSERT 0 1487\r\n",
        "INSERT 0 462\r\n"
       ]
      },
      {
       "output_type": "stream",
       "stream": "stdout",
       "text": [
        "INSERT 0 1765\r\n",
        "INSERT 0 343\r\n",
        "INSERT 0 2390\r\n",
        "INSERT 0 741\r\n",
        "INSERT 0 1110\r\n",
        "INSERT 0 507\r\n",
        "INSERT 0 1517\r\n",
        "INSERT 0 1075\r\n",
        "INSERT 0 2297\r\n",
        "INSERT 0 1404\r\n"
       ]
      },
      {
       "output_type": "stream",
       "stream": "stdout",
       "text": [
        "INSERT 0 1869\r\n",
        "INSERT 0 32\r\n",
        "INSERT 0 808\r\n",
        "INSERT 0 1187\r\n",
        "INSERT 0 1559\r\n",
        "INSERT 0 6991\r\n"
       ]
      },
      {
       "output_type": "stream",
       "stream": "stdout",
       "text": [
        "INSERT 0 2446\r\n",
        "INSERT 0 1045\r\n",
        "INSERT 0 1332\r\n",
        "INSERT 0 3103\r\n",
        "INSERT 0 1437\r\n",
        "INSERT 0 5882\r\n",
        "INSERT 0 2141\r\n"
       ]
      },
      {
       "output_type": "stream",
       "stream": "stdout",
       "text": [
        "INSERT 0 2252\r\n",
        "INSERT 0 1893\r\n",
        "INSERT 0 159\r\n",
        "INSERT 0 3316\r\n",
        "INSERT 0 3226\r\n",
        "INSERT 0 1313\r\n",
        "INSERT 0 411\r\n"
       ]
      },
      {
       "output_type": "stream",
       "stream": "stdout",
       "text": [
        "INSERT 0 2574\r\n",
        "INSERT 0 1608\r\n",
        "INSERT 0 1918\r\n",
        "INSERT 0 165\r\n",
        "INSERT 0 1329\r\n",
        "INSERT 0 2813\r\n",
        "INSERT 0 1793\r\n",
        "INSERT 0 345\r\n",
        "INSERT 0 1312\r\n",
        "INSERT 0 896\r\n"
       ]
      },
      {
       "output_type": "stream",
       "stream": "stdout",
       "text": [
        "INSERT 0 2054\r\n",
        "INSERT 0 4695\r\n",
        "INSERT 0 1300\r\n",
        "INSERT 0 36\r\n",
        "INSERT 0 1050\r\n",
        "INSERT 0 616\r\n",
        "INSERT 0 2054\r\n",
        "INSERT 0 608\r\n"
       ]
      },
      {
       "output_type": "stream",
       "stream": "stdout",
       "text": [
        "INSERT 0 1572\r\n",
        "INSERT 0 2086\r\n",
        "INSERT 0 2130\r\n",
        "INSERT 0 10233\r\n"
       ]
      },
      {
       "output_type": "stream",
       "stream": "stdout",
       "text": [
        "INSERT 0 2534\r\n",
        "INSERT 0 2498\r\n",
        "INSERT 0 871\r\n"
       ]
      },
      {
       "output_type": "stream",
       "stream": "stdout",
       "text": [
        "INSERT 0 21880\r\n",
        "INSERT 0 918\r\n",
        "INSERT 0 903\r\n",
        "INSERT 0 886\r\n",
        "INSERT 0 355\r\n",
        "INSERT 0 906\r\n",
        "INSERT 0 507\r\n",
        "INSERT 0 2649\r\n",
        "INSERT 0 1865\r\n",
        "INSERT 0 1121\r\n",
        "INSERT 0 2168\r\n"
       ]
      },
      {
       "output_type": "stream",
       "stream": "stdout",
       "text": [
        "INSERT 0 2132\r\n",
        "INSERT 0 3185\r\n",
        "INSERT 0 2437\r\n",
        "INSERT 0 1959\r\n",
        "INSERT 0 1686\r\n",
        "INSERT 0 158\r\n",
        "INSERT 0 1205\r\n",
        "INSERT 0 5588\r\n"
       ]
      },
      {
       "output_type": "stream",
       "stream": "stdout",
       "text": [
        "INSERT 0 1737\r\n",
        "INSERT 0 2643\r\n",
        "INSERT 0 439\r\n",
        "INSERT 0 58\r\n",
        "INSERT 0 1760\r\n",
        "INSERT 0 2182\r\n",
        "INSERT 0 1215\r\n",
        "INSERT 0 736\r\n",
        "INSERT 0 1355\r\n",
        "INSERT 0 424\r\n"
       ]
      },
      {
       "output_type": "stream",
       "stream": "stdout",
       "text": [
        "INSERT 0 1814\r\n",
        "INSERT 0 1011\r\n",
        "INSERT 0 1104\r\n",
        "INSERT 0 577\r\n",
        "INSERT 0 912\r\n",
        "INSERT 0 145\r\n",
        "INSERT 0 1498\r\n",
        "INSERT 0 76\r\n",
        "INSERT 0 1075\r\n",
        "INSERT 0 646\r\n",
        "INSERT 0 1365\r\n",
        "INSERT 0 1680\r\n",
        "INSERT 0 889\r\n",
        "INSERT 0 1821\r\n"
       ]
      },
      {
       "output_type": "stream",
       "stream": "stdout",
       "text": [
        "INSERT 0 1691\r\n",
        "INSERT 0 1288\r\n",
        "INSERT 0 1884\r\n",
        "INSERT 0 420\r\n",
        "INSERT 0 789\r\n",
        "INSERT 0 4832\r\n",
        "INSERT 0 918\r\n",
        "INSERT 0 732\r\n",
        "INSERT 0 1610\r\n"
       ]
      },
      {
       "output_type": "stream",
       "stream": "stdout",
       "text": [
        "INSERT 0 1574\r\n",
        "INSERT 0 2125\r\n",
        "INSERT 0 173\r\n",
        "INSERT 0 1429\r\n",
        "INSERT 0 211\r\n",
        "INSERT 0 1537\r\n",
        "INSERT 0 290\r\n",
        "INSERT 0 1788\r\n",
        "INSERT 0 1801\r\n",
        "INSERT 0 1833\r\n"
       ]
      },
      {
       "output_type": "stream",
       "stream": "stdout",
       "text": [
        "INSERT 0 1803\r\n",
        "INSERT 0 1886\r\n",
        "INSERT 0 4249\r\n",
        "INSERT 0 887\r\n",
        "INSERT 0 584\r\n",
        "INSERT 0 1795\r\n",
        "INSERT 0 777\r\n",
        "INSERT 0 1268\r\n",
        "INSERT 0 519\r\n"
       ]
      },
      {
       "output_type": "stream",
       "stream": "stdout",
       "text": [
        "INSERT 0 1438\r\n",
        "INSERT 0 166\r\n",
        "INSERT 0 1659\r\n",
        "INSERT 0 613\r\n",
        "INSERT 0 1572\r\n",
        "INSERT 0 317\r\n",
        "INSERT 0 1847\r\n",
        "INSERT 0 216\r\n",
        "INSERT 0 1584\r\n",
        "INSERT 0 50\r\n"
       ]
      },
      {
       "output_type": "stream",
       "stream": "stdout",
       "text": [
        "INSERT 0 1201\r\n",
        "INSERT 0 1028\r\n",
        "INSERT 0 1306\r\n",
        "INSERT 0 1475\r\n",
        "INSERT 0 2283\r\n",
        "INSERT 0 583\r\n",
        "INSERT 0 1563\r\n",
        "INSERT 0 276\r\n",
        "INSERT 0 1313\r\n",
        "INSERT 0 141\r\n",
        "INSERT 0 1127\r\n",
        "INSERT 0 673\r\n"
       ]
      },
      {
       "output_type": "stream",
       "stream": "stdout",
       "text": [
        "INSERT 0 1065\r\n",
        "INSERT 0 126\r\n",
        "INSERT 0 2191\r\n",
        "INSERT 0 5359\r\n",
        "INSERT 0 2215\r\n",
        "INSERT 0 116\r\n",
        "INSERT 0 811\r\n",
        "INSERT 0 498\r\n"
       ]
      },
      {
       "output_type": "stream",
       "stream": "stdout",
       "text": [
        "INSERT 0 1449\r\n",
        "INSERT 0 5980\r\n",
        "INSERT 0 2954\r\n",
        "INSERT 0 924\r\n",
        "INSERT 0 2370\r\n",
        "INSERT 0 227\r\n"
       ]
      },
      {
       "output_type": "stream",
       "stream": "stdout",
       "text": [
        "INSERT 0 1516\r\n",
        "INSERT 0 1659\r\n",
        "INSERT 0 841\r\n",
        "INSERT 0 1199\r\n",
        "INSERT 0 3311\r\n",
        "INSERT 0 402\r\n",
        "INSERT 0 1581\r\n"
       ]
      },
      {
       "output_type": "stream",
       "stream": "stdout",
       "text": [
        "INSERT 0 5315\r\n",
        "INSERT 0 1551\r\n",
        "INSERT 0 1334\r\n",
        "INSERT 0 2893\r\n",
        "INSERT 0 579\r\n",
        "INSERT 0 1533\r\n"
       ]
      },
      {
       "output_type": "stream",
       "stream": "stdout",
       "text": [
        "INSERT 0 8988\r\n",
        "INSERT 0 2119\r\n",
        "INSERT 0 288\r\n",
        "INSERT 0 1474\r\n",
        "INSERT 0 720\r\n",
        "INSERT 0 2349\r\n",
        "INSERT 0 1753\r\n",
        "INSERT 0 1746\r\n"
       ]
      },
      {
       "output_type": "stream",
       "stream": "stdout",
       "text": [
        "INSERT 0 4313\r\n",
        "INSERT 0 784\r\n",
        "INSERT 0 1770\r\n",
        "INSERT 0 1038\r\n",
        "INSERT 0 348\r\n",
        "INSERT 0 2481\r\n",
        "INSERT 0 589\r\n",
        "INSERT 0 2324\r\n",
        "INSERT 0 1227\r\n",
        "INSERT 0 2047\r\n"
       ]
      },
      {
       "output_type": "stream",
       "stream": "stdout",
       "text": [
        "INSERT 0 1995\r\n",
        "INSERT 0 1596\r\n",
        "INSERT 0 468\r\n",
        "INSERT 0 2578\r\n",
        "INSERT 0 692\r\n",
        "INSERT 0 1462\r\n",
        "INSERT 0 3879\r\n",
        "INSERT 0 1345\r\n",
        "INSERT 0 418\r\n"
       ]
      },
      {
       "output_type": "stream",
       "stream": "stdout",
       "text": [
        "INSERT 0 1909\r\n",
        "INSERT 0 61\r\n",
        "INSERT 0 1529\r\n",
        "INSERT 0 5810\r\n",
        "INSERT 0 761\r\n",
        "INSERT 0 68\r\n",
        "INSERT 0 501\r\n",
        "INSERT 0 440\r\n",
        "INSERT 0 1163\r\n",
        "INSERT 0 1111\r\n"
       ]
      },
      {
       "output_type": "stream",
       "stream": "stdout",
       "text": [
        "INSERT 0 2000\r\n",
        "INSERT 0 227\r\n",
        "INSERT 0 1420\r\n",
        "INSERT 0 1305\r\n",
        "INSERT 0 2865\r\n",
        "INSERT 0 3597\r\n",
        "INSERT 0 1682\r\n",
        "INSERT 0 560\r\n",
        "INSERT 0 2606\r\n"
       ]
      },
      {
       "output_type": "stream",
       "stream": "stdout",
       "text": [
        "INSERT 0 631\r\n",
        "INSERT 0 1250\r\n",
        "INSERT 0 37\r\n",
        "INSERT 0 2626\r\n",
        "INSERT 0 63\r\n",
        "INSERT 0 1777\r\n",
        "INSERT 0 306\r\n",
        "INSERT 0 1204\r\n",
        "INSERT 0 91\r\n",
        "INSERT 0 1427\r\n"
       ]
      },
      {
       "output_type": "stream",
       "stream": "stdout",
       "text": [
        "INSERT 0 4570\r\n",
        "INSERT 0 539\r\n",
        "INSERT 0 66\r\n",
        "INSERT 0 1855\r\n",
        "INSERT 0 715\r\n",
        "INSERT 0 2073\r\n",
        "INSERT 0 1148\r\n",
        "INSERT 0 928\r\n",
        "INSERT 0 1007\r\n"
       ]
      },
      {
       "output_type": "stream",
       "stream": "stdout",
       "text": [
        "INSERT 0 1779\r\n",
        "INSERT 0 21\r\n",
        "INSERT 0 1183\r\n",
        "INSERT 0 448\r\n",
        "INSERT 0 1576\r\n",
        "INSERT 0 1398\r\n",
        "INSERT 0 579\r\n",
        "INSERT 0 154\r\n",
        "INSERT 0 1617\r\n",
        "INSERT 0 1864\r\n"
       ]
      },
      {
       "output_type": "stream",
       "stream": "stdout",
       "text": [
        "INSERT 0 2326\r\n",
        "INSERT 0 1001\r\n"
       ]
      },
      {
       "output_type": "stream",
       "stream": "stdout",
       "text": [
        "INSERT 0 2511\r\n",
        "INSERT 0 2424\r\n",
        "INSERT 0 2238\r\n",
        "INSERT 0 437\r\n"
       ]
      },
      {
       "output_type": "stream",
       "stream": "stdout",
       "text": [
        "INSERT 0 1504\r\n",
        "INSERT 0 443\r\n",
        "INSERT 0 1895\r\n",
        "INSERT 0 314\r\n",
        "INSERT 0 1971\r\n",
        "INSERT 0 340\r\n",
        "INSERT 0 1657\r\n",
        "INSERT 0 2104\r\n",
        "INSERT 0 1749\r\n"
       ]
      },
      {
       "output_type": "stream",
       "stream": "stdout",
       "text": [
        "INSERT 0 1853\r\n",
        "INSERT 0 1757\r\n",
        "INSERT 0 546\r\n",
        "INSERT 0 1302\r\n",
        "INSERT 0 1281\r\n",
        "INSERT 0 1385\r\n",
        "INSERT 0 1476\r\n",
        "INSERT 0 1962\r\n",
        "INSERT 0 1258\r\n"
       ]
      },
      {
       "output_type": "stream",
       "stream": "stdout",
       "text": [
        "INSERT 0 2471\r\n",
        "INSERT 0 13436\r\n",
        "INSERT 0 2168\r\n",
        "INSERT 0 321\r\n"
       ]
      },
      {
       "output_type": "stream",
       "stream": "stdout",
       "text": [
        "INSERT 0 2140\r\n",
        "INSERT 0 1299\r\n",
        "INSERT 0 1834\r\n",
        "INSERT 0 3119\r\n",
        "INSERT 0 2471\r\n",
        "INSERT 0 1370\r\n",
        "INSERT 0 2483\r\n"
       ]
      },
      {
       "output_type": "stream",
       "stream": "stdout",
       "text": [
        "INSERT 0 4979\r\n",
        "INSERT 0 2195\r\n",
        "INSERT 0 1118\r\n",
        "INSERT 0 1431\r\n",
        "INSERT 0 1116\r\n",
        "INSERT 0 2169\r\n",
        "INSERT 0 97\r\n",
        "INSERT 0 1613\r\n",
        "INSERT 0 456\r\n"
       ]
      },
      {
       "output_type": "stream",
       "stream": "stdout",
       "text": [
        "INSERT 0 1367\r\n",
        "INSERT 0 1365\r\n",
        "INSERT 0 1544\r\n",
        "INSERT 0 877\r\n",
        "INSERT 0 2594\r\n",
        "INSERT 0 1673\r\n",
        "INSERT 0 2056\r\n"
       ]
      },
      {
       "output_type": "stream",
       "stream": "stdout",
       "text": [
        "INSERT 0 5361\r\n",
        "INSERT 0 2701\r\n",
        "INSERT 0 1135\r\n",
        "INSERT 0 2150\r\n",
        "INSERT 0 1103\r\n",
        "INSERT 0 1435\r\n",
        "INSERT 0 2252\r\n",
        "INSERT 0 1965\r\n",
        "INSERT 0 707\r\n"
       ]
      },
      {
       "output_type": "stream",
       "stream": "stdout",
       "text": [
        "INSERT 0 1143\r\n",
        "INSERT 0 667\r\n",
        "INSERT 0 1742\r\n",
        "INSERT 0 487\r\n",
        "INSERT 0 1736\r\n",
        "INSERT 0 1288\r\n",
        "INSERT 0 1884\r\n",
        "INSERT 0 380\r\n",
        "INSERT 0 1939\r\n",
        "INSERT 0 199\r\n"
       ]
      },
      {
       "output_type": "stream",
       "stream": "stdout",
       "text": [
        "INSERT 0 1632\r\n",
        "INSERT 0 21\r\n",
        "INSERT 0 1243\r\n",
        "INSERT 0 387\r\n",
        "INSERT 0 2622\r\n",
        "INSERT 0 7598\r\n"
       ]
      },
      {
       "output_type": "stream",
       "stream": "stdout",
       "text": [
        "INSERT 0 1786\r\n",
        "INSERT 0 6858\r\n",
        "INSERT 0 909\r\n",
        "INSERT 0 930\r\n",
        "INSERT 0 2846\r\n",
        "INSERT 0 176\r\n"
       ]
      },
      {
       "output_type": "stream",
       "stream": "stdout",
       "text": [
        "INSERT 0 1909\r\n",
        "INSERT 0 3662\r\n",
        "INSERT 0 2449\r\n",
        "INSERT 0 288\r\n",
        "INSERT 0 1987\r\n",
        "INSERT 0 854\r\n",
        "INSERT 0 2230\r\n",
        "INSERT 0 435\r\n"
       ]
      },
      {
       "output_type": "stream",
       "stream": "stdout",
       "text": [
        "INSERT 0 2241\r\n",
        "INSERT 0 495\r\n",
        "INSERT 0 2337\r\n",
        "INSERT 0 297\r\n",
        "INSERT 0 2220\r\n",
        "INSERT 0 3247\r\n",
        "INSERT 0 2628\r\n",
        "INSERT 0 1989\r\n"
       ]
      },
      {
       "output_type": "stream",
       "stream": "stdout",
       "text": [
        "INSERT 0 3412\r\n",
        "INSERT 0 440\r\n",
        "INSERT 0 1942\r\n",
        "INSERT 0 3814\r\n",
        "INSERT 0 2274\r\n",
        "INSERT 0 1855\r\n",
        "INSERT 0 1592\r\n",
        "INSERT 0 335\r\n"
       ]
      },
      {
       "output_type": "stream",
       "stream": "stdout",
       "text": [
        "INSERT 0 2963\r\n",
        "INSERT 0 488\r\n",
        "INSERT 0 2012\r\n",
        "INSERT 0 3019\r\n",
        "INSERT 0 3138\r\n",
        "INSERT 0 958\r\n",
        "INSERT 0 2752\r\n",
        "INSERT 0 441\r\n"
       ]
      },
      {
       "output_type": "stream",
       "stream": "stdout",
       "text": [
        "INSERT 0 2399\r\n",
        "INSERT 0 1462\r\n",
        "INSERT 0 2330\r\n",
        "INSERT 0 1655\r\n",
        "INSERT 0 2070\r\n",
        "INSERT 0 346\r\n",
        "INSERT 0 1071\r\n",
        "INSERT 0 262\r\n"
       ]
      },
      {
       "output_type": "stream",
       "stream": "stdout",
       "text": [
        "INSERT 0 1461\r\n",
        "INSERT 0 424\r\n",
        "INSERT 0 1325\r\n",
        "INSERT 0 218\r\n",
        "INSERT 0 1507\r\n",
        "INSERT 0 380\r\n",
        "INSERT 0 1626\r\n",
        "INSERT 0 549\r\n",
        "INSERT 0 1563\r\n",
        "INSERT 0 2004\r\n",
        "INSERT 0 1133\r\n",
        "INSERT 0 788\r\n"
       ]
      },
      {
       "output_type": "stream",
       "stream": "stdout",
       "text": [
        "INSERT 0 1725\r\n",
        "INSERT 0 596\r\n",
        "INSERT 0 2290\r\n",
        "INSERT 0 696\r\n",
        "INSERT 0 2617\r\n",
        "INSERT 0 584\r\n",
        "INSERT 0 1641\r\n",
        "INSERT 0 1087\r\n",
        "INSERT 0 1520\r\n",
        "INSERT 0 122\r\n"
       ]
      },
      {
       "output_type": "stream",
       "stream": "stdout",
       "text": [
        "INSERT 0 987\r\n",
        "INSERT 0 1955\r\n",
        "INSERT 0 1529\r\n",
        "INSERT 0 1834\r\n",
        "INSERT 0 904\r\n",
        "INSERT 0 1304\r\n",
        "INSERT 0 1610\r\n",
        "INSERT 0 37\r\n",
        "INSERT 0 926\r\n",
        "INSERT 0 202\r\n",
        "INSERT 0 1051\r\n",
        "INSERT 0 386\r\n"
       ]
      },
      {
       "output_type": "stream",
       "stream": "stdout",
       "text": [
        "INSERT 0 985\r\n",
        "INSERT 0 395\r\n",
        "INSERT 0 802\r\n",
        "INSERT 0 633\r\n",
        "INSERT 0 1927\r\n",
        "INSERT 0 2137\r\n",
        "INSERT 0 2307\r\n",
        "INSERT 0 96\r\n",
        "INSERT 0 1431\r\n",
        "INSERT 0 1262\r\n"
       ]
      },
      {
       "output_type": "stream",
       "stream": "stdout",
       "text": [
        "INSERT 0 1442\r\n",
        "INSERT 0 1022\r\n",
        "INSERT 0 1630\r\n",
        "INSERT 0 589\r\n"
       ]
      },
      {
       "output_type": "stream",
       "stream": "stdout",
       "text": [
        "INSERT 0 2481\r\n",
        "INSERT 0 411\r\n"
       ]
      },
      {
       "output_type": "stream",
       "stream": "stdout",
       "text": [
        "INSERT 0 3630\r\n",
        "INSERT 0 380\r\n",
        "INSERT 0 864\r\n",
        "INSERT 0 1372\r\n",
        "INSERT 0 3055\r\n",
        "INSERT 0 3788\r\n",
        "INSERT 0 1229\r\n",
        "INSERT 0 2197\r\n",
        "INSERT 0 1502\r\n"
       ]
      },
      {
       "output_type": "stream",
       "stream": "stdout",
       "text": [
        "INSERT 0 1174\r\n",
        "INSERT 0 1967\r\n",
        "INSERT 0 6113\r\n",
        "INSERT 0 1379\r\n",
        "INSERT 0 239\r\n",
        "INSERT 0 1871\r\n",
        "INSERT 0 538\r\n",
        "INSERT 0 1812\r\n",
        "INSERT 0 1819\r\n"
       ]
      },
      {
       "output_type": "stream",
       "stream": "stdout",
       "text": [
        "INSERT 0 1603\r\n",
        "INSERT 0 316\r\n",
        "INSERT 0 1589\r\n",
        "INSERT 0 129\r\n",
        "INSERT 0 1894\r\n",
        "INSERT 0 299\r\n",
        "INSERT 0 2419\r\n",
        "INSERT 0 946\r\n",
        "INSERT 0 2421\r\n"
       ]
      },
      {
       "output_type": "stream",
       "stream": "stdout",
       "text": [
        "INSERT 0 1802\r\n",
        "INSERT 0 1643\r\n",
        "INSERT 0 4812\r\n",
        "INSERT 0 2442\r\n",
        "INSERT 0 1382\r\n",
        "INSERT 0 1655\r\n",
        "INSERT 0 655\r\n",
        "INSERT 0 1731\r\n",
        "INSERT 0 350\r\n"
       ]
      },
      {
       "output_type": "stream",
       "stream": "stdout",
       "text": [
        "INSERT 0 1971\r\n",
        "INSERT 0 320\r\n",
        "INSERT 0 1291\r\n",
        "INSERT 0 154\r\n",
        "INSERT 0 1346\r\n",
        "INSERT 0 3926\r\n",
        "INSERT 0 1850\r\n",
        "INSERT 0 32\r\n",
        "INSERT 0 1265\r\n",
        "INSERT 0 414\r\n",
        "INSERT 0 2462\r\n",
        "INSERT 0 34\r\n"
       ]
      },
      {
       "output_type": "stream",
       "stream": "stdout",
       "text": [
        "INSERT 0 792\r\n",
        "INSERT 0 145\r\n",
        "INSERT 0 2189\r\n",
        "INSERT 0 142\r\n",
        "INSERT 0 1445\r\n",
        "INSERT 0 2530\r\n",
        "INSERT 0 947\r\n",
        "INSERT 0 591\r\n",
        "INSERT 0 2019\r\n",
        "INSERT 0 62\r\n",
        "INSERT 0 1410\r\n",
        "INSERT 0 555\r\n"
       ]
      },
      {
       "output_type": "stream",
       "stream": "stdout",
       "text": [
        "INSERT 0 1932\r\n",
        "INSERT 0 258\r\n",
        "INSERT 0 1245\r\n",
        "INSERT 0 591\r\n",
        "INSERT 0 1753\r\n",
        "INSERT 0 313\r\n",
        "INSERT 0 1433\r\n",
        "INSERT 0 795\r\n",
        "INSERT 0 1448\r\n",
        "INSERT 0 1736\r\n"
       ]
      },
      {
       "output_type": "stream",
       "stream": "stdout",
       "text": [
        "INSERT 0 2189\r\n",
        "INSERT 0 4555\r\n",
        "INSERT 0 3434\r\n",
        "INSERT 0 879\r\n",
        "INSERT 0 1346\r\n",
        "INSERT 0 554\r\n",
        "INSERT 0 1661\r\n"
       ]
      },
      {
       "output_type": "stream",
       "stream": "stdout",
       "text": [
        "INSERT 0 5350\r\n",
        "INSERT 0 2007\r\n",
        "INSERT 0 352\r\n",
        "INSERT 0 3485\r\n",
        "INSERT 0 5326\r\n",
        "INSERT 0 1119\r\n"
       ]
      },
      {
       "output_type": "stream",
       "stream": "stdout",
       "text": [
        "INSERT 0 1112\r\n",
        "INSERT 0 2783\r\n",
        "INSERT 0 1406\r\n",
        "INSERT 0 2617\r\n",
        "INSERT 0 1860\r\n",
        "INSERT 0 2318\r\n",
        "INSERT 0 272\r\n"
       ]
      },
      {
       "output_type": "stream",
       "stream": "stdout",
       "text": [
        "INSERT 0 2892\r\n",
        "INSERT 0 447\r\n",
        "INSERT 0 2495\r\n",
        "INSERT 0 95\r\n",
        "INSERT 0 2384\r\n",
        "INSERT 0 1343\r\n",
        "INSERT 0 2222\r\n",
        "INSERT 0 735\r\n"
       ]
      },
      {
       "output_type": "stream",
       "stream": "stdout",
       "text": [
        "INSERT 0 2099\r\n",
        "INSERT 0 203\r\n",
        "INSERT 0 1356\r\n",
        "INSERT 0 743\r\n",
        "INSERT 0 1572\r\n",
        "INSERT 0 518\r\n",
        "INSERT 0 2249\r\n",
        "INSERT 0 407\r\n",
        "INSERT 0 1539\r\n",
        "INSERT 0 1632\r\n",
        "INSERT 0 2514\r\n"
       ]
      },
      {
       "output_type": "stream",
       "stream": "stdout",
       "text": [
        "INSERT 0 308\r\n",
        "INSERT 0 1258\r\n",
        "INSERT 0 1534\r\n",
        "INSERT 0 3010\r\n",
        "INSERT 0 716\r\n",
        "INSERT 0 1965\r\n",
        "INSERT 0 412\r\n",
        "INSERT 0 1872\r\n"
       ]
      },
      {
       "output_type": "stream",
       "stream": "stdout",
       "text": [
        "INSERT 0 5398\r\n",
        "INSERT 0 577\r\n",
        "INSERT 0 2716\r\n",
        "INSERT 0 2752\r\n",
        "INSERT 0 85\r\n",
        "INSERT 0 1519\r\n",
        "INSERT 0 3048\r\n",
        "INSERT 0 2146\r\n",
        "INSERT 0 17\r\n",
        "INSERT 0 1827\r\n"
       ]
      },
      {
       "output_type": "stream",
       "stream": "stdout",
       "text": [
        "INSERT 0 341\r\n",
        "INSERT 0 2090\r\n",
        "INSERT 0 75\r\n",
        "INSERT 0 701\r\n",
        "INSERT 0 739\r\n",
        "INSERT 0 2432\r\n",
        "INSERT 0 210\r\n",
        "INSERT 0 1855\r\n",
        "INSERT 0 386\r\n"
       ]
      },
      {
       "output_type": "stream",
       "stream": "stdout",
       "text": [
        "INSERT 0 2808\r\n",
        "INSERT 0 5614\r\n",
        "INSERT 0 1043\r\n",
        "INSERT 0 28\r\n",
        "INSERT 0 1085\r\n",
        "INSERT 0 1110\r\n",
        "INSERT 0 2874\r\n"
       ]
      },
      {
       "output_type": "stream",
       "stream": "stdout",
       "text": [
        "INSERT 0 3190\r\n",
        "INSERT 0 1858\r\n",
        "INSERT 0 3963\r\n",
        "INSERT 0 1772\r\n",
        "INSERT 0 851\r\n",
        "INSERT 0 1965\r\n",
        "INSERT 0 430\r\n"
       ]
      },
      {
       "output_type": "stream",
       "stream": "stdout",
       "text": [
        "INSERT 0 3333\r\n",
        "INSERT 0 1861\r\n",
        "INSERT 0 2223\r\n",
        "INSERT 0 541\r\n",
        "INSERT 0 2517\r\n",
        "INSERT 0 5673\r\n"
       ]
      },
      {
       "output_type": "stream",
       "stream": "stdout",
       "text": [
        "INSERT 0 2051\r\n",
        "INSERT 0 1091\r\n",
        "INSERT 0 1564\r\n",
        "INSERT 0 2098\r\n",
        "INSERT 0 766\r\n",
        "INSERT 0 147\r\n",
        "INSERT 0 1527\r\n",
        "INSERT 0 194\r\n",
        "INSERT 0 1519\r\n",
        "INSERT 0 754\r\n",
        "INSERT 0 2445\r\n",
        "INSERT 0 183\r\n"
       ]
      },
      {
       "output_type": "stream",
       "stream": "stdout",
       "text": [
        "INSERT 0 1452\r\n",
        "INSERT 0 65\r\n",
        "INSERT 0 1522\r\n",
        "INSERT 0 1242\r\n",
        "INSERT 0 2026\r\n",
        "INSERT 0 493\r\n",
        "INSERT 0 2923\r\n",
        "INSERT 0 3157\r\n",
        "INSERT 0 1425\r\n",
        "INSERT 0 449\r\n"
       ]
      },
      {
       "output_type": "stream",
       "stream": "stdout",
       "text": [
        "INSERT 0 1668\r\n",
        "INSERT 0 388\r\n",
        "INSERT 0 848\r\n",
        "INSERT 0 220\r\n",
        "INSERT 0 1686\r\n",
        "INSERT 0 921\r\n",
        "INSERT 0 3077\r\n",
        "INSERT 0 913\r\n",
        "INSERT 0 2117\r\n",
        "INSERT 0 808\r\n"
       ]
      },
      {
       "output_type": "stream",
       "stream": "stdout",
       "text": [
        "INSERT 0 1524\r\n",
        "INSERT 0 1113\r\n",
        "INSERT 0 1415\r\n",
        "INSERT 0 942\r\n",
        "INSERT 0 1602\r\n",
        "INSERT 0 706\r\n",
        "INSERT 0 2343\r\n",
        "INSERT 0 726\r\n",
        "INSERT 0 1406\r\n",
        "INSERT 0 1213\r\n"
       ]
      },
      {
       "output_type": "stream",
       "stream": "stdout",
       "text": [
        "INSERT 0 2156\r\n",
        "INSERT 0 20\r\n",
        "INSERT 0 999\r\n",
        "INSERT 0 255\r\n",
        "INSERT 0 1069\r\n",
        "INSERT 0 15743\r\n"
       ]
      },
      {
       "output_type": "stream",
       "stream": "stdout",
       "text": [
        "INSERT 0 1783\r\n",
        "INSERT 0 599\r\n",
        "INSERT 0 810\r\n",
        "INSERT 0 10985\r\n",
        "INSERT 0 1576\r\n",
        "INSERT 0 1488\r\n",
        "INSERT 0 594\r\n",
        "INSERT 0 1863\r\n"
       ]
      },
      {
       "output_type": "stream",
       "stream": "stdout",
       "text": [
        "INSERT 0 2033\r\n",
        "INSERT 0 2914\r\n",
        "INSERT 0 1092\r\n",
        "INSERT 0 1934\r\n"
       ]
      },
      {
       "output_type": "stream",
       "stream": "stdout",
       "text": [
        "INSERT 0 1909\r\n",
        "INSERT 0 289\r\n",
        "INSERT 0 1345\r\n",
        "INSERT 0 3969\r\n",
        "INSERT 0 1028\r\n",
        "INSERT 0 525\r\n",
        "INSERT 0 2040\r\n",
        "INSERT 0 516\r\n"
       ]
      },
      {
       "output_type": "stream",
       "stream": "stdout",
       "text": [
        "INSERT 0 3650\r\n",
        "INSERT 0 850\r\n",
        "INSERT 0 1422\r\n",
        "INSERT 0 4940\r\n",
        "INSERT 0 2093\r\n",
        "INSERT 0 642\r\n",
        "INSERT 0 1154\r\n"
       ]
      },
      {
       "output_type": "stream",
       "stream": "stdout",
       "text": [
        "INSERT 0 198\r\n",
        "INSERT 0 1529\r\n",
        "INSERT 0 3566\r\n",
        "INSERT 0 1769\r\n",
        "INSERT 0 138\r\n",
        "INSERT 0 1668\r\n",
        "INSERT 0 3218\r\n",
        "INSERT 0 1986\r\n"
       ]
      },
      {
       "output_type": "stream",
       "stream": "stdout",
       "text": [
        "INSERT 0 7\r\n",
        "INSERT 0 759\r\n",
        "INSERT 0 1685\r\n",
        "INSERT 0 1846\r\n",
        "INSERT 0 478\r\n",
        "INSERT 0 3134\r\n",
        "INSERT 0 4408\r\n",
        "INSERT 0 1474\r\n"
       ]
      },
      {
       "output_type": "stream",
       "stream": "stdout",
       "text": [
        "INSERT 0 500\r\n",
        "INSERT 0 1510\r\n",
        "INSERT 0 190\r\n",
        "INSERT 0 2963\r\n",
        "INSERT 0 651\r\n",
        "INSERT 0 1617\r\n",
        "INSERT 0 285\r\n",
        "INSERT 0 1555\r\n",
        "INSERT 0 1772\r\n"
       ]
      },
      {
       "output_type": "stream",
       "stream": "stdout",
       "text": [
        "INSERT 0 1760\r\n",
        "INSERT 0 674\r\n",
        "INSERT 0 2182\r\n",
        "INSERT 0 36\r\n",
        "INSERT 0 2022\r\n",
        "INSERT 0 351\r\n",
        "INSERT 0 1223\r\n",
        "INSERT 0 2135\r\n",
        "INSERT 0 1411\r\n",
        "INSERT 0 29\r\n",
        "INSERT 0 1095\r\n",
        "INSERT 0 553\r\n"
       ]
      },
      {
       "output_type": "stream",
       "stream": "stdout",
       "text": [
        "INSERT 0 1729\r\n",
        "INSERT 0 2567\r\n",
        "INSERT 0 1495\r\n",
        "INSERT 0 5067\r\n",
        "INSERT 0 2289\r\n",
        "INSERT 0 863\r\n",
        "INSERT 0 1169\r\n"
       ]
      },
      {
       "output_type": "stream",
       "stream": "stdout",
       "text": [
        "INSERT 0 8401\r\n",
        "INSERT 0 2486\r\n",
        "INSERT 0 49\r\n",
        "INSERT 0 1570\r\n",
        "INSERT 0 395\r\n",
        "INSERT 0 1351\r\n",
        "INSERT 0 1457\r\n",
        "INSERT 0 1401\r\n",
        "INSERT 0 35\r\n",
        "INSERT 0 895\r\n",
        "INSERT 0 67\r\n"
       ]
      },
      {
       "output_type": "stream",
       "stream": "stdout",
       "text": [
        "INSERT 0 1659\r\n",
        "INSERT 0 279\r\n",
        "INSERT 0 1486\r\n",
        "INSERT 0 9774\r\n",
        "INSERT 0 2453\r\n",
        "INSERT 0 1056\r\n"
       ]
      },
      {
       "output_type": "stream",
       "stream": "stdout",
       "text": [
        "INSERT 0 2719\r\n",
        "INSERT 0 4111\r\n",
        "INSERT 0 2586\r\n",
        "INSERT 0 239\r\n",
        "INSERT 0 927\r\n",
        "INSERT 0 2122\r\n",
        "INSERT 0 1119\r\n",
        "INSERT 0 205\r\n",
        "INSERT 0 1482\r\n"
       ]
      },
      {
       "output_type": "stream",
       "stream": "stdout",
       "text": [
        "INSERT 0 1772\r\n",
        "INSERT 0 1764\r\n",
        "INSERT 0 3397\r\n",
        "INSERT 0 2359\r\n",
        "INSERT 0 30\r\n",
        "INSERT 0 982\r\n",
        "INSERT 0 737\r\n",
        "INSERT 0 2623\r\n"
       ]
      },
      {
       "output_type": "stream",
       "stream": "stdout",
       "text": [
        "INSERT 0 959\r\n",
        "INSERT 0 2150\r\n",
        "INSERT 0 453\r\n",
        "INSERT 0 3222\r\n",
        "INSERT 0 2835\r\n",
        "INSERT 0 1898\r\n",
        "INSERT 0 1213\r\n"
       ]
      },
      {
       "output_type": "stream",
       "stream": "stdout",
       "text": [
        "INSERT 0 1225\r\n",
        "INSERT 0 171\r\n",
        "INSERT 0 1412\r\n",
        "INSERT 0 3094\r\n",
        "INSERT 0 1395\r\n",
        "INSERT 0 157\r\n",
        "INSERT 0 1986\r\n",
        "INSERT 0 462\r\n",
        "INSERT 0 1499\r\n"
       ]
      },
      {
       "output_type": "stream",
       "stream": "stdout",
       "text": [
        "INSERT 0 9214\r\n",
        "INSERT 0 954\r\n",
        "INSERT 0 1432\r\n",
        "INSERT 0 2461\r\n",
        "INSERT 0 1409\r\n",
        "INSERT 0 1784\r\n",
        "INSERT 0 872\r\n"
       ]
      },
      {
       "output_type": "stream",
       "stream": "stdout",
       "text": [
        "INSERT 0 2576\r\n",
        "INSERT 0 331\r\n",
        "INSERT 0 1541\r\n",
        "INSERT 0 656\r\n",
        "INSERT 0 1945\r\n",
        "INSERT 0 1551\r\n",
        "INSERT 0 1788\r\n",
        "INSERT 0 250\r\n",
        "INSERT 0 2221\r\n",
        "INSERT 0 67\r\n"
       ]
      },
      {
       "output_type": "stream",
       "stream": "stdout",
       "text": [
        "INSERT 0 1409\r\n",
        "INSERT 0 2625\r\n",
        "INSERT 0 2102\r\n",
        "INSERT 0 2088\r\n",
        "INSERT 0 2489\r\n",
        "INSERT 0 724\r\n",
        "INSERT 0 2465\r\n",
        "INSERT 0 341\r\n"
       ]
      },
      {
       "output_type": "stream",
       "stream": "stdout",
       "text": [
        "INSERT 0 1867\r\n",
        "INSERT 0 2343\r\n",
        "INSERT 0 1733\r\n",
        "INSERT 0 453\r\n",
        "INSERT 0 1509\r\n",
        "INSERT 0 168\r\n",
        "INSERT 0 1586\r\n",
        "INSERT 0 37\r\n",
        "INSERT 0 944\r\n"
       ]
      },
      {
       "output_type": "stream",
       "stream": "stdout",
       "text": [
        "INSERT 0 631\r\n",
        "INSERT 0 1307\r\n",
        "INSERT 0 183\r\n",
        "INSERT 0 1323\r\n",
        "INSERT 0 1764\r\n",
        "INSERT 0 1202\r\n",
        "INSERT 0 2509\r\n",
        "INSERT 0 1166\r\n",
        "INSERT 0 1306\r\n",
        "INSERT 0 2184\r\n",
        "INSERT 0 62\r\n"
       ]
      },
      {
       "output_type": "stream",
       "stream": "stdout",
       "text": [
        "INSERT 0 1661\r\n",
        "INSERT 0 127\r\n",
        "INSERT 0 1409\r\n",
        "INSERT 0 2704\r\n",
        "INSERT 0 1640\r\n",
        "INSERT 0 156\r\n",
        "INSERT 0 1398\r\n",
        "INSERT 0 1880\r\n",
        "INSERT 0 1530\r\n",
        "INSERT 0 266\r\n",
        "INSERT 0 575\r\n",
        "INSERT 0 152\r\n"
       ]
      },
      {
       "output_type": "stream",
       "stream": "stdout",
       "text": [
        "INSERT 0 1445\r\n",
        "INSERT 0 4373\r\n"
       ]
      },
      {
       "output_type": "stream",
       "stream": "stdout",
       "text": [
        "INSERT 0 3040\r\n",
        "INSERT 0 271\r\n",
        "INSERT 0 1644\r\n",
        "INSERT 0 536\r\n",
        "INSERT 0 964\r\n"
       ]
      },
      {
       "output_type": "stream",
       "stream": "stdout",
       "text": [
        "INSERT 0 844\r\n",
        "INSERT 0 812\r\n",
        "INSERT 0 1260\r\n",
        "INSERT 0 1194\r\n",
        "INSERT 0 266\r\n",
        "INSERT 0 991\r\n",
        "INSERT 0 156\r\n",
        "INSERT 0 936\r\n",
        "INSERT 0 800\r\n",
        "INSERT 0 1063\r\n",
        "INSERT 0 127\r\n",
        "INSERT 0 1595\r\n",
        "INSERT 0 2624\r\n"
       ]
      },
      {
       "output_type": "stream",
       "stream": "stdout",
       "text": [
        "INSERT 0 2167\r\n",
        "INSERT 0 1782\r\n",
        "INSERT 0 2443\r\n",
        "INSERT 0 96\r\n",
        "INSERT 0 692\r\n",
        "INSERT 0 574\r\n",
        "INSERT 0 1655\r\n",
        "INSERT 0 1568\r\n",
        "INSERT 0 1726\r\n",
        "INSERT 0 2105\r\n"
       ]
      },
      {
       "output_type": "stream",
       "stream": "stdout",
       "text": [
        "INSERT 0 2553\r\n",
        "INSERT 0 145\r\n",
        "INSERT 0 1399\r\n",
        "INSERT 0 518\r\n",
        "INSERT 0 1804\r\n",
        "INSERT 0 6125\r\n",
        "INSERT 0 1253\r\n"
       ]
      },
      {
       "output_type": "stream",
       "stream": "stdout",
       "text": [
        "INSERT 0 337\r\n",
        "INSERT 0 1493\r\n",
        "INSERT 0 144\r\n",
        "INSERT 0 1655\r\n",
        "INSERT 0 1669\r\n",
        "INSERT 0 1631\r\n",
        "INSERT 0 1110\r\n",
        "INSERT 0 1656\r\n",
        "INSERT 0 727\r\n",
        "INSERT 0 1921\r\n"
       ]
      },
      {
       "output_type": "stream",
       "stream": "stdout",
       "text": [
        "INSERT 0 133\r\n",
        "INSERT 0 2495\r\n",
        "INSERT 0 277\r\n",
        "INSERT 0 2194\r\n",
        "INSERT 0 223\r\n",
        "INSERT 0 1566\r\n",
        "INSERT 0 130\r\n",
        "INSERT 0 1650\r\n",
        "INSERT 0 607\r\n",
        "INSERT 0 1270\r\n"
       ]
      },
      {
       "output_type": "stream",
       "stream": "stdout",
       "text": [
        "INSERT 0 17497\r\n",
        "INSERT 0 1813\r\n",
        "INSERT 0 2895\r\n"
       ]
      },
      {
       "output_type": "stream",
       "stream": "stdout",
       "text": [
        "INSERT 0 1506\r\n",
        "INSERT 0 980\r\n",
        "INSERT 0 2150\r\n",
        "INSERT 0 9185\r\n",
        "INSERT 0 1769\r\n",
        "INSERT 0 170\r\n",
        "INSERT 0 1679\r\n"
       ]
      },
      {
       "output_type": "stream",
       "stream": "stdout",
       "text": [
        "INSERT 0 6858\r\n",
        "INSERT 0 1505\r\n",
        "INSERT 0 7203\r\n",
        "INSERT 0 833\r\n",
        "INSERT 0 2045\r\n"
       ]
      },
      {
       "output_type": "stream",
       "stream": "stdout",
       "text": [
        "INSERT 0 1963\r\n",
        "INSERT 0 11096\r\n",
        "INSERT 0 2501\r\n",
        "INSERT 0 5262\r\n"
       ]
      },
      {
       "output_type": "stream",
       "stream": "stdout",
       "text": [
        "INSERT 0 1758\r\n",
        "INSERT 0 1413\r\n",
        "INSERT 0 1503\r\n",
        "INSERT 0 439\r\n",
        "INSERT 0 766\r\n",
        "INSERT 0 1182\r\n",
        "INSERT 0 847\r\n",
        "INSERT 0 85\r\n",
        "INSERT 0 817\r\n",
        "INSERT 0 508\r\n",
        "INSERT 0 1574\r\n",
        "INSERT 0 310\r\n",
        "INSERT 0 1968\r\n",
        "INSERT 0 180\r\n"
       ]
      },
      {
       "output_type": "stream",
       "stream": "stdout",
       "text": [
        "INSERT 0 1202\r\n",
        "INSERT 0 8933\r\n",
        "INSERT 0 1643\r\n",
        "INSERT 0 148\r\n",
        "INSERT 0 2511\r\n",
        "INSERT 0 571\r\n",
        "INSERT 0 628\r\n",
        "INSERT 0 70\r\n",
        "INSERT 0 1462\r\n"
       ]
      },
      {
       "output_type": "stream",
       "stream": "stdout",
       "text": [
        "INSERT 0 32\r\n",
        "INSERT 0 845\r\n",
        "INSERT 0 51\r\n",
        "INSERT 0 1140\r\n",
        "INSERT 0 497\r\n",
        "INSERT 0 2456\r\n",
        "INSERT 0 218\r\n",
        "INSERT 0 1901\r\n",
        "INSERT 0 442\r\n",
        "INSERT 0 1675\r\n"
       ]
      },
      {
       "output_type": "stream",
       "stream": "stdout",
       "text": [
        "INSERT 0 826\r\n",
        "INSERT 0 1376\r\n",
        "INSERT 0 423\r\n",
        "INSERT 0 1798\r\n",
        "INSERT 0 4412\r\n",
        "INSERT 0 1331\r\n"
       ]
      },
      {
       "output_type": "stream",
       "stream": "stdout",
       "text": [
        "INSERT 0 10579\r\n",
        "INSERT 0 1555\r\n",
        "INSERT 0 433\r\n",
        "INSERT 0 1460\r\n",
        "INSERT 0 631\r\n",
        "INSERT 0 1714\r\n",
        "INSERT 0 2416\r\n",
        "INSERT 0 1591\r\n",
        "INSERT 0 84\r\n"
       ]
      },
      {
       "output_type": "stream",
       "stream": "stdout",
       "text": [
        "INSERT 0 1597\r\n",
        "INSERT 0 4220\r\n",
        "INSERT 0 2453\r\n",
        "INSERT 0 1096\r\n",
        "INSERT 0 1484\r\n",
        "INSERT 0 762\r\n"
       ]
      },
      {
       "output_type": "stream",
       "stream": "stdout",
       "text": [
        "INSERT 0 2617\r\n",
        "INSERT 0 106\r\n",
        "INSERT 0 1570\r\n",
        "INSERT 0 284\r\n",
        "INSERT 0 2662\r\n",
        "INSERT 0 754\r\n",
        "INSERT 0 1703\r\n",
        "INSERT 0 808\r\n"
       ]
      },
      {
       "output_type": "stream",
       "stream": "stdout",
       "text": [
        "INSERT 0 1107\r\n",
        "INSERT 0 288\r\n",
        "INSERT 0 1520\r\n",
        "INSERT 0 2368\r\n",
        "INSERT 0 1316\r\n",
        "INSERT 0 1752\r\n",
        "INSERT 0 657\r\n",
        "INSERT 0 3402\r\n"
       ]
      },
      {
       "output_type": "stream",
       "stream": "stdout",
       "text": [
        "INSERT 0 2718\r\n",
        "INSERT 0 713\r\n",
        "INSERT 0 3189\r\n",
        "INSERT 0 546\r\n",
        "INSERT 0 2222\r\n",
        "INSERT 0 580\r\n",
        "INSERT 0 1340\r\n",
        "INSERT 0 1143\r\n",
        "INSERT 0 1610\r\n",
        "INSERT 0 1415\r\n"
       ]
      },
      {
       "output_type": "stream",
       "stream": "stdout",
       "text": [
        "INSERT 0 2164\r\n",
        "INSERT 0 1645\r\n",
        "INSERT 0 2230\r\n",
        "INSERT 0 873\r\n",
        "INSERT 0 2120\r\n",
        "INSERT 0 195\r\n",
        "INSERT 0 1545\r\n",
        "INSERT 0 912\r\n",
        "INSERT 0 1268\r\n"
       ]
      },
      {
       "output_type": "stream",
       "stream": "stdout",
       "text": [
        "INSERT 0 310\r\n",
        "INSERT 0 2354\r\n",
        "INSERT 0 208\r\n",
        "INSERT 0 2364\r\n",
        "INSERT 0 2895\r\n",
        "INSERT 0 2925\r\n",
        "INSERT 0 200\r\n"
       ]
      },
      {
       "output_type": "stream",
       "stream": "stdout",
       "text": [
        "INSERT 0 952\r\n",
        "INSERT 0 1407\r\n",
        "INSERT 0 1859\r\n",
        "INSERT 0 105\r\n",
        "INSERT 0 1343\r\n",
        "INSERT 0 512\r\n",
        "INSERT 0 2765\r\n",
        "INSERT 0 1074\r\n"
       ]
      },
      {
       "output_type": "stream",
       "stream": "stdout",
       "text": [
        "INSERT 0 1480\r\n",
        "INSERT 0 392\r\n",
        "INSERT 0 2838\r\n",
        "INSERT 0 70\r\n",
        "INSERT 0 862\r\n",
        "INSERT 0 818\r\n",
        "INSERT 0 1988\r\n",
        "INSERT 0 2751\r\n",
        "INSERT 0 1783\r\n",
        "INSERT 0 288\r\n"
       ]
      },
      {
       "output_type": "stream",
       "stream": "stdout",
       "text": [
        "INSERT 0 1895\r\n",
        "INSERT 0 1532\r\n",
        "INSERT 0 1609\r\n",
        "INSERT 0 2565\r\n",
        "INSERT 0 1972\r\n",
        "INSERT 0 201\r\n",
        "INSERT 0 1266\r\n",
        "INSERT 0 479\r\n",
        "INSERT 0 1934\r\n",
        "INSERT 0 435\r\n"
       ]
      },
      {
       "output_type": "stream",
       "stream": "stdout",
       "text": [
        "INSERT 0 2119\r\n",
        "INSERT 0 1544\r\n",
        "INSERT 0 1805\r\n",
        "INSERT 0 1961\r\n",
        "INSERT 0 1652\r\n",
        "INSERT 0 3880\r\n",
        "INSERT 0 1605\r\n"
       ]
      },
      {
       "output_type": "stream",
       "stream": "stdout",
       "text": [
        "INSERT 0 3524\r\n",
        "INSERT 0 2663\r\n",
        "INSERT 0 1789\r\n",
        "INSERT 0 2122\r\n",
        "INSERT 0 1012\r\n",
        "INSERT 0 2316\r\n",
        "INSERT 0 869\r\n"
       ]
      },
      {
       "output_type": "stream",
       "stream": "stdout",
       "text": [
        "INSERT 0 2816\r\n",
        "INSERT 0 901\r\n",
        "INSERT 0 3061\r\n",
        "INSERT 0 6563\r\n",
        "INSERT 0 2436\r\n",
        "INSERT 0 1263\r\n"
       ]
      },
      {
       "output_type": "stream",
       "stream": "stdout",
       "text": [
        "INSERT 0 1359\r\n",
        "INSERT 0 1982\r\n",
        "INSERT 0 656\r\n",
        "INSERT 0 86\r\n",
        "INSERT 0 1309\r\n",
        "INSERT 0 998\r\n",
        "INSERT 0 1723\r\n",
        "INSERT 0 1438\r\n",
        "INSERT 0 1969\r\n",
        "INSERT 0 571\r\n",
        "INSERT 0 2119\r\n"
       ]
      },
      {
       "output_type": "stream",
       "stream": "stdout",
       "text": [
        "INSERT 0 1786\r\n",
        "INSERT 0 2358\r\n",
        "INSERT 0 176\r\n",
        "INSERT 0 1207\r\n",
        "INSERT 0 1047\r\n",
        "INSERT 0 1366\r\n",
        "INSERT 0 1506\r\n",
        "INSERT 0 2320\r\n",
        "INSERT 0 168\r\n",
        "INSERT 0 1591\r\n"
       ]
      },
      {
       "output_type": "stream",
       "stream": "stdout",
       "text": [
        "INSERT 0 107\r\n",
        "INSERT 0 1317\r\n",
        "INSERT 0 76\r\n",
        "INSERT 0 1255\r\n",
        "INSERT 0 1545\r\n",
        "INSERT 0 2079\r\n",
        "INSERT 0 676\r\n",
        "INSERT 0 1430\r\n",
        "INSERT 0 1542\r\n",
        "INSERT 0 1580\r\n"
       ]
      }
     ],
     "prompt_number": 15
    },
    {
     "cell_type": "code",
     "collapsed": false,
     "input": [],
     "language": "python",
     "metadata": {},
     "outputs": []
    }
   ],
   "metadata": {}
  }
 ]
}