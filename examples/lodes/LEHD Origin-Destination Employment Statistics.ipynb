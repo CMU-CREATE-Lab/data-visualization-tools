{
 "metadata": {
  "name": "",
  "signature": "sha256:5aa908d58d22adc32a276727743b2b0969e15d57cdab952302991438a13ac07e"
 },
 "nbformat": 3,
 "nbformat_minor": 0,
 "worksheets": [
  {
   "cells": [
    {
     "cell_type": "code",
     "collapsed": false,
     "input": [
      "#Download PA tabblocks\n",
      "import os, urllib2, zipfile\n",
      "\n",
      "def init_capture(capture_dir):\n",
      "    # Create capture dir if it doesn't exist\n",
      "    if not os.path.exists(capture_dir):\n",
      "        os.makedirs(capture_dir)\n",
      "\n",
      "def download_file(url, filename):\n",
      "    try:\n",
      "        f = urllib2.urlopen(url)\n",
      "        with open(filename, \"wb\") as local_file:\n",
      "            local_file.write(f.read())\n",
      "    except:\n",
      "        print \"Failed to download %s\" % url\n",
      "\n",
      "def format_tabblock_url(state):\n",
      "    # URL for FIPS and GNIS codes file -- https://www.census.gov/geo/reference/docs/state.txt'\n",
      "    return 'ftp://ftp2.census.gov/geo/tiger/TIGER2010/TABBLOCK/2010/tl_2010_{0}_tabblock10.zip'.format(state)\n",
      "\n",
      "def format_lodes7_od_url(st, part, t, year):\n",
      "    #http://lehd.ces.census.gov/data/lodes/LODES7/LODESTechDoc7.0.pdf\n",
      "    return 'http://lehd.ces.census.gov/data/lodes/LODES7/{0}/od/{0}_od_{1}_{2}_{3}.csv.gz'.format(st, part, t, year)\n",
      "\n",
      "\n",
      "def unzip_tabblock(filename):\n",
      "    exdir = filename.split('.')[0]\n",
      "    !unzip $filename -d $exdir\n",
      "\n",
      "def gunzip_lodes7(filename):\n",
      "    !gunzip $filename\n",
      "\n"
     ],
     "language": "python",
     "metadata": {},
     "outputs": [],
     "prompt_number": 1
    },
    {
     "cell_type": "code",
     "collapsed": false,
     "input": [
      "capture_dir = \"capture/tabblock_2010/\"\n",
      "pa_id = 42\n",
      "init_capture(capture_dir)\n",
      "pa_url = format_tabblock_url(pa_id)\n",
      "pa_filename = capture_dir + os.path.basename(pa_url)\n",
      "download_file(pa_url, pa_filename)\n",
      "unzip_tabblock(pa_filename)"
     ],
     "language": "python",
     "metadata": {},
     "outputs": [
      {
       "output_type": "stream",
       "stream": "stdout",
       "text": [
        "Archive:  capture/tabblock_2010/tl_2010_42_tabblock10.zip\r\n",
        "  inflating: capture/tabblock_2010/tl_2010_42_tabblock10/tl_2010_42_tabblock10.dbf  "
       ]
      },
      {
       "output_type": "stream",
       "stream": "stdout",
       "text": [
        "\r\n",
        "  inflating: capture/tabblock_2010/tl_2010_42_tabblock10/tl_2010_42_tabblock10.prj  \r\n",
        "  inflating: capture/tabblock_2010/tl_2010_42_tabblock10/tl_2010_42_tabblock10.shp  "
       ]
      },
      {
       "output_type": "stream",
       "stream": "stdout",
       "text": [
        "\r\n",
        "  inflating: capture/tabblock_2010/tl_2010_42_tabblock10/tl_2010_42_tabblock10.shp.xml  \r\n",
        "  inflating: capture/tabblock_2010/tl_2010_42_tabblock10/tl_2010_42_tabblock10.shx  "
       ]
      },
      {
       "output_type": "stream",
       "stream": "stdout",
       "text": [
        "\r\n"
       ]
      }
     ],
     "prompt_number": 6
    },
    {
     "cell_type": "code",
     "collapsed": false,
     "input": [
      "#shp2pgsql -I -s 4269:900913 capture/tabblock_2010/tl_2010_42_tabblock10/tl_2010_42_tabblock10.shp tl_2010_42_tabblock10 | psql -q -d lodes_tl_2010"
     ],
     "language": "python",
     "metadata": {},
     "outputs": [],
     "prompt_number": 1
    },
    {
     "cell_type": "code",
     "collapsed": false,
     "input": [
      "dir = \"capture/lodes7/pa/\"\n",
      "init_capture(dir)\n",
      "url = format_lodes7_od_url('pa', 'main', 'JT00', '2011')\n",
      "download_file(url, dir+os.path.basename(url)) \n",
      "gunzip_lodes7(dir+os.path.basename(url))"
     ],
     "language": "python",
     "metadata": {},
     "outputs": [],
     "prompt_number": 11
    },
    {
     "cell_type": "markdown",
     "metadata": {},
     "source": [
      "<pre>\n",
      "psql -d lodes_tl_2010\n",
      "</pre>\n",
      "<pre>\n",
      "CREATE TABLE pa_od_main_JT00_2011 (\n",
      "    gid serial NOT NULL,\n",
      "    w_geocode character varying(15),\n",
      "    h_geocode character varying(15),\n",
      "    S000 integer,\n",
      "    SA01 integer,\n",
      "    SA02 integer,\n",
      "    SA03 integer,\n",
      "    SE01 integer,\n",
      "    SE02 integer,\n",
      "    SE03 integer,\n",
      "    SI01 integer,\n",
      "    SI02 integer,\n",
      "    SI03 integer,\n",
      "    createdate character varying(8)\n",
      ");\n",
      "</pre>\n",
      "<pre>\n",
      "COPY pa_od_main_JT00_2011(w_geocode,h_geocode,S000,SA01,SA02,SA03,SE01,SE02,SE03,SI01,SI02,SI03,createdate) FROM '/Users/gabrielo/Code/data-visualization-tools/examples/lodes/capture/lodes7/pa/pa_od_main_JT00_2011.csv' DELIMITER ',' CSV HEADER;\n",
      "</pre>"
     ]
    },
    {
     "cell_type": "code",
     "collapsed": false,
     "input": [
      "import math\n",
      "from shapely.geometry import *\n",
      "from shapely.wkb import loads\n",
      "from TileStache.Goodies.VecTiles.ops import transform\n",
      "def LonLatToPixelXY(lonlat, scale = 1.):\n",
      "    (lon, lat) = lonlat\n",
      "    x = (lon + 180.0) * 256.0 / 360.0\n",
      "    y = 128.0 - math.log(math.tan((lat + 90.0) * math.pi / 360.0)) * 128.0 / math.pi\n",
      "    return [x*scale, y*scale]"
     ],
     "language": "python",
     "metadata": {},
     "outputs": [],
     "prompt_number": 2
    },
    {
     "cell_type": "code",
     "collapsed": false,
     "input": [
      "import psycopg2\n",
      "data = []\n",
      "conn = psycopg2.connect(\"dbname=lodes_tl_2010\")\n",
      "cur = conn.cursor()\n",
      "query = \"SELECT ST_Transform(ST_Centroid(work.geom),4326), ST_Transform(ST_Centroid(home.geom),4326), pa.s000 FROM pa_od_main_jt00_2011 pa, tl_2010_42_tabblock10 work,tl_2010_42_tabblock10 home WHERE pa.w_geocode = work.geoid10 AND pa.h_geocode = home.geoid10\"\n",
      "cur.execute(query)\n",
      "\n",
      "for row in cur.fetchall():\n",
      "    data += LonLatToPixelXY(loads(row[0],True).__geo_interface__['coordinates'])\n",
      "    data += LonLatToPixelXY(loads(row[1],True).__geo_interface__['coordinates'])\n",
      "    data.append(row[2])\n",
      "cur.close()\n",
      "conn.close()\n",
      "\n"
     ],
     "language": "python",
     "metadata": {},
     "outputs": [],
     "prompt_number": 144
    },
    {
     "cell_type": "code",
     "collapsed": false,
     "input": [
      "import array\n",
      "dest = 'pa_od_main_jt00_2011.bin'\n",
      "array.array('f', data).tofile(open(dest, 'w'))"
     ],
     "language": "python",
     "metadata": {},
     "outputs": [],
     "prompt_number": 146
    },
    {
     "cell_type": "code",
     "collapsed": false,
     "input": [
      "import psycopg2\n",
      "data = []\n",
      "conn = psycopg2.connect(\"dbname=lodes_tl_2010\")\n",
      "cur = conn.cursor()\n",
      "query = \"SELECT ST_Transform(ST_Centroid(work.geom),4326), ST_Transform(ST_Centroid(home.geom),4326), ST_Distance_Sphere(ST_Transform(ST_Centroid(work.geom),4326), ST_Transform(ST_Centroid(home.geom),4326)), pa.s000, pa.se01, pa.se02, pa.se03 FROM pa_od_main_jt00_2011 pa, tl_2010_42_tabblock10 work,tl_2010_42_tabblock10 home WHERE pa.w_geocode = work.geoid10 AND pa.h_geocode = home.geoid10\"\n",
      "cur.execute(query)\n",
      "\n",
      "for row in cur.fetchall():\n",
      "    data += LonLatToPixelXY(loads(row[0],True).__geo_interface__['coordinates'])\n",
      "    data += LonLatToPixelXY(loads(row[1],True).__geo_interface__['coordinates'])\n",
      "    data.append(row[2])\n",
      "    data.append(row[3])\n",
      "    data.append(row[4])\n",
      "    data.append(row[5])\n",
      "    data.append(row[6])\n",
      "\n",
      "cur.close()\n",
      "conn.close()\n",
      "\n",
      "import array\n",
      "dest = 'pa_od_main_jt00_2011-dist-and-earnings.bin'\n",
      "array.array('f', data).tofile(open(dest, 'w'))"
     ],
     "language": "python",
     "metadata": {},
     "outputs": [],
     "prompt_number": 3
    },
    {
     "cell_type": "code",
     "collapsed": false,
     "input": [
      "import psycopg2\n",
      "rows = []\n",
      "conn = psycopg2.connect(\"dbname=lodes_tl_2010\")\n",
      "cur = conn.cursor()\n",
      "query = \"SELECT ST_Transform(work.geom,4326), ST_Transform(home.geom,4326), ST_Distance_Sphere(ST_Transform(ST_Centroid(work.geom),4326), ST_Transform(ST_Centroid(home.geom),4326)), pa.s000, pa.se01, pa.se02, pa.se03 FROM pa_od_main_jt00_2011 pa, tl_2010_42_tabblock10 work,tl_2010_42_tabblock10 home WHERE pa.w_geocode = work.geoid10 AND pa.h_geocode = home.geoid10\"\n",
      "cur.execute(query)\n",
      "rows = cur.fetchall()\n",
      "cur.close()\n",
      "conn.close()\n",
      "\n",
      "from random import uniform\n",
      "\n",
      "def randomPoint(geom):\n",
      "    poly = loads(geom, True)\n",
      "    bbox = poly.bounds\n",
      "    l,b,r,t = bbox\n",
      "    while True:\n",
      "        point = Point(uniform(l,r),uniform(t,b))\n",
      "        if point is None:\n",
      "            break\n",
      "        if poly.contains(point):\n",
      "            break\n",
      "    return point.__geo_interface__['coordinates']\n",
      "\n",
      "data = []\n",
      "pp = 0\n",
      "for row in rows:\n",
      "    workGeom = row[0]\n",
      "    homeGeom = row[1]\n",
      "    distance = row[2]\n",
      "    total = row[3]\n",
      "    se01 = row[4]\n",
      "    se02 = row[5]\n",
      "    se03 = row[6]\n",
      "    pp += total\n",
      "    for i in range(se01):\n",
      "        wpoint = randomPoint(workGeom)\n",
      "        hpoint = randomPoint(homeGeom)\n",
      "        data += LonLatToPixelXY(wpoint)\n",
      "        data += LonLatToPixelXY(hpoint)\n",
      "        data.append(distance)\n",
      "        data.append(total)\n",
      "        data.append(se01)\n",
      "        data.append(se02)\n",
      "        data.append(se03)\n",
      "    \n",
      "    for i in range(se02):\n",
      "        wpoint = randomPoint(workGeom)\n",
      "        hpoint = randomPoint(homeGeom)\n",
      "        data += LonLatToPixelXY(wpoint)\n",
      "        data += LonLatToPixelXY(hpoint)\n",
      "        data.append(distance)\n",
      "        data.append(total)\n",
      "        data.append(se01)\n",
      "        data.append(se02)\n",
      "        data.append(se03)\n",
      "\n",
      "    for i in range(se03):\n",
      "        wpoint = randomPoint(workGeom)\n",
      "        hpoint = randomPoint(homeGeom)\n",
      "        data += LonLatToPixelXY(wpoint)\n",
      "        data += LonLatToPixelXY(hpoint)\n",
      "        data.append(distance)\n",
      "        data.append(total)\n",
      "        data.append(se01)\n",
      "        data.append(se02)\n",
      "        data.append(se03)\n",
      "\n",
      "print len(data) / 7"
     ],
     "language": "python",
     "metadata": {},
     "outputs": []
    },
    {
     "cell_type": "code",
     "collapsed": false,
     "input": [
      "# now do the file io shit"
     ],
     "language": "python",
     "metadata": {},
     "outputs": []
    },
    {
     "cell_type": "code",
     "collapsed": false,
     "input": [
      "from random import uniform\n",
      "\n",
      "def randomPoint(geom):\n",
      "    poly = loads(geom, True)\n",
      "    bbox = poly.bounds\n",
      "    l,b,r,t = bbox\n",
      "    while True:\n",
      "        point = Point(uniform(l,r),uniform(t,b))\n",
      "        if point is None:\n",
      "            break\n",
      "        if poly.contains(point):\n",
      "            break\n",
      "    return point.__geo_interface__['coordinates']\n",
      "\n",
      "data = []\n",
      "pp = 0\n",
      "i = 0\n",
      "for row in rows:\n",
      "    print i\n",
      "    i += 1\n",
      "    workGeom = row[0]\n",
      "    homeGeom = row[1]\n",
      "    distance = row[2]\n",
      "    total = row[3]\n",
      "    se01 = row[4]\n",
      "    se02 = row[5]\n",
      "    se03 = row[6]\n",
      "    pp += total\n",
      "    for i in range(se01):\n",
      "        wpoint = randomPoint(workGeom)\n",
      "        hpoint = randomPoint(homeGeom)\n",
      "        data += LonLatToPixelXY(wpoint)\n",
      "        data += LonLatToPixelXY(hpoint)\n",
      "        data.append(distance)\n",
      "        data.append(total)\n",
      "        data.append(se01)\n",
      "        data.append(se02)\n",
      "        data.append(se03)\n",
      "    \n",
      "    for i in range(se02):\n",
      "        wpoint = randomPoint(workGeom)\n",
      "        hpoint = randomPoint(homeGeom)\n",
      "        data += LonLatToPixelXY(wpoint)\n",
      "        data += LonLatToPixelXY(hpoint)\n",
      "        data.append(distance)\n",
      "        data.append(total)\n",
      "        data.append(se01)\n",
      "        data.append(se02)\n",
      "        data.append(se03)\n",
      "\n",
      "    for i in range(se03):\n",
      "        wpoint = randomPoint(workGeom)\n",
      "        hpoint = randomPoint(homeGeom)\n",
      "        data += LonLatToPixelXY(wpoint)\n",
      "        data += LonLatToPixelXY(hpoint)\n",
      "        data.append(distance)\n",
      "        data.append(total)\n",
      "        data.append(se01)\n",
      "        data.append(se02)\n",
      "        data.append(se03)\n",
      "\n",
      "print len(data) / 7"
     ],
     "language": "python",
     "metadata": {},
     "outputs": []
    },
    {
     "cell_type": "code",
     "collapsed": false,
     "input": [
      "import array, os\n",
      "file = 'pa_od_main_jt00_2011-all-points.bin'\n",
      "input = open(file, 'rb')\n",
      "n = int(os.path.getsize(file)/4)\n",
      "input.seek(0)\n",
      "data = array.array('f')\n",
      "data.fromfile(input,n)\n",
      "input.close()"
     ],
     "language": "python",
     "metadata": {},
     "outputs": [],
     "prompt_number": 48
    },
    {
     "cell_type": "code",
     "collapsed": false,
     "input": [
      "def split_list(alist, wanted_parts=1):\n",
      "    length = len(alist)\n",
      "    return [ alist[i*length // wanted_parts: (i+1)*length // wanted_parts] \n",
      "             for i in range(wanted_parts) ]\n",
      "split = split_list(data,n/9)\n",
      "print split[0]"
     ],
     "language": "python",
     "metadata": {},
     "outputs": [
      {
       "output_type": "stream",
       "stream": "stdout",
       "text": [
        "array('f', [73.13717651367188, 96.87601470947266, 72.40361022949219, 96.72621154785156, 89590.0078125, 1.0, 0.0, 1.0, 0.0])\n"
       ]
      }
     ],
     "prompt_number": 52
    },
    {
     "cell_type": "code",
     "collapsed": false,
     "input": [
      "import random\n",
      "random.shuffle(split)\n",
      "print split[0]\n",
      "data = []\n",
      "for x in split:\n",
      "    for y in x:\n",
      "        data += [y]\n",
      "\n",
      "dest = 'pa_od_main_jt00_2011-all-points-randomized.bin'\n",
      "array.array('f', data).tofile(open(dest, 'w'))"
     ],
     "language": "python",
     "metadata": {},
     "outputs": [
      {
       "output_type": "stream",
       "stream": "stdout",
       "text": [
        "array('f', [74.30619049072266, 96.3187484741211, 74.2774887084961, 96.28541564941406, 5023.34130859375, 1.0, 0.0, 0.0, 1.0])\n"
       ]
      }
     ],
     "prompt_number": 60
    },
    {
     "cell_type": "code",
     "collapsed": false,
     "input": [],
     "language": "python",
     "metadata": {},
     "outputs": [],
     "prompt_number": 56
    },
    {
     "cell_type": "code",
     "collapsed": false,
     "input": [],
     "language": "python",
     "metadata": {},
     "outputs": []
    }
   ],
   "metadata": {}
  }
 ]
}