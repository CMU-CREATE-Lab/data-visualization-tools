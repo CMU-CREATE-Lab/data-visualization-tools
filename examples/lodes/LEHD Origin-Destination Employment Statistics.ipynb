{
 "metadata": {
  "name": "",
  "signature": "sha256:c416a5929deafd546dfe0f8dae09e45862b4553f5dc5c8534de00ac0e415bb5a"
 },
 "nbformat": 3,
 "nbformat_minor": 0,
 "worksheets": [
  {
   "cells": [
    {
     "cell_type": "code",
     "collapsed": false,
     "input": [
      "#Download PA tabblocks\n",
      "import os, urllib2, zipfile\n",
      "\n",
      "def init_capture(capture_dir):\n",
      "    # Create capture dir if it doesn't exist\n",
      "    if not os.path.exists(capture_dir):\n",
      "        os.makedirs(capture_dir)\n",
      "\n",
      "def download_file(url, filename):\n",
      "    try:\n",
      "        f = urllib2.urlopen(url)\n",
      "        with open(filename, \"wb\") as local_file:\n",
      "            local_file.write(f.read())\n",
      "    except:\n",
      "        print \"Failed to download %s\" % url\n",
      "\n",
      "def format_tabblock_url(state):\n",
      "    # URL for FIPS and GNIS codes file -- https://www.census.gov/geo/reference/docs/state.txt'\n",
      "    return 'ftp://ftp2.census.gov/geo/tiger/TIGER2010/TABBLOCK/2010/tl_2010_{0}_tabblock10.zip'.format(state)\n",
      "\n",
      "def format_lodes7_od_url(st, part, t, year):\n",
      "    #http://lehd.ces.census.gov/data/lodes/LODES7/LODESTechDoc7.0.pdf\n",
      "    return 'http://lehd.ces.census.gov/data/lodes/LODES7/{0}/od/{0}_od_{1}_{2}_{3}.csv.gz'.format(st, part, t, year)\n",
      "\n",
      "\n",
      "def unzip_tabblock(filename):\n",
      "    exdir = filename.split('.')[0]\n",
      "    !unzip $filename -d $exdir\n",
      "\n",
      "def gunzip_lodes7(filename):\n",
      "    !gunzip $filename\n",
      "\n"
     ],
     "language": "python",
     "metadata": {},
     "outputs": [],
     "prompt_number": 10
    },
    {
     "cell_type": "code",
     "collapsed": false,
     "input": [
      "capture_dir = \"capture/tabblock_2010/\"\n",
      "pa_id = 42\n",
      "init_capture(capture_dir)\n",
      "pa_url = format_tabblock_url(pa_id)\n",
      "pa_filename = capture_dir + os.path.basename(pa_url)\n",
      "download_file(pa_url, pa_filename)\n",
      "unzip_tabblock(pa_filename)"
     ],
     "language": "python",
     "metadata": {},
     "outputs": [
      {
       "output_type": "stream",
       "stream": "stdout",
       "text": [
        "Archive:  capture/tabblock_2010/tl_2010_42_tabblock10.zip\r\n",
        "  inflating: capture/tabblock_2010/tl_2010_42_tabblock10/tl_2010_42_tabblock10.dbf  "
       ]
      },
      {
       "output_type": "stream",
       "stream": "stdout",
       "text": [
        "\r\n",
        "  inflating: capture/tabblock_2010/tl_2010_42_tabblock10/tl_2010_42_tabblock10.prj  \r\n",
        "  inflating: capture/tabblock_2010/tl_2010_42_tabblock10/tl_2010_42_tabblock10.shp  "
       ]
      },
      {
       "output_type": "stream",
       "stream": "stdout",
       "text": [
        "\r\n",
        "  inflating: capture/tabblock_2010/tl_2010_42_tabblock10/tl_2010_42_tabblock10.shp.xml  \r\n",
        "  inflating: capture/tabblock_2010/tl_2010_42_tabblock10/tl_2010_42_tabblock10.shx  "
       ]
      },
      {
       "output_type": "stream",
       "stream": "stdout",
       "text": [
        "\r\n"
       ]
      }
     ],
     "prompt_number": 6
    },
    {
     "cell_type": "code",
     "collapsed": false,
     "input": [
      "#shp2pgsql -I -s 4269:900913 capture/tabblock_2010/tl_2010_42_tabblock10/tl_2010_42_tabblock10.shp tl_2010_42_tabblock10 | psql -q -d lodes_tl_2010"
     ],
     "language": "python",
     "metadata": {},
     "outputs": [],
     "prompt_number": 1
    },
    {
     "cell_type": "code",
     "collapsed": false,
     "input": [
      "dir = \"capture/lodes7/pa/\"\n",
      "init_capture(dir)\n",
      "url = format_lodes7_od_url('pa', 'main', 'JT00', '2011')\n",
      "download_file(url, dir+os.path.basename(url)) \n",
      "gunzip_lodes7(dir+os.path.basename(url))"
     ],
     "language": "python",
     "metadata": {},
     "outputs": [],
     "prompt_number": 11
    },
    {
     "cell_type": "markdown",
     "metadata": {},
     "source": [
      "<pre>\n",
      "psql -d lodes_tl_2010\n",
      "</pre>\n",
      "<pre>\n",
      "CREATE TABLE pa_od_main_JT00_2011 (\n",
      "    gid serial NOT NULL,\n",
      "    w_geocode character varying(15),\n",
      "    h_geocode character varying(15),\n",
      "    S000 integer,\n",
      "    SA01 integer,\n",
      "    SA02 integer,\n",
      "    SA03 integer,\n",
      "    SE01 integer,\n",
      "    SE02 integer,\n",
      "    SE03 integer,\n",
      "    SI01 integer,\n",
      "    SI02 integer,\n",
      "    SI03 integer,\n",
      "    createdate character varying(8)\n",
      ");\n",
      "</pre>\n",
      "<pre>\n",
      "COPY pa_od_main_JT00_2011(w_geocode,h_geocode,S000,SA01,SA02,SA03,SE01,SE02,SE03,SI01,SI02,SI03,createdate) FROM '/Users/gabrielo/Code/data-visualization-tools/examples/lodes/capture/lodes7/pa/pa_od_main_JT00_2011.csv' DELIMITER ',' CSV HEADER;\n",
      "</pre>"
     ]
    },
    {
     "cell_type": "code",
     "collapsed": false,
     "input": [
      "import math\n",
      "from shapely.geometry import *\n",
      "from shapely.wkb import loads\n",
      "from TileStache.Goodies.VecTiles.ops import transform\n",
      "def LonLatToPixelXY(lonlat, scale = 1.):\n",
      "    (lon, lat) = lonlat\n",
      "    x = (lon + 180.0) * 256.0 / 360.0\n",
      "    y = 128.0 - math.log(math.tan((lat + 90.0) * math.pi / 360.0)) * 128.0 / math.pi\n",
      "    return [x*scale, y*scale]"
     ],
     "language": "python",
     "metadata": {},
     "outputs": [],
     "prompt_number": 136
    },
    {
     "cell_type": "code",
     "collapsed": false,
     "input": [
      "import psycopg2\n",
      "data = []\n",
      "conn = psycopg2.connect(\"dbname=lodes_tl_2010\")\n",
      "cur = conn.cursor()\n",
      "query = \"SELECT ST_Transform(ST_Centroid(work.geom),4326), ST_Transform(ST_Centroid(home.geom),4326), pa.s000 FROM pa_od_main_jt00_2011 pa, tl_2010_42_tabblock10 work,tl_2010_42_tabblock10 home WHERE pa.w_geocode = work.geoid10 AND pa.h_geocode = home.geoid10\"\n",
      "cur.execute(query)\n",
      "\n",
      "for row in cur.fetchall():\n",
      "    data += LonLatToPixelXY(loads(row[0],True).__geo_interface__['coordinates'])\n",
      "    data += LonLatToPixelXY(loads(row[1],True).__geo_interface__['coordinates'])\n",
      "    data.append(row[2])\n",
      "cur.close()\n",
      "conn.close()\n",
      "\n"
     ],
     "language": "python",
     "metadata": {},
     "outputs": [],
     "prompt_number": 144
    },
    {
     "cell_type": "code",
     "collapsed": false,
     "input": [
      "import array\n",
      "dest = 'pa_od_main_jt00_2011.bin'\n",
      "array.array('f', data).tofile(open(dest, 'w'))"
     ],
     "language": "python",
     "metadata": {},
     "outputs": [],
     "prompt_number": 146
    },
    {
     "cell_type": "code",
     "collapsed": false,
     "input": [],
     "language": "python",
     "metadata": {},
     "outputs": [
      {
       "output_type": "stream",
       "stream": "stdout",
       "text": [
        "23790515\n"
       ]
      }
     ],
     "prompt_number": 145
    },
    {
     "cell_type": "code",
     "collapsed": false,
     "input": [],
     "language": "python",
     "metadata": {},
     "outputs": []
    }
   ],
   "metadata": {}
  }
 ]
}