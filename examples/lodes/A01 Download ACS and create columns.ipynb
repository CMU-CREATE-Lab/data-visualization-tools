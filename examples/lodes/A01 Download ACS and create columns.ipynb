{
 "cells": [
  {
   "cell_type": "code",
   "execution_count": 12,
   "metadata": {},
   "outputs": [],
   "source": [
    "import csv, json, os, pandas, re, scipy, scipy.sparse, shutil\n",
    "import subprocess, sys, threading, time, urllib2\n",
    "\n",
    "def exec_ipynb(filename_or_url):\n",
    "    nb = (urllib2.urlopen(filename_or_url) if re.match(r'https?:', filename_or_url) else open(filename_or_url)).read()\n",
    "    jsonNb = json.loads(nb)\n",
    "    #check for the modified formatting of Jupyter Notebook v4\n",
    "    if(jsonNb['nbformat'] == 4):\n",
    "        exec '\\n'.join([''.join(cell['source']) for cell in jsonNb['cells'] if cell['cell_type'] == 'code']) in globals()\n",
    "    else:\n",
    "        exec '\\n'.join([''.join(cell['input']) for cell in jsonNb['worksheets'][0]['cells'] if cell['cell_type'] == 'code']) in globals()\n",
    "\n",
    "exec_ipynb('timelapse-utilities.ipynb')"
   ]
  },
  {
   "cell_type": "code",
   "execution_count": null,
   "metadata": {
    "collapsed": true
   },
   "outputs": [],
   "source": [
    "pandas.options.display.max_colwidth = 300"
   ]
  },
  {
   "cell_type": "markdown",
   "metadata": {},
   "source": [
    "## Download ACS2015 File Templates for 5-year and 1-year data"
   ]
  },
  {
   "cell_type": "code",
   "execution_count": 101,
   "metadata": {},
   "outputs": [
    {
     "name": "stdout",
     "output_type": "stream",
     "text": [
      "capture/ACS2015_1year/2015_1yr_Summary_FileTemplates.zip already downloaded\n",
      "capture/ACS2015_1year/2015_1yr_Summary_FileTemplates.zip already unzipped\n",
      "Downloading https://www2.census.gov/programs-surveys/acs/summary_file/2015/data/2015_5yr_Summary_FileTemplates.zip to capture/ACS2015_5year/2015_5yr_Summary_FileTemplates.zip\n",
      "Done, wrote 1397862 bytes to capture/ACS2015_5year/2015_5yr_Summary_FileTemplates.zip\n",
      "Unzipping capture/ACS2015_5year/2015_5yr_Summary_FileTemplates.zip into capture/ACS2015_5year/2015_5yr_Summary_FileTemplates.tmp\n",
      "Success, created capture/ACS2015_5year/2015_5yr_Summary_FileTemplates\n"
     ]
    }
   ],
   "source": [
    "src = 'https://www2.census.gov/programs-surveys/acs/summary_file/2015/data/2015_1yr_Summary_FileTemplates.zip'\n",
    "dest = 'capture/ACS2015_1year/2015_1yr_Summary_FileTemplates.zip'\n",
    "download_file(src, dest)\n",
    "templates = unzip_file(dest)\n",
    "\n",
    "src = 'https://www2.census.gov/programs-surveys/acs/summary_file/2015/data/2015_5yr_Summary_FileTemplates.zip'\n",
    "dest = 'capture/ACS2015_5year/2015_5yr_Summary_FileTemplates.zip'\n",
    "download_file(src, dest)\n",
    "templates = unzip_file(dest)"
   ]
  },
  {
   "cell_type": "code",
   "execution_count": 217,
   "metadata": {
    "scrolled": true
   },
   "outputs": [
    {
     "name": "stdout",
     "output_type": "stream",
     "text": [
      "total 13192\r\n",
      "-rw-rw-r-- 1 rsargent rsargent  25600 Aug  5  2016 2015_SFGeoFileTemplate.xls\r\n",
      "-rw-rw-r-- 1 rsargent rsargent  92160 Aug  5  2016 Seq100.xls\r\n",
      "-rw-rw-r-- 1 rsargent rsargent  60928 Aug  5  2016 Seq101.xls\r\n",
      "-rw-rw-r-- 1 rsargent rsargent  88064 Aug  5  2016 Seq102.xls\r\n",
      "-rw-rw-r-- 1 rsargent rsargent 115200 Aug  5  2016 Seq103.xls\r\n",
      "-rw-rw-r-- 1 rsargent rsargent  99328 Aug  5  2016 Seq104.xls\r\n",
      "-rw-rw-r-- 1 rsargent rsargent 111104 Aug  5  2016 Seq105.xls\r\n",
      "-rw-rw-r-- 1 rsargent rsargent 107520 Aug  5  2016 Seq106.xls\r\n",
      "-rw-rw-r-- 1 rsargent rsargent  88064 Aug  5  2016 Seq107.xls\r\n",
      "ls: write error: Broken pipe\r\n"
     ]
    }
   ],
   "source": [
    "!ls -l capture/ACS2015_1year/2015_1yr_Summary_FileTemplates/Templates | head"
   ]
  },
  {
   "cell_type": "markdown",
   "metadata": {},
   "source": [
    "## Download ACS2015 5-year data (tract and block group)"
   ]
  },
  {
   "cell_type": "code",
   "execution_count": 33,
   "metadata": {},
   "outputs": [
    {
     "name": "stdout",
     "output_type": "stream",
     "text": [
      "--2017-07-22 10:59:54--  https://www2.census.gov/programs-surveys/acs/summary_file/2015/data/5_year_entire_sf/Tracts_Block_Groups_Only.tar.gz\n",
      "Resolving www2.census.gov (www2.census.gov)... 104.95.31.46, 2600:1408:7:2a5::208c, 2600:1408:7:291::208c\n",
      "Connecting to www2.census.gov (www2.census.gov)|104.95.31.46|:443... connected.\n",
      "HTTP request sent, awaiting response... 200 OK\n",
      "Length: 3747109902 (3.5G) [application/x-gzip]\n",
      "Saving to: ‘Tracts_Block_Groups_Only.tar.gz’\n",
      "\n",
      "Tracts_Block_Groups 100%[===================>]   3.49G  4.91MB/s    in 14m 0s  \n",
      "\n",
      "2017-07-22 11:13:55 (4.25 MB/s) - ‘Tracts_Block_Groups_Only.tar.gz’ saved [3747109902/3747109902]\n",
      "\n"
     ]
    }
   ],
   "source": [
    "!wget --header=\"User-Agent: Mozilla/5.0 (Windows NT 6.0) AppleWebKit/537.11 (KHTML, like Gecko) Chrome/23.0.1271.97 Safari/537.11\" --header=\"Referer: http://xmodulo.com/\" https://www2.census.gov/programs-surveys/acs/summary_file/2015/data/5_year_entire_sf/Tracts_Block_Groups_Only.tar.gz\n",
    "\n",
    "!mkdir -p capture/ACS2005_5year\n",
    "!mv Tracts_Block_Groups_Only.tar.gz capture/ACS2005_5year\n",
    "\n",
    "!cd capture/ACS2005_5year; tar xvfz Tracts_Block_Groups_Only.tar.gz >/dev/null\n",
    "\n",
    "!wget --header=\"User-Agent: Mozilla/5.0 (Windows NT 6.0) AppleWebKit/537.11 (KHTML, like Gecko) Chrome/23.0.1271.97 Safari/537.11\" https://www2.census.gov/programs-surveys/acs/summary_file/2015/data/5_year_entire_sf/2015_ACS_Geography_Files.zip\n",
    "\n",
    "!mv 2015_ACS_Geography_Files.zip capture/ACS2005_5year\n",
    "\n",
    "unzip_file('capture/ACS2005_5year/2015_ACS_Geography_Files.zip')"
   ]
  },
  {
   "cell_type": "markdown",
   "metadata": {},
   "source": [
    "## Read CSV utility functions"
   ]
  },
  {
   "cell_type": "code",
   "execution_count": 67,
   "metadata": {},
   "outputs": [],
   "source": [
    "def read_acs2015_5year_template(seqno):\n",
    "    path = 'capture/ACS2015_5year/2015_5yr_Summary_FileTemplates/2015_5yr_Templates/Seq%d.xls' % seqno\n",
    "    if not os.path.exists(path):\n",
    "        return None\n",
    "    return pandas.read_excel(path)\n",
    "\n",
    "# Combine template header and data into pandas frame\n",
    "def read_acs2015_year_data(state, seqno):\n",
    "    header = read_acs2015_5year_template(seqno)\n",
    "    data = pandas.read_csv('capture/ACS2015_5year/group2/e20155%s%04d000.txt' % (state, seqno),\n",
    "                            index_col=False,\n",
    "                            dtype={'FILEID':numpy.str,\n",
    "                                   'FILETYPE':numpy.str,\n",
    "                                   'STUSAB':numpy.str,\n",
    "                                   'CHARITER':numpy.str,\n",
    "                                   'SEQUENCE':numpy.str,\n",
    "                                   'LOGRECNO':numpy.str},\n",
    "                            header=None,\n",
    "                            names=header.columns.values)\n",
    "    return data"
   ]
  },
  {
   "cell_type": "markdown",
   "metadata": {},
   "source": [
    "## Write ACS2015 5-year description.html"
   ]
  },
  {
   "cell_type": "code",
   "execution_count": 89,
   "metadata": {},
   "outputs": [
    {
     "name": "stdout",
     "output_type": "stream",
     "text": [
      "columncache/acs2015_5year_tract2010/description.html already exists, skipping\n"
     ]
    }
   ],
   "source": [
    "dataset = 'acs2015_5year_tract2010'\n",
    "column_dir = 'columncache'\n",
    "description_path = column_dir + '/' + dataset + '/description.html'\n",
    "\n",
    "if os.path.exists(description_path):\n",
    "    print '{description_path} already exists, skipping'.format(**locals())\n",
    "else:\n",
    "    table_rows = []\n",
    "\n",
    "    for seqno in range(1, 1000):\n",
    "        template = read_acs2015_5year_template(seqno)\n",
    "        if template is None:\n",
    "            break\n",
    "        for col in range(6, template.shape[1]):\n",
    "            colname = template.columns.values[col]\n",
    "            description = template.iloc[0,col]\n",
    "            table_rows.append(u'<tr><td>{dataset}.{colname}</td><td>{description}</td></tr>\\n'.format(**locals()))\n",
    "\n",
    "    html = '<table>' + ''.join(table_rows) + '</table>'\n",
    "\n",
    "    open(description_path, 'w').write(html.encode('utf8'))\n",
    "    print 'Wrote %d column names and descriptions to %s' % (len(table_rows), description_path)\n"
   ]
  },
  {
   "cell_type": "markdown",
   "metadata": {
    "collapsed": true
   },
   "source": [
    "## Create ACS2015 block-level population"
   ]
  },
  {
   "cell_type": "markdown",
   "metadata": {},
   "source": [
    "### Read 2010 block geoids and 2010 block populations"
   ]
  },
  {
   "cell_type": "code",
   "execution_count": 42,
   "metadata": {},
   "outputs": [
    {
     "name": "stdout",
     "output_type": "stream",
     "text": [
      "Execution of SELECT geoid2010 FROM sf1_2010_block_p001 order by blockidx2010\n",
      "took 18.8642 seconds and returned 11078297 rows\n",
      "There are 11078297 blocks\n",
      "block_populations has 308745538 total people\n"
     ]
    }
   ],
   "source": [
    "block_geoids_2010 = [row[0] for row in query_psql(\"SELECT geoid2010 FROM sf1_2010_block_p001 order by blockidx2010\")]\n",
    "print 'There are', len(block_geoids_2010), 'blocks'\n",
    "\n",
    "block_populations = numpy.load('columncache/census2010_block2010/p001001.numpy')\n",
    "print 'block_populations has', sum(block_populations), 'total people'\n",
    "\n",
    "assert(len(block_geoids_2010) + 1 == len(block_populations))"
   ]
  },
  {
   "cell_type": "markdown",
   "metadata": {},
   "source": [
    "### Compute 2010 population by tract and block indices from tract\n"
   ]
  },
  {
   "cell_type": "code",
   "execution_count": 43,
   "metadata": {},
   "outputs": [
    {
     "name": "stdout",
     "output_type": "stream",
     "text": [
      "There are 73057 tracts\n",
      "tract_populations has 308745538 people\n"
     ]
    }
   ],
   "source": [
    "tract_populations = {}\n",
    "tract_block_indexes = {}\n",
    "\n",
    "for block_index_minus_one, block_geoid in enumerate(block_geoids_2010):\n",
    "    block_index = block_index_minus_one + 1\n",
    "    tract_name = block_geoid[0:11]\n",
    "    if tract_name not in tract_populations:\n",
    "        tract_populations[tract_name] = 0\n",
    "        tract_block_indexes[tract_name] = []\n",
    "    tract_populations[tract_name] += block_populations[block_index]\n",
    "    tract_block_indexes[tract_name].append(block_index)\n",
    "\n",
    "print 'There are', len(tract_populations), 'tracts'\n",
    "print 'tract_populations has', sum(tract_populations.values()), 'people'"
   ]
  },
  {
   "cell_type": "markdown",
   "metadata": {},
   "source": [
    "### Map tract identifiers to LOGRECNO using geography file"
   ]
  },
  {
   "cell_type": "code",
   "execution_count": 70,
   "metadata": {},
   "outputs": [
    {
     "name": "stdout",
     "output_type": "stream",
     "text": [
      "There are 24674 rows in geography\n",
      "There are 3218 tracts in tract_to_logrecno\n"
     ]
    }
   ],
   "source": [
    "geography = pandas.read_csv('capture/ACS2015_5year/2015_ACS_Geography_Files/g20155pa.csv',\n",
    "                            dtype=numpy.str,\n",
    "                            index_col=False,\n",
    "                            header=None,\n",
    "                            keep_default_na=False,\n",
    "                            na_values=[])\n",
    "\n",
    "print 'There are', geography.shape[0], 'rows in geography'\n",
    "\n",
    "tract_to_logrecno = {}\n",
    "\n",
    "for r in range(0, geography.shape[0]):\n",
    "    aggregation_level = geography.iloc[r, 2]\n",
    "    if aggregation_level == '140': # census tract\n",
    "        tract_identifier = geography.iloc[r, 48][7:]\n",
    "        logrecno = geography.iloc[r, 4]\n",
    "        tract_to_logrecno[tract_identifier] = logrecno\n",
    "\n",
    "print 'There are', len(tract_to_acs_row), 'tracts in tract_to_logrecno'"
   ]
  },
  {
   "cell_type": "markdown",
   "metadata": {},
   "source": [
    "### Map LOGRECNO to data table row using data file"
   ]
  },
  {
   "cell_type": "code",
   "execution_count": 71,
   "metadata": {},
   "outputs": [],
   "source": [
    "data = read_acs2015_year_data('pa', 2)\n",
    "\n",
    "logrecnos = data['LOGRECNO']\n",
    "\n",
    "logrecno_to_row = {}\n",
    "\n",
    "for r, logrecno in enumerate(logrecnos):\n",
    "    logrecno_to_row[logrecno] = r"
   ]
  },
  {
   "cell_type": "markdown",
   "metadata": {},
   "source": [
    "### Interpolate and write column"
   ]
  },
  {
   "cell_type": "code",
   "execution_count": 91,
   "metadata": {},
   "outputs": [
    {
     "name": "stdout",
     "output_type": "stream",
     "text": [
      "-rw-rw-r-- 1 rsargent rsargent 44313192 Aug  4 17:00 columncache/acs2015_5year_tract2010/B01001_001.float32\r\n"
     ]
    }
   ],
   "source": [
    "# TODO: can we do this with a data frame then write out columns?\n",
    "\n",
    "col_name = 'B01001_001'\n",
    "\n",
    "input_col = data[col_name]\n",
    "\n",
    "output_col = numpy.zeros(population_by_block.size, dtype=numpy.float32)\n",
    "\n",
    "for tract in sorted(tract_to_logrecno.keys()):\n",
    "    input_pop = input_col[logrecno_to_row[tract_to_logrecno[tract]]]\n",
    "    for block_index in tract_block_indexes[tract]:\n",
    "        if block_populations[block_index]:\n",
    "            output_col[block_index] = input_pop * float(block_populations[block_index]) / tract_populations[tract]\n",
    "            \n",
    "\n",
    "output_col_path = column_dir + '/' + dataset + '/' + col_name + '.float32'\n",
    "output_col.tofile(output_col_path)\n",
    "\n",
    "!ls -l $output_col_path"
   ]
  }
 ],
 "metadata": {
  "anaconda-cloud": {},
  "kernelspec": {
   "display_name": "Python 2",
   "language": "python",
   "name": "python2"
  },
  "language_info": {
   "codemirror_mode": {
    "name": "ipython",
    "version": 2
   },
   "file_extension": ".py",
   "mimetype": "text/x-python",
   "name": "python",
   "nbconvert_exporter": "python",
   "pygments_lexer": "ipython2",
   "version": "2.7.13"
  }
 },
 "nbformat": 4,
 "nbformat_minor": 1
}
