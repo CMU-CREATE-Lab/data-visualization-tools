{
 "cells": [
  {
   "cell_type": "markdown",
   "metadata": {},
   "source": [
    "TODO:\n",
    "    \n",
    "Decide on how to create 2010 geom table from 2000.\n",
    "- We can create new geoid indices on 2000 tables to create a massive join\n",
    "- We can ingest entire 01-37 tables individually into RAM in python and interpolate in ram in place and write to\n",
    "     new 2000 tables\n",
    "- For either of the above we can decide to write all results into a single massive table, including new geoid column\n"
   ]
  },
  {
   "cell_type": "code",
   "execution_count": 63,
   "metadata": {
    "collapsed": false,
    "scrolled": true
   },
   "outputs": [
    {
     "name": "stdout",
     "output_type": "stream",
     "text": [
      "set default_psql_database to census2010\n"
     ]
    }
   ],
   "source": [
    "import array, csv, json, math, multiprocessing, os, random, re, shutil\n",
    "import shapely, shapely.wkb, struct, subprocess, sys, threading, urllib2\n",
    "\n",
    "def exec_ipynb(filename_or_url):\n",
    "    nb = (urllib2.urlopen(filename_or_url) if re.match(r'https?:', filename_or_url) else open(filename_or_url)).read()\n",
    "    jsonNb = json.loads(nb)\n",
    "    #check for the modified formatting of Jupyter Notebook v4\n",
    "    if(jsonNb['nbformat'] == 4):\n",
    "        exec '\\n'.join([''.join(cell['source']) for cell in jsonNb['cells'] if cell['cell_type'] == 'code']) in globals()\n",
    "    else:\n",
    "        exec '\\n'.join([''.join(cell['input']) for cell in jsonNb['worksheets'][0]['cells'] if cell['cell_type'] == 'code']) in globals()\n",
    "\n",
    "exec_ipynb('timelapse-utilities.ipynb')\n",
    "\n",
    "set_default_psql_database('census2010')"
   ]
  },
  {
   "cell_type": "markdown",
   "metadata": {},
   "source": [
    "Crosswalk:  download and document\n",
    "---------------------------------"
   ]
  },
  {
   "cell_type": "code",
   "execution_count": 2,
   "metadata": {
    "collapsed": false
   },
   "outputs": [
    {
     "name": "stdout",
     "output_type": "stream",
     "text": [
      "capture/NHGIS_block2000_to_block2010.zip already downloaded\n"
     ]
    }
   ],
   "source": [
    "download_file('http://users.pop.umn.edu/~jps/NHGIS_block2000_to_block2010.zip', 'capture/NHGIS_block2000_to_block2010.zip')"
   ]
  },
  {
   "cell_type": "code",
   "execution_count": null,
   "metadata": {
    "collapsed": false
   },
   "outputs": [],
   "source": [
    "unzip_file('capture/NHGIS_block2000_to_block2010.zip')"
   ]
  },
  {
   "cell_type": "code",
   "execution_count": null,
   "metadata": {
    "collapsed": false,
    "scrolled": true
   },
   "outputs": [],
   "source": [
    "!cat capture/NHGIS_block2000_to_block2010/readme.txt"
   ]
  },
  {
   "cell_type": "code",
   "execution_count": 4,
   "metadata": {
    "collapsed": false
   },
   "outputs": [
    {
     "name": "stdout",
     "output_type": "stream",
     "text": [
      "F010010201001000,F010010201002000,0.03589746619998647,0.008988216111782212\r\n",
      "F010010201001000,F010010201002001,0.2533302636105429,0.2637247584498352\r\n",
      "F010010201001000,F010010201002002,0,0.000384823707001651\r\n",
      "F010010201001000,F010010201002003,0.0762971112558778,0.055429504205606606\r\n",
      "F010010201001000,F010010201002004,0.03244112598630059,0.007542916917166581\r\n",
      "F010010201001000,F010010201002005,0.41140573696128735,0.18976089744424943\r\n",
      "F010010201001000,F010010201002006,0.019909297520890202,0.0019957785723459264\r\n",
      "F010010201001000,F010010201002007,0.09924123825815177,0.45777176371172934\r\n",
      "F010010201001000,F010010201002008,0.07147776020696295,0.014401340880283067\r\n",
      "F010010201001001,F010010201002004,0.13459272780487186,0.04845679605124167\r\n"
     ]
    }
   ],
   "source": [
    "!head capture/NHGIS_block2000_to_block2010/crosswalk_block2000_block2010_v002.csv"
   ]
  },
  {
   "cell_type": "code",
   "execution_count": 3,
   "metadata": {
    "collapsed": false
   },
   "outputs": [
    {
     "name": "stdout",
     "output_type": "stream",
     "text": [
      "SELECT * FROM crosswalk_block2000_block2010 WHERE geoid2010='010010201002007'\n",
      "Finished execution in 0.185084 secs: geoid2000    |    geoid2010    |  weight   |  parea   \n",
      "-----------------+-----------------+-----------+----------\n",
      " 010010201001000 | 010010201002007 | 0.0992412 | 0.457772\n",
      "(1 row)\n"
     ]
    }
   ],
   "source": [
    "psql('SELECT * FROM crosswalk_block2000_block2010 '\n",
    "    \"WHERE geoid2010='010010201002007'\")"
   ]
  },
  {
   "cell_type": "markdown",
   "metadata": {},
   "source": [
    "Crosswalk columns are:\n",
    "block_id_2000, block_id_2010, weight, parea\n",
    "We'll tentatively ignore the last.\n",
    "\n",
    "For a data column X, we want to compute:\n",
    "x2k(block_id_2010) = sum(x2k(block_id_2000)*weight(block_id_2000, block_id_2010)) for all block_id_2000 overlapping block_id_2010\n",
    "\n"
   ]
  },
  {
   "cell_type": "markdown",
   "metadata": {},
   "source": [
    "Create crosswalk_block2000_block2010 database table\n",
    "------------------------------------"
   ]
  },
  {
   "cell_type": "code",
   "execution_count": null,
   "metadata": {
    "collapsed": false
   },
   "outputs": [],
   "source": [
    "psql('CREATE TABLE crosswalk_block2000_block2010 '\n",
    "    '(geoid2000 varchar, '\n",
    "    ' geoid2010 varchar, '\n",
    "    ' weight real, '\n",
    "    ' parea real)')"
   ]
  },
  {
   "cell_type": "code",
   "execution_count": null,
   "metadata": {
    "collapsed": false
   },
   "outputs": [],
   "source": [
    "full_path = os.path.abspath('capture/NHGIS_block2000_to_block2010/crosswalk_block2000_block2010_v002.csv')\n",
    "psql(\"COPY crosswalk_block2000_block2010 \"\n",
    "     \"FROM '%s' DELIMITER ',' CSV;\" % full_path,\n",
    "     database='census2010')"
   ]
  },
  {
   "cell_type": "code",
   "execution_count": null,
   "metadata": {
    "collapsed": false
   },
   "outputs": [],
   "source": [
    "psql(\"UPDATE crosswalk_block2000_block2010 SET \"\n",
    "     \"geoid2000 = right(geoid2000, 15), \"\n",
    "     \"geoid2010 = right(geoid2010, 15)\",\n",
    "     database='census2010')"
   ]
  },
  {
   "cell_type": "code",
   "execution_count": null,
   "metadata": {
    "collapsed": false
   },
   "outputs": [],
   "source": [
    "psql(\"CREATE INDEX ON crosswalk_block2000_block2010 (geoid2010)\",\n",
    "     database='census2010')"
   ]
  },
  {
   "cell_type": "code",
   "execution_count": 19,
   "metadata": {
    "collapsed": false
   },
   "outputs": [
    {
     "name": "stdout",
     "output_type": "stream",
     "text": [
      "CREATE INDEX ON crosswalk_block2000_block2010 (geoid2000)\n",
      "Finished execution in 179.913 secs: CREATE INDEX\n"
     ]
    }
   ],
   "source": [
    "psql(\"CREATE INDEX ON crosswalk_block2000_block2010 (geoid2000)\",\n",
    "     database='census2010')"
   ]
  },
  {
   "cell_type": "code",
   "execution_count": null,
   "metadata": {
    "collapsed": false
   },
   "outputs": [],
   "source": [
    "psql('\\d crosswalk_block2000_block2010', database='census2010')"
   ]
  },
  {
   "cell_type": "markdown",
   "metadata": {},
   "source": [
    "Create new interpolated table\n",
    "------------------------------"
   ]
  },
  {
   "cell_type": "code",
   "execution_count": 67,
   "metadata": {
    "collapsed": false
   },
   "outputs": [
    {
     "name": "stdout",
     "output_type": "stream",
     "text": [
      "DROP TABLE sf1_2000_int2010_p001\n",
      "Finished execution in 0.272692 secs: DROP TABLE\n",
      "CREATE TABLE sf1_2000_int2010_p001 (geoid2010, p001001) AS SELECT geoid2010, SUM(weight * p001001) FROM crosswalk_block2000_block2010 JOIN sf1_2000_block_p001 USING (geoid2000) GROUP BY geoid2010\n",
      "Finished execution in 128.3 secs: SELECT 11078297\n"
     ]
    }
   ],
   "source": [
    "psql('DROP TABLE sf1_2000_int2010_p001')\n",
    "psql('CREATE TABLE sf1_2000_int2010_p001 (geoid2010, p001001) AS '\n",
    "     'SELECT geoid2010, SUM(weight * p001001) '\n",
    "     'FROM crosswalk_block2000_block2010 '\n",
    "     'JOIN sf1_2000_block_p001 USING (geoid2000) '\n",
    "     'GROUP BY geoid2010 ',\n",
    "     database='census2010')"
   ]
  },
  {
   "cell_type": "code",
   "execution_count": 68,
   "metadata": {
    "collapsed": false
   },
   "outputs": [
    {
     "name": "stdout",
     "output_type": "stream",
     "text": [
      "\\d sf1_2000_int2010_p001\n",
      "Finished execution in 0.172286 secs: Table \"public.sf1_2000_int2010_p001\"\n",
      "  Column   |       Type        | Modifiers \n",
      "-----------+-------------------+-----------\n",
      " geoid2010 | character varying | \n",
      " p001001   | double precision  |\n"
     ]
    }
   ],
   "source": [
    "psql('\\d sf1_2000_int2010_p001')"
   ]
  },
  {
   "cell_type": "markdown",
   "metadata": {},
   "source": [
    "Sanity-checking first interpolated table\n",
    "----------------------------------------\n",
    "The 2000 census includes Puerto Rico (FIPS 72), but the crosswalk doesn't, so checking that the overall populations match requires filtering out Puerto Rico from the original census count."
   ]
  },
  {
   "cell_type": "code",
   "execution_count": 69,
   "metadata": {
    "collapsed": false
   },
   "outputs": [
    {
     "name": "stdout",
     "output_type": "stream",
     "text": [
      "select SUM(p001001) from sf1_2000_int2010_p001\n",
      "Finished execution in 2.11048 secs: sum       \n",
      "-----------------\n",
      " 281421906.05482\n",
      "(1 row)\n",
      "select SUM(p001001) from sf1_2000_block_p001\n",
      "Finished execution in 1.32348 secs: sum    \n",
      "-----------\n",
      " 285230516\n",
      "(1 row)\n",
      "select SUM(p001001) from sf1_2000_block_p001 WHERE LEFT(geoid2000,2) != '72'\n",
      "Finished execution in 2.78161 secs: sum    \n",
      "-----------\n",
      " 281421906\n",
      "(1 row)\n"
     ]
    }
   ],
   "source": [
    "psql('select SUM(p001001) from sf1_2000_int2010_p001')\n",
    "psql('select SUM(p001001) from sf1_2000_block_p001')\n",
    "psql(\"select SUM(p001001) from sf1_2000_block_p001 WHERE LEFT(geoid2000,2) != '72'\")"
   ]
  },
  {
   "cell_type": "markdown",
   "metadata": {},
   "source": [
    "Add geoid index to geo2000 table\n",
    "--------------------------------"
   ]
  },
  {
   "cell_type": "code",
   "execution_count": null,
   "metadata": {
    "collapsed": false
   },
   "outputs": [],
   "source": [
    "#in hindsight, should have called this geoid2000\n",
    "psql(\"ALTER TABLE geo2000 ADD COLUMN geoid CHARACTER(15)\",\n",
    "     database='census2010')"
   ]
  },
  {
   "cell_type": "code",
   "execution_count": null,
   "metadata": {
    "collapsed": false
   },
   "outputs": [],
   "source": [
    "psql(\"UPDATE geo2000 SET geoid =\"\n",
    "     \" (state || county || tract || block)\",\n",
    "     database='census2010')"
   ]
  },
  {
   "cell_type": "code",
   "execution_count": null,
   "metadata": {
    "collapsed": false
   },
   "outputs": [],
   "source": [
    "psql(\"CREATE INDEX ON geo2000 (geoid)\",\n",
    "     database='census2010')"
   ]
  },
  {
   "cell_type": "code",
   "execution_count": null,
   "metadata": {
    "collapsed": false
   },
   "outputs": [],
   "source": [
    "psql(\"SELECT geoid FROM geo2000 WHERE sumlev='101' LIMIT 10\", database='census2010')"
   ]
  },
  {
   "cell_type": "code",
   "execution_count": null,
   "metadata": {
    "collapsed": false,
    "scrolled": false
   },
   "outputs": [],
   "source": [
    "# Show some 2000 'geoids'\n",
    "psql(\"SELECT state || county || tract || block FROM geo2000 WHERE sumlev='101' LIMIT 10\", database='census2010')"
   ]
  },
  {
   "cell_type": "code",
   "execution_count": null,
   "metadata": {
    "collapsed": true
   },
   "outputs": [],
   "source": [
    "File identification (FILEID),state/US abbreviation (STUSAB),summary levels (SUMLEV),and the\n",
    "geographic component codes (GEOCOMP) are critical elements in identifying the geographic level\n",
    "for each record. The STUSAB field identifies the highest level of geography for the file. In the case\n",
    "of state file,it identifies the individual state. For SF 1 files,the following FILEID and STUSAB codes\n",
    "are used:\n",
    "SF 1 state and state equivalent files ‘uSF1’ ‘AL-WY’\n",
    "SF 1 advance national file ‘uSF1A’ ‘US’\n",
    "SF 1 final national file ‘uSF1F’ ‘US’"
   ]
  },
  {
   "cell_type": "code",
   "execution_count": null,
   "metadata": {
    "collapsed": false
   },
   "outputs": [],
   "source": [
    "psql('\\d sf1_2000_01', database='census2010')"
   ]
  },
  {
   "cell_type": "code",
   "execution_count": null,
   "metadata": {
    "collapsed": false
   },
   "outputs": [],
   "source": [
    "psql('SELECT fileid,stusab,chariter,cifsn,logrecno FROM sf1_2000_01 LIMIT 10', database='census2010')"
   ]
  },
  {
   "cell_type": "code",
   "execution_count": null,
   "metadata": {
    "collapsed": false
   },
   "outputs": [],
   "source": [
    "psql('\\d sf1_2000_02', database='census2010')"
   ]
  },
  {
   "cell_type": "code",
   "execution_count": null,
   "metadata": {
    "collapsed": false
   },
   "outputs": [],
   "source": [
    "psql('\\d sf1_2000_p2', database='census2010')"
   ]
  },
  {
   "cell_type": "code",
   "execution_count": null,
   "metadata": {
    "collapsed": false
   },
   "outputs": [],
   "source": [
    "psql('SELECT CONCAT(stusab, logrecno) FROM sf1_2000_01 LIMIT 10', database='census2010')"
   ]
  },
  {
   "cell_type": "code",
   "execution_count": 1,
   "metadata": {
    "collapsed": false,
    "scrolled": true
   },
   "outputs": [
    {
     "ename": "NameError",
     "evalue": "name 'psql' is not defined",
     "output_type": "error",
     "traceback": [
      "\u001b[0;31m---------------------------------------------------------------------------\u001b[0m",
      "\u001b[0;31mNameError\u001b[0m                                 Traceback (most recent call last)",
      "\u001b[0;32m<ipython-input-1-752666bb5e36>\u001b[0m in \u001b[0;36m<module>\u001b[0;34m()\u001b[0m\n\u001b[0;32m----> 1\u001b[0;31m \u001b[0mpsql\u001b[0m\u001b[0;34m(\u001b[0m\u001b[0;34m'\\d'\u001b[0m\u001b[0;34m)\u001b[0m\u001b[0;34m\u001b[0m\u001b[0m\n\u001b[0m",
      "\u001b[0;31mNameError\u001b[0m: name 'psql' is not defined"
     ]
    }
   ],
   "source": [
    "psql('\\d')"
   ]
  },
  {
   "cell_type": "code",
   "execution_count": 15,
   "metadata": {
    "collapsed": false
   },
   "outputs": [
    {
     "name": "stdout",
     "output_type": "stream",
     "text": [
      "\\d sf1_2000_h12\n",
      "Finished execution in 0.122462 secs: View \"public.sf1_2000_h12\"\n",
      "  Column  |         Type         | Modifiers \n",
      "----------+----------------------+-----------\n",
      " fileid   | character varying(6) | \n",
      " stusab   | character varying(2) | \n",
      " chariter | character varying(3) | \n",
      " cifsn    | character varying(2) | \n",
      " logrecno | character varying(7) | \n",
      " h012001  | double precision     | \n",
      " h012002  | double precision     | \n",
      " h012003  | double precision     |\n"
     ]
    }
   ],
   "source": [
    "psql('\\d sf1_2000_h12')"
   ]
  },
  {
   "cell_type": "code",
   "execution_count": 16,
   "metadata": {
    "collapsed": false
   },
   "outputs": [
    {
     "name": "stdout",
     "output_type": "stream",
     "text": [
      "SELECT h012* FROM sf1_2000_h12 LIMIT 10\n",
      "Finished execution in 0.109905 secs: ERROR:  syntax error at or near \"FROM\"\n",
      "LINE 1: SELECT h012* FROM sf1_2000_h12 LIMIT 10\n",
      "                     ^\n"
     ]
    }
   ],
   "source": [
    "psql('SELECT h012* FROM sf1_2000_h12 LIMIT 10')"
   ]
  },
  {
   "cell_type": "code",
   "execution_count": 18,
   "metadata": {
    "collapsed": false
   },
   "outputs": [
    {
     "ename": "ProgrammingError",
     "evalue": "syntax error at or near \"\\\"\nLINE 1: \\d sf1_2000_h12\n        ^\n",
     "output_type": "error",
     "traceback": [
      "\u001b[0;31m---------------------------------------------------------------------------\u001b[0m",
      "\u001b[0;31mProgrammingError\u001b[0m                          Traceback (most recent call last)",
      "\u001b[0;32m<ipython-input-18-df8026e04cb4>\u001b[0m in \u001b[0;36m<module>\u001b[0;34m()\u001b[0m\n\u001b[0;32m----> 1\u001b[0;31m \u001b[0mquery_psql\u001b[0m\u001b[0;34m(\u001b[0m\u001b[0;34m'\\d sf1_2000_h12'\u001b[0m\u001b[0;34m)\u001b[0m\u001b[0;34m\u001b[0m\u001b[0m\n\u001b[0m",
      "\u001b[0;32m<string>\u001b[0m in \u001b[0;36mquery_psql\u001b[0;34m(query, quiet)\u001b[0m\n",
      "\u001b[0;31mProgrammingError\u001b[0m: syntax error at or near \"\\\"\nLINE 1: \\d sf1_2000_h12\n        ^\n"
     ]
    }
   ],
   "source": [
    "query_psql('\\d sf1_2000_h12')"
   ]
  },
  {
   "cell_type": "code",
   "execution_count": 3,
   "metadata": {
    "collapsed": false
   },
   "outputs": [
    {
     "name": "stdout",
     "output_type": "stream",
     "text": [
      "Execution of SELECT table_name FROM INFORMATION_SCHEMA.views WHERE table_name LIKE 'sf1_2000_%'\n",
      "took 0.00853682 seconds and returned 286 rows\n",
      "\\d sf1_2000_block_p001\n",
      "Finished execution in 0.116253 secs: Table \"public.sf1_2000_block_p001\"\n",
      "  Column   |  Type   | Modifiers \n",
      "-----------+---------+-----------\n",
      " geoid2000 | text    | \n",
      " p001001   | integer |\n",
      "None\n",
      "select * from sf1_2000_block_p001 LIMIT 10\n",
      "Finished execution in 0.108216 secs: geoid2000    | p001001 \n",
      "-----------------+---------\n",
      " 020130001001052 |     713\n",
      " 010010211002045 |     115\n",
      " 050019808001184 |       0\n",
      " 040019442001073 |      64\n",
      " 060014271001000 |      27\n",
      " 080010085121012 |       0\n",
      " 090010000000992 |       0\n",
      " 110010001001000 |     279\n",
      " 100010422021006 |      39\n",
      " 120010002001000 |      35\n",
      "(10 rows)\n",
      "None\n",
      "select sum(p001001) from sf1_2000_block_p001\n",
      "Finished execution in 1.37132 secs: sum    \n",
      "-----------\n",
      " 285230516\n",
      "(1 row)\n",
      "None\n"
     ]
    }
   ],
   "source": [
    "\n",
    "\n"
   ]
  },
  {
   "cell_type": "code",
   "execution_count": 59,
   "metadata": {
    "collapsed": false
   },
   "outputs": [
    {
     "name": "stdout",
     "output_type": "stream",
     "text": [
      "\\d sf1_2000_block_p001\n",
      "Finished execution in 0.124137 secs: Table \"public.sf1_2000_block_p001\"\n",
      "  Column   |  Type   | Modifiers \n",
      "-----------+---------+-----------\n",
      " geoid2000 | text    | \n",
      " p001001   | integer |\n",
      "None\n",
      "select * from sf1_2000_block_p001\n",
      "Finished execution in 0.108624 secs: geoid2000    | p001001 \n",
      "-----------------+---------\n",
      " 020130001001052 |     713\n",
      " 020130001001985 |       0\n",
      " 020130001001004 |       0\n",
      " 020130001001005 |       0\n",
      " 020130001001006 |       1\n",
      " 020130001001007 |       0\n",
      " 020130001001008 |       0\n",
      " 020130001001009 |       0\n",
      " 020130001001010 |       0\n",
      " 020130001001011 |       0\n",
      "(10 rows)\n",
      "select * from sf1_2000_p1 LIMIT 10\n",
      "Finished execution in 0.109913 secs: fileid | stusab | chariter | cifsn | logrecno | p001001 \n",
      "--------+--------+----------+-------+----------+---------\n",
      " uSF1   | MT     | 000      | 01    | 0002049  |       0\n",
      " uSF1   | MT     | 000      | 01    | 0002050  |       0\n",
      " uSF1   | MT     | 000      | 01    | 0002051  |       0\n",
      " uSF1   | MT     | 000      | 01    | 0002052  |       0\n",
      " uSF1   | MT     | 000      | 01    | 0002053  |       0\n",
      " uSF1   | MT     | 000      | 01    | 0002054  |      46\n",
      " uSF1   | MT     | 000      | 01    | 0002055  |       1\n",
      " uSF1   | MT     | 000      | 01    | 0002056  |       0\n",
      " uSF1   | MT     | 000      | 01    | 0002057  |       0\n",
      " uSF1   | MT     | 000      | 01    | 0002058  |      14\n",
      "(10 rows)\n"
     ]
    }
   ],
   "source": [
    "print psql('\\d sf1_2000_block_p001')\n",
    "psql('select * from sf1_2000_block_p001')\n",
    "psql('select * from sf1_2000_p1 LIMIT 10')"
   ]
  },
  {
   "cell_type": "code",
   "execution_count": 26,
   "metadata": {
    "collapsed": false
   },
   "outputs": [
    {
     "name": "stdout",
     "output_type": "stream",
     "text": [
      "Execution of select table_name from INFORMATION_SCHEMA.views WHERE table_name LIKE 'sf1_2000_%'\n",
      "took 0.00861883 seconds and returned 286 rows\n"
     ]
    },
    {
     "data": {
      "text/plain": [
       "[('sf1_2000_p1',),\n",
       " ('sf1_2000_p2',),\n",
       " ('sf1_2000_p3',),\n",
       " ('sf1_2000_p4',),\n",
       " ('sf1_2000_p5',),\n",
       " ('sf1_2000_p6',),\n",
       " ('sf1_2000_p7',),\n",
       " ('sf1_2000_p8',),\n",
       " ('sf1_2000_p9',),\n",
       " ('sf1_2000_p10',),\n",
       " ('sf1_2000_p11',),\n",
       " ('sf1_2000_p12',),\n",
       " ('sf1_2000_p13',),\n",
       " ('sf1_2000_p14',),\n",
       " ('sf1_2000_p15',),\n",
       " ('sf1_2000_p16',),\n",
       " ('sf1_2000_p17',),\n",
       " ('sf1_2000_p18',),\n",
       " ('sf1_2000_p19',),\n",
       " ('sf1_2000_p20',),\n",
       " ('sf1_2000_p21',),\n",
       " ('sf1_2000_p22',),\n",
       " ('sf1_2000_p23',),\n",
       " ('sf1_2000_p24',),\n",
       " ('sf1_2000_p25',),\n",
       " ('sf1_2000_p26',),\n",
       " ('sf1_2000_p27',),\n",
       " ('sf1_2000_p28',),\n",
       " ('sf1_2000_p29',),\n",
       " ('sf1_2000_p30',),\n",
       " ('sf1_2000_p31',),\n",
       " ('sf1_2000_p32',),\n",
       " ('sf1_2000_p33',),\n",
       " ('sf1_2000_p34',),\n",
       " ('sf1_2000_p35',),\n",
       " ('sf1_2000_p36',),\n",
       " ('sf1_2000_p37',),\n",
       " ('sf1_2000_p38',),\n",
       " ('sf1_2000_p39',),\n",
       " ('sf1_2000_p40',),\n",
       " ('sf1_2000_p41',),\n",
       " ('sf1_2000_p42',),\n",
       " ('sf1_2000_p43',),\n",
       " ('sf1_2000_p44',),\n",
       " ('sf1_2000_p45',),\n",
       " ('sf1_2000_p12a',),\n",
       " ('sf1_2000_p12b',),\n",
       " ('sf1_2000_p12c',),\n",
       " ('sf1_2000_p12d',),\n",
       " ('sf1_2000_p12e',),\n",
       " ('sf1_2000_p12f',),\n",
       " ('sf1_2000_p12g',),\n",
       " ('sf1_2000_p12h',),\n",
       " ('sf1_2000_p12i',),\n",
       " ('sf1_2000_p13a',),\n",
       " ('sf1_2000_p13b',),\n",
       " ('sf1_2000_p13c',),\n",
       " ('sf1_2000_p13d',),\n",
       " ('sf1_2000_p13e',),\n",
       " ('sf1_2000_p13f',),\n",
       " ('sf1_2000_p13g',),\n",
       " ('sf1_2000_p13h',),\n",
       " ('sf1_2000_p13i',),\n",
       " ('sf1_2000_p15a',),\n",
       " ('sf1_2000_p15b',),\n",
       " ('sf1_2000_p15c',),\n",
       " ('sf1_2000_p15d',),\n",
       " ('sf1_2000_p15e',),\n",
       " ('sf1_2000_p15f',),\n",
       " ('sf1_2000_p15g',),\n",
       " ('sf1_2000_p15h',),\n",
       " ('sf1_2000_p15i',),\n",
       " ('sf1_2000_p16a',),\n",
       " ('sf1_2000_p16b',),\n",
       " ('sf1_2000_p16c',),\n",
       " ('sf1_2000_p16d',),\n",
       " ('sf1_2000_p16e',),\n",
       " ('sf1_2000_p16f',),\n",
       " ('sf1_2000_p16g',),\n",
       " ('sf1_2000_p16h',),\n",
       " ('sf1_2000_p16i',),\n",
       " ('sf1_2000_p17a',),\n",
       " ('sf1_2000_p17b',),\n",
       " ('sf1_2000_p17c',),\n",
       " ('sf1_2000_p17d',),\n",
       " ('sf1_2000_p17e',),\n",
       " ('sf1_2000_p17f',),\n",
       " ('sf1_2000_p17g',),\n",
       " ('sf1_2000_p17h',),\n",
       " ('sf1_2000_p17i',),\n",
       " ('sf1_2000_p26a',),\n",
       " ('sf1_2000_p26b',),\n",
       " ('sf1_2000_p26c',),\n",
       " ('sf1_2000_p26d',),\n",
       " ('sf1_2000_p26e',),\n",
       " ('sf1_2000_p26f',),\n",
       " ('sf1_2000_p26g',),\n",
       " ('sf1_2000_p26h',),\n",
       " ('sf1_2000_p26i',),\n",
       " ('sf1_2000_p27a',),\n",
       " ('sf1_2000_p27b',),\n",
       " ('sf1_2000_p27c',),\n",
       " ('sf1_2000_p27d',),\n",
       " ('sf1_2000_p27e',),\n",
       " ('sf1_2000_p27f',),\n",
       " ('sf1_2000_p27g',),\n",
       " ('sf1_2000_p27h',),\n",
       " ('sf1_2000_p27i',),\n",
       " ('sf1_2000_p28a',),\n",
       " ('sf1_2000_p28b',),\n",
       " ('sf1_2000_p28c',),\n",
       " ('sf1_2000_p28d',),\n",
       " ('sf1_2000_p28e',),\n",
       " ('sf1_2000_p28f',),\n",
       " ('sf1_2000_p28g',),\n",
       " ('sf1_2000_p28h',),\n",
       " ('sf1_2000_p28i',),\n",
       " ('sf1_2000_p30a',),\n",
       " ('sf1_2000_p30b',),\n",
       " ('sf1_2000_p30c',),\n",
       " ('sf1_2000_p30d',),\n",
       " ('sf1_2000_p30e',),\n",
       " ('sf1_2000_p30f',),\n",
       " ('sf1_2000_p30g',),\n",
       " ('sf1_2000_p30h',),\n",
       " ('sf1_2000_p30i',),\n",
       " ('sf1_2000_p31a',),\n",
       " ('sf1_2000_p31b',),\n",
       " ('sf1_2000_p31c',),\n",
       " ('sf1_2000_p31d',),\n",
       " ('sf1_2000_p31e',),\n",
       " ('sf1_2000_p31f',),\n",
       " ('sf1_2000_p31g',),\n",
       " ('sf1_2000_p31h',),\n",
       " ('sf1_2000_p31i',),\n",
       " ('sf1_2000_p32a',),\n",
       " ('sf1_2000_p32b',),\n",
       " ('sf1_2000_p32c',),\n",
       " ('sf1_2000_p32d',),\n",
       " ('sf1_2000_p32e',),\n",
       " ('sf1_2000_p32f',),\n",
       " ('sf1_2000_p32g',),\n",
       " ('sf1_2000_p32h',),\n",
       " ('sf1_2000_p32i',),\n",
       " ('sf1_2000_p33a',),\n",
       " ('sf1_2000_p33b',),\n",
       " ('sf1_2000_p33c',),\n",
       " ('sf1_2000_p33d',),\n",
       " ('sf1_2000_p33e',),\n",
       " ('sf1_2000_p33f',),\n",
       " ('sf1_2000_p33g',),\n",
       " ('sf1_2000_p33h',),\n",
       " ('sf1_2000_p33i',),\n",
       " ('sf1_2000_p34a',),\n",
       " ('sf1_2000_p34b',),\n",
       " ('sf1_2000_p34c',),\n",
       " ('sf1_2000_p34d',),\n",
       " ('sf1_2000_p34e',),\n",
       " ('sf1_2000_p34f',),\n",
       " ('sf1_2000_p34g',),\n",
       " ('sf1_2000_p34h',),\n",
       " ('sf1_2000_p34i',),\n",
       " ('sf1_2000_p35a',),\n",
       " ('sf1_2000_p35b',),\n",
       " ('sf1_2000_p35c',),\n",
       " ('sf1_2000_p35d',),\n",
       " ('sf1_2000_p35e',),\n",
       " ('sf1_2000_p35f',),\n",
       " ('sf1_2000_p35g',),\n",
       " ('sf1_2000_p35h',),\n",
       " ('sf1_2000_p35i',),\n",
       " ('sf1_2000_pct1',),\n",
       " ('sf1_2000_pct2',),\n",
       " ('sf1_2000_pct3',),\n",
       " ('sf1_2000_pct4',),\n",
       " ('sf1_2000_pct5',),\n",
       " ('sf1_2000_pct6',),\n",
       " ('sf1_2000_pct7',),\n",
       " ('sf1_2000_pct8',),\n",
       " ('sf1_2000_pct9',),\n",
       " ('sf1_2000_pct10',),\n",
       " ('sf1_2000_pct11',),\n",
       " ('sf1_2000_pct12',),\n",
       " ('sf1_2000_pct13',),\n",
       " ('sf1_2000_pct14',),\n",
       " ('sf1_2000_pct15',),\n",
       " ('sf1_2000_pct16',),\n",
       " ('sf1_2000_pct17',),\n",
       " ('sf1_2000_pct12a',),\n",
       " ('sf1_2000_pct12b',),\n",
       " ('sf1_2000_pct12c',),\n",
       " ('sf1_2000_pct12d',),\n",
       " ('sf1_2000_pct12e',),\n",
       " ('sf1_2000_pct12f',),\n",
       " ('sf1_2000_pct12g',),\n",
       " ('sf1_2000_pct12h',),\n",
       " ('sf1_2000_pct12i',),\n",
       " ('sf1_2000_pct12j',),\n",
       " ('sf1_2000_pct12k',),\n",
       " ('sf1_2000_pct12l',),\n",
       " ('sf1_2000_pct12m',),\n",
       " ('sf1_2000_pct12n',),\n",
       " ('sf1_2000_pct12o',),\n",
       " ('sf1_2000_pct13a',),\n",
       " ('sf1_2000_pct13b',),\n",
       " ('sf1_2000_pct13c',),\n",
       " ('sf1_2000_pct13d',),\n",
       " ('sf1_2000_pct13e',),\n",
       " ('sf1_2000_pct13f',),\n",
       " ('sf1_2000_pct13g',),\n",
       " ('sf1_2000_pct13h',),\n",
       " ('sf1_2000_pct13i',),\n",
       " ('sf1_2000_pct15a',),\n",
       " ('sf1_2000_pct15b',),\n",
       " ('sf1_2000_pct15c',),\n",
       " ('sf1_2000_pct15d',),\n",
       " ('sf1_2000_pct15e',),\n",
       " ('sf1_2000_pct15f',),\n",
       " ('sf1_2000_pct15g',),\n",
       " ('sf1_2000_pct15h',),\n",
       " ('sf1_2000_pct15i',),\n",
       " ('sf1_2000_pct17a',),\n",
       " ('sf1_2000_pct17b',),\n",
       " ('sf1_2000_pct17c',),\n",
       " ('sf1_2000_pct17d',),\n",
       " ('sf1_2000_pct17e',),\n",
       " ('sf1_2000_pct17f',),\n",
       " ('sf1_2000_pct17g',),\n",
       " ('sf1_2000_pct17h',),\n",
       " ('sf1_2000_pct17i',),\n",
       " ('sf1_2000_h1',),\n",
       " ('sf1_2000_h2',),\n",
       " ('sf1_2000_h3',),\n",
       " ('sf1_2000_h4',),\n",
       " ('sf1_2000_h5',),\n",
       " ('sf1_2000_h6',),\n",
       " ('sf1_2000_h7',),\n",
       " ('sf1_2000_h8',),\n",
       " ('sf1_2000_h9',),\n",
       " ('sf1_2000_h10',),\n",
       " ('sf1_2000_h11',),\n",
       " ('sf1_2000_h12',),\n",
       " ('sf1_2000_h13',),\n",
       " ('sf1_2000_h14',),\n",
       " ('sf1_2000_h15',),\n",
       " ('sf1_2000_h16',),\n",
       " ('sf1_2000_h17',),\n",
       " ('sf1_2000_h18',),\n",
       " ('sf1_2000_h19',),\n",
       " ('sf1_2000_h20',),\n",
       " ('sf1_2000_h11a',),\n",
       " ('sf1_2000_h11b',),\n",
       " ('sf1_2000_h11c',),\n",
       " ('sf1_2000_h11d',),\n",
       " ('sf1_2000_h11e',),\n",
       " ('sf1_2000_h11f',),\n",
       " ('sf1_2000_h11g',),\n",
       " ('sf1_2000_h11h',),\n",
       " ('sf1_2000_h11i',),\n",
       " ('sf1_2000_h12a',),\n",
       " ('sf1_2000_h12b',),\n",
       " ('sf1_2000_h12c',),\n",
       " ('sf1_2000_h12d',),\n",
       " ('sf1_2000_h12e',),\n",
       " ('sf1_2000_h12f',),\n",
       " ('sf1_2000_h12g',),\n",
       " ('sf1_2000_h12h',),\n",
       " ('sf1_2000_h12i',),\n",
       " ('sf1_2000_h15a',),\n",
       " ('sf1_2000_h15b',),\n",
       " ('sf1_2000_h15c',),\n",
       " ('sf1_2000_h15d',),\n",
       " ('sf1_2000_h15e',),\n",
       " ('sf1_2000_h15f',),\n",
       " ('sf1_2000_h15g',),\n",
       " ('sf1_2000_h15h',),\n",
       " ('sf1_2000_h15i',),\n",
       " ('sf1_2000_h16a',),\n",
       " ('sf1_2000_h16b',),\n",
       " ('sf1_2000_h16c',),\n",
       " ('sf1_2000_h16d',),\n",
       " ('sf1_2000_h16e',),\n",
       " ('sf1_2000_h16f',),\n",
       " ('sf1_2000_h16g',),\n",
       " ('sf1_2000_h16h',),\n",
       " ('sf1_2000_h16i',)]"
      ]
     },
     "execution_count": 26,
     "metadata": {},
     "output_type": "execute_result"
    }
   ],
   "source": [
    "query_psql(\"select table_name from INFORMATION_SCHEMA.views \"\n",
    "     \"WHERE table_name LIKE 'sf1_2000_%'\")"
   ]
  },
  {
   "cell_type": "code",
   "execution_count": null,
   "metadata": {
    "collapsed": true
   },
   "outputs": [],
   "source": []
  }
 ],
 "metadata": {
  "anaconda-cloud": {},
  "kernelspec": {
   "display_name": "Python [default]",
   "language": "python",
   "name": "python2"
  }
 },
 "nbformat": 4,
 "nbformat_minor": 1
}
