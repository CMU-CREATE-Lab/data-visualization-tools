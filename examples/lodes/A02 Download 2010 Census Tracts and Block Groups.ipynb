{
 "cells": [
  {
   "cell_type": "markdown",
   "metadata": {},
   "source": [
    "# Download 2010 Census Tract and Block Group Shapes"
   ]
  },
  {
   "cell_type": "code",
   "execution_count": 93,
   "metadata": {
    "collapsed": false
   },
   "outputs": [],
   "source": [
    "import csv, glob, json, os, re, shutil\n",
    "import subprocess, sys, threading, traceback, urllib2\n",
    "\n",
    "def exec_ipynb(filename_or_url):\n",
    "    nb = (urllib2.urlopen(filename_or_url) if re.match(r'https?:', filename_or_url) else open(filename_or_url)).read()\n",
    "    jsonNb = json.loads(nb)\n",
    "    #check for the modified formatting of Jupyter Notebook v4\n",
    "    if(jsonNb['nbformat'] == 4):\n",
    "        exec '\\n'.join([''.join(cell['source']) for cell in jsonNb['cells'] if cell['cell_type'] == 'code']) in globals()\n",
    "    else:\n",
    "        exec '\\n'.join([''.join(cell['input']) for cell in jsonNb['worksheets'][0]['cells'] if cell['cell_type'] == 'code']) in globals()\n",
    "\n",
    "exec_ipynb('timelapse-utilities.ipynb')"
   ]
  },
  {
   "cell_type": "markdown",
   "metadata": {},
   "source": [
    "Census 2010 subdivisions, for U.S. only:\n",
    "    \n",
    "    ~50 states\n",
    "    ~73K census tracts (approx 4000 people)\n",
    "    ~218K block groups (approx 1500 people)\n",
    "    ~11M blocks"
   ]
  },
  {
   "cell_type": "markdown",
   "metadata": {},
   "source": [
    "### Download TIGER2010 2010 Tract shapefiles"
   ]
  },
  {
   "cell_type": "code",
   "execution_count": 90,
   "metadata": {
    "collapsed": true
   },
   "outputs": [],
   "source": [
    "def state_tract_geojson_path(state_id):\n",
    "    return 'capture/tiger2010_census2010_tracts/{state_id}.geojson'.format(**locals())\n",
    "\n",
    "def download_and_convert_state(state_id):\n",
    "    tracts_geojson_path = state_tract_geojson_path(state_id)\n",
    "    if os.path.exists(tracts_geojson_path):\n",
    "        sys.stderr.write('{tracts_geojson_path} already exists, skipping\\n'.format(**locals()))\n",
    "        return\n",
    "    \n",
    "    src_zipfile = 'https://www2.census.gov/geo/tiger/TIGER2010/TRACT/2010/tl_2010_{state_id}_tract10.zip'.format(**locals())\n",
    "    local_zipfile = 'capture/tiger2010_census2010_tracts/tl_2010_{state_id}_tract10.zip'.format(**locals())\n",
    "    download_file(src_zipfile, local_zipfile)\n",
    "    unzip_file(local_zipfile)\n",
    "    local_zipfile_dir = os.path.splitext(local_zipfile)[0]\n",
    "\n",
    "    tracts_shapefile = glob.glob(local_zipfile_dir + '/*.shp')[0]\n",
    "    tracts_geojson_path_tmp = tracts_geojson_path + '.tmp.geojson'\n",
    "\n",
    "    try:\n",
    "        os.unlink(tracts_geojson_path_tmp)\n",
    "    except:\n",
    "        pass\n",
    "\n",
    "    cmd = 'ogr2ogr -f GeoJSON -t_srs crs:84 {tracts_geojson_path_tmp} {tracts_shapefile}'.format(**locals())\n",
    "    subprocess_check(cmd)\n",
    "    os.rename(tracts_geojson_path_tmp, tracts_geojson_path)\n",
    "    os.unlink(local_zipfile)\n",
    "    shutil.rmtree(local_zipfile_dir)\n",
    "    \n",
    "    !ls -lh $tracts_geojson_path\n",
    "    \n",
    "    return tracts_geojson_path"
   ]
  },
  {
   "cell_type": "code",
   "execution_count": 87,
   "metadata": {
    "collapsed": false
   },
   "outputs": [
    {
     "name": "stdout",
     "output_type": "stream",
     "text": [
      "SimpleThreadPoolExecutor succeeded: all 51 jobs completed\n"
     ]
    },
    {
     "name": "stderr",
     "output_type": "stream",
     "text": [
      "capture/tiger2010_census2010_tracts/01.geojson already exists, skipping\n",
      "capture/tiger2010_census2010_tracts/02.geojson already exists, skipping\n",
      "capture/tiger2010_census2010_tracts/04.geojson already exists, skipping\n",
      "capture/tiger2010_census2010_tracts/05.geojson already exists, skipping\n",
      "capture/tiger2010_census2010_tracts/06.geojson already exists, skipping\n",
      "capture/tiger2010_census2010_tracts/08.geojson already exists, skipping\n",
      "capture/tiger2010_census2010_tracts/09.geojson already exists, skipping\n",
      "capture/tiger2010_census2010_tracts/10.geojson already exists, skipping\n",
      "capture/tiger2010_census2010_tracts/11.geojson already exists, skipping\n",
      "capture/tiger2010_census2010_tracts/13.geojson already exists, skipping\n",
      "capture/tiger2010_census2010_tracts/12.geojson already exists, skipping\n",
      "capture/tiger2010_census2010_tracts/15.geojson already exists, skipping\n",
      "capture/tiger2010_census2010_tracts/16.geojson already exists, skipping\n",
      "capture/tiger2010_census2010_tracts/17.geojson already exists, skipping\n",
      "capture/tiger2010_census2010_tracts/18.geojson already exists, skipping\n",
      "capture/tiger2010_census2010_tracts/19.geojson already exists, skipping\n",
      "capture/tiger2010_census2010_tracts/20.geojson already exists, skipping\n",
      "capture/tiger2010_census2010_tracts/21.geojson already exists, skipping\n",
      "capture/tiger2010_census2010_tracts/22.geojson already exists, skipping\n",
      "capture/tiger2010_census2010_tracts/23.geojson already exists, skipping\n",
      "capture/tiger2010_census2010_tracts/25.geojson already exists, skipping\n",
      "capture/tiger2010_census2010_tracts/24.geojson already exists, skipping\n",
      "capture/tiger2010_census2010_tracts/26.geojson already exists, skipping\n",
      "capture/tiger2010_census2010_tracts/27.geojson already exists, skipping\n",
      "capture/tiger2010_census2010_tracts/28.geojson already exists, skipping\n",
      "capture/tiger2010_census2010_tracts/30.geojson already exists, skipping\n",
      "capture/tiger2010_census2010_tracts/31.geojson already exists, skipping\n",
      "capture/tiger2010_census2010_tracts/32.geojson already exists, skipping\n",
      "capture/tiger2010_census2010_tracts/29.geojson already exists, skipping\n",
      "capture/tiger2010_census2010_tracts/34.geojson already exists, skipping\n",
      "capture/tiger2010_census2010_tracts/33.geojson already exists, skipping\n",
      "capture/tiger2010_census2010_tracts/35.geojson already exists, skipping\n",
      "capture/tiger2010_census2010_tracts/36.geojson already exists, skipping\n",
      "capture/tiger2010_census2010_tracts/37.geojson already exists, skipping\n",
      "capture/tiger2010_census2010_tracts/38.geojson already exists, skipping\n",
      "capture/tiger2010_census2010_tracts/39.geojson already exists, skipping\n",
      "capture/tiger2010_census2010_tracts/40.geojson already exists, skipping\n",
      "capture/tiger2010_census2010_tracts/41.geojson already exists, skipping\n",
      "capture/tiger2010_census2010_tracts/42.geojson already exists, skipping\n",
      "capture/tiger2010_census2010_tracts/44.geojson already exists, skipping\n",
      "capture/tiger2010_census2010_tracts/46.geojson already exists, skipping\n",
      "capture/tiger2010_census2010_tracts/45.geojson already exists, skipping\n",
      "capture/tiger2010_census2010_tracts/48.geojson already exists, skipping\n",
      "capture/tiger2010_census2010_tracts/49.geojson already exists, skipping\n",
      "capture/tiger2010_census2010_tracts/50.geojson already exists, skipping\n",
      "capture/tiger2010_census2010_tracts/47.geojson already exists, skipping\n",
      "capture/tiger2010_census2010_tracts/51.geojson already exists, skipping\n",
      "capture/tiger2010_census2010_tracts/53.geojson already exists, skipping\n",
      "capture/tiger2010_census2010_tracts/54.geojson already exists, skipping\n",
      "capture/tiger2010_census2010_tracts/55.geojson already exists, skipping\n",
      "capture/tiger2010_census2010_tracts/56.geojson already exists, skipping\n"
     ]
    }
   ],
   "source": [
    "pool = SimpleThreadPoolExecutor(max_workers=5)\n",
    "\n",
    "for state_id in state_ids:\n",
    "    pool.submit(download_and_convert_state, state_id)\n",
    "\n",
    "pool.shutdown()\n",
    "None"
   ]
  },
  {
   "cell_type": "code",
   "execution_count": 100,
   "metadata": {
    "collapsed": false
   },
   "outputs": [
    {
     "name": "stdout",
     "output_type": "stream",
     "text": [
      "capture/tiger2010_census2010_tracts/01.geojson has 1181 tracts\n",
      "capture/tiger2010_census2010_tracts/02.geojson has 167 tracts\n",
      "capture/tiger2010_census2010_tracts/04.geojson has 1526 tracts\n",
      "capture/tiger2010_census2010_tracts/05.geojson has 686 tracts\n",
      "capture/tiger2010_census2010_tracts/06.geojson has 8057 tracts\n",
      "capture/tiger2010_census2010_tracts/08.geojson has 1249 tracts\n",
      "capture/tiger2010_census2010_tracts/09.geojson has 833 tracts\n",
      "capture/tiger2010_census2010_tracts/10.geojson has 218 tracts\n",
      "capture/tiger2010_census2010_tracts/11.geojson has 179 tracts\n",
      "capture/tiger2010_census2010_tracts/12.geojson has 4245 tracts\n",
      "capture/tiger2010_census2010_tracts/13.geojson has 1969 tracts\n",
      "capture/tiger2010_census2010_tracts/15.geojson has 351 tracts\n",
      "capture/tiger2010_census2010_tracts/16.geojson has 298 tracts\n",
      "capture/tiger2010_census2010_tracts/17.geojson has 3123 tracts\n",
      "capture/tiger2010_census2010_tracts/18.geojson has 1511 tracts\n",
      "capture/tiger2010_census2010_tracts/19.geojson has 825 tracts\n",
      "capture/tiger2010_census2010_tracts/20.geojson has 770 tracts\n",
      "capture/tiger2010_census2010_tracts/21.geojson has 1115 tracts\n",
      "capture/tiger2010_census2010_tracts/22.geojson has 1148 tracts\n",
      "capture/tiger2010_census2010_tracts/23.geojson has 358 tracts\n",
      "capture/tiger2010_census2010_tracts/24.geojson has 1406 tracts\n",
      "capture/tiger2010_census2010_tracts/25.geojson has 1478 tracts\n",
      "capture/tiger2010_census2010_tracts/26.geojson has 2813 tracts\n",
      "capture/tiger2010_census2010_tracts/27.geojson has 1338 tracts\n",
      "capture/tiger2010_census2010_tracts/28.geojson has 664 tracts\n",
      "capture/tiger2010_census2010_tracts/29.geojson has 1393 tracts\n",
      "capture/tiger2010_census2010_tracts/30.geojson has 271 tracts\n",
      "capture/tiger2010_census2010_tracts/31.geojson has 532 tracts\n",
      "capture/tiger2010_census2010_tracts/32.geojson has 687 tracts\n",
      "capture/tiger2010_census2010_tracts/33.geojson has 295 tracts\n",
      "capture/tiger2010_census2010_tracts/34.geojson has 2010 tracts\n",
      "capture/tiger2010_census2010_tracts/35.geojson has 499 tracts\n",
      "capture/tiger2010_census2010_tracts/36.geojson has 4919 tracts\n",
      "capture/tiger2010_census2010_tracts/37.geojson has 2195 tracts\n",
      "capture/tiger2010_census2010_tracts/38.geojson has 205 tracts\n",
      "capture/tiger2010_census2010_tracts/39.geojson has 2952 tracts\n",
      "capture/tiger2010_census2010_tracts/40.geojson has 1046 tracts\n",
      "capture/tiger2010_census2010_tracts/41.geojson has 834 tracts\n",
      "capture/tiger2010_census2010_tracts/42.geojson has 3218 tracts\n",
      "capture/tiger2010_census2010_tracts/44.geojson has 244 tracts\n",
      "capture/tiger2010_census2010_tracts/45.geojson has 1103 tracts\n",
      "capture/tiger2010_census2010_tracts/46.geojson has 222 tracts\n",
      "capture/tiger2010_census2010_tracts/47.geojson has 1497 tracts\n",
      "capture/tiger2010_census2010_tracts/48.geojson has 5265 tracts\n",
      "capture/tiger2010_census2010_tracts/49.geojson has 588 tracts\n",
      "capture/tiger2010_census2010_tracts/50.geojson has 184 tracts\n",
      "capture/tiger2010_census2010_tracts/51.geojson has 1907 tracts\n",
      "capture/tiger2010_census2010_tracts/53.geojson has 1458 tracts\n",
      "capture/tiger2010_census2010_tracts/54.geojson has 484 tracts\n",
      "capture/tiger2010_census2010_tracts/55.geojson has 1409 tracts\n",
      "capture/tiger2010_census2010_tracts/56.geojson has 132 tracts\n",
      "73057 geoids, from 01001020100 to 56045951300\n"
     ]
    }
   ],
   "source": [
    "all_geoids = []\n",
    "\n",
    "for state_id in state_ids:\n",
    "    path = state_tract_geojson_path(state_id)\n",
    "    geojson = json.load(open(path))\n",
    "    geoids = [feature['properties']['GEOID10'] for feature in geojson['features']]\n",
    "    print '%s has %d tracts' % (path, len(geoids))\n",
    "    all_geoids.extend(geoids)\n",
    "\n",
    "all_geoids = sorted(all_geoids)\n",
    "\n",
    "print len(all_geoids), 'geoids, from', all_geoids[0], 'to', all_geoids[-1]"
   ]
  },
  {
   "cell_type": "code",
   "execution_count": 25,
   "metadata": {
    "collapsed": false
   },
   "outputs": [
    {
     "data": {
      "text/plain": [
       "{u'ALAND10': 352811329.0,\n",
       " u'AWATER10': 499970.0,\n",
       " u'COUNTYFP10': u'005',\n",
       " u'FUNCSTAT10': u'S',\n",
       " u'GEOID10': u'01005950300',\n",
       " u'INTPTLAT10': u'+31.7908933',\n",
       " u'INTPTLON10': u'-085.5670514',\n",
       " u'MTFCC10': u'G5020',\n",
       " u'NAME10': u'9503',\n",
       " u'NAMELSAD10': u'Census Tract 9503',\n",
       " u'STATEFP10': u'01',\n",
       " u'TRACTCE10': u'950300'}"
      ]
     },
     "execution_count": 25,
     "metadata": {},
     "output_type": "execute_result"
    }
   ],
   "source": [
    "tracts['features'][0]['properties']"
   ]
  }
 ],
 "metadata": {
  "anaconda-cloud": {},
  "kernelspec": {
   "display_name": "Python [default]",
   "language": "python",
   "name": "python2"
  },
  "language_info": {
   "codemirror_mode": {
    "name": "ipython",
    "version": 2
   },
   "file_extension": ".py",
   "mimetype": "text/x-python",
   "name": "python",
   "nbconvert_exporter": "python",
   "pygments_lexer": "ipython2",
   "version": "2.7.12"
  }
 },
 "nbformat": 4,
 "nbformat_minor": 0
}
