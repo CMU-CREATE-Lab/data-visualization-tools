{
 "cells": [
  {
   "cell_type": "code",
   "execution_count": 136,
   "metadata": {
    "collapsed": false
   },
   "outputs": [],
   "source": [
    "import BeautifulSoup, csv, re, subprocess\n",
    "# !pip install BeautifulSoup"
   ]
  },
  {
   "cell_type": "code",
   "execution_count": null,
   "metadata": {
    "collapsed": true
   },
   "outputs": [],
   "source": [
    "dir = 'LuxembourgIncomeStudy'\n",
    "!mkdir -p $dir"
   ]
  },
  {
   "cell_type": "code",
   "execution_count": 146,
   "metadata": {
    "collapsed": false
   },
   "outputs": [],
   "source": [
    "README = \"\"\"\n",
    "Inequality and Poverty Key Figures from the Luxembourg Income Study\n",
    "\n",
    "Downloaded from\n",
    "http://www.lisdatacenter.org/lis-ikf-webapp/app/search-ikf-figures\n",
    "\n",
    "and converted to CSV using LuxembourgIncomeStudy.ipynb\n",
    "\"\"\"\n",
    "\n",
    "open('%s/README.txt' % dir, 'w').write(README)"
   ]
  },
  {
   "cell_type": "code",
   "execution_count": 138,
   "metadata": {
    "collapsed": false
   },
   "outputs": [],
   "source": [
    "cmd = \"\"\"curl\n",
    "http://www.lisdatacenter.org/lis-ikf-webapp/app/search-ikf-figures\n",
    "-H 'Pragma: no-cache' -H 'Origin: http://www.lisdatacenter.org'\n",
    "-H 'User-Agent: Mozilla/5.0 (Macintosh; Intel Mac OS X 10_12_1) AppleWebKit/537.36 (KHTML, like Gecko) Chrome/58.0.3029.81 Safari/537.36'\n",
    "-H 'Content-Type: application/x-www-form-urlencoded' -H 'Cache-Control: no-cache'\n",
    "-H 'Referer: http://www.lisdatacenter.org/lis-ikf-webapp/app/search-ikf-figures'\n",
    "-H 'Cookie: JSESSIONID=D4968A6FAB96533E24BC42EE534788E9; __utmt=1; __utma=212796297.324415436.1493049554.1493640200.1493642970.3; __utmb=212796297.7.10.1493642970; __utmc=212796297; __utmz=212796297.1493049554.1.1.utmcsr=(direct)|utmccn=(direct)|utmcmd=(none)' --data '_datasetIdList=1&_indicatorIdList=1&fromsearch=fromsearch'\n",
    "\"\"\".replace('\\n', ' ')\n",
    "body = subprocess.check_output(cmd, shell=True)\n"
   ]
  },
  {
   "cell_type": "code",
   "execution_count": 139,
   "metadata": {
    "collapsed": false
   },
   "outputs": [
    {
     "name": "stdout",
     "output_type": "stream",
     "text": [
      "Found table with 292 rows\n"
     ]
    }
   ],
   "source": [
    "soup = BeautifulSoup.BeautifulSoup(body)\n",
    "table = soup.findAll(\"table\")[-1]\n",
    "rows = table.findAll('tr')\n",
    "print 'Found table with %d rows' % len(rows)\n",
    "# Was 292 on 2017-May-01\n",
    "assert len(rows) > 250"
   ]
  },
  {
   "cell_type": "code",
   "execution_count": 140,
   "metadata": {
    "collapsed": false
   },
   "outputs": [
    {
     "name": "stdout",
     "output_type": "stream",
     "text": [
      "Found metrics gini, atk5, atk1, d9010, d9050, d8020, poorAll4, poorAll5, poorAll6, poorK4, poorK5, poorK6, poorE4, poorE5, poorE6, d5075, d75150, d150, poortp, poorsm, pkidsm, eymed, average\n"
     ]
    }
   ],
   "source": [
    "headings_html = table.findAll('tr')[0].findAll('th')[1:]\n",
    "metrics = [h.string for h in headings_html]\n",
    "print 'Found metrics %s' % ', '.join(metrics)\n",
    "assert len(metrics) > 10"
   ]
  },
  {
   "cell_type": "code",
   "execution_count": 141,
   "metadata": {
    "collapsed": false
   },
   "outputs": [],
   "source": [
    "data = {}\n",
    "\n",
    "# Multi-level dictionary insert, creating new sublevels as needed\n",
    "# Performs dest[hierarchy[0]][hierarchy[1]]...[hierarchy[N]] = val\n",
    "\n",
    "def insert(dest, hierarchy, val):\n",
    "    key = hierarchy[0]\n",
    "    hierarchy = hierarchy[1:]\n",
    "    if hierarchy:\n",
    "        if not key in dest:\n",
    "            dest[key] = {}\n",
    "        insert(dest[key], hierarchy, val)\n",
    "    else:\n",
    "        dest[key] = val\n",
    "\n",
    "def html_to_number(html):\n",
    "    if not html.string:\n",
    "        return ''\n",
    "    return float(html.string.strip())\n",
    "\n",
    "for row in rows[1:]:\n",
    "    labels_html = row.findAll('th')\n",
    "    assert len(labels_html) == 1\n",
    "    label = labels_html[0].string\n",
    "    assert len(label) == 4\n",
    "    country = label[0:2]\n",
    "    yy = label[2:4]\n",
    "    if yy < \"30\":\n",
    "        yyyy = 2000 + int(yy)\n",
    "    else:\n",
    "        yyyy = 1900 + int(yy)\n",
    "        \n",
    "    cols_html = row.findAll('td')\n",
    "    assert len(cols_html) == len(metrics)\n",
    "\n",
    "    cols = [html_to_number(c) for c in cols_html]\n",
    "        \n",
    "    for (metric, col) in zip(metrics, cols):\n",
    "        insert(data, [metric, country, yyyy], col)"
   ]
  },
  {
   "cell_type": "code",
   "execution_count": 143,
   "metadata": {
    "collapsed": false
   },
   "outputs": [
    {
     "data": {
      "text/plain": [
       "{'atk1': 'Atkinson_Coefficient_epsilon_1',\n",
       " 'atk5': 'Atkinson_Coefficient_epsilon_0_5',\n",
       " 'average': 'Mean_Equivalized_Income',\n",
       " 'd150': 'Distribution_of_Children_by_Income_Group_above_150',\n",
       " 'd5075': 'Distribution_of_Children_by_Income_Group_50_75',\n",
       " 'd75150': 'Distribution_of_Children_by_Income_Group_75_150',\n",
       " 'd8020': 'Percentile_Ratio_80_20',\n",
       " 'd9010': 'Percentile_Ratio_90_10',\n",
       " 'd9050': 'Percentile_Ratio_90_50',\n",
       " 'eymed': 'Median_Equivalized_Income',\n",
       " 'gini': 'Gini_Coefficient',\n",
       " 'pkidsm': 'Children_Living_in_Single_Mother_Families',\n",
       " 'poorAll4': 'Relative_Poverty_Rates_Total_Population_40',\n",
       " 'poorAll5': 'Relative_Poverty_Rates_Total_Population_50',\n",
       " 'poorAll6': 'Relative_Poverty_Rates_Total_Population_60',\n",
       " 'poorE4': 'Relative_Poverty_Rates_Elderly_40',\n",
       " 'poorE5': 'Relative_Poverty_Rates_Elderly_50',\n",
       " 'poorE6': 'Relative_Poverty_Rates_Elderly_60',\n",
       " 'poorK4': 'Relative_Poverty_Rates_Children_40',\n",
       " 'poorK5': 'Relative_Poverty_Rates_Children_50',\n",
       " 'poorK6': 'Relative_Poverty_Rates_Children_60',\n",
       " 'poorsm': 'Children_Poverty_Rates_Single_Mother_Families_50',\n",
       " 'poortp': 'Children_Poverty_Rates_Two_Parent_Families_50'}"
      ]
     },
     "execution_count": 143,
     "metadata": {},
     "output_type": "execute_result"
    }
   ],
   "source": [
    "descriptions = {}\n",
    "\n",
    "meta_html = soup.findAll('p', {'class':'meta'})\n",
    "assert len(meta_html) == 1\n",
    "for (name, desc) in re.findall(r'\\s\\s\\s(\\w+)\\s+-\\W+(.*?)\\W*<', str(meta_html[0])):\n",
    "    descriptions[name] = re.sub(r'\\W+', '_', desc)\n",
    "\n",
    "descriptions"
   ]
  },
  {
   "cell_type": "code",
   "execution_count": 144,
   "metadata": {
    "collapsed": false
   },
   "outputs": [
    {
     "name": "stdout",
     "output_type": "stream",
     "text": [
      "Created LuxembourgIncomeStudy/Distribution_of_Children_by_Income_Group_75_150.csv with 43 years x 47 countries (14.4%)\n",
      "Created LuxembourgIncomeStudy/Children_Poverty_Rates_Single_Mother_Families_50.csv with 43 years x 47 countries (14.3%)\n",
      "Created LuxembourgIncomeStudy/Median_Equivalized_Income.csv with 43 years x 47 countries (14.4%)\n",
      "Created LuxembourgIncomeStudy/Gini_Coefficient.csv with 43 years x 47 countries (14.4%)\n",
      "Created LuxembourgIncomeStudy/Children_Living_in_Single_Mother_Families.csv with 43 years x 47 countries (14.3%)\n",
      "Created LuxembourgIncomeStudy/Distribution_of_Children_by_Income_Group_above_150.csv with 43 years x 47 countries (14.4%)\n",
      "Created LuxembourgIncomeStudy/Relative_Poverty_Rates_Total_Population_60.csv with 43 years x 47 countries (14.4%)\n",
      "Created LuxembourgIncomeStudy/Relative_Poverty_Rates_Total_Population_50.csv with 43 years x 47 countries (14.4%)\n",
      "Created LuxembourgIncomeStudy/Relative_Poverty_Rates_Total_Population_40.csv with 43 years x 47 countries (14.4%)\n",
      "Created LuxembourgIncomeStudy/Children_Poverty_Rates_Two_Parent_Families_50.csv with 43 years x 47 countries (14.4%)\n",
      "Created LuxembourgIncomeStudy/Percentile_Ratio_90_10.csv with 43 years x 47 countries (14.4%)\n",
      "Created LuxembourgIncomeStudy/Distribution_of_Children_by_Income_Group_50_75.csv with 43 years x 47 countries (14.4%)\n",
      "Created LuxembourgIncomeStudy/Relative_Poverty_Rates_Children_60.csv with 43 years x 47 countries (14.4%)\n",
      "Created LuxembourgIncomeStudy/Relative_Poverty_Rates_Children_50.csv with 43 years x 47 countries (14.4%)\n",
      "Created LuxembourgIncomeStudy/Relative_Poverty_Rates_Children_40.csv with 43 years x 47 countries (14.4%)\n",
      "Created LuxembourgIncomeStudy/Relative_Poverty_Rates_Elderly_50.csv with 43 years x 47 countries (14.3%)\n",
      "Created LuxembourgIncomeStudy/Relative_Poverty_Rates_Elderly_40.csv with 43 years x 47 countries (14.3%)\n",
      "Created LuxembourgIncomeStudy/Mean_Equivalized_Income.csv with 43 years x 47 countries (14.4%)\n",
      "Created LuxembourgIncomeStudy/Relative_Poverty_Rates_Elderly_60.csv with 43 years x 47 countries (14.3%)\n",
      "Created LuxembourgIncomeStudy/Percentile_Ratio_80_20.csv with 43 years x 47 countries (14.4%)\n",
      "Created LuxembourgIncomeStudy/Atkinson_Coefficient_epsilon_0_5.csv with 43 years x 47 countries (14.4%)\n",
      "Created LuxembourgIncomeStudy/Percentile_Ratio_90_50.csv with 43 years x 47 countries (14.4%)\n",
      "Created LuxembourgIncomeStudy/Atkinson_Coefficient_epsilon_1.csv with 43 years x 47 countries (14.4%)\n"
     ]
    }
   ],
   "source": [
    "def write_annual_csv(filename, table):\n",
    "    # Find complete set of years\n",
    "    year_set = set()\n",
    "    all_datapoints = [] \n",
    "    for country in sorted(table.keys()):\n",
    "        year_set |= set(table[country].keys())\n",
    "    year_list = sorted(list(year_set))\n",
    "\n",
    "    with open(dest, 'w') as out:\n",
    "        writer = csv.writer(out)\n",
    "        writer.writerow(['Country'] + year_list)\n",
    "        for country in sorted(table.keys()):\n",
    "            data = [table[country].get(year, '') for year in year_list]\n",
    "            writer.writerow([country] + data)\n",
    "            all_datapoints += data\n",
    "    \n",
    "    percent_defined = 100.0 * sum([d != '' for d in all_datapoints]) / len(all_datapoints)\n",
    "    print ('Created %s with %d years x %d countries (%.1f%%)' % \n",
    "        (filename, len(year_list), len(table.keys()), percent_defined))\n",
    "\n",
    "for metric in data.keys():\n",
    "    dest = '%s/%s.csv' % (dir, descriptions[metric])\n",
    "    write_annual_csv(dest, data[metric])"
   ]
  },
  {
   "cell_type": "code",
   "execution_count": 148,
   "metadata": {
    "collapsed": false
   },
   "outputs": [
    {
     "name": "stdout",
     "output_type": "stream",
     "text": [
      "building file list ... done\n",
      "LuxembourgIncomeStudy/\n",
      "LuxembourgIncomeStudy/Atkinson_Coefficient_epsilon_0_5.csv\n",
      "LuxembourgIncomeStudy/Atkinson_Coefficient_epsilon_1.csv\n",
      "LuxembourgIncomeStudy/Children_Living_in_Single_Mother_Families.csv\n",
      "LuxembourgIncomeStudy/Children_Poverty_Rates_Single_Mother_Families_50.csv\n",
      "LuxembourgIncomeStudy/Children_Poverty_Rates_Two_Parent_Families_50.csv\n",
      "LuxembourgIncomeStudy/Distribution_of_Children_by_Income_Group_50_75.csv\n",
      "LuxembourgIncomeStudy/Distribution_of_Children_by_Income_Group_75_150.csv\n",
      "LuxembourgIncomeStudy/Distribution_of_Children_by_Income_Group_above_150.csv\n",
      "LuxembourgIncomeStudy/Gini_Coefficient.csv\n",
      "LuxembourgIncomeStudy/Mean_Equivalized_Income.csv\n",
      "LuxembourgIncomeStudy/Median_Equivalized_Income.csv\n",
      "LuxembourgIncomeStudy/Percentile_Ratio_80_20.csv\n",
      "LuxembourgIncomeStudy/Percentile_Ratio_90_10.csv\n",
      "LuxembourgIncomeStudy/Percentile_Ratio_90_50.csv\n",
      "LuxembourgIncomeStudy/README.txt\n",
      "LuxembourgIncomeStudy/Relative_Poverty_Rates_Children_40.csv\n",
      "LuxembourgIncomeStudy/Relative_Poverty_Rates_Children_50.csv\n",
      "LuxembourgIncomeStudy/Relative_Poverty_Rates_Children_60.csv\n",
      "LuxembourgIncomeStudy/Relative_Poverty_Rates_Elderly_40.csv\n",
      "LuxembourgIncomeStudy/Relative_Poverty_Rates_Elderly_50.csv\n",
      "LuxembourgIncomeStudy/Relative_Poverty_Rates_Elderly_60.csv\n",
      "LuxembourgIncomeStudy/Relative_Poverty_Rates_Total_Population_40.csv\n",
      "LuxembourgIncomeStudy/Relative_Poverty_Rates_Total_Population_50.csv\n",
      "LuxembourgIncomeStudy/Relative_Poverty_Rates_Total_Population_60.csv\n",
      "\n",
      "sent 95164 bytes  received 554 bytes  191436.00 bytes/sec\n",
      "total size is 93311  speedup is 0.97\n"
     ]
    }
   ],
   "source": [
    "!rsync -av LuxembourgIncomeStudy tm1:/usr4/web/data.cmucreatelab.org/www/earthtime"
   ]
  }
 ],
 "metadata": {
  "kernelspec": {
   "display_name": "Python 2",
   "language": "python",
   "name": "python2"
  },
  "language_info": {
   "codemirror_mode": {
    "name": "ipython",
    "version": 2
   },
   "file_extension": ".py",
   "mimetype": "text/x-python",
   "name": "python",
   "nbconvert_exporter": "python",
   "pygments_lexer": "ipython2",
   "version": "2.7.11"
  }
 },
 "nbformat": 4,
 "nbformat_minor": 0
}
