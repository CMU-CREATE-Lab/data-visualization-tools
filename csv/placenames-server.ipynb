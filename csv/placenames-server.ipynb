{
 "cells": [
  {
   "cell_type": "code",
   "execution_count": 1,
   "metadata": {
    "collapsed": true
   },
   "outputs": [],
   "source": [
    "import cStringIO, csv, json, numpy, pandas, re, urllib2, urlparse"
   ]
  },
  {
   "cell_type": "code",
   "execution_count": 23,
   "metadata": {
    "collapsed": false
   },
   "outputs": [],
   "source": [
    "def read_csv(url):\n",
    "    # If this is a raw google sheets URL, turn it into an export URL\n",
    "    parsed = urlparse.urlparse(url)\n",
    "    if parsed.netloc == 'docs.google.com' and parsed.path.split('/')[-1] != 'export' and not parsed.query:\n",
    "        url = re.sub(r'#.*$', '', url)\n",
    "        url = re.sub(r'/edit$', '', url)\n",
    "        url += '/export?format=csv'\n",
    "    return pandas.read_csv(urllib2.urlopen(url), dtype=numpy.str, na_filter=False, encoding='utf-8')"
   ]
  },
  {
   "cell_type": "markdown",
   "metadata": {},
   "source": [
    "### Read city name to lat lon mapping from\n",
    "https://docs.google.com/spreadsheets/d/1dhkpOdy6vP7UjcoxlX48okNapYr9qS7EuzNH6IB8cFA\n"
   ]
  },
  {
   "cell_type": "code",
   "execution_count": 3,
   "metadata": {
    "collapsed": false
   },
   "outputs": [
    {
     "name": "stdout",
     "output_type": "stream",
     "text": [
      "Read 15 city locations from https://docs.google.com/spreadsheets/d/1dhkpOdy6vP7UjcoxlX48okNapYr9qS7EuzNH6IB8cFA\n"
     ]
    }
   ],
   "source": [
    "city2latlon_url = 'https://docs.google.com/spreadsheets/d/1dhkpOdy6vP7UjcoxlX48okNapYr9qS7EuzNH6IB8cFA'\n",
    "city2latlon = {}\n",
    "\n",
    "for city_record in read_csv(city2latlon_url).values:\n",
    "    (city, lat, lon) = city_record\n",
    "    city = city.strip()\n",
    "    city2latlon[city] = {'lat':float(lat), 'lon':float(lon)}\n",
    "print 'Read %d city locations from %s' % (len(city2latlon), city2latlon_url)\n",
    "\n",
    "assert 'Seattle' in city2latlon"
   ]
  },
  {
   "cell_type": "markdown",
   "metadata": {},
   "source": [
    "### Read country name to alpha3 mappings from\n",
    "\n",
    "https://docs.google.com/spreadsheets/d/11Q9Gq-BNTElOsA4u5BdIcM8CWG-eWRT8c3I_8AQ03CM/edit#gid=0"
   ]
  },
  {
   "cell_type": "code",
   "execution_count": 4,
   "metadata": {
    "collapsed": false
   },
   "outputs": [
    {
     "name": "stdout",
     "output_type": "stream",
     "text": [
      "Read 335 entities from country sheet https://docs.google.com/spreadsheets/d/11Q9Gq-BNTElOsA4u5BdIcM8CWG-eWRT8c3I_8AQ03CM\n"
     ]
    }
   ],
   "source": [
    "countries_sheet_url = 'https://docs.google.com/spreadsheets/d/11Q9Gq-BNTElOsA4u5BdIcM8CWG-eWRT8c3I_8AQ03CM'\n",
    "\n",
    "countries_sheet_data = read_csv(countries_sheet_url)\n",
    "\n",
    "print 'Read %d entities from country sheet %s' % (len(countries_sheet_data), countries_sheet_url)\n",
    "\n",
    "country_aliases = {}\n",
    "\n",
    "for place in countries_sheet_data.values:\n",
    "    alpha3 = place[1].strip()\n",
    "    for alias in place[1:]:\n",
    "        if len(alias):\n",
    "            country_aliases[alias.lower().strip()] = alpha3\n",
    "\n",
    "# Returns None if name isn't in the country list\n",
    "# Returns '' if name is in the list but there's no code (typically a named region)\n",
    "def map_country_to_alpha3(name):\n",
    "    try:\n",
    "        return country_aliases[name.lower()]\n",
    "    except:\n",
    "        return None\n",
    "\n",
    "assert map_country_to_alpha3('af') == 'AFG'\n",
    "assert map_country_to_alpha3(u'Åland Islands') == 'ALA'"
   ]
  },
  {
   "cell_type": "markdown",
   "metadata": {
    "collapsed": true
   },
   "source": [
    "### Read CSV from file to translate\n",
    "http://docs.google.com/spreadsheet/pub?key=pyj6tScZqmEcjeKHnZq6RIg&output=csv"
   ]
  },
  {
   "cell_type": "code",
   "execution_count": 10,
   "metadata": {
    "collapsed": false
   },
   "outputs": [],
   "source": [
    "# Returns {'name':name and optional 'lat':lat, 'lon':lon} \n",
    "# Returns None if no translation found\n",
    "# Returns {} if we should omit place from output\n",
    "\n",
    "\n",
    "def lookup_placename(name):\n",
    "    ret = {}\n",
    "    alpha3 = map_country_to_alpha3(name)\n",
    "    if alpha3 != None:\n",
    "        if alpha3 == '':\n",
    "            return {}\n",
    "        else:\n",
    "            ret['name'] = alpha3\n",
    "    elif name in city2latlon:\n",
    "        ret['name'] = name\n",
    "        ret['lat'] = city2latlon[name]['lat']\n",
    "        ret['lon'] = city2latlon[name]['lon']\n",
    "    else:\n",
    "        return None\n",
    "    return ret\n",
    "    \n",
    "assert lookup_placename('France') == {'name':'FRA'}\n",
    "assert lookup_placename('Seattle') == {'name': 'Seattle', 'lat': 47.606209, 'lon': -122.332071}"
   ]
  },
  {
   "cell_type": "code",
   "execution_count": 25,
   "metadata": {
    "collapsed": false
   },
   "outputs": [],
   "source": [
    "def translate_csv(url):\n",
    "    out = cStringIO.StringIO()\n",
    "    writer = csv.writer(out)\n",
    "    \n",
    "    data = read_csv(url)\n",
    "    # print 'Read %d rows from %s' % (len(data.values), url)\n",
    "\n",
    "    header = list(data.columns.values)\n",
    "    \n",
    "    insert_latlon = not (header[1][0:3].lower() == 'lat' and header[2][0:3].lower() == 'lon')\n",
    "    \n",
    "    if insert_latlon:\n",
    "        # Insert lat, lon columns\n",
    "        header = header[0:1] + ['lat', 'lon'] + header[1:]\n",
    "    \n",
    "    writer.writerow(header)\n",
    "\n",
    "    for row in data.values:\n",
    "        row = list(row)\n",
    "        placename = row[0].strip()\n",
    "        \n",
    "        place = lookup_placename(placename)\n",
    "        \n",
    "        if place == None:\n",
    "            # print '%s has no mapping' % placename\n",
    "            continue\n",
    "            \n",
    "        if place == {}:\n",
    "            # Ignore\n",
    "            continue\n",
    "        \n",
    "        row[0] = place['name']\n",
    "        \n",
    "        if insert_latlon:\n",
    "            row = row[0:1] + ['',''] + row[1:]\n",
    "        \n",
    "        if row[1].strip() == '' and row[2].strip() == '' and 'lat' in place:\n",
    "            row[1] = place['lat']\n",
    "            row[2] = place['lon']\n",
    "            \n",
    "        writer.writerow(row)\n",
    "            \n",
    "    return out.getvalue() \n",
    "  \n",
    "# cities test    \n",
    "# print translate_csv('https://docs.google.com/spreadsheets/d/1VK53HFXOENP435dwIQQvl7tgE0hPS10OYeuSPqqFmtw/edit#gid=1090282465')\n",
    "\n",
    "# print translate_csv('http://docs.google.com/spreadsheet/pub?key=pyj6tScZqmEcjeKHnZq6RIg&output=csv')\n",
    "# print translate_placenames('http://docs.google.com/spreadsheet/pub?key=phAwcNAVuyj1NHPC9MyZ9SQ&output=csv')\n",
    "# translate_placenames('http://docs.google.com/spreadsheet/pub?key=phAwcNAVuyj0XOoBL_n5tAQ&output=csv')\n",
    "# translate_placenames('http://docs.google.com/spreadsheet/pub?key=0ArfEDsV3bBwCdERNZmlfUGM5YVE3bmEwODdlRDFqSkE&output=csv')\n",
    "# translate_placenames('http://data.cmucreatelab.org/earthtime/LuxembourgIncomeStudy/Gini_Coefficient.csv')\n",
    "# translate_placenames('https://data.cmucreatelab.org/earthtime/IRENA/Solar.Electricity_capacity_MW.csv')\n",
    "# translate_placenames('https://data.cmucreatelab.org/earthtime/IRENA/Wind.Electricity_capacity_MW.csv')\n",
    "# translate_placenames('http://docs-proxy.cmucreatelab.org/spreadsheets/d/1RnCeiV0MnvGncVCoNT0LO_XXAt7Z1E60nOw9-hjTdWo/export?format=csv&id=1RnCeiV0MnvGncVCoNT0LO_XXAt7Z1E60nOw9-hjTdWo&gid=1043704810')"
   ]
  },
  {
   "cell_type": "code",
   "execution_count": null,
   "metadata": {
    "collapsed": true
   },
   "outputs": [],
   "source": []
  },
  {
   "cell_type": "code",
   "execution_count": null,
   "metadata": {
    "collapsed": true
   },
   "outputs": [],
   "source": []
  }
 ],
 "metadata": {
  "kernelspec": {
   "display_name": "Python 2",
   "language": "python",
   "name": "python2"
  },
  "language_info": {
   "codemirror_mode": {
    "name": "ipython",
    "version": 2
   },
   "file_extension": ".py",
   "mimetype": "text/x-python",
   "name": "python",
   "nbconvert_exporter": "python",
   "pygments_lexer": "ipython2",
   "version": "2.7.11"
  }
 },
 "nbformat": 4,
 "nbformat_minor": 0
}
